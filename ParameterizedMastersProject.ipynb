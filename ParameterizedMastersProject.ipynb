{
 "cells": [
  {
   "cell_type": "code",
   "execution_count": 1,
   "id": "6aecfabf",
   "metadata": {
    "execution": {
     "iopub.execute_input": "2023-02-23T18:47:20.891646Z",
     "iopub.status.busy": "2023-02-23T18:47:20.891382Z",
     "iopub.status.idle": "2023-02-23T18:47:21.370319Z",
     "shell.execute_reply": "2023-02-23T18:47:21.369671Z"
    },
    "papermill": {
     "duration": 0.485712,
     "end_time": "2023-02-23T18:47:21.372189",
     "exception": false,
     "start_time": "2023-02-23T18:47:20.886477",
     "status": "completed"
    },
    "tags": []
   },
   "outputs": [],
   "source": [
    "import pandas as pd\n",
    "import numpy as np\n",
    "import os\n",
    "from pathlib import Path\n",
    "import subprocess\n",
    "from pyspark.sql import SparkSession\n",
    "from pyspark.sql.types import *\n",
    "from Bio import SeqIO"
   ]
  },
  {
   "cell_type": "code",
   "execution_count": 2,
   "id": "fd49ffca",
   "metadata": {
    "execution": {
     "iopub.execute_input": "2023-02-23T18:47:21.378957Z",
     "iopub.status.busy": "2023-02-23T18:47:21.378709Z",
     "iopub.status.idle": "2023-02-23T18:47:25.572458Z",
     "shell.execute_reply": "2023-02-23T18:47:25.571749Z"
    },
    "papermill": {
     "duration": 4.198696,
     "end_time": "2023-02-23T18:47:25.574208",
     "exception": false,
     "start_time": "2023-02-23T18:47:21.375512",
     "status": "completed"
    },
    "tags": []
   },
   "outputs": [
    {
     "name": "stderr",
     "output_type": "stream",
     "text": [
      "Setting default log level to \"WARN\".\n",
      "To adjust logging level use sc.setLogLevel(newLevel). For SparkR, use setLogLevel(newLevel).\n"
     ]
    },
    {
     "name": "stdout",
     "output_type": "stream",
     "text": [
      "23/02/23 18:47:23 WARN NativeCodeLoader: Unable to load native-hadoop library for your platform... using builtin-java classes where applicable\n"
     ]
    },
    {
     "name": "stdout",
     "output_type": "stream",
     "text": [
      "23/02/23 18:47:24 WARN Utils: Service 'SparkUI' could not bind on port 4040. Attempting port 4041.\n"
     ]
    }
   ],
   "source": [
    "spark = SparkSession.builder.appName('MastersProject').getOrCreate()"
   ]
  },
  {
   "cell_type": "code",
   "execution_count": 3,
   "id": "f9622609",
   "metadata": {
    "execution": {
     "iopub.execute_input": "2023-02-23T18:47:25.583305Z",
     "iopub.status.busy": "2023-02-23T18:47:25.582527Z",
     "iopub.status.idle": "2023-02-23T18:47:25.586331Z",
     "shell.execute_reply": "2023-02-23T18:47:25.585775Z"
    },
    "papermill": {
     "duration": 0.010532,
     "end_time": "2023-02-23T18:47:25.588056",
     "exception": false,
     "start_time": "2023-02-23T18:47:25.577524",
     "status": "completed"
    },
    "tags": [
     "parameters"
    ]
   },
   "outputs": [],
   "source": [
    "taxon = '\\\"Escherichia coli\\\"'\n",
    "pwd = \"/home/infosebi/Documents/MastersProject\""
   ]
  },
  {
   "cell_type": "code",
   "execution_count": 4,
   "id": "c4d20d21",
   "metadata": {
    "execution": {
     "iopub.execute_input": "2023-02-23T18:47:25.594679Z",
     "iopub.status.busy": "2023-02-23T18:47:25.594480Z",
     "iopub.status.idle": "2023-02-23T18:47:25.597094Z",
     "shell.execute_reply": "2023-02-23T18:47:25.596671Z"
    },
    "papermill": {
     "duration": 0.007018,
     "end_time": "2023-02-23T18:47:25.598329",
     "exception": false,
     "start_time": "2023-02-23T18:47:25.591311",
     "status": "completed"
    },
    "tags": [
     "injected-parameters"
    ]
   },
   "outputs": [],
   "source": [
    "# Parameters\n",
    "taxon = \"'Deinococcus radiodurans'\"\n",
    "pwd = \"/home/infosebi/Documents/MastersProject\"\n"
   ]
  },
  {
   "cell_type": "code",
   "execution_count": 5,
   "id": "fdde1723",
   "metadata": {
    "execution": {
     "iopub.execute_input": "2023-02-23T18:47:25.604826Z",
     "iopub.status.busy": "2023-02-23T18:47:25.604585Z",
     "iopub.status.idle": "2023-02-23T18:47:26.503312Z",
     "shell.execute_reply": "2023-02-23T18:47:26.502611Z"
    },
    "papermill": {
     "duration": 0.904534,
     "end_time": "2023-02-23T18:47:26.505126",
     "exception": false,
     "start_time": "2023-02-23T18:47:25.600592",
     "status": "completed"
    },
    "tags": []
   },
   "outputs": [
    {
     "name": "stdout",
     "output_type": "stream",
     "text": [
      "8\n"
     ]
    },
    {
     "name": "stderr",
     "output_type": "stream",
     "text": [
      "New version of client (14.13.1) available at https://ftp.ncbi.nlm.nih.gov/pub/datasets/command-line/LATEST/linux-amd64/datasets\n"
     ]
    }
   ],
   "source": [
    "taxon_file = taxon.lower().replace(\" \", \"_\").replace(\"\\'\", \"\") + \"_complete\"\n",
    "subprocess.run(f\"\"\"./datasets summary genome taxon {str(taxon)} --assembly-level complete_genome --assembly-source genbank --annotated >  {taxon_file}.json\"\"\", shell=True)\n",
    "p = subprocess.Popen(f\"\"\"jq '.total_count' {taxon_file}.json\"\"\", stdout=subprocess.PIPE, shell=True)\n",
    "print(p.stdout.read().decode('ascii').strip())"
   ]
  },
  {
   "cell_type": "code",
   "execution_count": 6,
   "id": "bcb6ef94",
   "metadata": {
    "execution": {
     "iopub.execute_input": "2023-02-23T18:47:26.515817Z",
     "iopub.status.busy": "2023-02-23T18:47:26.514819Z",
     "iopub.status.idle": "2023-02-23T18:47:26.578407Z",
     "shell.execute_reply": "2023-02-23T18:47:26.577901Z"
    },
    "papermill": {
     "duration": 0.071805,
     "end_time": "2023-02-23T18:47:26.580671",
     "exception": false,
     "start_time": "2023-02-23T18:47:26.508866",
     "status": "completed"
    },
    "tags": []
   },
   "outputs": [
    {
     "data": {
      "text/plain": [
       "CompletedProcess(args=\"cat deinococcus_radiodurans_complete.json | jq -r '.assemblies[].assembly | [.assembly_accession, .org.strain, .org.tax_id, .seq_length, .gc_count, .contig_n50, .annotation_metadata.stats.gene_counts.total] | @tsv' | head -5 > info_table.tsv\", returncode=0)"
      ]
     },
     "execution_count": 6,
     "metadata": {},
     "output_type": "execute_result"
    }
   ],
   "source": [
    "subprocess.run(f\"cat {taxon_file}.json | jq -r '.assemblies[].assembly | [.assembly_accession, .org.strain, .org.tax_id, .seq_length, .gc_count, .contig_n50, .annotation_metadata.stats.gene_counts.total] | @tsv' | head -5 > info_table.tsv\", shell=True) "
   ]
  },
  {
   "cell_type": "code",
   "execution_count": 7,
   "id": "e3fbbd3a",
   "metadata": {
    "execution": {
     "iopub.execute_input": "2023-02-23T18:47:26.589033Z",
     "iopub.status.busy": "2023-02-23T18:47:26.588794Z",
     "iopub.status.idle": "2023-02-23T18:47:26.630535Z",
     "shell.execute_reply": "2023-02-23T18:47:26.629872Z"
    },
    "papermill": {
     "duration": 0.048832,
     "end_time": "2023-02-23T18:47:26.632951",
     "exception": false,
     "start_time": "2023-02-23T18:47:26.584119",
     "status": "completed"
    },
    "tags": []
   },
   "outputs": [
    {
     "data": {
      "text/plain": [
       "CompletedProcess(args='rm deinococcus_radiodurans_complete.json', returncode=0)"
      ]
     },
     "execution_count": 7,
     "metadata": {},
     "output_type": "execute_result"
    }
   ],
   "source": [
    "subprocess.run(f\"cat {taxon_file}.json | jq -r '.assemblies[].assembly| .assembly_accession' | head -5 > accession_list.txt\", shell=True)\n",
    "subprocess.run(f\"rm {taxon_file}.json\"\"\", shell=True)"
   ]
  },
  {
   "cell_type": "code",
   "execution_count": 8,
   "id": "ad12954c",
   "metadata": {
    "execution": {
     "iopub.execute_input": "2023-02-23T18:47:26.643973Z",
     "iopub.status.busy": "2023-02-23T18:47:26.643741Z",
     "iopub.status.idle": "2023-02-23T18:47:39.280174Z",
     "shell.execute_reply": "2023-02-23T18:47:39.279349Z"
    },
    "papermill": {
     "duration": 12.644348,
     "end_time": "2023-02-23T18:47:39.282681",
     "exception": false,
     "start_time": "2023-02-23T18:47:26.638333",
     "status": "completed"
    },
    "tags": []
   },
   "outputs": [
    {
     "name": "stdout",
     "output_type": "stream",
     "text": [
      "Downloading: deinococcus_radiodurans_complete.zip    3.55kB 7.89MB/s\n",
      "\u001b[1A\u001b[2KDownloading: deinococcus_radiodurans_complete.zip    3.55kB 7.89MB/s\n",
      "\u001b[1A\u001b[2KDownloading: deinococcus_radiodurans_complete.zip    3.55kB 7.89MB/s\n",
      "\u001b[1A\u001b[2KDownloading: deinococcus_radiodurans_complete.zip    3.55kB 7.89MB/s\n",
      "\u001b[1A\u001b[2KDownloading: deinococcus_radiodurans_complete.zip    3.55kB 7.89MB/s\n",
      "\u001b[1A\u001b[2KDownloading: deinococcus_radiodurans_complete.zip    3.55kB 7.89MB/s\n",
      "\u001b[1A\u001b[2KDownloading: deinococcus_radiodurans_complete.zip    3.55kB 7.89MB/s\n",
      "\u001b[1A\u001b[2KDownloading: deinococcus_radiodurans_complete.zip    3.55kB 7.89MB/s\n",
      "\u001b[1A\u001b[2KDownloading: deinococcus_radiodurans_complete.zip    3.65kB 40.8kB/s\n",
      "\u001b[1A\u001b[2KDownloading: deinococcus_radiodurans_complete.zip    3.65kB 40.8kB/s\n",
      "\u001b[1A\u001b[2KDownloading: deinococcus_radiodurans_complete.zip    3.65kB 40.8kB/s\n",
      "\u001b[1A\u001b[2KDownloading: deinococcus_radiodurans_complete.zip    3.65kB 40.8kB/s\n",
      "\u001b[1A\u001b[2KDownloading: deinococcus_radiodurans_complete.zip    3.65kB 40.8kB/s\n",
      "\u001b[1A\u001b[2KDownloading: deinococcus_radiodurans_complete.zip    3.65kB 40.8kB/s\n",
      "\u001b[1A\u001b[2KDownloading: deinococcus_radiodurans_complete.zip    3.65kB 40.8kB/s\n",
      "\u001b[1A\u001b[2KDownloading: deinococcus_radiodurans_complete.zip    3.65kB 40.8kB/s\n",
      "\u001b[1A\u001b[2KDownloading: deinococcus_radiodurans_complete.zip    3.65kB 40.8kB/s\n",
      "\u001b[1A\u001b[2KDownloading: deinococcus_radiodurans_complete.zip    3.65kB 40.8kB/s\n",
      "\u001b[1A\u001b[2KDownloading: deinococcus_radiodurans_complete.zip    3.65kB 40.8kB/s\n",
      "\u001b[1A\u001b[2KDownloading: deinococcus_radiodurans_complete.zip    3.65kB 40.8kB/s\n"
     ]
    },
    {
     "name": "stdout",
     "output_type": "stream",
     "text": [
      "\u001b[1A\u001b[2KDownloading: deinococcus_radiodurans_complete.zip    3.65kB 40.8kB/s\n",
      "\u001b[1A\u001b[2KDownloading: deinococcus_radiodurans_complete.zip    3.65kB 40.8kB/s\n",
      "\u001b[1A\u001b[2KDownloading: deinococcus_radiodurans_complete.zip    3.65kB 40.8kB/s\n",
      "\u001b[1A\u001b[2KDownloading: deinococcus_radiodurans_complete.zip    32.8kB 138kB/s\n",
      "\u001b[1A\u001b[2KDownloading: deinococcus_radiodurans_complete.zip    32.8kB 138kB/s\n",
      "\u001b[1A\u001b[2KDownloading: deinococcus_radiodurans_complete.zip    32.8kB 138kB/s\n",
      "\u001b[1A\u001b[2KDownloading: deinococcus_radiodurans_complete.zip    32.8kB 138kB/s\n",
      "\u001b[1A\u001b[2KDownloading: deinococcus_radiodurans_complete.zip    32.8kB 138kB/s\n",
      "\u001b[1A\u001b[2KDownloading: deinococcus_radiodurans_complete.zip    32.8kB 138kB/s\n",
      "\u001b[1A\u001b[2KDownloading: deinococcus_radiodurans_complete.zip    32.8kB 138kB/s\n",
      "\u001b[1A\u001b[2KDownloading: deinococcus_radiodurans_complete.zip    32.8kB 138kB/s\n",
      "\u001b[1A\u001b[2KDownloading: deinococcus_radiodurans_complete.zip    32.8kB 138kB/s\n",
      "\u001b[1A\u001b[2KDownloading: deinococcus_radiodurans_complete.zip    32.8kB 138kB/s\n",
      "\u001b[1A\u001b[2KDownloading: deinococcus_radiodurans_complete.zip    32.8kB 138kB/s\n",
      "\u001b[1A\u001b[2KDownloading: deinococcus_radiodurans_complete.zip    32.8kB 138kB/s\n",
      "\u001b[1A\u001b[2KDownloading: deinococcus_radiodurans_complete.zip    65.5kB 180kB/s\n",
      "\u001b[1A\u001b[2KDownloading: deinococcus_radiodurans_complete.zip    65.5kB 180kB/s\n",
      "\u001b[1A\u001b[2KDownloading: deinococcus_radiodurans_complete.zip    65.5kB 180kB/s\n",
      "\u001b[1A\u001b[2KDownloading: deinococcus_radiodurans_complete.zip    98.3kB 247kB/s\n",
      "\u001b[1A\u001b[2KDownloading: deinococcus_radiodurans_complete.zip    131kB 325kB/s\n"
     ]
    },
    {
     "name": "stdout",
     "output_type": "stream",
     "text": [
      "\u001b[1A\u001b[2KDownloading: deinococcus_radiodurans_complete.zip    131kB 325kB/s\n",
      "\u001b[1A\u001b[2KDownloading: deinococcus_radiodurans_complete.zip    131kB 325kB/s\n",
      "\u001b[1A\u001b[2KDownloading: deinococcus_radiodurans_complete.zip    131kB 325kB/s\n",
      "\u001b[1A\u001b[2KDownloading: deinococcus_radiodurans_complete.zip    131kB 325kB/s\n",
      "\u001b[1A\u001b[2KDownloading: deinococcus_radiodurans_complete.zip    131kB 325kB/s\n",
      "\u001b[1A\u001b[2KDownloading: deinococcus_radiodurans_complete.zip    131kB 325kB/s\n",
      "\u001b[1A\u001b[2KDownloading: deinococcus_radiodurans_complete.zip    131kB 325kB/s\n",
      "\u001b[1A\u001b[2KDownloading: deinococcus_radiodurans_complete.zip    197kB 397kB/s\n",
      "\u001b[1A\u001b[2KDownloading: deinococcus_radiodurans_complete.zip    197kB 397kB/s\n",
      "\u001b[1A\u001b[2KDownloading: deinococcus_radiodurans_complete.zip    197kB 397kB/s\n",
      "\u001b[1A\u001b[2KDownloading: deinococcus_radiodurans_complete.zip    197kB 397kB/s\n",
      "\u001b[1A\u001b[2KDownloading: deinococcus_radiodurans_complete.zip    295kB 549kB/s\n",
      "\u001b[1A\u001b[2KDownloading: deinococcus_radiodurans_complete.zip    295kB 549kB/s\n",
      "\u001b[1A\u001b[2KDownloading: deinococcus_radiodurans_complete.zip    295kB 549kB/s\n",
      "\u001b[1A\u001b[2KDownloading: deinococcus_radiodurans_complete.zip    295kB 549kB/s\n",
      "\u001b[1A\u001b[2KDownloading: deinococcus_radiodurans_complete.zip    295kB 549kB/s\n",
      "\u001b[1A\u001b[2KDownloading: deinococcus_radiodurans_complete.zip    295kB 549kB/s\n",
      "\u001b[1A\u001b[2KDownloading: deinococcus_radiodurans_complete.zip    295kB 549kB/s\n",
      "\u001b[1A\u001b[2KDownloading: deinococcus_radiodurans_complete.zip    295kB 549kB/s\n",
      "\u001b[1A\u001b[2KDownloading: deinococcus_radiodurans_complete.zip    328kB 528kB/s\n"
     ]
    },
    {
     "name": "stdout",
     "output_type": "stream",
     "text": [
      "\u001b[1A\u001b[2KDownloading: deinococcus_radiodurans_complete.zip    393kB 626kB/s\n",
      "\u001b[1A\u001b[2KDownloading: deinococcus_radiodurans_complete.zip    426kB 671kB/s\n",
      "\u001b[1A\u001b[2KDownloading: deinococcus_radiodurans_complete.zip    426kB 671kB/s\n",
      "\u001b[1A\u001b[2KDownloading: deinococcus_radiodurans_complete.zip    492kB 746kB/s\n",
      "\u001b[1A\u001b[2KDownloading: deinococcus_radiodurans_complete.zip    655kB 974kB/s\n",
      "\u001b[1A\u001b[2KDownloading: deinococcus_radiodurans_complete.zip    688kB 1.02MB/s\n",
      "\u001b[1A\u001b[2KDownloading: deinococcus_radiodurans_complete.zip    688kB 1.02MB/s\n",
      "\u001b[1A\u001b[2KDownloading: deinococcus_radiodurans_complete.zip    688kB 1.02MB/s\n",
      "\u001b[1A\u001b[2KDownloading: deinococcus_radiodurans_complete.zip    688kB 1.02MB/s\n",
      "\u001b[1A\u001b[2KDownloading: deinococcus_radiodurans_complete.zip    688kB 1.02MB/s\n",
      "\u001b[1A\u001b[2KDownloading: deinococcus_radiodurans_complete.zip    688kB 1.02MB/s\n",
      "\u001b[1A\u001b[2KDownloading: deinococcus_radiodurans_complete.zip    688kB 1.02MB/s\n",
      "\u001b[1A\u001b[2KDownloading: deinococcus_radiodurans_complete.zip    688kB 1.02MB/s\n",
      "\u001b[1A\u001b[2KDownloading: deinococcus_radiodurans_complete.zip    786kB 1.02MB/s\n",
      "\u001b[1A\u001b[2KDownloading: deinococcus_radiodurans_complete.zip    885kB 1.13MB/s\n",
      "\u001b[1A\u001b[2KDownloading: deinococcus_radiodurans_complete.zip    1.02MB 1.28MB/s\n",
      "\u001b[1A\u001b[2KDownloading: deinococcus_radiodurans_complete.zip    1.15MB 1.43MB/s\n",
      "\u001b[1A\u001b[2KDownloading: deinococcus_radiodurans_complete.zip    1.25MB 1.54MB/s\n",
      "\u001b[1A\u001b[2KDownloading: deinococcus_radiodurans_complete.zip    1.31MB 1.6MB/s\n"
     ]
    },
    {
     "name": "stdout",
     "output_type": "stream",
     "text": [
      "\u001b[1A\u001b[2KDownloading: deinococcus_radiodurans_complete.zip    1.34MB 1.63MB/s\n",
      "\u001b[1A\u001b[2KDownloading: deinococcus_radiodurans_complete.zip    1.34MB 1.63MB/s\n",
      "\u001b[1A\u001b[2KDownloading: deinococcus_radiodurans_complete.zip    1.38MB 1.62MB/s\n",
      "\u001b[1A\u001b[2KDownloading: deinococcus_radiodurans_complete.zip    1.38MB 1.62MB/s\n",
      "\u001b[1A\u001b[2KDownloading: deinococcus_radiodurans_complete.zip    1.38MB 1.62MB/s\n",
      "\u001b[1A\u001b[2KDownloading: deinococcus_radiodurans_complete.zip    1.41MB 1.6MB/s\n",
      "\u001b[1A\u001b[2KDownloading: deinococcus_radiodurans_complete.zip    1.44MB 1.62MB/s\n",
      "\u001b[1A\u001b[2KDownloading: deinococcus_radiodurans_complete.zip    1.54MB 1.7MB/s\n",
      "\u001b[1A\u001b[2KDownloading: deinococcus_radiodurans_complete.zip    1.64MB 1.78MB/s\n",
      "\u001b[1A\u001b[2KDownloading: deinococcus_radiodurans_complete.zip    1.74MB 1.87MB/s\n",
      "\u001b[1A\u001b[2KDownloading: deinococcus_radiodurans_complete.zip    1.8MB 1.93MB/s\n",
      "\u001b[1A\u001b[2KDownloading: deinococcus_radiodurans_complete.zip    1.8MB 1.93MB/s\n",
      "\u001b[1A\u001b[2KDownloading: deinococcus_radiodurans_complete.zip    1.8MB 1.93MB/s\n",
      "\u001b[1A\u001b[2KDownloading: deinococcus_radiodurans_complete.zip    1.8MB 1.93MB/s\n",
      "\u001b[1A\u001b[2KDownloading: deinococcus_radiodurans_complete.zip    1.8MB 1.93MB/s\n",
      "\u001b[1A\u001b[2KDownloading: deinococcus_radiodurans_complete.zip    1.8MB 1.93MB/s\n",
      "\u001b[1A\u001b[2KDownloading: deinococcus_radiodurans_complete.zip    1.8MB 1.93MB/s\n",
      "\u001b[1A\u001b[2KDownloading: deinococcus_radiodurans_complete.zip    1.8MB 1.93MB/s\n",
      "\u001b[1A\u001b[2KDownloading: deinococcus_radiodurans_complete.zip    1.8MB 1.93MB/s\n",
      "\u001b[1A\u001b[2KDownloading: deinococcus_radiodurans_complete.zip    1.8MB 1.93MB/s\n"
     ]
    },
    {
     "name": "stdout",
     "output_type": "stream",
     "text": [
      "\u001b[1A\u001b[2KDownloading: deinococcus_radiodurans_complete.zip    1.8MB 1.93MB/s\n",
      "\u001b[1A\u001b[2KDownloading: deinococcus_radiodurans_complete.zip    1.8MB 1.93MB/s\n",
      "\u001b[1A\u001b[2KDownloading: deinococcus_radiodurans_complete.zip    1.8MB 1.93MB/s\n",
      "\u001b[1A\u001b[2KDownloading: deinococcus_radiodurans_complete.zip    1.8MB 1.93MB/s\n",
      "\u001b[1A\u001b[2KDownloading: deinococcus_radiodurans_complete.zip    1.8MB 1.93MB/s\n",
      "\u001b[1A\u001b[2KDownloading: deinococcus_radiodurans_complete.zip    1.8MB 1.93MB/s\n",
      "\u001b[1A\u001b[2KDownloading: deinococcus_radiodurans_complete.zip    1.8MB 1.93MB/s\n",
      "\u001b[1A\u001b[2KDownloading: deinococcus_radiodurans_complete.zip    2.13MB 1.9MB/s\n",
      "\u001b[1A\u001b[2KDownloading: deinococcus_radiodurans_complete.zip    3.44MB 3MB/s\n",
      "\u001b[1A\u001b[2KDownloading: deinococcus_radiodurans_complete.zip    3.44MB 3MB/s\n",
      "\u001b[1A\u001b[2KDownloading: deinococcus_radiodurans_complete.zip    3.44MB 3MB/s\n",
      "\u001b[1A\u001b[2KDownloading: deinococcus_radiodurans_complete.zip    3.44MB 3MB/s\n",
      "\u001b[1A\u001b[2KDownloading: deinococcus_radiodurans_complete.zip    3.44MB 3MB/s\n",
      "\u001b[1A\u001b[2KDownloading: deinococcus_radiodurans_complete.zip    3.44MB 3MB/s\n",
      "\u001b[1A\u001b[2KDownloading: deinococcus_radiodurans_complete.zip    3.44MB 3MB/s\n",
      "\u001b[1A\u001b[2KDownloading: deinococcus_radiodurans_complete.zip    3.44MB 3MB/s\n",
      "\u001b[1A\u001b[2KDownloading: deinococcus_radiodurans_complete.zip    3.44MB 3MB/s\n",
      "\u001b[1A\u001b[2KDownloading: deinococcus_radiodurans_complete.zip    3.44MB 3MB/s\n"
     ]
    },
    {
     "name": "stdout",
     "output_type": "stream",
     "text": [
      "\u001b[1A\u001b[2KDownloading: deinococcus_radiodurans_complete.zip    3.44MB 3MB/s\n",
      "\u001b[1A\u001b[2KDownloading: deinococcus_radiodurans_complete.zip    3.44MB 3MB/s\n",
      "\u001b[1A\u001b[2KDownloading: deinococcus_radiodurans_complete.zip    3.44MB 3MB/s\n",
      "\u001b[1A\u001b[2KDownloading: deinococcus_radiodurans_complete.zip    3.44MB 3MB/s\n",
      "\u001b[1A\u001b[2KDownloading: deinococcus_radiodurans_complete.zip    3.64MB 2.82MB/s\n",
      "\u001b[1A\u001b[2KDownloading: deinococcus_radiodurans_complete.zip    3.64MB 2.82MB/s\n",
      "\u001b[1A\u001b[2KDownloading: deinococcus_radiodurans_complete.zip    3.64MB 2.82MB/s\n",
      "\u001b[1A\u001b[2KDownloading: deinococcus_radiodurans_complete.zip    3.64MB 2.82MB/s\n",
      "\u001b[1A\u001b[2KDownloading: deinococcus_radiodurans_complete.zip    3.64MB 2.82MB/s\n",
      "\u001b[1A\u001b[2KDownloading: deinococcus_radiodurans_complete.zip    3.64MB 2.82MB/s\n",
      "\u001b[1A\u001b[2KDownloading: deinococcus_radiodurans_complete.zip    3.64MB 2.82MB/s\n",
      "\u001b[1A\u001b[2KDownloading: deinococcus_radiodurans_complete.zip    3.64MB 2.82MB/s\n",
      "\u001b[1A\u001b[2KDownloading: deinococcus_radiodurans_complete.zip    3.64MB 2.82MB/s\n",
      "\u001b[1A\u001b[2KDownloading: deinococcus_radiodurans_complete.zip    3.64MB 2.82MB/s\n",
      "\u001b[1A\u001b[2KDownloading: deinococcus_radiodurans_complete.zip    3.64MB 2.82MB/s\n",
      "\u001b[1A\u001b[2KDownloading: deinococcus_radiodurans_complete.zip    3.64MB 2.82MB/s\n",
      "\u001b[1A\u001b[2KDownloading: deinococcus_radiodurans_complete.zip    3.64MB 2.82MB/s\n",
      "\u001b[1A\u001b[2KDownloading: deinococcus_radiodurans_complete.zip    3.64MB 2.82MB/s\n",
      "\u001b[1A\u001b[2KDownloading: deinococcus_radiodurans_complete.zip    3.64MB 2.82MB/s\n",
      "\u001b[1A\u001b[2KDownloading: deinococcus_radiodurans_complete.zip    3.64MB 2.82MB/s\n"
     ]
    },
    {
     "name": "stdout",
     "output_type": "stream",
     "text": [
      "\u001b[1A\u001b[2KDownloading: deinococcus_radiodurans_complete.zip    3.64MB 2.82MB/s\n",
      "\u001b[1A\u001b[2KDownloading: deinococcus_radiodurans_complete.zip    3.64MB 2.82MB/s\n",
      "\u001b[1A\u001b[2KDownloading: deinococcus_radiodurans_complete.zip    3.64MB 2.82MB/s\n",
      "\u001b[1A\u001b[2KDownloading: deinococcus_radiodurans_complete.zip    3.64MB 2.82MB/s\n",
      "\u001b[1A\u001b[2KDownloading: deinococcus_radiodurans_complete.zip    3.64MB 2.82MB/s\n",
      "\u001b[1A\u001b[2KDownloading: deinococcus_radiodurans_complete.zip    3.64MB 2.82MB/s\n",
      "\u001b[1A\u001b[2KDownloading: deinococcus_radiodurans_complete.zip    3.64MB 2.82MB/s\n",
      "\u001b[1A\u001b[2KDownloading: deinococcus_radiodurans_complete.zip    3.64MB 2.82MB/s\n",
      "\u001b[1A\u001b[2KDownloading: deinococcus_radiodurans_complete.zip    3.64MB 2.82MB/s\n",
      "\u001b[1A\u001b[2KDownloading: deinococcus_radiodurans_complete.zip    3.64MB 2.82MB/s\n",
      "\u001b[1A\u001b[2KDownloading: deinococcus_radiodurans_complete.zip    3.64MB 2.82MB/s\n",
      "\u001b[1A\u001b[2KDownloading: deinococcus_radiodurans_complete.zip    3.64MB 2.82MB/s\n",
      "\u001b[1A\u001b[2KDownloading: deinococcus_radiodurans_complete.zip    3.64MB 2.82MB/s\n",
      "\u001b[1A\u001b[2KDownloading: deinococcus_radiodurans_complete.zip    3.64MB 2.82MB/s\n",
      "\u001b[1A\u001b[2KDownloading: deinococcus_radiodurans_complete.zip    3.64MB 2.82MB/s\n",
      "\u001b[1A\u001b[2KDownloading: deinococcus_radiodurans_complete.zip    3.64MB 2.82MB/s\n",
      "\u001b[1A\u001b[2KDownloading: deinococcus_radiodurans_complete.zip    3.64MB 2.82MB/s\n",
      "\u001b[1A\u001b[2KDownloading: deinococcus_radiodurans_complete.zip    3.64MB 2.82MB/s\n",
      "\u001b[1A\u001b[2KDownloading: deinococcus_radiodurans_complete.zip    3.64MB 2.82MB/s\n",
      "\u001b[1A\u001b[2KDownloading: deinococcus_radiodurans_complete.zip    3.64MB 2.82MB/s\n"
     ]
    },
    {
     "name": "stdout",
     "output_type": "stream",
     "text": [
      "\u001b[1A\u001b[2KDownloading: deinococcus_radiodurans_complete.zip    3.64MB 2.82MB/s\n",
      "\u001b[1A\u001b[2KDownloading: deinococcus_radiodurans_complete.zip    3.64MB 2.82MB/s\n",
      "\u001b[1A\u001b[2KDownloading: deinococcus_radiodurans_complete.zip    3.64MB 2.82MB/s\n",
      "\u001b[1A\u001b[2KDownloading: deinococcus_radiodurans_complete.zip    3.64MB 2.82MB/s\n",
      "\u001b[1A\u001b[2KDownloading: deinococcus_radiodurans_complete.zip    3.64MB 2.82MB/s\n",
      "\u001b[1A\u001b[2KDownloading: deinococcus_radiodurans_complete.zip    3.64MB 2.82MB/s\n",
      "\u001b[1A\u001b[2KDownloading: deinococcus_radiodurans_complete.zip    3.64MB 2.82MB/s\n",
      "\u001b[1A\u001b[2KDownloading: deinococcus_radiodurans_complete.zip    3.64MB 2.82MB/s\n",
      "\u001b[1A\u001b[2KDownloading: deinococcus_radiodurans_complete.zip    3.64MB 2.82MB/s\n",
      "\u001b[1A\u001b[2KDownloading: deinococcus_radiodurans_complete.zip    3.64MB 2.82MB/s\n",
      "\u001b[1A\u001b[2KDownloading: deinococcus_radiodurans_complete.zip    3.64MB 2.82MB/s\n",
      "\u001b[1A\u001b[2KDownloading: deinococcus_radiodurans_complete.zip    3.64MB 2.82MB/s\n",
      "\u001b[1A\u001b[2KDownloading: deinococcus_radiodurans_complete.zip    3.64MB 2.82MB/s\n",
      "\u001b[1A\u001b[2KDownloading: deinococcus_radiodurans_complete.zip    3.64MB 2.82MB/s\n",
      "\u001b[1A\u001b[2KDownloading: deinococcus_radiodurans_complete.zip    3.64MB 2.82MB/s\n",
      "\u001b[1A\u001b[2KDownloading: deinococcus_radiodurans_complete.zip    3.64MB 2.82MB/s\n",
      "\u001b[1A\u001b[2KDownloading: deinococcus_radiodurans_complete.zip    3.64MB 2.82MB/s\n",
      "\u001b[1A\u001b[2KDownloading: deinococcus_radiodurans_complete.zip    3.64MB 2.82MB/s\n",
      "\u001b[1A\u001b[2KDownloading: deinococcus_radiodurans_complete.zip    3.64MB 2.82MB/s\n",
      "\u001b[1A\u001b[2KDownloading: deinococcus_radiodurans_complete.zip    3.64MB 2.82MB/s\n"
     ]
    },
    {
     "name": "stdout",
     "output_type": "stream",
     "text": [
      "\u001b[1A\u001b[2KDownloading: deinococcus_radiodurans_complete.zip    3.64MB 2.82MB/s\n",
      "\u001b[1A\u001b[2KDownloading: deinococcus_radiodurans_complete.zip    3.64MB 2.82MB/s\n",
      "\u001b[1A\u001b[2KDownloading: deinococcus_radiodurans_complete.zip    3.64MB 2.82MB/s\n",
      "\u001b[1A\u001b[2KDownloading: deinococcus_radiodurans_complete.zip    3.64MB 2.82MB/s\n",
      "\u001b[1A\u001b[2KDownloading: deinococcus_radiodurans_complete.zip    3.64MB 2.82MB/s\n",
      "\u001b[1A\u001b[2KDownloading: deinococcus_radiodurans_complete.zip    3.64MB 2.82MB/s\n",
      "\u001b[1A\u001b[2KDownloading: deinococcus_radiodurans_complete.zip    3.64MB 2.82MB/s\n",
      "\u001b[1A\u001b[2KDownloading: deinococcus_radiodurans_complete.zip    3.64MB 2.82MB/s\n",
      "\u001b[1A\u001b[2KDownloading: deinococcus_radiodurans_complete.zip    3.64MB 2.82MB/s\n",
      "\u001b[1A\u001b[2KDownloading: deinococcus_radiodurans_complete.zip    3.64MB 2.82MB/s\n",
      "\u001b[1A\u001b[2KDownloading: deinococcus_radiodurans_complete.zip    3.64MB 2.82MB/s\n",
      "\u001b[1A\u001b[2KDownloading: deinococcus_radiodurans_complete.zip    3.64MB 2.82MB/s\n",
      "\u001b[1A\u001b[2KDownloading: deinococcus_radiodurans_complete.zip    3.64MB 2.82MB/s\n",
      "\u001b[1A\u001b[2KDownloading: deinococcus_radiodurans_complete.zip    3.64MB 2.82MB/s\n",
      "\u001b[1A\u001b[2KDownloading: deinococcus_radiodurans_complete.zip    3.64MB 2.82MB/s\n",
      "\u001b[1A\u001b[2KDownloading: deinococcus_radiodurans_complete.zip    3.64MB 2.82MB/s\n",
      "\u001b[1A\u001b[2KDownloading: deinococcus_radiodurans_complete.zip    3.64MB 2.82MB/s\n",
      "\u001b[1A\u001b[2KDownloading: deinococcus_radiodurans_complete.zip    3.64MB 2.82MB/s\n",
      "\u001b[1A\u001b[2KDownloading: deinococcus_radiodurans_complete.zip    3.64MB 2.82MB/s\n",
      "\u001b[1A\u001b[2KDownloading: deinococcus_radiodurans_complete.zip    3.64MB 2.82MB/s\n"
     ]
    },
    {
     "name": "stdout",
     "output_type": "stream",
     "text": [
      "\u001b[1A\u001b[2KDownloading: deinococcus_radiodurans_complete.zip    3.64MB 2.82MB/s\n",
      "\u001b[1A\u001b[2KDownloading: deinococcus_radiodurans_complete.zip    3.64MB 2.82MB/s\n",
      "\u001b[1A\u001b[2KDownloading: deinococcus_radiodurans_complete.zip    3.64MB 2.82MB/s\n",
      "\u001b[1A\u001b[2KDownloading: deinococcus_radiodurans_complete.zip    4.06MB 1.92MB/s\n",
      "\u001b[1A\u001b[2KDownloading: deinococcus_radiodurans_complete.zip    4.06MB 1.92MB/s\n",
      "\u001b[1A\u001b[2KDownloading: deinococcus_radiodurans_complete.zip    4.06MB 1.92MB/s\n",
      "\u001b[1A\u001b[2KDownloading: deinococcus_radiodurans_complete.zip    4.06MB 1.92MB/s\n",
      "\u001b[1A\u001b[2KDownloading: deinococcus_radiodurans_complete.zip    4.06MB 1.92MB/s\n",
      "\u001b[1A\u001b[2KDownloading: deinococcus_radiodurans_complete.zip    4.06MB 1.92MB/s\n",
      "\u001b[1A\u001b[2KDownloading: deinococcus_radiodurans_complete.zip    4.06MB 1.92MB/s\n",
      "\u001b[1A\u001b[2KDownloading: deinococcus_radiodurans_complete.zip    4.06MB 1.92MB/s\n",
      "\u001b[1A\u001b[2KDownloading: deinococcus_radiodurans_complete.zip    4.06MB 1.92MB/s\n",
      "\u001b[1A\u001b[2KDownloading: deinococcus_radiodurans_complete.zip    4.06MB 1.92MB/s\n",
      "\u001b[1A\u001b[2KDownloading: deinococcus_radiodurans_complete.zip    4.06MB 1.92MB/s\n",
      "\u001b[1A\u001b[2KDownloading: deinococcus_radiodurans_complete.zip    4.06MB 1.92MB/s\n",
      "\u001b[1A\u001b[2KDownloading: deinococcus_radiodurans_complete.zip    4.06MB 1.92MB/s\n",
      "\u001b[1A\u001b[2KDownloading: deinococcus_radiodurans_complete.zip    4.06MB 1.92MB/s\n",
      "\u001b[1A\u001b[2KDownloading: deinococcus_radiodurans_complete.zip    4.06MB 1.92MB/s\n",
      "\u001b[1A\u001b[2KDownloading: deinococcus_radiodurans_complete.zip    4.06MB 1.92MB/s\n"
     ]
    },
    {
     "name": "stdout",
     "output_type": "stream",
     "text": [
      "\u001b[1A\u001b[2KDownloading: deinococcus_radiodurans_complete.zip    4.06MB 1.92MB/s\n",
      "\u001b[1A\u001b[2KDownloading: deinococcus_radiodurans_complete.zip    4.06MB 1.92MB/s\n",
      "\u001b[1A\u001b[2KDownloading: deinococcus_radiodurans_complete.zip    4.06MB 1.92MB/s\n",
      "\u001b[1A\u001b[2KDownloading: deinococcus_radiodurans_complete.zip    4.06MB 1.92MB/s\n",
      "\u001b[1A\u001b[2KDownloading: deinococcus_radiodurans_complete.zip    4.06MB 1.92MB/s\n",
      "\u001b[1A\u001b[2KDownloading: deinococcus_radiodurans_complete.zip    4.06MB 1.92MB/s\n",
      "\u001b[1A\u001b[2KDownloading: deinococcus_radiodurans_complete.zip    4.06MB 1.92MB/s\n",
      "\u001b[1A\u001b[2KDownloading: deinococcus_radiodurans_complete.zip    4.06MB 1.92MB/s\n",
      "\u001b[1A\u001b[2KDownloading: deinococcus_radiodurans_complete.zip    4.06MB 1.92MB/s\n",
      "\u001b[1A\u001b[2KDownloading: deinococcus_radiodurans_complete.zip    4.06MB 1.92MB/s\n",
      "\u001b[1A\u001b[2KDownloading: deinococcus_radiodurans_complete.zip    4.06MB 1.92MB/s\n",
      "\u001b[1A\u001b[2KDownloading: deinococcus_radiodurans_complete.zip    4.06MB 1.92MB/s\n",
      "\u001b[1A\u001b[2KDownloading: deinococcus_radiodurans_complete.zip    4.06MB 1.92MB/s\n",
      "\u001b[1A\u001b[2KDownloading: deinococcus_radiodurans_complete.zip    4.06MB 1.92MB/s\n",
      "\u001b[1A\u001b[2KDownloading: deinococcus_radiodurans_complete.zip    4.06MB 1.92MB/s\n",
      "\u001b[1A\u001b[2KDownloading: deinococcus_radiodurans_complete.zip    4.06MB 1.92MB/s\n",
      "\u001b[1A\u001b[2KDownloading: deinococcus_radiodurans_complete.zip    4.06MB 1.92MB/s\n",
      "\u001b[1A\u001b[2KDownloading: deinococcus_radiodurans_complete.zip    4.06MB 1.92MB/s\n",
      "\u001b[1A\u001b[2KDownloading: deinococcus_radiodurans_complete.zip    4.06MB 1.92MB/s\n",
      "\u001b[1A\u001b[2KDownloading: deinococcus_radiodurans_complete.zip    4.06MB 1.92MB/s\n"
     ]
    },
    {
     "name": "stdout",
     "output_type": "stream",
     "text": [
      "\u001b[1A\u001b[2KDownloading: deinococcus_radiodurans_complete.zip    4.06MB 1.92MB/s\n",
      "\u001b[1A\u001b[2KDownloading: deinococcus_radiodurans_complete.zip    4.06MB 1.92MB/s\n",
      "\u001b[1A\u001b[2KDownloading: deinococcus_radiodurans_complete.zip    4.06MB 1.92MB/s\n",
      "\u001b[1A\u001b[2KDownloading: deinococcus_radiodurans_complete.zip    4.06MB 1.92MB/s\n",
      "\u001b[1A\u001b[2KDownloading: deinococcus_radiodurans_complete.zip    4.06MB 1.92MB/s\n",
      "\u001b[1A\u001b[2KDownloading: deinococcus_radiodurans_complete.zip    4.06MB 1.92MB/s\n",
      "\u001b[1A\u001b[2KDownloading: deinococcus_radiodurans_complete.zip    4.06MB 1.92MB/s\n",
      "\u001b[1A\u001b[2KDownloading: deinococcus_radiodurans_complete.zip    4.06MB 1.92MB/s\n",
      "\u001b[1A\u001b[2KDownloading: deinococcus_radiodurans_complete.zip    4.06MB 1.92MB/s\n",
      "\u001b[1A\u001b[2KDownloading: deinococcus_radiodurans_complete.zip    4.06MB 1.92MB/s\n",
      "\u001b[1A\u001b[2KDownloading: deinococcus_radiodurans_complete.zip    4.06MB 1.92MB/s\n",
      "\u001b[1A\u001b[2KDownloading: deinococcus_radiodurans_complete.zip    4.06MB 1.92MB/s\n",
      "\u001b[1A\u001b[2KDownloading: deinococcus_radiodurans_complete.zip    4.06MB 1.92MB/s\n",
      "\u001b[1A\u001b[2KDownloading: deinococcus_radiodurans_complete.zip    4.06MB 1.92MB/s\n",
      "\u001b[1A\u001b[2KDownloading: deinococcus_radiodurans_complete.zip    4.06MB 1.92MB/s\n",
      "\u001b[1A\u001b[2KDownloading: deinococcus_radiodurans_complete.zip    4.06MB 1.92MB/s\n",
      "\u001b[1A\u001b[2KDownloading: deinococcus_radiodurans_complete.zip    4.06MB 1.92MB/s\n",
      "\u001b[1A\u001b[2KDownloading: deinococcus_radiodurans_complete.zip    4.06MB 1.92MB/s\n",
      "\u001b[1A\u001b[2KDownloading: deinococcus_radiodurans_complete.zip    4.06MB 1.92MB/s\n",
      "\u001b[1A\u001b[2KDownloading: deinococcus_radiodurans_complete.zip    4.06MB 1.92MB/s\n"
     ]
    },
    {
     "name": "stdout",
     "output_type": "stream",
     "text": [
      "\u001b[1A\u001b[2KDownloading: deinococcus_radiodurans_complete.zip    4.06MB 1.92MB/s\n",
      "\u001b[1A\u001b[2KDownloading: deinococcus_radiodurans_complete.zip    4.06MB 1.92MB/s\n",
      "\u001b[1A\u001b[2KDownloading: deinococcus_radiodurans_complete.zip    4.06MB 1.92MB/s\n",
      "\u001b[1A\u001b[2KDownloading: deinococcus_radiodurans_complete.zip    4.06MB 1.92MB/s\n",
      "\u001b[1A\u001b[2KDownloading: deinococcus_radiodurans_complete.zip    4.06MB 1.92MB/s\n",
      "\u001b[1A\u001b[2KDownloading: deinococcus_radiodurans_complete.zip    4.06MB 1.92MB/s\n",
      "\u001b[1A\u001b[2KDownloading: deinococcus_radiodurans_complete.zip    4.06MB 1.92MB/s\n",
      "\u001b[1A\u001b[2KDownloading: deinococcus_radiodurans_complete.zip    4.06MB 1.92MB/s\n",
      "\u001b[1A\u001b[2KDownloading: deinococcus_radiodurans_complete.zip    4.06MB 1.92MB/s\n",
      "\u001b[1A\u001b[2KDownloading: deinococcus_radiodurans_complete.zip    4.06MB 1.92MB/s\n",
      "\u001b[1A\u001b[2KDownloading: deinococcus_radiodurans_complete.zip    4.06MB 1.92MB/s\n",
      "\u001b[1A\u001b[2KDownloading: deinococcus_radiodurans_complete.zip    4.06MB 1.92MB/s\n",
      "\u001b[1A\u001b[2KDownloading: deinococcus_radiodurans_complete.zip    4.06MB 1.92MB/s\n",
      "\u001b[1A\u001b[2KDownloading: deinococcus_radiodurans_complete.zip    4.06MB 1.92MB/s\n",
      "\u001b[1A\u001b[2KDownloading: deinococcus_radiodurans_complete.zip    4.06MB 1.92MB/s\n",
      "\u001b[1A\u001b[2KDownloading: deinococcus_radiodurans_complete.zip    4.06MB 1.92MB/s\n",
      "\u001b[1A\u001b[2KDownloading: deinococcus_radiodurans_complete.zip    4.06MB 1.92MB/s\n",
      "\u001b[1A\u001b[2KDownloading: deinococcus_radiodurans_complete.zip    4.06MB 1.92MB/s\n",
      "\u001b[1A\u001b[2KDownloading: deinococcus_radiodurans_complete.zip    4.06MB 1.92MB/s\n",
      "\u001b[1A\u001b[2KDownloading: deinococcus_radiodurans_complete.zip    4.06MB 1.92MB/s\n"
     ]
    },
    {
     "name": "stdout",
     "output_type": "stream",
     "text": [
      "\u001b[1A\u001b[2KDownloading: deinococcus_radiodurans_complete.zip    4.06MB 1.92MB/s\n",
      "\u001b[1A\u001b[2KDownloading: deinococcus_radiodurans_complete.zip    4.06MB 1.92MB/s\n",
      "\u001b[1A\u001b[2KDownloading: deinococcus_radiodurans_complete.zip    4.06MB 1.92MB/s\n",
      "\u001b[1A\u001b[2KDownloading: deinococcus_radiodurans_complete.zip    4.06MB 1.92MB/s\n",
      "\u001b[1A\u001b[2KDownloading: deinococcus_radiodurans_complete.zip    4.06MB 1.92MB/s\n",
      "\u001b[1A\u001b[2KDownloading: deinococcus_radiodurans_complete.zip    4.06MB 1.92MB/s\n",
      "\u001b[1A\u001b[2KDownloading: deinococcus_radiodurans_complete.zip    4.06MB 1.92MB/s\n",
      "\u001b[1A\u001b[2KDownloading: deinococcus_radiodurans_complete.zip    4.06MB 1.92MB/s\n",
      "\u001b[1A\u001b[2KDownloading: deinococcus_radiodurans_complete.zip    4.06MB 1.92MB/s\n",
      "\u001b[1A\u001b[2KDownloading: deinococcus_radiodurans_complete.zip    4.06MB 1.92MB/s\n",
      "\u001b[1A\u001b[2KDownloading: deinococcus_radiodurans_complete.zip    4.06MB 1.92MB/s\n",
      "\u001b[1A\u001b[2KDownloading: deinococcus_radiodurans_complete.zip    4.06MB 1.92MB/s\n",
      "\u001b[1A\u001b[2KDownloading: deinococcus_radiodurans_complete.zip    4.06MB 1.92MB/s\n",
      "\u001b[1A\u001b[2KDownloading: deinococcus_radiodurans_complete.zip    4.06MB 1.92MB/s\n",
      "\u001b[1A\u001b[2KDownloading: deinococcus_radiodurans_complete.zip    4.06MB 1.92MB/s\n",
      "\u001b[1A\u001b[2KDownloading: deinococcus_radiodurans_complete.zip    4.06MB 1.92MB/s\n",
      "\u001b[1A\u001b[2KDownloading: deinococcus_radiodurans_complete.zip    4.06MB 1.92MB/s\n",
      "\u001b[1A\u001b[2KDownloading: deinococcus_radiodurans_complete.zip    4.06MB 1.92MB/s\n",
      "\u001b[1A\u001b[2KDownloading: deinococcus_radiodurans_complete.zip    4.06MB 1.92MB/s\n",
      "\u001b[1A\u001b[2KDownloading: deinococcus_radiodurans_complete.zip    4.06MB 1.92MB/s\n"
     ]
    },
    {
     "name": "stdout",
     "output_type": "stream",
     "text": [
      "\u001b[1A\u001b[2KDownloading: deinococcus_radiodurans_complete.zip    4.06MB 1.92MB/s\n",
      "\u001b[1A\u001b[2KDownloading: deinococcus_radiodurans_complete.zip    4.06MB 1.92MB/s\n",
      "\u001b[1A\u001b[2KDownloading: deinococcus_radiodurans_complete.zip    4.33MB 1.38MB/s\n",
      "\u001b[1A\u001b[2KDownloading: deinococcus_radiodurans_complete.zip    4.33MB 1.38MB/s\n",
      "\u001b[1A\u001b[2KDownloading: deinococcus_radiodurans_complete.zip    4.33MB 1.38MB/s\n",
      "\u001b[1A\u001b[2KDownloading: deinococcus_radiodurans_complete.zip    4.33MB 1.38MB/s\n",
      "\u001b[1A\u001b[2KDownloading: deinococcus_radiodurans_complete.zip    4.33MB 1.38MB/s\n",
      "\u001b[1A\u001b[2KDownloading: deinococcus_radiodurans_complete.zip    4.33MB 1.38MB/s\n",
      "\u001b[1A\u001b[2KDownloading: deinococcus_radiodurans_complete.zip    4.33MB 1.38MB/s\n",
      "\u001b[1A\u001b[2KDownloading: deinococcus_radiodurans_complete.zip    4.33MB 1.38MB/s\n",
      "\u001b[1A\u001b[2KDownloading: deinococcus_radiodurans_complete.zip    4.33MB 1.38MB/s\n",
      "\u001b[1A\u001b[2KDownloading: deinococcus_radiodurans_complete.zip    4.33MB 1.38MB/s\n",
      "\u001b[1A\u001b[2KDownloading: deinococcus_radiodurans_complete.zip    4.33MB 1.38MB/s\n",
      "\u001b[1A\u001b[2KDownloading: deinococcus_radiodurans_complete.zip    4.33MB 1.38MB/s\n",
      "\u001b[1A\u001b[2KDownloading: deinococcus_radiodurans_complete.zip    4.33MB 1.38MB/s\n",
      "\u001b[1A\u001b[2KDownloading: deinococcus_radiodurans_complete.zip    4.33MB 1.38MB/s\n",
      "\u001b[1A\u001b[2KDownloading: deinococcus_radiodurans_complete.zip    4.33MB 1.38MB/s\n",
      "\u001b[1A\u001b[2KDownloading: deinococcus_radiodurans_complete.zip    4.33MB 1.38MB/s\n",
      "\u001b[1A\u001b[2KDownloading: deinococcus_radiodurans_complete.zip    4.33MB 1.38MB/s\n"
     ]
    },
    {
     "name": "stdout",
     "output_type": "stream",
     "text": [
      "\u001b[1A\u001b[2KDownloading: deinococcus_radiodurans_complete.zip    4.33MB 1.38MB/s\n",
      "\u001b[1A\u001b[2KDownloading: deinococcus_radiodurans_complete.zip    4.33MB 1.38MB/s\n",
      "\u001b[1A\u001b[2KDownloading: deinococcus_radiodurans_complete.zip    4.33MB 1.38MB/s\n",
      "\u001b[1A\u001b[2KDownloading: deinococcus_radiodurans_complete.zip    4.36MB 1.3MB/s\n",
      "\u001b[1A\u001b[2KDownloading: deinococcus_radiodurans_complete.zip    4.49MB 1.34MB/s\n",
      "\u001b[1A\u001b[2KDownloading: deinococcus_radiodurans_complete.zip    4.52MB 1.35MB/s\n",
      "\u001b[1A\u001b[2KDownloading: deinococcus_radiodurans_complete.zip    4.52MB 1.35MB/s\n",
      "\u001b[1A\u001b[2KDownloading: deinococcus_radiodurans_complete.zip    4.52MB 1.35MB/s\n",
      "\u001b[1A\u001b[2KDownloading: deinococcus_radiodurans_complete.zip    4.52MB 1.35MB/s\n",
      "\u001b[1A\u001b[2KDownloading: deinococcus_radiodurans_complete.zip    4.52MB 1.35MB/s\n",
      "\u001b[1A\u001b[2KDownloading: deinococcus_radiodurans_complete.zip    4.52MB 1.35MB/s\n",
      "\u001b[1A\u001b[2KDownloading: deinococcus_radiodurans_complete.zip    4.52MB 1.35MB/s\n",
      "\u001b[1A\u001b[2KDownloading: deinococcus_radiodurans_complete.zip    4.52MB 1.35MB/s\n",
      "\u001b[1A\u001b[2KDownloading: deinococcus_radiodurans_complete.zip    4.52MB 1.35MB/s\n",
      "\u001b[1A\u001b[2KDownloading: deinococcus_radiodurans_complete.zip    4.52MB 1.35MB/s\n",
      "\u001b[1A\u001b[2KDownloading: deinococcus_radiodurans_complete.zip    4.52MB 1.35MB/s\n",
      "\u001b[1A\u001b[2KDownloading: deinococcus_radiodurans_complete.zip    4.52MB 1.35MB/s\n",
      "\u001b[1A\u001b[2KDownloading: deinococcus_radiodurans_complete.zip    4.52MB 1.35MB/s\n",
      "\u001b[1A\u001b[2KDownloading: deinococcus_radiodurans_complete.zip    4.52MB 1.35MB/s\n",
      "\u001b[1A\u001b[2KDownloading: deinococcus_radiodurans_complete.zip    4.52MB 1.35MB/s\n"
     ]
    },
    {
     "name": "stdout",
     "output_type": "stream",
     "text": [
      "\u001b[1A\u001b[2KDownloading: deinococcus_radiodurans_complete.zip    4.52MB 1.35MB/s\n",
      "\u001b[1A\u001b[2KDownloading: deinococcus_radiodurans_complete.zip    4.52MB 1.35MB/s\n",
      "\u001b[1A\u001b[2KDownloading: deinococcus_radiodurans_complete.zip    4.52MB 1.35MB/s\n",
      "\u001b[1A\u001b[2KDownloading: deinococcus_radiodurans_complete.zip    4.52MB 1.35MB/s\n",
      "\u001b[1A\u001b[2KDownloading: deinococcus_radiodurans_complete.zip    4.52MB 1.35MB/s\n",
      "\u001b[1A\u001b[2KDownloading: deinococcus_radiodurans_complete.zip    4.52MB 1.35MB/s\n",
      "\u001b[1A\u001b[2KDownloading: deinococcus_radiodurans_complete.zip    4.52MB 1.35MB/s\n",
      "\u001b[1A\u001b[2KDownloading: deinococcus_radiodurans_complete.zip    4.52MB 1.35MB/s\n",
      "\u001b[1A\u001b[2KDownloading: deinococcus_radiodurans_complete.zip    4.52MB 1.35MB/s\n",
      "\u001b[1A\u001b[2KDownloading: deinococcus_radiodurans_complete.zip    4.52MB 1.35MB/s\n",
      "\u001b[1A\u001b[2KDownloading: deinococcus_radiodurans_complete.zip    4.52MB 1.35MB/s\n",
      "\u001b[1A\u001b[2KDownloading: deinococcus_radiodurans_complete.zip    4.52MB 1.35MB/s\n",
      "\u001b[1A\u001b[2KDownloading: deinococcus_radiodurans_complete.zip    4.52MB 1.35MB/s\n",
      "\u001b[1A\u001b[2KDownloading: deinococcus_radiodurans_complete.zip    4.52MB 1.35MB/s\n",
      "\u001b[1A\u001b[2KDownloading: deinococcus_radiodurans_complete.zip    4.52MB 1.35MB/s\n",
      "\u001b[1A\u001b[2KDownloading: deinococcus_radiodurans_complete.zip    4.52MB 1.35MB/s\n",
      "\u001b[1A\u001b[2KDownloading: deinococcus_radiodurans_complete.zip    4.52MB 1.35MB/s\n",
      "\u001b[1A\u001b[2KDownloading: deinococcus_radiodurans_complete.zip    4.52MB 1.35MB/s\n",
      "\u001b[1A\u001b[2KDownloading: deinococcus_radiodurans_complete.zip    4.52MB 1.35MB/s\n",
      "\u001b[1A\u001b[2KDownloading: deinococcus_radiodurans_complete.zip    4.52MB 1.35MB/s\n"
     ]
    },
    {
     "name": "stdout",
     "output_type": "stream",
     "text": [
      "\u001b[1A\u001b[2KDownloading: deinococcus_radiodurans_complete.zip    4.52MB 1.35MB/s\n",
      "\u001b[1A\u001b[2KDownloading: deinococcus_radiodurans_complete.zip    4.52MB 1.35MB/s\n",
      "\u001b[1A\u001b[2KDownloading: deinococcus_radiodurans_complete.zip    4.52MB 1.35MB/s\n",
      "\u001b[1A\u001b[2KDownloading: deinococcus_radiodurans_complete.zip    4.52MB 1.35MB/s\n",
      "\u001b[1A\u001b[2KDownloading: deinococcus_radiodurans_complete.zip    4.52MB 1.35MB/s\n",
      "\u001b[1A\u001b[2KDownloading: deinococcus_radiodurans_complete.zip    4.52MB 1.35MB/s\n",
      "\u001b[1A\u001b[2KDownloading: deinococcus_radiodurans_complete.zip    4.52MB 1.35MB/s\n",
      "\u001b[1A\u001b[2KDownloading: deinococcus_radiodurans_complete.zip    4.52MB 1.35MB/s\n",
      "\u001b[1A\u001b[2KDownloading: deinococcus_radiodurans_complete.zip    4.52MB 1.35MB/s\n",
      "\u001b[1A\u001b[2KDownloading: deinococcus_radiodurans_complete.zip    4.52MB 1.35MB/s\n",
      "\u001b[1A\u001b[2KDownloading: deinococcus_radiodurans_complete.zip    4.52MB 1.35MB/s\n",
      "\u001b[1A\u001b[2KDownloading: deinococcus_radiodurans_complete.zip    4.52MB 1.35MB/s\n",
      "\u001b[1A\u001b[2KDownloading: deinococcus_radiodurans_complete.zip    4.52MB 1.35MB/s\n",
      "\u001b[1A\u001b[2KDownloading: deinococcus_radiodurans_complete.zip    4.52MB 1.35MB/s\n",
      "\u001b[1A\u001b[2KDownloading: deinococcus_radiodurans_complete.zip    4.52MB 1.35MB/s\n",
      "\u001b[1A\u001b[2KDownloading: deinococcus_radiodurans_complete.zip    4.52MB 1.35MB/s\n",
      "\u001b[1A\u001b[2KDownloading: deinococcus_radiodurans_complete.zip    4.52MB 1.35MB/s\n",
      "\u001b[1A\u001b[2KDownloading: deinococcus_radiodurans_complete.zip    4.52MB 1.35MB/s\n",
      "\u001b[1A\u001b[2KDownloading: deinococcus_radiodurans_complete.zip    4.52MB 1.35MB/s\n",
      "\u001b[1A\u001b[2KDownloading: deinococcus_radiodurans_complete.zip    4.52MB 1.35MB/s\n"
     ]
    },
    {
     "name": "stdout",
     "output_type": "stream",
     "text": [
      "\u001b[1A\u001b[2KDownloading: deinococcus_radiodurans_complete.zip    4.52MB 1.35MB/s\n",
      "\u001b[1A\u001b[2KDownloading: deinococcus_radiodurans_complete.zip    4.52MB 1.35MB/s\n",
      "\u001b[1A\u001b[2KDownloading: deinococcus_radiodurans_complete.zip    4.52MB 1.35MB/s\n",
      "\u001b[1A\u001b[2KDownloading: deinococcus_radiodurans_complete.zip    4.52MB 1.35MB/s\n",
      "\u001b[1A\u001b[2KDownloading: deinococcus_radiodurans_complete.zip    4.52MB 1.35MB/s\n",
      "\u001b[1A\u001b[2KDownloading: deinococcus_radiodurans_complete.zip    4.52MB 1.35MB/s\n",
      "\u001b[1A\u001b[2KDownloading: deinococcus_radiodurans_complete.zip    4.52MB 1.35MB/s\n",
      "\u001b[1A\u001b[2KDownloading: deinococcus_radiodurans_complete.zip    4.52MB 1.35MB/s\n",
      "\u001b[1A\u001b[2KDownloading: deinococcus_radiodurans_complete.zip    4.52MB 1.35MB/s\n",
      "\u001b[1A\u001b[2KDownloading: deinococcus_radiodurans_complete.zip    4.52MB 1.35MB/s\n",
      "\u001b[1A\u001b[2KDownloading: deinococcus_radiodurans_complete.zip    4.52MB 1.35MB/s\n",
      "\u001b[1A\u001b[2KDownloading: deinococcus_radiodurans_complete.zip    4.52MB 1.35MB/s\n",
      "\u001b[1A\u001b[2KDownloading: deinococcus_radiodurans_complete.zip    4.52MB 1.35MB/s\n",
      "\u001b[1A\u001b[2KDownloading: deinococcus_radiodurans_complete.zip    4.52MB 1.35MB/s\n",
      "\u001b[1A\u001b[2KDownloading: deinococcus_radiodurans_complete.zip    4.52MB 1.35MB/s\n",
      "\u001b[1A\u001b[2KDownloading: deinococcus_radiodurans_complete.zip    4.52MB 1.35MB/s\n",
      "\u001b[1A\u001b[2KDownloading: deinococcus_radiodurans_complete.zip    4.52MB 1.35MB/s\n",
      "\u001b[1A\u001b[2KDownloading: deinococcus_radiodurans_complete.zip    4.52MB 1.35MB/s\n",
      "\u001b[1A\u001b[2KDownloading: deinococcus_radiodurans_complete.zip    4.52MB 1.35MB/s\n",
      "\u001b[1A\u001b[2KDownloading: deinococcus_radiodurans_complete.zip    4.52MB 1.35MB/s\n"
     ]
    },
    {
     "name": "stdout",
     "output_type": "stream",
     "text": [
      "\u001b[1A\u001b[2KDownloading: deinococcus_radiodurans_complete.zip    4.52MB 1.35MB/s\n",
      "\u001b[1A\u001b[2KDownloading: deinococcus_radiodurans_complete.zip    4.52MB 1.35MB/s\n",
      "\u001b[1A\u001b[2KDownloading: deinococcus_radiodurans_complete.zip    4.52MB 1.35MB/s\n",
      "\u001b[1A\u001b[2KDownloading: deinococcus_radiodurans_complete.zip    4.52MB 1.35MB/s\n",
      "\u001b[1A\u001b[2KDownloading: deinococcus_radiodurans_complete.zip    4.52MB 1.35MB/s\n",
      "\u001b[1A\u001b[2KDownloading: deinococcus_radiodurans_complete.zip    4.52MB 1.35MB/s\n",
      "\u001b[1A\u001b[2KDownloading: deinococcus_radiodurans_complete.zip    4.52MB 1.35MB/s\n",
      "\u001b[1A\u001b[2KDownloading: deinococcus_radiodurans_complete.zip    4.52MB 1.35MB/s\n",
      "\u001b[1A\u001b[2KDownloading: deinococcus_radiodurans_complete.zip    4.52MB 1.35MB/s\n",
      "\u001b[1A\u001b[2KDownloading: deinococcus_radiodurans_complete.zip    4.52MB 1.35MB/s\n",
      "\u001b[1A\u001b[2KDownloading: deinococcus_radiodurans_complete.zip    4.52MB 1.35MB/s\n",
      "\u001b[1A\u001b[2KDownloading: deinococcus_radiodurans_complete.zip    4.52MB 1.35MB/s\n",
      "\u001b[1A\u001b[2KDownloading: deinococcus_radiodurans_complete.zip    4.52MB 1.35MB/s\n",
      "\u001b[1A\u001b[2KDownloading: deinococcus_radiodurans_complete.zip    4.52MB 1.35MB/s\n",
      "\u001b[1A\u001b[2KDownloading: deinococcus_radiodurans_complete.zip    4.52MB 1.35MB/s\n",
      "\u001b[1A\u001b[2KDownloading: deinococcus_radiodurans_complete.zip    4.52MB 1.35MB/s\n",
      "\u001b[1A\u001b[2KDownloading: deinococcus_radiodurans_complete.zip    4.52MB 1.35MB/s\n",
      "\u001b[1A\u001b[2KDownloading: deinococcus_radiodurans_complete.zip    4.52MB 1.35MB/s\n",
      "\u001b[1A\u001b[2KDownloading: deinococcus_radiodurans_complete.zip    4.52MB 1.35MB/s\n",
      "\u001b[1A\u001b[2KDownloading: deinococcus_radiodurans_complete.zip    4.52MB 1.35MB/s\n"
     ]
    },
    {
     "name": "stdout",
     "output_type": "stream",
     "text": [
      "\u001b[1A\u001b[2KDownloading: deinococcus_radiodurans_complete.zip    4.52MB 1.35MB/s\n",
      "\u001b[1A\u001b[2KDownloading: deinococcus_radiodurans_complete.zip    4.52MB 1.35MB/s\n",
      "\u001b[1A\u001b[2KDownloading: deinococcus_radiodurans_complete.zip    4.52MB 1.35MB/s\n",
      "\u001b[1A\u001b[2KDownloading: deinococcus_radiodurans_complete.zip    4.52MB 1.35MB/s\n",
      "\u001b[1A\u001b[2KDownloading: deinococcus_radiodurans_complete.zip    4.52MB 1.35MB/s\n",
      "\u001b[1A\u001b[2KDownloading: deinococcus_radiodurans_complete.zip    4.52MB 1.35MB/s\n",
      "\u001b[1A\u001b[2KDownloading: deinococcus_radiodurans_complete.zip    4.52MB 1.35MB/s\n",
      "\u001b[1A\u001b[2KDownloading: deinococcus_radiodurans_complete.zip    4.52MB 1.35MB/s\n",
      "\u001b[1A\u001b[2KDownloading: deinococcus_radiodurans_complete.zip    4.52MB 1.35MB/s\n",
      "\u001b[1A\u001b[2KDownloading: deinococcus_radiodurans_complete.zip    4.52MB 1.35MB/s\n",
      "\u001b[1A\u001b[2KDownloading: deinococcus_radiodurans_complete.zip    4.52MB 1.35MB/s\n",
      "\u001b[1A\u001b[2KDownloading: deinococcus_radiodurans_complete.zip    4.52MB 1.35MB/s\n",
      "\u001b[1A\u001b[2KDownloading: deinococcus_radiodurans_complete.zip    4.52MB 1.35MB/s\n",
      "\u001b[1A\u001b[2KDownloading: deinococcus_radiodurans_complete.zip    4.52MB 1.35MB/s\n",
      "\u001b[1A\u001b[2KDownloading: deinococcus_radiodurans_complete.zip    4.52MB 1.35MB/s\n",
      "\u001b[1A\u001b[2KDownloading: deinococcus_radiodurans_complete.zip    4.52MB 1.35MB/s\n",
      "\u001b[1A\u001b[2KDownloading: deinococcus_radiodurans_complete.zip    4.52MB 1.35MB/s\n",
      "\u001b[1A\u001b[2KDownloading: deinococcus_radiodurans_complete.zip    4.52MB 1.35MB/s\n",
      "\u001b[1A\u001b[2KDownloading: deinococcus_radiodurans_complete.zip    4.52MB 1.35MB/s\n",
      "\u001b[1A\u001b[2KDownloading: deinococcus_radiodurans_complete.zip    4.52MB 1.35MB/s\n"
     ]
    },
    {
     "name": "stdout",
     "output_type": "stream",
     "text": [
      "\u001b[1A\u001b[2KDownloading: deinococcus_radiodurans_complete.zip    4.52MB 1.35MB/s\n",
      "\u001b[1A\u001b[2KDownloading: deinococcus_radiodurans_complete.zip    4.55MB 999kB/s\n",
      "\u001b[1A\u001b[2KDownloading: deinococcus_radiodurans_complete.zip    4.55MB 999kB/s\n",
      "\u001b[1A\u001b[2KDownloading: deinococcus_radiodurans_complete.zip    4.55MB 999kB/s\n",
      "\u001b[1A\u001b[2KDownloading: deinococcus_radiodurans_complete.zip    4.55MB 999kB/s\n",
      "\u001b[1A\u001b[2KDownloading: deinococcus_radiodurans_complete.zip    4.55MB 999kB/s\n",
      "\u001b[1A\u001b[2KDownloading: deinococcus_radiodurans_complete.zip    4.55MB 999kB/s\n",
      "\u001b[1A\u001b[2KDownloading: deinococcus_radiodurans_complete.zip    4.55MB 999kB/s\n",
      "\u001b[1A\u001b[2KDownloading: deinococcus_radiodurans_complete.zip    4.55MB 999kB/s\n",
      "\u001b[1A\u001b[2KDownloading: deinococcus_radiodurans_complete.zip    4.55MB 999kB/s\n",
      "\u001b[1A\u001b[2KDownloading: deinococcus_radiodurans_complete.zip    4.55MB 999kB/s\n",
      "\u001b[1A\u001b[2KDownloading: deinococcus_radiodurans_complete.zip    4.55MB 999kB/s\n",
      "\u001b[1A\u001b[2KDownloading: deinococcus_radiodurans_complete.zip    4.55MB 999kB/s\n",
      "\u001b[1A\u001b[2KDownloading: deinococcus_radiodurans_complete.zip    4.55MB 999kB/s\n",
      "\u001b[1A\u001b[2KDownloading: deinococcus_radiodurans_complete.zip    4.55MB 999kB/s\n",
      "\u001b[1A\u001b[2KDownloading: deinococcus_radiodurans_complete.zip    4.55MB 999kB/s\n",
      "\u001b[1A\u001b[2KDownloading: deinococcus_radiodurans_complete.zip    4.55MB 999kB/s\n",
      "\u001b[1A\u001b[2KDownloading: deinococcus_radiodurans_complete.zip    4.55MB 999kB/s\n",
      "\u001b[1A\u001b[2KDownloading: deinococcus_radiodurans_complete.zip    4.55MB 999kB/s\n",
      "\u001b[1A\u001b[2KDownloading: deinococcus_radiodurans_complete.zip    4.55MB 999kB/s\n"
     ]
    },
    {
     "name": "stdout",
     "output_type": "stream",
     "text": [
      "\u001b[1A\u001b[2KDownloading: deinococcus_radiodurans_complete.zip    4.55MB 999kB/s\n",
      "\u001b[1A\u001b[2KDownloading: deinococcus_radiodurans_complete.zip    4.55MB 999kB/s\n",
      "\u001b[1A\u001b[2KDownloading: deinococcus_radiodurans_complete.zip    4.55MB 999kB/s\n",
      "\u001b[1A\u001b[2KDownloading: deinococcus_radiodurans_complete.zip    4.55MB 999kB/s\n",
      "\u001b[1A\u001b[2KDownloading: deinococcus_radiodurans_complete.zip    4.55MB 999kB/s\n",
      "\u001b[1A\u001b[2KDownloading: deinococcus_radiodurans_complete.zip    4.55MB 999kB/s\n",
      "\u001b[1A\u001b[2KDownloading: deinococcus_radiodurans_complete.zip    4.55MB 999kB/s\n",
      "\u001b[1A\u001b[2KDownloading: deinococcus_radiodurans_complete.zip    4.55MB 999kB/s\n",
      "\u001b[1A\u001b[2KDownloading: deinococcus_radiodurans_complete.zip    4.55MB 999kB/s\n",
      "\u001b[1A\u001b[2KDownloading: deinococcus_radiodurans_complete.zip    4.55MB 999kB/s\n",
      "\u001b[1A\u001b[2KDownloading: deinococcus_radiodurans_complete.zip    4.55MB 999kB/s\n",
      "\u001b[1A\u001b[2KDownloading: deinococcus_radiodurans_complete.zip    4.55MB 999kB/s\n",
      "\u001b[1A\u001b[2KDownloading: deinococcus_radiodurans_complete.zip    4.55MB 999kB/s\n",
      "\u001b[1A\u001b[2KDownloading: deinococcus_radiodurans_complete.zip    4.55MB 999kB/s\n",
      "\u001b[1A\u001b[2KDownloading: deinococcus_radiodurans_complete.zip    4.55MB 999kB/s\n",
      "\u001b[1A\u001b[2KDownloading: deinococcus_radiodurans_complete.zip    4.55MB 999kB/s\n",
      "\u001b[1A\u001b[2KDownloading: deinococcus_radiodurans_complete.zip    4.55MB 999kB/s\n",
      "\u001b[1A\u001b[2KDownloading: deinococcus_radiodurans_complete.zip    4.55MB 999kB/s\n",
      "\u001b[1A\u001b[2KDownloading: deinococcus_radiodurans_complete.zip    4.55MB 999kB/s\n",
      "\u001b[1A\u001b[2KDownloading: deinococcus_radiodurans_complete.zip    4.55MB 999kB/s\n"
     ]
    },
    {
     "name": "stdout",
     "output_type": "stream",
     "text": [
      "\u001b[1A\u001b[2KDownloading: deinococcus_radiodurans_complete.zip    4.55MB 999kB/s\n",
      "\u001b[1A\u001b[2KDownloading: deinococcus_radiodurans_complete.zip    4.88MB 980kB/s\n",
      "\u001b[1A\u001b[2KDownloading: deinococcus_radiodurans_complete.zip    5.01MB 1.01MB/s\n",
      "\u001b[1A\u001b[2KDownloading: deinococcus_radiodurans_complete.zip    5.01MB 1.01MB/s\n",
      "\u001b[1A\u001b[2KDownloading: deinococcus_radiodurans_complete.zip    5.01MB 1.01MB/s\n",
      "\u001b[1A\u001b[2KDownloading: deinococcus_radiodurans_complete.zip    5.01MB 1.01MB/s\n",
      "\u001b[1A\u001b[2KDownloading: deinococcus_radiodurans_complete.zip    5.01MB 1.01MB/s\n",
      "\u001b[1A\u001b[2KDownloading: deinococcus_radiodurans_complete.zip    5.01MB 1.01MB/s\n",
      "\u001b[1A\u001b[2KDownloading: deinococcus_radiodurans_complete.zip    5.01MB 1.01MB/s\n",
      "\u001b[1A\u001b[2KDownloading: deinococcus_radiodurans_complete.zip    5.01MB 1.01MB/s\n",
      "\u001b[1A\u001b[2KDownloading: deinococcus_radiodurans_complete.zip    5.01MB 1.01MB/s\n",
      "\u001b[1A\u001b[2KDownloading: deinococcus_radiodurans_complete.zip    5.01MB 1.01MB/s\n",
      "\u001b[1A\u001b[2KDownloading: deinococcus_radiodurans_complete.zip    5.01MB 1.01MB/s\n",
      "\u001b[1A\u001b[2KDownloading: deinococcus_radiodurans_complete.zip    5.01MB 1.01MB/s\n",
      "\u001b[1A\u001b[2KDownloading: deinococcus_radiodurans_complete.zip    5.01MB 1.01MB/s\n",
      "\u001b[1A\u001b[2KDownloading: deinococcus_radiodurans_complete.zip    5.01MB 1.01MB/s\n",
      "\u001b[1A\u001b[2KDownloading: deinococcus_radiodurans_complete.zip    5.01MB 1.01MB/s\n",
      "\u001b[1A\u001b[2KDownloading: deinococcus_radiodurans_complete.zip    5.01MB 1.01MB/s\n",
      "\u001b[1A\u001b[2KDownloading: deinococcus_radiodurans_complete.zip    5.01MB 1.01MB/s\n"
     ]
    },
    {
     "name": "stdout",
     "output_type": "stream",
     "text": [
      "\u001b[1A\u001b[2KDownloading: deinococcus_radiodurans_complete.zip    5.01MB 1.01MB/s\n",
      "\u001b[1A\u001b[2KDownloading: deinococcus_radiodurans_complete.zip    5.41MB 1.04MB/s\n",
      "\u001b[1A\u001b[2KDownloading: deinococcus_radiodurans_complete.zip    5.64MB 1.08MB/s\n",
      "\u001b[1A\u001b[2KDownloading: deinococcus_radiodurans_complete.zip    5.64MB 1.08MB/s\n",
      "\u001b[1A\u001b[2KDownloading: deinococcus_radiodurans_complete.zip    5.64MB 1.08MB/s\n",
      "\u001b[1A\u001b[2KDownloading: deinococcus_radiodurans_complete.zip    5.64MB 1.08MB/s\n",
      "\u001b[1A\u001b[2KDownloading: deinococcus_radiodurans_complete.zip    5.64MB 1.08MB/s\n",
      "\u001b[1A\u001b[2KDownloading: deinococcus_radiodurans_complete.zip    5.64MB 1.08MB/s\n",
      "\u001b[1A\u001b[2KDownloading: deinococcus_radiodurans_complete.zip    5.64MB 1.08MB/s\n",
      "\u001b[1A\u001b[2KDownloading: deinococcus_radiodurans_complete.zip    5.64MB 1.08MB/s\n",
      "\u001b[1A\u001b[2KDownloading: deinococcus_radiodurans_complete.zip    5.64MB 1.08MB/s\n",
      "\u001b[1A\u001b[2KDownloading: deinococcus_radiodurans_complete.zip    5.64MB 1.08MB/s\n",
      "\u001b[1A\u001b[2KDownloading: deinococcus_radiodurans_complete.zip    5.64MB 1.08MB/s\n",
      "\u001b[1A\u001b[2KDownloading: deinococcus_radiodurans_complete.zip    5.64MB 1.08MB/s\n",
      "\u001b[1A\u001b[2KDownloading: deinococcus_radiodurans_complete.zip    5.64MB 1.08MB/s\n",
      "\u001b[1A\u001b[2KDownloading: deinococcus_radiodurans_complete.zip    5.64MB 1.08MB/s\n",
      "\u001b[1A\u001b[2KDownloading: deinococcus_radiodurans_complete.zip    5.64MB 1.08MB/s\n",
      "\u001b[1A\u001b[2KDownloading: deinococcus_radiodurans_complete.zip    5.64MB 1.08MB/s\n",
      "\u001b[1A\u001b[2KDownloading: deinococcus_radiodurans_complete.zip    5.64MB 1.08MB/s\n"
     ]
    },
    {
     "name": "stdout",
     "output_type": "stream",
     "text": [
      "\u001b[1A\u001b[2KDownloading: deinococcus_radiodurans_complete.zip    5.64MB 1.08MB/s\n",
      "\u001b[1A\u001b[2KDownloading: deinococcus_radiodurans_complete.zip    5.64MB 1.08MB/s\n",
      "\u001b[1A\u001b[2KDownloading: deinococcus_radiodurans_complete.zip    5.64MB 1.08MB/s\n",
      "\u001b[1A\u001b[2KDownloading: deinococcus_radiodurans_complete.zip    5.64MB 1.08MB/s\n",
      "\u001b[1A\u001b[2KDownloading: deinococcus_radiodurans_complete.zip    5.64MB 1.08MB/s\n",
      "\u001b[1A\u001b[2KDownloading: deinococcus_radiodurans_complete.zip    5.64MB 1.08MB/s\n",
      "\u001b[1A\u001b[2KDownloading: deinococcus_radiodurans_complete.zip    5.64MB 1.08MB/s\n",
      "\u001b[1A\u001b[2KDownloading: deinococcus_radiodurans_complete.zip    5.64MB 1.08MB/s\n",
      "\u001b[1A\u001b[2KDownloading: deinococcus_radiodurans_complete.zip    5.64MB 1.08MB/s\n",
      "\u001b[1A\u001b[2KDownloading: deinococcus_radiodurans_complete.zip    5.64MB 1.08MB/s\n",
      "\u001b[1A\u001b[2KDownloading: deinococcus_radiodurans_complete.zip    5.64MB 1.08MB/s\n",
      "\u001b[1A\u001b[2KDownloading: deinococcus_radiodurans_complete.zip    5.64MB 1.08MB/s\n",
      "\u001b[1A\u001b[2KDownloading: deinococcus_radiodurans_complete.zip    5.64MB 1.08MB/s\n",
      "\u001b[1A\u001b[2KDownloading: deinococcus_radiodurans_complete.zip    5.67MB 1.03MB/s\n",
      "\u001b[1A\u001b[2KDownloading: deinococcus_radiodurans_complete.zip    5.7MB 1.03MB/s\n",
      "\u001b[1A\u001b[2KDownloading: deinococcus_radiodurans_complete.zip    5.7MB 1.03MB/s\n",
      "\u001b[1A\u001b[2KDownloading: deinococcus_radiodurans_complete.zip    5.96MB 1.08MB/s\n",
      "\u001b[1A\u001b[2KDownloading: deinococcus_radiodurans_complete.zip    5.96MB 1.08MB/s\n",
      "\u001b[1A\u001b[2KDownloading: deinococcus_radiodurans_complete.zip    5.96MB 1.08MB/s\n"
     ]
    },
    {
     "name": "stdout",
     "output_type": "stream",
     "text": [
      "\u001b[1A\u001b[2KDownloading: deinococcus_radiodurans_complete.zip    5.96MB 1.08MB/s\n",
      "\u001b[1A\u001b[2KDownloading: deinococcus_radiodurans_complete.zip    5.96MB 1.08MB/s\n",
      "\u001b[1A\u001b[2KDownloading: deinococcus_radiodurans_complete.zip    5.96MB 1.08MB/s\n",
      "\u001b[1A\u001b[2KDownloading: deinococcus_radiodurans_complete.zip    5.96MB 1.08MB/s\n",
      "\u001b[1A\u001b[2KDownloading: deinococcus_radiodurans_complete.zip    5.96MB 1.08MB/s\n",
      "\u001b[1A\u001b[2KDownloading: deinococcus_radiodurans_complete.zip    5.96MB 1.08MB/s\n",
      "\u001b[1A\u001b[2KDownloading: deinococcus_radiodurans_complete.zip    5.96MB 1.08MB/s\n",
      "\u001b[1A\u001b[2KDownloading: deinococcus_radiodurans_complete.zip    5.96MB 1.08MB/s\n",
      "\u001b[1A\u001b[2KDownloading: deinococcus_radiodurans_complete.zip    5.96MB 1.08MB/s\n",
      "\u001b[1A\u001b[2KDownloading: deinococcus_radiodurans_complete.zip    6.26MB 1.1MB/s\n",
      "\u001b[1A\u001b[2KDownloading: deinococcus_radiodurans_complete.zip    6.26MB 1.1MB/s\n",
      "\u001b[1A\u001b[2KDownloading: deinococcus_radiodurans_complete.zip    6.26MB 1.1MB/s\n",
      "\u001b[1A\u001b[2KDownloading: deinococcus_radiodurans_complete.zip    6.26MB 1.1MB/s\n",
      "\u001b[1A\u001b[2KDownloading: deinococcus_radiodurans_complete.zip    6.26MB 1.1MB/s\n",
      "\u001b[1A\u001b[2KDownloading: deinococcus_radiodurans_complete.zip    6.26MB 1.1MB/s\n",
      "\u001b[1A\u001b[2KDownloading: deinococcus_radiodurans_complete.zip    6.26MB 1.1MB/s\n",
      "\u001b[1A\u001b[2KDownloading: deinococcus_radiodurans_complete.zip    6.26MB 1.1MB/s\n",
      "\u001b[1A\u001b[2KDownloading: deinococcus_radiodurans_complete.zip    6.26MB 1.1MB/s\n",
      "\u001b[1A\u001b[2KDownloading: deinococcus_radiodurans_complete.zip    6.26MB 1.1MB/s\n"
     ]
    },
    {
     "name": "stdout",
     "output_type": "stream",
     "text": [
      "\u001b[1A\u001b[2KDownloading: deinococcus_radiodurans_complete.zip    6.32MB 1.1MB/s\n",
      "\u001b[1A\u001b[2KDownloading: deinococcus_radiodurans_complete.zip    6.36MB 1.1MB/s\n",
      "\u001b[1A\u001b[2KDownloading: deinococcus_radiodurans_complete.zip    6.46MB 1.11MB/s\n",
      "\u001b[1A\u001b[2KDownloading: deinococcus_radiodurans_complete.zip    6.49MB 1.12MB/s\n",
      "\u001b[1A\u001b[2KDownloading: deinococcus_radiodurans_complete.zip    6.49MB 1.12MB/s\n",
      "\u001b[1A\u001b[2KDownloading: deinococcus_radiodurans_complete.zip    6.49MB 1.12MB/s\n",
      "\u001b[1A\u001b[2KDownloading: deinococcus_radiodurans_complete.zip    6.49MB 1.12MB/s\n",
      "\u001b[1A\u001b[2KDownloading: deinococcus_radiodurans_complete.zip    6.49MB 1.12MB/s\n",
      "\u001b[1A\u001b[2KDownloading: deinococcus_radiodurans_complete.zip    6.49MB 1.12MB/s\n",
      "\u001b[1A\u001b[2KDownloading: deinococcus_radiodurans_complete.zip    6.49MB 1.12MB/s\n",
      "\u001b[1A\u001b[2KDownloading: deinococcus_radiodurans_complete.zip    6.49MB 1.12MB/s\n",
      "\u001b[1A\u001b[2KDownloading: deinococcus_radiodurans_complete.zip    6.49MB 1.12MB/s\n",
      "\u001b[1A\u001b[2KDownloading: deinococcus_radiodurans_complete.zip    6.59MB 1.12MB/s\n",
      "\u001b[1A\u001b[2KDownloading: deinococcus_radiodurans_complete.zip    6.59MB 1.12MB/s\n",
      "\u001b[1A\u001b[2KDownloading: deinococcus_radiodurans_complete.zip    6.65MB 1.12MB/s\n",
      "\u001b[1A\u001b[2KDownloading: deinococcus_radiodurans_complete.zip    6.72MB 1.13MB/s\n",
      "\u001b[1A\u001b[2KDownloading: deinococcus_radiodurans_complete.zip    6.72MB 1.13MB/s\n",
      "\u001b[1A\u001b[2KDownloading: deinococcus_radiodurans_complete.zip    6.72MB 1.13MB/s\n",
      "\u001b[1A\u001b[2KDownloading: deinococcus_radiodurans_complete.zip    6.72MB 1.13MB/s\n",
      "\u001b[1A\u001b[2KDownloading: deinococcus_radiodurans_complete.zip    6.72MB 1.13MB/s\n"
     ]
    },
    {
     "name": "stdout",
     "output_type": "stream",
     "text": [
      "\u001b[1A\u001b[2KDownloading: deinococcus_radiodurans_complete.zip    6.72MB 1.13MB/s\n",
      "\u001b[1A\u001b[2KDownloading: deinococcus_radiodurans_complete.zip    6.72MB 1.13MB/s\n",
      "\u001b[1A\u001b[2KDownloading: deinococcus_radiodurans_complete.zip    6.72MB 1.13MB/s\n",
      "\u001b[1A\u001b[2KDownloading: deinococcus_radiodurans_complete.zip    6.72MB 1.13MB/s\n",
      "\u001b[1A\u001b[2KDownloading: deinococcus_radiodurans_complete.zip    6.78MB 1.12MB/s\n",
      "\u001b[1A\u001b[2KDownloading: deinococcus_radiodurans_complete.zip    6.82MB 1.13MB/s\n",
      "\u001b[1A\u001b[2KDownloading: deinococcus_radiodurans_complete.zip    6.85MB 1.13MB/s\n",
      "\u001b[1A\u001b[2KDownloading: deinococcus_radiodurans_complete.zip    6.91MB 1.14MB/s\n",
      "\u001b[1A\u001b[2KDownloading: deinococcus_radiodurans_complete.zip    6.98MB 1.15MB/s\n",
      "\u001b[1A\u001b[2KDownloading: deinococcus_radiodurans_complete.zip    6.98MB 1.15MB/s\n",
      "\u001b[1A\u001b[2KDownloading: deinococcus_radiodurans_complete.zip    6.98MB 1.15MB/s\n",
      "\u001b[1A\u001b[2KDownloading: deinococcus_radiodurans_complete.zip    6.98MB 1.15MB/s\n",
      "\u001b[1A\u001b[2KDownloading: deinococcus_radiodurans_complete.zip    6.98MB 1.15MB/s\n",
      "\u001b[1A\u001b[2KDownloading: deinococcus_radiodurans_complete.zip    6.98MB 1.15MB/s\n",
      "\u001b[1A\u001b[2KDownloading: deinococcus_radiodurans_complete.zip    6.98MB 1.15MB/s\n",
      "\u001b[1A\u001b[2KDownloading: deinococcus_radiodurans_complete.zip    6.98MB 1.15MB/s\n",
      "\u001b[1A\u001b[2KDownloading: deinococcus_radiodurans_complete.zip    6.98MB 1.15MB/s\n",
      "\u001b[1A\u001b[2KDownloading: deinococcus_radiodurans_complete.zip    7.05MB 1.14MB/s\n",
      "\u001b[1A\u001b[2KDownloading: deinococcus_radiodurans_complete.zip    7.05MB 1.14MB/s\n",
      "\u001b[1A\u001b[2KDownloading: deinococcus_radiodurans_complete.zip    7.18MB 1.16MB/s\n"
     ]
    },
    {
     "name": "stdout",
     "output_type": "stream",
     "text": [
      "\u001b[1A\u001b[2KDownloading: deinococcus_radiodurans_complete.zip    7.21MB 1.16MB/s\n",
      "\u001b[1A\u001b[2KDownloading: deinococcus_radiodurans_complete.zip    7.21MB 1.16MB/s\n",
      "\u001b[1A\u001b[2KDownloading: deinococcus_radiodurans_complete.zip    7.21MB 1.16MB/s\n",
      "\u001b[1A\u001b[2KDownloading: deinococcus_radiodurans_complete.zip    7.21MB 1.16MB/s\n",
      "\u001b[1A\u001b[2KDownloading: deinococcus_radiodurans_complete.zip    7.21MB 1.16MB/s\n",
      "\u001b[1A\u001b[2KDownloading: deinococcus_radiodurans_complete.zip    7.21MB 1.16MB/s\n",
      "\u001b[1A\u001b[2KDownloading: deinococcus_radiodurans_complete.zip    7.21MB 1.16MB/s\n",
      "\u001b[1A\u001b[2KDownloading: deinococcus_radiodurans_complete.zip    7.21MB 1.16MB/s\n",
      "\u001b[1A\u001b[2KDownloading: deinococcus_radiodurans_complete.zip    7.21MB 1.16MB/s\n",
      "\u001b[1A\u001b[2KDownloading: deinococcus_radiodurans_complete.zip    7.27MB 1.16MB/s\n",
      "\u001b[1A\u001b[2KDownloading: deinococcus_radiodurans_complete.zip    7.31MB 1.16MB/s\n",
      "\u001b[1A\u001b[2KDownloading: deinococcus_radiodurans_complete.zip    7.41MB 1.17MB/s\n",
      "\u001b[1A\u001b[2KDownloading: deinococcus_radiodurans_complete.zip    7.44MB 1.18MB/s\n",
      "\u001b[1A\u001b[2KDownloading: deinococcus_radiodurans_complete.zip    7.5MB 1.19MB/s\n",
      "\u001b[1A\u001b[2KDownloading: deinococcus_radiodurans_complete.zip    7.5MB 1.19MB/s\n",
      "\u001b[1A\u001b[2KDownloading: deinococcus_radiodurans_complete.zip    7.5MB 1.19MB/s\n",
      "\u001b[1A\u001b[2KDownloading: deinococcus_radiodurans_complete.zip    7.5MB 1.19MB/s\n",
      "\u001b[1A\u001b[2KDownloading: deinococcus_radiodurans_complete.zip    7.5MB 1.19MB/s\n",
      "\u001b[1A\u001b[2KDownloading: deinococcus_radiodurans_complete.zip    7.5MB 1.19MB/s\n",
      "\u001b[1A\u001b[2KDownloading: deinococcus_radiodurans_complete.zip    7.5MB 1.19MB/s\n"
     ]
    },
    {
     "name": "stdout",
     "output_type": "stream",
     "text": [
      "\u001b[1A\u001b[2KDownloading: deinococcus_radiodurans_complete.zip    7.5MB 1.19MB/s\n",
      "\u001b[1A\u001b[2KDownloading: deinococcus_radiodurans_complete.zip    7.5MB 1.19MB/s\n",
      "\u001b[1A\u001b[2KDownloading: deinococcus_radiodurans_complete.zip    7.54MB 1.17MB/s\n",
      "\u001b[1A\u001b[2KDownloading: deinococcus_radiodurans_complete.zip    7.63MB 1.19MB/s\n",
      "\u001b[1A\u001b[2KDownloading: deinococcus_radiodurans_complete.zip    7.67MB 1.19MB/s\n",
      "\u001b[1A\u001b[2KDownloading: deinococcus_radiodurans_complete.zip    7.7MB 1.19MB/s\n",
      "\u001b[1A\u001b[2KDownloading: deinococcus_radiodurans_complete.zip    7.73MB 1.2MB/s\n",
      "\u001b[1A\u001b[2KDownloading: deinococcus_radiodurans_complete.zip    7.73MB 1.2MB/s\n",
      "\u001b[1A\u001b[2KDownloading: deinococcus_radiodurans_complete.zip    7.73MB 1.2MB/s\n",
      "\u001b[1A\u001b[2KDownloading: deinococcus_radiodurans_complete.zip    7.73MB 1.2MB/s\n",
      "\u001b[1A\u001b[2KDownloading: deinococcus_radiodurans_complete.zip    7.73MB 1.2MB/s\n",
      "\u001b[1A\u001b[2KDownloading: deinococcus_radiodurans_complete.zip    7.73MB 1.2MB/s\n",
      "\u001b[1A\u001b[2KDownloading: deinococcus_radiodurans_complete.zip    7.73MB 1.2MB/s\n",
      "\u001b[1A\u001b[2KDownloading: deinococcus_radiodurans_complete.zip    7.73MB 1.2MB/s\n",
      "\u001b[1A\u001b[2KDownloading: deinococcus_radiodurans_complete.zip    7.73MB 1.2MB/s\n",
      "\u001b[1A\u001b[2KDownloading: deinococcus_radiodurans_complete.zip    7.73MB 1.2MB/s\n",
      "\u001b[1A\u001b[2KDownloading: deinococcus_radiodurans_complete.zip    7.73MB 1.2MB/s\n",
      "\u001b[1A\u001b[2KDownloading: deinococcus_radiodurans_complete.zip    7.73MB 1.2MB/s\n",
      "\u001b[1A\u001b[2KDownloading: deinococcus_radiodurans_complete.zip    7.73MB 1.2MB/s\n",
      "\u001b[1A\u001b[2KDownloading: deinococcus_radiodurans_complete.zip    7.73MB 1.2MB/s\n"
     ]
    },
    {
     "name": "stdout",
     "output_type": "stream",
     "text": [
      "\u001b[1A\u001b[2KDownloading: deinococcus_radiodurans_complete.zip    7.73MB 1.2MB/s\n",
      "\u001b[1A\u001b[2KDownloading: deinococcus_radiodurans_complete.zip    7.73MB 1.2MB/s\n",
      "\u001b[1A\u001b[2KDownloading: deinococcus_radiodurans_complete.zip    7.86MB 1.19MB/s\n",
      "\u001b[1A\u001b[2KDownloading: deinococcus_radiodurans_complete.zip    7.93MB 1.19MB/s\n",
      "\u001b[1A\u001b[2KDownloading: deinococcus_radiodurans_complete.zip    7.93MB 1.19MB/s\n",
      "\u001b[1A\u001b[2KDownloading: deinococcus_radiodurans_complete.zip    7.93MB 1.19MB/s\n",
      "\u001b[1A\u001b[2KDownloading: deinococcus_radiodurans_complete.zip    7.93MB 1.19MB/s\n",
      "\u001b[1A\u001b[2KDownloading: deinococcus_radiodurans_complete.zip    7.93MB 1.19MB/s\n",
      "\u001b[1A\u001b[2KDownloading: deinococcus_radiodurans_complete.zip    7.93MB 1.19MB/s\n",
      "\u001b[1A\u001b[2KDownloading: deinococcus_radiodurans_complete.zip    7.93MB 1.19MB/s\n",
      "\u001b[1A\u001b[2KDownloading: deinococcus_radiodurans_complete.zip    7.93MB 1.19MB/s\n",
      "\u001b[1A\u001b[2KDownloading: deinococcus_radiodurans_complete.zip    7.93MB 1.19MB/s\n",
      "\u001b[1A\u001b[2KDownloading: deinococcus_radiodurans_complete.zip    7.93MB 1.19MB/s\n",
      "\u001b[1A\u001b[2KDownloading: deinococcus_radiodurans_complete.zip    7.93MB 1.19MB/s\n",
      "\u001b[1A\u001b[2KDownloading: deinococcus_radiodurans_complete.zip    7.93MB 1.19MB/s\n",
      "\u001b[1A\u001b[2KDownloading: deinococcus_radiodurans_complete.zip    7.93MB 1.19MB/s\n",
      "\u001b[1A\u001b[2KDownloading: deinococcus_radiodurans_complete.zip    7.93MB 1.19MB/s\n",
      "\u001b[1A\u001b[2KDownloading: deinococcus_radiodurans_complete.zip    7.93MB 1.19MB/s\n",
      "\u001b[1A\u001b[2KDownloading: deinococcus_radiodurans_complete.zip    7.93MB 1.19MB/s\n",
      "\u001b[1A\u001b[2KDownloading: deinococcus_radiodurans_complete.zip    7.93MB 1.19MB/s\n"
     ]
    },
    {
     "name": "stdout",
     "output_type": "stream",
     "text": [
      "\u001b[1A\u001b[2KDownloading: deinococcus_radiodurans_complete.zip    7.93MB 1.19MB/s\n",
      "\u001b[1A\u001b[2KDownloading: deinococcus_radiodurans_complete.zip    7.93MB 1.19MB/s\n",
      "\u001b[1A\u001b[2KDownloading: deinococcus_radiodurans_complete.zip    7.93MB 1.19MB/s\n",
      "\u001b[1A\u001b[2KDownloading: deinococcus_radiodurans_complete.zip    7.93MB 1.19MB/s\n",
      "\u001b[1A\u001b[2KDownloading: deinococcus_radiodurans_complete.zip    7.93MB 1.19MB/s\n",
      "\u001b[1A\u001b[2KDownloading: deinococcus_radiodurans_complete.zip    7.93MB 1.19MB/s\n",
      "\u001b[1A\u001b[2KDownloading: deinococcus_radiodurans_complete.zip    7.93MB 1.19MB/s\n",
      "\u001b[1A\u001b[2KDownloading: deinococcus_radiodurans_complete.zip    7.93MB 1.19MB/s\n",
      "\u001b[1A\u001b[2KDownloading: deinococcus_radiodurans_complete.zip    7.93MB 1.19MB/s\n",
      "\u001b[1A\u001b[2KDownloading: deinococcus_radiodurans_complete.zip    7.93MB 1.19MB/s\n",
      "\u001b[1A\u001b[2KDownloading: deinococcus_radiodurans_complete.zip    7.93MB 1.19MB/s\n",
      "\u001b[1A\u001b[2KDownloading: deinococcus_radiodurans_complete.zip    7.93MB 1.19MB/s\n",
      "\u001b[1A\u001b[2KDownloading: deinococcus_radiodurans_complete.zip    7.93MB 1.19MB/s\n",
      "\u001b[1A\u001b[2KDownloading: deinococcus_radiodurans_complete.zip    7.93MB 1.19MB/s\n",
      "\u001b[1A\u001b[2KDownloading: deinococcus_radiodurans_complete.zip    7.93MB 1.19MB/s\n",
      "\u001b[1A\u001b[2KDownloading: deinococcus_radiodurans_complete.zip    7.93MB 1.19MB/s\n",
      "\u001b[1A\u001b[2KDownloading: deinococcus_radiodurans_complete.zip    7.93MB 1.19MB/s\n",
      "\u001b[1A\u001b[2KDownloading: deinococcus_radiodurans_complete.zip    7.93MB 1.19MB/s\n",
      "\u001b[1A\u001b[2KDownloading: deinococcus_radiodurans_complete.zip    7.93MB 1.19MB/s\n",
      "\u001b[1A\u001b[2KDownloading: deinococcus_radiodurans_complete.zip    7.93MB 1.19MB/s\n"
     ]
    },
    {
     "name": "stdout",
     "output_type": "stream",
     "text": [
      "\u001b[1A\u001b[2KDownloading: deinococcus_radiodurans_complete.zip    7.93MB 1.19MB/s\n",
      "\u001b[1A\u001b[2KDownloading: deinococcus_radiodurans_complete.zip    7.93MB 1.19MB/s\n",
      "\u001b[1A\u001b[2KDownloading: deinococcus_radiodurans_complete.zip    7.93MB 1.19MB/s\n",
      "\u001b[1A\u001b[2KDownloading: deinococcus_radiodurans_complete.zip    7.93MB 1.19MB/s\n",
      "\u001b[1A\u001b[2KDownloading: deinococcus_radiodurans_complete.zip    7.93MB 1.19MB/s\n",
      "\u001b[1A\u001b[2KDownloading: deinococcus_radiodurans_complete.zip    7.93MB 1.19MB/s\n",
      "\u001b[1A\u001b[2KDownloading: deinococcus_radiodurans_complete.zip    7.93MB 1.19MB/s\n",
      "\u001b[1A\u001b[2KDownloading: deinococcus_radiodurans_complete.zip    7.93MB 1.19MB/s\n",
      "\u001b[1A\u001b[2KDownloading: deinococcus_radiodurans_complete.zip    7.93MB 1.19MB/s\n",
      "\u001b[1A\u001b[2KDownloading: deinococcus_radiodurans_complete.zip    8MB 1.12MB/s\n",
      "\u001b[1A\u001b[2KDownloading: deinococcus_radiodurans_complete.zip    8.19MB 1.15MB/s\n",
      "\u001b[1A\u001b[2KDownloading: deinococcus_radiodurans_complete.zip    8.19MB 1.15MB/s\n",
      "\u001b[1A\u001b[2KDownloading: deinococcus_radiodurans_complete.zip    8.19MB 1.15MB/s\n",
      "\u001b[1A\u001b[2KDownloading: deinococcus_radiodurans_complete.zip    8.19MB 1.15MB/s\n",
      "\u001b[1A\u001b[2KDownloading: deinococcus_radiodurans_complete.zip    8.19MB 1.15MB/s\n",
      "\u001b[1A\u001b[2KDownloading: deinococcus_radiodurans_complete.zip    8.19MB 1.15MB/s\n",
      "\u001b[1A\u001b[2KDownloading: deinococcus_radiodurans_complete.zip    8.19MB 1.15MB/s\n",
      "\u001b[1A\u001b[2KDownloading: deinococcus_radiodurans_complete.zip    8.19MB 1.15MB/s\n",
      "\u001b[1A\u001b[2KDownloading: deinococcus_radiodurans_complete.zip    8.19MB 1.15MB/s\n",
      "\u001b[1A\u001b[2KDownloading: deinococcus_radiodurans_complete.zip    8.19MB 1.15MB/s\n"
     ]
    },
    {
     "name": "stdout",
     "output_type": "stream",
     "text": [
      "\u001b[1A\u001b[2KDownloading: deinococcus_radiodurans_complete.zip    8.19MB 1.15MB/s\n",
      "\u001b[1A\u001b[2KDownloading: deinococcus_radiodurans_complete.zip    8.19MB 1.15MB/s\n",
      "\u001b[1A\u001b[2KDownloading: deinococcus_radiodurans_complete.zip    8.19MB 1.15MB/s\n",
      "\u001b[1A\u001b[2KDownloading: deinococcus_radiodurans_complete.zip    8.19MB 1.15MB/s\n",
      "\u001b[1A\u001b[2KDownloading: deinococcus_radiodurans_complete.zip    8.19MB 1.15MB/s\n",
      "\u001b[1A\u001b[2KDownloading: deinococcus_radiodurans_complete.zip    8.19MB 1.15MB/s\n",
      "\u001b[1A\u001b[2KDownloading: deinococcus_radiodurans_complete.zip    8.19MB 1.15MB/s\n",
      "\u001b[1A\u001b[2KDownloading: deinococcus_radiodurans_complete.zip    8.19MB 1.15MB/s\n",
      "\u001b[1A\u001b[2KDownloading: deinococcus_radiodurans_complete.zip    8.19MB 1.15MB/s\n",
      "\u001b[1A\u001b[2KDownloading: deinococcus_radiodurans_complete.zip    8.19MB 1.15MB/s\n",
      "\u001b[1A\u001b[2KDownloading: deinococcus_radiodurans_complete.zip    8.19MB 1.15MB/s\n",
      "\u001b[1A\u001b[2KDownloading: deinococcus_radiodurans_complete.zip    8.19MB 1.15MB/s\n",
      "\u001b[1A\u001b[2KDownloading: deinococcus_radiodurans_complete.zip    8.19MB 1.15MB/s\n",
      "\u001b[1A\u001b[2KDownloading: deinococcus_radiodurans_complete.zip    8.19MB 1.15MB/s\n",
      "\u001b[1A\u001b[2KDownloading: deinococcus_radiodurans_complete.zip    8.19MB 1.15MB/s\n",
      "\u001b[1A\u001b[2KDownloading: deinococcus_radiodurans_complete.zip    8.19MB 1.15MB/s\n",
      "\u001b[1A\u001b[2KDownloading: deinococcus_radiodurans_complete.zip    8.19MB 1.15MB/s\n",
      "\u001b[1A\u001b[2KDownloading: deinococcus_radiodurans_complete.zip    8.19MB 1.15MB/s\n",
      "\u001b[1A\u001b[2KDownloading: deinococcus_radiodurans_complete.zip    8.19MB 1.15MB/s\n"
     ]
    },
    {
     "name": "stdout",
     "output_type": "stream",
     "text": [
      "\u001b[1A\u001b[2KDownloading: deinococcus_radiodurans_complete.zip    8.49MB 1.14MB/s\n",
      "\u001b[1A\u001b[2KDownloading: deinococcus_radiodurans_complete.zip    8.49MB 1.14MB/s\n",
      "\u001b[1A\u001b[2KDownloading: deinococcus_radiodurans_complete.zip    8.49MB 1.14MB/s\n",
      "\u001b[1A\u001b[2KDownloading: deinococcus_radiodurans_complete.zip    8.49MB 1.14MB/s\n",
      "\u001b[1A\u001b[2KDownloading: deinococcus_radiodurans_complete.zip    8.49MB 1.14MB/s\n",
      "\u001b[1A\u001b[2KDownloading: deinococcus_radiodurans_complete.zip    8.49MB 1.14MB/s\n",
      "\u001b[1A\u001b[2KDownloading: deinococcus_radiodurans_complete.zip    8.49MB 1.14MB/s\n",
      "\u001b[1A\u001b[2KDownloading: deinococcus_radiodurans_complete.zip    8.49MB 1.14MB/s\n",
      "\u001b[1A\u001b[2KDownloading: deinococcus_radiodurans_complete.zip    8.49MB 1.14MB/s\n",
      "\u001b[1A\u001b[2KDownloading: deinococcus_radiodurans_complete.zip    8.49MB 1.14MB/s\n",
      "\u001b[1A\u001b[2KDownloading: deinococcus_radiodurans_complete.zip    8.49MB 1.14MB/s\n",
      "\u001b[1A\u001b[2KDownloading: deinococcus_radiodurans_complete.zip    8.49MB 1.14MB/s\n",
      "\u001b[1A\u001b[2KDownloading: deinococcus_radiodurans_complete.zip    8.49MB 1.14MB/s\n",
      "\u001b[1A\u001b[2KDownloading: deinococcus_radiodurans_complete.zip    8.49MB 1.14MB/s\n",
      "\u001b[1A\u001b[2KDownloading: deinococcus_radiodurans_complete.zip    8.49MB 1.14MB/s\n",
      "\u001b[1A\u001b[2KDownloading: deinococcus_radiodurans_complete.zip    8.49MB 1.14MB/s\n",
      "\u001b[1A\u001b[2KDownloading: deinococcus_radiodurans_complete.zip    8.49MB 1.14MB/s\n",
      "\u001b[1A\u001b[2KDownloading: deinococcus_radiodurans_complete.zip    8.49MB 1.14MB/s\n",
      "\u001b[1A\u001b[2KDownloading: deinococcus_radiodurans_complete.zip    8.49MB 1.14MB/s\n",
      "\u001b[1A\u001b[2KDownloading: deinococcus_radiodurans_complete.zip    8.49MB 1.14MB/s\n"
     ]
    },
    {
     "name": "stdout",
     "output_type": "stream",
     "text": [
      "\u001b[1A\u001b[2KDownloading: deinococcus_radiodurans_complete.zip    8.49MB 1.14MB/s\n",
      "\u001b[1A\u001b[2KDownloading: deinococcus_radiodurans_complete.zip    8.49MB 1.14MB/s\n",
      "\u001b[1A\u001b[2KDownloading: deinococcus_radiodurans_complete.zip    8.49MB 1.14MB/s\n",
      "\u001b[1A\u001b[2KDownloading: deinococcus_radiodurans_complete.zip    8.49MB 1.14MB/s\n",
      "\u001b[1A\u001b[2KDownloading: deinococcus_radiodurans_complete.zip    8.49MB 1.14MB/s\n",
      "\u001b[1A\u001b[2KDownloading: deinococcus_radiodurans_complete.zip    8.49MB 1.14MB/s\n",
      "\u001b[1A\u001b[2KDownloading: deinococcus_radiodurans_complete.zip    8.49MB 1.14MB/s\n",
      "\u001b[1A\u001b[2KDownloading: deinococcus_radiodurans_complete.zip    8.49MB 1.14MB/s\n",
      "\u001b[1A\u001b[2KDownloading: deinococcus_radiodurans_complete.zip    8.49MB 1.14MB/s\n",
      "\u001b[1A\u001b[2KDownloading: deinococcus_radiodurans_complete.zip    8.49MB 1.14MB/s\n",
      "\u001b[1A\u001b[2KDownloading: deinococcus_radiodurans_complete.zip    8.49MB 1.14MB/s\n",
      "\u001b[1A\u001b[2KDownloading: deinococcus_radiodurans_complete.zip    8.49MB 1.14MB/s\n",
      "\u001b[1A\u001b[2KDownloading: deinococcus_radiodurans_complete.zip    8.49MB 1.14MB/s\n",
      "\u001b[1A\u001b[2KDownloading: deinococcus_radiodurans_complete.zip    8.49MB 1.14MB/s\n",
      "\u001b[1A\u001b[2KDownloading: deinococcus_radiodurans_complete.zip    8.49MB 1.14MB/s\n",
      "\u001b[1A\u001b[2KDownloading: deinococcus_radiodurans_complete.zip    8.49MB 1.14MB/s\n",
      "\u001b[1A\u001b[2KDownloading: deinococcus_radiodurans_complete.zip    8.49MB 1.14MB/s\n",
      "\u001b[1A\u001b[2KDownloading: deinococcus_radiodurans_complete.zip    8.49MB 1.14MB/s\n",
      "\u001b[1A\u001b[2KDownloading: deinococcus_radiodurans_complete.zip    8.49MB 1.14MB/s\n",
      "\u001b[1A\u001b[2KDownloading: deinococcus_radiodurans_complete.zip    8.68MB 1.11MB/s\n"
     ]
    },
    {
     "name": "stdout",
     "output_type": "stream",
     "text": [
      "\u001b[1A\u001b[2KDownloading: deinococcus_radiodurans_complete.zip    8.68MB 1.11MB/s\n",
      "\u001b[1A\u001b[2KDownloading: deinococcus_radiodurans_complete.zip    8.68MB 1.11MB/s\n",
      "\u001b[1A\u001b[2KDownloading: deinococcus_radiodurans_complete.zip    8.68MB 1.11MB/s\n",
      "\u001b[1A\u001b[2KDownloading: deinococcus_radiodurans_complete.zip    8.68MB 1.11MB/s\n",
      "\u001b[1A\u001b[2KDownloading: deinococcus_radiodurans_complete.zip    8.68MB 1.11MB/s\n",
      "\u001b[1A\u001b[2KDownloading: deinococcus_radiodurans_complete.zip    8.68MB 1.11MB/s\n",
      "\u001b[1A\u001b[2KDownloading: deinococcus_radiodurans_complete.zip    8.68MB 1.11MB/s\n",
      "\u001b[1A\u001b[2KDownloading: deinococcus_radiodurans_complete.zip    8.68MB 1.11MB/s\n",
      "\u001b[1A\u001b[2KDownloading: deinococcus_radiodurans_complete.zip    8.68MB 1.11MB/s\n",
      "\u001b[1A\u001b[2KDownloading: deinococcus_radiodurans_complete.zip    8.68MB 1.11MB/s\n",
      "\u001b[1A\u001b[2KDownloading: deinococcus_radiodurans_complete.zip    8.68MB 1.11MB/s\n",
      "\u001b[1A\u001b[2KDownloading: deinococcus_radiodurans_complete.zip    8.68MB 1.11MB/s\n",
      "\u001b[1A\u001b[2KDownloading: deinococcus_radiodurans_complete.zip    8.68MB 1.11MB/s\n",
      "\u001b[1A\u001b[2KDownloading: deinococcus_radiodurans_complete.zip    8.68MB 1.11MB/s\n",
      "\u001b[1A\u001b[2KDownloading: deinococcus_radiodurans_complete.zip    8.68MB 1.11MB/s\n",
      "\u001b[1A\u001b[2KDownloading: deinococcus_radiodurans_complete.zip    8.68MB 1.11MB/s\n",
      "\u001b[1A\u001b[2KDownloading: deinococcus_radiodurans_complete.zip    8.68MB 1.11MB/s\n",
      "\u001b[1A\u001b[2KDownloading: deinococcus_radiodurans_complete.zip    8.68MB 1.11MB/s\n",
      "\u001b[1A\u001b[2KDownloading: deinococcus_radiodurans_complete.zip    8.95MB 1.11MB/s\n"
     ]
    },
    {
     "name": "stdout",
     "output_type": "stream",
     "text": [
      "\u001b[1A\u001b[2KDownloading: deinococcus_radiodurans_complete.zip    8.95MB 1.11MB/s\n",
      "\u001b[1A\u001b[2KDownloading: deinococcus_radiodurans_complete.zip    8.95MB 1.11MB/s\n",
      "\u001b[1A\u001b[2KDownloading: deinococcus_radiodurans_complete.zip    8.95MB 1.11MB/s\n",
      "\u001b[1A\u001b[2KDownloading: deinococcus_radiodurans_complete.zip    8.95MB 1.11MB/s\n",
      "\u001b[1A\u001b[2KDownloading: deinococcus_radiodurans_complete.zip    8.95MB 1.11MB/s\n",
      "\u001b[1A\u001b[2KDownloading: deinococcus_radiodurans_complete.zip    8.95MB 1.11MB/s\n",
      "\u001b[1A\u001b[2KDownloading: deinococcus_radiodurans_complete.zip    8.95MB 1.11MB/s\n",
      "\u001b[1A\u001b[2KDownloading: deinococcus_radiodurans_complete.zip    8.95MB 1.11MB/s\n",
      "\u001b[1A\u001b[2KDownloading: deinococcus_radiodurans_complete.zip    8.95MB 1.11MB/s\n",
      "\u001b[1A\u001b[2KDownloading: deinococcus_radiodurans_complete.zip    8.95MB 1.11MB/s\n",
      "\u001b[1A\u001b[2KDownloading: deinococcus_radiodurans_complete.zip    8.95MB 1.11MB/s\n",
      "\u001b[1A\u001b[2KDownloading: deinococcus_radiodurans_complete.zip    8.95MB 1.11MB/s\n",
      "\u001b[1A\u001b[2KDownloading: deinococcus_radiodurans_complete.zip    8.95MB 1.11MB/s\n",
      "\u001b[1A\u001b[2KDownloading: deinococcus_radiodurans_complete.zip    8.95MB 1.11MB/s\n",
      "\u001b[1A\u001b[2KDownloading: deinococcus_radiodurans_complete.zip    8.95MB 1.11MB/s\n",
      "\u001b[1A\u001b[2KDownloading: deinococcus_radiodurans_complete.zip    8.95MB 1.11MB/s\n",
      "\u001b[1A\u001b[2KDownloading: deinococcus_radiodurans_complete.zip    8.95MB 1.11MB/s\n",
      "\u001b[1A\u001b[2KDownloading: deinococcus_radiodurans_complete.zip    8.95MB 1.11MB/s\n",
      "\u001b[1A\u001b[2KDownloading: deinococcus_radiodurans_complete.zip    8.95MB 1.11MB/s\n",
      "\u001b[1A\u001b[2KDownloading: deinococcus_radiodurans_complete.zip    9.08MB 1.1MB/s\n"
     ]
    },
    {
     "name": "stdout",
     "output_type": "stream",
     "text": [
      "\u001b[1A\u001b[2KDownloading: deinococcus_radiodurans_complete.zip    9.08MB 1.1MB/s\n",
      "\u001b[1A\u001b[2KDownloading: deinococcus_radiodurans_complete.zip    9.08MB 1.1MB/s\n",
      "\u001b[1A\u001b[2KDownloading: deinococcus_radiodurans_complete.zip    9.08MB 1.1MB/s\n",
      "\u001b[1A\u001b[2KDownloading: deinococcus_radiodurans_complete.zip    9.08MB 1.1MB/s\n",
      "\u001b[1A\u001b[2KDownloading: deinococcus_radiodurans_complete.zip    9.08MB 1.1MB/s\n",
      "\u001b[1A\u001b[2KDownloading: deinococcus_radiodurans_complete.zip    9.08MB 1.1MB/s\n",
      "\u001b[1A\u001b[2KDownloading: deinococcus_radiodurans_complete.zip    9.08MB 1.1MB/s\n",
      "\u001b[1A\u001b[2KDownloading: deinococcus_radiodurans_complete.zip    9.08MB 1.1MB/s\n",
      "\u001b[1A\u001b[2KDownloading: deinococcus_radiodurans_complete.zip    9.08MB 1.1MB/s\n",
      "\u001b[1A\u001b[2KDownloading: deinococcus_radiodurans_complete.zip    9.08MB 1.1MB/s\n",
      "\u001b[1A\u001b[2KDownloading: deinococcus_radiodurans_complete.zip    9.08MB 1.1MB/s\n",
      "\u001b[1A\u001b[2KDownloading: deinococcus_radiodurans_complete.zip    9.08MB 1.1MB/s\n",
      "\u001b[1A\u001b[2KDownloading: deinococcus_radiodurans_complete.zip    9.08MB 1.1MB/s\n",
      "\u001b[1A\u001b[2KDownloading: deinococcus_radiodurans_complete.zip    9.08MB 1.1MB/s\n",
      "\u001b[1A\u001b[2KDownloading: deinococcus_radiodurans_complete.zip    9.08MB 1.1MB/s\n",
      "\u001b[1A\u001b[2KDownloading: deinococcus_radiodurans_complete.zip    9.21MB 1.09MB/s\n",
      "\u001b[1A\u001b[2KDownloading: deinococcus_radiodurans_complete.zip    9.21MB 1.09MB/s\n",
      "\u001b[1A\u001b[2KDownloading: deinococcus_radiodurans_complete.zip    9.21MB 1.09MB/s\n",
      "\u001b[1A\u001b[2KDownloading: deinococcus_radiodurans_complete.zip    9.21MB 1.09MB/s\n",
      "\u001b[1A\u001b[2KDownloading: deinococcus_radiodurans_complete.zip    9.21MB 1.09MB/s\n"
     ]
    },
    {
     "name": "stdout",
     "output_type": "stream",
     "text": [
      "\u001b[1A\u001b[2KDownloading: deinococcus_radiodurans_complete.zip    9.21MB 1.09MB/s\n",
      "\u001b[1A\u001b[2KDownloading: deinococcus_radiodurans_complete.zip    9.21MB 1.09MB/s\n",
      "\u001b[1A\u001b[2KDownloading: deinococcus_radiodurans_complete.zip    9.21MB 1.09MB/s\n",
      "\u001b[1A\u001b[2KDownloading: deinococcus_radiodurans_complete.zip    9.21MB 1.09MB/s\n",
      "\u001b[1A\u001b[2KDownloading: deinococcus_radiodurans_complete.zip    9.21MB 1.09MB/s\n",
      "\u001b[1A\u001b[2KDownloading: deinococcus_radiodurans_complete.zip    9.21MB 1.09MB/s\n",
      "\u001b[1A\u001b[2KDownloading: deinococcus_radiodurans_complete.zip    9.21MB 1.09MB/s\n",
      "\u001b[1A\u001b[2KDownloading: deinococcus_radiodurans_complete.zip    9.21MB 1.09MB/s\n",
      "\u001b[1A\u001b[2KDownloading: deinococcus_radiodurans_complete.zip    9.34MB 1.09MB/s\n",
      "\u001b[1A\u001b[2KDownloading: deinococcus_radiodurans_complete.zip    9.34MB 1.09MB/s\n",
      "\u001b[1A\u001b[2KDownloading: deinococcus_radiodurans_complete.zip    9.34MB 1.09MB/s\n",
      "\u001b[1A\u001b[2KDownloading: deinococcus_radiodurans_complete.zip    9.34MB 1.09MB/s\n",
      "\u001b[1A\u001b[2KDownloading: deinococcus_radiodurans_complete.zip    9.34MB 1.09MB/s\n",
      "\u001b[1A\u001b[2KDownloading: deinococcus_radiodurans_complete.zip    9.34MB 1.09MB/s\n",
      "\u001b[1A\u001b[2KDownloading: deinococcus_radiodurans_complete.zip    9.34MB 1.09MB/s\n",
      "\u001b[1A\u001b[2KDownloading: deinococcus_radiodurans_complete.zip    9.34MB 1.09MB/s\n",
      "\u001b[1A\u001b[2KDownloading: deinococcus_radiodurans_complete.zip    9.34MB 1.09MB/s\n",
      "\u001b[1A\u001b[2KDownloading: deinococcus_radiodurans_complete.zip    9.34MB 1.09MB/s\n",
      "\u001b[1A\u001b[2KDownloading: deinococcus_radiodurans_complete.zip    9.34MB 1.09MB/s\n",
      "\u001b[1A\u001b[2KDownloading: deinococcus_radiodurans_complete.zip    9.34MB 1.09MB/s\n"
     ]
    },
    {
     "name": "stdout",
     "output_type": "stream",
     "text": [
      "\u001b[1A\u001b[2KDownloading: deinococcus_radiodurans_complete.zip    9.34MB 1.09MB/s\n",
      "\u001b[1A\u001b[2KDownloading: deinococcus_radiodurans_complete.zip    9.34MB 1.09MB/s\n",
      "\u001b[1A\u001b[2KDownloading: deinococcus_radiodurans_complete.zip    9.34MB 1.09MB/s\n",
      "\u001b[1A\u001b[2KDownloading: deinococcus_radiodurans_complete.zip    9.34MB 1.09MB/s\n",
      "\u001b[1A\u001b[2KDownloading: deinococcus_radiodurans_complete.zip    9.34MB 1.09MB/s\n",
      "\u001b[1A\u001b[2KDownloading: deinococcus_radiodurans_complete.zip    9.34MB 1.09MB/s\n",
      "\u001b[1A\u001b[2KDownloading: deinococcus_radiodurans_complete.zip    9.34MB 1.09MB/s\n",
      "\u001b[1A\u001b[2KDownloading: deinococcus_radiodurans_complete.zip    9.34MB 1.09MB/s\n",
      "\u001b[1A\u001b[2KDownloading: deinococcus_radiodurans_complete.zip    9.34MB 1.09MB/s\n",
      "\u001b[1A\u001b[2KDownloading: deinococcus_radiodurans_complete.zip    9.37MB 1.07MB/s\n",
      "\u001b[1A\u001b[2KDownloading: deinococcus_radiodurans_complete.zip    9.44MB 1.08MB/s\n",
      "\u001b[1A\u001b[2KDownloading: deinococcus_radiodurans_complete.zip    9.5MB 1.08MB/s\n",
      "\u001b[1A\u001b[2KDownloading: deinococcus_radiodurans_complete.zip    9.5MB 1.08MB/s\n",
      "\u001b[1A\u001b[2KDownloading: deinococcus_radiodurans_complete.zip    9.5MB 1.08MB/s\n",
      "\u001b[1A\u001b[2KDownloading: deinococcus_radiodurans_complete.zip    9.5MB 1.08MB/s\n",
      "\u001b[1A\u001b[2KDownloading: deinococcus_radiodurans_complete.zip    9.5MB 1.08MB/s\n",
      "\u001b[1A\u001b[2KDownloading: deinococcus_radiodurans_complete.zip    9.5MB 1.08MB/s\n",
      "\u001b[1A\u001b[2KDownloading: deinococcus_radiodurans_complete.zip    9.5MB 1.08MB/s\n",
      "\u001b[1A\u001b[2KDownloading: deinococcus_radiodurans_complete.zip    9.5MB 1.08MB/s\n",
      "\u001b[1A\u001b[2KDownloading: deinococcus_radiodurans_complete.zip    9.5MB 1.08MB/s\n"
     ]
    },
    {
     "name": "stdout",
     "output_type": "stream",
     "text": [
      "\u001b[1A\u001b[2KDownloading: deinococcus_radiodurans_complete.zip    9.5MB 1.08MB/s\n",
      "\u001b[1A\u001b[2KDownloading: deinococcus_radiodurans_complete.zip    9.5MB 1.08MB/s\n",
      "\u001b[1A\u001b[2KDownloading: deinococcus_radiodurans_complete.zip    9.5MB 1.08MB/s\n",
      "\u001b[1A\u001b[2KDownloading: deinococcus_radiodurans_complete.zip    9.54MB 1.07MB/s\n",
      "\u001b[1A\u001b[2KDownloading: deinococcus_radiodurans_complete.zip    9.6MB 1.08MB/s\n",
      "\u001b[1A\u001b[2KDownloading: deinococcus_radiodurans_complete.zip    9.63MB 1.08MB/s\n",
      "\u001b[1A\u001b[2KDownloading: deinococcus_radiodurans_complete.zip    9.63MB 1.08MB/s\n",
      "\u001b[1A\u001b[2KDownloading: deinococcus_radiodurans_complete.zip    9.63MB 1.08MB/s\n",
      "\u001b[1A\u001b[2KDownloading: deinococcus_radiodurans_complete.zip    9.63MB 1.08MB/s\n",
      "\u001b[1A\u001b[2KDownloading: deinococcus_radiodurans_complete.zip    9.63MB 1.08MB/s\n",
      "\u001b[1A\u001b[2KDownloading: deinococcus_radiodurans_complete.zip    9.63MB 1.08MB/s\n",
      "\u001b[1A\u001b[2KDownloading: deinococcus_radiodurans_complete.zip    9.63MB 1.08MB/s\n",
      "\u001b[1A\u001b[2KDownloading: deinococcus_radiodurans_complete.zip    9.63MB 1.08MB/s\n",
      "\u001b[1A\u001b[2KDownloading: deinococcus_radiodurans_complete.zip    9.63MB 1.08MB/s\n",
      "\u001b[1A\u001b[2KDownloading: deinococcus_radiodurans_complete.zip    9.63MB 1.08MB/s\n",
      "\u001b[1A\u001b[2KDownloading: deinococcus_radiodurans_complete.zip    9.63MB 1.08MB/s\n",
      "\u001b[1A\u001b[2KDownloading: deinococcus_radiodurans_complete.zip    9.63MB 1.08MB/s\n",
      "\u001b[1A\u001b[2KDownloading: deinococcus_radiodurans_complete.zip    9.63MB 1.08MB/s\n",
      "\u001b[1A\u001b[2KDownloading: deinococcus_radiodurans_complete.zip    9.63MB 1.08MB/s\n",
      "\u001b[1A\u001b[2KDownloading: deinococcus_radiodurans_complete.zip    9.63MB 1.08MB/s\n"
     ]
    },
    {
     "name": "stdout",
     "output_type": "stream",
     "text": [
      "\u001b[1A\u001b[2KDownloading: deinococcus_radiodurans_complete.zip    9.63MB 1.08MB/s\n",
      "\u001b[1A\u001b[2KDownloading: deinococcus_radiodurans_complete.zip    9.76MB 1.07MB/s\n",
      "\u001b[1A\u001b[2KDownloading: deinococcus_radiodurans_complete.zip    9.76MB 1.07MB/s\n",
      "\u001b[1A\u001b[2KDownloading: deinococcus_radiodurans_complete.zip    9.76MB 1.07MB/s\n",
      "\u001b[1A\u001b[2KDownloading: deinococcus_radiodurans_complete.zip    9.76MB 1.07MB/s\n",
      "\u001b[1A\u001b[2KDownloading: deinococcus_radiodurans_complete.zip    9.76MB 1.07MB/s\n",
      "\u001b[1A\u001b[2KDownloading: deinococcus_radiodurans_complete.zip    9.76MB 1.07MB/s\n",
      "\u001b[1A\u001b[2KDownloading: deinococcus_radiodurans_complete.zip    9.76MB 1.07MB/s\n",
      "\u001b[1A\u001b[2KDownloading: deinococcus_radiodurans_complete.zip    9.76MB 1.07MB/s\n",
      "\u001b[1A\u001b[2KDownloading: deinococcus_radiodurans_complete.zip    9.76MB 1.07MB/s\n",
      "\u001b[1A\u001b[2KDownloading: deinococcus_radiodurans_complete.zip    9.76MB 1.07MB/s\n",
      "\u001b[1A\u001b[2KDownloading: deinococcus_radiodurans_complete.zip    9.76MB 1.07MB/s\n",
      "\u001b[1A\u001b[2KDownloading: deinococcus_radiodurans_complete.zip    9.76MB 1.07MB/s\n",
      "\u001b[1A\u001b[2KDownloading: deinococcus_radiodurans_complete.zip    9.76MB 1.07MB/s\n",
      "\u001b[1A\u001b[2KDownloading: deinococcus_radiodurans_complete.zip    9.76MB 1.07MB/s\n",
      "\u001b[1A\u001b[2KDownloading: deinococcus_radiodurans_complete.zip    9.76MB 1.07MB/s\n",
      "\u001b[1A\u001b[2KDownloading: deinococcus_radiodurans_complete.zip    9.76MB 1.07MB/s\n",
      "\u001b[1A\u001b[2KDownloading: deinococcus_radiodurans_complete.zip    9.76MB 1.07MB/s\n",
      "\u001b[1A\u001b[2KDownloading: deinococcus_radiodurans_complete.zip    9.76MB 1.07MB/s\n",
      "\u001b[1A\u001b[2KDownloading: deinococcus_radiodurans_complete.zip    9.76MB 1.07MB/s\n"
     ]
    },
    {
     "name": "stdout",
     "output_type": "stream",
     "text": [
      "\u001b[1A\u001b[2KDownloading: deinococcus_radiodurans_complete.zip    9.76MB 1.07MB/s\n",
      "\u001b[1A\u001b[2KDownloading: deinococcus_radiodurans_complete.zip    9.93MB 1.07MB/s\n",
      "\u001b[1A\u001b[2KDownloading: deinococcus_radiodurans_complete.zip    9.93MB 1.07MB/s\n",
      "\u001b[1A\u001b[2KDownloading: deinococcus_radiodurans_complete.zip    9.93MB 1.07MB/s\n",
      "\u001b[1A\u001b[2KDownloading: deinococcus_radiodurans_complete.zip    9.93MB 1.07MB/s\n",
      "\u001b[1A\u001b[2KDownloading: deinococcus_radiodurans_complete.zip    9.93MB 1.07MB/s\n",
      "\u001b[1A\u001b[2KDownloading: deinococcus_radiodurans_complete.zip    9.93MB 1.07MB/s\n",
      "\u001b[1A\u001b[2KDownloading: deinococcus_radiodurans_complete.zip    9.93MB 1.07MB/s\n",
      "\u001b[1A\u001b[2KDownloading: deinococcus_radiodurans_complete.zip    9.93MB 1.07MB/s\n",
      "\u001b[1A\u001b[2KDownloading: deinococcus_radiodurans_complete.zip    9.93MB 1.07MB/s\n",
      "\u001b[1A\u001b[2KDownloading: deinococcus_radiodurans_complete.zip    9.93MB 1.07MB/s\n",
      "\u001b[1A\u001b[2KDownloading: deinococcus_radiodurans_complete.zip    9.93MB 1.07MB/s\n",
      "\u001b[1A\u001b[2KDownloading: deinococcus_radiodurans_complete.zip    9.93MB 1.07MB/s\n",
      "\u001b[1A\u001b[2KDownloading: deinococcus_radiodurans_complete.zip    9.93MB 1.07MB/s\n",
      "\u001b[1A\u001b[2KDownloading: deinococcus_radiodurans_complete.zip    9.93MB 1.07MB/s\n",
      "\u001b[1A\u001b[2KDownloading: deinococcus_radiodurans_complete.zip    9.93MB 1.07MB/s\n",
      "\u001b[1A\u001b[2KDownloading: deinococcus_radiodurans_complete.zip    9.93MB 1.07MB/s\n",
      "\u001b[1A\u001b[2KDownloading: deinococcus_radiodurans_complete.zip    9.93MB 1.07MB/s\n",
      "\u001b[1A\u001b[2KDownloading: deinococcus_radiodurans_complete.zip    9.93MB 1.07MB/s\n",
      "\u001b[1A\u001b[2KDownloading: deinococcus_radiodurans_complete.zip    9.93MB 1.07MB/s\n"
     ]
    },
    {
     "name": "stdout",
     "output_type": "stream",
     "text": [
      "\u001b[1A\u001b[2KDownloading: deinococcus_radiodurans_complete.zip    9.93MB 1.07MB/s\n",
      "\u001b[1A\u001b[2KDownloading: deinococcus_radiodurans_complete.zip    10MB 1.05MB/s\n",
      "\u001b[1A\u001b[2KDownloading: deinococcus_radiodurans_complete.zip    10.1MB 1.06MB/s\n",
      "\u001b[1A\u001b[2KDownloading: deinococcus_radiodurans_complete.zip    10.1MB 1.06MB/s\n",
      "\u001b[1A\u001b[2KDownloading: deinococcus_radiodurans_complete.zip    10.1MB 1.06MB/s\n",
      "\u001b[1A\u001b[2KDownloading: deinococcus_radiodurans_complete.zip    10.1MB 1.06MB/s\n",
      "\u001b[1A\u001b[2KDownloading: deinococcus_radiodurans_complete.zip    10.1MB 1.06MB/s\n",
      "\u001b[1A\u001b[2KDownloading: deinococcus_radiodurans_complete.zip    10.1MB 1.06MB/s\n",
      "\u001b[1A\u001b[2KDownloading: deinococcus_radiodurans_complete.zip    10.1MB 1.06MB/s\n",
      "\u001b[1A\u001b[2KDownloading: deinococcus_radiodurans_complete.zip    10.1MB 1.06MB/s\n",
      "\u001b[1A\u001b[2KDownloading: deinococcus_radiodurans_complete.zip    10.1MB 1.06MB/s\n",
      "\u001b[1A\u001b[2KDownloading: deinococcus_radiodurans_complete.zip    10.1MB 1.06MB/s\n",
      "\u001b[1A\u001b[2KDownloading: deinococcus_radiodurans_complete.zip    10.1MB 1.06MB/s\n",
      "\u001b[1A\u001b[2KDownloading: deinococcus_radiodurans_complete.zip    10.1MB 1.06MB/s\n",
      "\u001b[1A\u001b[2KDownloading: deinococcus_radiodurans_complete.zip    10.2MB 1.05MB/s\n",
      "\u001b[1A\u001b[2KDownloading: deinococcus_radiodurans_complete.zip    10.2MB 1.06MB/s\n",
      "\u001b[1A\u001b[2KDownloading: deinococcus_radiodurans_complete.zip    10.2MB 1.06MB/s\n",
      "\u001b[1A\u001b[2KDownloading: deinococcus_radiodurans_complete.zip    10.2MB 1.06MB/s\n",
      "\u001b[1A\u001b[2KDownloading: deinococcus_radiodurans_complete.zip    10.2MB 1.06MB/s\n",
      "\u001b[1A\u001b[2KDownloading: deinococcus_radiodurans_complete.zip    10.2MB 1.06MB/s\n"
     ]
    },
    {
     "name": "stdout",
     "output_type": "stream",
     "text": [
      "\u001b[1A\u001b[2KDownloading: deinococcus_radiodurans_complete.zip    10.2MB 1.06MB/s\n",
      "\u001b[1A\u001b[2KDownloading: deinococcus_radiodurans_complete.zip    10.2MB 1.06MB/s\n",
      "\u001b[1A\u001b[2KDownloading: deinococcus_radiodurans_complete.zip    10.2MB 1.06MB/s\n",
      "\u001b[1A\u001b[2KDownloading: deinococcus_radiodurans_complete.zip    10.2MB 1.06MB/s\n",
      "\u001b[1A\u001b[2KDownloading: deinococcus_radiodurans_complete.zip    10.2MB 1.06MB/s\n",
      "\u001b[1A\u001b[2KDownloading: deinococcus_radiodurans_complete.zip    10.2MB 1.06MB/s\n",
      "\u001b[1A\u001b[2KDownloading: deinococcus_radiodurans_complete.zip    10.2MB 1.06MB/s\n",
      "\u001b[1A\u001b[2KDownloading: deinococcus_radiodurans_complete.zip    10.2MB 1.06MB/s\n",
      "\u001b[1A\u001b[2KDownloading: deinococcus_radiodurans_complete.zip    10.2MB 1.06MB/s\n",
      "\u001b[1A\u001b[2KDownloading: deinococcus_radiodurans_complete.zip    10.2MB 1.06MB/s\n",
      "\u001b[1A\u001b[2KDownloading: deinococcus_radiodurans_complete.zip    10.2MB 1.06MB/s\n",
      "\u001b[1A\u001b[2KDownloading: deinococcus_radiodurans_complete.zip    10.3MB 1.05MB/s\n",
      "\u001b[1A\u001b[2KDownloading: deinococcus_radiodurans_complete.zip    10.4MB 1.06MB/s\n",
      "\u001b[1A\u001b[2KDownloading: deinococcus_radiodurans_complete.zip    10.4MB 1.06MB/s\n",
      "\u001b[1A\u001b[2KDownloading: deinococcus_radiodurans_complete.zip    10.4MB 1.06MB/s\n",
      "\u001b[1A\u001b[2KDownloading: deinococcus_radiodurans_complete.zip    10.4MB 1.06MB/s\n",
      "\u001b[1A\u001b[2KDownloading: deinococcus_radiodurans_complete.zip    10.4MB 1.06MB/s\n",
      "\u001b[1A\u001b[2KDownloading: deinococcus_radiodurans_complete.zip    10.4MB 1.06MB/s\n",
      "\u001b[1A\u001b[2KDownloading: deinococcus_radiodurans_complete.zip    10.4MB 1.06MB/s\n",
      "\u001b[1A\u001b[2KDownloading: deinococcus_radiodurans_complete.zip    10.4MB 1.06MB/s\n"
     ]
    },
    {
     "name": "stdout",
     "output_type": "stream",
     "text": [
      "\u001b[1A\u001b[2KDownloading: deinococcus_radiodurans_complete.zip    10.4MB 1.06MB/s\n",
      "\u001b[1A\u001b[2KDownloading: deinococcus_radiodurans_complete.zip    10.4MB 1.06MB/s\n",
      "\u001b[1A\u001b[2KDownloading: deinococcus_radiodurans_complete.zip    10.4MB 1.06MB/s\n",
      "\u001b[1A\u001b[2KDownloading: deinococcus_radiodurans_complete.zip    10.4MB 1.06MB/s\n",
      "\u001b[1A\u001b[2KDownloading: deinococcus_radiodurans_complete.zip    10.5MB 1.05MB/s\n",
      "\u001b[1A\u001b[2KDownloading: deinococcus_radiodurans_complete.zip    10.6MB 1.06MB/s\n",
      "\u001b[1A\u001b[2KDownloading: deinococcus_radiodurans_complete.zip    10.6MB 1.06MB/s\n",
      "\u001b[1A\u001b[2KDownloading: deinococcus_radiodurans_complete.zip    10.6MB 1.06MB/s\n",
      "\u001b[1A\u001b[2KDownloading: deinococcus_radiodurans_complete.zip    10.6MB 1.06MB/s\n",
      "\u001b[1A\u001b[2KDownloading: deinococcus_radiodurans_complete.zip    10.6MB 1.06MB/s\n",
      "\u001b[1A\u001b[2KDownloading: deinococcus_radiodurans_complete.zip    10.6MB 1.06MB/s\n",
      "\u001b[1A\u001b[2KDownloading: deinococcus_radiodurans_complete.zip    10.6MB 1.06MB/s\n",
      "\u001b[1A\u001b[2KDownloading: deinococcus_radiodurans_complete.zip    10.6MB 1.06MB/s\n",
      "\u001b[1A\u001b[2KDownloading: deinococcus_radiodurans_complete.zip    10.6MB 1.06MB/s\n",
      "\u001b[1A\u001b[2KDownloading: deinococcus_radiodurans_complete.zip    10.6MB 1.06MB/s\n",
      "\u001b[1A\u001b[2KDownloading: deinococcus_radiodurans_complete.zip    10.6MB 1.06MB/s\n",
      "\u001b[1A\u001b[2KDownloading: deinococcus_radiodurans_complete.zip    10.6MB 1.06MB/s\n",
      "\u001b[1A\u001b[2KDownloading: deinococcus_radiodurans_complete.zip    10.6MB 1.06MB/s\n",
      "\u001b[1A\u001b[2KDownloading: deinococcus_radiodurans_complete.zip    10.6MB 1.06MB/s\n",
      "\u001b[1A\u001b[2KDownloading: deinococcus_radiodurans_complete.zip    10.7MB 1.06MB/s\n"
     ]
    },
    {
     "name": "stdout",
     "output_type": "stream",
     "text": [
      "\u001b[1A\u001b[2KDownloading: deinococcus_radiodurans_complete.zip    10.7MB 1.06MB/s\n",
      "\u001b[1A\u001b[2KDownloading: deinococcus_radiodurans_complete.zip    10.7MB 1.06MB/s\n",
      "\u001b[1A\u001b[2KDownloading: deinococcus_radiodurans_complete.zip    10.7MB 1.06MB/s\n",
      "\u001b[1A\u001b[2KDownloading: deinococcus_radiodurans_complete.zip    10.7MB 1.06MB/s\n",
      "\u001b[1A\u001b[2KDownloading: deinococcus_radiodurans_complete.zip    10.7MB 1.06MB/s\n",
      "\u001b[1A\u001b[2KDownloading: deinococcus_radiodurans_complete.zip    10.7MB 1.06MB/s\n",
      "\u001b[1A\u001b[2KDownloading: deinococcus_radiodurans_complete.zip    10.7MB 1.06MB/s\n",
      "\u001b[1A\u001b[2KDownloading: deinococcus_radiodurans_complete.zip    10.7MB 1.06MB/s\n",
      "\u001b[1A\u001b[2KDownloading: deinococcus_radiodurans_complete.zip    10.7MB 1.06MB/s\n",
      "\u001b[1A\u001b[2KDownloading: deinococcus_radiodurans_complete.zip    10.7MB 1.06MB/s\n",
      "\u001b[1A\u001b[2KDownloading: deinococcus_radiodurans_complete.zip    10.7MB 1.05MB/s\n",
      "\u001b[1A\u001b[2KDownloading: deinococcus_radiodurans_complete.zip    10.8MB 1.05MB/s\n",
      "\u001b[1A\u001b[2KDownloading: deinococcus_radiodurans_complete.zip    10.8MB 1.06MB/s\n",
      "\u001b[1A\u001b[2KDownloading: deinococcus_radiodurans_complete.zip    10.8MB 1.06MB/s\n",
      "\u001b[1A\u001b[2KDownloading: deinococcus_radiodurans_complete.zip    10.8MB 1.06MB/s\n",
      "\u001b[1A\u001b[2KDownloading: deinococcus_radiodurans_complete.zip    10.8MB 1.06MB/s\n",
      "\u001b[1A\u001b[2KDownloading: deinococcus_radiodurans_complete.zip    10.8MB 1.06MB/s\n",
      "\u001b[1A\u001b[2KDownloading: deinococcus_radiodurans_complete.zip    10.8MB 1.06MB/s\n",
      "\u001b[1A\u001b[2KDownloading: deinococcus_radiodurans_complete.zip    10.8MB 1.06MB/s\n",
      "\u001b[1A\u001b[2KDownloading: deinococcus_radiodurans_complete.zip    10.8MB 1.06MB/s\n"
     ]
    },
    {
     "name": "stdout",
     "output_type": "stream",
     "text": [
      "\u001b[1A\u001b[2KDownloading: deinococcus_radiodurans_complete.zip    10.8MB 1.06MB/s\n",
      "\u001b[1A\u001b[2KDownloading: deinococcus_radiodurans_complete.zip    10.8MB 1.06MB/s\n",
      "\u001b[1A\u001b[2KDownloading: deinococcus_radiodurans_complete.zip    10.8MB 1.06MB/s\n",
      "\u001b[1A\u001b[2KDownloading: deinococcus_radiodurans_complete.zip    10.8MB 1.06MB/s\n",
      "\u001b[1A\u001b[2KDownloading: deinococcus_radiodurans_complete.zip    10.8MB 1.06MB/s\n",
      "\u001b[1A\u001b[2KDownloading: deinococcus_radiodurans_complete.zip    10.8MB 1.06MB/s\n",
      "\u001b[1A\u001b[2KDownloading: deinococcus_radiodurans_complete.zip    10.8MB 1.06MB/s\n",
      "\u001b[1A\u001b[2KDownloading: deinococcus_radiodurans_complete.zip    10.8MB 1.06MB/s\n",
      "\u001b[1A\u001b[2KDownloading: deinococcus_radiodurans_complete.zip    10.8MB 1.06MB/s\n",
      "\u001b[1A\u001b[2KDownloading: deinococcus_radiodurans_complete.zip    10.8MB 1.06MB/s\n",
      "\u001b[1A\u001b[2KDownloading: deinococcus_radiodurans_complete.zip    10.8MB 1.06MB/s\n",
      "\u001b[1A\u001b[2KDownloading: deinococcus_radiodurans_complete.zip    10.9MB 1.05MB/s\n",
      "\u001b[1A\u001b[2KDownloading: deinococcus_radiodurans_complete.zip    11MB 1.06MB/s\n",
      "\u001b[1A\u001b[2KDownloading: deinococcus_radiodurans_complete.zip    11MB 1.06MB/s\n",
      "\u001b[1A\u001b[2KDownloading: deinococcus_radiodurans_complete.zip    11MB 1.06MB/s\n",
      "\u001b[1A\u001b[2KDownloading: deinococcus_radiodurans_complete.zip    11MB 1.06MB/s\n",
      "\u001b[1A\u001b[2KDownloading: deinococcus_radiodurans_complete.zip    11MB 1.06MB/s\n",
      "\u001b[1A\u001b[2KDownloading: deinococcus_radiodurans_complete.zip    11MB 1.06MB/s\n",
      "\u001b[1A\u001b[2KDownloading: deinococcus_radiodurans_complete.zip    11MB 1.06MB/s\n",
      "\u001b[1A\u001b[2KDownloading: deinococcus_radiodurans_complete.zip    11MB 1.06MB/s\n"
     ]
    },
    {
     "name": "stdout",
     "output_type": "stream",
     "text": [
      "\u001b[1A\u001b[2KDownloading: deinococcus_radiodurans_complete.zip    11MB 1.06MB/s\n",
      "\u001b[1A\u001b[2KDownloading: deinococcus_radiodurans_complete.zip    11MB 1.06MB/s\n",
      "\u001b[1A\u001b[2KDownloading: deinococcus_radiodurans_complete.zip    11MB 1.06MB/s\n",
      "\u001b[1A\u001b[2KDownloading: deinococcus_radiodurans_complete.zip    11MB 1.06MB/s\n",
      "\u001b[1A\u001b[2KDownloading: deinococcus_radiodurans_complete.zip    11MB 1.06MB/s\n",
      "\u001b[1A\u001b[2KDownloading: deinococcus_radiodurans_complete.zip    11MB 1.06MB/s\n",
      "\u001b[1A\u001b[2KDownloading: deinococcus_radiodurans_complete.zip    11MB 1.06MB/s\n",
      "\u001b[1A\u001b[2KDownloading: deinococcus_radiodurans_complete.zip    11MB 1.06MB/s\n",
      "\u001b[1A\u001b[2KDownloading: deinococcus_radiodurans_complete.zip    11MB 1.06MB/s\n",
      "\u001b[1A\u001b[2KDownloading: deinococcus_radiodurans_complete.zip    11MB 1.06MB/s\n",
      "\u001b[1A\u001b[2KDownloading: deinococcus_radiodurans_complete.zip    11MB 1.06MB/s\n",
      "\u001b[1A\u001b[2KDownloading: deinococcus_radiodurans_complete.zip    11.2MB 1.05MB/s\n",
      "\u001b[1A\u001b[2KDownloading: deinococcus_radiodurans_complete.zip    11.2MB 1.05MB/s\n",
      "\u001b[1A\u001b[2KDownloading: deinococcus_radiodurans_complete.zip    11.2MB 1.05MB/s\n",
      "\u001b[1A\u001b[2KDownloading: deinococcus_radiodurans_complete.zip    11.2MB 1.05MB/s\n",
      "\u001b[1A\u001b[2KDownloading: deinococcus_radiodurans_complete.zip    11.2MB 1.05MB/s\n",
      "\u001b[1A\u001b[2KDownloading: deinococcus_radiodurans_complete.zip    11.2MB 1.05MB/s\n",
      "\u001b[1A\u001b[2KDownloading: deinococcus_radiodurans_complete.zip    11.2MB 1.05MB/s\n",
      "\u001b[1A\u001b[2KDownloading: deinococcus_radiodurans_complete.zip    11.2MB 1.05MB/s\n",
      "\u001b[1A\u001b[2KDownloading: deinococcus_radiodurans_complete.zip    11.2MB 1.05MB/s\n"
     ]
    },
    {
     "name": "stdout",
     "output_type": "stream",
     "text": [
      "\u001b[1A\u001b[2KDownloading: deinococcus_radiodurans_complete.zip    11.2MB 1.05MB/s\n",
      "\u001b[1A\u001b[2KDownloading: deinococcus_radiodurans_complete.zip    11.2MB 1.05MB/s\n",
      "\u001b[1A\u001b[2KDownloading: deinococcus_radiodurans_complete.zip    11.2MB 1.05MB/s\n",
      "\u001b[1A\u001b[2KDownloading: deinococcus_radiodurans_complete.zip    11.2MB 1.05MB/s\n",
      "\u001b[1A\u001b[2KDownloading: deinococcus_radiodurans_complete.zip    11.2MB 1.05MB/s\n",
      "\u001b[1A\u001b[2KDownloading: deinococcus_radiodurans_complete.zip    11.2MB 1.05MB/s\n",
      "\u001b[1A\u001b[2KDownloading: deinococcus_radiodurans_complete.zip    11.2MB 1.05MB/s\n",
      "\u001b[1A\u001b[2KDownloading: deinococcus_radiodurans_complete.zip    11.2MB 1.05MB/s\n",
      "\u001b[1A\u001b[2KDownloading: deinococcus_radiodurans_complete.zip    11.2MB 1.05MB/s\n",
      "\u001b[1A\u001b[2KDownloading: deinococcus_radiodurans_complete.zip    11.2MB 1.05MB/s\n",
      "\u001b[1A\u001b[2KDownloading: deinococcus_radiodurans_complete.zip    11.2MB 1.05MB/s\n",
      "\u001b[1A\u001b[2KDownloading: deinococcus_radiodurans_complete.zip    11.2MB done\n"
     ]
    },
    {
     "name": "stderr",
     "output_type": "stream",
     "text": [
      "New version of client (14.13.1) available at https://ftp.ncbi.nlm.nih.gov/pub/datasets/command-line/LATEST/linux-amd64/datasets\n"
     ]
    }
   ],
   "source": [
    "subprocess.run(f\"./datasets download genome accession --exclude-genomic-cds --exclude-gff3 --exclude-protein --exclude-rna --exclude-seq --include-gbff --inputfile accession_list.txt --filename {taxon_file}.zip\", shell=True)\n",
    "!rm accession_list.txt"
   ]
  },
  {
   "cell_type": "code",
   "execution_count": 9,
   "id": "c20c7e4d",
   "metadata": {
    "execution": {
     "iopub.execute_input": "2023-02-23T18:47:39.302889Z",
     "iopub.status.busy": "2023-02-23T18:47:39.302514Z",
     "iopub.status.idle": "2023-02-23T18:47:39.999475Z",
     "shell.execute_reply": "2023-02-23T18:47:39.998701Z"
    },
    "papermill": {
     "duration": 0.708838,
     "end_time": "2023-02-23T18:47:40.001295",
     "exception": false,
     "start_time": "2023-02-23T18:47:39.292457",
     "status": "completed"
    },
    "tags": []
   },
   "outputs": [
    {
     "name": "stdout",
     "output_type": "stream",
     "text": [
      "Archive:  deinococcus_radiodurans_complete.zip\n",
      "  inflating: README.md               \n",
      "  inflating: ncbi_dataset/data/assembly_data_report.jsonl  \n",
      "  inflating: ncbi_dataset/data/GCA_008329785.1/genomic.gbff  "
     ]
    },
    {
     "name": "stdout",
     "output_type": "stream",
     "text": [
      "\n",
      "  inflating: ncbi_dataset/data/GCA_011604805.1/genomic.gbff  "
     ]
    },
    {
     "name": "stdout",
     "output_type": "stream",
     "text": [
      "\n",
      "  inflating: ncbi_dataset/data/GCA_011604825.1/genomic.gbff  \n",
      "  inflating: ncbi_dataset/data/GCA_020546685.1/genomic.gbff  \n",
      "  inflating: ncbi_dataset/data/GCA_024138735.1/genomic.gbff  "
     ]
    },
    {
     "name": "stdout",
     "output_type": "stream",
     "text": [
      "\n",
      "  inflating: ncbi_dataset/data/GCA_008329785.1/sequence_report.jsonl  \n",
      "  inflating: ncbi_dataset/data/GCA_011604805.1/sequence_report.jsonl  \n",
      "  inflating: ncbi_dataset/data/GCA_011604825.1/sequence_report.jsonl  \n",
      "  inflating: ncbi_dataset/data/GCA_020546685.1/sequence_report.jsonl  \n",
      "  inflating: ncbi_dataset/data/GCA_024138735.1/sequence_report.jsonl  \n",
      "  inflating: ncbi_dataset/data/dataset_catalog.json  \n"
     ]
    }
   ],
   "source": [
    "!rm -r ncbi_dataset\n",
    "subprocess.run(f\"unzip {taxon_file}.zip\", shell=True)\n",
    "!rm README.md"
   ]
  },
  {
   "cell_type": "code",
   "execution_count": 10,
   "id": "cf88561e",
   "metadata": {
    "execution": {
     "iopub.execute_input": "2023-02-23T18:47:40.028696Z",
     "iopub.status.busy": "2023-02-23T18:47:40.026822Z",
     "iopub.status.idle": "2023-02-23T18:47:40.160081Z",
     "shell.execute_reply": "2023-02-23T18:47:40.159218Z"
    },
    "papermill": {
     "duration": 0.149597,
     "end_time": "2023-02-23T18:47:40.161727",
     "exception": false,
     "start_time": "2023-02-23T18:47:40.012130",
     "status": "completed"
    },
    "tags": []
   },
   "outputs": [],
   "source": [
    "df = pd.read_table(\"info_table.tsv\", header=None)\n",
    "df.columns = ['Genome', 'Strain', 'Taxonomy Id', 'Sequence length', \"GC Percent (%)\", \"ContigN50\", \"Gene count\"]\n",
    "df.set_index(\"Genome\", inplace = True)\n",
    "df[\"rRNA\"]=np.nan\n",
    "df[\"tRNA\"]=np.nan\n",
    "!rm info_table.tsv"
   ]
  },
  {
   "cell_type": "code",
   "execution_count": 11,
   "id": "695e6d75",
   "metadata": {
    "execution": {
     "iopub.execute_input": "2023-02-23T18:47:40.179661Z",
     "iopub.status.busy": "2023-02-23T18:47:40.179312Z",
     "iopub.status.idle": "2023-02-23T18:47:40.299029Z",
     "shell.execute_reply": "2023-02-23T18:47:40.297898Z"
    },
    "papermill": {
     "duration": 0.132887,
     "end_time": "2023-02-23T18:47:40.301167",
     "exception": false,
     "start_time": "2023-02-23T18:47:40.168280",
     "status": "completed"
    },
    "tags": []
   },
   "outputs": [],
   "source": [
    "for i, row in df.iterrows():\n",
    "    os.chdir(pwd + f\"/ncbi_dataset/data/{i}\")\n",
    "    p = subprocess.Popen(\"\"\"cat genomic.gbff | grep rRNAs | head -1 | awk -F\":: \" '{ print $2}'\"\"\", stdout=subprocess.PIPE, shell=True)\n",
    "    rRNA = p.stdout.read().decode('ascii').strip()\n",
    "    p = subprocess.Popen(\"\"\"cat genomic.gbff | grep tRNAs | head -1 | awk -F\":: \" '{ print $2}'\"\"\", stdout=subprocess.PIPE, shell=True)\n",
    "    tRNA = p.stdout.read().decode('ascii').strip()\n",
    "    df.at[i, \"rRNA\"] = rRNA\n",
    "    df.at[i, \"tRNA\"] = tRNA\n",
    "os.chdir(pwd)"
   ]
  },
  {
   "cell_type": "code",
   "execution_count": 12,
   "id": "f55f518c",
   "metadata": {
    "execution": {
     "iopub.execute_input": "2023-02-23T18:47:40.321360Z",
     "iopub.status.busy": "2023-02-23T18:47:40.321031Z",
     "iopub.status.idle": "2023-02-23T18:47:40.336996Z",
     "shell.execute_reply": "2023-02-23T18:47:40.335753Z"
    },
    "papermill": {
     "duration": 0.027718,
     "end_time": "2023-02-23T18:47:40.338801",
     "exception": false,
     "start_time": "2023-02-23T18:47:40.311083",
     "status": "completed"
    },
    "tags": []
   },
   "outputs": [
    {
     "data": {
      "text/html": [
       "<div>\n",
       "<style scoped>\n",
       "    .dataframe tbody tr th:only-of-type {\n",
       "        vertical-align: middle;\n",
       "    }\n",
       "\n",
       "    .dataframe tbody tr th {\n",
       "        vertical-align: top;\n",
       "    }\n",
       "\n",
       "    .dataframe thead th {\n",
       "        text-align: right;\n",
       "    }\n",
       "</style>\n",
       "<table border=\"1\" class=\"dataframe\">\n",
       "  <thead>\n",
       "    <tr style=\"text-align: right;\">\n",
       "      <th></th>\n",
       "      <th>Strain</th>\n",
       "      <th>Taxonomy Id</th>\n",
       "      <th>Sequence length</th>\n",
       "      <th>GC Percent (%)</th>\n",
       "      <th>ContigN50</th>\n",
       "      <th>Gene count</th>\n",
       "      <th>rRNA</th>\n",
       "      <th>tRNA</th>\n",
       "    </tr>\n",
       "    <tr>\n",
       "      <th>Genome</th>\n",
       "      <th></th>\n",
       "      <th></th>\n",
       "      <th></th>\n",
       "      <th></th>\n",
       "      <th></th>\n",
       "      <th></th>\n",
       "      <th></th>\n",
       "      <th></th>\n",
       "    </tr>\n",
       "  </thead>\n",
       "  <tbody>\n",
       "    <tr>\n",
       "      <th>GCA_008329785.1</th>\n",
       "      <td>R1 dM1</td>\n",
       "      <td>1299</td>\n",
       "      <td>3283189</td>\n",
       "      <td>2188402</td>\n",
       "      <td>2647538</td>\n",
       "      <td>3309</td>\n",
       "      <td>3, 3, 3 (5S, 16S, 23S)</td>\n",
       "      <td>50</td>\n",
       "    </tr>\n",
       "    <tr>\n",
       "      <th>GCA_011604805.1</th>\n",
       "      <td>BNK-50</td>\n",
       "      <td>1299</td>\n",
       "      <td>3284329</td>\n",
       "      <td>2188764</td>\n",
       "      <td>2648775</td>\n",
       "      <td>3202</td>\n",
       "      <td>3, 3, 3 (5S, 16S, 23S)</td>\n",
       "      <td>50</td>\n",
       "    </tr>\n",
       "    <tr>\n",
       "      <th>GCA_011604825.1</th>\n",
       "      <td>BND-54</td>\n",
       "      <td>1299</td>\n",
       "      <td>3283098</td>\n",
       "      <td>2188024</td>\n",
       "      <td>2648637</td>\n",
       "      <td>3209</td>\n",
       "      <td>3, 3, 3 (5S, 16S, 23S)</td>\n",
       "      <td>50</td>\n",
       "    </tr>\n",
       "    <tr>\n",
       "      <th>GCA_024138735.1</th>\n",
       "      <td>BRD125</td>\n",
       "      <td>1299</td>\n",
       "      <td>3281648</td>\n",
       "      <td>2186593</td>\n",
       "      <td>2647192</td>\n",
       "      <td>3543</td>\n",
       "      <td>3, 3, 3 (5S, 16S, 23S)</td>\n",
       "      <td>49</td>\n",
       "    </tr>\n",
       "    <tr>\n",
       "      <th>GCA_020546685.1</th>\n",
       "      <td>ATCC 13939</td>\n",
       "      <td>1408434</td>\n",
       "      <td>3279598</td>\n",
       "      <td>2186449</td>\n",
       "      <td>2644543</td>\n",
       "      <td>3305</td>\n",
       "      <td>3, 3, 3 (5S, 16S, 23S)</td>\n",
       "      <td>50</td>\n",
       "    </tr>\n",
       "  </tbody>\n",
       "</table>\n",
       "</div>"
      ],
      "text/plain": [
       "                     Strain  Taxonomy Id  Sequence length  GC Percent (%)  \\\n",
       "Genome                                                                      \n",
       "GCA_008329785.1      R1 dM1         1299          3283189         2188402   \n",
       "GCA_011604805.1      BNK-50         1299          3284329         2188764   \n",
       "GCA_011604825.1      BND-54         1299          3283098         2188024   \n",
       "GCA_024138735.1      BRD125         1299          3281648         2186593   \n",
       "GCA_020546685.1  ATCC 13939      1408434          3279598         2186449   \n",
       "\n",
       "                 ContigN50  Gene count                    rRNA tRNA  \n",
       "Genome                                                               \n",
       "GCA_008329785.1    2647538        3309  3, 3, 3 (5S, 16S, 23S)   50  \n",
       "GCA_011604805.1    2648775        3202  3, 3, 3 (5S, 16S, 23S)   50  \n",
       "GCA_011604825.1    2648637        3209  3, 3, 3 (5S, 16S, 23S)   50  \n",
       "GCA_024138735.1    2647192        3543  3, 3, 3 (5S, 16S, 23S)   49  \n",
       "GCA_020546685.1    2644543        3305  3, 3, 3 (5S, 16S, 23S)   50  "
      ]
     },
     "execution_count": 12,
     "metadata": {},
     "output_type": "execute_result"
    }
   ],
   "source": [
    "df"
   ]
  },
  {
   "cell_type": "code",
   "execution_count": 13,
   "id": "05f03976",
   "metadata": {
    "execution": {
     "iopub.execute_input": "2023-02-23T18:47:40.356008Z",
     "iopub.status.busy": "2023-02-23T18:47:40.355738Z",
     "iopub.status.idle": "2023-02-23T18:47:46.909671Z",
     "shell.execute_reply": "2023-02-23T18:47:46.908410Z"
    },
    "papermill": {
     "duration": 6.565342,
     "end_time": "2023-02-23T18:47:46.911951",
     "exception": false,
     "start_time": "2023-02-23T18:47:40.346609",
     "status": "completed"
    },
    "tags": []
   },
   "outputs": [
    {
     "name": "stderr",
     "output_type": "stream",
     "text": [
      "/home/infosebi/.local/lib/python3.10/site-packages/pyspark/sql/pandas/conversion.py:474: FutureWarning: iteritems is deprecated and will be removed in a future version. Use .items instead.\n",
      "  for column, series in pdf.iteritems():\n",
      "/home/infosebi/.local/lib/python3.10/site-packages/pyspark/sql/pandas/conversion.py:486: FutureWarning: iteritems is deprecated and will be removed in a future version. Use .items instead.\n",
      "  for column, series in pdf.iteritems():\n"
     ]
    },
    {
     "name": "stderr",
     "output_type": "stream",
     "text": [
      "\r",
      "[Stage 0:>                                                          (0 + 1) / 1]\r"
     ]
    },
    {
     "name": "stderr",
     "output_type": "stream",
     "text": [
      "\r",
      "                                                                                \r"
     ]
    },
    {
     "name": "stdout",
     "output_type": "stream",
     "text": [
      "+---------------+----------+-----------+---------------+--------------+---------+----------+--------------------+----+\n",
      "|         Genome|    Strain|Taxonomy Id|Sequence length|GC Percent (%)|ContigN50|Gene count|                rRNA|tRNA|\n",
      "+---------------+----------+-----------+---------------+--------------+---------+----------+--------------------+----+\n",
      "|GCA_008329785.1|    R1 dM1|       1299|        3283189|       2188402|  2647538|      3309|3, 3, 3 (5S, 16S,...|  50|\n",
      "|GCA_011604805.1|    BNK-50|       1299|        3284329|       2188764|  2648775|      3202|3, 3, 3 (5S, 16S,...|  50|\n",
      "|GCA_011604825.1|    BND-54|       1299|        3283098|       2188024|  2648637|      3209|3, 3, 3 (5S, 16S,...|  50|\n",
      "|GCA_024138735.1|    BRD125|       1299|        3281648|       2186593|  2647192|      3543|3, 3, 3 (5S, 16S,...|  49|\n",
      "|GCA_020546685.1|ATCC 13939|    1408434|        3279598|       2186449|  2644543|      3305|3, 3, 3 (5S, 16S,...|  50|\n",
      "+---------------+----------+-----------+---------------+--------------+---------+----------+--------------------+----+\n",
      "\n"
     ]
    }
   ],
   "source": [
    "df.reset_index(drop=False,inplace=True)\n",
    "sparkDF_info=spark.createDataFrame(df) \n",
    "sparkDF_info.show()"
   ]
  },
  {
   "cell_type": "code",
   "execution_count": 14,
   "id": "2239508b",
   "metadata": {
    "execution": {
     "iopub.execute_input": "2023-02-23T18:47:46.930763Z",
     "iopub.status.busy": "2023-02-23T18:47:46.930489Z",
     "iopub.status.idle": "2023-02-23T18:47:50.566338Z",
     "shell.execute_reply": "2023-02-23T18:47:50.565087Z"
    },
    "papermill": {
     "duration": 3.64892,
     "end_time": "2023-02-23T18:47:50.569266",
     "exception": false,
     "start_time": "2023-02-23T18:47:46.920346",
     "status": "completed"
    },
    "tags": []
   },
   "outputs": [
    {
     "name": "stdout",
     "output_type": "stream",
     "text": [
      "+----+-------+---------+--------------------+----------+\n",
      "|Name| Length|Start Pos|          Annotation|Complement|\n",
      "+----+-------+---------+--------------------+----------+\n",
      "|   -|2647538|        0|branched-chain am...|      true|\n",
      "|cysK|    953|      472| cysteine synthase A|     false|\n",
      "|   -|   1680|     1614|glycerol-3-phosph...|     false|\n",
      "|   -|    918|     3415|alpha/beta fold h...|     false|\n",
      "|   -|   1395|     4402|MATE family efflu...|      true|\n",
      "|   -|    549|     5816|dihydrofolate red...|      true|\n",
      "|   -|   1398|     6453|aspartate aminotr...|      true|\n",
      "|   -|    636|     7835|hypothetical protein|      true|\n",
      "|   -|    561|     8474| N-acetyltransferase|      true|\n",
      "|   -|    477|     9090| N-acetyltransferase|      true|\n",
      "|   -|    624|     9610| N-acetyltransferase|      true|\n",
      "|   -|   1197|    10241|gfo/Idh/MocA fami...|     false|\n",
      "|   -|    183|    11696|hypothetical protein|      true|\n",
      "|   -|   1233|    11928|lycopene cyclase ...|      true|\n",
      "|   -|    741|    13246|   anti-sigma factor|      true|\n",
      "|   -|    849|    13983|sigma-70 family R...|      true|\n",
      "|tatA|    399|    14999|twin-arginine tra...|     false|\n",
      "|tatC|    813|    15438|twin-arginine tra...|     false|\n",
      "| lgt|   1020|    16296|prolipoprotein di...|     false|\n",
      "|   -|   1464|    17445|bifunctional N-ac...|     false|\n",
      "+----+-------+---------+--------------------+----------+\n",
      "only showing top 20 rows\n",
      "\n"
     ]
    },
    {
     "name": "stdout",
     "output_type": "stream",
     "text": [
      "(16259, 5)\n"
     ]
    }
   ],
   "source": [
    "#gene length, gene start pos, annotation(product), direction(complement)\n",
    "\n",
    "columns = StructType([StructField('Name', StringType(), False),\n",
    "                       StructField('Length', IntegerType(), False),\n",
    "                       StructField('Start Pos', IntegerType(), False),\n",
    "                       StructField('Annotation', StringType(), False),\n",
    "                       StructField('Complement', BooleanType(), False),])\n",
    "\n",
    "\n",
    "added_row=[]\n",
    "for row_iterator in sparkDF_info.collect():\n",
    "    file_path = pwd + f\"/ncbi_dataset/data/{row_iterator['Genome']}/genomic.gbff\"\n",
    "    for gb_obj in SeqIO.parse(file_path,'genbank'):\n",
    "        all_cds = []\n",
    "        for feature in gb_obj.features:\n",
    "            if feature.type == \"CDS\":\n",
    "                all_cds.append(feature)\n",
    "        for cds in all_cds:\n",
    "            if 'gene' in cds.qualifiers:\n",
    "                gene = cds.qualifiers['gene'][0]\n",
    "            else:\n",
    "                gene = \"-\"\n",
    "            complement = False\n",
    "            if cds.location.strand < 1:\n",
    "                complement = True\n",
    "            added_row.append([gene, cds.location.end-cds.location.start, int(cds.location.start) ,cds.qualifiers['product'][0], complement])\n",
    "sparkDF_cds = spark.createDataFrame(added_row, columns)\n",
    "sparkDF_cds.show()\n",
    "print((sparkDF_cds.count(), len(sparkDF_cds.columns)))\n",
    "#forward, reverse\n",
    "#ec number\n",
    "#java 19\n",
    "#java jar cluster zip"
   ]
  },
  {
   "cell_type": "code",
   "execution_count": 15,
   "id": "39b9b81e",
   "metadata": {
    "execution": {
     "iopub.execute_input": "2023-02-23T18:47:50.589333Z",
     "iopub.status.busy": "2023-02-23T18:47:50.588718Z",
     "iopub.status.idle": "2023-02-23T18:47:50.593130Z",
     "shell.execute_reply": "2023-02-23T18:47:50.592249Z"
    },
    "papermill": {
     "duration": 0.015839,
     "end_time": "2023-02-23T18:47:50.594756",
     "exception": false,
     "start_time": "2023-02-23T18:47:50.578917",
     "status": "completed"
    },
    "tags": []
   },
   "outputs": [],
   "source": [
    "#file_path = pwd + f\"/ncbi_dataset/data/GCA_000597845.1/genomic.gbff\"\n",
    "#gb_obj = SeqIO.read(file_path,'genbank')\n",
    "#all_cds=[]\n",
    "#for feature in gb_obj.features:\n",
    "#    if feature.type=='CDS':\n",
    "#        all_cds.append(feature)\n",
    "#os.chdir(pwd + \"/seq_files\")\n",
    "#for i in range(3):\n",
    "#    extracted_sequence=all_cds[i].extract(gb_obj)\n",
    "#    with open(f\"example_{i}.fasta\", \"w\") as output_handle:\n",
    "#        SeqIO.write(extracted_sequence,output_handle,format=\"fasta\")\n",
    "#os.chdir(pwd)\n"
   ]
  },
  {
   "cell_type": "code",
   "execution_count": 16,
   "id": "1d7adcb4",
   "metadata": {
    "execution": {
     "iopub.execute_input": "2023-02-23T18:47:50.612553Z",
     "iopub.status.busy": "2023-02-23T18:47:50.612292Z",
     "iopub.status.idle": "2023-02-23T18:47:50.615636Z",
     "shell.execute_reply": "2023-02-23T18:47:50.614855Z"
    },
    "papermill": {
     "duration": 0.014378,
     "end_time": "2023-02-23T18:47:50.617407",
     "exception": false,
     "start_time": "2023-02-23T18:47:50.603029",
     "status": "completed"
    },
    "tags": []
   },
   "outputs": [],
   "source": [
    "#genbank file parser, GBParsyPy, BioPython\n",
    "#is it possible to have interaction in jupyter notebook\n",
    "#install Eggnog database -> run Eggnog annotation on gbff file.\n",
    "#google collab (vs-code, github repo)\n",
    "#circus (input-data?)\n",
    "#sigmarkarl github user"
   ]
  },
  {
   "cell_type": "code",
   "execution_count": 17,
   "id": "4e4b43ef",
   "metadata": {
    "execution": {
     "iopub.execute_input": "2023-02-23T18:47:50.634920Z",
     "iopub.status.busy": "2023-02-23T18:47:50.634676Z",
     "iopub.status.idle": "2023-02-23T18:47:50.638075Z",
     "shell.execute_reply": "2023-02-23T18:47:50.637121Z"
    },
    "papermill": {
     "duration": 0.014407,
     "end_time": "2023-02-23T18:47:50.639993",
     "exception": false,
     "start_time": "2023-02-23T18:47:50.625586",
     "status": "completed"
    },
    "tags": []
   },
   "outputs": [],
   "source": [
    "#criteria for genome selection to strict (assembly-source genbank)?\n",
    "#take care of warnings\n",
    "#GenomeDiagramm library"
   ]
  }
 ],
 "metadata": {
  "celltoolbar": "Tags",
  "kernelspec": {
   "display_name": "Python 3 (ipykernel)",
   "language": "python",
   "name": "python3"
  },
  "language_info": {
   "codemirror_mode": {
    "name": "ipython",
    "version": 3
   },
   "file_extension": ".py",
   "mimetype": "text/x-python",
   "name": "python",
   "nbconvert_exporter": "python",
   "pygments_lexer": "ipython3",
   "version": "3.10.9"
  },
  "papermill": {
   "default_parameters": {},
   "duration": 33.178206,
   "end_time": "2023-02-23T18:47:53.268631",
   "environment_variables": {},
   "exception": null,
   "input_path": "/home/infosebi/Documents/MastersProject/MastersProject.ipynb",
   "output_path": "/home/infosebi/Documents/MastersProject/ParameterizedMastersProject.ipynb",
   "parameters": {
    "pwd": "/home/infosebi/Documents/MastersProject",
    "taxon": "'Deinococcus radiodurans'"
   },
   "start_time": "2023-02-23T18:47:20.090425",
   "version": "2.4.0"
  }
 },
 "nbformat": 4,
 "nbformat_minor": 5
}