{
 "cells": [
  {
   "cell_type": "code",
   "execution_count": 1,
   "id": "6aecfabf",
   "metadata": {
    "execution": {
     "iopub.execute_input": "2023-02-15T17:05:17.780370Z",
     "iopub.status.busy": "2023-02-15T17:05:17.780078Z",
     "iopub.status.idle": "2023-02-15T17:05:18.131674Z",
     "shell.execute_reply": "2023-02-15T17:05:18.131036Z"
    },
    "papermill": {
     "duration": 0.358721,
     "end_time": "2023-02-15T17:05:18.133160",
     "exception": false,
     "start_time": "2023-02-15T17:05:17.774439",
     "status": "completed"
    },
    "tags": []
   },
   "outputs": [],
   "source": [
    "import pandas as pd\n",
    "import numpy as np\n",
    "import os\n",
    "from pathlib import Path\n",
    "import subprocess\n",
    "from pyspark.sql import SparkSession"
   ]
  },
  {
   "cell_type": "code",
   "execution_count": 2,
   "id": "fd49ffca",
   "metadata": {
    "execution": {
     "iopub.execute_input": "2023-02-15T17:05:18.139304Z",
     "iopub.status.busy": "2023-02-15T17:05:18.138810Z",
     "iopub.status.idle": "2023-02-15T17:05:21.268943Z",
     "shell.execute_reply": "2023-02-15T17:05:21.268409Z"
    },
    "papermill": {
     "duration": 3.134864,
     "end_time": "2023-02-15T17:05:21.270522",
     "exception": false,
     "start_time": "2023-02-15T17:05:18.135658",
     "status": "completed"
    },
    "tags": []
   },
   "outputs": [
    {
     "name": "stderr",
     "output_type": "stream",
     "text": [
      "Setting default log level to \"WARN\".\n",
      "To adjust logging level use sc.setLogLevel(newLevel). For SparkR, use setLogLevel(newLevel).\n"
     ]
    },
    {
     "name": "stdout",
     "output_type": "stream",
     "text": [
      "23/02/15 17:05:19 WARN NativeCodeLoader: Unable to load native-hadoop library for your platform... using builtin-java classes where applicable\n"
     ]
    }
   ],
   "source": [
    "spark = SparkSession.builder.appName('MastersProject').getOrCreate()"
   ]
  },
  {
   "cell_type": "code",
   "execution_count": 3,
   "id": "f9622609",
   "metadata": {
    "execution": {
     "iopub.execute_input": "2023-02-15T17:05:21.276402Z",
     "iopub.status.busy": "2023-02-15T17:05:21.276180Z",
     "iopub.status.idle": "2023-02-15T17:05:21.279357Z",
     "shell.execute_reply": "2023-02-15T17:05:21.278742Z"
    },
    "papermill": {
     "duration": 0.007598,
     "end_time": "2023-02-15T17:05:21.280663",
     "exception": false,
     "start_time": "2023-02-15T17:05:21.273065",
     "status": "completed"
    },
    "tags": [
     "parameters"
    ]
   },
   "outputs": [],
   "source": [
    "taxon = '\\\"Escherichia coli\\\"'\n",
    "pwd = \"/home/infosebi/Documents/MastersProject\""
   ]
  },
  {
   "cell_type": "code",
   "execution_count": 4,
   "id": "b9f50ae9",
   "metadata": {
    "execution": {
     "iopub.execute_input": "2023-02-15T17:05:21.285746Z",
     "iopub.status.busy": "2023-02-15T17:05:21.285519Z",
     "iopub.status.idle": "2023-02-15T17:05:21.288237Z",
     "shell.execute_reply": "2023-02-15T17:05:21.287722Z"
    },
    "papermill": {
     "duration": 0.006744,
     "end_time": "2023-02-15T17:05:21.289459",
     "exception": false,
     "start_time": "2023-02-15T17:05:21.282715",
     "status": "completed"
    },
    "tags": [
     "injected-parameters"
    ]
   },
   "outputs": [],
   "source": [
    "# Parameters\n",
    "taxon = \"'Deinococcus radiodurans'\"\n",
    "pwd = \"/home/infosebi/Documents/MastersProject\"\n"
   ]
  },
  {
   "cell_type": "code",
   "execution_count": 5,
   "id": "fdde1723",
   "metadata": {
    "execution": {
     "iopub.execute_input": "2023-02-15T17:05:21.294485Z",
     "iopub.status.busy": "2023-02-15T17:05:21.294309Z",
     "iopub.status.idle": "2023-02-15T17:05:22.424464Z",
     "shell.execute_reply": "2023-02-15T17:05:22.423819Z"
    },
    "papermill": {
     "duration": 1.134303,
     "end_time": "2023-02-15T17:05:22.425845",
     "exception": false,
     "start_time": "2023-02-15T17:05:21.291542",
     "status": "completed"
    },
    "tags": []
   },
   "outputs": [
    {
     "name": "stdout",
     "output_type": "stream",
     "text": [
      "8\n"
     ]
    },
    {
     "name": "stderr",
     "output_type": "stream",
     "text": [
      "New version of client (14.13.0) available at https://ftp.ncbi.nlm.nih.gov/pub/datasets/command-line/LATEST/linux-amd64/datasets\n"
     ]
    }
   ],
   "source": [
    "taxon_file = taxon.lower().replace(\" \", \"_\").replace(\"\\'\", \"\") + \"_complete\"\n",
    "subprocess.run(f\"\"\"./datasets summary genome taxon {str(taxon)} --assembly-level complete_genome --assembly-source genbank --annotated >  {taxon_file}.json\"\"\", shell=True)\n",
    "p = subprocess.Popen(f\"\"\"jq '.total_count' {taxon_file}.json\"\"\", stdout=subprocess.PIPE, shell=True)\n",
    "print(p.stdout.read().decode('ascii').strip())"
   ]
  },
  {
   "cell_type": "code",
   "execution_count": 6,
   "id": "bcb6ef94",
   "metadata": {
    "execution": {
     "iopub.execute_input": "2023-02-15T17:05:22.431698Z",
     "iopub.status.busy": "2023-02-15T17:05:22.431480Z",
     "iopub.status.idle": "2023-02-15T17:05:22.467486Z",
     "shell.execute_reply": "2023-02-15T17:05:22.466937Z"
    },
    "papermill": {
     "duration": 0.040367,
     "end_time": "2023-02-15T17:05:22.468788",
     "exception": false,
     "start_time": "2023-02-15T17:05:22.428421",
     "status": "completed"
    },
    "tags": []
   },
   "outputs": [
    {
     "data": {
      "text/plain": [
       "CompletedProcess(args=\"cat deinococcus_radiodurans_complete.json | jq -r '.assemblies[].assembly | [.assembly_accession, .org.strain, .org.tax_id, .seq_length, .gc_count, .contig_n50, .annotation_metadata.stats.gene_counts.total] | @tsv' | head -5 > info_table.tsv\", returncode=0)"
      ]
     },
     "execution_count": 6,
     "metadata": {},
     "output_type": "execute_result"
    }
   ],
   "source": [
    "subprocess.run(f\"cat {taxon_file}.json | jq -r '.assemblies[].assembly | [.assembly_accession, .org.strain, .org.tax_id, .seq_length, .gc_count, .contig_n50, .annotation_metadata.stats.gene_counts.total] | @tsv' | head -5 > info_table.tsv\", shell=True) "
   ]
  },
  {
   "cell_type": "code",
   "execution_count": 7,
   "id": "e3fbbd3a",
   "metadata": {
    "execution": {
     "iopub.execute_input": "2023-02-15T17:05:22.474635Z",
     "iopub.status.busy": "2023-02-15T17:05:22.474425Z",
     "iopub.status.idle": "2023-02-15T17:05:22.507510Z",
     "shell.execute_reply": "2023-02-15T17:05:22.506959Z"
    },
    "papermill": {
     "duration": 0.037755,
     "end_time": "2023-02-15T17:05:22.508868",
     "exception": false,
     "start_time": "2023-02-15T17:05:22.471113",
     "status": "completed"
    },
    "tags": []
   },
   "outputs": [
    {
     "data": {
      "text/plain": [
       "CompletedProcess(args=\"cat deinococcus_radiodurans_complete.json | jq -r '.assemblies[].assembly| .assembly_accession' | head -5 > accession_list.txt\", returncode=0)"
      ]
     },
     "execution_count": 7,
     "metadata": {},
     "output_type": "execute_result"
    }
   ],
   "source": [
    "subprocess.run(f\"cat {taxon_file}.json | jq -r '.assemblies[].assembly| .assembly_accession' | head -5 > accession_list.txt\", shell=True)"
   ]
  },
  {
   "cell_type": "code",
   "execution_count": 8,
   "id": "ad12954c",
   "metadata": {
    "execution": {
     "iopub.execute_input": "2023-02-15T17:05:22.515308Z",
     "iopub.status.busy": "2023-02-15T17:05:22.515120Z",
     "iopub.status.idle": "2023-02-15T17:05:36.310489Z",
     "shell.execute_reply": "2023-02-15T17:05:36.308295Z"
    },
    "papermill": {
     "duration": 13.804021,
     "end_time": "2023-02-15T17:05:36.315127",
     "exception": false,
     "start_time": "2023-02-15T17:05:22.511106",
     "status": "completed"
    },
    "tags": []
   },
   "outputs": [
    {
     "name": "stdout",
     "output_type": "stream",
     "text": [
      "Downloading: deinococcus_radiodurans_complete.zip    3.55kB 5.19MB/s\n",
      "\u001b[1A\u001b[2KDownloading: deinococcus_radiodurans_complete.zip    3.55kB 5.19MB/s\n",
      "\u001b[1A\u001b[2KDownloading: deinococcus_radiodurans_complete.zip    3.55kB 5.19MB/s\n",
      "\u001b[1A\u001b[2KDownloading: deinococcus_radiodurans_complete.zip    3.55kB 5.19MB/s\n",
      "\u001b[1A\u001b[2KDownloading: deinococcus_radiodurans_complete.zip    3.65kB 87.9kB/s\n",
      "\u001b[1A\u001b[2KDownloading: deinococcus_radiodurans_complete.zip    3.65kB 87.9kB/s\n",
      "\u001b[1A\u001b[2KDownloading: deinococcus_radiodurans_complete.zip    3.65kB 87.9kB/s\n",
      "\u001b[1A\u001b[2KDownloading: deinococcus_radiodurans_complete.zip    3.65kB 87.9kB/s\n",
      "\u001b[1A\u001b[2KDownloading: deinococcus_radiodurans_complete.zip    3.65kB 87.9kB/s\n",
      "\u001b[1A\u001b[2KDownloading: deinococcus_radiodurans_complete.zip    3.65kB 87.9kB/s\n",
      "\u001b[1A\u001b[2KDownloading: deinococcus_radiodurans_complete.zip    3.65kB 87.9kB/s\n",
      "\u001b[1A\u001b[2KDownloading: deinococcus_radiodurans_complete.zip    3.65kB 87.9kB/s\n",
      "\u001b[1A\u001b[2KDownloading: deinococcus_radiodurans_complete.zip    3.65kB 87.9kB/s\n",
      "\u001b[1A\u001b[2KDownloading: deinococcus_radiodurans_complete.zip    3.65kB 87.9kB/s\n",
      "\u001b[1A\u001b[2KDownloading: deinococcus_radiodurans_complete.zip    3.65kB 87.9kB/s\n",
      "\u001b[1A\u001b[2KDownloading: deinococcus_radiodurans_complete.zip    3.65kB 87.9kB/s\n",
      "\u001b[1A\u001b[2KDownloading: deinococcus_radiodurans_complete.zip    3.65kB 87.9kB/s\n",
      "\u001b[1A\u001b[2KDownloading: deinococcus_radiodurans_complete.zip    3.65kB 87.9kB/s\n",
      "\u001b[1A\u001b[2KDownloading: deinococcus_radiodurans_complete.zip    3.65kB 87.9kB/s\n",
      "\u001b[1A\u001b[2KDownloading: deinococcus_radiodurans_complete.zip    3.65kB 87.9kB/s\n"
     ]
    },
    {
     "name": "stdout",
     "output_type": "stream",
     "text": [
      "\u001b[1A\u001b[2KDownloading: deinococcus_radiodurans_complete.zip    3.65kB 87.9kB/s\n",
      "\u001b[1A\u001b[2KDownloading: deinococcus_radiodurans_complete.zip    3.65kB 87.9kB/s\n",
      "\u001b[1A\u001b[2KDownloading: deinococcus_radiodurans_complete.zip    3.65kB 87.9kB/s\n",
      "\u001b[1A\u001b[2KDownloading: deinococcus_radiodurans_complete.zip    3.65kB 87.9kB/s\n",
      "\u001b[1A\u001b[2KDownloading: deinococcus_radiodurans_complete.zip    3.65kB 87.9kB/s\n",
      "\u001b[1A\u001b[2KDownloading: deinococcus_radiodurans_complete.zip    3.65kB 87.9kB/s\n",
      "\u001b[1A\u001b[2KDownloading: deinococcus_radiodurans_complete.zip    3.65kB 87.9kB/s\n",
      "\u001b[1A\u001b[2KDownloading: deinococcus_radiodurans_complete.zip    3.65kB 87.9kB/s\n",
      "\u001b[1A\u001b[2KDownloading: deinococcus_radiodurans_complete.zip    3.65kB 87.9kB/s\n",
      "\u001b[1A\u001b[2KDownloading: deinococcus_radiodurans_complete.zip    32.8kB 110kB/s\n",
      "\u001b[1A\u001b[2KDownloading: deinococcus_radiodurans_complete.zip    32.8kB 110kB/s\n",
      "\u001b[1A\u001b[2KDownloading: deinococcus_radiodurans_complete.zip    32.8kB 110kB/s\n",
      "\u001b[1A\u001b[2KDownloading: deinococcus_radiodurans_complete.zip    32.8kB 110kB/s\n",
      "\u001b[1A\u001b[2KDownloading: deinococcus_radiodurans_complete.zip    32.8kB 110kB/s\n",
      "\u001b[1A\u001b[2KDownloading: deinococcus_radiodurans_complete.zip    32.8kB 110kB/s\n",
      "\u001b[1A\u001b[2KDownloading: deinococcus_radiodurans_complete.zip    32.8kB 110kB/s\n",
      "\u001b[1A\u001b[2KDownloading: deinococcus_radiodurans_complete.zip    32.8kB 110kB/s\n",
      "\u001b[1A\u001b[2KDownloading: deinococcus_radiodurans_complete.zip    32.8kB 110kB/s\n",
      "\u001b[1A\u001b[2KDownloading: deinococcus_radiodurans_complete.zip    32.8kB 110kB/s\n",
      "\u001b[1A\u001b[2KDownloading: deinococcus_radiodurans_complete.zip    32.8kB 110kB/s\n"
     ]
    },
    {
     "name": "stdout",
     "output_type": "stream",
     "text": [
      "\u001b[1A\u001b[2KDownloading: deinococcus_radiodurans_complete.zip    32.8kB 110kB/s\n",
      "\u001b[1A\u001b[2KDownloading: deinococcus_radiodurans_complete.zip    32.8kB 110kB/s\n",
      "\u001b[1A\u001b[2KDownloading: deinococcus_radiodurans_complete.zip    32.8kB 110kB/s\n",
      "\u001b[1A\u001b[2KDownloading: deinococcus_radiodurans_complete.zip    32.8kB 110kB/s\n",
      "\u001b[1A\u001b[2KDownloading: deinococcus_radiodurans_complete.zip    32.8kB 110kB/s\n",
      "\u001b[1A\u001b[2KDownloading: deinococcus_radiodurans_complete.zip    32.8kB 110kB/s\n",
      "\u001b[1A\u001b[2KDownloading: deinococcus_radiodurans_complete.zip    32.8kB 110kB/s\n",
      "\u001b[1A\u001b[2KDownloading: deinococcus_radiodurans_complete.zip    32.8kB 110kB/s\n",
      "\u001b[1A\u001b[2KDownloading: deinococcus_radiodurans_complete.zip    65.5kB 132kB/s\n",
      "\u001b[1A\u001b[2KDownloading: deinococcus_radiodurans_complete.zip    65.5kB 132kB/s\n",
      "\u001b[1A\u001b[2KDownloading: deinococcus_radiodurans_complete.zip    65.5kB 132kB/s\n",
      "\u001b[1A\u001b[2KDownloading: deinococcus_radiodurans_complete.zip    65.5kB 132kB/s\n",
      "\u001b[1A\u001b[2KDownloading: deinococcus_radiodurans_complete.zip    65.5kB 132kB/s\n",
      "\u001b[1A\u001b[2KDownloading: deinococcus_radiodurans_complete.zip    65.5kB 132kB/s\n",
      "\u001b[1A\u001b[2KDownloading: deinococcus_radiodurans_complete.zip    65.5kB 132kB/s\n",
      "\u001b[1A\u001b[2KDownloading: deinococcus_radiodurans_complete.zip    65.5kB 132kB/s\n",
      "\u001b[1A\u001b[2KDownloading: deinococcus_radiodurans_complete.zip    65.5kB 132kB/s\n",
      "\u001b[1A\u001b[2KDownloading: deinococcus_radiodurans_complete.zip    65.5kB 132kB/s\n",
      "\u001b[1A\u001b[2KDownloading: deinococcus_radiodurans_complete.zip    65.5kB 132kB/s\n",
      "\u001b[1A\u001b[2KDownloading: deinococcus_radiodurans_complete.zip    65.5kB 132kB/s\n"
     ]
    },
    {
     "name": "stdout",
     "output_type": "stream",
     "text": [
      "\u001b[1A\u001b[2KDownloading: deinococcus_radiodurans_complete.zip    65.5kB 132kB/s\n",
      "\u001b[1A\u001b[2KDownloading: deinococcus_radiodurans_complete.zip    65.5kB 132kB/s\n",
      "\u001b[1A\u001b[2KDownloading: deinococcus_radiodurans_complete.zip    65.5kB 132kB/s\n",
      "\u001b[1A\u001b[2KDownloading: deinococcus_radiodurans_complete.zip    65.5kB 132kB/s\n",
      "\u001b[1A\u001b[2KDownloading: deinococcus_radiodurans_complete.zip    65.5kB 132kB/s\n",
      "\u001b[1A\u001b[2KDownloading: deinococcus_radiodurans_complete.zip    65.5kB 132kB/s\n",
      "\u001b[1A\u001b[2KDownloading: deinococcus_radiodurans_complete.zip    65.5kB 132kB/s\n",
      "\u001b[1A\u001b[2KDownloading: deinococcus_radiodurans_complete.zip    164kB 232kB/s\n",
      "\u001b[1A\u001b[2KDownloading: deinococcus_radiodurans_complete.zip    197kB 278kB/s\n",
      "\u001b[1A\u001b[2KDownloading: deinococcus_radiodurans_complete.zip    197kB 278kB/s\n",
      "\u001b[1A\u001b[2KDownloading: deinococcus_radiodurans_complete.zip    197kB 278kB/s\n",
      "\u001b[1A\u001b[2KDownloading: deinococcus_radiodurans_complete.zip    197kB 278kB/s\n",
      "\u001b[1A\u001b[2KDownloading: deinococcus_radiodurans_complete.zip    197kB 278kB/s\n",
      "\u001b[1A\u001b[2KDownloading: deinococcus_radiodurans_complete.zip    197kB 278kB/s\n",
      "\u001b[1A\u001b[2KDownloading: deinococcus_radiodurans_complete.zip    197kB 278kB/s\n",
      "\u001b[1A\u001b[2KDownloading: deinococcus_radiodurans_complete.zip    197kB 278kB/s\n",
      "\u001b[1A\u001b[2KDownloading: deinococcus_radiodurans_complete.zip    197kB 278kB/s\n",
      "\u001b[1A\u001b[2KDownloading: deinococcus_radiodurans_complete.zip    197kB 278kB/s\n",
      "\u001b[1A\u001b[2KDownloading: deinococcus_radiodurans_complete.zip    197kB 278kB/s\n"
     ]
    },
    {
     "name": "stdout",
     "output_type": "stream",
     "text": [
      "\u001b[1A\u001b[2KDownloading: deinococcus_radiodurans_complete.zip    197kB 278kB/s\n",
      "\u001b[1A\u001b[2KDownloading: deinococcus_radiodurans_complete.zip    197kB 278kB/s\n",
      "\u001b[1A\u001b[2KDownloading: deinococcus_radiodurans_complete.zip    197kB 278kB/s\n",
      "\u001b[1A\u001b[2KDownloading: deinococcus_radiodurans_complete.zip    197kB 278kB/s\n",
      "\u001b[1A\u001b[2KDownloading: deinococcus_radiodurans_complete.zip    197kB 278kB/s\n",
      "\u001b[1A\u001b[2KDownloading: deinococcus_radiodurans_complete.zip    197kB 278kB/s\n",
      "\u001b[1A\u001b[2KDownloading: deinococcus_radiodurans_complete.zip    197kB 278kB/s\n",
      "\u001b[1A\u001b[2KDownloading: deinococcus_radiodurans_complete.zip    197kB 278kB/s\n",
      "\u001b[1A\u001b[2KDownloading: deinococcus_radiodurans_complete.zip    295kB 321kB/s\n",
      "\u001b[1A\u001b[2KDownloading: deinococcus_radiodurans_complete.zip    295kB 321kB/s\n",
      "\u001b[1A\u001b[2KDownloading: deinococcus_radiodurans_complete.zip    295kB 321kB/s\n",
      "\u001b[1A\u001b[2KDownloading: deinococcus_radiodurans_complete.zip    295kB 321kB/s\n",
      "\u001b[1A\u001b[2KDownloading: deinococcus_radiodurans_complete.zip    295kB 321kB/s\n",
      "\u001b[1A\u001b[2KDownloading: deinococcus_radiodurans_complete.zip    295kB 321kB/s\n",
      "\u001b[1A\u001b[2KDownloading: deinococcus_radiodurans_complete.zip    295kB 321kB/s\n",
      "\u001b[1A\u001b[2KDownloading: deinococcus_radiodurans_complete.zip    295kB 321kB/s\n",
      "\u001b[1A\u001b[2KDownloading: deinococcus_radiodurans_complete.zip    295kB 321kB/s\n",
      "\u001b[1A\u001b[2KDownloading: deinococcus_radiodurans_complete.zip    295kB 321kB/s\n",
      "\u001b[1A\u001b[2KDownloading: deinococcus_radiodurans_complete.zip    295kB 321kB/s\n",
      "\u001b[1A\u001b[2KDownloading: deinococcus_radiodurans_complete.zip    295kB 321kB/s\n"
     ]
    },
    {
     "name": "stdout",
     "output_type": "stream",
     "text": [
      "\u001b[1A\u001b[2KDownloading: deinococcus_radiodurans_complete.zip    295kB 321kB/s\n",
      "\u001b[1A\u001b[2KDownloading: deinococcus_radiodurans_complete.zip    295kB 321kB/s\n",
      "\u001b[1A\u001b[2KDownloading: deinococcus_radiodurans_complete.zip    295kB 321kB/s\n",
      "\u001b[1A\u001b[2KDownloading: deinococcus_radiodurans_complete.zip    295kB 321kB/s\n",
      "\u001b[1A\u001b[2KDownloading: deinococcus_radiodurans_complete.zip    295kB 321kB/s\n",
      "\u001b[1A\u001b[2KDownloading: deinococcus_radiodurans_complete.zip    295kB 321kB/s\n",
      "\u001b[1A\u001b[2KDownloading: deinococcus_radiodurans_complete.zip    295kB 321kB/s\n",
      "\u001b[1A\u001b[2KDownloading: deinococcus_radiodurans_complete.zip    295kB 321kB/s\n",
      "\u001b[1A\u001b[2KDownloading: deinococcus_radiodurans_complete.zip    557kB 493kB/s\n",
      "\u001b[1A\u001b[2KDownloading: deinococcus_radiodurans_complete.zip    557kB 493kB/s\n",
      "\u001b[1A\u001b[2KDownloading: deinococcus_radiodurans_complete.zip    557kB 493kB/s\n",
      "\u001b[1A\u001b[2KDownloading: deinococcus_radiodurans_complete.zip    590kB 512kB/s\n",
      "\u001b[1A\u001b[2KDownloading: deinococcus_radiodurans_complete.zip    590kB 512kB/s\n",
      "\u001b[1A\u001b[2KDownloading: deinococcus_radiodurans_complete.zip    590kB 512kB/s\n",
      "\u001b[1A\u001b[2KDownloading: deinococcus_radiodurans_complete.zip    590kB 512kB/s\n",
      "\u001b[1A\u001b[2KDownloading: deinococcus_radiodurans_complete.zip    590kB 512kB/s\n",
      "\u001b[1A\u001b[2KDownloading: deinococcus_radiodurans_complete.zip    590kB 512kB/s\n",
      "\u001b[1A\u001b[2KDownloading: deinococcus_radiodurans_complete.zip    590kB 512kB/s\n",
      "\u001b[1A\u001b[2KDownloading: deinococcus_radiodurans_complete.zip    590kB 512kB/s\n"
     ]
    },
    {
     "name": "stdout",
     "output_type": "stream",
     "text": [
      "\u001b[1A\u001b[2KDownloading: deinococcus_radiodurans_complete.zip    590kB 512kB/s\n",
      "\u001b[1A\u001b[2KDownloading: deinococcus_radiodurans_complete.zip    590kB 512kB/s\n",
      "\u001b[1A\u001b[2KDownloading: deinococcus_radiodurans_complete.zip    590kB 512kB/s\n",
      "\u001b[1A\u001b[2KDownloading: deinococcus_radiodurans_complete.zip    590kB 512kB/s\n",
      "\u001b[1A\u001b[2KDownloading: deinococcus_radiodurans_complete.zip    590kB 512kB/s\n",
      "\u001b[1A\u001b[2KDownloading: deinococcus_radiodurans_complete.zip    590kB 512kB/s\n",
      "\u001b[1A\u001b[2KDownloading: deinococcus_radiodurans_complete.zip    623kB 478kB/s\n",
      "\u001b[1A\u001b[2KDownloading: deinococcus_radiodurans_complete.zip    655kB 500kB/s\n",
      "\u001b[1A\u001b[2KDownloading: deinococcus_radiodurans_complete.zip    655kB 500kB/s\n",
      "\u001b[1A\u001b[2KDownloading: deinococcus_radiodurans_complete.zip    688kB 515kB/s\n",
      "\u001b[1A\u001b[2KDownloading: deinococcus_radiodurans_complete.zip    688kB 515kB/s\n",
      "\u001b[1A\u001b[2KDownloading: deinococcus_radiodurans_complete.zip    688kB 515kB/s\n",
      "\u001b[1A\u001b[2KDownloading: deinococcus_radiodurans_complete.zip    721kB 529kB/s\n",
      "\u001b[1A\u001b[2KDownloading: deinococcus_radiodurans_complete.zip    721kB 529kB/s\n",
      "\u001b[1A\u001b[2KDownloading: deinococcus_radiodurans_complete.zip    721kB 529kB/s\n",
      "\u001b[1A\u001b[2KDownloading: deinococcus_radiodurans_complete.zip    754kB 540kB/s\n",
      "\u001b[1A\u001b[2KDownloading: deinococcus_radiodurans_complete.zip    754kB 540kB/s\n",
      "\u001b[1A\u001b[2KDownloading: deinococcus_radiodurans_complete.zip    754kB 540kB/s\n",
      "\u001b[1A\u001b[2KDownloading: deinococcus_radiodurans_complete.zip    754kB 540kB/s\n",
      "\u001b[1A\u001b[2KDownloading: deinococcus_radiodurans_complete.zip    754kB 540kB/s\n"
     ]
    },
    {
     "name": "stdout",
     "output_type": "stream",
     "text": [
      "\u001b[1A\u001b[2KDownloading: deinococcus_radiodurans_complete.zip    754kB 540kB/s\n",
      "\u001b[1A\u001b[2KDownloading: deinococcus_radiodurans_complete.zip    754kB 540kB/s\n",
      "\u001b[1A\u001b[2KDownloading: deinococcus_radiodurans_complete.zip    754kB 540kB/s\n",
      "\u001b[1A\u001b[2KDownloading: deinococcus_radiodurans_complete.zip    754kB 540kB/s\n",
      "\u001b[1A\u001b[2KDownloading: deinococcus_radiodurans_complete.zip    754kB 540kB/s\n",
      "\u001b[1A\u001b[2KDownloading: deinococcus_radiodurans_complete.zip    754kB 540kB/s\n",
      "\u001b[1A\u001b[2KDownloading: deinococcus_radiodurans_complete.zip    754kB 540kB/s\n",
      "\u001b[1A\u001b[2KDownloading: deinococcus_radiodurans_complete.zip    754kB 540kB/s\n",
      "\u001b[1A\u001b[2KDownloading: deinococcus_radiodurans_complete.zip    786kB 513kB/s\n",
      "\u001b[1A\u001b[2KDownloading: deinococcus_radiodurans_complete.zip    786kB 513kB/s\n",
      "\u001b[1A\u001b[2KDownloading: deinococcus_radiodurans_complete.zip    819kB 529kB/s\n",
      "\u001b[1A\u001b[2KDownloading: deinococcus_radiodurans_complete.zip    852kB 544kB/s\n",
      "\u001b[1A\u001b[2KDownloading: deinococcus_radiodurans_complete.zip    852kB 544kB/s\n",
      "\u001b[1A\u001b[2KDownloading: deinococcus_radiodurans_complete.zip    852kB 544kB/s\n",
      "\u001b[1A\u001b[2KDownloading: deinococcus_radiodurans_complete.zip    852kB 544kB/s\n",
      "\u001b[1A\u001b[2KDownloading: deinococcus_radiodurans_complete.zip    885kB 553kB/s\n",
      "\u001b[1A\u001b[2KDownloading: deinococcus_radiodurans_complete.zip    918kB 567kB/s\n",
      "\u001b[1A\u001b[2KDownloading: deinococcus_radiodurans_complete.zip    918kB 567kB/s\n",
      "\u001b[1A\u001b[2KDownloading: deinococcus_radiodurans_complete.zip    950kB 581kB/s\n",
      "\u001b[1A\u001b[2KDownloading: deinococcus_radiodurans_complete.zip    950kB 581kB/s\n"
     ]
    },
    {
     "name": "stdout",
     "output_type": "stream",
     "text": [
      "\u001b[1A\u001b[2KDownloading: deinococcus_radiodurans_complete.zip    950kB 581kB/s\n",
      "\u001b[1A\u001b[2KDownloading: deinococcus_radiodurans_complete.zip    950kB 581kB/s\n",
      "\u001b[1A\u001b[2KDownloading: deinococcus_radiodurans_complete.zip    950kB 581kB/s\n",
      "\u001b[1A\u001b[2KDownloading: deinococcus_radiodurans_complete.zip    950kB 581kB/s\n",
      "\u001b[1A\u001b[2KDownloading: deinococcus_radiodurans_complete.zip    950kB 581kB/s\n",
      "\u001b[1A\u001b[2KDownloading: deinococcus_radiodurans_complete.zip    950kB 581kB/s\n",
      "\u001b[1A\u001b[2KDownloading: deinococcus_radiodurans_complete.zip    983kB 572kB/s\n",
      "\u001b[1A\u001b[2KDownloading: deinococcus_radiodurans_complete.zip    1.02MB 587kB/s\n",
      "\u001b[1A\u001b[2KDownloading: deinococcus_radiodurans_complete.zip    1.02MB 587kB/s\n",
      "\u001b[1A\u001b[2KDownloading: deinococcus_radiodurans_complete.zip    1.02MB 587kB/s\n",
      "\u001b[1A\u001b[2KDownloading: deinococcus_radiodurans_complete.zip    1.02MB 587kB/s\n",
      "\u001b[1A\u001b[2KDownloading: deinococcus_radiodurans_complete.zip    1.02MB 587kB/s\n",
      "\u001b[1A\u001b[2KDownloading: deinococcus_radiodurans_complete.zip    1.05MB 587kB/s\n",
      "\u001b[1A\u001b[2KDownloading: deinococcus_radiodurans_complete.zip    1.05MB 587kB/s\n",
      "\u001b[1A\u001b[2KDownloading: deinococcus_radiodurans_complete.zip    1.05MB 587kB/s\n",
      "\u001b[1A\u001b[2KDownloading: deinococcus_radiodurans_complete.zip    1.05MB 587kB/s\n",
      "\u001b[1A\u001b[2KDownloading: deinococcus_radiodurans_complete.zip    1.08MB 592kB/s\n",
      "\u001b[1A\u001b[2KDownloading: deinococcus_radiodurans_complete.zip    1.08MB 592kB/s\n",
      "\u001b[1A\u001b[2KDownloading: deinococcus_radiodurans_complete.zip    1.08MB 592kB/s\n",
      "\u001b[1A\u001b[2KDownloading: deinococcus_radiodurans_complete.zip    1.11MB 602kB/s\n"
     ]
    },
    {
     "name": "stdout",
     "output_type": "stream",
     "text": [
      "\u001b[1A\u001b[2KDownloading: deinococcus_radiodurans_complete.zip    1.11MB 602kB/s\n",
      "\u001b[1A\u001b[2KDownloading: deinococcus_radiodurans_complete.zip    1.11MB 602kB/s\n",
      "\u001b[1A\u001b[2KDownloading: deinococcus_radiodurans_complete.zip    1.11MB 602kB/s\n",
      "\u001b[1A\u001b[2KDownloading: deinococcus_radiodurans_complete.zip    1.11MB 602kB/s\n",
      "\u001b[1A\u001b[2KDownloading: deinococcus_radiodurans_complete.zip    1.15MB 601kB/s\n",
      "\u001b[1A\u001b[2KDownloading: deinococcus_radiodurans_complete.zip    1.15MB 601kB/s\n",
      "\u001b[1A\u001b[2KDownloading: deinococcus_radiodurans_complete.zip    1.15MB 601kB/s\n",
      "\u001b[1A\u001b[2KDownloading: deinococcus_radiodurans_complete.zip    1.18MB 610kB/s\n",
      "\u001b[1A\u001b[2KDownloading: deinococcus_radiodurans_complete.zip    1.18MB 610kB/s\n",
      "\u001b[1A\u001b[2KDownloading: deinococcus_radiodurans_complete.zip    1.18MB 610kB/s\n",
      "\u001b[1A\u001b[2KDownloading: deinococcus_radiodurans_complete.zip    1.21MB 614kB/s\n",
      "\u001b[1A\u001b[2KDownloading: deinococcus_radiodurans_complete.zip    1.21MB 614kB/s\n",
      "\u001b[1A\u001b[2KDownloading: deinococcus_radiodurans_complete.zip    1.21MB 614kB/s\n",
      "\u001b[1A\u001b[2KDownloading: deinococcus_radiodurans_complete.zip    1.21MB 614kB/s\n",
      "\u001b[1A\u001b[2KDownloading: deinococcus_radiodurans_complete.zip    1.25MB 618kB/s\n",
      "\u001b[1A\u001b[2KDownloading: deinococcus_radiodurans_complete.zip    1.25MB 618kB/s\n",
      "\u001b[1A\u001b[2KDownloading: deinococcus_radiodurans_complete.zip    1.28MB 628kB/s\n",
      "\u001b[1A\u001b[2KDownloading: deinococcus_radiodurans_complete.zip    1.28MB 628kB/s\n",
      "\u001b[1A\u001b[2KDownloading: deinococcus_radiodurans_complete.zip    1.28MB 628kB/s\n",
      "\u001b[1A\u001b[2KDownloading: deinococcus_radiodurans_complete.zip    1.28MB 628kB/s\n"
     ]
    },
    {
     "name": "stdout",
     "output_type": "stream",
     "text": [
      "\u001b[1A\u001b[2KDownloading: deinococcus_radiodurans_complete.zip    1.31MB 630kB/s\n",
      "\u001b[1A\u001b[2KDownloading: deinococcus_radiodurans_complete.zip    1.31MB 630kB/s\n",
      "\u001b[1A\u001b[2KDownloading: deinococcus_radiodurans_complete.zip    1.31MB 630kB/s\n",
      "\u001b[1A\u001b[2KDownloading: deinococcus_radiodurans_complete.zip    1.34MB 638kB/s\n",
      "\u001b[1A\u001b[2KDownloading: deinococcus_radiodurans_complete.zip    1.38MB 649kB/s\n",
      "\u001b[1A\u001b[2KDownloading: deinococcus_radiodurans_complete.zip    1.38MB 649kB/s\n",
      "\u001b[1A\u001b[2KDownloading: deinococcus_radiodurans_complete.zip    1.41MB 659kB/s\n",
      "\u001b[1A\u001b[2KDownloading: deinococcus_radiodurans_complete.zip    1.41MB 659kB/s\n",
      "\u001b[1A\u001b[2KDownloading: deinococcus_radiodurans_complete.zip    1.41MB 659kB/s\n",
      "\u001b[1A\u001b[2KDownloading: deinococcus_radiodurans_complete.zip    1.41MB 659kB/s\n",
      "\u001b[1A\u001b[2KDownloading: deinococcus_radiodurans_complete.zip    1.41MB 659kB/s\n",
      "\u001b[1A\u001b[2KDownloading: deinococcus_radiodurans_complete.zip    1.41MB 659kB/s\n",
      "\u001b[1A\u001b[2KDownloading: deinococcus_radiodurans_complete.zip    1.44MB 656kB/s\n",
      "\u001b[1A\u001b[2KDownloading: deinococcus_radiodurans_complete.zip    1.44MB 656kB/s\n",
      "\u001b[1A\u001b[2KDownloading: deinococcus_radiodurans_complete.zip    1.47MB 665kB/s\n",
      "\u001b[1A\u001b[2KDownloading: deinococcus_radiodurans_complete.zip    1.47MB 665kB/s\n",
      "\u001b[1A\u001b[2KDownloading: deinococcus_radiodurans_complete.zip    1.47MB 665kB/s\n",
      "\u001b[1A\u001b[2KDownloading: deinococcus_radiodurans_complete.zip    1.51MB 669kB/s\n",
      "\u001b[1A\u001b[2KDownloading: deinococcus_radiodurans_complete.zip    1.51MB 669kB/s\n",
      "\u001b[1A\u001b[2KDownloading: deinococcus_radiodurans_complete.zip    1.51MB 669kB/s\n"
     ]
    },
    {
     "name": "stdout",
     "output_type": "stream",
     "text": [
      "\u001b[1A\u001b[2KDownloading: deinococcus_radiodurans_complete.zip    1.51MB 669kB/s\n",
      "\u001b[1A\u001b[2KDownloading: deinococcus_radiodurans_complete.zip    1.54MB 671kB/s\n",
      "\u001b[1A\u001b[2KDownloading: deinococcus_radiodurans_complete.zip    1.54MB 671kB/s\n",
      "\u001b[1A\u001b[2KDownloading: deinococcus_radiodurans_complete.zip    1.57MB 678kB/s\n",
      "\u001b[1A\u001b[2KDownloading: deinococcus_radiodurans_complete.zip    1.57MB 678kB/s\n",
      "\u001b[1A\u001b[2KDownloading: deinococcus_radiodurans_complete.zip    1.61MB 686kB/s\n",
      "\u001b[1A\u001b[2KDownloading: deinococcus_radiodurans_complete.zip    1.61MB 686kB/s\n",
      "\u001b[1A\u001b[2KDownloading: deinococcus_radiodurans_complete.zip    1.61MB 686kB/s\n",
      "\u001b[1A\u001b[2KDownloading: deinococcus_radiodurans_complete.zip    1.64MB 691kB/s\n",
      "\u001b[1A\u001b[2KDownloading: deinococcus_radiodurans_complete.zip    1.67MB 700kB/s\n",
      "\u001b[1A\u001b[2KDownloading: deinococcus_radiodurans_complete.zip    1.67MB 700kB/s\n",
      "\u001b[1A\u001b[2KDownloading: deinococcus_radiodurans_complete.zip    1.67MB 700kB/s\n",
      "\u001b[1A\u001b[2KDownloading: deinococcus_radiodurans_complete.zip    1.67MB 700kB/s\n",
      "\u001b[1A\u001b[2KDownloading: deinococcus_radiodurans_complete.zip    1.7MB 703kB/s\n",
      "\u001b[1A\u001b[2KDownloading: deinococcus_radiodurans_complete.zip    1.7MB 703kB/s\n",
      "\u001b[1A\u001b[2KDownloading: deinococcus_radiodurans_complete.zip    1.7MB 703kB/s\n",
      "\u001b[1A\u001b[2KDownloading: deinococcus_radiodurans_complete.zip    1.7MB 703kB/s\n",
      "\u001b[1A\u001b[2KDownloading: deinococcus_radiodurans_complete.zip    1.74MB 704kB/s\n",
      "\u001b[1A\u001b[2KDownloading: deinococcus_radiodurans_complete.zip    1.74MB 704kB/s\n"
     ]
    },
    {
     "name": "stdout",
     "output_type": "stream",
     "text": [
      "\u001b[1A\u001b[2KDownloading: deinococcus_radiodurans_complete.zip    1.77MB 710kB/s\n",
      "\u001b[1A\u001b[2KDownloading: deinococcus_radiodurans_complete.zip    1.77MB 710kB/s\n",
      "\u001b[1A\u001b[2KDownloading: deinococcus_radiodurans_complete.zip    1.8MB 718kB/s\n",
      "\u001b[1A\u001b[2KDownloading: deinococcus_radiodurans_complete.zip    1.8MB 718kB/s\n",
      "\u001b[1A\u001b[2KDownloading: deinococcus_radiodurans_complete.zip    1.8MB 718kB/s\n",
      "\u001b[1A\u001b[2KDownloading: deinococcus_radiodurans_complete.zip    1.8MB 718kB/s\n",
      "\u001b[1A\u001b[2KDownloading: deinococcus_radiodurans_complete.zip    1.84MB 720kB/s\n",
      "\u001b[1A\u001b[2KDownloading: deinococcus_radiodurans_complete.zip    1.84MB 720kB/s\n",
      "\u001b[1A\u001b[2KDownloading: deinococcus_radiodurans_complete.zip    1.84MB 720kB/s\n",
      "\u001b[1A\u001b[2KDownloading: deinococcus_radiodurans_complete.zip    1.87MB 723kB/s\n",
      "\u001b[1A\u001b[2KDownloading: deinococcus_radiodurans_complete.zip    1.87MB 723kB/s\n",
      "\u001b[1A\u001b[2KDownloading: deinococcus_radiodurans_complete.zip    1.87MB 723kB/s\n",
      "\u001b[1A\u001b[2KDownloading: deinococcus_radiodurans_complete.zip    1.9MB 728kB/s\n",
      "\u001b[1A\u001b[2KDownloading: deinococcus_radiodurans_complete.zip    1.93MB 735kB/s\n",
      "\u001b[1A\u001b[2KDownloading: deinococcus_radiodurans_complete.zip    1.93MB 735kB/s\n",
      "\u001b[1A\u001b[2KDownloading: deinococcus_radiodurans_complete.zip    1.93MB 735kB/s\n",
      "\u001b[1A\u001b[2KDownloading: deinococcus_radiodurans_complete.zip    1.93MB 735kB/s\n",
      "\u001b[1A\u001b[2KDownloading: deinococcus_radiodurans_complete.zip    1.97MB 736kB/s\n",
      "\u001b[1A\u001b[2KDownloading: deinococcus_radiodurans_complete.zip    1.97MB 736kB/s\n"
     ]
    },
    {
     "name": "stdout",
     "output_type": "stream",
     "text": [
      "\u001b[1A\u001b[2KDownloading: deinococcus_radiodurans_complete.zip    2MB 744kB/s\n",
      "\u001b[1A\u001b[2KDownloading: deinococcus_radiodurans_complete.zip    2MB 744kB/s\n",
      "\u001b[1A\u001b[2KDownloading: deinococcus_radiodurans_complete.zip    2.03MB 751kB/s\n",
      "\u001b[1A\u001b[2KDownloading: deinococcus_radiodurans_complete.zip    2.03MB 751kB/s\n",
      "\u001b[1A\u001b[2KDownloading: deinococcus_radiodurans_complete.zip    2.03MB 751kB/s\n",
      "\u001b[1A\u001b[2KDownloading: deinococcus_radiodurans_complete.zip    2.06MB 754kB/s\n",
      "\u001b[1A\u001b[2KDownloading: deinococcus_radiodurans_complete.zip    2.06MB 754kB/s\n",
      "\u001b[1A\u001b[2KDownloading: deinococcus_radiodurans_complete.zip    2.06MB 754kB/s\n",
      "\u001b[1A\u001b[2KDownloading: deinococcus_radiodurans_complete.zip    2.06MB 754kB/s\n",
      "\u001b[1A\u001b[2KDownloading: deinococcus_radiodurans_complete.zip    2.1MB 755kB/s\n",
      "\u001b[1A\u001b[2KDownloading: deinococcus_radiodurans_complete.zip    2.1MB 755kB/s\n",
      "\u001b[1A\u001b[2KDownloading: deinococcus_radiodurans_complete.zip    2.13MB 760kB/s\n",
      "\u001b[1A\u001b[2KDownloading: deinococcus_radiodurans_complete.zip    2.13MB 760kB/s\n",
      "\u001b[1A\u001b[2KDownloading: deinococcus_radiodurans_complete.zip    2.13MB 760kB/s\n",
      "\u001b[1A\u001b[2KDownloading: deinococcus_radiodurans_complete.zip    2.13MB 760kB/s\n",
      "\u001b[1A\u001b[2KDownloading: deinococcus_radiodurans_complete.zip    2.13MB 760kB/s\n",
      "\u001b[1A\u001b[2KDownloading: deinococcus_radiodurans_complete.zip    2.13MB 760kB/s\n",
      "\u001b[1A\u001b[2KDownloading: deinococcus_radiodurans_complete.zip    2.16MB 754kB/s\n",
      "\u001b[1A\u001b[2KDownloading: deinococcus_radiodurans_complete.zip    2.16MB 754kB/s\n",
      "\u001b[1A\u001b[2KDownloading: deinococcus_radiodurans_complete.zip    2.2MB 760kB/s\n"
     ]
    },
    {
     "name": "stdout",
     "output_type": "stream",
     "text": [
      "\u001b[1A\u001b[2KDownloading: deinococcus_radiodurans_complete.zip    2.2MB 760kB/s\n",
      "\u001b[1A\u001b[2KDownloading: deinococcus_radiodurans_complete.zip    2.23MB 765kB/s\n",
      "\u001b[1A\u001b[2KDownloading: deinococcus_radiodurans_complete.zip    2.23MB 765kB/s\n",
      "\u001b[1A\u001b[2KDownloading: deinococcus_radiodurans_complete.zip    2.23MB 765kB/s\n",
      "\u001b[1A\u001b[2KDownloading: deinococcus_radiodurans_complete.zip    2.23MB 765kB/s\n",
      "\u001b[1A\u001b[2KDownloading: deinococcus_radiodurans_complete.zip    2.23MB 765kB/s\n",
      "\u001b[1A\u001b[2KDownloading: deinococcus_radiodurans_complete.zip    2.26MB 763kB/s\n",
      "\u001b[1A\u001b[2KDownloading: deinococcus_radiodurans_complete.zip    2.29MB 771kB/s\n",
      "\u001b[1A\u001b[2KDownloading: deinococcus_radiodurans_complete.zip    2.29MB 771kB/s\n",
      "\u001b[1A\u001b[2KDownloading: deinococcus_radiodurans_complete.zip    2.33MB 778kB/s\n",
      "\u001b[1A\u001b[2KDownloading: deinococcus_radiodurans_complete.zip    2.33MB 778kB/s\n",
      "\u001b[1A\u001b[2KDownloading: deinococcus_radiodurans_complete.zip    2.33MB 778kB/s\n",
      "\u001b[1A\u001b[2KDownloading: deinococcus_radiodurans_complete.zip    2.36MB 781kB/s\n",
      "\u001b[1A\u001b[2KDownloading: deinococcus_radiodurans_complete.zip    2.36MB 781kB/s\n",
      "\u001b[1A\u001b[2KDownloading: deinococcus_radiodurans_complete.zip    2.36MB 781kB/s\n",
      "\u001b[1A\u001b[2KDownloading: deinococcus_radiodurans_complete.zip    2.36MB 781kB/s\n",
      "\u001b[1A\u001b[2KDownloading: deinococcus_radiodurans_complete.zip    2.36MB 781kB/s\n",
      "\u001b[1A\u001b[2KDownloading: deinococcus_radiodurans_complete.zip    2.39MB 778kB/s\n",
      "\u001b[1A\u001b[2KDownloading: deinococcus_radiodurans_complete.zip    2.39MB 778kB/s\n",
      "\u001b[1A\u001b[2KDownloading: deinococcus_radiodurans_complete.zip    2.39MB 778kB/s\n"
     ]
    },
    {
     "name": "stdout",
     "output_type": "stream",
     "text": [
      "\u001b[1A\u001b[2KDownloading: deinococcus_radiodurans_complete.zip    2.42MB 779kB/s\n",
      "\u001b[1A\u001b[2KDownloading: deinococcus_radiodurans_complete.zip    2.42MB 779kB/s\n",
      "\u001b[1A\u001b[2KDownloading: deinococcus_radiodurans_complete.zip    2.42MB 779kB/s\n",
      "\u001b[1A\u001b[2KDownloading: deinococcus_radiodurans_complete.zip    2.46MB 782kB/s\n",
      "\u001b[1A\u001b[2KDownloading: deinococcus_radiodurans_complete.zip    2.46MB 782kB/s\n",
      "\u001b[1A\u001b[2KDownloading: deinococcus_radiodurans_complete.zip    2.49MB 786kB/s\n",
      "\u001b[1A\u001b[2KDownloading: deinococcus_radiodurans_complete.zip    2.49MB 786kB/s\n",
      "\u001b[1A\u001b[2KDownloading: deinococcus_radiodurans_complete.zip    2.52MB 794kB/s\n",
      "\u001b[1A\u001b[2KDownloading: deinococcus_radiodurans_complete.zip    2.52MB 794kB/s\n",
      "\u001b[1A\u001b[2KDownloading: deinococcus_radiodurans_complete.zip    2.52MB 794kB/s\n",
      "\u001b[1A\u001b[2KDownloading: deinococcus_radiodurans_complete.zip    2.56MB 795kB/s\n",
      "\u001b[1A\u001b[2KDownloading: deinococcus_radiodurans_complete.zip    2.56MB 795kB/s\n",
      "\u001b[1A\u001b[2KDownloading: deinococcus_radiodurans_complete.zip    2.56MB 795kB/s\n",
      "\u001b[1A\u001b[2KDownloading: deinococcus_radiodurans_complete.zip    2.56MB 795kB/s\n",
      "\u001b[1A\u001b[2KDownloading: deinococcus_radiodurans_complete.zip    2.59MB 794kB/s\n",
      "\u001b[1A\u001b[2KDownloading: deinococcus_radiodurans_complete.zip    2.59MB 794kB/s\n",
      "\u001b[1A\u001b[2KDownloading: deinococcus_radiodurans_complete.zip    2.59MB 794kB/s\n",
      "\u001b[1A\u001b[2KDownloading: deinococcus_radiodurans_complete.zip    2.62MB 798kB/s\n",
      "\u001b[1A\u001b[2KDownloading: deinococcus_radiodurans_complete.zip    2.65MB 806kB/s\n",
      "\u001b[1A\u001b[2KDownloading: deinococcus_radiodurans_complete.zip    2.65MB 806kB/s\n"
     ]
    },
    {
     "name": "stdout",
     "output_type": "stream",
     "text": [
      "\u001b[1A\u001b[2KDownloading: deinococcus_radiodurans_complete.zip    2.65MB 806kB/s\n",
      "\u001b[1A\u001b[2KDownloading: deinococcus_radiodurans_complete.zip    2.65MB 806kB/s\n",
      "\u001b[1A\u001b[2KDownloading: deinococcus_radiodurans_complete.zip    2.65MB 806kB/s\n",
      "\u001b[1A\u001b[2KDownloading: deinococcus_radiodurans_complete.zip    2.69MB 803kB/s\n",
      "\u001b[1A\u001b[2KDownloading: deinococcus_radiodurans_complete.zip    2.69MB 803kB/s\n",
      "\u001b[1A\u001b[2KDownloading: deinococcus_radiodurans_complete.zip    2.72MB 807kB/s\n",
      "\u001b[1A\u001b[2KDownloading: deinococcus_radiodurans_complete.zip    2.75MB 813kB/s\n",
      "\u001b[1A\u001b[2KDownloading: deinococcus_radiodurans_complete.zip    2.75MB 813kB/s\n",
      "\u001b[1A\u001b[2KDownloading: deinococcus_radiodurans_complete.zip    2.75MB 813kB/s\n",
      "\u001b[1A\u001b[2KDownloading: deinococcus_radiodurans_complete.zip    2.79MB 816kB/s\n",
      "\u001b[1A\u001b[2KDownloading: deinococcus_radiodurans_complete.zip    2.79MB 816kB/s\n",
      "\u001b[1A\u001b[2KDownloading: deinococcus_radiodurans_complete.zip    2.82MB 822kB/s\n",
      "\u001b[1A\u001b[2KDownloading: deinococcus_radiodurans_complete.zip    2.82MB 822kB/s\n",
      "\u001b[1A\u001b[2KDownloading: deinococcus_radiodurans_complete.zip    2.82MB 822kB/s\n",
      "\u001b[1A\u001b[2KDownloading: deinococcus_radiodurans_complete.zip    2.82MB 822kB/s\n",
      "\u001b[1A\u001b[2KDownloading: deinococcus_radiodurans_complete.zip    2.85MB 820kB/s\n",
      "\u001b[1A\u001b[2KDownloading: deinococcus_radiodurans_complete.zip    2.85MB 820kB/s\n",
      "\u001b[1A\u001b[2KDownloading: deinococcus_radiodurans_complete.zip    2.85MB 820kB/s\n",
      "\u001b[1A\u001b[2KDownloading: deinococcus_radiodurans_complete.zip    2.88MB 823kB/s\n",
      "\u001b[1A\u001b[2KDownloading: deinococcus_radiodurans_complete.zip    2.88MB 823kB/s\n"
     ]
    },
    {
     "name": "stdout",
     "output_type": "stream",
     "text": [
      "\u001b[1A\u001b[2KDownloading: deinococcus_radiodurans_complete.zip    2.88MB 823kB/s\n",
      "\u001b[1A\u001b[2KDownloading: deinococcus_radiodurans_complete.zip    2.92MB 824kB/s\n",
      "\u001b[1A\u001b[2KDownloading: deinococcus_radiodurans_complete.zip    2.92MB 824kB/s\n",
      "\u001b[1A\u001b[2KDownloading: deinococcus_radiodurans_complete.zip    2.92MB 824kB/s\n",
      "\u001b[1A\u001b[2KDownloading: deinococcus_radiodurans_complete.zip    2.95MB 825kB/s\n",
      "\u001b[1A\u001b[2KDownloading: deinococcus_radiodurans_complete.zip    2.95MB 825kB/s\n",
      "\u001b[1A\u001b[2KDownloading: deinococcus_radiodurans_complete.zip    2.95MB 825kB/s\n",
      "\u001b[1A\u001b[2KDownloading: deinococcus_radiodurans_complete.zip    2.95MB 825kB/s\n",
      "\u001b[1A\u001b[2KDownloading: deinococcus_radiodurans_complete.zip    2.98MB 826kB/s\n",
      "\u001b[1A\u001b[2KDownloading: deinococcus_radiodurans_complete.zip    2.98MB 826kB/s\n",
      "\u001b[1A\u001b[2KDownloading: deinococcus_radiodurans_complete.zip    2.98MB 826kB/s\n",
      "\u001b[1A\u001b[2KDownloading: deinococcus_radiodurans_complete.zip    3.01MB 828kB/s\n",
      "\u001b[1A\u001b[2KDownloading: deinococcus_radiodurans_complete.zip    3.01MB 828kB/s\n",
      "\u001b[1A\u001b[2KDownloading: deinococcus_radiodurans_complete.zip    3.05MB 832kB/s\n",
      "\u001b[1A\u001b[2KDownloading: deinococcus_radiodurans_complete.zip    3.05MB 832kB/s\n",
      "\u001b[1A\u001b[2KDownloading: deinococcus_radiodurans_complete.zip    3.08MB 835kB/s\n",
      "\u001b[1A\u001b[2KDownloading: deinococcus_radiodurans_complete.zip    3.11MB 841kB/s\n",
      "\u001b[1A\u001b[2KDownloading: deinococcus_radiodurans_complete.zip    3.11MB 841kB/s\n",
      "\u001b[1A\u001b[2KDownloading: deinococcus_radiodurans_complete.zip    3.15MB 846kB/s\n"
     ]
    },
    {
     "name": "stdout",
     "output_type": "stream",
     "text": [
      "\u001b[1A\u001b[2KDownloading: deinococcus_radiodurans_complete.zip    3.15MB 846kB/s\n",
      "\u001b[1A\u001b[2KDownloading: deinococcus_radiodurans_complete.zip    3.15MB 846kB/s\n",
      "\u001b[1A\u001b[2KDownloading: deinococcus_radiodurans_complete.zip    3.15MB 846kB/s\n",
      "\u001b[1A\u001b[2KDownloading: deinococcus_radiodurans_complete.zip    3.15MB 846kB/s\n",
      "\u001b[1A\u001b[2KDownloading: deinococcus_radiodurans_complete.zip    3.18MB 842kB/s\n",
      "\u001b[1A\u001b[2KDownloading: deinococcus_radiodurans_complete.zip    3.18MB 842kB/s\n",
      "\u001b[1A\u001b[2KDownloading: deinococcus_radiodurans_complete.zip    3.18MB 842kB/s\n",
      "\u001b[1A\u001b[2KDownloading: deinococcus_radiodurans_complete.zip    3.18MB 842kB/s\n",
      "\u001b[1A\u001b[2KDownloading: deinococcus_radiodurans_complete.zip    3.21MB 842kB/s\n",
      "\u001b[1A\u001b[2KDownloading: deinococcus_radiodurans_complete.zip    3.21MB 842kB/s\n",
      "\u001b[1A\u001b[2KDownloading: deinococcus_radiodurans_complete.zip    3.21MB 842kB/s\n",
      "\u001b[1A\u001b[2KDownloading: deinococcus_radiodurans_complete.zip    3.21MB 842kB/s\n",
      "\u001b[1A\u001b[2KDownloading: deinococcus_radiodurans_complete.zip    3.21MB 842kB/s\n",
      "\u001b[1A\u001b[2KDownloading: deinococcus_radiodurans_complete.zip    3.21MB 842kB/s\n",
      "\u001b[1A\u001b[2KDownloading: deinococcus_radiodurans_complete.zip    3.24MB 838kB/s\n",
      "\u001b[1A\u001b[2KDownloading: deinococcus_radiodurans_complete.zip    3.28MB 842kB/s\n",
      "\u001b[1A\u001b[2KDownloading: deinococcus_radiodurans_complete.zip    3.28MB 842kB/s\n",
      "\u001b[1A\u001b[2KDownloading: deinococcus_radiodurans_complete.zip    3.28MB 842kB/s\n",
      "\u001b[1A\u001b[2KDownloading: deinococcus_radiodurans_complete.zip    3.28MB 842kB/s\n",
      "\u001b[1A\u001b[2KDownloading: deinococcus_radiodurans_complete.zip    3.31MB 842kB/s\n"
     ]
    },
    {
     "name": "stdout",
     "output_type": "stream",
     "text": [
      "\u001b[1A\u001b[2KDownloading: deinococcus_radiodurans_complete.zip    3.34MB 848kB/s\n",
      "\u001b[1A\u001b[2KDownloading: deinococcus_radiodurans_complete.zip    3.34MB 848kB/s\n",
      "\u001b[1A\u001b[2KDownloading: deinococcus_radiodurans_complete.zip    3.34MB 848kB/s\n",
      "\u001b[1A\u001b[2KDownloading: deinococcus_radiodurans_complete.zip    3.38MB 849kB/s\n",
      "\u001b[1A\u001b[2KDownloading: deinococcus_radiodurans_complete.zip    3.38MB 849kB/s\n",
      "\u001b[1A\u001b[2KDownloading: deinococcus_radiodurans_complete.zip    3.41MB 854kB/s\n",
      "\u001b[1A\u001b[2KDownloading: deinococcus_radiodurans_complete.zip    3.41MB 854kB/s\n",
      "\u001b[1A\u001b[2KDownloading: deinococcus_radiodurans_complete.zip    3.41MB 854kB/s\n",
      "\u001b[1A\u001b[2KDownloading: deinococcus_radiodurans_complete.zip    3.41MB 854kB/s\n",
      "\u001b[1A\u001b[2KDownloading: deinococcus_radiodurans_complete.zip    3.41MB 854kB/s\n",
      "\u001b[1A\u001b[2KDownloading: deinococcus_radiodurans_complete.zip    3.44MB 852kB/s\n",
      "\u001b[1A\u001b[2KDownloading: deinococcus_radiodurans_complete.zip    3.44MB 852kB/s\n",
      "\u001b[1A\u001b[2KDownloading: deinococcus_radiodurans_complete.zip    3.44MB 852kB/s\n",
      "\u001b[1A\u001b[2KDownloading: deinococcus_radiodurans_complete.zip    3.47MB 853kB/s\n",
      "\u001b[1A\u001b[2KDownloading: deinococcus_radiodurans_complete.zip    3.51MB 857kB/s\n",
      "\u001b[1A\u001b[2KDownloading: deinococcus_radiodurans_complete.zip    3.51MB 857kB/s\n",
      "\u001b[1A\u001b[2KDownloading: deinococcus_radiodurans_complete.zip    3.51MB 857kB/s\n",
      "\u001b[1A\u001b[2KDownloading: deinococcus_radiodurans_complete.zip    3.51MB 857kB/s\n",
      "\u001b[1A\u001b[2KDownloading: deinococcus_radiodurans_complete.zip    3.51MB 857kB/s\n",
      "\u001b[1A\u001b[2KDownloading: deinococcus_radiodurans_complete.zip    3.54MB 855kB/s\n"
     ]
    },
    {
     "name": "stdout",
     "output_type": "stream",
     "text": [
      "\u001b[1A\u001b[2KDownloading: deinococcus_radiodurans_complete.zip    3.57MB 861kB/s\n",
      "\u001b[1A\u001b[2KDownloading: deinococcus_radiodurans_complete.zip    3.57MB 861kB/s\n",
      "\u001b[1A\u001b[2KDownloading: deinococcus_radiodurans_complete.zip    3.57MB 861kB/s\n",
      "\u001b[1A\u001b[2KDownloading: deinococcus_radiodurans_complete.zip    3.57MB 861kB/s\n",
      "\u001b[1A\u001b[2KDownloading: deinococcus_radiodurans_complete.zip    3.6MB 860kB/s\n",
      "\u001b[1A\u001b[2KDownloading: deinococcus_radiodurans_complete.zip    3.64MB 865kB/s\n",
      "\u001b[1A\u001b[2KDownloading: deinococcus_radiodurans_complete.zip    3.64MB 865kB/s\n",
      "\u001b[1A\u001b[2KDownloading: deinococcus_radiodurans_complete.zip    3.64MB 865kB/s\n",
      "\u001b[1A\u001b[2KDownloading: deinococcus_radiodurans_complete.zip    3.64MB 865kB/s\n",
      "\u001b[1A\u001b[2KDownloading: deinococcus_radiodurans_complete.zip    3.64MB 865kB/s\n",
      "\u001b[1A\u001b[2KDownloading: deinococcus_radiodurans_complete.zip    3.67MB 863kB/s\n",
      "\u001b[1A\u001b[2KDownloading: deinococcus_radiodurans_complete.zip    3.67MB 863kB/s\n",
      "\u001b[1A\u001b[2KDownloading: deinococcus_radiodurans_complete.zip    3.7MB 867kB/s\n",
      "\u001b[1A\u001b[2KDownloading: deinococcus_radiodurans_complete.zip    3.74MB 872kB/s\n",
      "\u001b[1A\u001b[2KDownloading: deinococcus_radiodurans_complete.zip    3.74MB 872kB/s\n",
      "\u001b[1A\u001b[2KDownloading: deinococcus_radiodurans_complete.zip    3.74MB 872kB/s\n",
      "\u001b[1A\u001b[2KDownloading: deinococcus_radiodurans_complete.zip    3.74MB 872kB/s\n",
      "\u001b[1A\u001b[2KDownloading: deinococcus_radiodurans_complete.zip    3.74MB 872kB/s\n",
      "\u001b[1A\u001b[2KDownloading: deinococcus_radiodurans_complete.zip    3.77MB 868kB/s\n",
      "\u001b[1A\u001b[2KDownloading: deinococcus_radiodurans_complete.zip    3.77MB 868kB/s\n"
     ]
    },
    {
     "name": "stdout",
     "output_type": "stream",
     "text": [
      "\u001b[1A\u001b[2KDownloading: deinococcus_radiodurans_complete.zip    3.77MB 868kB/s\n",
      "\u001b[1A\u001b[2KDownloading: deinococcus_radiodurans_complete.zip    3.8MB 870kB/s\n",
      "\u001b[1A\u001b[2KDownloading: deinococcus_radiodurans_complete.zip    3.8MB 870kB/s\n",
      "\u001b[1A\u001b[2KDownloading: deinococcus_radiodurans_complete.zip    3.8MB 870kB/s\n",
      "\u001b[1A\u001b[2KDownloading: deinococcus_radiodurans_complete.zip    3.8MB 870kB/s\n",
      "\u001b[1A\u001b[2KDownloading: deinococcus_radiodurans_complete.zip    3.8MB 870kB/s\n",
      "\u001b[1A\u001b[2KDownloading: deinococcus_radiodurans_complete.zip    3.83MB 868kB/s\n",
      "\u001b[1A\u001b[2KDownloading: deinococcus_radiodurans_complete.zip    3.83MB 868kB/s\n",
      "\u001b[1A\u001b[2KDownloading: deinococcus_radiodurans_complete.zip    3.87MB 870kB/s\n",
      "\u001b[1A\u001b[2KDownloading: deinococcus_radiodurans_complete.zip    3.87MB 870kB/s\n",
      "\u001b[1A\u001b[2KDownloading: deinococcus_radiodurans_complete.zip    3.87MB 870kB/s\n",
      "\u001b[1A\u001b[2KDownloading: deinococcus_radiodurans_complete.zip    3.9MB 872kB/s\n",
      "\u001b[1A\u001b[2KDownloading: deinococcus_radiodurans_complete.zip    3.9MB 872kB/s\n",
      "\u001b[1A\u001b[2KDownloading: deinococcus_radiodurans_complete.zip    3.93MB 874kB/s\n",
      "\u001b[1A\u001b[2KDownloading: deinococcus_radiodurans_complete.zip    3.93MB 874kB/s\n",
      "\u001b[1A\u001b[2KDownloading: deinococcus_radiodurans_complete.zip    3.93MB 874kB/s\n",
      "\u001b[1A\u001b[2KDownloading: deinococcus_radiodurans_complete.zip    3.96MB 877kB/s\n",
      "\u001b[1A\u001b[2KDownloading: deinococcus_radiodurans_complete.zip    3.96MB 877kB/s\n",
      "\u001b[1A\u001b[2KDownloading: deinococcus_radiodurans_complete.zip    4MB 880kB/s\n",
      "\u001b[1A\u001b[2KDownloading: deinococcus_radiodurans_complete.zip    4MB 880kB/s\n"
     ]
    },
    {
     "name": "stdout",
     "output_type": "stream",
     "text": [
      "\u001b[1A\u001b[2KDownloading: deinococcus_radiodurans_complete.zip    4MB 880kB/s\n",
      "\u001b[1A\u001b[2KDownloading: deinococcus_radiodurans_complete.zip    4MB 880kB/s\n",
      "\u001b[1A\u001b[2KDownloading: deinococcus_radiodurans_complete.zip    4MB 880kB/s\n",
      "\u001b[1A\u001b[2KDownloading: deinococcus_radiodurans_complete.zip    4MB 880kB/s\n",
      "\u001b[1A\u001b[2KDownloading: deinococcus_radiodurans_complete.zip    4.03MB 874kB/s\n",
      "\u001b[1A\u001b[2KDownloading: deinococcus_radiodurans_complete.zip    4.03MB 874kB/s\n",
      "\u001b[1A\u001b[2KDownloading: deinococcus_radiodurans_complete.zip    4.03MB 874kB/s\n",
      "\u001b[1A\u001b[2KDownloading: deinococcus_radiodurans_complete.zip    4.06MB 874kB/s\n",
      "\u001b[1A\u001b[2KDownloading: deinococcus_radiodurans_complete.zip    4.06MB 874kB/s\n",
      "\u001b[1A\u001b[2KDownloading: deinococcus_radiodurans_complete.zip    4.06MB 874kB/s\n",
      "\u001b[1A\u001b[2KDownloading: deinococcus_radiodurans_complete.zip    4.1MB 877kB/s\n",
      "\u001b[1A\u001b[2KDownloading: deinococcus_radiodurans_complete.zip    4.1MB 877kB/s\n",
      "\u001b[1A\u001b[2KDownloading: deinococcus_radiodurans_complete.zip    4.13MB 880kB/s\n",
      "\u001b[1A\u001b[2KDownloading: deinococcus_radiodurans_complete.zip    4.13MB 880kB/s\n",
      "\u001b[1A\u001b[2KDownloading: deinococcus_radiodurans_complete.zip    4.16MB 883kB/s\n",
      "\u001b[1A\u001b[2KDownloading: deinococcus_radiodurans_complete.zip    4.16MB 883kB/s\n",
      "\u001b[1A\u001b[2KDownloading: deinococcus_radiodurans_complete.zip    4.19MB 885kB/s\n",
      "\u001b[1A\u001b[2KDownloading: deinococcus_radiodurans_complete.zip    4.19MB 885kB/s\n",
      "\u001b[1A\u001b[2KDownloading: deinococcus_radiodurans_complete.zip    4.19MB 885kB/s\n"
     ]
    },
    {
     "name": "stdout",
     "output_type": "stream",
     "text": [
      "\u001b[1A\u001b[2KDownloading: deinococcus_radiodurans_complete.zip    4.19MB 885kB/s\n",
      "\u001b[1A\u001b[2KDownloading: deinococcus_radiodurans_complete.zip    4.23MB 884kB/s\n",
      "\u001b[1A\u001b[2KDownloading: deinococcus_radiodurans_complete.zip    4.23MB 884kB/s\n",
      "\u001b[1A\u001b[2KDownloading: deinococcus_radiodurans_complete.zip    4.23MB 884kB/s\n",
      "\u001b[1A\u001b[2KDownloading: deinococcus_radiodurans_complete.zip    4.23MB 884kB/s\n",
      "\u001b[1A\u001b[2KDownloading: deinococcus_radiodurans_complete.zip    4.23MB 884kB/s\n",
      "\u001b[1A\u001b[2KDownloading: deinococcus_radiodurans_complete.zip    4.26MB 882kB/s\n",
      "\u001b[1A\u001b[2KDownloading: deinococcus_radiodurans_complete.zip    4.26MB 882kB/s\n",
      "\u001b[1A\u001b[2KDownloading: deinococcus_radiodurans_complete.zip    4.26MB 882kB/s\n",
      "\u001b[1A\u001b[2KDownloading: deinococcus_radiodurans_complete.zip    4.26MB 882kB/s\n",
      "\u001b[1A\u001b[2KDownloading: deinococcus_radiodurans_complete.zip    4.26MB 882kB/s\n",
      "\u001b[1A\u001b[2KDownloading: deinococcus_radiodurans_complete.zip    4.29MB 879kB/s\n",
      "\u001b[1A\u001b[2KDownloading: deinococcus_radiodurans_complete.zip    4.29MB 879kB/s\n",
      "\u001b[1A\u001b[2KDownloading: deinococcus_radiodurans_complete.zip    4.33MB 882kB/s\n",
      "\u001b[1A\u001b[2KDownloading: deinococcus_radiodurans_complete.zip    4.36MB 886kB/s\n",
      "\u001b[1A\u001b[2KDownloading: deinococcus_radiodurans_complete.zip    4.36MB 886kB/s\n",
      "\u001b[1A\u001b[2KDownloading: deinococcus_radiodurans_complete.zip    4.39MB 890kB/s\n",
      "\u001b[1A\u001b[2KDownloading: deinococcus_radiodurans_complete.zip    4.39MB 890kB/s\n",
      "\u001b[1A\u001b[2KDownloading: deinococcus_radiodurans_complete.zip    4.39MB 890kB/s\n",
      "\u001b[1A\u001b[2KDownloading: deinococcus_radiodurans_complete.zip    4.39MB 890kB/s\n"
     ]
    },
    {
     "name": "stdout",
     "output_type": "stream",
     "text": [
      "\u001b[1A\u001b[2KDownloading: deinococcus_radiodurans_complete.zip    4.42MB 889kB/s\n",
      "\u001b[1A\u001b[2KDownloading: deinococcus_radiodurans_complete.zip    4.42MB 889kB/s\n",
      "\u001b[1A\u001b[2KDownloading: deinococcus_radiodurans_complete.zip    4.42MB 889kB/s\n",
      "\u001b[1A\u001b[2KDownloading: deinococcus_radiodurans_complete.zip    4.46MB 890kB/s\n",
      "\u001b[1A\u001b[2KDownloading: deinococcus_radiodurans_complete.zip    4.46MB 890kB/s\n",
      "\u001b[1A\u001b[2KDownloading: deinococcus_radiodurans_complete.zip    4.46MB 890kB/s\n",
      "\u001b[1A\u001b[2KDownloading: deinococcus_radiodurans_complete.zip    4.46MB 890kB/s\n",
      "\u001b[1A\u001b[2KDownloading: deinococcus_radiodurans_complete.zip    4.49MB 889kB/s\n",
      "\u001b[1A\u001b[2KDownloading: deinococcus_radiodurans_complete.zip    4.49MB 889kB/s\n",
      "\u001b[1A\u001b[2KDownloading: deinococcus_radiodurans_complete.zip    4.49MB 889kB/s\n",
      "\u001b[1A\u001b[2KDownloading: deinococcus_radiodurans_complete.zip    4.49MB 889kB/s\n",
      "\u001b[1A\u001b[2KDownloading: deinococcus_radiodurans_complete.zip    4.49MB 889kB/s\n",
      "\u001b[1A\u001b[2KDownloading: deinococcus_radiodurans_complete.zip    4.49MB 889kB/s\n",
      "\u001b[1A\u001b[2KDownloading: deinococcus_radiodurans_complete.zip    4.52MB 883kB/s\n",
      "\u001b[1A\u001b[2KDownloading: deinococcus_radiodurans_complete.zip    4.52MB 883kB/s\n",
      "\u001b[1A\u001b[2KDownloading: deinococcus_radiodurans_complete.zip    4.52MB 883kB/s\n",
      "\u001b[1A\u001b[2KDownloading: deinococcus_radiodurans_complete.zip    4.52MB 883kB/s\n",
      "\u001b[1A\u001b[2KDownloading: deinococcus_radiodurans_complete.zip    4.55MB 884kB/s\n",
      "\u001b[1A\u001b[2KDownloading: deinococcus_radiodurans_complete.zip    4.55MB 884kB/s\n"
     ]
    },
    {
     "name": "stdout",
     "output_type": "stream",
     "text": [
      "\u001b[1A\u001b[2KDownloading: deinococcus_radiodurans_complete.zip    4.59MB 885kB/s\n",
      "\u001b[1A\u001b[2KDownloading: deinococcus_radiodurans_complete.zip    4.59MB 885kB/s\n",
      "\u001b[1A\u001b[2KDownloading: deinococcus_radiodurans_complete.zip    4.62MB 889kB/s\n",
      "\u001b[1A\u001b[2KDownloading: deinococcus_radiodurans_complete.zip    4.62MB 889kB/s\n",
      "\u001b[1A\u001b[2KDownloading: deinococcus_radiodurans_complete.zip    4.65MB 892kB/s\n",
      "\u001b[1A\u001b[2KDownloading: deinococcus_radiodurans_complete.zip    4.65MB 892kB/s\n",
      "\u001b[1A\u001b[2KDownloading: deinococcus_radiodurans_complete.zip    4.69MB 895kB/s\n",
      "\u001b[1A\u001b[2KDownloading: deinococcus_radiodurans_complete.zip    4.69MB 895kB/s\n",
      "\u001b[1A\u001b[2KDownloading: deinococcus_radiodurans_complete.zip    4.69MB 895kB/s\n",
      "\u001b[1A\u001b[2KDownloading: deinococcus_radiodurans_complete.zip    4.72MB 895kB/s\n",
      "\u001b[1A\u001b[2KDownloading: deinococcus_radiodurans_complete.zip    4.72MB 895kB/s\n",
      "\u001b[1A\u001b[2KDownloading: deinococcus_radiodurans_complete.zip    4.75MB 897kB/s\n",
      "\u001b[1A\u001b[2KDownloading: deinococcus_radiodurans_complete.zip    4.75MB 897kB/s\n",
      "\u001b[1A\u001b[2KDownloading: deinococcus_radiodurans_complete.zip    4.78MB 900kB/s\n",
      "\u001b[1A\u001b[2KDownloading: deinococcus_radiodurans_complete.zip    4.78MB 900kB/s\n",
      "\u001b[1A\u001b[2KDownloading: deinococcus_radiodurans_complete.zip    4.78MB 900kB/s\n",
      "\u001b[1A\u001b[2KDownloading: deinococcus_radiodurans_complete.zip    4.82MB 900kB/s\n",
      "\u001b[1A\u001b[2KDownloading: deinococcus_radiodurans_complete.zip    4.82MB 900kB/s\n",
      "\u001b[1A\u001b[2KDownloading: deinococcus_radiodurans_complete.zip    4.82MB 900kB/s\n",
      "\u001b[1A\u001b[2KDownloading: deinococcus_radiodurans_complete.zip    4.85MB 902kB/s\n"
     ]
    },
    {
     "name": "stdout",
     "output_type": "stream",
     "text": [
      "\u001b[1A\u001b[2KDownloading: deinococcus_radiodurans_complete.zip    4.85MB 902kB/s\n",
      "\u001b[1A\u001b[2KDownloading: deinococcus_radiodurans_complete.zip    4.88MB 905kB/s\n",
      "\u001b[1A\u001b[2KDownloading: deinococcus_radiodurans_complete.zip    4.88MB 905kB/s\n",
      "\u001b[1A\u001b[2KDownloading: deinococcus_radiodurans_complete.zip    4.88MB 905kB/s\n",
      "\u001b[1A\u001b[2KDownloading: deinococcus_radiodurans_complete.zip    4.88MB 905kB/s\n",
      "\u001b[1A\u001b[2KDownloading: deinococcus_radiodurans_complete.zip    4.92MB 903kB/s\n",
      "\u001b[1A\u001b[2KDownloading: deinococcus_radiodurans_complete.zip    4.92MB 903kB/s\n",
      "\u001b[1A\u001b[2KDownloading: deinococcus_radiodurans_complete.zip    4.92MB 903kB/s\n",
      "\u001b[1A\u001b[2KDownloading: deinococcus_radiodurans_complete.zip    4.95MB 905kB/s\n",
      "\u001b[1A\u001b[2KDownloading: deinococcus_radiodurans_complete.zip    4.95MB 905kB/s\n",
      "\u001b[1A\u001b[2KDownloading: deinococcus_radiodurans_complete.zip    4.98MB 906kB/s\n",
      "\u001b[1A\u001b[2KDownloading: deinococcus_radiodurans_complete.zip    4.98MB 906kB/s\n",
      "\u001b[1A\u001b[2KDownloading: deinococcus_radiodurans_complete.zip    5.01MB 909kB/s\n",
      "\u001b[1A\u001b[2KDownloading: deinococcus_radiodurans_complete.zip    5.01MB 909kB/s\n",
      "\u001b[1A\u001b[2KDownloading: deinococcus_radiodurans_complete.zip    5.01MB 909kB/s\n",
      "\u001b[1A\u001b[2KDownloading: deinococcus_radiodurans_complete.zip    5.05MB 910kB/s\n",
      "\u001b[1A\u001b[2KDownloading: deinococcus_radiodurans_complete.zip    5.05MB 910kB/s\n",
      "\u001b[1A\u001b[2KDownloading: deinococcus_radiodurans_complete.zip    5.08MB 912kB/s\n",
      "\u001b[1A\u001b[2KDownloading: deinococcus_radiodurans_complete.zip    5.08MB 912kB/s\n",
      "\u001b[1A\u001b[2KDownloading: deinococcus_radiodurans_complete.zip    5.11MB 916kB/s\n"
     ]
    },
    {
     "name": "stdout",
     "output_type": "stream",
     "text": [
      "\u001b[1A\u001b[2KDownloading: deinococcus_radiodurans_complete.zip    5.14MB 919kB/s\n",
      "\u001b[1A\u001b[2KDownloading: deinococcus_radiodurans_complete.zip    5.14MB 919kB/s\n",
      "\u001b[1A\u001b[2KDownloading: deinococcus_radiodurans_complete.zip    5.14MB 919kB/s\n",
      "\u001b[1A\u001b[2KDownloading: deinococcus_radiodurans_complete.zip    5.14MB 919kB/s\n",
      "\u001b[1A\u001b[2KDownloading: deinococcus_radiodurans_complete.zip    5.18MB 918kB/s\n",
      "\u001b[1A\u001b[2KDownloading: deinococcus_radiodurans_complete.zip    5.18MB 918kB/s\n",
      "\u001b[1A\u001b[2KDownloading: deinococcus_radiodurans_complete.zip    5.18MB 918kB/s\n",
      "\u001b[1A\u001b[2KDownloading: deinococcus_radiodurans_complete.zip    5.18MB 918kB/s\n",
      "\u001b[1A\u001b[2KDownloading: deinococcus_radiodurans_complete.zip    5.18MB 918kB/s\n",
      "\u001b[1A\u001b[2KDownloading: deinococcus_radiodurans_complete.zip    5.21MB 916kB/s\n",
      "\u001b[1A\u001b[2KDownloading: deinococcus_radiodurans_complete.zip    5.21MB 916kB/s\n",
      "\u001b[1A\u001b[2KDownloading: deinococcus_radiodurans_complete.zip    5.24MB 918kB/s\n",
      "\u001b[1A\u001b[2KDownloading: deinococcus_radiodurans_complete.zip    5.28MB 922kB/s\n",
      "\u001b[1A\u001b[2KDownloading: deinococcus_radiodurans_complete.zip    5.28MB 922kB/s\n",
      "\u001b[1A\u001b[2KDownloading: deinococcus_radiodurans_complete.zip    5.28MB 922kB/s\n",
      "\u001b[1A\u001b[2KDownloading: deinococcus_radiodurans_complete.zip    5.28MB 922kB/s\n",
      "\u001b[1A\u001b[2KDownloading: deinococcus_radiodurans_complete.zip    5.28MB 922kB/s\n",
      "\u001b[1A\u001b[2KDownloading: deinococcus_radiodurans_complete.zip    5.28MB 922kB/s\n",
      "\u001b[1A\u001b[2KDownloading: deinococcus_radiodurans_complete.zip    5.28MB 922kB/s\n",
      "\u001b[1A\u001b[2KDownloading: deinococcus_radiodurans_complete.zip    5.31MB 916kB/s\n"
     ]
    },
    {
     "name": "stdout",
     "output_type": "stream",
     "text": [
      "\u001b[1A\u001b[2KDownloading: deinococcus_radiodurans_complete.zip    5.34MB 920kB/s\n",
      "\u001b[1A\u001b[2KDownloading: deinococcus_radiodurans_complete.zip    5.34MB 920kB/s\n",
      "\u001b[1A\u001b[2KDownloading: deinococcus_radiodurans_complete.zip    5.34MB 920kB/s\n",
      "\u001b[1A\u001b[2KDownloading: deinococcus_radiodurans_complete.zip    5.37MB 921kB/s\n",
      "\u001b[1A\u001b[2KDownloading: deinococcus_radiodurans_complete.zip    5.37MB 921kB/s\n",
      "\u001b[1A\u001b[2KDownloading: deinococcus_radiodurans_complete.zip    5.37MB 921kB/s\n",
      "\u001b[1A\u001b[2KDownloading: deinococcus_radiodurans_complete.zip    5.37MB 921kB/s\n",
      "\u001b[1A\u001b[2KDownloading: deinococcus_radiodurans_complete.zip    5.37MB 921kB/s\n",
      "\u001b[1A\u001b[2KDownloading: deinococcus_radiodurans_complete.zip    5.41MB 918kB/s\n",
      "\u001b[1A\u001b[2KDownloading: deinococcus_radiodurans_complete.zip    5.41MB 918kB/s\n",
      "\u001b[1A\u001b[2KDownloading: deinococcus_radiodurans_complete.zip    5.41MB 918kB/s\n",
      "\u001b[1A\u001b[2KDownloading: deinococcus_radiodurans_complete.zip    5.41MB 918kB/s\n",
      "\u001b[1A\u001b[2KDownloading: deinococcus_radiodurans_complete.zip    5.41MB 918kB/s\n",
      "\u001b[1A\u001b[2KDownloading: deinococcus_radiodurans_complete.zip    5.44MB 915kB/s\n",
      "\u001b[1A\u001b[2KDownloading: deinococcus_radiodurans_complete.zip    5.44MB 915kB/s\n",
      "\u001b[1A\u001b[2KDownloading: deinococcus_radiodurans_complete.zip    5.47MB 917kB/s\n",
      "\u001b[1A\u001b[2KDownloading: deinococcus_radiodurans_complete.zip    5.47MB 917kB/s\n",
      "\u001b[1A\u001b[2KDownloading: deinococcus_radiodurans_complete.zip    5.51MB 920kB/s\n",
      "\u001b[1A\u001b[2KDownloading: deinococcus_radiodurans_complete.zip    5.51MB 920kB/s\n",
      "\u001b[1A\u001b[2KDownloading: deinococcus_radiodurans_complete.zip    5.51MB 920kB/s\n"
     ]
    },
    {
     "name": "stdout",
     "output_type": "stream",
     "text": [
      "\u001b[1A\u001b[2KDownloading: deinococcus_radiodurans_complete.zip    5.51MB 920kB/s\n",
      "\u001b[1A\u001b[2KDownloading: deinococcus_radiodurans_complete.zip    5.51MB 920kB/s\n",
      "\u001b[1A\u001b[2KDownloading: deinococcus_radiodurans_complete.zip    5.51MB 920kB/s\n",
      "\u001b[1A\u001b[2KDownloading: deinococcus_radiodurans_complete.zip    5.51MB 920kB/s\n",
      "\u001b[1A\u001b[2KDownloading: deinococcus_radiodurans_complete.zip    5.54MB 915kB/s\n",
      "\u001b[1A\u001b[2KDownloading: deinococcus_radiodurans_complete.zip    5.54MB 915kB/s\n",
      "\u001b[1A\u001b[2KDownloading: deinococcus_radiodurans_complete.zip    5.54MB 915kB/s\n",
      "\u001b[1A\u001b[2KDownloading: deinococcus_radiodurans_complete.zip    5.57MB 916kB/s\n",
      "\u001b[1A\u001b[2KDownloading: deinococcus_radiodurans_complete.zip    5.6MB 918kB/s\n",
      "\u001b[1A\u001b[2KDownloading: deinococcus_radiodurans_complete.zip    5.6MB 918kB/s\n",
      "\u001b[1A\u001b[2KDownloading: deinococcus_radiodurans_complete.zip    5.6MB 918kB/s\n",
      "\u001b[1A\u001b[2KDownloading: deinococcus_radiodurans_complete.zip    5.64MB 919kB/s\n",
      "\u001b[1A\u001b[2KDownloading: deinococcus_radiodurans_complete.zip    5.64MB 919kB/s\n",
      "\u001b[1A\u001b[2KDownloading: deinococcus_radiodurans_complete.zip    5.64MB 919kB/s\n",
      "\u001b[1A\u001b[2KDownloading: deinococcus_radiodurans_complete.zip    5.64MB 919kB/s\n",
      "\u001b[1A\u001b[2KDownloading: deinococcus_radiodurans_complete.zip    5.67MB 918kB/s\n",
      "\u001b[1A\u001b[2KDownloading: deinococcus_radiodurans_complete.zip    5.67MB 918kB/s\n",
      "\u001b[1A\u001b[2KDownloading: deinococcus_radiodurans_complete.zip    5.7MB 920kB/s\n",
      "\u001b[1A\u001b[2KDownloading: deinococcus_radiodurans_complete.zip    5.73MB 924kB/s\n",
      "\u001b[1A\u001b[2KDownloading: deinococcus_radiodurans_complete.zip    5.73MB 924kB/s\n"
     ]
    },
    {
     "name": "stdout",
     "output_type": "stream",
     "text": [
      "\u001b[1A\u001b[2KDownloading: deinococcus_radiodurans_complete.zip    5.73MB 924kB/s\n",
      "\u001b[1A\u001b[2KDownloading: deinococcus_radiodurans_complete.zip    5.73MB 924kB/s\n",
      "\u001b[1A\u001b[2KDownloading: deinococcus_radiodurans_complete.zip    5.77MB 923kB/s\n",
      "\u001b[1A\u001b[2KDownloading: deinococcus_radiodurans_complete.zip    5.77MB 923kB/s\n",
      "\u001b[1A\u001b[2KDownloading: deinococcus_radiodurans_complete.zip    5.77MB 923kB/s\n",
      "\u001b[1A\u001b[2KDownloading: deinococcus_radiodurans_complete.zip    5.77MB 923kB/s\n",
      "\u001b[1A\u001b[2KDownloading: deinococcus_radiodurans_complete.zip    5.77MB 923kB/s\n",
      "\u001b[1A\u001b[2KDownloading: deinococcus_radiodurans_complete.zip    5.77MB 923kB/s\n",
      "\u001b[1A\u001b[2KDownloading: deinococcus_radiodurans_complete.zip    5.8MB 920kB/s\n",
      "\u001b[1A\u001b[2KDownloading: deinococcus_radiodurans_complete.zip    5.8MB 920kB/s\n",
      "\u001b[1A\u001b[2KDownloading: deinococcus_radiodurans_complete.zip    5.83MB 922kB/s\n",
      "\u001b[1A\u001b[2KDownloading: deinococcus_radiodurans_complete.zip    5.83MB 922kB/s\n",
      "\u001b[1A\u001b[2KDownloading: deinococcus_radiodurans_complete.zip    5.87MB 923kB/s\n",
      "\u001b[1A\u001b[2KDownloading: deinococcus_radiodurans_complete.zip    5.87MB 923kB/s\n",
      "\u001b[1A\u001b[2KDownloading: deinococcus_radiodurans_complete.zip    5.87MB 923kB/s\n",
      "\u001b[1A\u001b[2KDownloading: deinococcus_radiodurans_complete.zip    5.87MB 923kB/s\n",
      "\u001b[1A\u001b[2KDownloading: deinococcus_radiodurans_complete.zip    5.87MB 923kB/s\n",
      "\u001b[1A\u001b[2KDownloading: deinococcus_radiodurans_complete.zip    5.9MB 921kB/s\n",
      "\u001b[1A\u001b[2KDownloading: deinococcus_radiodurans_complete.zip    5.9MB 921kB/s\n"
     ]
    },
    {
     "name": "stdout",
     "output_type": "stream",
     "text": [
      "\u001b[1A\u001b[2KDownloading: deinococcus_radiodurans_complete.zip    5.93MB 923kB/s\n",
      "\u001b[1A\u001b[2KDownloading: deinococcus_radiodurans_complete.zip    5.93MB 923kB/s\n",
      "\u001b[1A\u001b[2KDownloading: deinococcus_radiodurans_complete.zip    5.96MB 926kB/s\n",
      "\u001b[1A\u001b[2KDownloading: deinococcus_radiodurans_complete.zip    5.96MB 926kB/s\n",
      "\u001b[1A\u001b[2KDownloading: deinococcus_radiodurans_complete.zip    5.96MB 926kB/s\n",
      "\u001b[1A\u001b[2KDownloading: deinococcus_radiodurans_complete.zip    5.96MB 926kB/s\n",
      "\u001b[1A\u001b[2KDownloading: deinococcus_radiodurans_complete.zip    6MB 925kB/s\n",
      "\u001b[1A\u001b[2KDownloading: deinococcus_radiodurans_complete.zip    6MB 925kB/s\n",
      "\u001b[1A\u001b[2KDownloading: deinococcus_radiodurans_complete.zip    6.03MB 926kB/s\n",
      "\u001b[1A\u001b[2KDownloading: deinococcus_radiodurans_complete.zip    6.06MB 930kB/s\n",
      "\u001b[1A\u001b[2KDownloading: deinococcus_radiodurans_complete.zip    6.06MB 930kB/s\n",
      "\u001b[1A\u001b[2KDownloading: deinococcus_radiodurans_complete.zip    6.06MB 930kB/s\n",
      "\u001b[1A\u001b[2KDownloading: deinococcus_radiodurans_complete.zip    6.06MB 930kB/s\n",
      "\u001b[1A\u001b[2KDownloading: deinococcus_radiodurans_complete.zip    6.06MB 930kB/s\n",
      "\u001b[1A\u001b[2KDownloading: deinococcus_radiodurans_complete.zip    6.09MB 927kB/s\n",
      "\u001b[1A\u001b[2KDownloading: deinococcus_radiodurans_complete.zip    6.09MB 927kB/s\n",
      "\u001b[1A\u001b[2KDownloading: deinococcus_radiodurans_complete.zip    6.09MB 927kB/s\n",
      "\u001b[1A\u001b[2KDownloading: deinococcus_radiodurans_complete.zip    6.09MB 927kB/s\n",
      "\u001b[1A\u001b[2KDownloading: deinococcus_radiodurans_complete.zip    6.13MB 927kB/s\n",
      "\u001b[1A\u001b[2KDownloading: deinococcus_radiodurans_complete.zip    6.13MB 927kB/s\n"
     ]
    },
    {
     "name": "stdout",
     "output_type": "stream",
     "text": [
      "\u001b[1A\u001b[2KDownloading: deinococcus_radiodurans_complete.zip    6.16MB 928kB/s\n",
      "\u001b[1A\u001b[2KDownloading: deinococcus_radiodurans_complete.zip    6.16MB 928kB/s\n",
      "\u001b[1A\u001b[2KDownloading: deinococcus_radiodurans_complete.zip    6.16MB 928kB/s\n",
      "\u001b[1A\u001b[2KDownloading: deinococcus_radiodurans_complete.zip    6.19MB 929kB/s\n",
      "\u001b[1A\u001b[2KDownloading: deinococcus_radiodurans_complete.zip    6.19MB 929kB/s\n",
      "\u001b[1A\u001b[2KDownloading: deinococcus_radiodurans_complete.zip    6.19MB 929kB/s\n",
      "\u001b[1A\u001b[2KDownloading: deinococcus_radiodurans_complete.zip    6.19MB 929kB/s\n",
      "\u001b[1A\u001b[2KDownloading: deinococcus_radiodurans_complete.zip    6.19MB 929kB/s\n",
      "\u001b[1A\u001b[2KDownloading: deinococcus_radiodurans_complete.zip    6.19MB 929kB/s\n",
      "\u001b[1A\u001b[2KDownloading: deinococcus_radiodurans_complete.zip    6.23MB 924kB/s\n",
      "\u001b[1A\u001b[2KDownloading: deinococcus_radiodurans_complete.zip    6.23MB 924kB/s\n",
      "\u001b[1A\u001b[2KDownloading: deinococcus_radiodurans_complete.zip    6.23MB 924kB/s\n",
      "\u001b[1A\u001b[2KDownloading: deinococcus_radiodurans_complete.zip    6.23MB 924kB/s\n",
      "\u001b[1A\u001b[2KDownloading: deinococcus_radiodurans_complete.zip    6.26MB 924kB/s\n",
      "\u001b[1A\u001b[2KDownloading: deinococcus_radiodurans_complete.zip    6.29MB 927kB/s\n",
      "\u001b[1A\u001b[2KDownloading: deinococcus_radiodurans_complete.zip    6.29MB 927kB/s\n",
      "\u001b[1A\u001b[2KDownloading: deinococcus_radiodurans_complete.zip    6.29MB 927kB/s\n",
      "\u001b[1A\u001b[2KDownloading: deinococcus_radiodurans_complete.zip    6.32MB 928kB/s\n",
      "\u001b[1A\u001b[2KDownloading: deinococcus_radiodurans_complete.zip    6.32MB 928kB/s\n",
      "\u001b[1A\u001b[2KDownloading: deinococcus_radiodurans_complete.zip    6.32MB 928kB/s\n"
     ]
    },
    {
     "name": "stdout",
     "output_type": "stream",
     "text": [
      "\u001b[1A\u001b[2KDownloading: deinococcus_radiodurans_complete.zip    6.36MB 928kB/s\n",
      "\u001b[1A\u001b[2KDownloading: deinococcus_radiodurans_complete.zip    6.36MB 928kB/s\n",
      "\u001b[1A\u001b[2KDownloading: deinococcus_radiodurans_complete.zip    6.39MB 930kB/s\n",
      "\u001b[1A\u001b[2KDownloading: deinococcus_radiodurans_complete.zip    6.39MB 930kB/s\n",
      "\u001b[1A\u001b[2KDownloading: deinococcus_radiodurans_complete.zip    6.42MB 932kB/s\n",
      "\u001b[1A\u001b[2KDownloading: deinococcus_radiodurans_complete.zip    6.42MB 932kB/s\n",
      "\u001b[1A\u001b[2KDownloading: deinococcus_radiodurans_complete.zip    6.42MB 932kB/s\n",
      "\u001b[1A\u001b[2KDownloading: deinococcus_radiodurans_complete.zip    6.42MB 932kB/s\n",
      "\u001b[1A\u001b[2KDownloading: deinococcus_radiodurans_complete.zip    6.42MB 932kB/s\n",
      "\u001b[1A\u001b[2KDownloading: deinococcus_radiodurans_complete.zip    6.42MB 932kB/s\n",
      "\u001b[1A\u001b[2KDownloading: deinococcus_radiodurans_complete.zip    6.42MB 932kB/s\n",
      "\u001b[1A\u001b[2KDownloading: deinococcus_radiodurans_complete.zip    6.46MB 927kB/s\n",
      "\u001b[1A\u001b[2KDownloading: deinococcus_radiodurans_complete.zip    6.46MB 927kB/s\n",
      "\u001b[1A\u001b[2KDownloading: deinococcus_radiodurans_complete.zip    6.46MB 927kB/s\n",
      "\u001b[1A\u001b[2KDownloading: deinococcus_radiodurans_complete.zip    6.46MB 927kB/s\n",
      "\u001b[1A\u001b[2KDownloading: deinococcus_radiodurans_complete.zip    6.49MB 926kB/s\n",
      "\u001b[1A\u001b[2KDownloading: deinococcus_radiodurans_complete.zip    6.52MB 929kB/s\n",
      "\u001b[1A\u001b[2KDownloading: deinococcus_radiodurans_complete.zip    6.52MB 929kB/s\n",
      "\u001b[1A\u001b[2KDownloading: deinococcus_radiodurans_complete.zip    6.52MB 929kB/s\n",
      "\u001b[1A\u001b[2KDownloading: deinococcus_radiodurans_complete.zip    6.55MB 930kB/s\n"
     ]
    },
    {
     "name": "stdout",
     "output_type": "stream",
     "text": [
      "\u001b[1A\u001b[2KDownloading: deinococcus_radiodurans_complete.zip    6.55MB 930kB/s\n",
      "\u001b[1A\u001b[2KDownloading: deinococcus_radiodurans_complete.zip    6.55MB 930kB/s\n",
      "\u001b[1A\u001b[2KDownloading: deinococcus_radiodurans_complete.zip    6.55MB 930kB/s\n",
      "\u001b[1A\u001b[2KDownloading: deinococcus_radiodurans_complete.zip    6.55MB 930kB/s\n",
      "\u001b[1A\u001b[2KDownloading: deinococcus_radiodurans_complete.zip    6.59MB 928kB/s\n",
      "\u001b[1A\u001b[2KDownloading: deinococcus_radiodurans_complete.zip    6.59MB 928kB/s\n",
      "\u001b[1A\u001b[2KDownloading: deinococcus_radiodurans_complete.zip    6.59MB 928kB/s\n",
      "\u001b[1A\u001b[2KDownloading: deinococcus_radiodurans_complete.zip    6.59MB 928kB/s\n",
      "\u001b[1A\u001b[2KDownloading: deinococcus_radiodurans_complete.zip    6.59MB 928kB/s\n",
      "\u001b[1A\u001b[2KDownloading: deinococcus_radiodurans_complete.zip    6.62MB 925kB/s\n",
      "\u001b[1A\u001b[2KDownloading: deinococcus_radiodurans_complete.zip    6.62MB 925kB/s\n",
      "\u001b[1A\u001b[2KDownloading: deinococcus_radiodurans_complete.zip    6.62MB 925kB/s\n",
      "\u001b[1A\u001b[2KDownloading: deinococcus_radiodurans_complete.zip    6.62MB 925kB/s\n",
      "\u001b[1A\u001b[2KDownloading: deinococcus_radiodurans_complete.zip    6.62MB 925kB/s\n",
      "\u001b[1A\u001b[2KDownloading: deinococcus_radiodurans_complete.zip    6.65MB 924kB/s\n",
      "\u001b[1A\u001b[2KDownloading: deinococcus_radiodurans_complete.zip    6.65MB 924kB/s\n",
      "\u001b[1A\u001b[2KDownloading: deinococcus_radiodurans_complete.zip    6.65MB 924kB/s\n",
      "\u001b[1A\u001b[2KDownloading: deinococcus_radiodurans_complete.zip    6.65MB 924kB/s\n",
      "\u001b[1A\u001b[2KDownloading: deinococcus_radiodurans_complete.zip    6.65MB 924kB/s\n",
      "\u001b[1A\u001b[2KDownloading: deinococcus_radiodurans_complete.zip    6.68MB 921kB/s\n"
     ]
    },
    {
     "name": "stdout",
     "output_type": "stream",
     "text": [
      "\u001b[1A\u001b[2KDownloading: deinococcus_radiodurans_complete.zip    6.68MB 921kB/s\n",
      "\u001b[1A\u001b[2KDownloading: deinococcus_radiodurans_complete.zip    6.72MB 924kB/s\n",
      "\u001b[1A\u001b[2KDownloading: deinococcus_radiodurans_complete.zip    6.75MB 926kB/s\n",
      "\u001b[1A\u001b[2KDownloading: deinococcus_radiodurans_complete.zip    6.75MB 926kB/s\n",
      "\u001b[1A\u001b[2KDownloading: deinococcus_radiodurans_complete.zip    6.75MB 926kB/s\n",
      "\u001b[1A\u001b[2KDownloading: deinococcus_radiodurans_complete.zip    6.75MB 926kB/s\n",
      "\u001b[1A\u001b[2KDownloading: deinococcus_radiodurans_complete.zip    6.75MB 926kB/s\n",
      "\u001b[1A\u001b[2KDownloading: deinococcus_radiodurans_complete.zip    6.75MB 926kB/s\n",
      "\u001b[1A\u001b[2KDownloading: deinococcus_radiodurans_complete.zip    6.78MB 923kB/s\n",
      "\u001b[1A\u001b[2KDownloading: deinococcus_radiodurans_complete.zip    6.78MB 923kB/s\n",
      "\u001b[1A\u001b[2KDownloading: deinococcus_radiodurans_complete.zip    6.78MB 923kB/s\n",
      "\u001b[1A\u001b[2KDownloading: deinococcus_radiodurans_complete.zip    6.78MB 923kB/s\n",
      "\u001b[1A\u001b[2KDownloading: deinococcus_radiodurans_complete.zip    6.78MB 923kB/s\n",
      "\u001b[1A\u001b[2KDownloading: deinococcus_radiodurans_complete.zip    6.82MB 921kB/s\n",
      "\u001b[1A\u001b[2KDownloading: deinococcus_radiodurans_complete.zip    6.82MB 921kB/s\n",
      "\u001b[1A\u001b[2KDownloading: deinococcus_radiodurans_complete.zip    6.82MB 921kB/s\n",
      "\u001b[1A\u001b[2KDownloading: deinococcus_radiodurans_complete.zip    6.82MB 921kB/s\n",
      "\u001b[1A\u001b[2KDownloading: deinococcus_radiodurans_complete.zip    6.82MB 921kB/s\n",
      "\u001b[1A\u001b[2KDownloading: deinococcus_radiodurans_complete.zip    6.85MB 918kB/s\n",
      "\u001b[1A\u001b[2KDownloading: deinococcus_radiodurans_complete.zip    6.85MB 918kB/s\n"
     ]
    },
    {
     "name": "stdout",
     "output_type": "stream",
     "text": [
      "\u001b[1A\u001b[2KDownloading: deinococcus_radiodurans_complete.zip    6.85MB 918kB/s\n",
      "\u001b[1A\u001b[2KDownloading: deinococcus_radiodurans_complete.zip    6.85MB 918kB/s\n",
      "\u001b[1A\u001b[2KDownloading: deinococcus_radiodurans_complete.zip    6.88MB 917kB/s\n",
      "\u001b[1A\u001b[2KDownloading: deinococcus_radiodurans_complete.zip    6.88MB 917kB/s\n",
      "\u001b[1A\u001b[2KDownloading: deinococcus_radiodurans_complete.zip    6.88MB 917kB/s\n",
      "\u001b[1A\u001b[2KDownloading: deinococcus_radiodurans_complete.zip    6.88MB 917kB/s\n",
      "\u001b[1A\u001b[2KDownloading: deinococcus_radiodurans_complete.zip    6.88MB 917kB/s\n",
      "\u001b[1A\u001b[2KDownloading: deinococcus_radiodurans_complete.zip    6.91MB 916kB/s\n",
      "\u001b[1A\u001b[2KDownloading: deinococcus_radiodurans_complete.zip    6.91MB 916kB/s\n",
      "\u001b[1A\u001b[2KDownloading: deinococcus_radiodurans_complete.zip    6.95MB 918kB/s\n",
      "\u001b[1A\u001b[2KDownloading: deinococcus_radiodurans_complete.zip    6.98MB 920kB/s\n",
      "\u001b[1A\u001b[2KDownloading: deinococcus_radiodurans_complete.zip    6.98MB 920kB/s\n",
      "\u001b[1A\u001b[2KDownloading: deinococcus_radiodurans_complete.zip    6.98MB 920kB/s\n",
      "\u001b[1A\u001b[2KDownloading: deinococcus_radiodurans_complete.zip    7.01MB 921kB/s\n",
      "\u001b[1A\u001b[2KDownloading: deinococcus_radiodurans_complete.zip    7.01MB 921kB/s\n",
      "\u001b[1A\u001b[2KDownloading: deinococcus_radiodurans_complete.zip    7.01MB 921kB/s\n",
      "\u001b[1A\u001b[2KDownloading: deinococcus_radiodurans_complete.zip    7.01MB 921kB/s\n",
      "\u001b[1A\u001b[2KDownloading: deinococcus_radiodurans_complete.zip    7.05MB 921kB/s\n",
      "\u001b[1A\u001b[2KDownloading: deinococcus_radiodurans_complete.zip    7.05MB 921kB/s\n",
      "\u001b[1A\u001b[2KDownloading: deinococcus_radiodurans_complete.zip    7.05MB 921kB/s\n"
     ]
    },
    {
     "name": "stdout",
     "output_type": "stream",
     "text": [
      "\u001b[1A\u001b[2KDownloading: deinococcus_radiodurans_complete.zip    7.05MB 921kB/s\n",
      "\u001b[1A\u001b[2KDownloading: deinococcus_radiodurans_complete.zip    7.08MB 920kB/s\n",
      "\u001b[1A\u001b[2KDownloading: deinococcus_radiodurans_complete.zip    7.08MB 920kB/s\n",
      "\u001b[1A\u001b[2KDownloading: deinococcus_radiodurans_complete.zip    7.08MB 920kB/s\n",
      "\u001b[1A\u001b[2KDownloading: deinococcus_radiodurans_complete.zip    7.11MB 920kB/s\n",
      "\u001b[1A\u001b[2KDownloading: deinococcus_radiodurans_complete.zip    7.11MB 920kB/s\n",
      "\u001b[1A\u001b[2KDownloading: deinococcus_radiodurans_complete.zip    7.11MB 920kB/s\n",
      "\u001b[1A\u001b[2KDownloading: deinococcus_radiodurans_complete.zip    7.11MB 920kB/s\n",
      "\u001b[1A\u001b[2KDownloading: deinococcus_radiodurans_complete.zip    7.14MB 920kB/s\n",
      "\u001b[1A\u001b[2KDownloading: deinococcus_radiodurans_complete.zip    7.14MB 920kB/s\n",
      "\u001b[1A\u001b[2KDownloading: deinococcus_radiodurans_complete.zip    7.14MB 920kB/s\n",
      "\u001b[1A\u001b[2KDownloading: deinococcus_radiodurans_complete.zip    7.14MB 920kB/s\n",
      "\u001b[1A\u001b[2KDownloading: deinococcus_radiodurans_complete.zip    7.14MB 920kB/s\n",
      "\u001b[1A\u001b[2KDownloading: deinococcus_radiodurans_complete.zip    7.14MB 920kB/s\n",
      "\u001b[1A\u001b[2KDownloading: deinococcus_radiodurans_complete.zip    7.18MB 917kB/s\n",
      "\u001b[1A\u001b[2KDownloading: deinococcus_radiodurans_complete.zip    7.21MB 919kB/s\n",
      "\u001b[1A\u001b[2KDownloading: deinococcus_radiodurans_complete.zip    7.24MB 922kB/s\n",
      "\u001b[1A\u001b[2KDownloading: deinococcus_radiodurans_complete.zip    7.24MB 922kB/s\n",
      "\u001b[1A\u001b[2KDownloading: deinococcus_radiodurans_complete.zip    7.24MB 922kB/s\n"
     ]
    },
    {
     "name": "stdout",
     "output_type": "stream",
     "text": [
      "\u001b[1A\u001b[2KDownloading: deinococcus_radiodurans_complete.zip    7.27MB 922kB/s\n",
      "\u001b[1A\u001b[2KDownloading: deinococcus_radiodurans_complete.zip    7.27MB 922kB/s\n",
      "\u001b[1A\u001b[2KDownloading: deinococcus_radiodurans_complete.zip    7.27MB 922kB/s\n",
      "\u001b[1A\u001b[2KDownloading: deinococcus_radiodurans_complete.zip    7.27MB 922kB/s\n",
      "\u001b[1A\u001b[2KDownloading: deinococcus_radiodurans_complete.zip    7.31MB 921kB/s\n",
      "\u001b[1A\u001b[2KDownloading: deinococcus_radiodurans_complete.zip    7.31MB 921kB/s\n",
      "\u001b[1A\u001b[2KDownloading: deinococcus_radiodurans_complete.zip    7.31MB 921kB/s\n",
      "\u001b[1A\u001b[2KDownloading: deinococcus_radiodurans_complete.zip    7.31MB 921kB/s\n",
      "\u001b[1A\u001b[2KDownloading: deinococcus_radiodurans_complete.zip    7.34MB 921kB/s\n",
      "\u001b[1A\u001b[2KDownloading: deinococcus_radiodurans_complete.zip    7.34MB 921kB/s\n",
      "\u001b[1A\u001b[2KDownloading: deinococcus_radiodurans_complete.zip    7.34MB 921kB/s\n",
      "\u001b[1A\u001b[2KDownloading: deinococcus_radiodurans_complete.zip    7.34MB 921kB/s\n",
      "\u001b[1A\u001b[2KDownloading: deinococcus_radiodurans_complete.zip    7.37MB 919kB/s\n",
      "\u001b[1A\u001b[2KDownloading: deinococcus_radiodurans_complete.zip    7.37MB 919kB/s\n",
      "\u001b[1A\u001b[2KDownloading: deinococcus_radiodurans_complete.zip    7.37MB 919kB/s\n",
      "\u001b[1A\u001b[2KDownloading: deinococcus_radiodurans_complete.zip    7.37MB 919kB/s\n",
      "\u001b[1A\u001b[2KDownloading: deinococcus_radiodurans_complete.zip    7.37MB 919kB/s\n",
      "\u001b[1A\u001b[2KDownloading: deinococcus_radiodurans_complete.zip    7.37MB 919kB/s\n",
      "\u001b[1A\u001b[2KDownloading: deinococcus_radiodurans_complete.zip    7.41MB 917kB/s\n"
     ]
    },
    {
     "name": "stdout",
     "output_type": "stream",
     "text": [
      "\u001b[1A\u001b[2KDownloading: deinococcus_radiodurans_complete.zip    7.41MB 917kB/s\n",
      "\u001b[1A\u001b[2KDownloading: deinococcus_radiodurans_complete.zip    7.44MB 918kB/s\n",
      "\u001b[1A\u001b[2KDownloading: deinococcus_radiodurans_complete.zip    7.47MB 921kB/s\n",
      "\u001b[1A\u001b[2KDownloading: deinococcus_radiodurans_complete.zip    7.47MB 921kB/s\n",
      "\u001b[1A\u001b[2KDownloading: deinococcus_radiodurans_complete.zip    7.5MB 923kB/s\n",
      "\u001b[1A\u001b[2KDownloading: deinococcus_radiodurans_complete.zip    7.54MB 926kB/s\n",
      "\u001b[1A\u001b[2KDownloading: deinococcus_radiodurans_complete.zip    7.54MB 926kB/s\n",
      "\u001b[1A\u001b[2KDownloading: deinococcus_radiodurans_complete.zip    7.54MB 926kB/s\n",
      "\u001b[1A\u001b[2KDownloading: deinococcus_radiodurans_complete.zip    7.54MB 926kB/s\n",
      "\u001b[1A\u001b[2KDownloading: deinococcus_radiodurans_complete.zip    7.54MB 926kB/s\n",
      "\u001b[1A\u001b[2KDownloading: deinococcus_radiodurans_complete.zip    7.54MB 926kB/s\n",
      "\u001b[1A\u001b[2KDownloading: deinococcus_radiodurans_complete.zip    7.54MB 926kB/s\n",
      "\u001b[1A\u001b[2KDownloading: deinococcus_radiodurans_complete.zip    7.57MB 921kB/s\n",
      "\u001b[1A\u001b[2KDownloading: deinococcus_radiodurans_complete.zip    7.57MB 921kB/s\n",
      "\u001b[1A\u001b[2KDownloading: deinococcus_radiodurans_complete.zip    7.57MB 921kB/s\n",
      "\u001b[1A\u001b[2KDownloading: deinococcus_radiodurans_complete.zip    7.6MB 922kB/s\n",
      "\u001b[1A\u001b[2KDownloading: deinococcus_radiodurans_complete.zip    7.6MB 922kB/s\n",
      "\u001b[1A\u001b[2KDownloading: deinococcus_radiodurans_complete.zip    7.6MB 922kB/s\n",
      "\u001b[1A\u001b[2KDownloading: deinococcus_radiodurans_complete.zip    7.6MB 922kB/s\n",
      "\u001b[1A\u001b[2KDownloading: deinococcus_radiodurans_complete.zip    7.63MB 921kB/s\n"
     ]
    },
    {
     "name": "stdout",
     "output_type": "stream",
     "text": [
      "\u001b[1A\u001b[2KDownloading: deinococcus_radiodurans_complete.zip    7.63MB 921kB/s\n",
      "\u001b[1A\u001b[2KDownloading: deinococcus_radiodurans_complete.zip    7.63MB 921kB/s\n",
      "\u001b[1A\u001b[2KDownloading: deinococcus_radiodurans_complete.zip    7.63MB 921kB/s\n",
      "\u001b[1A\u001b[2KDownloading: deinococcus_radiodurans_complete.zip    7.67MB 920kB/s\n",
      "\u001b[1A\u001b[2KDownloading: deinococcus_radiodurans_complete.zip    7.7MB 923kB/s\n",
      "\u001b[1A\u001b[2KDownloading: deinococcus_radiodurans_complete.zip    7.73MB 926kB/s\n",
      "\u001b[1A\u001b[2KDownloading: deinococcus_radiodurans_complete.zip    7.73MB 926kB/s\n",
      "\u001b[1A\u001b[2KDownloading: deinococcus_radiodurans_complete.zip    7.73MB 926kB/s\n",
      "\u001b[1A\u001b[2KDownloading: deinococcus_radiodurans_complete.zip    7.73MB 926kB/s\n",
      "\u001b[1A\u001b[2KDownloading: deinococcus_radiodurans_complete.zip    7.73MB 926kB/s\n",
      "\u001b[1A\u001b[2KDownloading: deinococcus_radiodurans_complete.zip    7.77MB 924kB/s\n",
      "\u001b[1A\u001b[2KDownloading: deinococcus_radiodurans_complete.zip    7.77MB 924kB/s\n",
      "\u001b[1A\u001b[2KDownloading: deinococcus_radiodurans_complete.zip    7.77MB 924kB/s\n",
      "\u001b[1A\u001b[2KDownloading: deinococcus_radiodurans_complete.zip    7.77MB 924kB/s\n",
      "\u001b[1A\u001b[2KDownloading: deinococcus_radiodurans_complete.zip    7.8MB 923kB/s\n",
      "\u001b[1A\u001b[2KDownloading: deinococcus_radiodurans_complete.zip    7.8MB 923kB/s\n",
      "\u001b[1A\u001b[2KDownloading: deinococcus_radiodurans_complete.zip    7.8MB 923kB/s\n",
      "\u001b[1A\u001b[2KDownloading: deinococcus_radiodurans_complete.zip    7.8MB 923kB/s\n",
      "\u001b[1A\u001b[2KDownloading: deinococcus_radiodurans_complete.zip    7.8MB 923kB/s\n",
      "\u001b[1A\u001b[2KDownloading: deinococcus_radiodurans_complete.zip    7.83MB 921kB/s\n"
     ]
    },
    {
     "name": "stdout",
     "output_type": "stream",
     "text": [
      "\u001b[1A\u001b[2KDownloading: deinococcus_radiodurans_complete.zip    7.83MB 921kB/s\n",
      "\u001b[1A\u001b[2KDownloading: deinococcus_radiodurans_complete.zip    7.86MB 923kB/s\n",
      "\u001b[1A\u001b[2KDownloading: deinococcus_radiodurans_complete.zip    7.86MB 923kB/s\n",
      "\u001b[1A\u001b[2KDownloading: deinococcus_radiodurans_complete.zip    7.86MB 923kB/s\n",
      "\u001b[1A\u001b[2KDownloading: deinococcus_radiodurans_complete.zip    7.86MB 923kB/s\n",
      "\u001b[1A\u001b[2KDownloading: deinococcus_radiodurans_complete.zip    7.86MB 923kB/s\n",
      "\u001b[1A\u001b[2KDownloading: deinococcus_radiodurans_complete.zip    7.86MB 923kB/s\n",
      "\u001b[1A\u001b[2KDownloading: deinococcus_radiodurans_complete.zip    7.86MB 923kB/s\n",
      "\u001b[1A\u001b[2KDownloading: deinococcus_radiodurans_complete.zip    7.9MB 919kB/s\n",
      "\u001b[1A\u001b[2KDownloading: deinococcus_radiodurans_complete.zip    7.93MB 921kB/s\n",
      "\u001b[1A\u001b[2KDownloading: deinococcus_radiodurans_complete.zip    7.93MB 921kB/s\n",
      "\u001b[1A\u001b[2KDownloading: deinococcus_radiodurans_complete.zip    7.96MB 923kB/s\n",
      "\u001b[1A\u001b[2KDownloading: deinococcus_radiodurans_complete.zip    7.96MB 923kB/s\n",
      "\u001b[1A\u001b[2KDownloading: deinococcus_radiodurans_complete.zip    8MB 924kB/s\n",
      "\u001b[1A\u001b[2KDownloading: deinococcus_radiodurans_complete.zip    8MB 924kB/s\n",
      "\u001b[1A\u001b[2KDownloading: deinococcus_radiodurans_complete.zip    8MB 924kB/s\n",
      "\u001b[1A\u001b[2KDownloading: deinococcus_radiodurans_complete.zip    8MB 924kB/s\n",
      "\u001b[1A\u001b[2KDownloading: deinococcus_radiodurans_complete.zip    8.03MB 924kB/s\n",
      "\u001b[1A\u001b[2KDownloading: deinococcus_radiodurans_complete.zip    8.03MB 924kB/s\n",
      "\u001b[1A\u001b[2KDownloading: deinococcus_radiodurans_complete.zip    8.03MB 924kB/s\n"
     ]
    },
    {
     "name": "stdout",
     "output_type": "stream",
     "text": [
      "\u001b[1A\u001b[2KDownloading: deinococcus_radiodurans_complete.zip    8.03MB 924kB/s\n",
      "\u001b[1A\u001b[2KDownloading: deinococcus_radiodurans_complete.zip    8.06MB 923kB/s\n",
      "\u001b[1A\u001b[2KDownloading: deinococcus_radiodurans_complete.zip    8.06MB 923kB/s\n",
      "\u001b[1A\u001b[2KDownloading: deinococcus_radiodurans_complete.zip    8.09MB 925kB/s\n",
      "\u001b[1A\u001b[2KDownloading: deinococcus_radiodurans_complete.zip    8.09MB 925kB/s\n",
      "\u001b[1A\u001b[2KDownloading: deinococcus_radiodurans_complete.zip    8.09MB 925kB/s\n",
      "\u001b[1A\u001b[2KDownloading: deinococcus_radiodurans_complete.zip    8.09MB 925kB/s\n",
      "\u001b[1A\u001b[2KDownloading: deinococcus_radiodurans_complete.zip    8.09MB 925kB/s\n",
      "\u001b[1A\u001b[2KDownloading: deinococcus_radiodurans_complete.zip    8.09MB 925kB/s\n",
      "\u001b[1A\u001b[2KDownloading: deinococcus_radiodurans_complete.zip    8.13MB 922kB/s\n",
      "\u001b[1A\u001b[2KDownloading: deinococcus_radiodurans_complete.zip    8.13MB 922kB/s\n",
      "\u001b[1A\u001b[2KDownloading: deinococcus_radiodurans_complete.zip    8.16MB 923kB/s\n",
      "\u001b[1A\u001b[2KDownloading: deinococcus_radiodurans_complete.zip    8.16MB 923kB/s\n",
      "\u001b[1A\u001b[2KDownloading: deinococcus_radiodurans_complete.zip    8.16MB 923kB/s\n",
      "\u001b[1A\u001b[2KDownloading: deinococcus_radiodurans_complete.zip    8.19MB 924kB/s\n",
      "\u001b[1A\u001b[2KDownloading: deinococcus_radiodurans_complete.zip    8.19MB 924kB/s\n",
      "\u001b[1A\u001b[2KDownloading: deinococcus_radiodurans_complete.zip    8.19MB 924kB/s\n",
      "\u001b[1A\u001b[2KDownloading: deinococcus_radiodurans_complete.zip    8.19MB 924kB/s\n",
      "\u001b[1A\u001b[2KDownloading: deinococcus_radiodurans_complete.zip    8.22MB 924kB/s\n",
      "\u001b[1A\u001b[2KDownloading: deinococcus_radiodurans_complete.zip    8.22MB 924kB/s\n"
     ]
    },
    {
     "name": "stdout",
     "output_type": "stream",
     "text": [
      "\u001b[1A\u001b[2KDownloading: deinococcus_radiodurans_complete.zip    8.26MB 924kB/s\n",
      "\u001b[1A\u001b[2KDownloading: deinococcus_radiodurans_complete.zip    8.26MB 924kB/s\n",
      "\u001b[1A\u001b[2KDownloading: deinococcus_radiodurans_complete.zip    8.26MB 924kB/s\n",
      "\u001b[1A\u001b[2KDownloading: deinococcus_radiodurans_complete.zip    8.26MB 924kB/s\n",
      "\u001b[1A\u001b[2KDownloading: deinococcus_radiodurans_complete.zip    8.26MB 924kB/s\n",
      "\u001b[1A\u001b[2KDownloading: deinococcus_radiodurans_complete.zip    8.29MB 923kB/s\n",
      "\u001b[1A\u001b[2KDownloading: deinococcus_radiodurans_complete.zip    8.32MB 925kB/s\n",
      "\u001b[1A\u001b[2KDownloading: deinococcus_radiodurans_complete.zip    8.32MB 925kB/s\n",
      "\u001b[1A\u001b[2KDownloading: deinococcus_radiodurans_complete.zip    8.32MB 925kB/s\n",
      "\u001b[1A\u001b[2KDownloading: deinococcus_radiodurans_complete.zip    8.32MB 925kB/s\n",
      "\u001b[1A\u001b[2KDownloading: deinococcus_radiodurans_complete.zip    8.36MB 925kB/s\n",
      "\u001b[1A\u001b[2KDownloading: deinococcus_radiodurans_complete.zip    8.36MB 925kB/s\n",
      "\u001b[1A\u001b[2KDownloading: deinococcus_radiodurans_complete.zip    8.36MB 925kB/s\n",
      "\u001b[1A\u001b[2KDownloading: deinococcus_radiodurans_complete.zip    8.39MB 925kB/s\n",
      "\u001b[1A\u001b[2KDownloading: deinococcus_radiodurans_complete.zip    8.39MB 925kB/s\n",
      "\u001b[1A\u001b[2KDownloading: deinococcus_radiodurans_complete.zip    8.39MB 925kB/s\n",
      "\u001b[1A\u001b[2KDownloading: deinococcus_radiodurans_complete.zip    8.39MB 925kB/s\n",
      "\u001b[1A\u001b[2KDownloading: deinococcus_radiodurans_complete.zip    8.39MB 925kB/s\n",
      "\u001b[1A\u001b[2KDownloading: deinococcus_radiodurans_complete.zip    8.42MB 924kB/s\n",
      "\u001b[1A\u001b[2KDownloading: deinococcus_radiodurans_complete.zip    8.42MB 924kB/s\n"
     ]
    },
    {
     "name": "stdout",
     "output_type": "stream",
     "text": [
      "\u001b[1A\u001b[2KDownloading: deinococcus_radiodurans_complete.zip    8.45MB 926kB/s\n",
      "\u001b[1A\u001b[2KDownloading: deinococcus_radiodurans_complete.zip    8.45MB 926kB/s\n",
      "\u001b[1A\u001b[2KDownloading: deinococcus_radiodurans_complete.zip    8.45MB 926kB/s\n",
      "\u001b[1A\u001b[2KDownloading: deinococcus_radiodurans_complete.zip    8.49MB 926kB/s\n",
      "\u001b[1A\u001b[2KDownloading: deinococcus_radiodurans_complete.zip    8.52MB 927kB/s\n",
      "\u001b[1A\u001b[2KDownloading: deinococcus_radiodurans_complete.zip    8.52MB 927kB/s\n",
      "\u001b[1A\u001b[2KDownloading: deinococcus_radiodurans_complete.zip    8.52MB 927kB/s\n",
      "\u001b[1A\u001b[2KDownloading: deinococcus_radiodurans_complete.zip    8.52MB 927kB/s\n",
      "\u001b[1A\u001b[2KDownloading: deinococcus_radiodurans_complete.zip    8.55MB 928kB/s\n",
      "\u001b[1A\u001b[2KDownloading: deinococcus_radiodurans_complete.zip    8.59MB 930kB/s\n",
      "\u001b[1A\u001b[2KDownloading: deinococcus_radiodurans_complete.zip    8.59MB 930kB/s\n",
      "\u001b[1A\u001b[2KDownloading: deinococcus_radiodurans_complete.zip    8.59MB 930kB/s\n",
      "\u001b[1A\u001b[2KDownloading: deinococcus_radiodurans_complete.zip    8.59MB 930kB/s\n",
      "\u001b[1A\u001b[2KDownloading: deinococcus_radiodurans_complete.zip    8.59MB 930kB/s\n",
      "\u001b[1A\u001b[2KDownloading: deinococcus_radiodurans_complete.zip    8.62MB 928kB/s\n",
      "\u001b[1A\u001b[2KDownloading: deinococcus_radiodurans_complete.zip    8.62MB 928kB/s\n",
      "\u001b[1A\u001b[2KDownloading: deinococcus_radiodurans_complete.zip    8.65MB 930kB/s\n",
      "\u001b[1A\u001b[2KDownloading: deinococcus_radiodurans_complete.zip    8.65MB 930kB/s\n",
      "\u001b[1A\u001b[2KDownloading: deinococcus_radiodurans_complete.zip    8.68MB 931kB/s\n",
      "\u001b[1A\u001b[2KDownloading: deinococcus_radiodurans_complete.zip    8.68MB 931kB/s\n"
     ]
    },
    {
     "name": "stdout",
     "output_type": "stream",
     "text": [
      "\u001b[1A\u001b[2KDownloading: deinococcus_radiodurans_complete.zip    8.68MB 931kB/s\n",
      "\u001b[1A\u001b[2KDownloading: deinococcus_radiodurans_complete.zip    8.68MB 931kB/s\n",
      "\u001b[1A\u001b[2KDownloading: deinococcus_radiodurans_complete.zip    8.72MB 930kB/s\n",
      "\u001b[1A\u001b[2KDownloading: deinococcus_radiodurans_complete.zip    8.75MB 933kB/s\n",
      "\u001b[1A\u001b[2KDownloading: deinococcus_radiodurans_complete.zip    8.75MB 933kB/s\n",
      "\u001b[1A\u001b[2KDownloading: deinococcus_radiodurans_complete.zip    8.75MB 933kB/s\n",
      "\u001b[1A\u001b[2KDownloading: deinococcus_radiodurans_complete.zip    8.78MB 933kB/s\n",
      "\u001b[1A\u001b[2KDownloading: deinococcus_radiodurans_complete.zip    8.78MB 933kB/s\n",
      "\u001b[1A\u001b[2KDownloading: deinococcus_radiodurans_complete.zip    8.78MB 933kB/s\n",
      "\u001b[1A\u001b[2KDownloading: deinococcus_radiodurans_complete.zip    8.78MB 933kB/s\n",
      "\u001b[1A\u001b[2KDownloading: deinococcus_radiodurans_complete.zip    8.78MB 933kB/s\n",
      "\u001b[1A\u001b[2KDownloading: deinococcus_radiodurans_complete.zip    8.81MB 931kB/s\n",
      "\u001b[1A\u001b[2KDownloading: deinococcus_radiodurans_complete.zip    8.81MB 931kB/s\n",
      "\u001b[1A\u001b[2KDownloading: deinococcus_radiodurans_complete.zip    8.81MB 931kB/s\n",
      "\u001b[1A\u001b[2KDownloading: deinococcus_radiodurans_complete.zip    8.85MB 932kB/s\n",
      "\u001b[1A\u001b[2KDownloading: deinococcus_radiodurans_complete.zip    8.85MB 932kB/s\n",
      "\u001b[1A\u001b[2KDownloading: deinococcus_radiodurans_complete.zip    8.85MB 932kB/s\n",
      "\u001b[1A\u001b[2KDownloading: deinococcus_radiodurans_complete.zip    8.85MB 932kB/s\n",
      "\u001b[1A\u001b[2KDownloading: deinococcus_radiodurans_complete.zip    8.88MB 932kB/s\n",
      "\u001b[1A\u001b[2KDownloading: deinococcus_radiodurans_complete.zip    8.91MB 933kB/s\n"
     ]
    },
    {
     "name": "stdout",
     "output_type": "stream",
     "text": [
      "\u001b[1A\u001b[2KDownloading: deinococcus_radiodurans_complete.zip    8.91MB 933kB/s\n",
      "\u001b[1A\u001b[2KDownloading: deinococcus_radiodurans_complete.zip    8.95MB 934kB/s\n",
      "\u001b[1A\u001b[2KDownloading: deinococcus_radiodurans_complete.zip    8.95MB 934kB/s\n",
      "\u001b[1A\u001b[2KDownloading: deinococcus_radiodurans_complete.zip    8.95MB 934kB/s\n",
      "\u001b[1A\u001b[2KDownloading: deinococcus_radiodurans_complete.zip    8.98MB 935kB/s\n",
      "\u001b[1A\u001b[2KDownloading: deinococcus_radiodurans_complete.zip    8.98MB 935kB/s\n",
      "\u001b[1A\u001b[2KDownloading: deinococcus_radiodurans_complete.zip    9.01MB 937kB/s\n",
      "\u001b[1A\u001b[2KDownloading: deinococcus_radiodurans_complete.zip    9.01MB 937kB/s\n",
      "\u001b[1A\u001b[2KDownloading: deinococcus_radiodurans_complete.zip    9.01MB 937kB/s\n",
      "\u001b[1A\u001b[2KDownloading: deinococcus_radiodurans_complete.zip    9.01MB 937kB/s\n",
      "\u001b[1A\u001b[2KDownloading: deinococcus_radiodurans_complete.zip    9.01MB 937kB/s\n",
      "\u001b[1A\u001b[2KDownloading: deinococcus_radiodurans_complete.zip    9.01MB 937kB/s\n",
      "\u001b[1A\u001b[2KDownloading: deinococcus_radiodurans_complete.zip    9.04MB 934kB/s\n",
      "\u001b[1A\u001b[2KDownloading: deinococcus_radiodurans_complete.zip    9.04MB 934kB/s\n",
      "\u001b[1A\u001b[2KDownloading: deinococcus_radiodurans_complete.zip    9.04MB 934kB/s\n",
      "\u001b[1A\u001b[2KDownloading: deinococcus_radiodurans_complete.zip    9.08MB 934kB/s\n",
      "\u001b[1A\u001b[2KDownloading: deinococcus_radiodurans_complete.zip    9.08MB 934kB/s\n",
      "\u001b[1A\u001b[2KDownloading: deinococcus_radiodurans_complete.zip    9.08MB 934kB/s\n",
      "\u001b[1A\u001b[2KDownloading: deinococcus_radiodurans_complete.zip    9.11MB 934kB/s\n"
     ]
    },
    {
     "name": "stdout",
     "output_type": "stream",
     "text": [
      "\u001b[1A\u001b[2KDownloading: deinococcus_radiodurans_complete.zip    9.11MB 934kB/s\n",
      "\u001b[1A\u001b[2KDownloading: deinococcus_radiodurans_complete.zip    9.14MB 936kB/s\n",
      "\u001b[1A\u001b[2KDownloading: deinococcus_radiodurans_complete.zip    9.18MB 939kB/s\n",
      "\u001b[1A\u001b[2KDownloading: deinococcus_radiodurans_complete.zip    9.18MB 939kB/s\n",
      "\u001b[1A\u001b[2KDownloading: deinococcus_radiodurans_complete.zip    9.21MB 939kB/s\n",
      "\u001b[1A\u001b[2KDownloading: deinococcus_radiodurans_complete.zip    9.21MB 939kB/s\n",
      "\u001b[1A\u001b[2KDownloading: deinococcus_radiodurans_complete.zip    9.21MB 939kB/s\n",
      "\u001b[1A\u001b[2KDownloading: deinococcus_radiodurans_complete.zip    9.24MB 940kB/s\n",
      "\u001b[1A\u001b[2KDownloading: deinococcus_radiodurans_complete.zip    9.27MB 942kB/s\n",
      "\u001b[1A\u001b[2KDownloading: deinococcus_radiodurans_complete.zip    9.27MB 942kB/s\n",
      "\u001b[1A\u001b[2KDownloading: deinococcus_radiodurans_complete.zip    9.27MB 942kB/s\n",
      "\u001b[1A\u001b[2KDownloading: deinococcus_radiodurans_complete.zip    9.27MB 942kB/s\n",
      "\u001b[1A\u001b[2KDownloading: deinococcus_radiodurans_complete.zip    9.27MB 942kB/s\n",
      "\u001b[1A\u001b[2KDownloading: deinococcus_radiodurans_complete.zip    9.27MB 942kB/s\n",
      "\u001b[1A\u001b[2KDownloading: deinococcus_radiodurans_complete.zip    9.31MB 939kB/s\n",
      "\u001b[1A\u001b[2KDownloading: deinococcus_radiodurans_complete.zip    9.31MB 939kB/s\n",
      "\u001b[1A\u001b[2KDownloading: deinococcus_radiodurans_complete.zip    9.31MB 939kB/s\n",
      "\u001b[1A\u001b[2KDownloading: deinococcus_radiodurans_complete.zip    9.31MB 939kB/s\n",
      "\u001b[1A\u001b[2KDownloading: deinococcus_radiodurans_complete.zip    9.31MB 939kB/s\n",
      "\u001b[1A\u001b[2KDownloading: deinococcus_radiodurans_complete.zip    9.34MB 938kB/s\n"
     ]
    },
    {
     "name": "stdout",
     "output_type": "stream",
     "text": [
      "\u001b[1A\u001b[2KDownloading: deinococcus_radiodurans_complete.zip    9.34MB 938kB/s\n",
      "\u001b[1A\u001b[2KDownloading: deinococcus_radiodurans_complete.zip    9.34MB 938kB/s\n",
      "\u001b[1A\u001b[2KDownloading: deinococcus_radiodurans_complete.zip    9.34MB 938kB/s\n",
      "\u001b[1A\u001b[2KDownloading: deinococcus_radiodurans_complete.zip    9.37MB 937kB/s\n",
      "\u001b[1A\u001b[2KDownloading: deinococcus_radiodurans_complete.zip    9.37MB 937kB/s\n",
      "\u001b[1A\u001b[2KDownloading: deinococcus_radiodurans_complete.zip    9.4MB 938kB/s\n",
      "\u001b[1A\u001b[2KDownloading: deinococcus_radiodurans_complete.zip    9.44MB 940kB/s\n",
      "\u001b[1A\u001b[2KDownloading: deinococcus_radiodurans_complete.zip    9.47MB 943kB/s\n",
      "\u001b[1A\u001b[2KDownloading: deinococcus_radiodurans_complete.zip    9.47MB 943kB/s\n",
      "\u001b[1A\u001b[2KDownloading: deinococcus_radiodurans_complete.zip    9.47MB 943kB/s\n",
      "\u001b[1A\u001b[2KDownloading: deinococcus_radiodurans_complete.zip    9.47MB 943kB/s\n",
      "\u001b[1A\u001b[2KDownloading: deinococcus_radiodurans_complete.zip    9.5MB 943kB/s\n",
      "\u001b[1A\u001b[2KDownloading: deinococcus_radiodurans_complete.zip    9.5MB 943kB/s\n",
      "\u001b[1A\u001b[2KDownloading: deinococcus_radiodurans_complete.zip    9.5MB 943kB/s\n",
      "\u001b[1A\u001b[2KDownloading: deinococcus_radiodurans_complete.zip    9.5MB 943kB/s\n",
      "\u001b[1A\u001b[2KDownloading: deinococcus_radiodurans_complete.zip    9.5MB 943kB/s\n",
      "\u001b[1A\u001b[2KDownloading: deinococcus_radiodurans_complete.zip    9.54MB 941kB/s\n",
      "\u001b[1A\u001b[2KDownloading: deinococcus_radiodurans_complete.zip    9.54MB 941kB/s\n",
      "\u001b[1A\u001b[2KDownloading: deinococcus_radiodurans_complete.zip    9.57MB 942kB/s\n",
      "\u001b[1A\u001b[2KDownloading: deinococcus_radiodurans_complete.zip    9.57MB 942kB/s\n"
     ]
    },
    {
     "name": "stdout",
     "output_type": "stream",
     "text": [
      "\u001b[1A\u001b[2KDownloading: deinococcus_radiodurans_complete.zip    9.57MB 942kB/s\n",
      "\u001b[1A\u001b[2KDownloading: deinococcus_radiodurans_complete.zip    9.6MB 942kB/s\n",
      "\u001b[1A\u001b[2KDownloading: deinococcus_radiodurans_complete.zip    9.63MB 944kB/s\n",
      "\u001b[1A\u001b[2KDownloading: deinococcus_radiodurans_complete.zip    9.63MB 944kB/s\n",
      "\u001b[1A\u001b[2KDownloading: deinococcus_radiodurans_complete.zip    9.63MB 944kB/s\n",
      "\u001b[1A\u001b[2KDownloading: deinococcus_radiodurans_complete.zip    9.7MB 948kB/s\n",
      "\u001b[1A\u001b[2KDownloading: deinococcus_radiodurans_complete.zip    9.7MB 948kB/s\n",
      "\u001b[1A\u001b[2KDownloading: deinococcus_radiodurans_complete.zip    9.7MB 948kB/s\n",
      "\u001b[1A\u001b[2KDownloading: deinococcus_radiodurans_complete.zip    9.7MB 948kB/s\n",
      "\u001b[1A\u001b[2KDownloading: deinococcus_radiodurans_complete.zip    9.73MB 947kB/s\n",
      "\u001b[1A\u001b[2KDownloading: deinococcus_radiodurans_complete.zip    9.73MB 947kB/s\n",
      "\u001b[1A\u001b[2KDownloading: deinococcus_radiodurans_complete.zip    9.73MB 947kB/s\n",
      "\u001b[1A\u001b[2KDownloading: deinococcus_radiodurans_complete.zip    9.73MB 947kB/s\n",
      "\u001b[1A\u001b[2KDownloading: deinococcus_radiodurans_complete.zip    9.76MB 946kB/s\n",
      "\u001b[1A\u001b[2KDownloading: deinococcus_radiodurans_complete.zip    9.76MB 946kB/s\n",
      "\u001b[1A\u001b[2KDownloading: deinococcus_radiodurans_complete.zip    9.76MB 946kB/s\n",
      "\u001b[1A\u001b[2KDownloading: deinococcus_radiodurans_complete.zip    9.76MB 946kB/s\n",
      "\u001b[1A\u001b[2KDownloading: deinococcus_radiodurans_complete.zip    9.76MB 946kB/s\n",
      "\u001b[1A\u001b[2KDownloading: deinococcus_radiodurans_complete.zip    9.76MB 946kB/s\n"
     ]
    },
    {
     "name": "stdout",
     "output_type": "stream",
     "text": [
      "\u001b[1A\u001b[2KDownloading: deinococcus_radiodurans_complete.zip    9.8MB 944kB/s\n",
      "\u001b[1A\u001b[2KDownloading: deinococcus_radiodurans_complete.zip    9.8MB 944kB/s\n",
      "\u001b[1A\u001b[2KDownloading: deinococcus_radiodurans_complete.zip    9.8MB 944kB/s\n",
      "\u001b[1A\u001b[2KDownloading: deinococcus_radiodurans_complete.zip    9.83MB 944kB/s\n",
      "\u001b[1A\u001b[2KDownloading: deinococcus_radiodurans_complete.zip    9.83MB 944kB/s\n",
      "\u001b[1A\u001b[2KDownloading: deinococcus_radiodurans_complete.zip    9.86MB 945kB/s\n",
      "\u001b[1A\u001b[2KDownloading: deinococcus_radiodurans_complete.zip    9.9MB 947kB/s\n",
      "\u001b[1A\u001b[2KDownloading: deinococcus_radiodurans_complete.zip    9.9MB 947kB/s\n",
      "\u001b[1A\u001b[2KDownloading: deinococcus_radiodurans_complete.zip    9.9MB 947kB/s\n",
      "\u001b[1A\u001b[2KDownloading: deinococcus_radiodurans_complete.zip    9.9MB 947kB/s\n",
      "\u001b[1A\u001b[2KDownloading: deinococcus_radiodurans_complete.zip    9.9MB 947kB/s\n",
      "\u001b[1A\u001b[2KDownloading: deinococcus_radiodurans_complete.zip    9.9MB 947kB/s\n",
      "\u001b[1A\u001b[2KDownloading: deinococcus_radiodurans_complete.zip    9.93MB 945kB/s\n",
      "\u001b[1A\u001b[2KDownloading: deinococcus_radiodurans_complete.zip    9.96MB 947kB/s\n",
      "\u001b[1A\u001b[2KDownloading: deinococcus_radiodurans_complete.zip    9.96MB 947kB/s\n",
      "\u001b[1A\u001b[2KDownloading: deinococcus_radiodurans_complete.zip    9.96MB 947kB/s\n",
      "\u001b[1A\u001b[2KDownloading: deinococcus_radiodurans_complete.zip    9.99MB 947kB/s\n",
      "\u001b[1A\u001b[2KDownloading: deinococcus_radiodurans_complete.zip    9.99MB 947kB/s\n",
      "\u001b[1A\u001b[2KDownloading: deinococcus_radiodurans_complete.zip    9.99MB 947kB/s\n",
      "\u001b[1A\u001b[2KDownloading: deinococcus_radiodurans_complete.zip    10MB 948kB/s\n"
     ]
    },
    {
     "name": "stdout",
     "output_type": "stream",
     "text": [
      "\u001b[1A\u001b[2KDownloading: deinococcus_radiodurans_complete.zip    10MB 948kB/s\n",
      "\u001b[1A\u001b[2KDownloading: deinococcus_radiodurans_complete.zip    10MB 948kB/s\n",
      "\u001b[1A\u001b[2KDownloading: deinococcus_radiodurans_complete.zip    10MB 948kB/s\n",
      "\u001b[1A\u001b[2KDownloading: deinococcus_radiodurans_complete.zip    10.1MB 947kB/s\n",
      "\u001b[1A\u001b[2KDownloading: deinococcus_radiodurans_complete.zip    10.1MB 947kB/s\n",
      "\u001b[1A\u001b[2KDownloading: deinococcus_radiodurans_complete.zip    10.1MB 948kB/s\n",
      "\u001b[1A\u001b[2KDownloading: deinococcus_radiodurans_complete.zip    10.1MB 948kB/s\n",
      "\u001b[1A\u001b[2KDownloading: deinococcus_radiodurans_complete.zip    10.1MB 948kB/s\n",
      "\u001b[1A\u001b[2KDownloading: deinococcus_radiodurans_complete.zip    10.1MB 948kB/s\n",
      "\u001b[1A\u001b[2KDownloading: deinococcus_radiodurans_complete.zip    10.1MB 948kB/s\n",
      "\u001b[1A\u001b[2KDownloading: deinococcus_radiodurans_complete.zip    10.1MB 947kB/s\n",
      "\u001b[1A\u001b[2KDownloading: deinococcus_radiodurans_complete.zip    10.1MB 947kB/s\n",
      "\u001b[1A\u001b[2KDownloading: deinococcus_radiodurans_complete.zip    10.2MB 948kB/s\n",
      "\u001b[1A\u001b[2KDownloading: deinococcus_radiodurans_complete.zip    10.2MB 948kB/s\n",
      "\u001b[1A\u001b[2KDownloading: deinococcus_radiodurans_complete.zip    10.2MB 948kB/s\n",
      "\u001b[1A\u001b[2KDownloading: deinococcus_radiodurans_complete.zip    10.2MB 948kB/s\n",
      "\u001b[1A\u001b[2KDownloading: deinococcus_radiodurans_complete.zip    10.2MB 950kB/s\n",
      "\u001b[1A\u001b[2KDownloading: deinococcus_radiodurans_complete.zip    10.2MB 950kB/s\n",
      "\u001b[1A\u001b[2KDownloading: deinococcus_radiodurans_complete.zip    10.3MB 952kB/s\n",
      "\u001b[1A\u001b[2KDownloading: deinococcus_radiodurans_complete.zip    10.3MB 952kB/s\n"
     ]
    },
    {
     "name": "stdout",
     "output_type": "stream",
     "text": [
      "\u001b[1A\u001b[2KDownloading: deinococcus_radiodurans_complete.zip    10.3MB 952kB/s\n",
      "\u001b[1A\u001b[2KDownloading: deinococcus_radiodurans_complete.zip    10.3MB 952kB/s\n",
      "\u001b[1A\u001b[2KDownloading: deinococcus_radiodurans_complete.zip    10.3MB 951kB/s\n",
      "\u001b[1A\u001b[2KDownloading: deinococcus_radiodurans_complete.zip    10.3MB 951kB/s\n",
      "\u001b[1A\u001b[2KDownloading: deinococcus_radiodurans_complete.zip    10.3MB 951kB/s\n",
      "\u001b[1A\u001b[2KDownloading: deinococcus_radiodurans_complete.zip    10.3MB 951kB/s\n",
      "\u001b[1A\u001b[2KDownloading: deinococcus_radiodurans_complete.zip    10.4MB 953kB/s\n",
      "\u001b[1A\u001b[2KDownloading: deinococcus_radiodurans_complete.zip    10.4MB 953kB/s\n",
      "\u001b[1A\u001b[2KDownloading: deinococcus_radiodurans_complete.zip    10.4MB 953kB/s\n",
      "\u001b[1A\u001b[2KDownloading: deinococcus_radiodurans_complete.zip    10.4MB 954kB/s\n",
      "\u001b[1A\u001b[2KDownloading: deinococcus_radiodurans_complete.zip    10.4MB 954kB/s\n",
      "\u001b[1A\u001b[2KDownloading: deinococcus_radiodurans_complete.zip    10.4MB 954kB/s\n",
      "\u001b[1A\u001b[2KDownloading: deinococcus_radiodurans_complete.zip    10.4MB 954kB/s\n",
      "\u001b[1A\u001b[2KDownloading: deinococcus_radiodurans_complete.zip    10.5MB 955kB/s\n",
      "\u001b[1A\u001b[2KDownloading: deinococcus_radiodurans_complete.zip    10.5MB 955kB/s\n",
      "\u001b[1A\u001b[2KDownloading: deinococcus_radiodurans_complete.zip    10.5MB 955kB/s\n",
      "\u001b[1A\u001b[2KDownloading: deinococcus_radiodurans_complete.zip    10.5MB 955kB/s\n",
      "\u001b[1A\u001b[2KDownloading: deinococcus_radiodurans_complete.zip    10.5MB 954kB/s\n",
      "\u001b[1A\u001b[2KDownloading: deinococcus_radiodurans_complete.zip    10.5MB 954kB/s\n",
      "\u001b[1A\u001b[2KDownloading: deinococcus_radiodurans_complete.zip    10.5MB 956kB/s\n"
     ]
    },
    {
     "name": "stdout",
     "output_type": "stream",
     "text": [
      "\u001b[1A\u001b[2KDownloading: deinococcus_radiodurans_complete.zip    10.5MB 956kB/s\n",
      "\u001b[1A\u001b[2KDownloading: deinococcus_radiodurans_complete.zip    10.5MB 956kB/s\n",
      "\u001b[1A\u001b[2KDownloading: deinococcus_radiodurans_complete.zip    10.6MB 956kB/s\n",
      "\u001b[1A\u001b[2KDownloading: deinococcus_radiodurans_complete.zip    10.6MB 956kB/s\n",
      "\u001b[1A\u001b[2KDownloading: deinococcus_radiodurans_complete.zip    10.6MB 956kB/s\n",
      "\u001b[1A\u001b[2KDownloading: deinococcus_radiodurans_complete.zip    10.6MB 957kB/s\n",
      "\u001b[1A\u001b[2KDownloading: deinococcus_radiodurans_complete.zip    10.6MB 958kB/s\n",
      "\u001b[1A\u001b[2KDownloading: deinococcus_radiodurans_complete.zip    10.6MB 958kB/s\n",
      "\u001b[1A\u001b[2KDownloading: deinococcus_radiodurans_complete.zip    10.7MB 962kB/s\n",
      "\u001b[1A\u001b[2KDownloading: deinococcus_radiodurans_complete.zip    10.7MB 962kB/s\n",
      "\u001b[1A\u001b[2KDownloading: deinococcus_radiodurans_complete.zip    10.7MB 962kB/s\n",
      "\u001b[1A\u001b[2KDownloading: deinococcus_radiodurans_complete.zip    10.7MB 962kB/s\n",
      "\u001b[1A\u001b[2KDownloading: deinococcus_radiodurans_complete.zip    10.7MB 962kB/s\n",
      "\u001b[1A\u001b[2KDownloading: deinococcus_radiodurans_complete.zip    10.7MB 962kB/s\n",
      "\u001b[1A\u001b[2KDownloading: deinococcus_radiodurans_complete.zip    10.7MB 963kB/s\n",
      "\u001b[1A\u001b[2KDownloading: deinococcus_radiodurans_complete.zip    10.7MB 963kB/s\n",
      "\u001b[1A\u001b[2KDownloading: deinococcus_radiodurans_complete.zip    10.8MB 964kB/s\n",
      "\u001b[1A\u001b[2KDownloading: deinococcus_radiodurans_complete.zip    10.8MB 964kB/s\n",
      "\u001b[1A\u001b[2KDownloading: deinococcus_radiodurans_complete.zip    10.8MB 966kB/s\n",
      "\u001b[1A\u001b[2KDownloading: deinococcus_radiodurans_complete.zip    10.8MB 967kB/s\n"
     ]
    },
    {
     "name": "stdout",
     "output_type": "stream",
     "text": [
      "\u001b[1A\u001b[2KDownloading: deinococcus_radiodurans_complete.zip    10.8MB 967kB/s\n",
      "\u001b[1A\u001b[2KDownloading: deinococcus_radiodurans_complete.zip    10.8MB 967kB/s\n",
      "\u001b[1A\u001b[2KDownloading: deinococcus_radiodurans_complete.zip    10.8MB 967kB/s\n",
      "\u001b[1A\u001b[2KDownloading: deinococcus_radiodurans_complete.zip    10.8MB 967kB/s\n",
      "\u001b[1A\u001b[2KDownloading: deinococcus_radiodurans_complete.zip    10.9MB 965kB/s\n",
      "\u001b[1A\u001b[2KDownloading: deinococcus_radiodurans_complete.zip    10.9MB 965kB/s\n",
      "\u001b[1A\u001b[2KDownloading: deinococcus_radiodurans_complete.zip    10.9MB 965kB/s\n",
      "\u001b[1A\u001b[2KDownloading: deinococcus_radiodurans_complete.zip    10.9MB 966kB/s\n",
      "\u001b[1A\u001b[2KDownloading: deinococcus_radiodurans_complete.zip    10.9MB 968kB/s\n",
      "\u001b[1A\u001b[2KDownloading: deinococcus_radiodurans_complete.zip    11MB 970kB/s\n",
      "\u001b[1A\u001b[2KDownloading: deinococcus_radiodurans_complete.zip    11MB 972kB/s\n",
      "\u001b[1A\u001b[2KDownloading: deinococcus_radiodurans_complete.zip    11MB 972kB/s\n",
      "\u001b[1A\u001b[2KDownloading: deinococcus_radiodurans_complete.zip    11MB 972kB/s\n",
      "\u001b[1A\u001b[2KDownloading: deinococcus_radiodurans_complete.zip    11MB 972kB/s\n",
      "\u001b[1A\u001b[2KDownloading: deinococcus_radiodurans_complete.zip    11MB 971kB/s\n",
      "\u001b[1A\u001b[2KDownloading: deinococcus_radiodurans_complete.zip    11MB 971kB/s\n",
      "\u001b[1A\u001b[2KDownloading: deinococcus_radiodurans_complete.zip    11MB 971kB/s\n",
      "\u001b[1A\u001b[2KDownloading: deinococcus_radiodurans_complete.zip    11MB 971kB/s\n",
      "\u001b[1A\u001b[2KDownloading: deinococcus_radiodurans_complete.zip    11MB 971kB/s\n",
      "\u001b[1A\u001b[2KDownloading: deinococcus_radiodurans_complete.zip    11MB 971kB/s\n"
     ]
    },
    {
     "name": "stdout",
     "output_type": "stream",
     "text": [
      "\u001b[1A\u001b[2KDownloading: deinococcus_radiodurans_complete.zip    11.1MB 969kB/s\n",
      "\u001b[1A\u001b[2KDownloading: deinococcus_radiodurans_complete.zip    11.1MB 971kB/s\n",
      "\u001b[1A\u001b[2KDownloading: deinococcus_radiodurans_complete.zip    11.1MB 971kB/s\n",
      "\u001b[1A\u001b[2KDownloading: deinococcus_radiodurans_complete.zip    11.1MB 972kB/s\n",
      "\u001b[1A\u001b[2KDownloading: deinococcus_radiodurans_complete.zip    11.2MB 976kB/s\n",
      "\u001b[1A\u001b[2KDownloading: deinococcus_radiodurans_complete.zip    11.2MB 976kB/s\n",
      "\u001b[1A\u001b[2KDownloading: deinococcus_radiodurans_complete.zip    11.2MB done\n"
     ]
    },
    {
     "name": "stderr",
     "output_type": "stream",
     "text": [
      "New version of client (14.13.0) available at https://ftp.ncbi.nlm.nih.gov/pub/datasets/command-line/LATEST/linux-amd64/datasets\n"
     ]
    },
    {
     "data": {
      "text/plain": [
       "CompletedProcess(args='./datasets download genome accession --exclude-genomic-cds --exclude-gff3 --exclude-protein --exclude-rna --exclude-seq --include-gbff --inputfile accession_list.txt --filename deinococcus_radiodurans_complete.zip', returncode=0)"
      ]
     },
     "execution_count": 8,
     "metadata": {},
     "output_type": "execute_result"
    }
   ],
   "source": [
    "subprocess.run(f\"./datasets download genome accession --exclude-genomic-cds --exclude-gff3 --exclude-protein --exclude-rna --exclude-seq --include-gbff --inputfile accession_list.txt --filename {taxon_file}.zip\", shell=True)"
   ]
  },
  {
   "cell_type": "code",
   "execution_count": 9,
   "id": "c20c7e4d",
   "metadata": {
    "execution": {
     "iopub.execute_input": "2023-02-15T17:05:36.348494Z",
     "iopub.status.busy": "2023-02-15T17:05:36.348147Z",
     "iopub.status.idle": "2023-02-15T17:05:36.936547Z",
     "shell.execute_reply": "2023-02-15T17:05:36.935920Z"
    },
    "papermill": {
     "duration": 0.604614,
     "end_time": "2023-02-15T17:05:36.938014",
     "exception": false,
     "start_time": "2023-02-15T17:05:36.333400",
     "status": "completed"
    },
    "tags": []
   },
   "outputs": [
    {
     "name": "stdout",
     "output_type": "stream",
     "text": [
      "Archive:  deinococcus_radiodurans_complete.zip\n",
      "  inflating: README.md               \n",
      "  inflating: ncbi_dataset/data/assembly_data_report.jsonl  \n",
      "  inflating: ncbi_dataset/data/GCA_008329785.1/genomic.gbff  \n",
      "  inflating: ncbi_dataset/data/GCA_011604805.1/genomic.gbff  "
     ]
    },
    {
     "name": "stdout",
     "output_type": "stream",
     "text": [
      "\n",
      "  inflating: ncbi_dataset/data/GCA_011604825.1/genomic.gbff  \n",
      "  inflating: ncbi_dataset/data/GCA_020546685.1/genomic.gbff  "
     ]
    },
    {
     "name": "stdout",
     "output_type": "stream",
     "text": [
      "\n",
      "  inflating: ncbi_dataset/data/GCA_024138735.1/genomic.gbff  \n",
      "  inflating: ncbi_dataset/data/GCA_008329785.1/sequence_report.jsonl  \n",
      "  inflating: ncbi_dataset/data/GCA_011604805.1/sequence_report.jsonl  \n",
      "  inflating: ncbi_dataset/data/GCA_011604825.1/sequence_report.jsonl  \n",
      "  inflating: ncbi_dataset/data/GCA_020546685.1/sequence_report.jsonl  \n",
      "  inflating: ncbi_dataset/data/GCA_024138735.1/sequence_report.jsonl  \n",
      "  inflating: ncbi_dataset/data/dataset_catalog.json  \n"
     ]
    },
    {
     "data": {
      "text/plain": [
       "CompletedProcess(args='unzip deinococcus_radiodurans_complete.zip', returncode=0)"
      ]
     },
     "execution_count": 9,
     "metadata": {},
     "output_type": "execute_result"
    }
   ],
   "source": [
    "!rm README.md\n",
    "!rm -r ncbi_dataset\n",
    "subprocess.run(f\"unzip {taxon_file}.zip\", shell=True)"
   ]
  },
  {
   "cell_type": "code",
   "execution_count": 10,
   "id": "cf88561e",
   "metadata": {
    "execution": {
     "iopub.execute_input": "2023-02-15T17:05:36.952062Z",
     "iopub.status.busy": "2023-02-15T17:05:36.951789Z",
     "iopub.status.idle": "2023-02-15T17:05:36.959702Z",
     "shell.execute_reply": "2023-02-15T17:05:36.959151Z"
    },
    "papermill": {
     "duration": 0.017424,
     "end_time": "2023-02-15T17:05:36.961281",
     "exception": false,
     "start_time": "2023-02-15T17:05:36.943857",
     "status": "completed"
    },
    "tags": []
   },
   "outputs": [],
   "source": [
    "df = pd.read_table(\"info_table.tsv\", header=None)\n",
    "df.columns = ['Genome', 'Strain', 'Taxonomy Id', 'Sequence length', \"GC Percent (%)\", \"ContigN50\", \"Gene count\"]\n",
    "df.set_index(\"Genome\", inplace = True)\n",
    "df[\"rRNA\"]=np.nan\n",
    "df[\"tRNA\"]=np.nan"
   ]
  },
  {
   "cell_type": "code",
   "execution_count": 11,
   "id": "695e6d75",
   "metadata": {
    "execution": {
     "iopub.execute_input": "2023-02-15T17:05:36.973648Z",
     "iopub.status.busy": "2023-02-15T17:05:36.973454Z",
     "iopub.status.idle": "2023-02-15T17:05:37.069528Z",
     "shell.execute_reply": "2023-02-15T17:05:37.068906Z"
    },
    "papermill": {
     "duration": 0.105101,
     "end_time": "2023-02-15T17:05:37.071675",
     "exception": false,
     "start_time": "2023-02-15T17:05:36.966574",
     "status": "completed"
    },
    "tags": []
   },
   "outputs": [],
   "source": [
    "for i, row in df.iterrows():\n",
    "    os.chdir(pwd + f\"/ncbi_dataset/data/{i}\")\n",
    "    p = subprocess.Popen(\"\"\"cat genomic.gbff | grep rRNAs | head -1 | awk -F\":: \" '{ print $2}'\"\"\", stdout=subprocess.PIPE, shell=True)\n",
    "    rRNA = p.stdout.read().decode('ascii').strip()\n",
    "    p = subprocess.Popen(\"\"\"cat genomic.gbff | grep tRNAs | head -1 | awk -F\":: \" '{ print $2}'\"\"\", stdout=subprocess.PIPE, shell=True)\n",
    "    tRNA = p.stdout.read().decode('ascii').strip()\n",
    "    df.at[i, \"rRNA\"] = rRNA\n",
    "    df.at[i, \"tRNA\"] = tRNA\n",
    "os.chdir(pwd)"
   ]
  },
  {
   "cell_type": "code",
   "execution_count": 12,
   "id": "f55f518c",
   "metadata": {
    "execution": {
     "iopub.execute_input": "2023-02-15T17:05:37.090667Z",
     "iopub.status.busy": "2023-02-15T17:05:37.089536Z",
     "iopub.status.idle": "2023-02-15T17:05:37.102166Z",
     "shell.execute_reply": "2023-02-15T17:05:37.101512Z"
    },
    "papermill": {
     "duration": 0.024831,
     "end_time": "2023-02-15T17:05:37.104040",
     "exception": false,
     "start_time": "2023-02-15T17:05:37.079209",
     "status": "completed"
    },
    "tags": []
   },
   "outputs": [
    {
     "data": {
      "text/html": [
       "<div>\n",
       "<style scoped>\n",
       "    .dataframe tbody tr th:only-of-type {\n",
       "        vertical-align: middle;\n",
       "    }\n",
       "\n",
       "    .dataframe tbody tr th {\n",
       "        vertical-align: top;\n",
       "    }\n",
       "\n",
       "    .dataframe thead th {\n",
       "        text-align: right;\n",
       "    }\n",
       "</style>\n",
       "<table border=\"1\" class=\"dataframe\">\n",
       "  <thead>\n",
       "    <tr style=\"text-align: right;\">\n",
       "      <th></th>\n",
       "      <th>Strain</th>\n",
       "      <th>Taxonomy Id</th>\n",
       "      <th>Sequence length</th>\n",
       "      <th>GC Percent (%)</th>\n",
       "      <th>ContigN50</th>\n",
       "      <th>Gene count</th>\n",
       "      <th>rRNA</th>\n",
       "      <th>tRNA</th>\n",
       "    </tr>\n",
       "    <tr>\n",
       "      <th>Genome</th>\n",
       "      <th></th>\n",
       "      <th></th>\n",
       "      <th></th>\n",
       "      <th></th>\n",
       "      <th></th>\n",
       "      <th></th>\n",
       "      <th></th>\n",
       "      <th></th>\n",
       "    </tr>\n",
       "  </thead>\n",
       "  <tbody>\n",
       "    <tr>\n",
       "      <th>GCA_008329785.1</th>\n",
       "      <td>R1 dM1</td>\n",
       "      <td>1299</td>\n",
       "      <td>3283189</td>\n",
       "      <td>2188402</td>\n",
       "      <td>2647538</td>\n",
       "      <td>3309</td>\n",
       "      <td>3, 3, 3 (5S, 16S, 23S)</td>\n",
       "      <td>50</td>\n",
       "    </tr>\n",
       "    <tr>\n",
       "      <th>GCA_011604805.1</th>\n",
       "      <td>BNK-50</td>\n",
       "      <td>1299</td>\n",
       "      <td>3284329</td>\n",
       "      <td>2188764</td>\n",
       "      <td>2648775</td>\n",
       "      <td>3202</td>\n",
       "      <td>3, 3, 3 (5S, 16S, 23S)</td>\n",
       "      <td>50</td>\n",
       "    </tr>\n",
       "    <tr>\n",
       "      <th>GCA_011604825.1</th>\n",
       "      <td>BND-54</td>\n",
       "      <td>1299</td>\n",
       "      <td>3283098</td>\n",
       "      <td>2188024</td>\n",
       "      <td>2648637</td>\n",
       "      <td>3209</td>\n",
       "      <td>3, 3, 3 (5S, 16S, 23S)</td>\n",
       "      <td>50</td>\n",
       "    </tr>\n",
       "    <tr>\n",
       "      <th>GCA_024138735.1</th>\n",
       "      <td>BRD125</td>\n",
       "      <td>1299</td>\n",
       "      <td>3281648</td>\n",
       "      <td>2186593</td>\n",
       "      <td>2647192</td>\n",
       "      <td>3543</td>\n",
       "      <td>3, 3, 3 (5S, 16S, 23S)</td>\n",
       "      <td>49</td>\n",
       "    </tr>\n",
       "    <tr>\n",
       "      <th>GCA_020546685.1</th>\n",
       "      <td>ATCC 13939</td>\n",
       "      <td>1408434</td>\n",
       "      <td>3279598</td>\n",
       "      <td>2186449</td>\n",
       "      <td>2644543</td>\n",
       "      <td>3305</td>\n",
       "      <td>3, 3, 3 (5S, 16S, 23S)</td>\n",
       "      <td>50</td>\n",
       "    </tr>\n",
       "  </tbody>\n",
       "</table>\n",
       "</div>"
      ],
      "text/plain": [
       "                     Strain  Taxonomy Id  Sequence length  GC Percent (%)  \\\n",
       "Genome                                                                      \n",
       "GCA_008329785.1      R1 dM1         1299          3283189         2188402   \n",
       "GCA_011604805.1      BNK-50         1299          3284329         2188764   \n",
       "GCA_011604825.1      BND-54         1299          3283098         2188024   \n",
       "GCA_024138735.1      BRD125         1299          3281648         2186593   \n",
       "GCA_020546685.1  ATCC 13939      1408434          3279598         2186449   \n",
       "\n",
       "                 ContigN50  Gene count                    rRNA tRNA  \n",
       "Genome                                                               \n",
       "GCA_008329785.1    2647538        3309  3, 3, 3 (5S, 16S, 23S)   50  \n",
       "GCA_011604805.1    2648775        3202  3, 3, 3 (5S, 16S, 23S)   50  \n",
       "GCA_011604825.1    2648637        3209  3, 3, 3 (5S, 16S, 23S)   50  \n",
       "GCA_024138735.1    2647192        3543  3, 3, 3 (5S, 16S, 23S)   49  \n",
       "GCA_020546685.1    2644543        3305  3, 3, 3 (5S, 16S, 23S)   50  "
      ]
     },
     "execution_count": 12,
     "metadata": {},
     "output_type": "execute_result"
    }
   ],
   "source": [
    "df"
   ]
  },
  {
   "cell_type": "code",
   "execution_count": 13,
   "id": "05f03976",
   "metadata": {
    "execution": {
     "iopub.execute_input": "2023-02-15T17:05:37.119784Z",
     "iopub.status.busy": "2023-02-15T17:05:37.119338Z",
     "iopub.status.idle": "2023-02-15T17:05:42.634416Z",
     "shell.execute_reply": "2023-02-15T17:05:42.633438Z"
    },
    "papermill": {
     "duration": 5.524873,
     "end_time": "2023-02-15T17:05:42.636825",
     "exception": false,
     "start_time": "2023-02-15T17:05:37.111952",
     "status": "completed"
    },
    "tags": []
   },
   "outputs": [
    {
     "name": "stderr",
     "output_type": "stream",
     "text": [
      "/home/infosebi/.local/lib/python3.10/site-packages/pyspark/sql/pandas/conversion.py:474: FutureWarning: iteritems is deprecated and will be removed in a future version. Use .items instead.\n",
      "  for column, series in pdf.iteritems():\n",
      "/home/infosebi/.local/lib/python3.10/site-packages/pyspark/sql/pandas/conversion.py:486: FutureWarning: iteritems is deprecated and will be removed in a future version. Use .items instead.\n",
      "  for column, series in pdf.iteritems():\n"
     ]
    },
    {
     "name": "stdout",
     "output_type": "stream",
     "text": [
      "root\n",
      " |-- Genome: string (nullable = true)\n",
      " |-- Strain: string (nullable = true)\n",
      " |-- Taxonomy Id: long (nullable = true)\n",
      " |-- Sequence length: long (nullable = true)\n",
      " |-- GC Percent (%): long (nullable = true)\n",
      " |-- ContigN50: long (nullable = true)\n",
      " |-- Gene count: long (nullable = true)\n",
      " |-- rRNA: string (nullable = true)\n",
      " |-- tRNA: string (nullable = true)\n",
      "\n"
     ]
    },
    {
     "name": "stderr",
     "output_type": "stream",
     "text": [
      "\r",
      "[Stage 0:>                                                          (0 + 1) / 1]\r"
     ]
    },
    {
     "name": "stderr",
     "output_type": "stream",
     "text": [
      "\r",
      "                                                                                \r"
     ]
    },
    {
     "name": "stdout",
     "output_type": "stream",
     "text": [
      "+---------------+----------+-----------+---------------+--------------+---------+----------+--------------------+----+\n",
      "|         Genome|    Strain|Taxonomy Id|Sequence length|GC Percent (%)|ContigN50|Gene count|                rRNA|tRNA|\n",
      "+---------------+----------+-----------+---------------+--------------+---------+----------+--------------------+----+\n",
      "|GCA_008329785.1|    R1 dM1|       1299|        3283189|       2188402|  2647538|      3309|3, 3, 3 (5S, 16S,...|  50|\n",
      "|GCA_011604805.1|    BNK-50|       1299|        3284329|       2188764|  2648775|      3202|3, 3, 3 (5S, 16S,...|  50|\n",
      "|GCA_011604825.1|    BND-54|       1299|        3283098|       2188024|  2648637|      3209|3, 3, 3 (5S, 16S,...|  50|\n",
      "|GCA_024138735.1|    BRD125|       1299|        3281648|       2186593|  2647192|      3543|3, 3, 3 (5S, 16S,...|  49|\n",
      "|GCA_020546685.1|ATCC 13939|    1408434|        3279598|       2186449|  2644543|      3305|3, 3, 3 (5S, 16S,...|  50|\n",
      "+---------------+----------+-----------+---------------+--------------+---------+----------+--------------------+----+\n",
      "\n"
     ]
    }
   ],
   "source": [
    "df.reset_index(drop=False,inplace=True)\n",
    "sparkDF=spark.createDataFrame(df) \n",
    "sparkDF.printSchema()\n",
    "sparkDF.show()"
   ]
  },
  {
   "cell_type": "code",
   "execution_count": 14,
   "id": "1d7adcb4",
   "metadata": {
    "execution": {
     "iopub.execute_input": "2023-02-15T17:05:42.655850Z",
     "iopub.status.busy": "2023-02-15T17:05:42.655005Z",
     "iopub.status.idle": "2023-02-15T17:05:42.659414Z",
     "shell.execute_reply": "2023-02-15T17:05:42.658552Z"
    },
    "papermill": {
     "duration": 0.016216,
     "end_time": "2023-02-15T17:05:42.661796",
     "exception": false,
     "start_time": "2023-02-15T17:05:42.645580",
     "status": "completed"
    },
    "tags": []
   },
   "outputs": [],
   "source": [
    "#genbank file parser, GBParsyPy, BioPython\n",
    "#is it possible to have interaction in jupyter notebook\n",
    "#install Eggnog database -> run Eggnog annotation on gbff file.\n",
    "#google collab (vs-code, github repo)\n",
    "#circus (input-data?)"
   ]
  },
  {
   "cell_type": "code",
   "execution_count": 15,
   "id": "4e4b43ef",
   "metadata": {
    "execution": {
     "iopub.execute_input": "2023-02-15T17:05:42.679254Z",
     "iopub.status.busy": "2023-02-15T17:05:42.679003Z",
     "iopub.status.idle": "2023-02-15T17:05:42.682397Z",
     "shell.execute_reply": "2023-02-15T17:05:42.681504Z"
    },
    "papermill": {
     "duration": 0.014768,
     "end_time": "2023-02-15T17:05:42.684966",
     "exception": false,
     "start_time": "2023-02-15T17:05:42.670198",
     "status": "completed"
    },
    "tags": []
   },
   "outputs": [],
   "source": [
    "#criteria for genome selection to strict (assembly-source genbank)?\n",
    "#take care of warnings\n",
    "#what kind of table with spark?\n",
    "#GenomeDiagramm library"
   ]
  }
 ],
 "metadata": {
  "celltoolbar": "Tags",
  "kernelspec": {
   "display_name": "Python 3 (ipykernel)",
   "language": "python",
   "name": "python3"
  },
  "language_info": {
   "codemirror_mode": {
    "name": "ipython",
    "version": 3
   },
   "file_extension": ".py",
   "mimetype": "text/x-python",
   "name": "python",
   "nbconvert_exporter": "python",
   "pygments_lexer": "ipython3",
   "version": "3.10.9"
  },
  "papermill": {
   "default_parameters": {},
   "duration": 28.41218,
   "end_time": "2023-02-15T17:05:45.314617",
   "environment_variables": {},
   "exception": null,
   "input_path": "/home/infosebi/Documents/MastersProject/MastersProject.ipynb",
   "output_path": "/home/infosebi/Documents/MastersProject/ParameterizedMastersProject.ipynb",
   "parameters": {
    "pwd": "/home/infosebi/Documents/MastersProject",
    "taxon": "'Deinococcus radiodurans'"
   },
   "start_time": "2023-02-15T17:05:16.902437",
   "version": "2.4.0"
  }
 },
 "nbformat": 4,
 "nbformat_minor": 5
}