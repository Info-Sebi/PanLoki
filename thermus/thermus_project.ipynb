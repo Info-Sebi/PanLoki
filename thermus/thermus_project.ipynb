{
 "cells": [
  {
   "cell_type": "code",
   "execution_count": 1,
   "id": "6aecfabf",
   "metadata": {
    "execution": {
     "iopub.execute_input": "2023-04-04T12:41:47.366764Z",
     "iopub.status.busy": "2023-04-04T12:41:47.366551Z",
     "iopub.status.idle": "2023-04-04T12:41:47.700826Z",
     "shell.execute_reply": "2023-04-04T12:41:47.700163Z"
    },
    "papermill": {
     "duration": 0.34312,
     "end_time": "2023-04-04T12:41:47.702317",
     "exception": false,
     "start_time": "2023-04-04T12:41:47.359197",
     "status": "completed"
    },
    "tags": []
   },
   "outputs": [],
   "source": [
    "from IPython.display import Image\n",
    "from glob import glob\n",
    "import pandas as pd\n",
    "import numpy as np\n",
    "import os\n",
    "from pathlib import Path\n",
    "import subprocess\n",
    "from pyspark.sql import SparkSession\n",
    "from pyspark.sql.types import *\n",
    "from Bio import SeqIO\n",
    "from Bio.SeqRecord import SeqRecord"
   ]
  },
  {
   "cell_type": "code",
   "execution_count": 2,
   "id": "fd49ffca",
   "metadata": {
    "execution": {
     "iopub.execute_input": "2023-04-04T12:41:47.710522Z",
     "iopub.status.busy": "2023-04-04T12:41:47.710262Z",
     "iopub.status.idle": "2023-04-04T12:41:50.422393Z",
     "shell.execute_reply": "2023-04-04T12:41:50.421790Z"
    },
    "papermill": {
     "duration": 2.717464,
     "end_time": "2023-04-04T12:41:50.423957",
     "exception": false,
     "start_time": "2023-04-04T12:41:47.706493",
     "status": "completed"
    },
    "tags": []
   },
   "outputs": [
    {
     "name": "stderr",
     "output_type": "stream",
     "text": [
      "Setting default log level to \"WARN\".\n",
      "To adjust logging level use sc.setLogLevel(newLevel). For SparkR, use setLogLevel(newLevel).\n"
     ]
    },
    {
     "name": "stdout",
     "output_type": "stream",
     "text": [
      "23/04/04 12:41:49 WARN NativeCodeLoader: Unable to load native-hadoop library for your platform... using builtin-java classes where applicable\n"
     ]
    }
   ],
   "source": [
    "#os.environ[\"PYSPARK_GATEWAY_PORT\"]=45323\n",
    "#os.environ[\"PYSPARK_GATEWAY_SECRET\"]=1f5c85fdccaec5212a9cb3beadf12b67308ab20df4a4a43b00c0d91e7c6c6855\n",
    "#os.environ[\"PYSPARK_PIN_THREAD\"]=true\n",
    "\n",
    "spark = SparkSession.builder.appName('MastersProject').getOrCreate()"
   ]
  },
  {
   "cell_type": "code",
   "execution_count": 3,
   "id": "f9622609",
   "metadata": {
    "execution": {
     "iopub.execute_input": "2023-04-04T12:41:50.440279Z",
     "iopub.status.busy": "2023-04-04T12:41:50.439933Z",
     "iopub.status.idle": "2023-04-04T12:41:50.443551Z",
     "shell.execute_reply": "2023-04-04T12:41:50.443072Z"
    },
    "papermill": {
     "duration": 0.017533,
     "end_time": "2023-04-04T12:41:50.444630",
     "exception": false,
     "start_time": "2023-04-04T12:41:50.427097",
     "status": "completed"
    },
    "tags": [
     "parameters"
    ]
   },
   "outputs": [],
   "source": [
    "taxon = '\\\"Escherichia coli\\\"'\n",
    "pwd = \"/home/infosebi/Documents/MastersProject\"\n",
    "number_of_genomes=5"
   ]
  },
  {
   "cell_type": "code",
   "execution_count": 4,
   "id": "b34a9a7a",
   "metadata": {
    "execution": {
     "iopub.execute_input": "2023-04-04T12:41:50.451384Z",
     "iopub.status.busy": "2023-04-04T12:41:50.450905Z",
     "iopub.status.idle": "2023-04-04T12:41:50.454197Z",
     "shell.execute_reply": "2023-04-04T12:41:50.453504Z"
    },
    "papermill": {
     "duration": 0.00944,
     "end_time": "2023-04-04T12:41:50.456902",
     "exception": false,
     "start_time": "2023-04-04T12:41:50.447462",
     "status": "completed"
    },
    "tags": [
     "injected-parameters"
    ]
   },
   "outputs": [],
   "source": [
    "# Parameters\n",
    "taxon = \"'Thermus'\"\n",
    "pwd = \"/home/infosebi/Documents/Programmieren/MastersProject/thermus\"\n",
    "number_of_genomes = 3\n"
   ]
  },
  {
   "cell_type": "code",
   "execution_count": 5,
   "id": "fdde1723",
   "metadata": {
    "execution": {
     "iopub.execute_input": "2023-04-04T12:41:50.463494Z",
     "iopub.status.busy": "2023-04-04T12:41:50.463263Z",
     "iopub.status.idle": "2023-04-04T12:41:52.054203Z",
     "shell.execute_reply": "2023-04-04T12:41:52.053645Z"
    },
    "papermill": {
     "duration": 1.595785,
     "end_time": "2023-04-04T12:41:52.055438",
     "exception": false,
     "start_time": "2023-04-04T12:41:50.459653",
     "status": "completed"
    },
    "tags": []
   },
   "outputs": [
    {
     "name": "stderr",
     "output_type": "stream",
     "text": [
      "New version of client (14.20.0) available at https://ftp.ncbi.nlm.nih.gov/pub/datasets/command-line/LATEST/linux-amd64/datasets\n"
     ]
    },
    {
     "name": "stdout",
     "output_type": "stream",
     "text": [
      "35\n"
     ]
    }
   ],
   "source": [
    "os.chdir(pwd)\n",
    "taxon_file = taxon.lower().replace(\" \", \"_\").replace(\"\\'\", \"\")\n",
    "subprocess.run(f\"\"\"ncbi-datasets summary genome taxon {str(taxon)} --assembly-level complete --assembly-source genbank --annotated>  {taxon_file}.json\"\"\", shell=True)\n",
    "p = subprocess.Popen(f\"\"\"jq '.total_count' {taxon_file}.json\"\"\", stdout=subprocess.PIPE, shell=True)\n",
    "print(p.stdout.read().decode('ascii').strip())"
   ]
  },
  {
   "cell_type": "code",
   "execution_count": 6,
   "id": "bcb6ef94",
   "metadata": {
    "execution": {
     "iopub.execute_input": "2023-04-04T12:41:52.063283Z",
     "iopub.status.busy": "2023-04-04T12:41:52.063069Z",
     "iopub.status.idle": "2023-04-04T12:41:52.102715Z",
     "shell.execute_reply": "2023-04-04T12:41:52.102045Z"
    },
    "papermill": {
     "duration": 0.044735,
     "end_time": "2023-04-04T12:41:52.104043",
     "exception": false,
     "start_time": "2023-04-04T12:41:52.059308",
     "status": "completed"
    },
    "tags": []
   },
   "outputs": [
    {
     "data": {
      "text/plain": [
       "CompletedProcess(args=\"cat thermus.json | jq -r '.reports[] | [.accession, .organism.infraspecific_names.strain, .organism.tax_id, .assembly_stats.total_sequence_length, .assembly_stats.gc_count, .assembly_stats.contig_n50, .annotation_info.stats.gene_counts.total] | @tsv' | head -3 > info_table.tsv\", returncode=0)"
      ]
     },
     "execution_count": 6,
     "metadata": {},
     "output_type": "execute_result"
    }
   ],
   "source": [
    "subprocess.run(f\"cat {taxon_file}.json | jq -r '.reports[] | [.accession, .organism.infraspecific_names.strain, .organism.tax_id, .assembly_stats.total_sequence_length, .assembly_stats.gc_count, .assembly_stats.contig_n50, .annotation_info.stats.gene_counts.total] | @tsv' | head -{number_of_genomes} > info_table.tsv\", shell=True) "
   ]
  },
  {
   "cell_type": "code",
   "execution_count": 7,
   "id": "e3fbbd3a",
   "metadata": {
    "execution": {
     "iopub.execute_input": "2023-04-04T12:41:52.110569Z",
     "iopub.status.busy": "2023-04-04T12:41:52.110381Z",
     "iopub.status.idle": "2023-04-04T12:41:52.144768Z",
     "shell.execute_reply": "2023-04-04T12:41:52.144099Z"
    },
    "papermill": {
     "duration": 0.039233,
     "end_time": "2023-04-04T12:41:52.146154",
     "exception": false,
     "start_time": "2023-04-04T12:41:52.106921",
     "status": "completed"
    },
    "tags": []
   },
   "outputs": [
    {
     "data": {
      "text/plain": [
       "CompletedProcess(args=\"cat thermus.json | jq -r '.reports[]| .accession' | head -3 > accession_list.txt\", returncode=0)"
      ]
     },
     "execution_count": 7,
     "metadata": {},
     "output_type": "execute_result"
    }
   ],
   "source": [
    "subprocess.run(f\"cat {taxon_file}.json | jq -r '.reports[]| .accession' | head -{number_of_genomes} > accession_list.txt\", shell=True)"
   ]
  },
  {
   "cell_type": "code",
   "execution_count": 8,
   "id": "ad12954c",
   "metadata": {
    "execution": {
     "iopub.execute_input": "2023-04-04T12:41:52.153667Z",
     "iopub.status.busy": "2023-04-04T12:41:52.153044Z",
     "iopub.status.idle": "2023-04-04T12:41:57.379253Z",
     "shell.execute_reply": "2023-04-04T12:41:57.376933Z"
    },
    "papermill": {
     "duration": 5.23494,
     "end_time": "2023-04-04T12:41:57.384115",
     "exception": false,
     "start_time": "2023-04-04T12:41:52.149175",
     "status": "completed"
    },
    "tags": []
   },
   "outputs": [
    {
     "name": "stderr",
     "output_type": "stream",
     "text": [
      "New version of client (14.20.0) available at https://ftp.ncbi.nlm.nih.gov/pub/datasets/command-line/LATEST/linux-amd64/datasets\n",
      "Collecting 3  records [------------------------------------------------]   0% 0/3\n",
      "\u001b[1A\u001b[2KCollecting 3  records [------------------------------------------------]   0% 0/3\n",
      "\u001b[1A\u001b[2KCollecting 3  records [------------------------------------------------]   0% 0/3\n",
      "\u001b[1A\u001b[2KCollecting 3  records [------------------------------------------------]   0% 0/3\n",
      "\u001b[1A\u001b[2KCollecting 3  records [------------------------------------------------]   0% 0/3\n",
      "\u001b[1A\u001b[2KCollecting 3  records [------------------------------------------------]   0% 0/3\n",
      "\u001b[1A\u001b[2KCollecting 3  records [------------------------------------------------]   0% 0/3\n",
      "\u001b[1A\u001b[2KCollecting 3  records [------------------------------------------------]   0% 0/3\n",
      "\u001b[1A\u001b[2KCollecting 3  records [------------------------------------------------]   0% 0/3\n",
      "\u001b[1A\u001b[2KCollecting 3  records [------------------------------------------------]   0% 0/3\n",
      "\u001b[1A\u001b[2KCollecting 3  records [------------------------------------------------]   0% 0/3\n",
      "\u001b[1A\u001b[2KCollecting 3  records [------------------------------------------------]   0% 0/3\n",
      "\u001b[1A\u001b[2KCollecting 3  records [------------------------------------------------]   0% 0/3\n",
      "\u001b[1A\u001b[2KCollecting 3  records [------------------------------------------------]   0% 0/3\n",
      "\u001b[1A\u001b[2KCollecting 3  records [------------------------------------------------]   0% 0/3\n",
      "\u001b[1A\u001b[2KCollecting 3  records [------------------------------------------------]   0% 0/3\n",
      "\u001b[1A\u001b[2KCollecting 3  records [------------------------------------------------]   0% 0/3\n",
      "\u001b[1A\u001b[2KCollecting 3  records [------------------------------------------------]   0% 0/3\n",
      "\u001b[1A\u001b[2KCollecting 3  records [------------------------------------------------]   0% 0/3\n"
     ]
    },
    {
     "name": "stderr",
     "output_type": "stream",
     "text": [
      "\u001b[1A\u001b[2KCollecting 3  records [================================================] 100% 3/3\n",
      "\u001b[1A\u001b[2KCollecting 3  records [================================================] 100% 3/3\n",
      "\u001b[1A\u001b[2KCollecting 3  records [================================================] 100% 3/3\n",
      "\u001b[1A\u001b[2KCollecting 3  records [================================================] 100% 3/3\n",
      "\u001b[1A\u001b[2KCollecting 3  records [================================================] 100% 3/3\n",
      "\u001b[1A\u001b[2KCollecting 3  records [================================================] 100% 3/3\n",
      "\u001b[1A\u001b[2KCollecting 3  records [================================================] 100% 3/3\n",
      "\u001b[1A\u001b[2KCollecting 3  records [================================================] 100% 3/3\n",
      "\u001b[1A\u001b[2KCollecting 3  records [================================================] 100% 3/3\n",
      "\u001b[1A\u001b[2KCollecting 3  records [================================================] 100% 3/3\n",
      "\u001b[1A\u001b[2KCollecting 3  records [================================================] 100% 3/3\n",
      "\u001b[1A\u001b[2KCollecting 3  records [================================================] 100% 3/3\n",
      "\u001b[1A\u001b[2KCollecting 3  records [================================================] 100% 3/3\n",
      "\u001b[1A\u001b[2KCollecting 3  records [================================================] 100% 3/3\n",
      "\u001b[1A\u001b[2KCollecting 3  records [================================================] 100% 3/3\n",
      "\u001b[1A\u001b[2KCollecting 3  records [================================================] 100% 3/3\n",
      "\u001b[1A\u001b[2KCollecting 3  records [================================================] 100% 3/3\n",
      "\u001b[1A\u001b[2KCollecting 3  records [================================================] 100% 3/3\n",
      "\u001b[1A\u001b[2KCollecting 3  records [================================================] 100% 3/3\n",
      "\u001b[1A\u001b[2KCollecting 3  records [================================================] 100% 3/3\n"
     ]
    },
    {
     "name": "stderr",
     "output_type": "stream",
     "text": [
      "\u001b[1A\u001b[2KCollecting 3  records [================================================] 100% 3/3\n",
      "\u001b[1A\u001b[2KCollecting 3  records [================================================] 100% 3/3\n",
      "\u001b[1A\u001b[2KCollecting 3  records [================================================] 100% 3/3\n",
      "\u001b[1A\u001b[2KCollecting 3  records [================================================] 100% 3/3\n",
      "\u001b[1A\u001b[2KCollecting 3  records [================================================] 100% 3/3\n",
      "\u001b[1A\u001b[2KCollecting 3  records [================================================] 100% 3/3\n",
      "\u001b[1A\u001b[2KCollecting 3  records [================================================] 100% 3/3\n",
      "\u001b[1A\u001b[2KCollecting 3  records [================================================] 100% 3/3\n",
      "Downloading: thermus.zip    855B 9MB/s\n",
      "\u001b[1A\u001b[2K\u001b[1A\u001b[2KCollecting 3  records [================================================] 100% 3/3\n",
      "Downloading: thermus.zip    855B 9MB/s\n",
      "\u001b[1A\u001b[2K\u001b[1A\u001b[2KCollecting 3  records [================================================] 100% 3/3\n",
      "Downloading: thermus.zip    855B 9MB/s\n",
      "\u001b[1A\u001b[2K\u001b[1A\u001b[2KCollecting 3  records [================================================] 100% 3/3\n",
      "Downloading: thermus.zip    855B 9MB/s\n",
      "\u001b[1A\u001b[2K\u001b[1A\u001b[2KCollecting 3  records [================================================] 100% 3/3\n",
      "Downloading: thermus.zip    855B 9MB/s\n",
      "\u001b[1A\u001b[2K\u001b[1A\u001b[2KCollecting 3  records [================================================] 100% 3/3\n",
      "Downloading: thermus.zip    855B 9MB/s\n",
      "\u001b[1A\u001b[2K\u001b[1A\u001b[2KCollecting 3  records [================================================] 100% 3/3\n",
      "Downloading: thermus.zip    855B 9MB/s\n",
      "\u001b[1A\u001b[2K\u001b[1A\u001b[2KCollecting 3  records [================================================] 100% 3/3\n",
      "Downloading: thermus.zip    855B 9MB/s\n",
      "\u001b[1A\u001b[2K\u001b[1A\u001b[2KCollecting 3  records [================================================] 100% 3/3\n",
      "Downloading: thermus.zip    855B 9MB/s\n",
      "\u001b[1A\u001b[2K\u001b[1A\u001b[2KCollecting 3  records [================================================] 100% 3/3\n",
      "Downloading: thermus.zip    855B 9MB/s\n",
      "\u001b[1A\u001b[2K\u001b[1A\u001b[2KCollecting 3  records [================================================] 100% 3/3\n",
      "Downloading: thermus.zip    855B 9MB/s\n",
      "\u001b[1A\u001b[2K\u001b[1A\u001b[2KCollecting 3  records [================================================] 100% 3/3\n",
      "Downloading: thermus.zip    855B 9MB/s\n",
      "\u001b[1A\u001b[2K\u001b[1A\u001b[2KCollecting 3  records [================================================] 100% 3/3\n",
      "Downloading: thermus.zip    855B 9MB/s\n"
     ]
    },
    {
     "name": "stderr",
     "output_type": "stream",
     "text": [
      "\u001b[1A\u001b[2K\u001b[1A\u001b[2KCollecting 3  records [================================================] 100% 3/3\n",
      "Downloading: thermus.zip    855B 9MB/s\n",
      "\u001b[1A\u001b[2K\u001b[1A\u001b[2KCollecting 3  records [================================================] 100% 3/3\n",
      "Downloading: thermus.zip    855B 9MB/s\n",
      "\u001b[1A\u001b[2K\u001b[1A\u001b[2KCollecting 3  records [================================================] 100% 3/3\n",
      "Downloading: thermus.zip    855B 9MB/s\n",
      "\u001b[1A\u001b[2K\u001b[1A\u001b[2KCollecting 3  records [================================================] 100% 3/3\n",
      "Downloading: thermus.zip    855B 9MB/s\n",
      "\u001b[1A\u001b[2K\u001b[1A\u001b[2KCollecting 3  records [================================================] 100% 3/3\n",
      "Downloading: thermus.zip    855B 9MB/s\n",
      "\u001b[1A\u001b[2K\u001b[1A\u001b[2KCollecting 3  records [================================================] 100% 3/3\n",
      "Downloading: thermus.zip    855B 9MB/s\n",
      "\u001b[1A\u001b[2K\u001b[1A\u001b[2KCollecting 3  records [================================================] 100% 3/3\n",
      "Downloading: thermus.zip    855B 9MB/s\n",
      "\u001b[1A\u001b[2K\u001b[1A\u001b[2KCollecting 3  records [================================================] 100% 3/3\n",
      "Downloading: thermus.zip    855B 9MB/s\n",
      "\u001b[1A\u001b[2K\u001b[1A\u001b[2KCollecting 3  records [================================================] 100% 3/3\n",
      "Downloading: thermus.zip    855B 9MB/s\n",
      "\u001b[1A\u001b[2K\u001b[1A\u001b[2KCollecting 3  records [================================================] 100% 3/3\n",
      "Downloading: thermus.zip    855B 9MB/s\n",
      "\u001b[1A\u001b[2K\u001b[1A\u001b[2KCollecting 3  records [================================================] 100% 3/3\n",
      "Downloading: thermus.zip    855B 9MB/s\n",
      "\u001b[1A\u001b[2K\u001b[1A\u001b[2KCollecting 3  records [================================================] 100% 3/3\n",
      "Downloading: thermus.zip    855B 9MB/s\n",
      "\u001b[1A\u001b[2K\u001b[1A\u001b[2KCollecting 3  records [================================================] 100% 3/3\n",
      "Downloading: thermus.zip    855B 9MB/s\n",
      "\u001b[1A\u001b[2K\u001b[1A\u001b[2KCollecting 3  records [================================================] 100% 3/3\n",
      "Downloading: thermus.zip    855B 9MB/s\n",
      "\u001b[1A\u001b[2K\u001b[1A\u001b[2KCollecting 3  records [================================================] 100% 3/3\n",
      "Downloading: thermus.zip    855B 9MB/s\n",
      "\u001b[1A\u001b[2K\u001b[1A\u001b[2KCollecting 3  records [================================================] 100% 3/3\n",
      "Downloading: thermus.zip    855B 9MB/s\n",
      "\u001b[1A\u001b[2K\u001b[1A\u001b[2KCollecting 3  records [================================================] 100% 3/3\n",
      "Downloading: thermus.zip    855B 9MB/s\n",
      "\u001b[1A\u001b[2K\u001b[1A\u001b[2KCollecting 3  records [================================================] 100% 3/3\n",
      "Downloading: thermus.zip    855B 9MB/s\n",
      "\u001b[1A\u001b[2K\u001b[1A\u001b[2KCollecting 3  records [================================================] 100% 3/3\n",
      "Downloading: thermus.zip    855B 9MB/s\n"
     ]
    },
    {
     "name": "stderr",
     "output_type": "stream",
     "text": [
      "\u001b[1A\u001b[2K\u001b[1A\u001b[2KCollecting 3  records [================================================] 100% 3/3\n",
      "Downloading: thermus.zip    855B 9MB/s\n",
      "\u001b[1A\u001b[2K\u001b[1A\u001b[2KCollecting 3  records [================================================] 100% 3/3\n",
      "Downloading: thermus.zip    855B 9MB/s\n",
      "\u001b[1A\u001b[2K\u001b[1A\u001b[2KCollecting 3  records [================================================] 100% 3/3\n",
      "Downloading: thermus.zip    855B 9MB/s\n",
      "\u001b[1A\u001b[2K\u001b[1A\u001b[2KCollecting 3  records [================================================] 100% 3/3\n",
      "Downloading: thermus.zip    855B 9MB/s\n",
      "\u001b[1A\u001b[2K\u001b[1A\u001b[2KCollecting 3  records [================================================] 100% 3/3\n",
      "Downloading: thermus.zip    855B 9MB/s\n",
      "\u001b[1A\u001b[2K\u001b[1A\u001b[2KCollecting 3  records [================================================] 100% 3/3\n",
      "Downloading: thermus.zip    855B 9MB/s\n",
      "\u001b[1A\u001b[2K\u001b[1A\u001b[2KCollecting 3  records [================================================] 100% 3/3\n",
      "Downloading: thermus.zip    855B 9MB/s\n",
      "\u001b[1A\u001b[2K\u001b[1A\u001b[2KCollecting 3  records [================================================] 100% 3/3\n",
      "Downloading: thermus.zip    855B 9MB/s\n",
      "\u001b[1A\u001b[2K\u001b[1A\u001b[2KCollecting 3  records [================================================] 100% 3/3\n",
      "Downloading: thermus.zip    855B 9MB/s\n",
      "\u001b[1A\u001b[2K\u001b[1A\u001b[2KCollecting 3  records [================================================] 100% 3/3\n",
      "Downloading: thermus.zip    855B 9MB/s\n",
      "\u001b[1A\u001b[2K\u001b[1A\u001b[2KCollecting 3  records [================================================] 100% 3/3\n",
      "Downloading: thermus.zip    855B 9MB/s\n",
      "\u001b[1A\u001b[2K\u001b[1A\u001b[2KCollecting 3  records [================================================] 100% 3/3\n",
      "Downloading: thermus.zip    855B 9MB/s\n",
      "\u001b[1A\u001b[2K\u001b[1A\u001b[2KCollecting 3  records [================================================] 100% 3/3\n",
      "Downloading: thermus.zip    855B 9MB/s\n",
      "\u001b[1A\u001b[2K\u001b[1A\u001b[2KCollecting 3  records [================================================] 100% 3/3\n",
      "Downloading: thermus.zip    855B 9MB/s\n",
      "\u001b[1A\u001b[2K\u001b[1A\u001b[2KCollecting 3  records [================================================] 100% 3/3\n",
      "Downloading: thermus.zip    855B 9MB/s\n",
      "\u001b[1A\u001b[2K\u001b[1A\u001b[2KCollecting 3  records [================================================] 100% 3/3\n",
      "Downloading: thermus.zip    855B 9MB/s\n",
      "\u001b[1A\u001b[2K\u001b[1A\u001b[2KCollecting 3  records [================================================] 100% 3/3\n",
      "Downloading: thermus.zip    855B 9MB/s\n",
      "\u001b[1A\u001b[2K\u001b[1A\u001b[2KCollecting 3  records [================================================] 100% 3/3\n",
      "Downloading: thermus.zip    855B 9MB/s\n",
      "\u001b[1A\u001b[2K\u001b[1A\u001b[2KCollecting 3  records [================================================] 100% 3/3\n",
      "Downloading: thermus.zip    855B 9MB/s\n",
      "\u001b[1A\u001b[2K\u001b[1A\u001b[2KCollecting 3  records [================================================] 100% 3/3\n",
      "Downloading: thermus.zip    855B 9MB/s\n"
     ]
    },
    {
     "name": "stderr",
     "output_type": "stream",
     "text": [
      "\u001b[1A\u001b[2K\u001b[1A\u001b[2KCollecting 3  records [================================================] 100% 3/3\n",
      "Downloading: thermus.zip    3.81kB 6.92kB/s\n",
      "\u001b[1A\u001b[2K\u001b[1A\u001b[2KCollecting 3  records [================================================] 100% 3/3\n",
      "Downloading: thermus.zip    3.81kB 6.92kB/s\n",
      "\u001b[1A\u001b[2K\u001b[1A\u001b[2KCollecting 3  records [================================================] 100% 3/3\n",
      "Downloading: thermus.zip    3.81kB 6.92kB/s\n",
      "\u001b[1A\u001b[2K\u001b[1A\u001b[2KCollecting 3  records [================================================] 100% 3/3\n",
      "Downloading: thermus.zip    3.81kB 6.92kB/s\n",
      "\u001b[1A\u001b[2K\u001b[1A\u001b[2KCollecting 3  records [================================================] 100% 3/3\n",
      "Downloading: thermus.zip    3.81kB 6.92kB/s\n",
      "\u001b[1A\u001b[2K\u001b[1A\u001b[2KCollecting 3  records [================================================] 100% 3/3\n",
      "Downloading: thermus.zip    3.81kB 6.92kB/s\n",
      "\u001b[1A\u001b[2K\u001b[1A\u001b[2KCollecting 3  records [================================================] 100% 3/3\n",
      "Downloading: thermus.zip    3.81kB 6.92kB/s\n",
      "\u001b[1A\u001b[2K\u001b[1A\u001b[2KCollecting 3  records [================================================] 100% 3/3\n",
      "Downloading: thermus.zip    3.81kB 6.92kB/s\n",
      "\u001b[1A\u001b[2K\u001b[1A\u001b[2KCollecting 3  records [================================================] 100% 3/3\n",
      "Downloading: thermus.zip    3.81kB 6.92kB/s\n",
      "\u001b[1A\u001b[2K\u001b[1A\u001b[2KCollecting 3  records [================================================] 100% 3/3\n",
      "Downloading: thermus.zip    3.81kB 6.92kB/s\n",
      "\u001b[1A\u001b[2K\u001b[1A\u001b[2KCollecting 3  records [================================================] 100% 3/3\n",
      "Downloading: thermus.zip    3.81kB 6.92kB/s\n",
      "\u001b[1A\u001b[2K\u001b[1A\u001b[2KCollecting 3  records [================================================] 100% 3/3\n",
      "Downloading: thermus.zip    3.81kB 6.92kB/s\n",
      "\u001b[1A\u001b[2K\u001b[1A\u001b[2KCollecting 3  records [================================================] 100% 3/3\n",
      "Downloading: thermus.zip    3.81kB 6.92kB/s\n",
      "\u001b[1A\u001b[2K\u001b[1A\u001b[2KCollecting 3  records [================================================] 100% 3/3\n",
      "Downloading: thermus.zip    3.81kB 6.92kB/s\n",
      "\u001b[1A\u001b[2K\u001b[1A\u001b[2KCollecting 3  records [================================================] 100% 3/3\n",
      "Downloading: thermus.zip    3.81kB 6.92kB/s\n",
      "\u001b[1A\u001b[2K\u001b[1A\u001b[2KCollecting 3  records [================================================] 100% 3/3\n",
      "Downloading: thermus.zip    3.81kB 6.92kB/s\n",
      "\u001b[1A\u001b[2K\u001b[1A\u001b[2KCollecting 3  records [================================================] 100% 3/3\n",
      "Downloading: thermus.zip    3.81kB 6.92kB/s\n",
      "\u001b[1A\u001b[2K\u001b[1A\u001b[2KCollecting 3  records [================================================] 100% 3/3\n",
      "Downloading: thermus.zip    3.81kB 6.92kB/s\n",
      "\u001b[1A\u001b[2K\u001b[1A\u001b[2KCollecting 3  records [================================================] 100% 3/3\n",
      "Downloading: thermus.zip    3.81kB 6.92kB/s\n"
     ]
    },
    {
     "name": "stderr",
     "output_type": "stream",
     "text": [
      "\u001b[1A\u001b[2K\u001b[1A\u001b[2KCollecting 3  records [================================================] 100% 3/3\n",
      "Downloading: thermus.zip    3.81kB 6.92kB/s\n",
      "\u001b[1A\u001b[2K\u001b[1A\u001b[2KCollecting 3  records [================================================] 100% 3/3\n",
      "Downloading: thermus.zip    32.8kB 43kB/s\n",
      "\u001b[1A\u001b[2K\u001b[1A\u001b[2KCollecting 3  records [================================================] 100% 3/3\n",
      "Downloading: thermus.zip    32.8kB 43kB/s\n",
      "\u001b[1A\u001b[2K\u001b[1A\u001b[2KCollecting 3  records [================================================] 100% 3/3\n",
      "Downloading: thermus.zip    32.8kB 43kB/s\n",
      "\u001b[1A\u001b[2K\u001b[1A\u001b[2KCollecting 3  records [================================================] 100% 3/3\n",
      "Downloading: thermus.zip    32.8kB 43kB/s\n",
      "\u001b[1A\u001b[2K\u001b[1A\u001b[2KCollecting 3  records [================================================] 100% 3/3\n",
      "Downloading: thermus.zip    32.8kB 43kB/s\n",
      "\u001b[1A\u001b[2K\u001b[1A\u001b[2KCollecting 3  records [================================================] 100% 3/3\n",
      "Downloading: thermus.zip    32.8kB 43kB/s\n",
      "\u001b[1A\u001b[2K\u001b[1A\u001b[2KCollecting 3  records [================================================] 100% 3/3\n",
      "Downloading: thermus.zip    32.8kB 43kB/s\n",
      "\u001b[1A\u001b[2K\u001b[1A\u001b[2KCollecting 3  records [================================================] 100% 3/3\n",
      "Downloading: thermus.zip    32.8kB 43kB/s\n",
      "\u001b[1A\u001b[2K\u001b[1A\u001b[2KCollecting 3  records [================================================] 100% 3/3\n",
      "Downloading: thermus.zip    32.8kB 43kB/s\n",
      "\u001b[1A\u001b[2K\u001b[1A\u001b[2KCollecting 3  records [================================================] 100% 3/3\n",
      "Downloading: thermus.zip    32.8kB 43kB/s\n",
      "\u001b[1A\u001b[2K\u001b[1A\u001b[2KCollecting 3  records [================================================] 100% 3/3\n",
      "Downloading: thermus.zip    32.8kB 43kB/s\n",
      "\u001b[1A\u001b[2K\u001b[1A\u001b[2KCollecting 3  records [================================================] 100% 3/3\n",
      "Downloading: thermus.zip    32.8kB 43kB/s\n",
      "\u001b[1A\u001b[2K\u001b[1A\u001b[2KCollecting 3  records [================================================] 100% 3/3\n",
      "Downloading: thermus.zip    32.8kB 43kB/s\n",
      "\u001b[1A\u001b[2K\u001b[1A\u001b[2KCollecting 3  records [================================================] 100% 3/3\n",
      "Downloading: thermus.zip    32.8kB 43kB/s\n",
      "\u001b[1A\u001b[2K\u001b[1A\u001b[2KCollecting 3  records [================================================] 100% 3/3\n",
      "Downloading: thermus.zip    32.8kB 43kB/s\n",
      "\u001b[1A\u001b[2K\u001b[1A\u001b[2KCollecting 3  records [================================================] 100% 3/3\n",
      "Downloading: thermus.zip    32.8kB 43kB/s\n",
      "\u001b[1A\u001b[2K\u001b[1A\u001b[2KCollecting 3  records [================================================] 100% 3/3\n",
      "Downloading: thermus.zip    32.8kB 43kB/s\n",
      "\u001b[1A\u001b[2K\u001b[1A\u001b[2KCollecting 3  records [================================================] 100% 3/3\n",
      "Downloading: thermus.zip    32.8kB 43kB/s\n"
     ]
    },
    {
     "name": "stderr",
     "output_type": "stream",
     "text": [
      "\u001b[1A\u001b[2K\u001b[1A\u001b[2KCollecting 3  records [================================================] 100% 3/3\n",
      "Downloading: thermus.zip    32.8kB 43kB/s\n",
      "\u001b[1A\u001b[2K\u001b[1A\u001b[2KCollecting 3  records [================================================] 100% 3/3\n",
      "Downloading: thermus.zip    32.8kB 43kB/s\n",
      "\u001b[1A\u001b[2K\u001b[1A\u001b[2KCollecting 3  records [================================================] 100% 3/3\n",
      "Downloading: thermus.zip    65.5kB 67.5kB/s\n",
      "\u001b[1A\u001b[2K\u001b[1A\u001b[2KCollecting 3  records [================================================] 100% 3/3\n",
      "Downloading: thermus.zip    65.5kB 67.5kB/s\n",
      "\u001b[1A\u001b[2K\u001b[1A\u001b[2KCollecting 3  records [================================================] 100% 3/3\n",
      "Downloading: thermus.zip    65.5kB 67.5kB/s\n",
      "\u001b[1A\u001b[2K\u001b[1A\u001b[2KCollecting 3  records [================================================] 100% 3/3\n",
      "Downloading: thermus.zip    65.5kB 67.5kB/s\n",
      "\u001b[1A\u001b[2K\u001b[1A\u001b[2KCollecting 3  records [================================================] 100% 3/3\n",
      "Downloading: thermus.zip    65.5kB 67.5kB/s\n",
      "\u001b[1A\u001b[2K\u001b[1A\u001b[2KCollecting 3  records [================================================] 100% 3/3\n",
      "Downloading: thermus.zip    65.5kB 67.5kB/s\n",
      "\u001b[1A\u001b[2K\u001b[1A\u001b[2KCollecting 3  records [================================================] 100% 3/3\n",
      "Downloading: thermus.zip    65.5kB 67.5kB/s\n",
      "\u001b[1A\u001b[2K\u001b[1A\u001b[2KCollecting 3  records [================================================] 100% 3/3\n",
      "Downloading: thermus.zip    65.5kB 67.5kB/s\n",
      "\u001b[1A\u001b[2K\u001b[1A\u001b[2KCollecting 3  records [================================================] 100% 3/3\n",
      "Downloading: thermus.zip    65.5kB 67.5kB/s\n",
      "\u001b[1A\u001b[2K\u001b[1A\u001b[2KCollecting 3  records [================================================] 100% 3/3\n",
      "Downloading: thermus.zip    65.5kB 67.5kB/s\n",
      "\u001b[1A\u001b[2K\u001b[1A\u001b[2KCollecting 3  records [================================================] 100% 3/3\n",
      "Downloading: thermus.zip    65.5kB 67.5kB/s\n",
      "\u001b[1A\u001b[2K\u001b[1A\u001b[2KCollecting 3  records [================================================] 100% 3/3\n",
      "Downloading: thermus.zip    65.5kB 67.5kB/s\n",
      "\u001b[1A\u001b[2K\u001b[1A\u001b[2KCollecting 3  records [================================================] 100% 3/3\n",
      "Downloading: thermus.zip    65.5kB 67.5kB/s\n",
      "\u001b[1A\u001b[2K\u001b[1A\u001b[2KCollecting 3  records [================================================] 100% 3/3\n",
      "Downloading: thermus.zip    65.5kB 67.5kB/s\n",
      "\u001b[1A\u001b[2K\u001b[1A\u001b[2KCollecting 3  records [================================================] 100% 3/3\n",
      "Downloading: thermus.zip    65.5kB 67.5kB/s\n",
      "\u001b[1A\u001b[2K\u001b[1A\u001b[2KCollecting 3  records [================================================] 100% 3/3\n",
      "Downloading: thermus.zip    65.5kB 67.5kB/s\n",
      "\u001b[1A\u001b[2K\u001b[1A\u001b[2KCollecting 3  records [================================================] 100% 3/3\n",
      "Downloading: thermus.zip    65.5kB 67.5kB/s\n",
      "\u001b[1A\u001b[2K\u001b[1A\u001b[2KCollecting 3  records [================================================] 100% 3/3\n",
      "Downloading: thermus.zip    65.5kB 67.5kB/s\n"
     ]
    },
    {
     "name": "stderr",
     "output_type": "stream",
     "text": [
      "\u001b[1A\u001b[2K\u001b[1A\u001b[2KCollecting 3  records [================================================] 100% 3/3\n",
      "Downloading: thermus.zip    65.5kB 67.5kB/s\n",
      "\u001b[1A\u001b[2K\u001b[1A\u001b[2KCollecting 3  records [================================================] 100% 3/3\n",
      "Downloading: thermus.zip    65.5kB 67.5kB/s\n",
      "\u001b[1A\u001b[2K\u001b[1A\u001b[2KCollecting 3  records [================================================] 100% 3/3\n",
      "Downloading: thermus.zip    98.3kB 83.2kB/s\n",
      "\u001b[1A\u001b[2K\u001b[1A\u001b[2KCollecting 3  records [================================================] 100% 3/3\n",
      "Downloading: thermus.zip    98.3kB 83.2kB/s\n",
      "\u001b[1A\u001b[2K\u001b[1A\u001b[2KCollecting 3  records [================================================] 100% 3/3\n",
      "Downloading: thermus.zip    98.3kB 83.2kB/s\n",
      "\u001b[1A\u001b[2K\u001b[1A\u001b[2KCollecting 3  records [================================================] 100% 3/3\n",
      "Downloading: thermus.zip    98.3kB 83.2kB/s\n",
      "\u001b[1A\u001b[2K\u001b[1A\u001b[2KCollecting 3  records [================================================] 100% 3/3\n",
      "Downloading: thermus.zip    98.3kB 83.2kB/s\n",
      "\u001b[1A\u001b[2K\u001b[1A\u001b[2KCollecting 3  records [================================================] 100% 3/3\n",
      "Downloading: thermus.zip    98.3kB 83.2kB/s\n",
      "\u001b[1A\u001b[2K\u001b[1A\u001b[2KCollecting 3  records [================================================] 100% 3/3\n",
      "Downloading: thermus.zip    98.3kB 83.2kB/s\n",
      "\u001b[1A\u001b[2K\u001b[1A\u001b[2KCollecting 3  records [================================================] 100% 3/3\n",
      "Downloading: thermus.zip    98.3kB 83.2kB/s\n",
      "\u001b[1A\u001b[2K\u001b[1A\u001b[2KCollecting 3  records [================================================] 100% 3/3\n",
      "Downloading: thermus.zip    98.3kB 83.2kB/s\n",
      "\u001b[1A\u001b[2K\u001b[1A\u001b[2KCollecting 3  records [================================================] 100% 3/3\n",
      "Downloading: thermus.zip    98.3kB 83.2kB/s\n",
      "\u001b[1A\u001b[2K\u001b[1A\u001b[2KCollecting 3  records [================================================] 100% 3/3\n",
      "Downloading: thermus.zip    98.3kB 83.2kB/s\n",
      "\u001b[1A\u001b[2K\u001b[1A\u001b[2KCollecting 3  records [================================================] 100% 3/3\n",
      "Downloading: thermus.zip    98.3kB 83.2kB/s\n",
      "\u001b[1A\u001b[2K\u001b[1A\u001b[2KCollecting 3  records [================================================] 100% 3/3\n",
      "Downloading: thermus.zip    98.3kB 83.2kB/s\n",
      "\u001b[1A\u001b[2K\u001b[1A\u001b[2KCollecting 3  records [================================================] 100% 3/3\n",
      "Downloading: thermus.zip    98.3kB 83.2kB/s\n",
      "\u001b[1A\u001b[2K\u001b[1A\u001b[2KCollecting 3  records [================================================] 100% 3/3\n",
      "Downloading: thermus.zip    98.3kB 83.2kB/s\n",
      "\u001b[1A\u001b[2K\u001b[1A\u001b[2KCollecting 3  records [================================================] 100% 3/3\n",
      "Downloading: thermus.zip    98.3kB 83.2kB/s\n",
      "\u001b[1A\u001b[2K\u001b[1A\u001b[2KCollecting 3  records [================================================] 100% 3/3\n",
      "Downloading: thermus.zip    98.3kB 83.2kB/s\n"
     ]
    },
    {
     "name": "stderr",
     "output_type": "stream",
     "text": [
      "\u001b[1A\u001b[2K\u001b[1A\u001b[2KCollecting 3  records [================================================] 100% 3/3\n",
      "Downloading: thermus.zip    98.3kB 83.2kB/s\n",
      "\u001b[1A\u001b[2K\u001b[1A\u001b[2KCollecting 3  records [================================================] 100% 3/3\n",
      "Downloading: thermus.zip    98.3kB 83.2kB/s\n",
      "\u001b[1A\u001b[2K\u001b[1A\u001b[2KCollecting 3  records [================================================] 100% 3/3\n",
      "Downloading: thermus.zip    164kB 118kB/s\n",
      "\u001b[1A\u001b[2K\u001b[1A\u001b[2KCollecting 3  records [================================================] 100% 3/3\n",
      "Downloading: thermus.zip    229kB 165kB/s\n",
      "\u001b[1A\u001b[2K\u001b[1A\u001b[2KCollecting 3  records [================================================] 100% 3/3\n",
      "Downloading: thermus.zip    229kB 165kB/s\n",
      "\u001b[1A\u001b[2K\u001b[1A\u001b[2KCollecting 3  records [================================================] 100% 3/3\n",
      "Downloading: thermus.zip    229kB 165kB/s\n",
      "\u001b[1A\u001b[2K\u001b[1A\u001b[2KCollecting 3  records [================================================] 100% 3/3\n",
      "Downloading: thermus.zip    229kB 165kB/s\n",
      "\u001b[1A\u001b[2K\u001b[1A\u001b[2KCollecting 3  records [================================================] 100% 3/3\n",
      "Downloading: thermus.zip    229kB 165kB/s\n",
      "\u001b[1A\u001b[2K\u001b[1A\u001b[2KCollecting 3  records [================================================] 100% 3/3\n",
      "Downloading: thermus.zip    229kB 165kB/s\n",
      "\u001b[1A\u001b[2K\u001b[1A\u001b[2KCollecting 3  records [================================================] 100% 3/3\n",
      "Downloading: thermus.zip    229kB 165kB/s\n",
      "\u001b[1A\u001b[2K\u001b[1A\u001b[2KCollecting 3  records [================================================] 100% 3/3\n",
      "Downloading: thermus.zip    229kB 165kB/s\n",
      "\u001b[1A\u001b[2K\u001b[1A\u001b[2KCollecting 3  records [================================================] 100% 3/3\n",
      "Downloading: thermus.zip    229kB 165kB/s\n",
      "\u001b[1A\u001b[2K\u001b[1A\u001b[2KCollecting 3  records [================================================] 100% 3/3\n",
      "Downloading: thermus.zip    229kB 165kB/s\n",
      "\u001b[1A\u001b[2K\u001b[1A\u001b[2KCollecting 3  records [================================================] 100% 3/3\n",
      "Downloading: thermus.zip    229kB 165kB/s\n",
      "\u001b[1A\u001b[2K\u001b[1A\u001b[2KCollecting 3  records [================================================] 100% 3/3\n",
      "Downloading: thermus.zip    229kB 165kB/s\n",
      "\u001b[1A\u001b[2K\u001b[1A\u001b[2KCollecting 3  records [================================================] 100% 3/3\n",
      "Downloading: thermus.zip    229kB 165kB/s\n",
      "\u001b[1A\u001b[2K\u001b[1A\u001b[2KCollecting 3  records [================================================] 100% 3/3\n",
      "Downloading: thermus.zip    229kB 165kB/s\n",
      "\u001b[1A\u001b[2K\u001b[1A\u001b[2KCollecting 3  records [================================================] 100% 3/3\n",
      "Downloading: thermus.zip    229kB 165kB/s\n",
      "\u001b[1A\u001b[2K\u001b[1A\u001b[2KCollecting 3  records [================================================] 100% 3/3\n",
      "Downloading: thermus.zip    229kB 165kB/s\n"
     ]
    },
    {
     "name": "stderr",
     "output_type": "stream",
     "text": [
      "\u001b[1A\u001b[2K\u001b[1A\u001b[2KCollecting 3  records [================================================] 100% 3/3\n",
      "Downloading: thermus.zip    229kB 165kB/s\n",
      "\u001b[1A\u001b[2K\u001b[1A\u001b[2KCollecting 3  records [================================================] 100% 3/3\n",
      "Downloading: thermus.zip    229kB 165kB/s\n",
      "\u001b[1A\u001b[2K\u001b[1A\u001b[2KCollecting 3  records [================================================] 100% 3/3\n",
      "Downloading: thermus.zip    229kB 165kB/s\n",
      "\u001b[1A\u001b[2K\u001b[1A\u001b[2KCollecting 3  records [================================================] 100% 3/3\n",
      "Downloading: thermus.zip    262kB 164kB/s\n",
      "\u001b[1A\u001b[2K\u001b[1A\u001b[2KCollecting 3  records [================================================] 100% 3/3\n",
      "Downloading: thermus.zip    426kB 265kB/s\n",
      "\u001b[1A\u001b[2K\u001b[1A\u001b[2KCollecting 3  records [================================================] 100% 3/3\n",
      "Downloading: thermus.zip    426kB 265kB/s\n",
      "\u001b[1A\u001b[2K\u001b[1A\u001b[2KCollecting 3  records [================================================] 100% 3/3\n",
      "Downloading: thermus.zip    426kB 265kB/s\n",
      "\u001b[1A\u001b[2K\u001b[1A\u001b[2KCollecting 3  records [================================================] 100% 3/3\n",
      "Downloading: thermus.zip    426kB 265kB/s\n",
      "\u001b[1A\u001b[2K\u001b[1A\u001b[2KCollecting 3  records [================================================] 100% 3/3\n",
      "Downloading: thermus.zip    426kB 265kB/s\n",
      "\u001b[1A\u001b[2K\u001b[1A\u001b[2KCollecting 3  records [================================================] 100% 3/3\n",
      "Downloading: thermus.zip    426kB 265kB/s\n",
      "\u001b[1A\u001b[2K\u001b[1A\u001b[2KCollecting 3  records [================================================] 100% 3/3\n",
      "Downloading: thermus.zip    426kB 265kB/s\n",
      "\u001b[1A\u001b[2K\u001b[1A\u001b[2KCollecting 3  records [================================================] 100% 3/3\n",
      "Downloading: thermus.zip    426kB 265kB/s\n",
      "\u001b[1A\u001b[2K\u001b[1A\u001b[2KCollecting 3  records [================================================] 100% 3/3\n",
      "Downloading: thermus.zip    426kB 265kB/s\n",
      "\u001b[1A\u001b[2K\u001b[1A\u001b[2KCollecting 3  records [================================================] 100% 3/3\n",
      "Downloading: thermus.zip    426kB 265kB/s\n",
      "\u001b[1A\u001b[2K\u001b[1A\u001b[2KCollecting 3  records [================================================] 100% 3/3\n",
      "Downloading: thermus.zip    426kB 265kB/s\n",
      "\u001b[1A\u001b[2K\u001b[1A\u001b[2KCollecting 3  records [================================================] 100% 3/3\n",
      "Downloading: thermus.zip    426kB 265kB/s\n",
      "\u001b[1A\u001b[2K\u001b[1A\u001b[2KCollecting 3  records [================================================] 100% 3/3\n",
      "Downloading: thermus.zip    426kB 265kB/s\n",
      "\u001b[1A\u001b[2K\u001b[1A\u001b[2KCollecting 3  records [================================================] 100% 3/3\n",
      "Downloading: thermus.zip    426kB 265kB/s\n",
      "\u001b[1A\u001b[2K\u001b[1A\u001b[2KCollecting 3  records [================================================] 100% 3/3\n",
      "Downloading: thermus.zip    426kB 265kB/s\n",
      "\u001b[1A\u001b[2K\u001b[1A\u001b[2KCollecting 3  records [================================================] 100% 3/3\n",
      "Downloading: thermus.zip    426kB 265kB/s\n"
     ]
    },
    {
     "name": "stderr",
     "output_type": "stream",
     "text": [
      "\u001b[1A\u001b[2K\u001b[1A\u001b[2KCollecting 3  records [================================================] 100% 3/3\n",
      "Downloading: thermus.zip    426kB 265kB/s\n",
      "\u001b[1A\u001b[2K\u001b[1A\u001b[2KCollecting 3  records [================================================] 100% 3/3\n",
      "Downloading: thermus.zip    426kB 265kB/s\n",
      "\u001b[1A\u001b[2K\u001b[1A\u001b[2KCollecting 3  records [================================================] 100% 3/3\n",
      "Downloading: thermus.zip    426kB 265kB/s\n",
      "\u001b[1A\u001b[2K\u001b[1A\u001b[2KCollecting 3  records [================================================] 100% 3/3\n",
      "Downloading: thermus.zip    786kB 434kB/s\n",
      "\u001b[1A\u001b[2K\u001b[1A\u001b[2KCollecting 3  records [================================================] 100% 3/3\n",
      "Downloading: thermus.zip    786kB 434kB/s\n",
      "\u001b[1A\u001b[2K\u001b[1A\u001b[2KCollecting 3  records [================================================] 100% 3/3\n",
      "Downloading: thermus.zip    786kB 434kB/s\n",
      "\u001b[1A\u001b[2K\u001b[1A\u001b[2KCollecting 3  records [================================================] 100% 3/3\n",
      "Downloading: thermus.zip    786kB 434kB/s\n",
      "\u001b[1A\u001b[2K\u001b[1A\u001b[2KCollecting 3  records [================================================] 100% 3/3\n",
      "Downloading: thermus.zip    786kB 434kB/s\n",
      "\u001b[1A\u001b[2K\u001b[1A\u001b[2KCollecting 3  records [================================================] 100% 3/3\n",
      "Downloading: thermus.zip    786kB 434kB/s\n",
      "\u001b[1A\u001b[2K\u001b[1A\u001b[2KCollecting 3  records [================================================] 100% 3/3\n",
      "Downloading: thermus.zip    786kB 434kB/s\n",
      "\u001b[1A\u001b[2K\u001b[1A\u001b[2KCollecting 3  records [================================================] 100% 3/3\n",
      "Downloading: thermus.zip    786kB 434kB/s\n",
      "\u001b[1A\u001b[2K\u001b[1A\u001b[2KCollecting 3  records [================================================] 100% 3/3\n",
      "Downloading: thermus.zip    786kB 434kB/s\n",
      "\u001b[1A\u001b[2K\u001b[1A\u001b[2KCollecting 3  records [================================================] 100% 3/3\n",
      "Downloading: thermus.zip    786kB 434kB/s\n",
      "\u001b[1A\u001b[2K\u001b[1A\u001b[2KCollecting 3  records [================================================] 100% 3/3\n",
      "Downloading: thermus.zip    786kB 434kB/s\n",
      "\u001b[1A\u001b[2K\u001b[1A\u001b[2KCollecting 3  records [================================================] 100% 3/3\n",
      "Downloading: thermus.zip    786kB 434kB/s\n",
      "\u001b[1A\u001b[2K\u001b[1A\u001b[2KCollecting 3  records [================================================] 100% 3/3\n",
      "Downloading: thermus.zip    786kB 434kB/s\n",
      "\u001b[1A\u001b[2K\u001b[1A\u001b[2KCollecting 3  records [================================================] 100% 3/3\n",
      "Downloading: thermus.zip    786kB 434kB/s\n",
      "\u001b[1A\u001b[2K\u001b[1A\u001b[2KCollecting 3  records [================================================] 100% 3/3\n",
      "Downloading: thermus.zip    1.02MB 518kB/s\n",
      "\u001b[1A\u001b[2K\u001b[1A\u001b[2KCollecting 3  records [================================================] 100% 3/3\n",
      "Downloading: thermus.zip    1.11MB 567kB/s\n",
      "\u001b[1A\u001b[2K\u001b[1A\u001b[2KCollecting 3  records [================================================] 100% 3/3\n",
      "Downloading: thermus.zip    1.11MB 567kB/s\n"
     ]
    },
    {
     "name": "stderr",
     "output_type": "stream",
     "text": [
      "\u001b[1A\u001b[2K\u001b[1A\u001b[2KCollecting 3  records [================================================] 100% 3/3\n",
      "Downloading: thermus.zip    1.11MB 567kB/s\n",
      "\u001b[1A\u001b[2K\u001b[1A\u001b[2KCollecting 3  records [================================================] 100% 3/3\n",
      "Downloading: thermus.zip    1.11MB 567kB/s\n",
      "\u001b[1A\u001b[2K\u001b[1A\u001b[2KCollecting 3  records [================================================] 100% 3/3\n",
      "Downloading: thermus.zip    1.11MB 567kB/s\n",
      "\u001b[1A\u001b[2K\u001b[1A\u001b[2KCollecting 3  records [================================================] 100% 3/3\n",
      "Downloading: thermus.zip    1.11MB 567kB/s\n",
      "\u001b[1A\u001b[2K\u001b[1A\u001b[2KCollecting 3  records [================================================] 100% 3/3\n",
      "Downloading: thermus.zip    1.11MB 567kB/s\n",
      "\u001b[1A\u001b[2K\u001b[1A\u001b[2KCollecting 3  records [================================================] 100% 3/3\n",
      "Downloading: thermus.zip    1.11MB 567kB/s\n",
      "\u001b[1A\u001b[2K\u001b[1A\u001b[2KCollecting 3  records [================================================] 100% 3/3\n",
      "Downloading: thermus.zip    1.11MB 567kB/s\n",
      "\u001b[1A\u001b[2K\u001b[1A\u001b[2KCollecting 3  records [================================================] 100% 3/3\n",
      "Downloading: thermus.zip    1.11MB 567kB/s\n",
      "\u001b[1A\u001b[2K\u001b[1A\u001b[2KCollecting 3  records [================================================] 100% 3/3\n",
      "Downloading: thermus.zip    1.11MB 567kB/s\n",
      "\u001b[1A\u001b[2K\u001b[1A\u001b[2KCollecting 3  records [================================================] 100% 3/3\n",
      "Downloading: thermus.zip    1.11MB 567kB/s\n",
      "\u001b[1A\u001b[2K\u001b[1A\u001b[2KCollecting 3  records [================================================] 100% 3/3\n",
      "Downloading: thermus.zip    1.11MB 567kB/s\n",
      "\u001b[1A\u001b[2K\u001b[1A\u001b[2KCollecting 3  records [================================================] 100% 3/3\n",
      "Downloading: thermus.zip    1.11MB 567kB/s\n",
      "\u001b[1A\u001b[2K\u001b[1A\u001b[2KCollecting 3  records [================================================] 100% 3/3\n",
      "Downloading: thermus.zip    1.11MB 567kB/s\n",
      "\u001b[1A\u001b[2K\u001b[1A\u001b[2KCollecting 3  records [================================================] 100% 3/3\n",
      "Downloading: thermus.zip    1.31MB 616kB/s\n",
      "\u001b[1A\u001b[2K\u001b[1A\u001b[2KCollecting 3  records [================================================] 100% 3/3\n",
      "Downloading: thermus.zip    1.47MB 690kB/s\n",
      "\u001b[1A\u001b[2K\u001b[1A\u001b[2KCollecting 3  records [================================================] 100% 3/3\n",
      "Downloading: thermus.zip    1.47MB 690kB/s\n",
      "\u001b[1A\u001b[2K\u001b[1A\u001b[2KCollecting 3  records [================================================] 100% 3/3\n",
      "Downloading: thermus.zip    1.47MB 690kB/s\n",
      "\u001b[1A\u001b[2K\u001b[1A\u001b[2KCollecting 3  records [================================================] 100% 3/3\n",
      "Downloading: thermus.zip    1.47MB 690kB/s\n",
      "\u001b[1A\u001b[2K\u001b[1A\u001b[2KCollecting 3  records [================================================] 100% 3/3\n",
      "Downloading: thermus.zip    1.47MB 690kB/s\n",
      "\u001b[1A\u001b[2K\u001b[1A\u001b[2KCollecting 3  records [================================================] 100% 3/3\n",
      "Downloading: thermus.zip    1.47MB 690kB/s\n"
     ]
    },
    {
     "name": "stderr",
     "output_type": "stream",
     "text": [
      "\u001b[1A\u001b[2K\u001b[1A\u001b[2KCollecting 3  records [================================================] 100% 3/3\n",
      "Downloading: thermus.zip    1.47MB 690kB/s\n",
      "\u001b[1A\u001b[2K\u001b[1A\u001b[2KCollecting 3  records [================================================] 100% 3/3\n",
      "Downloading: thermus.zip    1.47MB 690kB/s\n",
      "\u001b[1A\u001b[2K\u001b[1A\u001b[2KCollecting 3  records [================================================] 100% 3/3\n",
      "Downloading: thermus.zip    1.47MB 690kB/s\n",
      "\u001b[1A\u001b[2K\u001b[1A\u001b[2KCollecting 3  records [================================================] 100% 3/3\n",
      "Downloading: thermus.zip    1.47MB 690kB/s\n",
      "\u001b[1A\u001b[2K\u001b[1A\u001b[2KCollecting 3  records [================================================] 100% 3/3\n",
      "Downloading: thermus.zip    1.47MB 690kB/s\n",
      "\u001b[1A\u001b[2K\u001b[1A\u001b[2KCollecting 3  records [================================================] 100% 3/3\n",
      "Downloading: thermus.zip    1.47MB 690kB/s\n",
      "\u001b[1A\u001b[2K\u001b[1A\u001b[2KCollecting 3  records [================================================] 100% 3/3\n",
      "Downloading: thermus.zip    1.47MB 690kB/s\n",
      "\u001b[1A\u001b[2K\u001b[1A\u001b[2KCollecting 3  records [================================================] 100% 3/3\n",
      "Downloading: thermus.zip    1.47MB 690kB/s\n",
      "\u001b[1A\u001b[2K\u001b[1A\u001b[2KCollecting 3  records [================================================] 100% 3/3\n",
      "Downloading: thermus.zip    1.47MB 690kB/s\n",
      "\u001b[1A\u001b[2K\u001b[1A\u001b[2KCollecting 3  records [================================================] 100% 3/3\n",
      "Downloading: thermus.zip    1.47MB 690kB/s\n",
      "\u001b[1A\u001b[2K\u001b[1A\u001b[2KCollecting 3  records [================================================] 100% 3/3\n",
      "Downloading: thermus.zip    1.47MB 690kB/s\n",
      "\u001b[1A\u001b[2K\u001b[1A\u001b[2KCollecting 3  records [================================================] 100% 3/3\n",
      "Downloading: thermus.zip    1.47MB 690kB/s\n",
      "\u001b[1A\u001b[2K\u001b[1A\u001b[2KCollecting 3  records [================================================] 100% 3/3\n",
      "Downloading: thermus.zip    1.54MB 661kB/s\n",
      "\u001b[1A\u001b[2K\u001b[1A\u001b[2KCollecting 3  records [================================================] 100% 3/3\n",
      "Downloading: thermus.zip    1.77MB 756kB/s\n",
      "\u001b[1A\u001b[2K\u001b[1A\u001b[2KCollecting 3  records [================================================] 100% 3/3\n",
      "Downloading: thermus.zip    1.87MB 797kB/s\n",
      "\u001b[1A\u001b[2K\u001b[1A\u001b[2KCollecting 3  records [================================================] 100% 3/3\n",
      "Downloading: thermus.zip    1.87MB 797kB/s\n",
      "\u001b[1A\u001b[2K\u001b[1A\u001b[2KCollecting 3  records [================================================] 100% 3/3\n",
      "Downloading: thermus.zip    1.87MB 797kB/s\n",
      "\u001b[1A\u001b[2K\u001b[1A\u001b[2KCollecting 3  records [================================================] 100% 3/3\n",
      "Downloading: thermus.zip    1.87MB 797kB/s\n",
      "\u001b[1A\u001b[2K\u001b[1A\u001b[2KCollecting 3  records [================================================] 100% 3/3\n",
      "Downloading: thermus.zip    1.87MB 797kB/s\n",
      "\u001b[1A\u001b[2K\u001b[1A\u001b[2KCollecting 3  records [================================================] 100% 3/3\n",
      "Downloading: thermus.zip    1.87MB 797kB/s\n"
     ]
    },
    {
     "name": "stderr",
     "output_type": "stream",
     "text": [
      "\u001b[1A\u001b[2K\u001b[1A\u001b[2KCollecting 3  records [================================================] 100% 3/3\n",
      "Downloading: thermus.zip    1.87MB 797kB/s\n",
      "\u001b[1A\u001b[2K\u001b[1A\u001b[2KCollecting 3  records [================================================] 100% 3/3\n",
      "Downloading: thermus.zip    1.87MB 797kB/s\n",
      "\u001b[1A\u001b[2K\u001b[1A\u001b[2KCollecting 3  records [================================================] 100% 3/3\n",
      "Downloading: thermus.zip    1.87MB 797kB/s\n",
      "\u001b[1A\u001b[2K\u001b[1A\u001b[2KCollecting 3  records [================================================] 100% 3/3\n",
      "Downloading: thermus.zip    1.87MB 797kB/s\n",
      "\u001b[1A\u001b[2K\u001b[1A\u001b[2KCollecting 3  records [================================================] 100% 3/3\n",
      "Downloading: thermus.zip    1.87MB 797kB/s\n",
      "\u001b[1A\u001b[2K\u001b[1A\u001b[2KCollecting 3  records [================================================] 100% 3/3\n",
      "Downloading: thermus.zip    1.87MB 797kB/s\n",
      "\u001b[1A\u001b[2K\u001b[1A\u001b[2KCollecting 3  records [================================================] 100% 3/3\n",
      "Downloading: thermus.zip    1.87MB 797kB/s\n",
      "\u001b[1A\u001b[2K\u001b[1A\u001b[2KCollecting 3  records [================================================] 100% 3/3\n",
      "Downloading: thermus.zip    1.87MB 797kB/s\n",
      "\u001b[1A\u001b[2K\u001b[1A\u001b[2KCollecting 3  records [================================================] 100% 3/3\n",
      "Downloading: thermus.zip    1.87MB 797kB/s\n",
      "\u001b[1A\u001b[2K\u001b[1A\u001b[2KCollecting 3  records [================================================] 100% 3/3\n",
      "Downloading: thermus.zip    1.87MB 797kB/s\n",
      "\u001b[1A\u001b[2K\u001b[1A\u001b[2KCollecting 3  records [================================================] 100% 3/3\n",
      "Downloading: thermus.zip    1.87MB 797kB/s\n",
      "\u001b[1A\u001b[2K\u001b[1A\u001b[2KCollecting 3  records [================================================] 100% 3/3\n",
      "Downloading: thermus.zip    1.87MB 797kB/s\n",
      "\u001b[1A\u001b[2K\u001b[1A\u001b[2KCollecting 3  records [================================================] 100% 3/3\n",
      "Downloading: thermus.zip    1.93MB 761kB/s\n",
      "\u001b[1A\u001b[2K\u001b[1A\u001b[2KCollecting 3  records [================================================] 100% 3/3\n",
      "Downloading: thermus.zip    2.13MB 835kB/s\n",
      "\u001b[1A\u001b[2K\u001b[1A\u001b[2KCollecting 3  records [================================================] 100% 3/3\n",
      "Downloading: thermus.zip    2.23MB 872kB/s\n",
      "\u001b[1A\u001b[2K\u001b[1A\u001b[2KCollecting 3  records [================================================] 100% 3/3\n",
      "Downloading: thermus.zip    2.23MB 872kB/s\n",
      "\u001b[1A\u001b[2K\u001b[1A\u001b[2KCollecting 3  records [================================================] 100% 3/3\n",
      "Downloading: thermus.zip    2.23MB 872kB/s\n",
      "\u001b[1A\u001b[2K\u001b[1A\u001b[2KCollecting 3  records [================================================] 100% 3/3\n",
      "Downloading: thermus.zip    2.23MB 872kB/s\n",
      "\u001b[1A\u001b[2K\u001b[1A\u001b[2KCollecting 3  records [================================================] 100% 3/3\n",
      "Downloading: thermus.zip    2.23MB 872kB/s\n",
      "\u001b[1A\u001b[2K\u001b[1A\u001b[2KCollecting 3  records [================================================] 100% 3/3\n",
      "Downloading: thermus.zip    2.23MB 872kB/s\n"
     ]
    },
    {
     "name": "stderr",
     "output_type": "stream",
     "text": [
      "\u001b[1A\u001b[2K\u001b[1A\u001b[2KCollecting 3  records [================================================] 100% 3/3\n",
      "Downloading: thermus.zip    2.23MB 872kB/s\n",
      "\u001b[1A\u001b[2K\u001b[1A\u001b[2KCollecting 3  records [================================================] 100% 3/3\n",
      "Downloading: thermus.zip    2.23MB 872kB/s\n",
      "\u001b[1A\u001b[2K\u001b[1A\u001b[2KCollecting 3  records [================================================] 100% 3/3\n",
      "Downloading: thermus.zip    2.23MB 872kB/s\n",
      "\u001b[1A\u001b[2K\u001b[1A\u001b[2KCollecting 3  records [================================================] 100% 3/3\n",
      "Downloading: thermus.zip    2.23MB 872kB/s\n",
      "\u001b[1A\u001b[2K\u001b[1A\u001b[2KCollecting 3  records [================================================] 100% 3/3\n",
      "Downloading: thermus.zip    2.23MB 872kB/s\n",
      "\u001b[1A\u001b[2K\u001b[1A\u001b[2KCollecting 3  records [================================================] 100% 3/3\n",
      "Downloading: thermus.zip    2.23MB 872kB/s\n",
      "\u001b[1A\u001b[2K\u001b[1A\u001b[2KCollecting 3  records [================================================] 100% 3/3\n",
      "Downloading: thermus.zip    2.23MB 872kB/s\n",
      "\u001b[1A\u001b[2K\u001b[1A\u001b[2KCollecting 3  records [================================================] 100% 3/3\n",
      "Downloading: thermus.zip    2.23MB 872kB/s\n",
      "\u001b[1A\u001b[2K\u001b[1A\u001b[2KCollecting 3  records [================================================] 100% 3/3\n",
      "Downloading: thermus.zip    2.23MB 872kB/s\n",
      "\u001b[1A\u001b[2K\u001b[1A\u001b[2KCollecting 3  records [================================================] 100% 3/3\n",
      "Downloading: thermus.zip    2.23MB 872kB/s\n",
      "\u001b[1A\u001b[2K\u001b[1A\u001b[2KCollecting 3  records [================================================] 100% 3/3\n",
      "Downloading: thermus.zip    2.23MB 872kB/s\n",
      "\u001b[1A\u001b[2K\u001b[1A\u001b[2KCollecting 3  records [================================================] 100% 3/3\n",
      "Downloading: thermus.zip    2.23MB 872kB/s\n",
      "\u001b[1A\u001b[2K\u001b[1A\u001b[2KCollecting 3  records [================================================] 100% 3/3\n",
      "Downloading: thermus.zip    2.23MB 872kB/s\n",
      "\u001b[1A\u001b[2K\u001b[1A\u001b[2KCollecting 3  records [================================================] 100% 3/3\n",
      "Downloading: thermus.zip    2.33MB 843kB/s\n",
      "\u001b[1A\u001b[2K\u001b[1A\u001b[2KCollecting 3  records [================================================] 100% 3/3\n",
      "Downloading: thermus.zip    2.59MB 934kB/s\n",
      "\u001b[1A\u001b[2K\u001b[1A\u001b[2KCollecting 3  records [================================================] 100% 3/3\n",
      "Downloading: thermus.zip    2.59MB 934kB/s\n",
      "\u001b[1A\u001b[2K\u001b[1A\u001b[2KCollecting 3  records [================================================] 100% 3/3\n",
      "Downloading: thermus.zip    2.59MB 934kB/s\n",
      "\u001b[1A\u001b[2K\u001b[1A\u001b[2KCollecting 3  records [================================================] 100% 3/3\n",
      "Downloading: thermus.zip    2.59MB 934kB/s\n",
      "\u001b[1A\u001b[2K\u001b[1A\u001b[2KCollecting 3  records [================================================] 100% 3/3\n",
      "Downloading: thermus.zip    2.59MB 934kB/s\n",
      "\u001b[1A\u001b[2K\u001b[1A\u001b[2KCollecting 3  records [================================================] 100% 3/3\n",
      "Downloading: thermus.zip    2.59MB 934kB/s\n"
     ]
    },
    {
     "name": "stderr",
     "output_type": "stream",
     "text": [
      "\u001b[1A\u001b[2K\u001b[1A\u001b[2KCollecting 3  records [================================================] 100% 3/3\n",
      "Downloading: thermus.zip    2.59MB 934kB/s\n",
      "\u001b[1A\u001b[2K\u001b[1A\u001b[2KCollecting 3  records [================================================] 100% 3/3\n",
      "Downloading: thermus.zip    2.59MB 934kB/s\n",
      "\u001b[1A\u001b[2K\u001b[1A\u001b[2KCollecting 3  records [================================================] 100% 3/3\n",
      "Downloading: thermus.zip    2.59MB 934kB/s\n",
      "\u001b[1A\u001b[2K\u001b[1A\u001b[2KCollecting 3  records [================================================] 100% 3/3\n",
      "Downloading: thermus.zip    2.59MB 934kB/s\n",
      "\u001b[1A\u001b[2K\u001b[1A\u001b[2KCollecting 3  records [================================================] 100% 3/3\n",
      "Downloading: thermus.zip    2.59MB 934kB/s\n",
      "\u001b[1A\u001b[2K\u001b[1A\u001b[2KCollecting 3  records [================================================] 100% 3/3\n",
      "Downloading: thermus.zip    2.59MB 934kB/s\n",
      "\u001b[1A\u001b[2K\u001b[1A\u001b[2KCollecting 3  records [================================================] 100% 3/3\n",
      "Downloading: thermus.zip    2.59MB 934kB/s\n",
      "\u001b[1A\u001b[2K\u001b[1A\u001b[2KCollecting 3  records [================================================] 100% 3/3\n",
      "Downloading: thermus.zip    2.59MB 934kB/s\n",
      "\u001b[1A\u001b[2K\u001b[1A\u001b[2KCollecting 3  records [================================================] 100% 3/3\n",
      "Downloading: thermus.zip    2.59MB 934kB/s\n",
      "\u001b[1A\u001b[2K\u001b[1A\u001b[2KCollecting 3  records [================================================] 100% 3/3\n",
      "Downloading: thermus.zip    2.59MB 934kB/s\n",
      "\u001b[1A\u001b[2K\u001b[1A\u001b[2KCollecting 3  records [================================================] 100% 3/3\n",
      "Downloading: thermus.zip    2.59MB 934kB/s\n",
      "\u001b[1A\u001b[2K\u001b[1A\u001b[2KCollecting 3  records [================================================] 100% 3/3\n",
      "Downloading: thermus.zip    2.59MB 934kB/s\n",
      "\u001b[1A\u001b[2K\u001b[1A\u001b[2KCollecting 3  records [================================================] 100% 3/3\n",
      "Downloading: thermus.zip    2.72MB 918kB/s\n",
      "\u001b[1A\u001b[2K\u001b[1A\u001b[2KCollecting 3  records [================================================] 100% 3/3\n",
      "Downloading: thermus.zip    2.88MB 971kB/s\n",
      "\u001b[1A\u001b[2K\u001b[1A\u001b[2KCollecting 3  records [================================================] 100% 3/3\n",
      "Downloading: thermus.zip    2.95MB 992kB/s\n",
      "\u001b[1A\u001b[2K\u001b[1A\u001b[2KCollecting 3  records [================================================] 100% 3/3\n",
      "Downloading: thermus.zip    2.95MB 992kB/s\n",
      "\u001b[1A\u001b[2K\u001b[1A\u001b[2KCollecting 3  records [================================================] 100% 3/3\n",
      "Downloading: thermus.zip    2.95MB 992kB/s\n",
      "\u001b[1A\u001b[2K\u001b[1A\u001b[2KCollecting 3  records [================================================] 100% 3/3\n",
      "Downloading: thermus.zip    2.95MB 992kB/s\n",
      "\u001b[1A\u001b[2K\u001b[1A\u001b[2KCollecting 3  records [================================================] 100% 3/3\n",
      "Downloading: thermus.zip    2.95MB 992kB/s\n",
      "\u001b[1A\u001b[2K\u001b[1A\u001b[2KCollecting 3  records [================================================] 100% 3/3\n",
      "Downloading: thermus.zip    2.95MB 992kB/s\n"
     ]
    },
    {
     "name": "stderr",
     "output_type": "stream",
     "text": [
      "\u001b[1A\u001b[2K\u001b[1A\u001b[2KCollecting 3  records [================================================] 100% 3/3\n",
      "Downloading: thermus.zip    2.95MB 992kB/s\n",
      "\u001b[1A\u001b[2K\u001b[1A\u001b[2KCollecting 3  records [================================================] 100% 3/3\n",
      "Downloading: thermus.zip    2.95MB 992kB/s\n",
      "\u001b[1A\u001b[2K\u001b[1A\u001b[2KCollecting 3  records [================================================] 100% 3/3\n",
      "Downloading: thermus.zip    2.95MB 992kB/s\n",
      "\u001b[1A\u001b[2K\u001b[1A\u001b[2KCollecting 3  records [================================================] 100% 3/3\n",
      "Downloading: thermus.zip    2.95MB 992kB/s\n",
      "\u001b[1A\u001b[2K\u001b[1A\u001b[2KCollecting 3  records [================================================] 100% 3/3\n",
      "Downloading: thermus.zip    2.95MB 992kB/s\n",
      "\u001b[1A\u001b[2K\u001b[1A\u001b[2KCollecting 3  records [================================================] 100% 3/3\n",
      "Downloading: thermus.zip    2.95MB 992kB/s\n",
      "\u001b[1A\u001b[2K\u001b[1A\u001b[2KCollecting 3  records [================================================] 100% 3/3\n",
      "Downloading: thermus.zip    3.08MB 993kB/s\n",
      "\u001b[1A\u001b[2K\u001b[1A\u001b[2KCollecting 3  records [================================================] 100% 3/3\n",
      "Downloading: thermus.zip    3.24MB 1.04MB/s\n",
      "\u001b[1A\u001b[2K\u001b[1A\u001b[2KCollecting 3  records [================================================] 100% 3/3\n",
      "Downloading: thermus.zip    3.34MB 1.07MB/s\n",
      "\u001b[1A\u001b[2K\u001b[1A\u001b[2KCollecting 3  records [================================================] 100% 3/3\n",
      "Downloading: thermus.zip    3.34MB 1.07MB/s\n",
      "\u001b[1A\u001b[2K\u001b[1A\u001b[2KCollecting 3  records [================================================] 100% 3/3\n",
      "Downloading: thermus.zip    3.34MB 1.07MB/s\n",
      "\u001b[1A\u001b[2K\u001b[1A\u001b[2KCollecting 3  records [================================================] 100% 3/3\n",
      "Downloading: thermus.zip    3.34MB 1.07MB/s\n",
      "\u001b[1A\u001b[2K\u001b[1A\u001b[2KCollecting 3  records [================================================] 100% 3/3\n",
      "Downloading: thermus.zip    3.34MB 1.07MB/s\n",
      "\u001b[1A\u001b[2K\u001b[1A\u001b[2KCollecting 3  records [================================================] 100% 3/3\n",
      "Downloading: thermus.zip    3.34MB 1.07MB/s\n",
      "\u001b[1A\u001b[2K\u001b[1A\u001b[2KCollecting 3  records [================================================] 100% 3/3\n",
      "Downloading: thermus.zip    3.34MB 1.07MB/s\n",
      "\u001b[1A\u001b[2K\u001b[1A\u001b[2KCollecting 3  records [================================================] 100% 3/3\n",
      "Downloading: thermus.zip    3.34MB 1.07MB/s\n",
      "\u001b[1A\u001b[2K\u001b[1A\u001b[2KCollecting 3  records [================================================] 100% 3/3\n",
      "Downloading: thermus.zip    3.34MB 1.07MB/s\n",
      "\u001b[1A\u001b[2K\u001b[1A\u001b[2KCollecting 3  records [================================================] 100% 3/3\n",
      "Downloading: thermus.zip    3.34MB 1.07MB/s\n",
      "\u001b[1A\u001b[2K\u001b[1A\u001b[2KCollecting 3  records [================================================] 100% 3/3\n",
      "Downloading: thermus.zip    3.34MB 1.07MB/s\n",
      "\u001b[1A\u001b[2K\u001b[1A\u001b[2KCollecting 3  records [================================================] 100% 3/3\n",
      "Downloading: thermus.zip    3.34MB 1.07MB/s\n"
     ]
    },
    {
     "name": "stderr",
     "output_type": "stream",
     "text": [
      "\u001b[1A\u001b[2K\u001b[1A\u001b[2KCollecting 3  records [================================================] 100% 3/3\n",
      "Downloading: thermus.zip    3.47MB 1.07MB/s\n",
      "\u001b[1A\u001b[2K\u001b[1A\u001b[2KCollecting 3  records [================================================] 100% 3/3\n",
      "Downloading: thermus.zip    3.6MB 1.1MB/s\n",
      "\u001b[1A\u001b[2K\u001b[1A\u001b[2KCollecting 3  records [================================================] 100% 3/3\n",
      "Downloading: thermus.zip    3.7MB 1.13MB/s\n",
      "\u001b[1A\u001b[2K\u001b[1A\u001b[2KCollecting 3  records [================================================] 100% 3/3\n",
      "Downloading: thermus.zip    3.7MB 1.13MB/s\n",
      "\u001b[1A\u001b[2K\u001b[1A\u001b[2KCollecting 3  records [================================================] 100% 3/3\n",
      "Downloading: thermus.zip    3.7MB 1.13MB/s\n",
      "\u001b[1A\u001b[2K\u001b[1A\u001b[2KCollecting 3  records [================================================] 100% 3/3\n",
      "Downloading: thermus.zip    3.7MB 1.13MB/s\n",
      "\u001b[1A\u001b[2K\u001b[1A\u001b[2KCollecting 3  records [================================================] 100% 3/3\n",
      "Downloading: thermus.zip    3.7MB 1.13MB/s\n",
      "\u001b[1A\u001b[2K\u001b[1A\u001b[2KCollecting 3  records [================================================] 100% 3/3\n",
      "Downloading: thermus.zip    3.7MB 1.13MB/s\n",
      "\u001b[1A\u001b[2K\u001b[1A\u001b[2KCollecting 3  records [================================================] 100% 3/3\n",
      "Downloading: thermus.zip    3.7MB 1.13MB/s\n",
      "\u001b[1A\u001b[2K\u001b[1A\u001b[2KCollecting 3  records [================================================] 100% 3/3\n",
      "Downloading: thermus.zip    3.7MB 1.13MB/s\n",
      "\u001b[1A\u001b[2K\u001b[1A\u001b[2KCollecting 3  records [================================================] 100% 3/3\n",
      "Downloading: thermus.zip    3.7MB 1.13MB/s\n",
      "\u001b[1A\u001b[2K\u001b[1A\u001b[2KCollecting 3  records [================================================] 100% 3/3\n",
      "Downloading: thermus.zip    3.7MB 1.13MB/s\n",
      "\u001b[1A\u001b[2K\u001b[1A\u001b[2KCollecting 3  records [================================================] 100% 3/3\n",
      "Downloading: thermus.zip    3.7MB 1.13MB/s\n",
      "\u001b[1A\u001b[2K\u001b[1A\u001b[2KCollecting 3  records [================================================] 100% 3/3\n",
      "Downloading: thermus.zip    3.74MB 1.1MB/s\n",
      "\u001b[1A\u001b[2K\u001b[1A\u001b[2KCollecting 3  records [================================================] 100% 3/3\n",
      "Downloading: thermus.zip    3.9MB 1.15MB/s\n",
      "\u001b[1A\u001b[2K\u001b[1A\u001b[2KCollecting 3  records [================================================] 100% 3/3\n",
      "Downloading: thermus.zip    4.06MB 1.19MB/s\n",
      "\u001b[1A\u001b[2K\u001b[1A\u001b[2KCollecting 3  records [================================================] 100% 3/3\n",
      "Downloading: thermus.zip    4.06MB 1.19MB/s\n",
      "\u001b[1A\u001b[2K\u001b[1A\u001b[2KCollecting 3  records [================================================] 100% 3/3\n",
      "Downloading: thermus.zip    4.06MB 1.19MB/s\n",
      "\u001b[1A\u001b[2K\u001b[1A\u001b[2KCollecting 3  records [================================================] 100% 3/3\n",
      "Downloading: thermus.zip    4.06MB 1.19MB/s\n"
     ]
    },
    {
     "name": "stderr",
     "output_type": "stream",
     "text": [
      "\u001b[1A\u001b[2K\u001b[1A\u001b[2KCollecting 3  records [================================================] 100% 3/3\n",
      "Downloading: thermus.zip    4.06MB 1.19MB/s\n",
      "\u001b[1A\u001b[2K\u001b[1A\u001b[2KCollecting 3  records [================================================] 100% 3/3\n",
      "Downloading: thermus.zip    4.06MB 1.19MB/s\n",
      "\u001b[1A\u001b[2K\u001b[1A\u001b[2KCollecting 3  records [================================================] 100% 3/3\n",
      "Downloading: thermus.zip    4.06MB 1.19MB/s\n",
      "\u001b[1A\u001b[2K\u001b[1A\u001b[2KCollecting 3  records [================================================] 100% 3/3\n",
      "Downloading: thermus.zip    4.06MB 1.19MB/s\n",
      "\u001b[1A\u001b[2K\u001b[1A\u001b[2KCollecting 3  records [================================================] 100% 3/3\n",
      "Downloading: thermus.zip    4.06MB 1.19MB/s\n",
      "\u001b[1A\u001b[2K\u001b[1A\u001b[2KCollecting 3  records [================================================] 100% 3/3\n",
      "Downloading: thermus.zip    4.06MB 1.19MB/s\n",
      "\u001b[1A\u001b[2K\u001b[1A\u001b[2KCollecting 3  records [================================================] 100% 3/3\n",
      "Downloading: thermus.zip    4.06MB 1.19MB/s\n",
      "\u001b[1A\u001b[2K\u001b[1A\u001b[2KCollecting 3  records [================================================] 100% 3/3\n",
      "Downloading: thermus.zip    4.06MB 1.19MB/s\n",
      "\u001b[1A\u001b[2K\u001b[1A\u001b[2KCollecting 3  records [================================================] 100% 3/3\n",
      "Downloading: thermus.zip    4.29MB 1.21MB/s\n",
      "\u001b[1A\u001b[2K\u001b[1A\u001b[2KCollecting 3  records [================================================] 100% 3/3\n",
      "Downloading: thermus.zip    4.33MB 1.22MB/s\n",
      "\u001b[1A\u001b[2K\u001b[1A\u001b[2KCollecting 3  records [================================================] 100% 3/3\n",
      "Downloading: thermus.zip    4.46MB 1.25MB/s\n",
      "\u001b[1A\u001b[2K\u001b[1A\u001b[2KCollecting 3  records [================================================] 100% 3/3\n",
      "Downloading: thermus.zip    4.46MB 1.25MB/s\n",
      "\u001b[1A\u001b[2K\u001b[1A\u001b[2KCollecting 3  records [================================================] 100% 3/3\n",
      "Downloading: thermus.zip    4.46MB 1.25MB/s\n",
      "\u001b[1A\u001b[2K\u001b[1A\u001b[2KCollecting 3  records [================================================] 100% 3/3\n",
      "Downloading: thermus.zip    4.46MB 1.25MB/s\n",
      "\u001b[1A\u001b[2K\u001b[1A\u001b[2KCollecting 3  records [================================================] 100% 3/3\n",
      "Downloading: thermus.zip    4.46MB 1.25MB/s\n",
      "\u001b[1A\u001b[2K\u001b[1A\u001b[2KCollecting 3  records [================================================] 100% 3/3\n",
      "Downloading: thermus.zip    4.46MB 1.25MB/s\n",
      "\u001b[1A\u001b[2K\u001b[1A\u001b[2KCollecting 3  records [================================================] 100% 3/3\n",
      "Downloading: thermus.zip    4.46MB 1.25MB/s\n",
      "\u001b[1A\u001b[2K\u001b[1A\u001b[2KCollecting 3  records [================================================] 100% 3/3\n",
      "Downloading: thermus.zip    4.46MB 1.25MB/s\n",
      "\u001b[1A\u001b[2K\u001b[1A\u001b[2KCollecting 3  records [================================================] 100% 3/3\n",
      "Downloading: thermus.zip    4.46MB 1.25MB/s\n",
      "\u001b[1A\u001b[2K\u001b[1A\u001b[2KCollecting 3  records [================================================] 100% 3/3\n",
      "Downloading: thermus.zip    4.46MB 1.25MB/s\n"
     ]
    },
    {
     "name": "stderr",
     "output_type": "stream",
     "text": [
      "\u001b[1A\u001b[2K\u001b[1A\u001b[2KCollecting 3  records [================================================] 100% 3/3\n",
      "Downloading: thermus.zip    4.46MB 1.25MB/s\n",
      "\u001b[1A\u001b[2K\u001b[1A\u001b[2KCollecting 3  records [================================================] 100% 3/3\n",
      "Downloading: thermus.zip    4.46MB 1.25MB/s\n",
      "\u001b[1A\u001b[2K\u001b[1A\u001b[2KCollecting 3  records [================================================] 100% 3/3\n",
      "Downloading: thermus.zip    4.52MB 1.23MB/s\n",
      "\u001b[1A\u001b[2K\u001b[1A\u001b[2KCollecting 3  records [================================================] 100% 3/3\n",
      "Downloading: thermus.zip    4.72MB 1.27MB/s\n",
      "\u001b[1A\u001b[2K\u001b[1A\u001b[2KCollecting 3  records [================================================] 100% 3/3\n",
      "Downloading: thermus.zip    4.82MB 1.3MB/s\n",
      "\u001b[1A\u001b[2K\u001b[1A\u001b[2KCollecting 3  records [================================================] 100% 3/3\n",
      "Downloading: thermus.zip    4.82MB 1.3MB/s\n",
      "\u001b[1A\u001b[2K\u001b[1A\u001b[2KCollecting 3  records [================================================] 100% 3/3\n",
      "Downloading: thermus.zip    4.82MB 1.3MB/s\n",
      "\u001b[1A\u001b[2K\u001b[1A\u001b[2KCollecting 3  records [================================================] 100% 3/3\n",
      "Downloading: thermus.zip    4.82MB 1.3MB/s\n",
      "\u001b[1A\u001b[2K\u001b[1A\u001b[2KCollecting 3  records [================================================] 100% 3/3\n",
      "Downloading: thermus.zip    4.82MB 1.3MB/s\n",
      "\u001b[1A\u001b[2K\u001b[1A\u001b[2KCollecting 3  records [================================================] 100% 3/3\n",
      "Downloading: thermus.zip    4.82MB 1.3MB/s\n",
      "\u001b[1A\u001b[2K\u001b[1A\u001b[2KCollecting 3  records [================================================] 100% 3/3\n",
      "Downloading: thermus.zip    4.82MB 1.3MB/s\n",
      "\u001b[1A\u001b[2K\u001b[1A\u001b[2KCollecting 3  records [================================================] 100% 3/3\n",
      "Downloading: thermus.zip    4.82MB 1.3MB/s\n",
      "\u001b[1A\u001b[2K\u001b[1A\u001b[2KCollecting 3  records [================================================] 100% 3/3\n",
      "Downloading: thermus.zip    4.82MB 1.3MB/s\n",
      "\u001b[1A\u001b[2K\u001b[1A\u001b[2KCollecting 3  records [================================================] 100% 3/3\n",
      "Downloading: thermus.zip    4.82MB 1.3MB/s\n",
      "\u001b[1A\u001b[2K\u001b[1A\u001b[2KCollecting 3  records [================================================] 100% 3/3\n",
      "Downloading: thermus.zip    4.82MB 1.3MB/s\n",
      "\u001b[1A\u001b[2K\u001b[1A\u001b[2KCollecting 3  records [================================================] 100% 3/3\n",
      "Downloading: thermus.zip    4.85MB 1.27MB/s\n",
      "\u001b[1A\u001b[2K\u001b[1A\u001b[2KCollecting 3  records [================================================] 100% 3/3\n",
      "Downloading: thermus.zip    4.91MB done\n"
     ]
    },
    {
     "data": {
      "text/plain": [
       "CompletedProcess(args='ncbi-datasets download genome accession --include gbff --inputfile accession_list.txt --filename thermus.zip', returncode=0)"
      ]
     },
     "execution_count": 8,
     "metadata": {},
     "output_type": "execute_result"
    }
   ],
   "source": [
    "subprocess.run(f\"ncbi-datasets download genome accession --include gbff --inputfile accession_list.txt --filename {taxon_file}.zip\", shell=True)"
   ]
  },
  {
   "cell_type": "code",
   "execution_count": 9,
   "id": "c20c7e4d",
   "metadata": {
    "execution": {
     "iopub.execute_input": "2023-04-04T12:41:57.417554Z",
     "iopub.status.busy": "2023-04-04T12:41:57.417090Z",
     "iopub.status.idle": "2023-04-04T12:41:57.569602Z",
     "shell.execute_reply": "2023-04-04T12:41:57.568927Z"
    },
    "papermill": {
     "duration": 0.16978,
     "end_time": "2023-04-04T12:41:57.570817",
     "exception": false,
     "start_time": "2023-04-04T12:41:57.401037",
     "status": "completed"
    },
    "tags": []
   },
   "outputs": [
    {
     "name": "stdout",
     "output_type": "stream",
     "text": [
      "Archive:  thermus.zip\n",
      "  inflating: README.md               \n",
      "  inflating: ncbi_dataset/data/assembly_data_report.jsonl  \n",
      "  inflating: ncbi_dataset/data/GCA_001399775.1/genomic.gbff  \n",
      "  inflating: ncbi_dataset/data/GCA_018771645.1/genomic.gbff  \n",
      "  inflating: ncbi_dataset/data/GCA_028472205.1/genomic.gbff  \n",
      "  inflating: ncbi_dataset/data/dataset_catalog.json  \n"
     ]
    },
    {
     "data": {
      "text/plain": [
       "CompletedProcess(args='rm thermus.zip', returncode=0)"
      ]
     },
     "execution_count": 9,
     "metadata": {},
     "output_type": "execute_result"
    }
   ],
   "source": [
    "subprocess.run(f\"unzip {taxon_file}.zip\", shell=True)\n",
    "subprocess.run(f\"rm {taxon_file}.zip\"\"\", shell=True)"
   ]
  },
  {
   "cell_type": "code",
   "execution_count": 10,
   "id": "cf88561e",
   "metadata": {
    "execution": {
     "iopub.execute_input": "2023-04-04T12:41:57.582248Z",
     "iopub.status.busy": "2023-04-04T12:41:57.581981Z",
     "iopub.status.idle": "2023-04-04T12:41:57.593346Z",
     "shell.execute_reply": "2023-04-04T12:41:57.592806Z"
    },
    "papermill": {
     "duration": 0.018907,
     "end_time": "2023-04-04T12:41:57.594740",
     "exception": false,
     "start_time": "2023-04-04T12:41:57.575833",
     "status": "completed"
    },
    "tags": []
   },
   "outputs": [],
   "source": [
    "df = pd.read_table(\"info_table.tsv\", header=None)\n",
    "df.columns = ['Genome', 'Strain', 'Taxonomy Id', 'Sequence length', \"GC Percent (%)\", \"ContigN50\", \"Gene count\"]\n",
    "df.set_index(\"Genome\", inplace = True)\n",
    "df[\"rRNA\"]=np.nan\n",
    "df[\"tRNA\"]=np.nan"
   ]
  },
  {
   "cell_type": "code",
   "execution_count": 11,
   "id": "42ef1762",
   "metadata": {
    "execution": {
     "iopub.execute_input": "2023-04-04T12:41:57.606348Z",
     "iopub.status.busy": "2023-04-04T12:41:57.606162Z",
     "iopub.status.idle": "2023-04-04T12:41:57.747597Z",
     "shell.execute_reply": "2023-04-04T12:41:57.744445Z"
    },
    "papermill": {
     "duration": 0.154373,
     "end_time": "2023-04-04T12:41:57.753663",
     "exception": false,
     "start_time": "2023-04-04T12:41:57.599290",
     "status": "completed"
    },
    "tags": []
   },
   "outputs": [],
   "source": [
    "for i, row in df.iterrows():\n",
    "    os.chdir(pwd + f\"/ncbi_dataset/data/{i}\")\n",
    "    subprocess.run(f\"\"\"mv genomic.gbff {i}.gbff\"\"\", shell=True)\n",
    "    subprocess.run(f\"\"\"mv {i}.gbff {pwd}/annotated_genomes\"\"\", shell=True)\n",
    "os.chdir(pwd)\n",
    "!rm -r ncbi_dataset\n",
    "os.chdir(pwd + \"/annotated_genomes\")"
   ]
  },
  {
   "cell_type": "code",
   "execution_count": 12,
   "id": "5f664354",
   "metadata": {
    "execution": {
     "iopub.execute_input": "2023-04-04T12:41:57.791071Z",
     "iopub.status.busy": "2023-04-04T12:41:57.790192Z",
     "iopub.status.idle": "2023-04-04T12:41:59.674508Z",
     "shell.execute_reply": "2023-04-04T12:41:59.673874Z"
    },
    "papermill": {
     "duration": 1.90259,
     "end_time": "2023-04-04T12:41:59.675728",
     "exception": false,
     "start_time": "2023-04-04T12:41:57.773138",
     "status": "completed"
    },
    "tags": []
   },
   "outputs": [
    {
     "name": "stdout",
     "output_type": "stream",
     "text": [
      "  adding: GCA_001399775.1.gbff"
     ]
    },
    {
     "name": "stdout",
     "output_type": "stream",
     "text": [
      " (deflated 70%)\n",
      "  adding: GCA_018771645.1.gbff"
     ]
    },
    {
     "name": "stdout",
     "output_type": "stream",
     "text": [
      " (deflated 72%)\n",
      "  adding: GCA_028472205.1.gbff"
     ]
    },
    {
     "name": "stdout",
     "output_type": "stream",
     "text": [
      " (deflated 72%)\n"
     ]
    },
    {
     "data": {
      "text/plain": [
       "CompletedProcess(args='zip ../thermus.zip *.gbff', returncode=0)"
      ]
     },
     "execution_count": 12,
     "metadata": {},
     "output_type": "execute_result"
    }
   ],
   "source": [
    "subprocess.run(f\"\"\"zip ../{taxon_file}.zip *.gbff\"\"\", shell=True)"
   ]
  },
  {
   "cell_type": "code",
   "execution_count": 13,
   "id": "695e6d75",
   "metadata": {
    "execution": {
     "iopub.execute_input": "2023-04-04T12:41:59.688468Z",
     "iopub.status.busy": "2023-04-04T12:41:59.687761Z",
     "iopub.status.idle": "2023-04-04T12:41:59.741523Z",
     "shell.execute_reply": "2023-04-04T12:41:59.740954Z"
    },
    "papermill": {
     "duration": 0.061715,
     "end_time": "2023-04-04T12:41:59.742856",
     "exception": false,
     "start_time": "2023-04-04T12:41:59.681141",
     "status": "completed"
    },
    "tags": []
   },
   "outputs": [],
   "source": [
    "for i, row in df.iterrows():\n",
    "    p = subprocess.Popen(\"\"\"cat %s.gbff | grep rRNAs | head -1 | awk -F\":: \" '{ print $2}'\"\"\" %i, stdout=subprocess.PIPE, shell=True)\n",
    "    rRNA = p.stdout.read().decode('ascii').strip()\n",
    "    p = subprocess.Popen(\"\"\"cat %s.gbff | grep tRNAs | head -1 | awk -F\":: \" '{ print $2}'\"\"\" %i, stdout=subprocess.PIPE, shell=True)\n",
    "    tRNA = p.stdout.read().decode('ascii').strip()\n",
    "    df.at[i, \"rRNA\"] = rRNA\n",
    "    df.at[i, \"tRNA\"] = tRNA\n",
    "    df.Strain = df.Strain.astype(str)\n",
    "os.chdir(pwd)"
   ]
  },
  {
   "cell_type": "code",
   "execution_count": 14,
   "id": "f55f518c",
   "metadata": {
    "execution": {
     "iopub.execute_input": "2023-04-04T12:41:59.753499Z",
     "iopub.status.busy": "2023-04-04T12:41:59.753293Z",
     "iopub.status.idle": "2023-04-04T12:41:59.761837Z",
     "shell.execute_reply": "2023-04-04T12:41:59.761429Z"
    },
    "papermill": {
     "duration": 0.015293,
     "end_time": "2023-04-04T12:41:59.762949",
     "exception": false,
     "start_time": "2023-04-04T12:41:59.747656",
     "status": "completed"
    },
    "tags": []
   },
   "outputs": [
    {
     "data": {
      "text/html": [
       "<div>\n",
       "<style scoped>\n",
       "    .dataframe tbody tr th:only-of-type {\n",
       "        vertical-align: middle;\n",
       "    }\n",
       "\n",
       "    .dataframe tbody tr th {\n",
       "        vertical-align: top;\n",
       "    }\n",
       "\n",
       "    .dataframe thead th {\n",
       "        text-align: right;\n",
       "    }\n",
       "</style>\n",
       "<table border=\"1\" class=\"dataframe\">\n",
       "  <thead>\n",
       "    <tr style=\"text-align: right;\">\n",
       "      <th></th>\n",
       "      <th>Strain</th>\n",
       "      <th>Taxonomy Id</th>\n",
       "      <th>Sequence length</th>\n",
       "      <th>GC Percent (%)</th>\n",
       "      <th>ContigN50</th>\n",
       "      <th>Gene count</th>\n",
       "      <th>rRNA</th>\n",
       "      <th>tRNA</th>\n",
       "    </tr>\n",
       "    <tr>\n",
       "      <th>Genome</th>\n",
       "      <th></th>\n",
       "      <th></th>\n",
       "      <th></th>\n",
       "      <th></th>\n",
       "      <th></th>\n",
       "      <th></th>\n",
       "      <th></th>\n",
       "      <th></th>\n",
       "    </tr>\n",
       "  </thead>\n",
       "  <tbody>\n",
       "    <tr>\n",
       "      <th>GCA_018771645.1</th>\n",
       "      <td>nan</td>\n",
       "      <td>88190</td>\n",
       "      <td>2424424</td>\n",
       "      <td>1572819</td>\n",
       "      <td>2424424</td>\n",
       "      <td>2629</td>\n",
       "      <td>2, 2, 2 (5S, 16S, 23S)</td>\n",
       "      <td>49</td>\n",
       "    </tr>\n",
       "    <tr>\n",
       "      <th>GCA_028472205.1</th>\n",
       "      <td>JCM 19900</td>\n",
       "      <td>88190</td>\n",
       "      <td>2182439</td>\n",
       "      <td>1414793</td>\n",
       "      <td>2182439</td>\n",
       "      <td>2314</td>\n",
       "      <td>2, 2, 2 (5S, 16S, 23S)</td>\n",
       "      <td>47</td>\n",
       "    </tr>\n",
       "    <tr>\n",
       "      <th>GCA_001399775.1</th>\n",
       "      <td>Y51MC23</td>\n",
       "      <td>498848</td>\n",
       "      <td>2338641</td>\n",
       "      <td>1591138</td>\n",
       "      <td>2158963</td>\n",
       "      <td>2574</td>\n",
       "      <td></td>\n",
       "      <td></td>\n",
       "    </tr>\n",
       "  </tbody>\n",
       "</table>\n",
       "</div>"
      ],
      "text/plain": [
       "                    Strain  Taxonomy Id  Sequence length  GC Percent (%)  \\\n",
       "Genome                                                                     \n",
       "GCA_018771645.1        nan        88190          2424424         1572819   \n",
       "GCA_028472205.1  JCM 19900        88190          2182439         1414793   \n",
       "GCA_001399775.1    Y51MC23       498848          2338641         1591138   \n",
       "\n",
       "                 ContigN50  Gene count                    rRNA tRNA  \n",
       "Genome                                                               \n",
       "GCA_018771645.1    2424424        2629  2, 2, 2 (5S, 16S, 23S)   49  \n",
       "GCA_028472205.1    2182439        2314  2, 2, 2 (5S, 16S, 23S)   47  \n",
       "GCA_001399775.1    2158963        2574                               "
      ]
     },
     "execution_count": 14,
     "metadata": {},
     "output_type": "execute_result"
    }
   ],
   "source": [
    "df"
   ]
  },
  {
   "cell_type": "code",
   "execution_count": 15,
   "id": "05f03976",
   "metadata": {
    "execution": {
     "iopub.execute_input": "2023-04-04T12:41:59.773887Z",
     "iopub.status.busy": "2023-04-04T12:41:59.773696Z",
     "iopub.status.idle": "2023-04-04T12:42:03.495114Z",
     "shell.execute_reply": "2023-04-04T12:42:03.494355Z"
    },
    "papermill": {
     "duration": 3.728518,
     "end_time": "2023-04-04T12:42:03.496601",
     "exception": false,
     "start_time": "2023-04-04T12:41:59.768083",
     "status": "completed"
    },
    "tags": []
   },
   "outputs": [
    {
     "name": "stderr",
     "output_type": "stream",
     "text": [
      "/home/infosebi/.local/lib/python3.10/site-packages/pyspark/sql/pandas/conversion.py:474: FutureWarning: iteritems is deprecated and will be removed in a future version. Use .items instead.\n",
      "  for column, series in pdf.iteritems():\n",
      "/home/infosebi/.local/lib/python3.10/site-packages/pyspark/sql/pandas/conversion.py:486: FutureWarning: iteritems is deprecated and will be removed in a future version. Use .items instead.\n",
      "  for column, series in pdf.iteritems():\n"
     ]
    },
    {
     "name": "stderr",
     "output_type": "stream",
     "text": [
      "\r",
      "[Stage 0:>                                                          (0 + 1) / 1]\r"
     ]
    },
    {
     "name": "stderr",
     "output_type": "stream",
     "text": [
      "\r",
      "                                                                                \r"
     ]
    },
    {
     "name": "stdout",
     "output_type": "stream",
     "text": [
      "+---------------+---------+-----------+---------------+--------------+---------+----------+--------------------+----+\n",
      "|         Genome|   Strain|Taxonomy Id|Sequence length|GC Percent (%)|ContigN50|Gene count|                rRNA|tRNA|\n",
      "+---------------+---------+-----------+---------------+--------------+---------+----------+--------------------+----+\n",
      "|GCA_018771645.1|      nan|      88190|        2424424|       1572819|  2424424|      2629|2, 2, 2 (5S, 16S,...|  49|\n",
      "|GCA_028472205.1|JCM 19900|      88190|        2182439|       1414793|  2182439|      2314|2, 2, 2 (5S, 16S,...|  47|\n",
      "|GCA_001399775.1|  Y51MC23|     498848|        2338641|       1591138|  2158963|      2574|                    |    |\n",
      "+---------------+---------+-----------+---------------+--------------+---------+----------+--------------------+----+\n",
      "\n"
     ]
    }
   ],
   "source": [
    "df.reset_index(drop=False,inplace=True)\n",
    "sparkDF_info=spark.createDataFrame(df) \n",
    "sparkDF_info.show()"
   ]
  },
  {
   "cell_type": "code",
   "execution_count": 16,
   "id": "2239508b",
   "metadata": {
    "execution": {
     "iopub.execute_input": "2023-04-04T12:42:03.513767Z",
     "iopub.status.busy": "2023-04-04T12:42:03.513568Z",
     "iopub.status.idle": "2023-04-04T12:42:05.461185Z",
     "shell.execute_reply": "2023-04-04T12:42:05.460093Z"
    },
    "papermill": {
     "duration": 1.960543,
     "end_time": "2023-04-04T12:42:05.463182",
     "exception": false,
     "start_time": "2023-04-04T12:42:03.502639",
     "status": "completed"
    },
    "tags": []
   },
   "outputs": [
    {
     "name": "stdout",
     "output_type": "stream",
     "text": [
      "+----+-------+---------+--------------------+----------+\n",
      "|Name| Length|Start Pos|          Annotation|Complement|\n",
      "+----+-------+---------+--------------------+----------+\n",
      "|   -|2424424|        0|DUF1501 domain-co...|   reverse|\n",
      "|   -|   1122|       59|DUF1800 domain-co...|   reverse|\n",
      "|   -|    858|     1282|NAD(P)-dependent ...|   forward|\n",
      "|   -|   1336|     2339|IS256 family tran...|   forward|\n",
      "|   -|    726|     3875|amino acid ABC tr...|   reverse|\n",
      "|   -|    963|     4611|amino acid ABC tr...|   reverse|\n",
      "|   -|   1104|     5570|ABC transporter p...|   reverse|\n",
      "|   -|   1026|     6681|amino acid ABC tr...|   reverse|\n",
      "|tnpB|   1272|     8072|IS607 family elem...|   reverse|\n",
      "|   -|    576|     9334|IS607 family tran...|   reverse|\n",
      "|   -|   2817|    10014|hypothetical protein|   forward|\n",
      "|   -|    474|    13084|         transposase|   forward|\n",
      "|   -|    846|    13631|         transposase|   forward|\n",
      "|   -|    204|    14618|helix-turn-helix ...|   reverse|\n",
      "|   -|   1137|    14902|site-specific int...|   forward|\n",
      "|rpsB|    789|    16340|30S ribosomal pro...|   forward|\n",
      "| tsf|    591|    17125|translation elong...|   forward|\n",
      "|pyrH|    705|    17791|          UMP kinase|   forward|\n",
      "| frr|    558|    18506|ribosome recyclin...|   forward|\n",
      "|   -|    831|    19157|phosphatidate cyt...|   forward|\n",
      "+----+-------+---------+--------------------+----------+\n",
      "only showing top 20 rows\n",
      "\n"
     ]
    },
    {
     "name": "stdout",
     "output_type": "stream",
     "text": [
      "(7347, 5)\n"
     ]
    }
   ],
   "source": [
    "columns = StructType([StructField('Name', StringType(), False),\n",
    "                       StructField('Length', IntegerType(), False),\n",
    "                       StructField('Start Pos', IntegerType(), False),\n",
    "                       StructField('Annotation', StringType(), False),\n",
    "                       StructField('Complement', StringType(), False),])\n",
    "\n",
    "\n",
    "added_row=[]\n",
    "for row_iterator in sparkDF_info.collect():\n",
    "    file_path = pwd + f\"/annotated_genomes/{row_iterator['Genome']}.gbff\"\n",
    "    for gb_obj in SeqIO.parse(file_path,'genbank'):\n",
    "        all_cds = []\n",
    "        for feature in gb_obj.features:\n",
    "            if feature.type == \"CDS\":\n",
    "                all_cds.append(feature)\n",
    "        for cds in all_cds:\n",
    "            if 'gene' in cds.qualifiers:\n",
    "                gene = cds.qualifiers['gene'][0]\n",
    "            else:\n",
    "                gene = \"-\"\n",
    "            if 'product' in cds.qualifiers:\n",
    "                product = cds.qualifiers['product'][0]\n",
    "            else:\n",
    "                product = \"-\"\n",
    "            complement = \"forward\"\n",
    "            if cds.location.strand < 1:\n",
    "                complement = \"reverse\"\n",
    "            added_row.append([gene, cds.location.end-cds.location.start, int(cds.location.start) ,product, complement])\n",
    "sparkDF_cds = spark.createDataFrame(added_row, columns)\n",
    "sparkDF_cds.show()\n",
    "print((sparkDF_cds.count(), len(sparkDF_cds.columns)))\n",
    "#ec number, strain, species, go id, cog id, cazy, pfams, kegg pathway\n",
    "#java jar cluster zip"
   ]
  },
  {
   "cell_type": "code",
   "execution_count": 17,
   "id": "39b9b81e",
   "metadata": {
    "execution": {
     "iopub.execute_input": "2023-04-04T12:42:05.484757Z",
     "iopub.status.busy": "2023-04-04T12:42:05.484093Z",
     "iopub.status.idle": "2023-04-04T12:42:05.488329Z",
     "shell.execute_reply": "2023-04-04T12:42:05.487471Z"
    },
    "papermill": {
     "duration": 0.014607,
     "end_time": "2023-04-04T12:42:05.490392",
     "exception": false,
     "start_time": "2023-04-04T12:42:05.475785",
     "status": "completed"
    },
    "tags": []
   },
   "outputs": [],
   "source": [
    "#file_path = pwd + f\"/ncbi_dataset/GCA_000597845.1.gbff\"\n",
    "#gb_obj = SeqIO.read(file_path,'genbank')\n",
    "#all_cds=[]\n",
    "#for feature in gb_obj.features:\n",
    "#    if feature.type=='CDS':\n",
    "#        all_cds.append(feature)\n",
    "#os.chdir(pwd + \"/seq_files\")\n",
    "#\n",
    "#records = []\n",
    "#\n",
    "#for i in range(len(all_cds)):\n",
    "#    extracted_seq = all_cds[i].extract(gb_obj)\n",
    "#    records.append(extracted_seq)\n",
    "#\n",
    "#with open(\"proteins.fasta\", \"w\") as output:\n",
    "#    SeqIO.write(records,output,format=\"fasta\")\n",
    "\n",
    "\n",
    "#os.chdir(pwd)"
   ]
  },
  {
   "cell_type": "code",
   "execution_count": 18,
   "id": "12d49a1d",
   "metadata": {
    "execution": {
     "iopub.execute_input": "2023-04-04T12:42:05.505063Z",
     "iopub.status.busy": "2023-04-04T12:42:05.504855Z",
     "iopub.status.idle": "2023-04-04T12:42:14.800893Z",
     "shell.execute_reply": "2023-04-04T12:42:14.799572Z"
    },
    "papermill": {
     "duration": 9.306544,
     "end_time": "2023-04-04T12:42:14.803756",
     "exception": false,
     "start_time": "2023-04-04T12:42:05.497212",
     "status": "completed"
    },
    "scrolled": true,
    "tags": []
   },
   "outputs": [
    {
     "name": "stdout",
     "output_type": "stream",
     "text": [
      "# Input: .//GCA_028472205.1.gbff\r\n"
     ]
    },
    {
     "name": "stdout",
     "output_type": "stream",
     "text": [
      "# working on region:CP046617, Thermus antranikianii, Thermus antranikianii strain JCM 19900 chromosome, complete genome., 06-FEB-2023\r\n"
     ]
    },
    {
     "name": "stdout",
     "output_type": "stream",
     "text": [
      "# GFF3 saved to ../gff_files/GCA_028472205.1.gbff.gff\r\n"
     ]
    },
    {
     "name": "stdout",
     "output_type": "stream",
     "text": [
      "# Input: .//GCA_018771645.1.gbff\r\n"
     ]
    },
    {
     "name": "stdout",
     "output_type": "stream",
     "text": [
      "# working on region:CP076325, Thermus antranikianii, MAG: Thermus antranikianii isolate RBS10-92 chromosome, complete genome., 08-JUN-2021\r\n"
     ]
    },
    {
     "name": "stdout",
     "output_type": "stream",
     "text": [
      "# GFF3 saved to ../gff_files/GCA_018771645.1.gbff.gff\r\n"
     ]
    },
    {
     "name": "stdout",
     "output_type": "stream",
     "text": [
      "# Input: .//GCA_001399775.1.gbff\r\n"
     ]
    },
    {
     "name": "stdout",
     "output_type": "stream",
     "text": [
      "# working on region:CP010822, Thermus aquaticus Y51MC23, Thermus aquaticus Y51MC23, complete genome., 19-OCT-2015\r\n"
     ]
    },
    {
     "name": "stdout",
     "output_type": "stream",
     "text": [
      "# working on region:CP010823, Thermus aquaticus Y51MC23, Thermus aquaticus Y51MC23 plasmid pTA14, complete sequence., 19-OCT-2015\r\n"
     ]
    },
    {
     "name": "stdout",
     "output_type": "stream",
     "text": [
      "# working on region:CP010824, Thermus aquaticus Y51MC23, Thermus aquaticus Y51MC23 plasmid pTA16, complete sequence., 19-OCT-2015\r\n"
     ]
    },
    {
     "name": "stdout",
     "output_type": "stream",
     "text": [
      "# working on region:CP010825, Thermus aquaticus Y51MC23, Thermus aquaticus Y51MC23 plasmid pTA69, complete sequence., 19-OCT-2015\r\n"
     ]
    },
    {
     "name": "stdout",
     "output_type": "stream",
     "text": [
      "# working on region:CP010826, Thermus aquaticus Y51MC23, Thermus aquaticus Y51MC23 plasmid pTA78, complete sequence., 19-OCT-2015\r\n"
     ]
    },
    {
     "name": "stdout",
     "output_type": "stream",
     "text": [
      "# GFF3 saved to ../gff_files/GCA_001399775.1.gbff.gff\r\n"
     ]
    }
   ],
   "source": [
    "os.chdir(pwd + \"/annotated_genomes\")\n",
    "!bp_genbank2gff3 --dir ./ --outdir ../gff_files\n",
    "os.chdir(pwd + \"/gff_files\")\n",
    "!for a in *.gbff.gff; do mv -- \"$a\" \"${a%.gbff.gff}.gff\"; done\n",
    "os.chdir(pwd)"
   ]
  },
  {
   "cell_type": "code",
   "execution_count": 19,
   "id": "9c1dfc58",
   "metadata": {
    "execution": {
     "iopub.execute_input": "2023-04-04T12:42:14.820603Z",
     "iopub.status.busy": "2023-04-04T12:42:14.820182Z",
     "iopub.status.idle": "2023-04-04T12:43:52.416856Z",
     "shell.execute_reply": "2023-04-04T12:43:52.415683Z"
    },
    "papermill": {
     "duration": 97.606528,
     "end_time": "2023-04-04T12:43:52.419411",
     "exception": false,
     "start_time": "2023-04-04T12:42:14.812883",
     "status": "completed"
    },
    "tags": []
   },
   "outputs": [
    {
     "name": "stdout",
     "output_type": "stream",
     "text": [
      "Use of uninitialized value in require at /home/infosebi/.conda/envs/roary/lib/perl5/5.22.0/x86_64-linux-thread-multi/Encode.pm line 59.\r\n"
     ]
    },
    {
     "name": "stdout",
     "output_type": "stream",
     "text": [
      "\r\n",
      "Please cite Roary if you use any of the results it produces:\r\n",
      "    Andrew J. Page, Carla A. Cummins, Martin Hunt, Vanessa K. Wong, Sandra Reuter, Matthew T. G. Holden, Maria Fookes, Daniel Falush, Jacqueline A. Keane, Julian Parkhill,\r\n",
      "\t\"Roary: Rapid large-scale prokaryote pan genome analysis\", Bioinformatics, 2015 Nov 15;31(22):3691-3693\r\n",
      "    doi: http://doi.org/10.1093/bioinformatics/btv421\r\n",
      "\tPubmed: 26198102\r\n",
      "\r\n",
      "2023/04/04 12:42:15 Output directory created: gff_files/roary\r\n",
      "2023/04/04 12:42:15 Fixing input GFF files\r\n"
     ]
    },
    {
     "name": "stdout",
     "output_type": "stream",
     "text": [
      "2023/04/04 12:42:17 Input file contains duplicate gene IDs, attempting to fix by adding a unique suffix, new GFF in the fixed_input_files directory: /home/infosebi/Documents/Programmieren/MastersProject/thermus/gff_files/GCA_018771645.1.gff \r\n",
      "2023/04/04 12:42:17 Renamed GFF file from: /home/infosebi/Documents/Programmieren/MastersProject/thermus/gff_files/GCA_018771645.1.gff -> fixed_input_files/GCA_018771645.1.gff\r\n",
      "2023/04/04 12:42:17 Locus tag used is '1a7f36f5a39ec6a4fe158fba3bbbf404' for file: /home/infosebi/Documents/Programmieren/MastersProject/thermus/gff_files/GCA_018771645.1.gff\r\n"
     ]
    },
    {
     "name": "stdout",
     "output_type": "stream",
     "text": [
      "2023/04/04 12:42:17 Input file contains duplicate gene IDs, attempting to fix by adding a unique suffix, new GFF in the fixed_input_files directory: /home/infosebi/Documents/Programmieren/MastersProject/thermus/gff_files/GCA_028472205.1.gff \r\n",
      "2023/04/04 12:42:17 Renamed GFF file from: /home/infosebi/Documents/Programmieren/MastersProject/thermus/gff_files/GCA_028472205.1.gff -> fixed_input_files/GCA_028472205.1.gff\r\n",
      "2023/04/04 12:42:17 Locus tag used is '1147bcd2e8bc16dabca75e70b6a67ef2' for file: /home/infosebi/Documents/Programmieren/MastersProject/thermus/gff_files/GCA_028472205.1.gff\r\n"
     ]
    },
    {
     "name": "stdout",
     "output_type": "stream",
     "text": [
      "2023/04/04 12:42:17 Extracting proteins from GFF files\r\n",
      "Extracting proteins from /home/infosebi/Documents/Programmieren/MastersProject/thermus/gff_files/GCA_001399775.1.gff\r\n",
      "Extracting proteins from fixed_input_files/GCA_018771645.1.gff\r\n",
      "Extracting proteins from fixed_input_files/GCA_028472205.1.gff\r\n"
     ]
    },
    {
     "name": "stdout",
     "output_type": "stream",
     "text": [
      "Academic tradition requires you to cite works you base your article on.\r\n",
      "If you use programs that use GNU Parallel to process data for an article in a\r\n",
      "scientific publication, please cite:\r\n",
      "\r\n",
      "  Tange, O. (2023, January 22). GNU Parallel 20230122 ('Bolsonaristas').\r\n",
      "  Zenodo. https://doi.org/10.5281/zenodo.7558957\r\n",
      "\r\n",
      "This helps funding further development; AND IT WON'T COST YOU A CENT.\r\n",
      "If you pay 10000 EUR you should feel free to use GNU Parallel without citing.\r\n",
      "\r\n",
      "More about funding GNU Parallel and the citation notice:\r\n",
      "https://www.gnu.org/software/parallel/parallel_design.html#citation-notice\r\n",
      "\r\n",
      "To silence this citation notice: run 'parallel --citation' once.\r\n",
      "\r\n",
      "Come on: You have run parallel 94 times. Isn't it about time \r\n",
      "you run 'parallel --citation' once to silence the citation notice?\r\n",
      "\r\n"
     ]
    },
    {
     "name": "stdout",
     "output_type": "stream",
     "text": [
      "Combine proteins into a single file\r\n",
      "Iteratively run cd-hit\r\n"
     ]
    },
    {
     "name": "stdout",
     "output_type": "stream",
     "text": [
      "Academic tradition requires you to cite works you base your article on.\r\n",
      "If you use programs that use GNU Parallel to process data for an article in a\r\n",
      "scientific publication, please cite:\r\n",
      "\r\n",
      "  Tange, O. (2023, January 22). GNU Parallel 20230122 ('Bolsonaristas').\r\n",
      "  Zenodo. https://doi.org/10.5281/zenodo.7558957\r\n",
      "\r\n",
      "This helps funding further development; AND IT WON'T COST YOU A CENT.\r\n",
      "If you pay 10000 EUR you should feel free to use GNU Parallel without citing.\r\n",
      "\r\n",
      "More about funding GNU Parallel and the citation notice:\r\n",
      "https://www.gnu.org/software/parallel/parallel_design.html#citation-notice\r\n",
      "\r\n",
      "To silence this citation notice: run 'parallel --citation' once.\r\n",
      "\r\n",
      "Come on: You have run parallel 95 times. Isn't it about time \r\n",
      "you run 'parallel --citation' once to silence the citation notice?\r\n",
      "\r\n"
     ]
    },
    {
     "name": "stdout",
     "output_type": "stream",
     "text": [
      "Parallel all against all blast\r\n"
     ]
    },
    {
     "name": "stdout",
     "output_type": "stream",
     "text": [
      "Academic tradition requires you to cite works you base your article on.\r\n",
      "If you use programs that use GNU Parallel to process data for an article in a\r\n",
      "scientific publication, please cite:\r\n",
      "\r\n",
      "  Tange, O. (2023, January 22). GNU Parallel 20230122 ('Bolsonaristas').\r\n",
      "  Zenodo. https://doi.org/10.5281/zenodo.7558957\r\n",
      "\r\n",
      "This helps funding further development; AND IT WON'T COST YOU A CENT.\r\n",
      "If you pay 10000 EUR you should feel free to use GNU Parallel without citing.\r\n",
      "\r\n",
      "More about funding GNU Parallel and the citation notice:\r\n",
      "https://www.gnu.org/software/parallel/parallel_design.html#citation-notice\r\n",
      "\r\n",
      "To silence this citation notice: run 'parallel --citation' once.\r\n",
      "\r\n",
      "Come on: You have run parallel 96 times. Isn't it about time \r\n",
      "you run 'parallel --citation' once to silence the citation notice?\r\n",
      "\r\n"
     ]
    },
    {
     "name": "stdout",
     "output_type": "stream",
     "text": [
      "Academic tradition requires you to cite works you base your article on.\r\n",
      "If you use programs that use GNU Parallel to process data for an article in a\r\n",
      "scientific publication, please cite:\r\n",
      "\r\n",
      "  Tange, O. (2023, January 22). GNU Parallel 20230122 ('Bolsonaristas').\r\n",
      "  Zenodo. https://doi.org/10.5281/zenodo.7558957\r\n",
      "\r\n",
      "This helps funding further development; AND IT WON'T COST YOU A CENT.\r\n",
      "If you pay 10000 EUR you should feel free to use GNU Parallel without citing.\r\n",
      "\r\n",
      "More about funding GNU Parallel and the citation notice:\r\n",
      "https://www.gnu.org/software/parallel/parallel_design.html#citation-notice\r\n",
      "\r\n",
      "To silence this citation notice: run 'parallel --citation' once.\r\n",
      "\r\n",
      "Come on: You have run parallel 97 times. Isn't it about time \r\n",
      "you run 'parallel --citation' once to silence the citation notice?\r\n",
      "\r\n"
     ]
    },
    {
     "name": "stdout",
     "output_type": "stream",
     "text": [
      "Cluster with MCL\r\n"
     ]
    },
    {
     "name": "stdout",
     "output_type": "stream",
     "text": [
      "Academic tradition requires you to cite works you base your article on.\r\n",
      "If you use programs that use GNU Parallel to process data for an article in a\r\n",
      "scientific publication, please cite:\r\n",
      "\r\n",
      "  Tange, O. (2023, January 22). GNU Parallel 20230122 ('Bolsonaristas').\r\n",
      "  Zenodo. https://doi.org/10.5281/zenodo.7558957\r\n",
      "\r\n",
      "This helps funding further development; AND IT WON'T COST YOU A CENT.\r\n",
      "If you pay 10000 EUR you should feel free to use GNU Parallel without citing.\r\n",
      "\r\n",
      "More about funding GNU Parallel and the citation notice:\r\n",
      "https://www.gnu.org/software/parallel/parallel_design.html#citation-notice\r\n",
      "\r\n",
      "To silence this citation notice: run 'parallel --citation' once.\r\n",
      "\r\n",
      "Come on: You have run parallel 98 times. Isn't it about time \r\n",
      "you run 'parallel --citation' once to silence the citation notice?\r\n",
      "\r\n"
     ]
    },
    {
     "name": "stdout",
     "output_type": "stream",
     "text": [
      "2023/04/04 12:43:20 Running command: pan_genome_post_analysis -o clustered_proteins -p pan_genome.fa -s gene_presence_absence.csv -c _clustered.clstr --output_multifasta_files -i /home/infosebi/Documents/Programmieren/MastersProject/thermus/gff_files/roary/Soo0dQQHBK//_gff_files -f /home/infosebi/Documents/Programmieren/MastersProject/thermus/gff_files/roary/Soo0dQQHBK//_fasta_files -t 11  --dont_create_rplots   -v --mafft  -j Local --processors 8 --group_limit 50000 -cd 99\r\n"
     ]
    },
    {
     "name": "stdout",
     "output_type": "stream",
     "text": [
      "2023/04/04 12:43:21 Reinflate clusters\r\n"
     ]
    },
    {
     "name": "stdout",
     "output_type": "stream",
     "text": [
      "2023/04/04 12:43:21 Split groups with paralogs\r\n"
     ]
    },
    {
     "name": "stdout",
     "output_type": "stream",
     "text": [
      "2023/04/04 12:43:21 Labelling the groups\r\n",
      "2023/04/04 12:43:21 Transfering the annotation to the groups\r\n"
     ]
    },
    {
     "name": "stdout",
     "output_type": "stream",
     "text": [
      "2023/04/04 12:43:25 Creating accessory binary gene presence and absence fasta\r\n"
     ]
    },
    {
     "name": "stdout",
     "output_type": "stream",
     "text": [
      "2023/04/04 12:43:25 Creating accessory binary gene presence and absence tree\r\n",
      "2023/04/04 12:43:25 Running command: /home/infosebi/.conda/envs/roary/bin/FastTree -fastest -nt accessory_binary_genes.fa > accessory_binary_genes.fa.newick \r\n"
     ]
    },
    {
     "name": "stdout",
     "output_type": "stream",
     "text": [
      "FastTree Version 2.1.11 Double precision (No SSE3)\r\n",
      "Alignment: accessory_binary_genes.fa\r\n",
      "Nucleotide distances: Jukes-Cantor Joins: balanced Support: SH-like 1000\r\n",
      "Search: Fastest+2nd +NNI +SPR (2 rounds range 10) +ML-NNI opt-each=1\r\n",
      "TopHits: 1.00*sqrtN close=default refresh=0.50\r\n",
      "ML Model: Jukes-Cantor, CAT approximation with 20 rate categories\r\n",
      "Initial topology in 0.00 seconds\r\n",
      "Refining topology: 6 rounds ME-NNIs, 2 rounds ME-SPRs, 3 rounds ML-NNIs\r\n",
      "Total branch-length 3.005 after 0.00 sec\r\n",
      "ML-NNI round 1: LogLk = -5111.677 NNIs 0 max delta 0.00 Time 0.00\r\n",
      "Switched to using 20 rate categories (CAT approximation)\r\n",
      "Rate categories were divided by 0.625 so that average rate = 1.0\r\n",
      "CAT-based log-likelihoods may not be comparable across runs\r\n",
      "Use -gamma for approximate but comparable Gamma(20) log-likelihoods\r\n",
      "ML-NNI round 2: LogLk = -5106.379 NNIs 0 max delta 0.00 Time 0.00\r\n",
      "Turning off heuristics for final round of ML NNIs (converged)\r\n",
      "ML-NNI round 3: LogLk = -5106.379 NNIs 0 max delta 0.00 Time 0.00 (final)\r\n",
      "Optimize all lengths: LogLk = -5106.379 Time 0.00\r\n",
      "Total time: 0.02 seconds Unique: 3/3 Bad splits: 0/0\r\n"
     ]
    },
    {
     "name": "stdout",
     "output_type": "stream",
     "text": [
      "Aligning each cluster\r\n",
      "Use of uninitialized value in require at (eval 15090) line 1.\r\n",
      "2023/04/04 12:43:34 Running command: protein_alignment_from_nucleotides  -v  --mafft pan_genome_sequences/fusA.fa\r\n",
      "2023/04/04 12:43:34 Running command: protein_alignment_from_nucleotides  -v  --mafft pan_genome_sequences/map.fa\r\n",
      "2023/04/04 12:43:34 Running command: protein_alignment_from_nucleotides  -v  --mafft pan_genome_sequences/TO73_0085.fa\r\n",
      "2023/04/04 12:43:34 Running command: protein_alignment_from_nucleotides  -v  --mafft pan_genome_sequences/floA.fa\r\n",
      "2023/04/04 12:43:34 Running command: protein_alignment_from_nucleotides  -v  --mafft pan_genome_sequences/KNN15_05875.fa\r\n",
      "2023/04/04 12:43:34 Running command: protein_alignment_from_nucleotides  -v  --mafft pan_genome_sequences/erpA.fa\r\n",
      "2023/04/04 12:43:34 Running command: protein_alignment_from_nucleotides  -v  --mafft pan_genome_sequences/GO600_09470.fa\r\n",
      "2023/04/04 12:43:34 Running command: protein_alignment_from_nucleotides  -v  --mafft pan_genome_sequences/GO600_05325.fa\r\n",
      "2023/04/04 12:43:34 Running command: protein_alignment_from_nucleotides  -v  --mafft pan_genome_sequences/GO600_01915.fa\r\n",
      "2023/04/04 12:43:34 Running command: protein_alignment_from_nucleotides  -v  --mafft pan_genome_sequences/KNN15_11780.fa\r\n",
      "2023/04/04 12:43:34 Running command: protein_alignment_from_nucleotides  -v  --mafft pan_genome_sequences/rpsK.fa\r\n",
      "2023/04/04 12:43:34 Running command: protein_alignment_from_nucleotides  -v  --mafft pan_genome_sequences/nuoI.fa\r\n",
      "2023/04/04 12:43:34 Running command: protein_alignment_from_nucleotides  -v  --mafft pan_genome_sequences/mraZ.fa\r\n",
      "2023/04/04 12:43:34 Running command: protein_alignment_from_nucleotides  -v  --mafft pan_genome_sequences/rplB.fa\r\n",
      "2023/04/04 12:43:34 Running command: protein_alignment_from_nucleotides  -v  --mafft pan_genome_sequences/TO73_0622.fa\r\n",
      "2023/04/04 12:43:34 Running command: protein_alignment_from_nucleotides  -v  --mafft pan_genome_sequences/GO600_08745.fa\r\n",
      "2023/04/04 12:43:34 Running command: protein_alignment_from_nucleotides  -v  --mafft pan_genome_sequences/KNN15_05920.fa\r\n",
      "2023/04/04 12:43:34 Running command: protein_alignment_from_nucleotides  -v  --mafft pan_genome_sequences/TO73_1536.fa\r\n",
      "2023/04/04 12:43:34 Running command: protein_alignment_from_nucleotides  -v  --mafft pan_genome_sequences/TO73_1691.fa\r\n",
      "2023/04/04 12:43:34 Running command: protein_alignment_from_nucleotides  -v  --mafft pan_genome_sequences/rplM.fa\r\n",
      "2023/04/04 12:43:34 Running command: protein_alignment_from_nucleotides  -v  --mafft pan_genome_sequences/GO600_04460.fa\r\n",
      "2023/04/04 12:43:34 Running command: protein_alignment_from_nucleotides  -v  --mafft pan_genome_sequences/pdxS.fa\r\n",
      "2023/04/04 12:43:34 Running command: protein_alignment_from_nucleotides  -v  --mafft pan_genome_sequences/KNN15_09650.fa\r\n",
      "2023/04/04 12:43:34 Running command: protein_alignment_from_nucleotides  -v  --mafft pan_genome_sequences/GO600_07425.fa\r\n",
      "2023/04/04 12:43:34 Running command: protein_alignment_from_nucleotides  -v  --mafft pan_genome_sequences/rpsI.fa\r\n",
      "2023/04/04 12:43:34 Running command: protein_alignment_from_nucleotides  -v  --mafft pan_genome_sequences/groES.fa\r\n",
      "2023/04/04 12:43:34 Running command: protein_alignment_from_nucleotides  -v  --mafft pan_genome_sequences/TO73_0371.fa\r\n",
      "2023/04/04 12:43:34 Running command: protein_alignment_from_nucleotides  -v  --mafft pan_genome_sequences/TO73_1593.fa\r\n",
      "2023/04/04 12:43:34 Running command: protein_alignment_from_nucleotides  -v  --mafft pan_genome_sequences/clpP.fa\r\n",
      "2023/04/04 12:43:34 Running command: protein_alignment_from_nucleotides  -v  --mafft pan_genome_sequences/nusG.fa\r\n",
      "2023/04/04 12:43:34 Running command: protein_alignment_from_nucleotides  -v  --mafft pan_genome_sequences/TO73_1275.fa\r\n",
      "2023/04/04 12:43:34 Running command: protein_alignment_from_nucleotides  -v  --mafft pan_genome_sequences/KNN15_05310.fa\r\n",
      "2023/04/04 12:43:34 Running command: protein_alignment_from_nucleotides  -v  --mafft pan_genome_sequences/rpmJ.fa\r\n",
      "2023/04/04 12:43:34 Running command: protein_alignment_from_nucleotides  -v  --mafft pan_genome_sequences/GO600_02630.fa\r\n",
      "2023/04/04 12:43:34 Running command: protein_alignment_from_nucleotides  -v  --mafft pan_genome_sequences/TO73_0438.fa\r\n",
      "2023/04/04 12:43:34 Running command: protein_alignment_from_nucleotides  -v  --mafft pan_genome_sequences/GO600_05610.fa\r\n",
      "2023/04/04 12:43:34 Running command: protein_alignment_from_nucleotides  -v  --mafft pan_genome_sequences/GO600_11100.fa\r\n",
      "2023/04/04 12:43:34 Running command: protein_alignment_from_nucleotides  -v  --mafft pan_genome_sequences/rho.fa\r\n",
      "2023/04/04 12:43:34 Running command: protein_alignment_from_nucleotides  -v  --mafft pan_genome_sequences/KNN15_05400.fa\r\n",
      "2023/04/04 12:43:34 Running command: protein_alignment_from_nucleotides  -v  --mafft pan_genome_sequences/TO73_1823.fa\r\n",
      "2023/04/04 12:43:34 Running command: protein_alignment_from_nucleotides  -v  --mafft pan_genome_sequences/nuoK.fa\r\n",
      "2023/04/04 12:43:34 Running command: protein_alignment_from_nucleotides  -v  --mafft pan_genome_sequences/groL.fa\r\n",
      "2023/04/04 12:43:34 Running command: protein_alignment_from_nucleotides  -v  --mafft pan_genome_sequences/efp.fa\r\n",
      "2023/04/04 12:43:34 Running command: protein_alignment_from_nucleotides  -v  --mafft pan_genome_sequences/rpsR.fa\r\n",
      "2023/04/04 12:43:34 Running command: protein_alignment_from_nucleotides  -v  --mafft pan_genome_sequences/ilvN.fa\r\n",
      "2023/04/04 12:43:34 Running command: protein_alignment_from_nucleotides  -v  --mafft pan_genome_sequences/KNN15_10050.fa\r\n",
      "2023/04/04 12:43:34 Running command: protein_alignment_from_nucleotides  -v  --mafft pan_genome_sequences/rpsG.fa\r\n",
      "2023/04/04 12:43:34 Running command: protein_alignment_from_nucleotides  -v  --mafft pan_genome_sequences/GO600_10865.fa\r\n",
      "2023/04/04 12:43:34 Running command: protein_alignment_from_nucleotides  -v  --mafft pan_genome_sequences/GO600_08250.fa\r\n",
      "2023/04/04 12:43:34 Running command: protein_alignment_from_nucleotides  -v  --mafft pan_genome_sequences/aroH.fa\r\n",
      "2023/04/04 12:43:34 Running command: protein_alignment_from_nucleotides  -v  --mafft pan_genome_sequences/KNN15_00995.fa\r\n",
      "2023/04/04 12:43:34 Running command: protein_alignment_from_nucleotides  -v  --mafft pan_genome_sequences/recA.fa\r\n",
      "2023/04/04 12:43:34 Running command: protein_alignment_from_nucleotides  -v  --mafft pan_genome_sequences/GO600_07145.fa\r\n",
      "2023/04/04 12:43:34 Running command: protein_alignment_from_nucleotides  -v  --mafft pan_genome_sequences/rpsH.fa\r\n",
      "2023/04/04 12:43:34 Running command: protein_alignment_from_nucleotides  -v  --mafft pan_genome_sequences/metK.fa\r\n",
      "2023/04/04 12:43:34 Running command: protein_alignment_from_nucleotides  -v  --mafft pan_genome_sequences/GO600_10555.fa\r\n",
      "2023/04/04 12:43:34 Running command: protein_alignment_from_nucleotides  -v  --mafft pan_genome_sequences/rplP.fa\r\n",
      "2023/04/04 12:43:34 Running command: protein_alignment_from_nucleotides  -v  --mafft pan_genome_sequences/KNN15_05885.fa\r\n",
      "2023/04/04 12:43:34 Running command: protein_alignment_from_nucleotides  -v  --mafft pan_genome_sequences/GO600_03915.fa\r\n",
      "2023/04/04 12:43:34 Running command: protein_alignment_from_nucleotides  -v  --mafft pan_genome_sequences/rpsP.fa\r\n",
      "2023/04/04 12:43:34 Running command: protein_alignment_from_nucleotides  -v  --mafft pan_genome_sequences/TO73_0476.fa\r\n",
      "2023/04/04 12:43:34 Running command: protein_alignment_from_nucleotides  -v  --mafft pan_genome_sequences/TO73_2229.fa\r\n",
      "2023/04/04 12:43:34 Running command: protein_alignment_from_nucleotides  -v  --mafft pan_genome_sequences/greA.fa\r\n",
      "2023/04/04 12:43:34 Running command: protein_alignment_from_nucleotides  -v  --mafft pan_genome_sequences/rplK.fa\r\n",
      "2023/04/04 12:43:34 Running command: protein_alignment_from_nucleotides  -v  --mafft pan_genome_sequences/GO600_07725.fa\r\n",
      "2023/04/04 12:43:34 Running command: protein_alignment_from_nucleotides  -v  --mafft pan_genome_sequences/GO600_10765.fa\r\n",
      "2023/04/04 12:43:34 Running command: protein_alignment_from_nucleotides  -v  --mafft pan_genome_sequences/KNN15_07650.fa\r\n",
      "2023/04/04 12:43:34 Running command: protein_alignment_from_nucleotides  -v  --mafft pan_genome_sequences/rpmE.fa\r\n",
      "2023/04/04 12:43:34 Running command: protein_alignment_from_nucleotides  -v  --mafft pan_genome_sequences/KNN15_09235.fa\r\n",
      "2023/04/04 12:43:34 Running command: protein_alignment_from_nucleotides  -v  --mafft pan_genome_sequences/TO73_0481.fa\r\n",
      "2023/04/04 12:43:34 Running command: protein_alignment_from_nucleotides  -v  --mafft pan_genome_sequences/prs.fa\r\n",
      "2023/04/04 12:43:34 Running command: protein_alignment_from_nucleotides  -v  --mafft pan_genome_sequences/rpsJ.fa\r\n",
      "2023/04/04 12:43:34 Running command: protein_alignment_from_nucleotides  -v  --mafft pan_genome_sequences/KNN15_01350.fa\r\n",
      "2023/04/04 12:43:34 Running command: protein_alignment_from_nucleotides  -v  --mafft pan_genome_sequences/KNN15_05615.fa\r\n",
      "2023/04/04 12:43:34 Running command: protein_alignment_from_nucleotides  -v  --mafft pan_genome_sequences/rpsQ.fa\r\n",
      "2023/04/04 12:43:34 Running command: protein_alignment_from_nucleotides  -v  --mafft pan_genome_sequences/TO73_0320.fa\r\n",
      "2023/04/04 12:43:34 Running command: protein_alignment_from_nucleotides  -v  --mafft pan_genome_sequences/glpX.fa\r\n",
      "2023/04/04 12:43:34 Running command: protein_alignment_from_nucleotides  -v  --mafft pan_genome_sequences/GO600_09475.fa\r\n",
      "2023/04/04 12:43:34 Running command: protein_alignment_from_nucleotides  -v  --mafft pan_genome_sequences/sdhC.fa\r\n",
      "2023/04/04 12:43:34 Running command: protein_alignment_from_nucleotides  -v  --mafft pan_genome_sequences/GO600_02350.fa\r\n",
      "2023/04/04 12:43:34 Running command: protein_alignment_from_nucleotides  -v  --mafft pan_genome_sequences/miaB.fa\r\n",
      "2023/04/04 12:43:34 Running command: protein_alignment_from_nucleotides  -v  --mafft pan_genome_sequences/GO600_09110.fa\r\n",
      "2023/04/04 12:43:34 Running command: protein_alignment_from_nucleotides  -v  --mafft pan_genome_sequences/KNN15_05300.fa\r\n",
      "2023/04/04 12:43:34 Running command: protein_alignment_from_nucleotides  -v  --mafft pan_genome_sequences/KNN15_09875.fa\r\n",
      "2023/04/04 12:43:34 Running command: protein_alignment_from_nucleotides  -v  --mafft pan_genome_sequences/TO73_0042.fa\r\n",
      "2023/04/04 12:43:34 Running command: protein_alignment_from_nucleotides  -v  --mafft pan_genome_sequences/rpsS.fa\r\n",
      "2023/04/04 12:43:34 Running command: protein_alignment_from_nucleotides  -v  --mafft pan_genome_sequences/sufC.fa\r\n",
      "2023/04/04 12:43:34 Running command: protein_alignment_from_nucleotides  -v  --mafft pan_genome_sequences/rpmG.fa\r\n",
      "2023/04/04 12:43:34 Running command: protein_alignment_from_nucleotides  -v  --mafft pan_genome_sequences/infA.fa\r\n",
      "2023/04/04 12:43:34 Running command: protein_alignment_from_nucleotides  -v  --mafft pan_genome_sequences/KNN15_02725.fa\r\n",
      "2023/04/04 12:43:34 Running command: protein_alignment_from_nucleotides  -v  --mafft pan_genome_sequences/rplL.fa\r\n",
      "2023/04/04 12:43:34 Running command: protein_alignment_from_nucleotides  -v  --mafft pan_genome_sequences/GO600_00515.fa\r\n",
      "2023/04/04 12:43:34 Running command: protein_alignment_from_nucleotides  -v  --mafft pan_genome_sequences/secY.fa\r\n",
      "2023/04/04 12:43:34 Running command: protein_alignment_from_nucleotides  -v  --mafft pan_genome_sequences/rplQ.fa\r\n",
      "2023/04/04 12:43:34 Running command: protein_alignment_from_nucleotides  -v  --mafft pan_genome_sequences/pfkA.fa\r\n",
      "2023/04/04 12:43:34 Running command: protein_alignment_from_nucleotides  -v  --mafft pan_genome_sequences/TO73_1678.fa\r\n",
      "2023/04/04 12:43:34 Running command: protein_alignment_from_nucleotides  -v  --mafft pan_genome_sequences/glnA.fa\r\n",
      "2023/04/04 12:43:34 Running command: protein_alignment_from_nucleotides  -v  --mafft pan_genome_sequences/TO73_0463.fa\r\n",
      "2023/04/04 12:43:34 Running command: protein_alignment_from_nucleotides  -v  --mafft pan_genome_sequences/rplN.fa\r\n"
     ]
    },
    {
     "name": "stdout",
     "output_type": "stream",
     "text": [
      "Academic tradition requires you to cite works you base your article on.\r\n",
      "If you use programs that use GNU Parallel to process data for an article in a\r\n",
      "scientific publication, please cite:\r\n",
      "\r\n",
      "  Tange, O. (2023, January 22). GNU Parallel 20230122 ('Bolsonaristas').\r\n",
      "  Zenodo. https://doi.org/10.5281/zenodo.7558957\r\n",
      "\r\n",
      "This helps funding further development; AND IT WON'T COST YOU A CENT.\r\n",
      "If you pay 10000 EUR you should feel free to use GNU Parallel without citing.\r\n",
      "\r\n",
      "More about funding GNU Parallel and the citation notice:\r\n",
      "https://www.gnu.org/software/parallel/parallel_design.html#citation-notice\r\n",
      "\r\n",
      "To silence this citation notice: run 'parallel --citation' once.\r\n",
      "\r\n",
      "Come on: You have run parallel 99 times. Isn't it about time \r\n",
      "you run 'parallel --citation' once to silence the citation notice?\r\n",
      "\r\n"
     ]
    },
    {
     "name": "stdout",
     "output_type": "stream",
     "text": [
      "2023/04/04 12:43:35 Running command: mafft --auto --quiet pan_genome_sequences/KNN15_05875.fa > pan_genome_sequences/KNN15_05875.fa.aln\r\n"
     ]
    },
    {
     "name": "stdout",
     "output_type": "stream",
     "text": [
      "2023/04/04 12:43:35 Running command: mafft --auto --quiet pan_genome_sequences/GO600_05325.fa > pan_genome_sequences/GO600_05325.fa.aln\r\n",
      "2023/04/04 12:43:35 Running command: mafft --auto --quiet pan_genome_sequences/erpA.fa > pan_genome_sequences/erpA.fa.aln\r\n"
     ]
    },
    {
     "name": "stdout",
     "output_type": "stream",
     "text": [
      "2023/04/04 12:43:35 Running command: mafft --auto --quiet pan_genome_sequences/TO73_0085.fa > pan_genome_sequences/TO73_0085.fa.aln\r\n",
      "2023/04/04 12:43:35 Running command: mafft --auto --quiet pan_genome_sequences/map.fa > pan_genome_sequences/map.fa.aln\r\n"
     ]
    },
    {
     "name": "stdout",
     "output_type": "stream",
     "text": [
      "2023/04/04 12:43:35 Running command: mafft --auto --quiet pan_genome_sequences/floA.fa > pan_genome_sequences/floA.fa.aln\r\n"
     ]
    },
    {
     "name": "stdout",
     "output_type": "stream",
     "text": [
      "2023/04/04 12:43:35 Running command: mafft --auto --quiet pan_genome_sequences/fusA.fa > pan_genome_sequences/fusA.fa.aln\r\n"
     ]
    },
    {
     "name": "stdout",
     "output_type": "stream",
     "text": [
      "2023/04/04 12:43:35 Running command: mafft --auto --quiet pan_genome_sequences/GO600_01915.fa > pan_genome_sequences/GO600_01915.fa.aln\r\n"
     ]
    },
    {
     "name": "stdout",
     "output_type": "stream",
     "text": [
      "2023/04/04 12:43:36 Running command: mafft --auto --quiet pan_genome_sequences/KNN15_11780.fa > pan_genome_sequences/KNN15_11780.fa.aln\r\n"
     ]
    },
    {
     "name": "stdout",
     "output_type": "stream",
     "text": [
      "2023/04/04 12:43:36 Running command: mafft --auto --quiet pan_genome_sequences/rpsK.fa > pan_genome_sequences/rpsK.fa.aln\r\n"
     ]
    },
    {
     "name": "stdout",
     "output_type": "stream",
     "text": [
      "2023/04/04 12:43:36 Running command: mafft --auto --quiet pan_genome_sequences/mraZ.fa > pan_genome_sequences/mraZ.fa.aln\r\n",
      "2023/04/04 12:43:36 Running command: mafft --auto --quiet pan_genome_sequences/nuoI.fa > pan_genome_sequences/nuoI.fa.aln\r\n"
     ]
    },
    {
     "name": "stdout",
     "output_type": "stream",
     "text": [
      "2023/04/04 12:43:36 Running command: mafft --auto --quiet pan_genome_sequences/rplB.fa > pan_genome_sequences/rplB.fa.aln\r\n"
     ]
    },
    {
     "name": "stdout",
     "output_type": "stream",
     "text": [
      "2023/04/04 12:43:36 Running command: mafft --auto --quiet pan_genome_sequences/TO73_0622.fa > pan_genome_sequences/TO73_0622.fa.aln\r\n"
     ]
    },
    {
     "name": "stdout",
     "output_type": "stream",
     "text": [
      "2023/04/04 12:43:37 Running command: mafft --auto --quiet pan_genome_sequences/GO600_08745.fa > pan_genome_sequences/GO600_08745.fa.aln\r\n"
     ]
    },
    {
     "name": "stdout",
     "output_type": "stream",
     "text": [
      "2023/04/04 12:43:37 Running command: mafft --auto --quiet pan_genome_sequences/KNN15_05920.fa > pan_genome_sequences/KNN15_05920.fa.aln\r\n"
     ]
    },
    {
     "name": "stdout",
     "output_type": "stream",
     "text": [
      "2023/04/04 12:43:37 Running command: mafft --auto --quiet pan_genome_sequences/TO73_1691.fa > pan_genome_sequences/TO73_1691.fa.aln\r\n"
     ]
    },
    {
     "name": "stdout",
     "output_type": "stream",
     "text": [
      "2023/04/04 12:43:37 Running command: mafft --auto --quiet pan_genome_sequences/rplM.fa > pan_genome_sequences/rplM.fa.aln\r\n"
     ]
    },
    {
     "name": "stdout",
     "output_type": "stream",
     "text": [
      "2023/04/04 12:43:37 Running command: mafft --auto --quiet pan_genome_sequences/GO600_04460.fa > pan_genome_sequences/GO600_04460.fa.aln\r\n"
     ]
    },
    {
     "name": "stdout",
     "output_type": "stream",
     "text": [
      "2023/04/04 12:43:37 Running command: mafft --auto --quiet pan_genome_sequences/pdxS.fa > pan_genome_sequences/pdxS.fa.aln\r\n"
     ]
    },
    {
     "name": "stdout",
     "output_type": "stream",
     "text": [
      "2023/04/04 12:43:37 Running command: mafft --auto --quiet pan_genome_sequences/TO73_1536.fa > pan_genome_sequences/TO73_1536.fa.aln\r\n"
     ]
    },
    {
     "name": "stdout",
     "output_type": "stream",
     "text": [
      "2023/04/04 12:43:37 Running command: mafft --auto --quiet pan_genome_sequences/KNN15_09650.fa > pan_genome_sequences/KNN15_09650.fa.aln\r\n"
     ]
    },
    {
     "name": "stdout",
     "output_type": "stream",
     "text": [
      "2023/04/04 12:43:38 Running command: mafft --auto --quiet pan_genome_sequences/rpsI.fa > pan_genome_sequences/rpsI.fa.aln\r\n"
     ]
    },
    {
     "name": "stdout",
     "output_type": "stream",
     "text": [
      "2023/04/04 12:43:38 Running command: mafft --auto --quiet pan_genome_sequences/groES.fa > pan_genome_sequences/groES.fa.aln\r\n"
     ]
    },
    {
     "name": "stdout",
     "output_type": "stream",
     "text": [
      "2023/04/04 12:43:38 Running command: mafft --auto --quiet pan_genome_sequences/TO73_0371.fa > pan_genome_sequences/TO73_0371.fa.aln\r\n",
      "2023/04/04 12:43:38 Running command: mafft --auto --quiet pan_genome_sequences/GO600_07425.fa > pan_genome_sequences/GO600_07425.fa.aln\r\n"
     ]
    },
    {
     "name": "stdout",
     "output_type": "stream",
     "text": [
      "2023/04/04 12:43:38 Running command: mafft --auto --quiet pan_genome_sequences/clpP.fa > pan_genome_sequences/clpP.fa.aln\r\n"
     ]
    },
    {
     "name": "stdout",
     "output_type": "stream",
     "text": [
      "2023/04/04 12:43:39 Running command: mafft --auto --quiet pan_genome_sequences/nusG.fa > pan_genome_sequences/nusG.fa.aln\r\n",
      "2023/04/04 12:43:38 Running command: mafft --auto --quiet pan_genome_sequences/TO73_1593.fa > pan_genome_sequences/TO73_1593.fa.aln\r\n"
     ]
    },
    {
     "name": "stdout",
     "output_type": "stream",
     "text": [
      "2023/04/04 12:43:39 Running command: mafft --auto --quiet pan_genome_sequences/TO73_1275.fa > pan_genome_sequences/TO73_1275.fa.aln\r\n"
     ]
    },
    {
     "name": "stdout",
     "output_type": "stream",
     "text": [
      "2023/04/04 12:43:39 Running command: mafft --auto --quiet pan_genome_sequences/KNN15_05310.fa > pan_genome_sequences/KNN15_05310.fa.aln\r\n"
     ]
    },
    {
     "name": "stdout",
     "output_type": "stream",
     "text": [
      "2023/04/04 12:43:39 Running command: mafft --auto --quiet pan_genome_sequences/rpmJ.fa > pan_genome_sequences/rpmJ.fa.aln\r\n"
     ]
    },
    {
     "name": "stdout",
     "output_type": "stream",
     "text": [
      "2023/04/04 12:43:39 Running command: mafft --auto --quiet pan_genome_sequences/GO600_02630.fa > pan_genome_sequences/GO600_02630.fa.aln\r\n"
     ]
    },
    {
     "name": "stdout",
     "output_type": "stream",
     "text": [
      "2023/04/04 12:43:40 Running command: mafft --auto --quiet pan_genome_sequences/TO73_0438.fa > pan_genome_sequences/TO73_0438.fa.aln\r\n"
     ]
    },
    {
     "name": "stdout",
     "output_type": "stream",
     "text": [
      "2023/04/04 12:43:40 Running command: mafft --auto --quiet pan_genome_sequences/GO600_05610.fa > pan_genome_sequences/GO600_05610.fa.aln\r\n"
     ]
    },
    {
     "name": "stdout",
     "output_type": "stream",
     "text": [
      "2023/04/04 12:43:40 Running command: mafft --auto --quiet pan_genome_sequences/GO600_11100.fa > pan_genome_sequences/GO600_11100.fa.aln\r\n"
     ]
    },
    {
     "name": "stdout",
     "output_type": "stream",
     "text": [
      "2023/04/04 12:43:40 Running command: mafft --auto --quiet pan_genome_sequences/rho.fa > pan_genome_sequences/rho.fa.aln\r\n"
     ]
    },
    {
     "name": "stdout",
     "output_type": "stream",
     "text": [
      "2023/04/04 12:43:40 Running command: mafft --auto --quiet pan_genome_sequences/TO73_1823.fa > pan_genome_sequences/TO73_1823.fa.aln\r\n",
      "2023/04/04 12:43:40 Running command: mafft --auto --quiet pan_genome_sequences/KNN15_05400.fa > pan_genome_sequences/KNN15_05400.fa.aln\r\n"
     ]
    },
    {
     "name": "stdout",
     "output_type": "stream",
     "text": [
      "2023/04/04 12:43:41 Running command: mafft --auto --quiet pan_genome_sequences/nuoK.fa > pan_genome_sequences/nuoK.fa.aln\r\n"
     ]
    },
    {
     "name": "stdout",
     "output_type": "stream",
     "text": [
      "2023/04/04 12:43:41 Running command: mafft --auto --quiet pan_genome_sequences/efp.fa > pan_genome_sequences/efp.fa.aln\r\n"
     ]
    },
    {
     "name": "stdout",
     "output_type": "stream",
     "text": [
      "2023/04/04 12:43:41 Running command: mafft --auto --quiet pan_genome_sequences/rpsR.fa > pan_genome_sequences/rpsR.fa.aln\r\n"
     ]
    },
    {
     "name": "stdout",
     "output_type": "stream",
     "text": [
      "2023/04/04 12:43:41 Running command: mafft --auto --quiet pan_genome_sequences/groL.fa > pan_genome_sequences/groL.fa.aln\r\n"
     ]
    },
    {
     "name": "stdout",
     "output_type": "stream",
     "text": [
      "2023/04/04 12:43:41 Running command: mafft --auto --quiet pan_genome_sequences/ilvN.fa > pan_genome_sequences/ilvN.fa.aln\r\n"
     ]
    },
    {
     "name": "stdout",
     "output_type": "stream",
     "text": [
      "2023/04/04 12:43:41 Running command: mafft --auto --quiet pan_genome_sequences/KNN15_10050.fa > pan_genome_sequences/KNN15_10050.fa.aln\r\n"
     ]
    },
    {
     "name": "stdout",
     "output_type": "stream",
     "text": [
      "2023/04/04 12:43:42 Running command: mafft --auto --quiet pan_genome_sequences/GO600_10865.fa > pan_genome_sequences/GO600_10865.fa.aln\r\n",
      "2023/04/04 12:43:42 Running command: mafft --auto --quiet pan_genome_sequences/rpsG.fa > pan_genome_sequences/rpsG.fa.aln\r\n"
     ]
    },
    {
     "name": "stdout",
     "output_type": "stream",
     "text": [
      "2023/04/04 12:43:42 Running command: mafft --auto --quiet pan_genome_sequences/aroH.fa > pan_genome_sequences/aroH.fa.aln\r\n",
      "2023/04/04 12:43:42 Running command: mafft --auto --quiet pan_genome_sequences/GO600_08250.fa > pan_genome_sequences/GO600_08250.fa.aln\r\n"
     ]
    },
    {
     "name": "stdout",
     "output_type": "stream",
     "text": [
      "2023/04/04 12:43:42 Running command: mafft --auto --quiet pan_genome_sequences/KNN15_00995.fa > pan_genome_sequences/KNN15_00995.fa.aln\r\n"
     ]
    },
    {
     "name": "stdout",
     "output_type": "stream",
     "text": [
      "2023/04/04 12:43:42 Running command: mafft --auto --quiet pan_genome_sequences/recA.fa > pan_genome_sequences/recA.fa.aln\r\n"
     ]
    },
    {
     "name": "stdout",
     "output_type": "stream",
     "text": [
      "2023/04/04 12:43:43 Running command: mafft --auto --quiet pan_genome_sequences/rpsH.fa > pan_genome_sequences/rpsH.fa.aln\r\n"
     ]
    },
    {
     "name": "stdout",
     "output_type": "stream",
     "text": [
      "2023/04/04 12:43:42 Running command: mafft --auto --quiet pan_genome_sequences/GO600_07145.fa > pan_genome_sequences/GO600_07145.fa.aln\r\n"
     ]
    },
    {
     "name": "stdout",
     "output_type": "stream",
     "text": [
      "2023/04/04 12:43:43 Running command: mafft --auto --quiet pan_genome_sequences/GO600_10555.fa > pan_genome_sequences/GO600_10555.fa.aln\r\n"
     ]
    },
    {
     "name": "stdout",
     "output_type": "stream",
     "text": [
      "2023/04/04 12:43:43 Running command: mafft --auto --quiet pan_genome_sequences/rplP.fa > pan_genome_sequences/rplP.fa.aln\r\n",
      "2023/04/04 12:43:43 Running command: mafft --auto --quiet pan_genome_sequences/KNN15_05885.fa > pan_genome_sequences/KNN15_05885.fa.aln\r\n"
     ]
    },
    {
     "name": "stdout",
     "output_type": "stream",
     "text": [
      "2023/04/04 12:43:43 Running command: mafft --auto --quiet pan_genome_sequences/metK.fa > pan_genome_sequences/metK.fa.aln\r\n"
     ]
    },
    {
     "name": "stdout",
     "output_type": "stream",
     "text": [
      "2023/04/04 12:43:44 Running command: mafft --auto --quiet pan_genome_sequences/GO600_03915.fa > pan_genome_sequences/GO600_03915.fa.aln\r\n"
     ]
    },
    {
     "name": "stdout",
     "output_type": "stream",
     "text": [
      "2023/04/04 12:43:44 Running command: mafft --auto --quiet pan_genome_sequences/rpsP.fa > pan_genome_sequences/rpsP.fa.aln\r\n"
     ]
    },
    {
     "name": "stdout",
     "output_type": "stream",
     "text": [
      "2023/04/04 12:43:44 Running command: mafft --auto --quiet pan_genome_sequences/TO73_2229.fa > pan_genome_sequences/TO73_2229.fa.aln\r\n"
     ]
    },
    {
     "name": "stdout",
     "output_type": "stream",
     "text": [
      "2023/04/04 12:43:44 Running command: mafft --auto --quiet pan_genome_sequences/TO73_0476.fa > pan_genome_sequences/TO73_0476.fa.aln\r\n"
     ]
    },
    {
     "name": "stdout",
     "output_type": "stream",
     "text": [
      "2023/04/04 12:43:44 Running command: mafft --auto --quiet pan_genome_sequences/greA.fa > pan_genome_sequences/greA.fa.aln\r\n"
     ]
    },
    {
     "name": "stdout",
     "output_type": "stream",
     "text": [
      "2023/04/04 12:43:44 Running command: mafft --auto --quiet pan_genome_sequences/rplK.fa > pan_genome_sequences/rplK.fa.aln\r\n"
     ]
    },
    {
     "name": "stdout",
     "output_type": "stream",
     "text": [
      "2023/04/04 12:43:45 Running command: mafft --auto --quiet pan_genome_sequences/GO600_10765.fa > pan_genome_sequences/GO600_10765.fa.aln\r\n"
     ]
    },
    {
     "name": "stdout",
     "output_type": "stream",
     "text": [
      "2023/04/04 12:43:45 Running command: mafft --auto --quiet pan_genome_sequences/KNN15_07650.fa > pan_genome_sequences/KNN15_07650.fa.aln\r\n"
     ]
    },
    {
     "name": "stdout",
     "output_type": "stream",
     "text": [
      "2023/04/04 12:43:45 Running command: mafft --auto --quiet pan_genome_sequences/rpmE.fa > pan_genome_sequences/rpmE.fa.aln\r\n"
     ]
    },
    {
     "name": "stdout",
     "output_type": "stream",
     "text": [
      "2023/04/04 12:43:45 Running command: mafft --auto --quiet pan_genome_sequences/KNN15_09235.fa > pan_genome_sequences/KNN15_09235.fa.aln\r\n",
      "2023/04/04 12:43:45 Running command: mafft --auto --quiet pan_genome_sequences/TO73_0481.fa > pan_genome_sequences/TO73_0481.fa.aln\r\n"
     ]
    },
    {
     "name": "stdout",
     "output_type": "stream",
     "text": [
      "2023/04/04 12:43:45 Running command: mafft --auto --quiet pan_genome_sequences/GO600_07725.fa > pan_genome_sequences/GO600_07725.fa.aln\r\n"
     ]
    },
    {
     "name": "stdout",
     "output_type": "stream",
     "text": [
      "2023/04/04 12:43:46 Running command: mafft --auto --quiet pan_genome_sequences/prs.fa > pan_genome_sequences/prs.fa.aln\r\n"
     ]
    },
    {
     "name": "stdout",
     "output_type": "stream",
     "text": [
      "2023/04/04 12:43:46 Running command: mafft --auto --quiet pan_genome_sequences/rpsJ.fa > pan_genome_sequences/rpsJ.fa.aln\r\n"
     ]
    },
    {
     "name": "stdout",
     "output_type": "stream",
     "text": [
      "2023/04/04 12:43:46 Running command: mafft --auto --quiet pan_genome_sequences/KNN15_01350.fa > pan_genome_sequences/KNN15_01350.fa.aln\r\n"
     ]
    },
    {
     "name": "stdout",
     "output_type": "stream",
     "text": [
      "2023/04/04 12:43:46 Running command: mafft --auto --quiet pan_genome_sequences/KNN15_05615.fa > pan_genome_sequences/KNN15_05615.fa.aln\r\n"
     ]
    },
    {
     "name": "stdout",
     "output_type": "stream",
     "text": [
      "2023/04/04 12:43:46 Running command: mafft --auto --quiet pan_genome_sequences/rpsQ.fa > pan_genome_sequences/rpsQ.fa.aln\r\n"
     ]
    },
    {
     "name": "stdout",
     "output_type": "stream",
     "text": [
      "2023/04/04 12:43:47 Running command: mafft --auto --quiet pan_genome_sequences/TO73_0320.fa > pan_genome_sequences/TO73_0320.fa.aln\r\n",
      "2023/04/04 12:43:47 Running command: mafft --auto --quiet pan_genome_sequences/glpX.fa > pan_genome_sequences/glpX.fa.aln\r\n"
     ]
    },
    {
     "name": "stdout",
     "output_type": "stream",
     "text": [
      "2023/04/04 12:43:47 Running command: mafft --auto --quiet pan_genome_sequences/sdhC.fa > pan_genome_sequences/sdhC.fa.aln\r\n"
     ]
    },
    {
     "name": "stdout",
     "output_type": "stream",
     "text": [
      "2023/04/04 12:43:47 Running command: mafft --auto --quiet pan_genome_sequences/GO600_02350.fa > pan_genome_sequences/GO600_02350.fa.aln\r\n"
     ]
    },
    {
     "name": "stdout",
     "output_type": "stream",
     "text": [
      "2023/04/04 12:43:48 Running command: mafft --auto --quiet pan_genome_sequences/GO600_09110.fa > pan_genome_sequences/GO600_09110.fa.aln\r\n"
     ]
    },
    {
     "name": "stdout",
     "output_type": "stream",
     "text": [
      "2023/04/04 12:43:48 Running command: mafft --auto --quiet pan_genome_sequences/KNN15_05300.fa > pan_genome_sequences/KNN15_05300.fa.aln\r\n"
     ]
    },
    {
     "name": "stdout",
     "output_type": "stream",
     "text": [
      "2023/04/04 12:43:47 Running command: mafft --auto --quiet pan_genome_sequences/miaB.fa > pan_genome_sequences/miaB.fa.aln\r\n"
     ]
    },
    {
     "name": "stdout",
     "output_type": "stream",
     "text": [
      "2023/04/04 12:43:48 Running command: mafft --auto --quiet pan_genome_sequences/KNN15_09875.fa > pan_genome_sequences/KNN15_09875.fa.aln\r\n"
     ]
    },
    {
     "name": "stdout",
     "output_type": "stream",
     "text": [
      "2023/04/04 12:43:48 Running command: mafft --auto --quiet pan_genome_sequences/rpsS.fa > pan_genome_sequences/rpsS.fa.aln\r\n"
     ]
    },
    {
     "name": "stdout",
     "output_type": "stream",
     "text": [
      "2023/04/04 12:43:48 Running command: mafft --auto --quiet pan_genome_sequences/TO73_0042.fa > pan_genome_sequences/TO73_0042.fa.aln\r\n"
     ]
    },
    {
     "name": "stdout",
     "output_type": "stream",
     "text": [
      "2023/04/04 12:43:48 Running command: mafft --auto --quiet pan_genome_sequences/rpmG.fa > pan_genome_sequences/rpmG.fa.aln\r\n"
     ]
    },
    {
     "name": "stdout",
     "output_type": "stream",
     "text": [
      "2023/04/04 12:43:48 Running command: mafft --auto --quiet pan_genome_sequences/sufC.fa > pan_genome_sequences/sufC.fa.aln\r\n"
     ]
    },
    {
     "name": "stdout",
     "output_type": "stream",
     "text": [
      "2023/04/04 12:43:49 Running command: mafft --auto --quiet pan_genome_sequences/infA.fa > pan_genome_sequences/infA.fa.aln\r\n"
     ]
    },
    {
     "name": "stdout",
     "output_type": "stream",
     "text": [
      "2023/04/04 12:43:49 Running command: mafft --auto --quiet pan_genome_sequences/KNN15_02725.fa > pan_genome_sequences/KNN15_02725.fa.aln\r\n"
     ]
    },
    {
     "name": "stdout",
     "output_type": "stream",
     "text": [
      "2023/04/04 12:43:49 Running command: mafft --auto --quiet pan_genome_sequences/rplL.fa > pan_genome_sequences/rplL.fa.aln\r\n"
     ]
    },
    {
     "name": "stdout",
     "output_type": "stream",
     "text": [
      "2023/04/04 12:43:49 Running command: mafft --auto --quiet pan_genome_sequences/GO600_00515.fa > pan_genome_sequences/GO600_00515.fa.aln\r\n"
     ]
    },
    {
     "name": "stdout",
     "output_type": "stream",
     "text": [
      "2023/04/04 12:43:49 Running command: mafft --auto --quiet pan_genome_sequences/rplQ.fa > pan_genome_sequences/rplQ.fa.aln\r\n"
     ]
    },
    {
     "name": "stdout",
     "output_type": "stream",
     "text": [
      "2023/04/04 12:43:50 Running command: mafft --auto --quiet pan_genome_sequences/TO73_1678.fa > pan_genome_sequences/TO73_1678.fa.aln\r\n"
     ]
    },
    {
     "name": "stdout",
     "output_type": "stream",
     "text": [
      "2023/04/04 12:43:49 Running command: mafft --auto --quiet pan_genome_sequences/secY.fa > pan_genome_sequences/secY.fa.aln\r\n"
     ]
    },
    {
     "name": "stdout",
     "output_type": "stream",
     "text": [
      "2023/04/04 12:43:50 Running command: mafft --auto --quiet pan_genome_sequences/pfkA.fa > pan_genome_sequences/pfkA.fa.aln\r\n"
     ]
    },
    {
     "name": "stdout",
     "output_type": "stream",
     "text": [
      "2023/04/04 12:43:50 Running command: mafft --auto --quiet pan_genome_sequences/TO73_0463.fa > pan_genome_sequences/TO73_0463.fa.aln\r\n",
      "2023/04/04 12:43:50 Running command: mafft --auto --quiet pan_genome_sequences/rplN.fa > pan_genome_sequences/rplN.fa.aln\r\n"
     ]
    },
    {
     "name": "stdout",
     "output_type": "stream",
     "text": [
      "2023/04/04 12:43:50 Running command: mafft --auto --quiet pan_genome_sequences/glnA.fa > pan_genome_sequences/glnA.fa.aln\r\n"
     ]
    }
   ],
   "source": [
    "!roary -f gff_files/roary -p 8 -e -n -v gff_files/*.gff "
   ]
  },
  {
   "cell_type": "code",
   "execution_count": 20,
   "id": "39691575",
   "metadata": {
    "execution": {
     "iopub.execute_input": "2023-04-04T12:43:52.461042Z",
     "iopub.status.busy": "2023-04-04T12:43:52.460769Z",
     "iopub.status.idle": "2023-04-04T12:44:02.136306Z",
     "shell.execute_reply": "2023-04-04T12:44:02.134805Z"
    },
    "papermill": {
     "duration": 9.699587,
     "end_time": "2023-04-04T12:44:02.139370",
     "exception": false,
     "start_time": "2023-04-04T12:43:52.439783",
     "status": "completed"
    },
    "tags": []
   },
   "outputs": [
    {
     "name": "stdout",
     "output_type": "stream",
     "text": [
      "0.00% \r",
      "100.00% \r"
     ]
    },
    {
     "name": "stdout",
     "output_type": "stream",
     "text": [
      "/home/infosebi/Documents/Programmieren/MastersProject/thermus/gff_files/roary/../../../roary_plots.py:131: MatplotlibDeprecationWarning: Auto-removal of overlapping axes is deprecated since 3.6 and will be removed two minor releases later; explicitly call ax.remove() as needed.\r\n",
      "  ax=plt.subplot2grid((1,40), (0, 0), colspan=10, facecolor='white')\r\n"
     ]
    }
   ],
   "source": [
    "os.chdir(pwd + \"/gff_files/roary\")\n",
    "!bioconvert fasta2clustal core_gene_alignment.aln allignment_clustal.aln\n",
    "!bioconvert clustal2stockholm allignment_clustal.aln allignment_stockholm.sth\n",
    "!rapidnj allignment_stockholm.sth > tree.nwk\n",
    "!python ../../../roary_plots.py tree.nwk gene_presence_absence.csv"
   ]
  },
  {
   "cell_type": "code",
   "execution_count": 21,
   "id": "77f5a688",
   "metadata": {
    "execution": {
     "iopub.execute_input": "2023-04-04T12:44:02.170603Z",
     "iopub.status.busy": "2023-04-04T12:44:02.170376Z",
     "iopub.status.idle": "2023-04-04T12:44:02.185439Z",
     "shell.execute_reply": "2023-04-04T12:44:02.184836Z"
    },
    "papermill": {
     "duration": 0.033485,
     "end_time": "2023-04-04T12:44:02.187365",
     "exception": false,
     "start_time": "2023-04-04T12:44:02.153880",
     "status": "completed"
    },
    "tags": []
   },
   "outputs": [
    {
     "data": {
      "image/png": "[encoded data removed]",
      "text/plain": [
       "<IPython.core.display.Image object>"
      ]
     },
     "metadata": {},
     "output_type": "display_data"
    },
    {
     "name": "stdout",
     "output_type": "stream",
     "text": [
      "pangenome_matrix.png\n"
     ]
    },
    {
     "data": {
      "image/png": "[encoded data removed]",
      "text/plain": [
       "<IPython.core.display.Image object>"
      ]
     },
     "metadata": {},
     "output_type": "display_data"
    },
    {
     "name": "stdout",
     "output_type": "stream",
     "text": [
      "pangenome_frequency.png\n"
     ]
    },
    {
     "data": {
      "image/png": "[encoded data removed]",
      "text/plain": [
       "<IPython.core.display.Image object>"
      ]
     },
     "metadata": {},
     "output_type": "display_data"
    },
    {
     "name": "stdout",
     "output_type": "stream",
     "text": [
      "pangenome_pie.png\n"
     ]
    }
   ],
   "source": [
    "os.chdir(pwd + \"/gff_files/roary\")\n",
    "for imageName in glob('*.png'):\n",
    "    display(Image(filename=imageName))\n",
    "    print(imageName)\n",
    "os.chdir(pwd)"
   ]
  },
  {
   "cell_type": "code",
   "execution_count": 22,
   "id": "0b4e3fd8",
   "metadata": {
    "execution": {
     "iopub.execute_input": "2023-04-04T12:44:02.220700Z",
     "iopub.status.busy": "2023-04-04T12:44:02.220447Z",
     "iopub.status.idle": "2023-04-04T12:44:02.590015Z",
     "shell.execute_reply": "2023-04-04T12:44:02.588622Z"
    },
    "papermill": {
     "duration": 0.389954,
     "end_time": "2023-04-04T12:44:02.592749",
     "exception": false,
     "start_time": "2023-04-04T12:44:02.202795",
     "status": "completed"
    },
    "tags": []
   },
   "outputs": [],
   "source": [
    "subprocess.run(f\"rm {taxon_file}.json\"\"\", shell=True)\n",
    "!rm accession_list.txt\n",
    "!rm -r info_table.tsv\n",
    "#!rm -r gff_files/*\n",
    "#!rm annotated_genomes/*\n",
    "subprocess.run(f\"rm {taxon_file}.zip\"\"\", shell=True)\n",
    "!rm README.md"
   ]
  },
  {
   "cell_type": "code",
   "execution_count": 23,
   "id": "4e4b43ef",
   "metadata": {
    "execution": {
     "iopub.execute_input": "2023-04-04T12:44:02.644134Z",
     "iopub.status.busy": "2023-04-04T12:44:02.643362Z",
     "iopub.status.idle": "2023-04-04T12:44:02.647142Z",
     "shell.execute_reply": "2023-04-04T12:44:02.646599Z"
    },
    "papermill": {
     "duration": 0.028701,
     "end_time": "2023-04-04T12:44:02.648410",
     "exception": false,
     "start_time": "2023-04-04T12:44:02.619709",
     "status": "completed"
    },
    "tags": []
   },
   "outputs": [],
   "source": [
    "#criteria for genome selection to strict (assembly-source genbank)? draft sequence -> we do annotation right?\n",
    "#GenomeDiagramm library\n",
    "#conda the best way?\n",
    "#voila\n",
    "\n",
    "#is it possible to have interaction in jupyter notebook\n",
    "#circos (input-data?)\n",
    "# download blast - read up on algorithm\n",
    "#antismash\n",
    "\n",
    "\n",
    "#1.upload own genome data\n",
    "#if empty -> trna-scan, barrnap, prodigal (pcap includes them all)\n",
    "#anvio"
   ]
  }
 ],
 "metadata": {
  "celltoolbar": "Tags",
  "kernelspec": {
   "display_name": " roary",
   "language": "python",
   "name": "roary"
  },
  "language_info": {
   "codemirror_mode": {
    "name": "ipython",
    "version": 3
   },
   "file_extension": ".py",
   "mimetype": "text/x-python",
   "name": "python",
   "nbconvert_exporter": "python",
   "pygments_lexer": "ipython3",
   "version": "3.10.8"
  },
  "papermill": {
   "default_parameters": {},
   "duration": 138.793895,
   "end_time": "2023-04-04T12:44:05.287419",
   "environment_variables": {},
   "exception": null,
   "input_path": "/home/infosebi/Documents/Programmieren/MastersProject/MastersProject.ipynb",
   "output_path": "/home/infosebi/Documents/Programmieren/MastersProject/thermus/thermus_project.ipynb",
   "parameters": {
    "number_of_genomes": 3,
    "pwd": "/home/infosebi/Documents/Programmieren/MastersProject/thermus",
    "taxon": "'Thermus'"
   },
   "start_time": "2023-04-04T12:41:46.493524",
   "version": "2.4.0"
  }
 },
 "nbformat": 4,
 "nbformat_minor": 5
}