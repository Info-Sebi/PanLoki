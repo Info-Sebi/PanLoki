{
 "cells": [
  {
   "cell_type": "code",
   "execution_count": 3,
   "id": "2a34194f",
   "metadata": {},
   "outputs": [
    {
     "name": "stdout",
     "output_type": "stream",
     "text": [
      "  % Total    % Received % Xferd  Average Speed   Time    Time     Time  Current\n",
      "                                 Dload  Upload   Total   Spent    Left  Speed\n",
      "100 14.7M  100 14.7M    0     0   712k      0  0:00:21  0:00:21 --:--:-- 1151k\n"
     ]
    }
   ],
   "source": [
    "!curl -o datasets 'https://ftp.ncbi.nlm.nih.gov/pub/datasets/command-line/v1/linux-amd64/datasets'\n",
    "!chmod +x datasets"
   ]
  },
  {
   "cell_type": "code",
   "execution_count": 4,
   "id": "1b0958f4",
   "metadata": {},
   "outputs": [],
   "source": [
    "import papermill as pm\n",
    "import subprocess\n",
    "\n",
    "p = subprocess.Popen(\"pwd\", stdout=subprocess.PIPE, shell=True)\n",
    "pwd = p.stdout.read().decode(\"ascii\").strip()"
   ]
  },
  {
   "cell_type": "code",
   "execution_count": 5,
   "id": "6430b4a9",
   "metadata": {},
   "outputs": [
    {
     "name": "stderr",
     "output_type": "stream",
     "text": [
      "Black is not installed, parameters wont be formatted\n"
     ]
    },
    {
     "data": {
      "application/vnd.jupyter.widget-view+json": {
       "model_id": "6236c57632c64d79b081ba62b48a1353",
       "version_major": 2,
       "version_minor": 0
      },
      "text/plain": [
       "Executing:   0%|          | 0/15 [00:00<?, ?cell/s]"
      ]
     },
     "metadata": {},
     "output_type": "display_data"
    },
    {
     "name": "stderr",
     "output_type": "stream",
     "text": [
      "Setting default log level to \"WARN\".\n",
      "To adjust logging level use sc.setLogLevel(newLevel). For SparkR, use setLogLevel(newLevel).\n"
     ]
    },
    {
     "name": "stdout",
     "output_type": "stream",
     "text": [
      "23/02/14 18:10:18 WARN NativeCodeLoader: Unable to load native-hadoop library for your platform... using builtin-java classes where applicable\n"
     ]
    },
    {
     "name": "stderr",
     "output_type": "stream",
     "text": [
      "New version of client (14.13.0) available at https://ftp.ncbi.nlm.nih.gov/pub/datasets/command-line/LATEST/linux-amd64/datasets\n",
      "jq: error (at <stdin>:1): Cannot iterate over null (null)\n",
      "jq: error (at <stdin>:1): Cannot iterate over null (null)\n",
      "Error: unknown flag: --include\n",
      "Usage\n",
      "  datasets download genome accession <accession ...> [flags]\n",
      "\n",
      "Examples\n",
      "  datasets download genome accession GCF_000001405.40 --chromosomes X,Y --exclude-gff3 --exclude-rna\n",
      "  datasets download genome accession GCA_003774525.2 GCA_000001635 --chromosomes X,Y,Un.9\n",
      "  datasets download genome accession PRJNA289059 --exclude-seq\n",
      "\n",
      "Flags\n",
      "  -h, --help               help for accession\n",
      "      --inputfile string   read a list of NCBI Assembly accessions from a file to use as input\n",
      "\n",
      "\n",
      "Global Flags\n",
      "  -a, --annotated                only include genomes with annotation\n",
      "      --api-key string           NCBI Datasets API Key\n",
      "      --assembly-level string    restrict assemblies to a comma-separated list of one or more of: chromosome, complete_genome, contig, scaffold\n",
      "      --assembly-source string   restrict assemblies to refseq or genbank only\n",
      "      --chromosomes strings      limit to a specified, comma-delimited list of chromosomes (default [all])\n",
      "      --dehydrated               download a dehydrated zip archive including the data report and locations of data files (use the rehydrate command to retrieve data files).\n",
      "      --exclude-genomic-cds      exclude cds_from_genomic.fna (genomic cds file)\n",
      "      --exclude-gff3             exclude genomic.gff (gff3 annotation file)\n",
      "      --exclude-protein          exclude protein.faa (protein sequence file)\n",
      "      --exclude-rna              exclude rna.fna (transcript sequence file)\n",
      "      --exclude-seq              exclude genomic.fna (genomic sequence file)\n",
      "      --filename string          specify a custom file name for the downloaded dataset (default \"ncbi_dataset.zip\")\n",
      "      --include-gbff             include genomic.gbff (GenBank flat file sequence and annotation), if available\n",
      "      --include-gtf              include genomic.gtf (gtf annotation file), if available\n",
      "      --no-progressbar           hide progress bar\n",
      "      --reference                limit to reference and representative (GCF_ and GCA_) assemblies\n",
      "      --released-before string   only include genomes that have been released before a specified date (MM/DD/YYYY)\n",
      "      --released-since string    only include genomes that have been released after a specified date (MM/DD/YYYY)\n",
      "      --search strings           only include genomes that have the specified text in the\n",
      "                                 searchable fields: species and infraspecies, assembly name and submitter\n",
      "                                 To provide multiple strings '--search' can be included multiple times\n",
      "\n",
      "\n"
     ]
    },
    {
     "name": "stdout",
     "output_type": "stream",
     "text": [
      "Archive:  deinococcus_radiodurans_complete.zip\n",
      "  inflating: README.md               \n",
      "  inflating: ncbi_dataset/data/assembly_data_report.jsonl  \n",
      "  inflating: ncbi_dataset/data/GCA_008329785.1/genomic.gbff  \n",
      "  inflating: ncbi_dataset/data/GCA_011604805.1/genomic.gbff  \n",
      "  inflating: ncbi_dataset/data/GCA_011604825.1/genomic.gbff  \n",
      "  inflating: ncbi_dataset/data/GCA_020546685.1/genomic.gbff  \n",
      "  inflating: ncbi_dataset/data/GCA_024138735.1/genomic.gbff  \n",
      "  inflating: ncbi_dataset/data/dataset_catalog.json  \n"
     ]
    },
    {
     "ename": "PapermillExecutionError",
     "evalue": "\n---------------------------------------------------------------------------\nException encountered at \"In [10]\":\n---------------------------------------------------------------------------\nEmptyDataError                            Traceback (most recent call last)\nCell In[10], line 1\n----> 1 df = pd.read_table(\"info_table.tsv\", header=None)\n      2 df.columns = ['Genome', 'Strain', 'Taxonomy Id', 'Sequence length', \"GC Percent (%)\", \"ContigN50\", \"Gene count\"]\n      3 df.set_index(\"Genome\", inplace = True)\n\nFile ~/.local/lib/python3.10/site-packages/pandas/util/_decorators.py:211, in deprecate_kwarg.<locals>._deprecate_kwarg.<locals>.wrapper(*args, **kwargs)\n    209     else:\n    210         kwargs[new_arg_name] = new_arg_value\n--> 211 return func(*args, **kwargs)\n\nFile ~/.local/lib/python3.10/site-packages/pandas/util/_decorators.py:331, in deprecate_nonkeyword_arguments.<locals>.decorate.<locals>.wrapper(*args, **kwargs)\n    325 if len(args) > num_allow_args:\n    326     warnings.warn(\n    327         msg.format(arguments=_format_argument_list(allow_args)),\n    328         FutureWarning,\n    329         stacklevel=find_stack_level(),\n    330     )\n--> 331 return func(*args, **kwargs)\n\nFile ~/.local/lib/python3.10/site-packages/pandas/io/parsers/readers.py:1289, in read_table(filepath_or_buffer, sep, delimiter, header, names, index_col, usecols, squeeze, prefix, mangle_dupe_cols, dtype, engine, converters, true_values, false_values, skipinitialspace, skiprows, skipfooter, nrows, na_values, keep_default_na, na_filter, verbose, skip_blank_lines, parse_dates, infer_datetime_format, keep_date_col, date_parser, dayfirst, cache_dates, iterator, chunksize, compression, thousands, decimal, lineterminator, quotechar, quoting, doublequote, escapechar, comment, encoding, encoding_errors, dialect, error_bad_lines, warn_bad_lines, on_bad_lines, delim_whitespace, low_memory, memory_map, float_precision, storage_options)\n   1274 kwds_defaults = _refine_defaults_read(\n   1275     dialect,\n   1276     delimiter,\n   (...)\n   1285     defaults={\"delimiter\": \"\\t\"},\n   1286 )\n   1287 kwds.update(kwds_defaults)\n-> 1289 return _read(filepath_or_buffer, kwds)\n\nFile ~/.local/lib/python3.10/site-packages/pandas/io/parsers/readers.py:605, in _read(filepath_or_buffer, kwds)\n    602 _validate_names(kwds.get(\"names\", None))\n    604 # Create the parser.\n--> 605 parser = TextFileReader(filepath_or_buffer, **kwds)\n    607 if chunksize or iterator:\n    608     return parser\n\nFile ~/.local/lib/python3.10/site-packages/pandas/io/parsers/readers.py:1442, in TextFileReader.__init__(self, f, engine, **kwds)\n   1439     self.options[\"has_index_names\"] = kwds[\"has_index_names\"]\n   1441 self.handles: IOHandles | None = None\n-> 1442 self._engine = self._make_engine(f, self.engine)\n\nFile ~/.local/lib/python3.10/site-packages/pandas/io/parsers/readers.py:1753, in TextFileReader._make_engine(self, f, engine)\n   1750     raise ValueError(msg)\n   1752 try:\n-> 1753     return mapping[engine](f, **self.options)\n   1754 except Exception:\n   1755     if self.handles is not None:\n\nFile ~/.local/lib/python3.10/site-packages/pandas/io/parsers/c_parser_wrapper.py:79, in CParserWrapper.__init__(self, src, **kwds)\n     76     kwds.pop(key, None)\n     78 kwds[\"dtype\"] = ensure_dtype_objs(kwds.get(\"dtype\", None))\n---> 79 self._reader = parsers.TextReader(src, **kwds)\n     81 self.unnamed_cols = self._reader.unnamed_cols\n     83 # error: Cannot determine type of 'names'\n\nFile ~/.local/lib/python3.10/site-packages/pandas/_libs/parsers.pyx:554, in pandas._libs.parsers.TextReader.__cinit__()\n\nEmptyDataError: No columns to parse from file\n",
     "output_type": "error",
     "traceback": [
      "\u001b[0;31m---------------------------------------------------------------------------\u001b[0m",
      "\u001b[0;31mPapermillExecutionError\u001b[0m                   Traceback (most recent call last)",
      "Cell \u001b[0;32mIn[5], line 1\u001b[0m\n\u001b[0;32m----> 1\u001b[0m \u001b[43mpm\u001b[49m\u001b[38;5;241;43m.\u001b[39;49m\u001b[43mexecute_notebook\u001b[49m\u001b[43m(\u001b[49m\n\u001b[1;32m      2\u001b[0m \u001b[43m   \u001b[49m\u001b[43mpwd\u001b[49m\u001b[38;5;241;43m+\u001b[39;49m\u001b[38;5;124;43m'\u001b[39;49m\u001b[38;5;124;43m/MastersProject.ipynb\u001b[39;49m\u001b[38;5;124;43m'\u001b[39;49m\u001b[43m,\u001b[49m\n\u001b[1;32m      3\u001b[0m \u001b[43m   \u001b[49m\u001b[43mpwd\u001b[49m\u001b[38;5;241;43m+\u001b[39;49m\u001b[38;5;124;43m'\u001b[39;49m\u001b[38;5;124;43m/ParameterizedMastersProject.ipynb\u001b[39;49m\u001b[38;5;124;43m'\u001b[39;49m\u001b[43m,\u001b[49m\n\u001b[1;32m      4\u001b[0m \u001b[43m   \u001b[49m\u001b[43mparameters\u001b[49m\u001b[38;5;241;43m=\u001b[39;49m\u001b[38;5;28;43mdict\u001b[39;49m\u001b[43m(\u001b[49m\u001b[43mtaxon\u001b[49m\u001b[38;5;241;43m=\u001b[39;49m\u001b[38;5;124;43m\"\u001b[39;49m\u001b[38;5;130;43;01m\\'\u001b[39;49;00m\u001b[38;5;124;43mDeinococcus radiodurans\u001b[39;49m\u001b[38;5;130;43;01m\\'\u001b[39;49;00m\u001b[38;5;124;43m\"\u001b[39;49m\u001b[43m,\u001b[49m\u001b[43m \u001b[49m\u001b[43mpwd\u001b[49m\u001b[38;5;241;43m=\u001b[39;49m\u001b[43mpwd\u001b[49m\u001b[43m)\u001b[49m\n\u001b[1;32m      5\u001b[0m \u001b[43m)\u001b[49m\n",
      "File \u001b[0;32m~/.local/lib/python3.10/site-packages/papermill/execute.py:128\u001b[0m, in \u001b[0;36mexecute_notebook\u001b[0;34m(input_path, output_path, parameters, engine_name, request_save_on_cell_execute, prepare_only, kernel_name, language, progress_bar, log_output, stdout_file, stderr_file, start_timeout, report_mode, cwd, **engine_kwargs)\u001b[0m\n\u001b[1;32m    113\u001b[0m         nb \u001b[38;5;241m=\u001b[39m papermill_engines\u001b[38;5;241m.\u001b[39mexecute_notebook_with_engine(\n\u001b[1;32m    114\u001b[0m             engine_name,\n\u001b[1;32m    115\u001b[0m             nb,\n\u001b[0;32m   (...)\u001b[0m\n\u001b[1;32m    124\u001b[0m             \u001b[38;5;241m*\u001b[39m\u001b[38;5;241m*\u001b[39mengine_kwargs\n\u001b[1;32m    125\u001b[0m         )\n\u001b[1;32m    127\u001b[0m     \u001b[38;5;66;03m# Check for errors first (it saves on error before raising)\u001b[39;00m\n\u001b[0;32m--> 128\u001b[0m     \u001b[43mraise_for_execution_errors\u001b[49m\u001b[43m(\u001b[49m\u001b[43mnb\u001b[49m\u001b[43m,\u001b[49m\u001b[43m \u001b[49m\u001b[43moutput_path\u001b[49m\u001b[43m)\u001b[49m\n\u001b[1;32m    130\u001b[0m \u001b[38;5;66;03m# Write final output in case the engine didn't write it on cell completion.\u001b[39;00m\n\u001b[1;32m    131\u001b[0m write_ipynb(nb, output_path)\n",
      "File \u001b[0;32m~/.local/lib/python3.10/site-packages/papermill/execute.py:232\u001b[0m, in \u001b[0;36mraise_for_execution_errors\u001b[0;34m(nb, output_path)\u001b[0m\n\u001b[1;32m    229\u001b[0m nb\u001b[38;5;241m.\u001b[39mcells\u001b[38;5;241m.\u001b[39minsert(\u001b[38;5;241m0\u001b[39m, error_msg_cell)\n\u001b[1;32m    231\u001b[0m write_ipynb(nb, output_path)\n\u001b[0;32m--> 232\u001b[0m \u001b[38;5;28;01mraise\u001b[39;00m error\n",
      "\u001b[0;31mPapermillExecutionError\u001b[0m: \n---------------------------------------------------------------------------\nException encountered at \"In [10]\":\n---------------------------------------------------------------------------\nEmptyDataError                            Traceback (most recent call last)\nCell In[10], line 1\n----> 1 df = pd.read_table(\"info_table.tsv\", header=None)\n      2 df.columns = ['Genome', 'Strain', 'Taxonomy Id', 'Sequence length', \"GC Percent (%)\", \"ContigN50\", \"Gene count\"]\n      3 df.set_index(\"Genome\", inplace = True)\n\nFile ~/.local/lib/python3.10/site-packages/pandas/util/_decorators.py:211, in deprecate_kwarg.<locals>._deprecate_kwarg.<locals>.wrapper(*args, **kwargs)\n    209     else:\n    210         kwargs[new_arg_name] = new_arg_value\n--> 211 return func(*args, **kwargs)\n\nFile ~/.local/lib/python3.10/site-packages/pandas/util/_decorators.py:331, in deprecate_nonkeyword_arguments.<locals>.decorate.<locals>.wrapper(*args, **kwargs)\n    325 if len(args) > num_allow_args:\n    326     warnings.warn(\n    327         msg.format(arguments=_format_argument_list(allow_args)),\n    328         FutureWarning,\n    329         stacklevel=find_stack_level(),\n    330     )\n--> 331 return func(*args, **kwargs)\n\nFile ~/.local/lib/python3.10/site-packages/pandas/io/parsers/readers.py:1289, in read_table(filepath_or_buffer, sep, delimiter, header, names, index_col, usecols, squeeze, prefix, mangle_dupe_cols, dtype, engine, converters, true_values, false_values, skipinitialspace, skiprows, skipfooter, nrows, na_values, keep_default_na, na_filter, verbose, skip_blank_lines, parse_dates, infer_datetime_format, keep_date_col, date_parser, dayfirst, cache_dates, iterator, chunksize, compression, thousands, decimal, lineterminator, quotechar, quoting, doublequote, escapechar, comment, encoding, encoding_errors, dialect, error_bad_lines, warn_bad_lines, on_bad_lines, delim_whitespace, low_memory, memory_map, float_precision, storage_options)\n   1274 kwds_defaults = _refine_defaults_read(\n   1275     dialect,\n   1276     delimiter,\n   (...)\n   1285     defaults={\"delimiter\": \"\\t\"},\n   1286 )\n   1287 kwds.update(kwds_defaults)\n-> 1289 return _read(filepath_or_buffer, kwds)\n\nFile ~/.local/lib/python3.10/site-packages/pandas/io/parsers/readers.py:605, in _read(filepath_or_buffer, kwds)\n    602 _validate_names(kwds.get(\"names\", None))\n    604 # Create the parser.\n--> 605 parser = TextFileReader(filepath_or_buffer, **kwds)\n    607 if chunksize or iterator:\n    608     return parser\n\nFile ~/.local/lib/python3.10/site-packages/pandas/io/parsers/readers.py:1442, in TextFileReader.__init__(self, f, engine, **kwds)\n   1439     self.options[\"has_index_names\"] = kwds[\"has_index_names\"]\n   1441 self.handles: IOHandles | None = None\n-> 1442 self._engine = self._make_engine(f, self.engine)\n\nFile ~/.local/lib/python3.10/site-packages/pandas/io/parsers/readers.py:1753, in TextFileReader._make_engine(self, f, engine)\n   1750     raise ValueError(msg)\n   1752 try:\n-> 1753     return mapping[engine](f, **self.options)\n   1754 except Exception:\n   1755     if self.handles is not None:\n\nFile ~/.local/lib/python3.10/site-packages/pandas/io/parsers/c_parser_wrapper.py:79, in CParserWrapper.__init__(self, src, **kwds)\n     76     kwds.pop(key, None)\n     78 kwds[\"dtype\"] = ensure_dtype_objs(kwds.get(\"dtype\", None))\n---> 79 self._reader = parsers.TextReader(src, **kwds)\n     81 self.unnamed_cols = self._reader.unnamed_cols\n     83 # error: Cannot determine type of 'names'\n\nFile ~/.local/lib/python3.10/site-packages/pandas/_libs/parsers.pyx:554, in pandas._libs.parsers.TextReader.__cinit__()\n\nEmptyDataError: No columns to parse from file\n"
     ]
    }
   ],
   "source": [
    "pm.execute_notebook(\n",
    "   pwd+'/MastersProject.ipynb',\n",
    "   pwd+'/ParameterizedMastersProject.ipynb',\n",
    "   parameters=dict(taxon=\"\\'Deinococcus radiodurans\\'\", pwd=pwd)\n",
    ")"
   ]
  },
  {
   "cell_type": "code",
   "execution_count": null,
   "id": "953138b2",
   "metadata": {},
   "outputs": [],
   "source": []
  }
 ],
 "metadata": {
  "kernelspec": {
   "display_name": "Python 3 (ipykernel)",
   "language": "python",
   "name": "python3"
  },
  "language_info": {
   "codemirror_mode": {
    "name": "ipython",
    "version": 3
   },
   "file_extension": ".py",
   "mimetype": "text/x-python",
   "name": "python",
   "nbconvert_exporter": "python",
   "pygments_lexer": "ipython3",
   "version": "3.10.9"
  }
 },
 "nbformat": 4,
 "nbformat_minor": 5
}
