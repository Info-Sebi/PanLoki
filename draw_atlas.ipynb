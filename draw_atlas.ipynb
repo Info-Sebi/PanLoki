{
 "cells": [
  {
   "cell_type": "code",
   "execution_count": 68,
   "id": "4552cb1a-e69c-4c6b-9156-0ac5aebb2703",
   "metadata": {},
   "outputs": [],
   "source": [
    "import panel as pn\n",
    "import json\n",
    "import os\n",
    "import pandas as pd\n",
    "from collections import defaultdict\n"
   ]
  },
  {
   "cell_type": "code",
   "execution_count": 69,
   "id": "89fff740-bfd1-4a76-b6fc-0bc8e7d36dd8",
   "metadata": {},
   "outputs": [],
   "source": [
    "ch_dir = '/home/infosebi/Documents/Programmieren/MastersProject/test_3'"
   ]
  },
  {
   "cell_type": "code",
   "execution_count": 71,
   "id": "129fdb79-fc30-4d27-b92e-a67ed0159019",
   "metadata": {},
   "outputs": [
    {
     "name": "stdout",
     "output_type": "stream",
     "text": [
      "Launching server at http://localhost:38723\n"
     ]
    },
    {
     "data": {
      "text/plain": [
       "<panel.io.server.Server at 0x7f37951b4e10>"
      ]
     },
     "execution_count": 71,
     "metadata": {},
     "output_type": "execute_result"
    }
   ],
   "source": [
    "os.chdir(ch_dir)\n",
    "sequence_df = pd.read_csv('sequence_stats.csv', index_col=0)\n",
    "gene_df = pd.read_csv('genome_to_protein.csv', index_col=0)\n",
    "cluster_df = pd.read_csv('cluster_to_gene.csv', index_col=0, converters = {'genes': pd.eval})\n",
    "recluster_df = pd.read_csv('reclusters.txt', sep='\\t', index_col=0, names=['Cluster', 'Protein'])\n",
    "\n",
    "genome_list = []\n",
    "genome_select = []\n",
    "\n",
    "for index, row in sequence_df.iterrows():\n",
    "    genome_list.append({index: row['protein count']})\n",
    "    genome_select.append(index)\n",
    "    \n",
    "atlas_view = pn.pane.HTML(\"\"\"\n",
    "<iframe src=\"https://geneatlas.web.app/\" id=\"myFrame\" height=\"900\" width=\"850\" allow_embedding=True>\n",
    "</iframe>\n",
    "\"\"\",\n",
    "styles={'background-color': '#F6F6F6',\n",
    "'border': '2px solid black',\n",
    "'border-radius': '5px',\n",
    "'padding': '10px'}, height=900)\n",
    "html_helper = pn.pane.HTML(\" \")\n",
    "\n",
    "def send_atlas(event):\n",
    "    reference_genome = select_ref.value\n",
    "    cluster_dict_list = []\n",
    "    for index, row in gene_df.loc[(gene_df['genome'] == reference_genome) & (gene_df['type'] == 'protein')].iterrows():\n",
    "        cluster_dict  = defaultdict(list)\n",
    "        cluster_index = recluster_df.loc[recluster_df['Protein']==index].index[0]\n",
    "        gene_info = cluster_df.loc[cluster_index]['genes']\n",
    "        for gene in gene_info:\n",
    "            cluster_dict[gene_df.loc[gene]['genome']].append(int(gene_df.loc[gene]['protein number']))\n",
    "        cluster_dict_list.append(dict(cluster_dict))\n",
    "    atlas_json = {\"genomes\": genome_list, \"gensets\": cluster_dict_list}\n",
    "    atlas_json = json.dumps(atlas_json)\n",
    "\n",
    "    html_helper.object = f\"\"\"<script type=\"text/javascript\">\n",
    "    var panel_row_elements = document.getElementsByClassName('bk-Row');\n",
    "    console.log(panel_row_elements);\n",
    "    var myFrame = panel_row_elements[0].shadowRoot.childNodes[9].shadowRoot.childNodes[8].childNodes[0];\n",
    "    console.log(myFrame);\n",
    "    myFrame.contentWindow.postMessage(`{atlas_json}`, '*');\n",
    "    </script>\"\"\"\n",
    "    html_helper.param.trigger('object')\n",
    "\n",
    "select_ref = pn.widgets.Select(name='Select', options=genome_select)\n",
    "atlas_button = pn.widgets.Button(name='Draw Geneatlas', width=150, button_type='primary')\n",
    "atlas_button.on_click(send_atlas)\n",
    "\n",
    "pn.Row(atlas_view, select_ref ,atlas_button, html_helper).show()"
   ]
  },
  {
   "cell_type": "code",
   "execution_count": null,
   "id": "a38dcf2b-29d4-4445-a4ca-ff5decd098f4",
   "metadata": {},
   "outputs": [],
   "source": []
  }
 ],
 "metadata": {
  "kernelspec": {
   "display_name": "Python 3 (ipykernel)",
   "language": "python",
   "name": "python3"
  },
  "language_info": {
   "codemirror_mode": {
    "name": "ipython",
    "version": 3
   },
   "file_extension": ".py",
   "mimetype": "text/x-python",
   "name": "python",
   "nbconvert_exporter": "python",
   "pygments_lexer": "ipython3",
   "version": "3.11.7"
  }
 },
 "nbformat": 4,
 "nbformat_minor": 5
}
