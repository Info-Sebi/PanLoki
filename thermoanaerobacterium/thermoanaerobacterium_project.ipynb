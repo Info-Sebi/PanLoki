{
 "cells": [
  {
   "cell_type": "code",
   "execution_count": 1,
   "id": "6aecfabf",
   "metadata": {
    "execution": {
     "iopub.execute_input": "2023-04-04T13:07:00.136715Z",
     "iopub.status.busy": "2023-04-04T13:07:00.136467Z",
     "iopub.status.idle": "2023-04-04T13:07:00.551549Z",
     "shell.execute_reply": "2023-04-04T13:07:00.550189Z"
    },
    "papermill": {
     "duration": 0.424368,
     "end_time": "2023-04-04T13:07:00.553333",
     "exception": false,
     "start_time": "2023-04-04T13:07:00.128965",
     "status": "completed"
    },
    "tags": []
   },
   "outputs": [],
   "source": [
    "from IPython.display import Image\n",
    "from glob import glob\n",
    "import pandas as pd\n",
    "import numpy as np\n",
    "import os\n",
    "from pathlib import Path\n",
    "import subprocess\n",
    "from pyspark.sql import SparkSession\n",
    "from pyspark.sql.types import *\n",
    "from Bio import SeqIO\n",
    "from Bio.SeqRecord import SeqRecord"
   ]
  },
  {
   "cell_type": "code",
   "execution_count": 2,
   "id": "fd49ffca",
   "metadata": {
    "execution": {
     "iopub.execute_input": "2023-04-04T13:07:00.560873Z",
     "iopub.status.busy": "2023-04-04T13:07:00.560287Z",
     "iopub.status.idle": "2023-04-04T13:07:03.701387Z",
     "shell.execute_reply": "2023-04-04T13:07:03.700558Z"
    },
    "papermill": {
     "duration": 3.146864,
     "end_time": "2023-04-04T13:07:03.703305",
     "exception": false,
     "start_time": "2023-04-04T13:07:00.556441",
     "status": "completed"
    },
    "tags": []
   },
   "outputs": [
    {
     "name": "stderr",
     "output_type": "stream",
     "text": [
      "Setting default log level to \"WARN\".\n",
      "To adjust logging level use sc.setLogLevel(newLevel). For SparkR, use setLogLevel(newLevel).\n"
     ]
    },
    {
     "name": "stdout",
     "output_type": "stream",
     "text": [
      "23/04/04 13:07:02 WARN NativeCodeLoader: Unable to load native-hadoop library for your platform... using builtin-java classes where applicable\n"
     ]
    }
   ],
   "source": [
    "#os.environ[\"PYSPARK_GATEWAY_PORT\"]=45323\n",
    "#os.environ[\"PYSPARK_GATEWAY_SECRET\"]=1f5c85fdccaec5212a9cb3beadf12b67308ab20df4a4a43b00c0d91e7c6c6855\n",
    "#os.environ[\"PYSPARK_PIN_THREAD\"]=true\n",
    "\n",
    "spark = SparkSession.builder.appName('MastersProject').getOrCreate()"
   ]
  },
  {
   "cell_type": "code",
   "execution_count": 3,
   "id": "f9622609",
   "metadata": {
    "execution": {
     "iopub.execute_input": "2023-04-04T13:07:03.720021Z",
     "iopub.status.busy": "2023-04-04T13:07:03.719577Z",
     "iopub.status.idle": "2023-04-04T13:07:03.723273Z",
     "shell.execute_reply": "2023-04-04T13:07:03.722773Z"
    },
    "papermill": {
     "duration": 0.016441,
     "end_time": "2023-04-04T13:07:03.724486",
     "exception": false,
     "start_time": "2023-04-04T13:07:03.708045",
     "status": "completed"
    },
    "tags": [
     "parameters"
    ]
   },
   "outputs": [],
   "source": [
    "taxon = '\\\"Escherichia coli\\\"'\n",
    "pwd = \"/home/infosebi/Documents/MastersProject\"\n",
    "number_of_genomes=5"
   ]
  },
  {
   "cell_type": "code",
   "execution_count": 4,
   "id": "e7a51e63",
   "metadata": {
    "execution": {
     "iopub.execute_input": "2023-04-04T13:07:03.732242Z",
     "iopub.status.busy": "2023-04-04T13:07:03.731647Z",
     "iopub.status.idle": "2023-04-04T13:07:03.736567Z",
     "shell.execute_reply": "2023-04-04T13:07:03.735467Z"
    },
    "papermill": {
     "duration": 0.010343,
     "end_time": "2023-04-04T13:07:03.738019",
     "exception": false,
     "start_time": "2023-04-04T13:07:03.727676",
     "status": "completed"
    },
    "tags": [
     "injected-parameters"
    ]
   },
   "outputs": [],
   "source": [
    "# Parameters\n",
    "taxon = \"'Thermoanaerobacterium'\"\n",
    "pwd = \"/home/infosebi/Documents/Programmieren/MastersProject/thermoanaerobacterium\"\n",
    "number_of_genomes = 5\n"
   ]
  },
  {
   "cell_type": "code",
   "execution_count": 5,
   "id": "fdde1723",
   "metadata": {
    "execution": {
     "iopub.execute_input": "2023-04-04T13:07:03.745217Z",
     "iopub.status.busy": "2023-04-04T13:07:03.744987Z",
     "iopub.status.idle": "2023-04-04T13:07:05.398812Z",
     "shell.execute_reply": "2023-04-04T13:07:05.398258Z"
    },
    "papermill": {
     "duration": 1.65899,
     "end_time": "2023-04-04T13:07:05.400145",
     "exception": false,
     "start_time": "2023-04-04T13:07:03.741155",
     "status": "completed"
    },
    "tags": []
   },
   "outputs": [
    {
     "name": "stderr",
     "output_type": "stream",
     "text": [
      "New version of client (14.20.0) available at https://ftp.ncbi.nlm.nih.gov/pub/datasets/command-line/LATEST/linux-amd64/datasets\n"
     ]
    },
    {
     "name": "stdout",
     "output_type": "stream",
     "text": [
      "5\n"
     ]
    }
   ],
   "source": [
    "os.chdir(pwd)\n",
    "taxon_file = taxon.lower().replace(\" \", \"_\").replace(\"\\'\", \"\")\n",
    "subprocess.run(f\"\"\"ncbi-datasets summary genome taxon {str(taxon)} --assembly-level complete --assembly-source genbank --annotated>  {taxon_file}.json\"\"\", shell=True)\n",
    "p = subprocess.Popen(f\"\"\"jq '.total_count' {taxon_file}.json\"\"\", stdout=subprocess.PIPE, shell=True)\n",
    "print(p.stdout.read().decode('ascii').strip())"
   ]
  },
  {
   "cell_type": "code",
   "execution_count": 6,
   "id": "bcb6ef94",
   "metadata": {
    "execution": {
     "iopub.execute_input": "2023-04-04T13:07:05.408244Z",
     "iopub.status.busy": "2023-04-04T13:07:05.407530Z",
     "iopub.status.idle": "2023-04-04T13:07:05.448176Z",
     "shell.execute_reply": "2023-04-04T13:07:05.447635Z"
    },
    "papermill": {
     "duration": 0.045894,
     "end_time": "2023-04-04T13:07:05.449331",
     "exception": false,
     "start_time": "2023-04-04T13:07:05.403437",
     "status": "completed"
    },
    "tags": []
   },
   "outputs": [
    {
     "data": {
      "text/plain": [
       "CompletedProcess(args=\"cat thermoanaerobacterium.json | jq -r '.reports[] | [.accession, .organism.infraspecific_names.strain, .organism.tax_id, .assembly_stats.total_sequence_length, .assembly_stats.gc_count, .assembly_stats.contig_n50, .annotation_info.stats.gene_counts.total] | @tsv' | head -5 > info_table.tsv\", returncode=0)"
      ]
     },
     "execution_count": 6,
     "metadata": {},
     "output_type": "execute_result"
    }
   ],
   "source": [
    "subprocess.run(f\"cat {taxon_file}.json | jq -r '.reports[] | [.accession, .organism.infraspecific_names.strain, .organism.tax_id, .assembly_stats.total_sequence_length, .assembly_stats.gc_count, .assembly_stats.contig_n50, .annotation_info.stats.gene_counts.total] | @tsv' | head -{number_of_genomes} > info_table.tsv\", shell=True) "
   ]
  },
  {
   "cell_type": "code",
   "execution_count": 7,
   "id": "e3fbbd3a",
   "metadata": {
    "execution": {
     "iopub.execute_input": "2023-04-04T13:07:05.456125Z",
     "iopub.status.busy": "2023-04-04T13:07:05.455927Z",
     "iopub.status.idle": "2023-04-04T13:07:05.492492Z",
     "shell.execute_reply": "2023-04-04T13:07:05.491870Z"
    },
    "papermill": {
     "duration": 0.041484,
     "end_time": "2023-04-04T13:07:05.493682",
     "exception": false,
     "start_time": "2023-04-04T13:07:05.452198",
     "status": "completed"
    },
    "tags": []
   },
   "outputs": [
    {
     "data": {
      "text/plain": [
       "CompletedProcess(args=\"cat thermoanaerobacterium.json | jq -r '.reports[]| .accession' | head -5 > accession_list.txt\", returncode=0)"
      ]
     },
     "execution_count": 7,
     "metadata": {},
     "output_type": "execute_result"
    }
   ],
   "source": [
    "subprocess.run(f\"cat {taxon_file}.json | jq -r '.reports[]| .accession' | head -{number_of_genomes} > accession_list.txt\", shell=True)"
   ]
  },
  {
   "cell_type": "code",
   "execution_count": 8,
   "id": "ad12954c",
   "metadata": {
    "execution": {
     "iopub.execute_input": "2023-04-04T13:07:05.500510Z",
     "iopub.status.busy": "2023-04-04T13:07:05.500308Z",
     "iopub.status.idle": "2023-04-04T13:07:12.063153Z",
     "shell.execute_reply": "2023-04-04T13:07:12.061600Z"
    },
    "papermill": {
     "duration": 6.570935,
     "end_time": "2023-04-04T13:07:12.067587",
     "exception": false,
     "start_time": "2023-04-04T13:07:05.496652",
     "status": "completed"
    },
    "tags": []
   },
   "outputs": [
    {
     "name": "stderr",
     "output_type": "stream",
     "text": [
      "New version of client (14.20.0) available at https://ftp.ncbi.nlm.nih.gov/pub/datasets/command-line/LATEST/linux-amd64/datasets\n",
      "Collecting 5  records [------------------------------------------------]   0% 0/5\n",
      "\u001b[1A\u001b[2KCollecting 5  records [------------------------------------------------]   0% 0/5\n",
      "\u001b[1A\u001b[2KCollecting 5  records [------------------------------------------------]   0% 0/5\n",
      "\u001b[1A\u001b[2KCollecting 5  records [------------------------------------------------]   0% 0/5\n",
      "\u001b[1A\u001b[2KCollecting 5  records [------------------------------------------------]   0% 0/5\n",
      "\u001b[1A\u001b[2KCollecting 5  records [------------------------------------------------]   0% 0/5\n",
      "\u001b[1A\u001b[2KCollecting 5  records [------------------------------------------------]   0% 0/5\n",
      "\u001b[1A\u001b[2KCollecting 5  records [------------------------------------------------]   0% 0/5\n",
      "\u001b[1A\u001b[2KCollecting 5  records [------------------------------------------------]   0% 0/5\n",
      "\u001b[1A\u001b[2KCollecting 5  records [------------------------------------------------]   0% 0/5\n",
      "\u001b[1A\u001b[2KCollecting 5  records [------------------------------------------------]   0% 0/5\n",
      "\u001b[1A\u001b[2KCollecting 5  records [------------------------------------------------]   0% 0/5\n",
      "\u001b[1A\u001b[2KCollecting 5  records [------------------------------------------------]   0% 0/5\n",
      "\u001b[1A\u001b[2KCollecting 5  records [------------------------------------------------]   0% 0/5\n",
      "\u001b[1A\u001b[2KCollecting 5  records [------------------------------------------------]   0% 0/5\n",
      "\u001b[1A\u001b[2KCollecting 5  records [------------------------------------------------]   0% 0/5\n",
      "\u001b[1A\u001b[2KCollecting 5  records [------------------------------------------------]   0% 0/5\n",
      "\u001b[1A\u001b[2KCollecting 5  records [------------------------------------------------]   0% 0/5\n",
      "\u001b[1A\u001b[2KCollecting 5  records [------------------------------------------------]   0% 0/5\n",
      "\u001b[1A\u001b[2KCollecting 5  records [------------------------------------------------]   0% 0/5\n"
     ]
    },
    {
     "name": "stderr",
     "output_type": "stream",
     "text": [
      "\u001b[1A\u001b[2KCollecting 5  records [------------------------------------------------]   0% 0/5\n",
      "\u001b[1A\u001b[2KCollecting 5  records [------------------------------------------------]   0% 0/5\n",
      "\u001b[1A\u001b[2KCollecting 5  records [------------------------------------------------]   0% 0/5\n",
      "\u001b[1A\u001b[2KCollecting 5  records [------------------------------------------------]   0% 0/5\n",
      "\u001b[1A\u001b[2KCollecting 5  records [------------------------------------------------]   0% 0/5\n",
      "\u001b[1A\u001b[2KCollecting 5  records [------------------------------------------------]   0% 0/5\n",
      "\u001b[1A\u001b[2KCollecting 5  records [------------------------------------------------]   0% 0/5\n",
      "\u001b[1A\u001b[2KCollecting 5  records [------------------------------------------------]   0% 0/5\n",
      "\u001b[1A\u001b[2KCollecting 5  records [------------------------------------------------]   0% 0/5\n",
      "\u001b[1A\u001b[2KCollecting 5  records [------------------------------------------------]   0% 0/5\n",
      "\u001b[1A\u001b[2KCollecting 5  records [------------------------------------------------]   0% 0/5\n",
      "\u001b[1A\u001b[2KCollecting 5  records [------------------------------------------------]   0% 0/5\n",
      "\u001b[1A\u001b[2KCollecting 5  records [------------------------------------------------]   0% 0/5\n",
      "\u001b[1A\u001b[2KCollecting 5  records [------------------------------------------------]   0% 0/5\n",
      "\u001b[1A\u001b[2KCollecting 5  records [------------------------------------------------]   0% 0/5\n",
      "\u001b[1A\u001b[2KCollecting 5  records [------------------------------------------------]   0% 0/5\n",
      "\u001b[1A\u001b[2KCollecting 5  records [------------------------------------------------]   0% 0/5\n",
      "\u001b[1A\u001b[2KCollecting 5  records [------------------------------------------------]   0% 0/5\n",
      "\u001b[1A\u001b[2KCollecting 5  records [------------------------------------------------]   0% 0/5\n",
      "\u001b[1A\u001b[2KCollecting 5  records [------------------------------------------------]   0% 0/5\n"
     ]
    },
    {
     "name": "stderr",
     "output_type": "stream",
     "text": [
      "\u001b[1A\u001b[2KCollecting 5  records [------------------------------------------------]   0% 0/5\n",
      "\u001b[1A\u001b[2KCollecting 5  records [------------------------------------------------]   0% 0/5\n",
      "\u001b[1A\u001b[2KCollecting 5  records [------------------------------------------------]   0% 0/5\n",
      "\u001b[1A\u001b[2KCollecting 5  records [------------------------------------------------]   0% 0/5\n",
      "\u001b[1A\u001b[2KCollecting 5  records [------------------------------------------------]   0% 0/5\n",
      "\u001b[1A\u001b[2KCollecting 5  records [------------------------------------------------]   0% 0/5\n",
      "\u001b[1A\u001b[2KCollecting 5  records [------------------------------------------------]   0% 0/5\n",
      "\u001b[1A\u001b[2KCollecting 5  records [------------------------------------------------]   0% 0/5\n",
      "\u001b[1A\u001b[2KCollecting 5  records [------------------------------------------------]   0% 0/5\n",
      "\u001b[1A\u001b[2KCollecting 5  records [------------------------------------------------]   0% 0/5\n",
      "\u001b[1A\u001b[2KCollecting 5  records [------------------------------------------------]   0% 0/5\n",
      "\u001b[1A\u001b[2KCollecting 5  records [------------------------------------------------]   0% 0/5\n",
      "\u001b[1A\u001b[2KCollecting 5  records [------------------------------------------------]   0% 0/5\n",
      "\u001b[1A\u001b[2KCollecting 5  records [------------------------------------------------]   0% 0/5\n",
      "\u001b[1A\u001b[2KCollecting 5  records [------------------------------------------------]   0% 0/5\n",
      "\u001b[1A\u001b[2KCollecting 5  records [------------------------------------------------]   0% 0/5\n",
      "\u001b[1A\u001b[2KCollecting 5  records [------------------------------------------------]   0% 0/5\n",
      "\u001b[1A\u001b[2KCollecting 5  records [------------------------------------------------]   0% 0/5\n",
      "\u001b[1A\u001b[2KCollecting 5  records [------------------------------------------------]   0% 0/5\n",
      "\u001b[1A\u001b[2KCollecting 5  records [------------------------------------------------]   0% 0/5\n"
     ]
    },
    {
     "name": "stderr",
     "output_type": "stream",
     "text": [
      "\u001b[1A\u001b[2KCollecting 5  records [------------------------------------------------]   0% 0/5\n",
      "\u001b[1A\u001b[2KCollecting 5  records [------------------------------------------------]   0% 0/5\n",
      "\u001b[1A\u001b[2KCollecting 5  records [------------------------------------------------]   0% 0/5\n",
      "\u001b[1A\u001b[2KCollecting 5  records [------------------------------------------------]   0% 0/5\n",
      "\u001b[1A\u001b[2KCollecting 5  records [------------------------------------------------]   0% 0/5\n",
      "\u001b[1A\u001b[2KCollecting 5  records [------------------------------------------------]   0% 0/5\n",
      "\u001b[1A\u001b[2KCollecting 5  records [------------------------------------------------]   0% 0/5\n",
      "\u001b[1A\u001b[2KCollecting 5  records [================================================] 100% 5/5\n",
      "\u001b[1A\u001b[2KCollecting 5  records [================================================] 100% 5/5\n",
      "\u001b[1A\u001b[2KCollecting 5  records [================================================] 100% 5/5\n",
      "\u001b[1A\u001b[2KCollecting 5  records [================================================] 100% 5/5\n",
      "\u001b[1A\u001b[2KCollecting 5  records [================================================] 100% 5/5\n",
      "\u001b[1A\u001b[2KCollecting 5  records [================================================] 100% 5/5\n",
      "\u001b[1A\u001b[2KCollecting 5  records [================================================] 100% 5/5\n",
      "\u001b[1A\u001b[2KCollecting 5  records [================================================] 100% 5/5\n",
      "\u001b[1A\u001b[2KCollecting 5  records [================================================] 100% 5/5\n",
      "\u001b[1A\u001b[2KCollecting 5  records [================================================] 100% 5/5\n",
      "\u001b[1A\u001b[2KCollecting 5  records [================================================] 100% 5/5\n",
      "\u001b[1A\u001b[2KCollecting 5  records [================================================] 100% 5/5\n",
      "\u001b[1A\u001b[2KCollecting 5  records [================================================] 100% 5/5\n"
     ]
    },
    {
     "name": "stderr",
     "output_type": "stream",
     "text": [
      "\u001b[1A\u001b[2KCollecting 5  records [================================================] 100% 5/5\n",
      "\u001b[1A\u001b[2KCollecting 5  records [================================================] 100% 5/5\n",
      "\u001b[1A\u001b[2KCollecting 5  records [================================================] 100% 5/5\n",
      "\u001b[1A\u001b[2KCollecting 5  records [================================================] 100% 5/5\n",
      "\u001b[1A\u001b[2KCollecting 5  records [================================================] 100% 5/5\n",
      "\u001b[1A\u001b[2KCollecting 5  records [================================================] 100% 5/5\n",
      "\u001b[1A\u001b[2KCollecting 5  records [================================================] 100% 5/5\n",
      "\u001b[1A\u001b[2KCollecting 5  records [================================================] 100% 5/5\n",
      "\u001b[1A\u001b[2KCollecting 5  records [================================================] 100% 5/5\n",
      "\u001b[1A\u001b[2KCollecting 5  records [================================================] 100% 5/5\n",
      "\u001b[1A\u001b[2KCollecting 5  records [================================================] 100% 5/5\n",
      "\u001b[1A\u001b[2KCollecting 5  records [================================================] 100% 5/5\n",
      "\u001b[1A\u001b[2KCollecting 5  records [================================================] 100% 5/5\n",
      "\u001b[1A\u001b[2KCollecting 5  records [================================================] 100% 5/5\n",
      "\u001b[1A\u001b[2KCollecting 5  records [================================================] 100% 5/5\n",
      "\u001b[1A\u001b[2KCollecting 5  records [================================================] 100% 5/5\n",
      "\u001b[1A\u001b[2KCollecting 5  records [================================================] 100% 5/5\n",
      "\u001b[1A\u001b[2KCollecting 5  records [================================================] 100% 5/5\n",
      "\u001b[1A\u001b[2KCollecting 5  records [================================================] 100% 5/5\n",
      "\u001b[1A\u001b[2KCollecting 5  records [================================================] 100% 5/5\n"
     ]
    },
    {
     "name": "stderr",
     "output_type": "stream",
     "text": [
      "\u001b[1A\u001b[2KCollecting 5  records [================================================] 100% 5/5\n",
      "\u001b[1A\u001b[2KCollecting 5  records [================================================] 100% 5/5\n",
      "\u001b[1A\u001b[2KCollecting 5  records [================================================] 100% 5/5\n",
      "\u001b[1A\u001b[2KCollecting 5  records [================================================] 100% 5/5\n",
      "\u001b[1A\u001b[2KCollecting 5  records [================================================] 100% 5/5\n",
      "\u001b[1A\u001b[2KCollecting 5  records [================================================] 100% 5/5\n",
      "\u001b[1A\u001b[2KCollecting 5  records [================================================] 100% 5/5\n",
      "\u001b[1A\u001b[2KCollecting 5  records [================================================] 100% 5/5\n",
      "Downloading: thermoanaerobacterium.zip    6.51kB 35.7MB/s\n",
      "\u001b[1A\u001b[2K\u001b[1A\u001b[2KCollecting 5  records [================================================] 100% 5/5\n",
      "Downloading: thermoanaerobacterium.zip    6.51kB 35.7MB/s\n",
      "\u001b[1A\u001b[2K\u001b[1A\u001b[2KCollecting 5  records [================================================] 100% 5/5\n",
      "Downloading: thermoanaerobacterium.zip    6.51kB 35.7MB/s\n",
      "\u001b[1A\u001b[2K\u001b[1A\u001b[2KCollecting 5  records [================================================] 100% 5/5\n",
      "Downloading: thermoanaerobacterium.zip    6.51kB 35.7MB/s\n",
      "\u001b[1A\u001b[2K\u001b[1A\u001b[2KCollecting 5  records [================================================] 100% 5/5\n",
      "Downloading: thermoanaerobacterium.zip    6.51kB 35.7MB/s\n",
      "\u001b[1A\u001b[2K\u001b[1A\u001b[2KCollecting 5  records [================================================] 100% 5/5\n",
      "Downloading: thermoanaerobacterium.zip    6.51kB 35.7MB/s\n",
      "\u001b[1A\u001b[2K\u001b[1A\u001b[2KCollecting 5  records [================================================] 100% 5/5\n",
      "Downloading: thermoanaerobacterium.zip    6.51kB 35.7MB/s\n",
      "\u001b[1A\u001b[2K\u001b[1A\u001b[2KCollecting 5  records [================================================] 100% 5/5\n",
      "Downloading: thermoanaerobacterium.zip    6.51kB 35.7MB/s\n",
      "\u001b[1A\u001b[2K\u001b[1A\u001b[2KCollecting 5  records [================================================] 100% 5/5\n",
      "Downloading: thermoanaerobacterium.zip    6.51kB 35.7MB/s\n",
      "\u001b[1A\u001b[2K\u001b[1A\u001b[2KCollecting 5  records [================================================] 100% 5/5\n",
      "Downloading: thermoanaerobacterium.zip    6.51kB 35.7MB/s\n",
      "\u001b[1A\u001b[2K\u001b[1A\u001b[2KCollecting 5  records [================================================] 100% 5/5\n",
      "Downloading: thermoanaerobacterium.zip    6.51kB 35.7MB/s\n",
      "\u001b[1A\u001b[2K\u001b[1A\u001b[2KCollecting 5  records [================================================] 100% 5/5\n",
      "Downloading: thermoanaerobacterium.zip    6.51kB 35.7MB/s\n",
      "\u001b[1A\u001b[2K\u001b[1A\u001b[2KCollecting 5  records [================================================] 100% 5/5\n",
      "Downloading: thermoanaerobacterium.zip    6.51kB 35.7MB/s\n"
     ]
    },
    {
     "name": "stderr",
     "output_type": "stream",
     "text": [
      "\u001b[1A\u001b[2K\u001b[1A\u001b[2KCollecting 5  records [================================================] 100% 5/5\n",
      "Downloading: thermoanaerobacterium.zip    6.51kB 35.7MB/s\n",
      "\u001b[1A\u001b[2K\u001b[1A\u001b[2KCollecting 5  records [================================================] 100% 5/5\n",
      "Downloading: thermoanaerobacterium.zip    32.8kB 217kB/s\n",
      "\u001b[1A\u001b[2K\u001b[1A\u001b[2KCollecting 5  records [================================================] 100% 5/5\n",
      "Downloading: thermoanaerobacterium.zip    32.8kB 217kB/s\n",
      "\u001b[1A\u001b[2K\u001b[1A\u001b[2KCollecting 5  records [================================================] 100% 5/5\n",
      "Downloading: thermoanaerobacterium.zip    32.8kB 217kB/s\n",
      "\u001b[1A\u001b[2K\u001b[1A\u001b[2KCollecting 5  records [================================================] 100% 5/5\n",
      "Downloading: thermoanaerobacterium.zip    32.8kB 217kB/s\n",
      "\u001b[1A\u001b[2K\u001b[1A\u001b[2KCollecting 5  records [================================================] 100% 5/5\n",
      "Downloading: thermoanaerobacterium.zip    32.8kB 217kB/s\n",
      "\u001b[1A\u001b[2K\u001b[1A\u001b[2KCollecting 5  records [================================================] 100% 5/5\n",
      "Downloading: thermoanaerobacterium.zip    32.8kB 217kB/s\n",
      "\u001b[1A\u001b[2K\u001b[1A\u001b[2KCollecting 5  records [================================================] 100% 5/5\n",
      "Downloading: thermoanaerobacterium.zip    32.8kB 217kB/s\n",
      "\u001b[1A\u001b[2K\u001b[1A\u001b[2KCollecting 5  records [================================================] 100% 5/5\n",
      "Downloading: thermoanaerobacterium.zip    32.8kB 217kB/s\n",
      "\u001b[1A\u001b[2K\u001b[1A\u001b[2KCollecting 5  records [================================================] 100% 5/5\n",
      "Downloading: thermoanaerobacterium.zip    32.8kB 217kB/s\n",
      "\u001b[1A\u001b[2K\u001b[1A\u001b[2KCollecting 5  records [================================================] 100% 5/5\n",
      "Downloading: thermoanaerobacterium.zip    32.8kB 217kB/s\n",
      "\u001b[1A\u001b[2K\u001b[1A\u001b[2KCollecting 5  records [================================================] 100% 5/5\n",
      "Downloading: thermoanaerobacterium.zip    32.8kB 217kB/s\n",
      "\u001b[1A\u001b[2K\u001b[1A\u001b[2KCollecting 5  records [================================================] 100% 5/5\n",
      "Downloading: thermoanaerobacterium.zip    32.8kB 217kB/s\n",
      "\u001b[1A\u001b[2K\u001b[1A\u001b[2KCollecting 5  records [================================================] 100% 5/5\n",
      "Downloading: thermoanaerobacterium.zip    32.8kB 217kB/s\n",
      "\u001b[1A\u001b[2K\u001b[1A\u001b[2KCollecting 5  records [================================================] 100% 5/5\n",
      "Downloading: thermoanaerobacterium.zip    65.5kB 226kB/s\n",
      "\u001b[1A\u001b[2K\u001b[1A\u001b[2KCollecting 5  records [================================================] 100% 5/5\n",
      "Downloading: thermoanaerobacterium.zip    65.5kB 226kB/s\n",
      "\u001b[1A\u001b[2K\u001b[1A\u001b[2KCollecting 5  records [================================================] 100% 5/5\n",
      "Downloading: thermoanaerobacterium.zip    65.5kB 226kB/s\n",
      "\u001b[1A\u001b[2K\u001b[1A\u001b[2KCollecting 5  records [================================================] 100% 5/5\n",
      "Downloading: thermoanaerobacterium.zip    65.5kB 226kB/s\n",
      "\u001b[1A\u001b[2K\u001b[1A\u001b[2KCollecting 5  records [================================================] 100% 5/5\n",
      "Downloading: thermoanaerobacterium.zip    65.5kB 226kB/s\n",
      "\u001b[1A\u001b[2K\u001b[1A\u001b[2KCollecting 5  records [================================================] 100% 5/5\n",
      "Downloading: thermoanaerobacterium.zip    65.5kB 226kB/s\n"
     ]
    },
    {
     "name": "stderr",
     "output_type": "stream",
     "text": [
      "\u001b[1A\u001b[2K\u001b[1A\u001b[2KCollecting 5  records [================================================] 100% 5/5\n",
      "Downloading: thermoanaerobacterium.zip    65.5kB 226kB/s\n",
      "\u001b[1A\u001b[2K\u001b[1A\u001b[2KCollecting 5  records [================================================] 100% 5/5\n",
      "Downloading: thermoanaerobacterium.zip    65.5kB 226kB/s\n",
      "\u001b[1A\u001b[2K\u001b[1A\u001b[2KCollecting 5  records [================================================] 100% 5/5\n",
      "Downloading: thermoanaerobacterium.zip    65.5kB 226kB/s\n",
      "\u001b[1A\u001b[2K\u001b[1A\u001b[2KCollecting 5  records [================================================] 100% 5/5\n",
      "Downloading: thermoanaerobacterium.zip    65.5kB 226kB/s\n",
      "\u001b[1A\u001b[2K\u001b[1A\u001b[2KCollecting 5  records [================================================] 100% 5/5\n",
      "Downloading: thermoanaerobacterium.zip    65.5kB 226kB/s\n",
      "\u001b[1A\u001b[2K\u001b[1A\u001b[2KCollecting 5  records [================================================] 100% 5/5\n",
      "Downloading: thermoanaerobacterium.zip    65.5kB 226kB/s\n",
      "\u001b[1A\u001b[2K\u001b[1A\u001b[2KCollecting 5  records [================================================] 100% 5/5\n",
      "Downloading: thermoanaerobacterium.zip    98.3kB 237kB/s\n",
      "\u001b[1A\u001b[2K\u001b[1A\u001b[2KCollecting 5  records [================================================] 100% 5/5\n",
      "Downloading: thermoanaerobacterium.zip    131kB 306kB/s\n",
      "\u001b[1A\u001b[2K\u001b[1A\u001b[2KCollecting 5  records [================================================] 100% 5/5\n",
      "Downloading: thermoanaerobacterium.zip    131kB 306kB/s\n",
      "\u001b[1A\u001b[2K\u001b[1A\u001b[2KCollecting 5  records [================================================] 100% 5/5\n",
      "Downloading: thermoanaerobacterium.zip    131kB 306kB/s\n",
      "\u001b[1A\u001b[2K\u001b[1A\u001b[2KCollecting 5  records [================================================] 100% 5/5\n",
      "Downloading: thermoanaerobacterium.zip    131kB 306kB/s\n",
      "\u001b[1A\u001b[2K\u001b[1A\u001b[2KCollecting 5  records [================================================] 100% 5/5\n",
      "Downloading: thermoanaerobacterium.zip    131kB 306kB/s\n",
      "\u001b[1A\u001b[2K\u001b[1A\u001b[2KCollecting 5  records [================================================] 100% 5/5\n",
      "Downloading: thermoanaerobacterium.zip    131kB 306kB/s\n",
      "\u001b[1A\u001b[2K\u001b[1A\u001b[2KCollecting 5  records [================================================] 100% 5/5\n",
      "Downloading: thermoanaerobacterium.zip    131kB 306kB/s\n",
      "\u001b[1A\u001b[2K\u001b[1A\u001b[2KCollecting 5  records [================================================] 100% 5/5\n",
      "Downloading: thermoanaerobacterium.zip    131kB 306kB/s\n",
      "\u001b[1A\u001b[2K\u001b[1A\u001b[2KCollecting 5  records [================================================] 100% 5/5\n",
      "Downloading: thermoanaerobacterium.zip    131kB 306kB/s\n",
      "\u001b[1A\u001b[2K\u001b[1A\u001b[2KCollecting 5  records [================================================] 100% 5/5\n",
      "Downloading: thermoanaerobacterium.zip    131kB 306kB/s\n",
      "\u001b[1A\u001b[2K\u001b[1A\u001b[2KCollecting 5  records [================================================] 100% 5/5\n",
      "Downloading: thermoanaerobacterium.zip    131kB 306kB/s\n",
      "\u001b[1A\u001b[2K\u001b[1A\u001b[2KCollecting 5  records [================================================] 100% 5/5\n",
      "Downloading: thermoanaerobacterium.zip    131kB 306kB/s\n",
      "\u001b[1A\u001b[2K\u001b[1A\u001b[2KCollecting 5  records [================================================] 100% 5/5\n",
      "Downloading: thermoanaerobacterium.zip    197kB 355kB/s\n"
     ]
    },
    {
     "name": "stderr",
     "output_type": "stream",
     "text": [
      "\u001b[1A\u001b[2K\u001b[1A\u001b[2KCollecting 5  records [================================================] 100% 5/5\n",
      "Downloading: thermoanaerobacterium.zip    262kB 463kB/s\n",
      "\u001b[1A\u001b[2K\u001b[1A\u001b[2KCollecting 5  records [================================================] 100% 5/5\n",
      "Downloading: thermoanaerobacterium.zip    262kB 463kB/s\n",
      "\u001b[1A\u001b[2K\u001b[1A\u001b[2KCollecting 5  records [================================================] 100% 5/5\n",
      "Downloading: thermoanaerobacterium.zip    262kB 463kB/s\n",
      "\u001b[1A\u001b[2K\u001b[1A\u001b[2KCollecting 5  records [================================================] 100% 5/5\n",
      "Downloading: thermoanaerobacterium.zip    262kB 463kB/s\n",
      "\u001b[1A\u001b[2K\u001b[1A\u001b[2KCollecting 5  records [================================================] 100% 5/5\n",
      "Downloading: thermoanaerobacterium.zip    262kB 463kB/s\n",
      "\u001b[1A\u001b[2K\u001b[1A\u001b[2KCollecting 5  records [================================================] 100% 5/5\n",
      "Downloading: thermoanaerobacterium.zip    295kB 484kB/s\n",
      "\u001b[1A\u001b[2K\u001b[1A\u001b[2KCollecting 5  records [================================================] 100% 5/5\n",
      "Downloading: thermoanaerobacterium.zip    295kB 484kB/s\n",
      "\u001b[1A\u001b[2K\u001b[1A\u001b[2KCollecting 5  records [================================================] 100% 5/5\n",
      "Downloading: thermoanaerobacterium.zip    295kB 484kB/s\n",
      "\u001b[1A\u001b[2K\u001b[1A\u001b[2KCollecting 5  records [================================================] 100% 5/5\n",
      "Downloading: thermoanaerobacterium.zip    295kB 484kB/s\n",
      "\u001b[1A\u001b[2K\u001b[1A\u001b[2KCollecting 5  records [================================================] 100% 5/5\n",
      "Downloading: thermoanaerobacterium.zip    295kB 484kB/s\n",
      "\u001b[1A\u001b[2K\u001b[1A\u001b[2KCollecting 5  records [================================================] 100% 5/5\n",
      "Downloading: thermoanaerobacterium.zip    295kB 484kB/s\n",
      "\u001b[1A\u001b[2K\u001b[1A\u001b[2KCollecting 5  records [================================================] 100% 5/5\n",
      "Downloading: thermoanaerobacterium.zip    295kB 484kB/s\n",
      "\u001b[1A\u001b[2K\u001b[1A\u001b[2KCollecting 5  records [================================================] 100% 5/5\n",
      "Downloading: thermoanaerobacterium.zip    295kB 484kB/s\n",
      "\u001b[1A\u001b[2K\u001b[1A\u001b[2KCollecting 5  records [================================================] 100% 5/5\n",
      "Downloading: thermoanaerobacterium.zip    492kB 703kB/s\n",
      "\u001b[1A\u001b[2K\u001b[1A\u001b[2KCollecting 5  records [================================================] 100% 5/5\n",
      "Downloading: thermoanaerobacterium.zip    524kB 744kB/s\n",
      "\u001b[1A\u001b[2K\u001b[1A\u001b[2KCollecting 5  records [================================================] 100% 5/5\n",
      "Downloading: thermoanaerobacterium.zip    557kB 778kB/s\n",
      "\u001b[1A\u001b[2K\u001b[1A\u001b[2KCollecting 5  records [================================================] 100% 5/5\n",
      "Downloading: thermoanaerobacterium.zip    557kB 778kB/s\n",
      "\u001b[1A\u001b[2K\u001b[1A\u001b[2KCollecting 5  records [================================================] 100% 5/5\n",
      "Downloading: thermoanaerobacterium.zip    557kB 778kB/s\n",
      "\u001b[1A\u001b[2K\u001b[1A\u001b[2KCollecting 5  records [================================================] 100% 5/5\n",
      "Downloading: thermoanaerobacterium.zip    590kB 788kB/s\n",
      "\u001b[1A\u001b[2K\u001b[1A\u001b[2KCollecting 5  records [================================================] 100% 5/5\n",
      "Downloading: thermoanaerobacterium.zip    590kB 788kB/s\n"
     ]
    },
    {
     "name": "stderr",
     "output_type": "stream",
     "text": [
      "\u001b[1A\u001b[2K\u001b[1A\u001b[2KCollecting 5  records [================================================] 100% 5/5\n",
      "Downloading: thermoanaerobacterium.zip    590kB 788kB/s\n",
      "\u001b[1A\u001b[2K\u001b[1A\u001b[2KCollecting 5  records [================================================] 100% 5/5\n",
      "Downloading: thermoanaerobacterium.zip    590kB 788kB/s\n",
      "\u001b[1A\u001b[2K\u001b[1A\u001b[2KCollecting 5  records [================================================] 100% 5/5\n",
      "Downloading: thermoanaerobacterium.zip    590kB 788kB/s\n",
      "\u001b[1A\u001b[2K\u001b[1A\u001b[2KCollecting 5  records [================================================] 100% 5/5\n",
      "Downloading: thermoanaerobacterium.zip    590kB 788kB/s\n",
      "\u001b[1A\u001b[2K\u001b[1A\u001b[2KCollecting 5  records [================================================] 100% 5/5\n",
      "Downloading: thermoanaerobacterium.zip    590kB 788kB/s\n",
      "\u001b[1A\u001b[2K\u001b[1A\u001b[2KCollecting 5  records [================================================] 100% 5/5\n",
      "Downloading: thermoanaerobacterium.zip    623kB 753kB/s\n",
      "\u001b[1A\u001b[2K\u001b[1A\u001b[2KCollecting 5  records [================================================] 100% 5/5\n",
      "Downloading: thermoanaerobacterium.zip    655kB 789kB/s\n",
      "\u001b[1A\u001b[2K\u001b[1A\u001b[2KCollecting 5  records [================================================] 100% 5/5\n",
      "Downloading: thermoanaerobacterium.zip    819kB 965kB/s\n",
      "\u001b[1A\u001b[2K\u001b[1A\u001b[2KCollecting 5  records [================================================] 100% 5/5\n",
      "Downloading: thermoanaerobacterium.zip    1.08MB 1.26MB/s\n",
      "\u001b[1A\u001b[2K\u001b[1A\u001b[2KCollecting 5  records [================================================] 100% 5/5\n",
      "Downloading: thermoanaerobacterium.zip    1.08MB 1.26MB/s\n",
      "\u001b[1A\u001b[2K\u001b[1A\u001b[2KCollecting 5  records [================================================] 100% 5/5\n",
      "Downloading: thermoanaerobacterium.zip    1.08MB 1.26MB/s\n",
      "\u001b[1A\u001b[2K\u001b[1A\u001b[2KCollecting 5  records [================================================] 100% 5/5\n",
      "Downloading: thermoanaerobacterium.zip    1.18MB 1.33MB/s\n",
      "\u001b[1A\u001b[2K\u001b[1A\u001b[2KCollecting 5  records [================================================] 100% 5/5\n",
      "Downloading: thermoanaerobacterium.zip    1.18MB 1.33MB/s\n",
      "\u001b[1A\u001b[2K\u001b[1A\u001b[2KCollecting 5  records [================================================] 100% 5/5\n",
      "Downloading: thermoanaerobacterium.zip    1.18MB 1.33MB/s\n",
      "\u001b[1A\u001b[2K\u001b[1A\u001b[2KCollecting 5  records [================================================] 100% 5/5\n",
      "Downloading: thermoanaerobacterium.zip    1.18MB 1.33MB/s\n",
      "\u001b[1A\u001b[2K\u001b[1A\u001b[2KCollecting 5  records [================================================] 100% 5/5\n",
      "Downloading: thermoanaerobacterium.zip    1.18MB 1.33MB/s\n",
      "\u001b[1A\u001b[2K\u001b[1A\u001b[2KCollecting 5  records [================================================] 100% 5/5\n",
      "Downloading: thermoanaerobacterium.zip    1.18MB 1.33MB/s\n",
      "\u001b[1A\u001b[2K\u001b[1A\u001b[2KCollecting 5  records [================================================] 100% 5/5\n",
      "Downloading: thermoanaerobacterium.zip    1.18MB 1.33MB/s\n",
      "\u001b[1A\u001b[2K\u001b[1A\u001b[2KCollecting 5  records [================================================] 100% 5/5\n",
      "Downloading: thermoanaerobacterium.zip    1.18MB 1.33MB/s\n",
      "\u001b[1A\u001b[2K\u001b[1A\u001b[2KCollecting 5  records [================================================] 100% 5/5\n",
      "Downloading: thermoanaerobacterium.zip    1.28MB 1.32MB/s\n"
     ]
    },
    {
     "name": "stderr",
     "output_type": "stream",
     "text": [
      "\u001b[1A\u001b[2K\u001b[1A\u001b[2KCollecting 5  records [================================================] 100% 5/5\n",
      "Downloading: thermoanaerobacterium.zip    1.34MB 1.37MB/s\n",
      "\u001b[1A\u001b[2K\u001b[1A\u001b[2KCollecting 5  records [================================================] 100% 5/5\n",
      "Downloading: thermoanaerobacterium.zip    1.47MB 1.48MB/s\n",
      "\u001b[1A\u001b[2K\u001b[1A\u001b[2KCollecting 5  records [================================================] 100% 5/5\n",
      "Downloading: thermoanaerobacterium.zip    1.74MB 1.72MB/s\n",
      "\u001b[1A\u001b[2K\u001b[1A\u001b[2KCollecting 5  records [================================================] 100% 5/5\n",
      "Downloading: thermoanaerobacterium.zip    2.03MB 2.01MB/s\n",
      "\u001b[1A\u001b[2K\u001b[1A\u001b[2KCollecting 5  records [================================================] 100% 5/5\n",
      "Downloading: thermoanaerobacterium.zip    2.1MB 2.05MB/s\n",
      "\u001b[1A\u001b[2K\u001b[1A\u001b[2KCollecting 5  records [================================================] 100% 5/5\n",
      "Downloading: thermoanaerobacterium.zip    2.16MB 2.1MB/s\n",
      "\u001b[1A\u001b[2K\u001b[1A\u001b[2KCollecting 5  records [================================================] 100% 5/5\n",
      "Downloading: thermoanaerobacterium.zip    2.23MB 2.14MB/s\n",
      "\u001b[1A\u001b[2K\u001b[1A\u001b[2KCollecting 5  records [================================================] 100% 5/5\n",
      "Downloading: thermoanaerobacterium.zip    2.23MB 2.14MB/s\n",
      "\u001b[1A\u001b[2K\u001b[1A\u001b[2KCollecting 5  records [================================================] 100% 5/5\n",
      "Downloading: thermoanaerobacterium.zip    2.23MB 2.14MB/s\n",
      "\u001b[1A\u001b[2K\u001b[1A\u001b[2KCollecting 5  records [================================================] 100% 5/5\n",
      "Downloading: thermoanaerobacterium.zip    2.23MB 2.14MB/s\n",
      "\u001b[1A\u001b[2K\u001b[1A\u001b[2KCollecting 5  records [================================================] 100% 5/5\n",
      "Downloading: thermoanaerobacterium.zip    2.23MB 2.14MB/s\n",
      "\u001b[1A\u001b[2K\u001b[1A\u001b[2KCollecting 5  records [================================================] 100% 5/5\n",
      "Downloading: thermoanaerobacterium.zip    2.23MB 2.14MB/s\n",
      "\u001b[1A\u001b[2K\u001b[1A\u001b[2KCollecting 5  records [================================================] 100% 5/5\n",
      "Downloading: thermoanaerobacterium.zip    2.33MB 2.09MB/s\n",
      "\u001b[1A\u001b[2K\u001b[1A\u001b[2KCollecting 5  records [================================================] 100% 5/5\n",
      "Downloading: thermoanaerobacterium.zip    2.49MB 2.22MB/s\n",
      "\u001b[1A\u001b[2K\u001b[1A\u001b[2KCollecting 5  records [================================================] 100% 5/5\n",
      "Downloading: thermoanaerobacterium.zip    2.75MB 2.44MB/s\n",
      "\u001b[1A\u001b[2K\u001b[1A\u001b[2KCollecting 5  records [================================================] 100% 5/5\n",
      "Downloading: thermoanaerobacterium.zip    2.92MB 2.55MB/s\n",
      "\u001b[1A\u001b[2K\u001b[1A\u001b[2KCollecting 5  records [================================================] 100% 5/5\n",
      "Downloading: thermoanaerobacterium.zip    3.34MB 2.9MB/s\n",
      "\u001b[1A\u001b[2K\u001b[1A\u001b[2KCollecting 5  records [================================================] 100% 5/5\n",
      "Downloading: thermoanaerobacterium.zip    3.57MB 3.08MB/s\n",
      "\u001b[1A\u001b[2K\u001b[1A\u001b[2KCollecting 5  records [================================================] 100% 5/5\n",
      "Downloading: thermoanaerobacterium.zip    3.77MB 3.23MB/s\n",
      "\u001b[1A\u001b[2K\u001b[1A\u001b[2KCollecting 5  records [================================================] 100% 5/5\n",
      "Downloading: thermoanaerobacterium.zip    3.9MB 3.3MB/s\n"
     ]
    },
    {
     "name": "stderr",
     "output_type": "stream",
     "text": [
      "\u001b[1A\u001b[2K\u001b[1A\u001b[2KCollecting 5  records [================================================] 100% 5/5\n",
      "Downloading: thermoanaerobacterium.zip    3.9MB 3.3MB/s\n",
      "\u001b[1A\u001b[2K\u001b[1A\u001b[2KCollecting 5  records [================================================] 100% 5/5\n",
      "Downloading: thermoanaerobacterium.zip    3.9MB 3.3MB/s\n",
      "\u001b[1A\u001b[2K\u001b[1A\u001b[2KCollecting 5  records [================================================] 100% 5/5\n",
      "Downloading: thermoanaerobacterium.zip    3.9MB 3.3MB/s\n",
      "\u001b[1A\u001b[2K\u001b[1A\u001b[2KCollecting 5  records [================================================] 100% 5/5\n",
      "Downloading: thermoanaerobacterium.zip    3.9MB 3.3MB/s\n",
      "\u001b[1A\u001b[2K\u001b[1A\u001b[2KCollecting 5  records [================================================] 100% 5/5\n",
      "Downloading: thermoanaerobacterium.zip    3.9MB 3.3MB/s\n",
      "\u001b[1A\u001b[2K\u001b[1A\u001b[2KCollecting 5  records [================================================] 100% 5/5\n",
      "Downloading: thermoanaerobacterium.zip    3.9MB 3.3MB/s\n",
      "\u001b[1A\u001b[2K\u001b[1A\u001b[2KCollecting 5  records [================================================] 100% 5/5\n",
      "Downloading: thermoanaerobacterium.zip    4.06MB 3.24MB/s\n",
      "\u001b[1A\u001b[2K\u001b[1A\u001b[2KCollecting 5  records [================================================] 100% 5/5\n",
      "Downloading: thermoanaerobacterium.zip    4.26MB 3.37MB/s\n",
      "\u001b[1A\u001b[2K\u001b[1A\u001b[2KCollecting 5  records [================================================] 100% 5/5\n",
      "Downloading: thermoanaerobacterium.zip    4.33MB 3.41MB/s\n",
      "\u001b[1A\u001b[2K\u001b[1A\u001b[2KCollecting 5  records [================================================] 100% 5/5\n",
      "Downloading: thermoanaerobacterium.zip    4.46MB 3.47MB/s\n",
      "\u001b[1A\u001b[2K\u001b[1A\u001b[2KCollecting 5  records [================================================] 100% 5/5\n",
      "Downloading: thermoanaerobacterium.zip    4.65MB 3.59MB/s\n",
      "\u001b[1A\u001b[2K\u001b[1A\u001b[2KCollecting 5  records [================================================] 100% 5/5\n",
      "Downloading: thermoanaerobacterium.zip    4.69MB 3.61MB/s\n",
      "\u001b[1A\u001b[2K\u001b[1A\u001b[2KCollecting 5  records [================================================] 100% 5/5\n",
      "Downloading: thermoanaerobacterium.zip    4.69MB 3.61MB/s\n",
      "\u001b[1A\u001b[2K\u001b[1A\u001b[2KCollecting 5  records [================================================] 100% 5/5\n",
      "Downloading: thermoanaerobacterium.zip    4.69MB 3.61MB/s\n",
      "\u001b[1A\u001b[2K\u001b[1A\u001b[2KCollecting 5  records [================================================] 100% 5/5\n",
      "Downloading: thermoanaerobacterium.zip    4.69MB 3.61MB/s\n",
      "\u001b[1A\u001b[2K\u001b[1A\u001b[2KCollecting 5  records [================================================] 100% 5/5\n",
      "Downloading: thermoanaerobacterium.zip    4.69MB 3.61MB/s\n",
      "\u001b[1A\u001b[2K\u001b[1A\u001b[2KCollecting 5  records [================================================] 100% 5/5\n",
      "Downloading: thermoanaerobacterium.zip    4.69MB 3.61MB/s\n",
      "\u001b[1A\u001b[2K\u001b[1A\u001b[2KCollecting 5  records [================================================] 100% 5/5\n",
      "Downloading: thermoanaerobacterium.zip    4.69MB 3.61MB/s\n",
      "\u001b[1A\u001b[2K\u001b[1A\u001b[2KCollecting 5  records [================================================] 100% 5/5\n",
      "Downloading: thermoanaerobacterium.zip    4.69MB 3.61MB/s\n",
      "\u001b[1A\u001b[2K\u001b[1A\u001b[2KCollecting 5  records [================================================] 100% 5/5\n",
      "Downloading: thermoanaerobacterium.zip    4.69MB 3.61MB/s\n"
     ]
    },
    {
     "name": "stderr",
     "output_type": "stream",
     "text": [
      "\u001b[1A\u001b[2K\u001b[1A\u001b[2KCollecting 5  records [================================================] 100% 5/5\n",
      "Downloading: thermoanaerobacterium.zip    4.69MB 3.61MB/s\n",
      "\u001b[1A\u001b[2K\u001b[1A\u001b[2KCollecting 5  records [================================================] 100% 5/5\n",
      "Downloading: thermoanaerobacterium.zip    4.69MB 3.61MB/s\n",
      "\u001b[1A\u001b[2K\u001b[1A\u001b[2KCollecting 5  records [================================================] 100% 5/5\n",
      "Downloading: thermoanaerobacterium.zip    4.69MB 3.61MB/s\n",
      "\u001b[1A\u001b[2K\u001b[1A\u001b[2KCollecting 5  records [================================================] 100% 5/5\n",
      "Downloading: thermoanaerobacterium.zip    4.78MB 3.34MB/s\n",
      "\u001b[1A\u001b[2K\u001b[1A\u001b[2KCollecting 5  records [================================================] 100% 5/5\n",
      "Downloading: thermoanaerobacterium.zip    5.05MB 3.5MB/s\n",
      "\u001b[1A\u001b[2K\u001b[1A\u001b[2KCollecting 5  records [================================================] 100% 5/5\n",
      "Downloading: thermoanaerobacterium.zip    5.34MB 3.67MB/s\n",
      "\u001b[1A\u001b[2K\u001b[1A\u001b[2KCollecting 5  records [================================================] 100% 5/5\n",
      "Downloading: thermoanaerobacterium.zip    5.73MB 3.91MB/s\n",
      "\u001b[1A\u001b[2K\u001b[1A\u001b[2KCollecting 5  records [================================================] 100% 5/5\n",
      "Downloading: thermoanaerobacterium.zip    6.32MB 4.28MB/s\n",
      "\u001b[1A\u001b[2K\u001b[1A\u001b[2KCollecting 5  records [================================================] 100% 5/5\n",
      "Downloading: thermoanaerobacterium.zip    6.36MB 4.31MB/s\n",
      "\u001b[1A\u001b[2K\u001b[1A\u001b[2KCollecting 5  records [================================================] 100% 5/5\n",
      "Downloading: thermoanaerobacterium.zip    6.36MB 4.31MB/s\n",
      "\u001b[1A\u001b[2K\u001b[1A\u001b[2KCollecting 5  records [================================================] 100% 5/5\n",
      "Downloading: thermoanaerobacterium.zip    6.36MB 4.31MB/s\n",
      "\u001b[1A\u001b[2K\u001b[1A\u001b[2KCollecting 5  records [================================================] 100% 5/5\n",
      "Downloading: thermoanaerobacterium.zip    6.36MB 4.31MB/s\n",
      "\u001b[1A\u001b[2K\u001b[1A\u001b[2KCollecting 5  records [================================================] 100% 5/5\n",
      "Downloading: thermoanaerobacterium.zip    6.36MB 4.31MB/s\n",
      "\u001b[1A\u001b[2K\u001b[1A\u001b[2KCollecting 5  records [================================================] 100% 5/5\n",
      "Downloading: thermoanaerobacterium.zip    6.36MB 4.31MB/s\n",
      "\u001b[1A\u001b[2K\u001b[1A\u001b[2KCollecting 5  records [================================================] 100% 5/5\n",
      "Downloading: thermoanaerobacterium.zip    6.36MB 4.31MB/s\n",
      "\u001b[1A\u001b[2K\u001b[1A\u001b[2KCollecting 5  records [================================================] 100% 5/5\n",
      "Downloading: thermoanaerobacterium.zip    6.36MB 4.31MB/s\n",
      "\u001b[1A\u001b[2K\u001b[1A\u001b[2KCollecting 5  records [================================================] 100% 5/5\n",
      "Downloading: thermoanaerobacterium.zip    6.36MB 4.31MB/s\n",
      "\u001b[1A\u001b[2K\u001b[1A\u001b[2KCollecting 5  records [================================================] 100% 5/5\n",
      "Downloading: thermoanaerobacterium.zip    6.49MB 4.12MB/s\n",
      "\u001b[1A\u001b[2K\u001b[1A\u001b[2KCollecting 5  records [================================================] 100% 5/5\n",
      "Downloading: thermoanaerobacterium.zip    6.75MB 4.24MB/s\n"
     ]
    },
    {
     "name": "stderr",
     "output_type": "stream",
     "text": [
      "\u001b[1A\u001b[2K\u001b[1A\u001b[2KCollecting 5  records [================================================] 100% 5/5\n",
      "Downloading: thermoanaerobacterium.zip    6.98MB 4.37MB/s\n",
      "\u001b[1A\u001b[2K\u001b[1A\u001b[2KCollecting 5  records [================================================] 100% 5/5\n",
      "Downloading: thermoanaerobacterium.zip    6.98MB 4.37MB/s\n",
      "\u001b[1A\u001b[2K\u001b[1A\u001b[2KCollecting 5  records [================================================] 100% 5/5\n",
      "Downloading: thermoanaerobacterium.zip    6.98MB 4.37MB/s\n",
      "\u001b[1A\u001b[2K\u001b[1A\u001b[2KCollecting 5  records [================================================] 100% 5/5\n",
      "Downloading: thermoanaerobacterium.zip    6.98MB 4.37MB/s\n",
      "\u001b[1A\u001b[2K\u001b[1A\u001b[2KCollecting 5  records [================================================] 100% 5/5\n",
      "Downloading: thermoanaerobacterium.zip    6.98MB 4.37MB/s\n",
      "\u001b[1A\u001b[2K\u001b[1A\u001b[2KCollecting 5  records [================================================] 100% 5/5\n",
      "Downloading: thermoanaerobacterium.zip    6.98MB 4.37MB/s\n",
      "\u001b[1A\u001b[2K\u001b[1A\u001b[2KCollecting 5  records [================================================] 100% 5/5\n",
      "Downloading: thermoanaerobacterium.zip    6.98MB 4.37MB/s\n",
      "\u001b[1A\u001b[2K\u001b[1A\u001b[2KCollecting 5  records [================================================] 100% 5/5\n",
      "Downloading: thermoanaerobacterium.zip    6.98MB 4.37MB/s\n",
      "\u001b[1A\u001b[2K\u001b[1A\u001b[2KCollecting 5  records [================================================] 100% 5/5\n",
      "Downloading: thermoanaerobacterium.zip    6.98MB 4.37MB/s\n",
      "\u001b[1A\u001b[2K\u001b[1A\u001b[2KCollecting 5  records [================================================] 100% 5/5\n",
      "Downloading: thermoanaerobacterium.zip    6.98MB 4.37MB/s\n",
      "\u001b[1A\u001b[2K\u001b[1A\u001b[2KCollecting 5  records [================================================] 100% 5/5\n",
      "Downloading: thermoanaerobacterium.zip    6.98MB 4.37MB/s\n",
      "\u001b[1A\u001b[2K\u001b[1A\u001b[2KCollecting 5  records [================================================] 100% 5/5\n",
      "Downloading: thermoanaerobacterium.zip    6.98MB 4.37MB/s\n",
      "\u001b[1A\u001b[2K\u001b[1A\u001b[2KCollecting 5  records [================================================] 100% 5/5\n",
      "Downloading: thermoanaerobacterium.zip    6.98MB 4.37MB/s\n",
      "\u001b[1A\u001b[2K\u001b[1A\u001b[2KCollecting 5  records [================================================] 100% 5/5\n",
      "Downloading: thermoanaerobacterium.zip    6.98MB 4.37MB/s\n",
      "\u001b[1A\u001b[2K\u001b[1A\u001b[2KCollecting 5  records [================================================] 100% 5/5\n",
      "Downloading: thermoanaerobacterium.zip    7.05MB 4.05MB/s\n",
      "\u001b[1A\u001b[2K\u001b[1A\u001b[2KCollecting 5  records [================================================] 100% 5/5\n",
      "Downloading: thermoanaerobacterium.zip    7.08MB 4.03MB/s\n",
      "\u001b[1A\u001b[2K\u001b[1A\u001b[2KCollecting 5  records [================================================] 100% 5/5\n",
      "Downloading: thermoanaerobacterium.zip    7.08MB 4.03MB/s\n",
      "\u001b[1A\u001b[2K\u001b[1A\u001b[2KCollecting 5  records [================================================] 100% 5/5\n",
      "Downloading: thermoanaerobacterium.zip    7.08MB 4.03MB/s\n",
      "\u001b[1A\u001b[2K\u001b[1A\u001b[2KCollecting 5  records [================================================] 100% 5/5\n",
      "Downloading: thermoanaerobacterium.zip    7.08MB 4.03MB/s\n",
      "\u001b[1A\u001b[2K\u001b[1A\u001b[2KCollecting 5  records [================================================] 100% 5/5\n",
      "Downloading: thermoanaerobacterium.zip    7.08MB 4.03MB/s\n"
     ]
    },
    {
     "name": "stderr",
     "output_type": "stream",
     "text": [
      "\u001b[1A\u001b[2K\u001b[1A\u001b[2KCollecting 5  records [================================================] 100% 5/5\n",
      "Downloading: thermoanaerobacterium.zip    7.08MB 4.03MB/s\n",
      "\u001b[1A\u001b[2K\u001b[1A\u001b[2KCollecting 5  records [================================================] 100% 5/5\n",
      "Downloading: thermoanaerobacterium.zip    7.08MB 4.03MB/s\n",
      "\u001b[1A\u001b[2K\u001b[1A\u001b[2KCollecting 5  records [================================================] 100% 5/5\n",
      "Downloading: thermoanaerobacterium.zip    7.08MB 4.03MB/s\n",
      "\u001b[1A\u001b[2K\u001b[1A\u001b[2KCollecting 5  records [================================================] 100% 5/5\n",
      "Downloading: thermoanaerobacterium.zip    7.08MB 4.03MB/s\n",
      "\u001b[1A\u001b[2K\u001b[1A\u001b[2KCollecting 5  records [================================================] 100% 5/5\n",
      "Downloading: thermoanaerobacterium.zip    7.14MB 3.86MB/s\n",
      "\u001b[1A\u001b[2K\u001b[1A\u001b[2KCollecting 5  records [================================================] 100% 5/5\n",
      "Downloading: thermoanaerobacterium.zip    7.21MB 3.87MB/s\n",
      "\u001b[1A\u001b[2K\u001b[1A\u001b[2KCollecting 5  records [================================================] 100% 5/5\n",
      "Downloading: thermoanaerobacterium.zip    7.37MB 3.94MB/s\n",
      "\u001b[1A\u001b[2K\u001b[1A\u001b[2KCollecting 5  records [================================================] 100% 5/5\n",
      "Downloading: thermoanaerobacterium.zip    7.5MB 3.98MB/s\n",
      "\u001b[1A\u001b[2K\u001b[1A\u001b[2KCollecting 5  records [================================================] 100% 5/5\n",
      "Downloading: thermoanaerobacterium.zip    7.86MB 4.15MB/s\n",
      "\u001b[1A\u001b[2K\u001b[1A\u001b[2KCollecting 5  records [================================================] 100% 5/5\n",
      "Downloading: thermoanaerobacterium.zip    8.29MB 4.35MB/s\n",
      "\u001b[1A\u001b[2K\u001b[1A\u001b[2KCollecting 5  records [================================================] 100% 5/5\n",
      "Downloading: thermoanaerobacterium.zip    8.65MB 4.53MB/s\n",
      "\u001b[1A\u001b[2K\u001b[1A\u001b[2KCollecting 5  records [================================================] 100% 5/5\n",
      "Downloading: thermoanaerobacterium.zip    8.65MB 4.53MB/s\n",
      "\u001b[1A\u001b[2K\u001b[1A\u001b[2KCollecting 5  records [================================================] 100% 5/5\n",
      "Downloading: thermoanaerobacterium.zip    8.65MB 4.53MB/s\n",
      "\u001b[1A\u001b[2K\u001b[1A\u001b[2KCollecting 5  records [================================================] 100% 5/5\n",
      "Downloading: thermoanaerobacterium.zip    8.65MB 4.53MB/s\n",
      "\u001b[1A\u001b[2K\u001b[1A\u001b[2KCollecting 5  records [================================================] 100% 5/5\n",
      "Downloading: thermoanaerobacterium.zip    8.65MB 4.53MB/s\n",
      "\u001b[1A\u001b[2K\u001b[1A\u001b[2KCollecting 5  records [================================================] 100% 5/5\n",
      "Downloading: thermoanaerobacterium.zip    8.65MB 4.53MB/s\n",
      "\u001b[1A\u001b[2K\u001b[1A\u001b[2KCollecting 5  records [================================================] 100% 5/5\n",
      "Downloading: thermoanaerobacterium.zip    8.65MB 4.53MB/s\n",
      "\u001b[1A\u001b[2K\u001b[1A\u001b[2KCollecting 5  records [================================================] 100% 5/5\n",
      "Downloading: thermoanaerobacterium.zip    8.65MB 4.53MB/s\n",
      "\u001b[1A\u001b[2K\u001b[1A\u001b[2KCollecting 5  records [================================================] 100% 5/5\n",
      "Downloading: thermoanaerobacterium.zip    8.75MB 4.39MB/s\n",
      "\u001b[1A\u001b[2K\u001b[1A\u001b[2KCollecting 5  records [================================================] 100% 5/5\n",
      "Downloading: thermoanaerobacterium.zip    8.88MB 4.43MB/s\n"
     ]
    },
    {
     "name": "stderr",
     "output_type": "stream",
     "text": [
      "\u001b[1A\u001b[2K\u001b[1A\u001b[2KCollecting 5  records [================================================] 100% 5/5\n",
      "Downloading: thermoanaerobacterium.zip    9.01MB 4.48MB/s\n",
      "\u001b[1A\u001b[2K\u001b[1A\u001b[2KCollecting 5  records [================================================] 100% 5/5\n",
      "Downloading: thermoanaerobacterium.zip    9.27MB 4.57MB/s\n",
      "\u001b[1A\u001b[2K\u001b[1A\u001b[2KCollecting 5  records [================================================] 100% 5/5\n",
      "Downloading: thermoanaerobacterium.zip    9.5MB 4.66MB/s\n",
      "\u001b[1A\u001b[2K\u001b[1A\u001b[2KCollecting 5  records [================================================] 100% 5/5\n",
      "Downloading: thermoanaerobacterium.zip    9.63MB 4.71MB/s\n",
      "\u001b[1A\u001b[2K\u001b[1A\u001b[2KCollecting 5  records [================================================] 100% 5/5\n",
      "Downloading: thermoanaerobacterium.zip    9.63MB 4.71MB/s\n",
      "\u001b[1A\u001b[2K\u001b[1A\u001b[2KCollecting 5  records [================================================] 100% 5/5\n",
      "Downloading: thermoanaerobacterium.zip    9.63MB 4.71MB/s\n",
      "\u001b[1A\u001b[2K\u001b[1A\u001b[2KCollecting 5  records [================================================] 100% 5/5\n",
      "Downloading: thermoanaerobacterium.zip    9.63MB 4.71MB/s\n",
      "\u001b[1A\u001b[2K\u001b[1A\u001b[2KCollecting 5  records [================================================] 100% 5/5\n",
      "Downloading: thermoanaerobacterium.zip    9.63MB 4.71MB/s\n",
      "\u001b[1A\u001b[2K\u001b[1A\u001b[2KCollecting 5  records [================================================] 100% 5/5\n",
      "Downloading: thermoanaerobacterium.zip    9.63MB 4.71MB/s\n",
      "\u001b[1A\u001b[2K\u001b[1A\u001b[2KCollecting 5  records [================================================] 100% 5/5\n",
      "Downloading: thermoanaerobacterium.zip    9.63MB 4.71MB/s\n",
      "\u001b[1A\u001b[2K\u001b[1A\u001b[2KCollecting 5  records [================================================] 100% 5/5\n",
      "Downloading: thermoanaerobacterium.zip    9.63MB 4.71MB/s\n",
      "\u001b[1A\u001b[2K\u001b[1A\u001b[2KCollecting 5  records [================================================] 100% 5/5\n",
      "Downloading: thermoanaerobacterium.zip    9.63MB 4.71MB/s\n",
      "\u001b[1A\u001b[2K\u001b[1A\u001b[2KCollecting 5  records [================================================] 100% 5/5\n",
      "Downloading: thermoanaerobacterium.zip    9.63MB 4.71MB/s\n",
      "\u001b[1A\u001b[2K\u001b[1A\u001b[2KCollecting 5  records [================================================] 100% 5/5\n",
      "Downloading: thermoanaerobacterium.zip    9.63MB 4.71MB/s\n",
      "\u001b[1A\u001b[2K\u001b[1A\u001b[2KCollecting 5  records [================================================] 100% 5/5\n",
      "Downloading: thermoanaerobacterium.zip    9.63MB 4.71MB/s\n",
      "\u001b[1A\u001b[2K\u001b[1A\u001b[2KCollecting 5  records [================================================] 100% 5/5\n",
      "Downloading: thermoanaerobacterium.zip    9.63MB 4.71MB/s\n",
      "\u001b[1A\u001b[2K\u001b[1A\u001b[2KCollecting 5  records [================================================] 100% 5/5\n",
      "Downloading: thermoanaerobacterium.zip    9.63MB 4.71MB/s\n",
      "\u001b[1A\u001b[2K\u001b[1A\u001b[2KCollecting 5  records [================================================] 100% 5/5\n",
      "Downloading: thermoanaerobacterium.zip    9.63MB 4.71MB/s\n",
      "\u001b[1A\u001b[2K\u001b[1A\u001b[2KCollecting 5  records [================================================] 100% 5/5\n",
      "Downloading: thermoanaerobacterium.zip    9.63MB 4.71MB/s\n",
      "\u001b[1A\u001b[2K\u001b[1A\u001b[2KCollecting 5  records [================================================] 100% 5/5\n",
      "Downloading: thermoanaerobacterium.zip    9.63MB 4.71MB/s\n"
     ]
    },
    {
     "name": "stderr",
     "output_type": "stream",
     "text": [
      "\u001b[1A\u001b[2K\u001b[1A\u001b[2KCollecting 5  records [================================================] 100% 5/5\n",
      "Downloading: thermoanaerobacterium.zip    9.63MB 4.71MB/s\n",
      "\u001b[1A\u001b[2K\u001b[1A\u001b[2KCollecting 5  records [================================================] 100% 5/5\n",
      "Downloading: thermoanaerobacterium.zip    9.63MB 4.71MB/s\n",
      "\u001b[1A\u001b[2K\u001b[1A\u001b[2KCollecting 5  records [================================================] 100% 5/5\n",
      "Downloading: thermoanaerobacterium.zip    9.63MB 4.71MB/s\n",
      "\u001b[1A\u001b[2K\u001b[1A\u001b[2KCollecting 5  records [================================================] 100% 5/5\n",
      "Downloading: thermoanaerobacterium.zip    9.63MB 4.71MB/s\n",
      "\u001b[1A\u001b[2K\u001b[1A\u001b[2KCollecting 5  records [================================================] 100% 5/5\n",
      "Downloading: thermoanaerobacterium.zip    9.63MB 4.71MB/s\n",
      "\u001b[1A\u001b[2K\u001b[1A\u001b[2KCollecting 5  records [================================================] 100% 5/5\n",
      "Downloading: thermoanaerobacterium.zip    9.63MB 4.71MB/s\n",
      "\u001b[1A\u001b[2K\u001b[1A\u001b[2KCollecting 5  records [================================================] 100% 5/5\n",
      "Downloading: thermoanaerobacterium.zip    9.63MB 4.71MB/s\n",
      "\u001b[1A\u001b[2K\u001b[1A\u001b[2KCollecting 5  records [================================================] 100% 5/5\n",
      "Downloading: thermoanaerobacterium.zip    9.63MB 4.71MB/s\n",
      "\u001b[1A\u001b[2K\u001b[1A\u001b[2KCollecting 5  records [================================================] 100% 5/5\n",
      "Downloading: thermoanaerobacterium.zip    9.63MB 4.71MB/s\n",
      "\u001b[1A\u001b[2K\u001b[1A\u001b[2KCollecting 5  records [================================================] 100% 5/5\n",
      "Downloading: thermoanaerobacterium.zip    9.63MB 4.71MB/s\n",
      "\u001b[1A\u001b[2K\u001b[1A\u001b[2KCollecting 5  records [================================================] 100% 5/5\n",
      "Downloading: thermoanaerobacterium.zip    9.63MB 4.71MB/s\n",
      "\u001b[1A\u001b[2K\u001b[1A\u001b[2KCollecting 5  records [================================================] 100% 5/5\n",
      "Downloading: thermoanaerobacterium.zip    9.63MB 4.71MB/s\n",
      "\u001b[1A\u001b[2K\u001b[1A\u001b[2KCollecting 5  records [================================================] 100% 5/5\n",
      "Downloading: thermoanaerobacterium.zip    9.63MB 4.71MB/s\n",
      "\u001b[1A\u001b[2K\u001b[1A\u001b[2KCollecting 5  records [================================================] 100% 5/5\n",
      "Downloading: thermoanaerobacterium.zip    9.63MB 4.71MB/s\n",
      "\u001b[1A\u001b[2K\u001b[1A\u001b[2KCollecting 5  records [================================================] 100% 5/5\n",
      "Downloading: thermoanaerobacterium.zip    9.63MB 4.71MB/s\n",
      "\u001b[1A\u001b[2K\u001b[1A\u001b[2KCollecting 5  records [================================================] 100% 5/5\n",
      "Downloading: thermoanaerobacterium.zip    9.63MB 4.71MB/s\n",
      "\u001b[1A\u001b[2K\u001b[1A\u001b[2KCollecting 5  records [================================================] 100% 5/5\n",
      "Downloading: thermoanaerobacterium.zip    9.63MB 4.71MB/s\n",
      "\u001b[1A\u001b[2K\u001b[1A\u001b[2KCollecting 5  records [================================================] 100% 5/5\n",
      "Downloading: thermoanaerobacterium.zip    9.63MB 4.71MB/s\n",
      "\u001b[1A\u001b[2K\u001b[1A\u001b[2KCollecting 5  records [================================================] 100% 5/5\n",
      "Downloading: thermoanaerobacterium.zip    9.63MB 4.71MB/s\n",
      "\u001b[1A\u001b[2K\u001b[1A\u001b[2KCollecting 5  records [================================================] 100% 5/5\n",
      "Downloading: thermoanaerobacterium.zip    9.63MB 4.71MB/s\n"
     ]
    },
    {
     "name": "stderr",
     "output_type": "stream",
     "text": [
      "\u001b[1A\u001b[2K\u001b[1A\u001b[2KCollecting 5  records [================================================] 100% 5/5\n",
      "Downloading: thermoanaerobacterium.zip    9.63MB 4.71MB/s\n",
      "\u001b[1A\u001b[2K\u001b[1A\u001b[2KCollecting 5  records [================================================] 100% 5/5\n",
      "Downloading: thermoanaerobacterium.zip    9.63MB 4.71MB/s\n",
      "\u001b[1A\u001b[2K\u001b[1A\u001b[2KCollecting 5  records [================================================] 100% 5/5\n",
      "Downloading: thermoanaerobacterium.zip    9.63MB 4.71MB/s\n",
      "\u001b[1A\u001b[2K\u001b[1A\u001b[2KCollecting 5  records [================================================] 100% 5/5\n",
      "Downloading: thermoanaerobacterium.zip    9.63MB 4.71MB/s\n",
      "\u001b[1A\u001b[2K\u001b[1A\u001b[2KCollecting 5  records [================================================] 100% 5/5\n",
      "Downloading: thermoanaerobacterium.zip    9.63MB 4.71MB/s\n",
      "\u001b[1A\u001b[2K\u001b[1A\u001b[2KCollecting 5  records [================================================] 100% 5/5\n",
      "Downloading: thermoanaerobacterium.zip    9.63MB 4.71MB/s\n",
      "\u001b[1A\u001b[2K\u001b[1A\u001b[2KCollecting 5  records [================================================] 100% 5/5\n",
      "Downloading: thermoanaerobacterium.zip    9.63MB 4.71MB/s\n",
      "\u001b[1A\u001b[2K\u001b[1A\u001b[2KCollecting 5  records [================================================] 100% 5/5\n",
      "Downloading: thermoanaerobacterium.zip    9.63MB 4.71MB/s\n",
      "\u001b[1A\u001b[2K\u001b[1A\u001b[2KCollecting 5  records [================================================] 100% 5/5\n",
      "Downloading: thermoanaerobacterium.zip    9.63MB 4.71MB/s\n",
      "\u001b[1A\u001b[2K\u001b[1A\u001b[2KCollecting 5  records [================================================] 100% 5/5\n",
      "Downloading: thermoanaerobacterium.zip    9.63MB 4.71MB/s\n",
      "\u001b[1A\u001b[2K\u001b[1A\u001b[2KCollecting 5  records [================================================] 100% 5/5\n",
      "Downloading: thermoanaerobacterium.zip    9.63MB 4.71MB/s\n",
      "\u001b[1A\u001b[2K\u001b[1A\u001b[2KCollecting 5  records [================================================] 100% 5/5\n",
      "Downloading: thermoanaerobacterium.zip    9.63MB 4.71MB/s\n",
      "\u001b[1A\u001b[2K\u001b[1A\u001b[2KCollecting 5  records [================================================] 100% 5/5\n",
      "Downloading: thermoanaerobacterium.zip    9.63MB 4.71MB/s\n",
      "\u001b[1A\u001b[2K\u001b[1A\u001b[2KCollecting 5  records [================================================] 100% 5/5\n",
      "Downloading: thermoanaerobacterium.zip    9.63MB 4.71MB/s\n",
      "\u001b[1A\u001b[2K\u001b[1A\u001b[2KCollecting 5  records [================================================] 100% 5/5\n",
      "Downloading: thermoanaerobacterium.zip    9.63MB 4.71MB/s\n",
      "\u001b[1A\u001b[2K\u001b[1A\u001b[2KCollecting 5  records [================================================] 100% 5/5\n",
      "Downloading: thermoanaerobacterium.zip    9.63MB 4.71MB/s\n",
      "\u001b[1A\u001b[2K\u001b[1A\u001b[2KCollecting 5  records [================================================] 100% 5/5\n",
      "Downloading: thermoanaerobacterium.zip    9.63MB 4.71MB/s\n",
      "\u001b[1A\u001b[2K\u001b[1A\u001b[2KCollecting 5  records [================================================] 100% 5/5\n",
      "Downloading: thermoanaerobacterium.zip    9.63MB 4.71MB/s\n",
      "\u001b[1A\u001b[2K\u001b[1A\u001b[2KCollecting 5  records [================================================] 100% 5/5\n",
      "Downloading: thermoanaerobacterium.zip    9.63MB 4.71MB/s\n",
      "\u001b[1A\u001b[2K\u001b[1A\u001b[2KCollecting 5  records [================================================] 100% 5/5\n",
      "Downloading: thermoanaerobacterium.zip    9.63MB 4.71MB/s\n"
     ]
    },
    {
     "name": "stderr",
     "output_type": "stream",
     "text": [
      "\u001b[1A\u001b[2K\u001b[1A\u001b[2KCollecting 5  records [================================================] 100% 5/5\n",
      "Downloading: thermoanaerobacterium.zip    9.63MB 4.71MB/s\n",
      "\u001b[1A\u001b[2K\u001b[1A\u001b[2KCollecting 5  records [================================================] 100% 5/5\n",
      "Downloading: thermoanaerobacterium.zip    9.63MB 4.71MB/s\n",
      "\u001b[1A\u001b[2K\u001b[1A\u001b[2KCollecting 5  records [================================================] 100% 5/5\n",
      "Downloading: thermoanaerobacterium.zip    9.63MB 4.71MB/s\n",
      "\u001b[1A\u001b[2K\u001b[1A\u001b[2KCollecting 5  records [================================================] 100% 5/5\n",
      "Downloading: thermoanaerobacterium.zip    9.63MB 4.71MB/s\n",
      "\u001b[1A\u001b[2K\u001b[1A\u001b[2KCollecting 5  records [================================================] 100% 5/5\n",
      "Downloading: thermoanaerobacterium.zip    9.63MB 4.71MB/s\n",
      "\u001b[1A\u001b[2K\u001b[1A\u001b[2KCollecting 5  records [================================================] 100% 5/5\n",
      "Downloading: thermoanaerobacterium.zip    9.63MB 4.71MB/s\n",
      "\u001b[1A\u001b[2K\u001b[1A\u001b[2KCollecting 5  records [================================================] 100% 5/5\n",
      "Downloading: thermoanaerobacterium.zip    9.63MB 4.71MB/s\n",
      "\u001b[1A\u001b[2K\u001b[1A\u001b[2KCollecting 5  records [================================================] 100% 5/5\n",
      "Downloading: thermoanaerobacterium.zip    9.63MB 4.71MB/s\n",
      "\u001b[1A\u001b[2K\u001b[1A\u001b[2KCollecting 5  records [================================================] 100% 5/5\n",
      "Downloading: thermoanaerobacterium.zip    9.63MB 4.71MB/s\n",
      "\u001b[1A\u001b[2K\u001b[1A\u001b[2KCollecting 5  records [================================================] 100% 5/5\n",
      "Downloading: thermoanaerobacterium.zip    9.63MB 4.71MB/s\n",
      "\u001b[1A\u001b[2K\u001b[1A\u001b[2KCollecting 5  records [================================================] 100% 5/5\n",
      "Downloading: thermoanaerobacterium.zip    9.63MB 4.71MB/s\n",
      "\u001b[1A\u001b[2K\u001b[1A\u001b[2KCollecting 5  records [================================================] 100% 5/5\n",
      "Downloading: thermoanaerobacterium.zip    9.63MB 4.71MB/s\n",
      "\u001b[1A\u001b[2K\u001b[1A\u001b[2KCollecting 5  records [================================================] 100% 5/5\n",
      "Downloading: thermoanaerobacterium.zip    9.63MB 4.71MB/s\n",
      "\u001b[1A\u001b[2K\u001b[1A\u001b[2KCollecting 5  records [================================================] 100% 5/5\n",
      "Downloading: thermoanaerobacterium.zip    9.63MB 4.71MB/s\n",
      "\u001b[1A\u001b[2K\u001b[1A\u001b[2KCollecting 5  records [================================================] 100% 5/5\n",
      "Downloading: thermoanaerobacterium.zip    9.63MB 4.71MB/s\n",
      "\u001b[1A\u001b[2K\u001b[1A\u001b[2KCollecting 5  records [================================================] 100% 5/5\n",
      "Downloading: thermoanaerobacterium.zip    9.63MB 4.71MB/s\n",
      "\u001b[1A\u001b[2K\u001b[1A\u001b[2KCollecting 5  records [================================================] 100% 5/5\n",
      "Downloading: thermoanaerobacterium.zip    9.63MB 4.71MB/s\n",
      "\u001b[1A\u001b[2K\u001b[1A\u001b[2KCollecting 5  records [================================================] 100% 5/5\n",
      "Downloading: thermoanaerobacterium.zip    9.63MB 4.71MB/s\n",
      "\u001b[1A\u001b[2K\u001b[1A\u001b[2KCollecting 5  records [================================================] 100% 5/5\n",
      "Downloading: thermoanaerobacterium.zip    9.63MB 4.71MB/s\n",
      "\u001b[1A\u001b[2K\u001b[1A\u001b[2KCollecting 5  records [================================================] 100% 5/5\n",
      "Downloading: thermoanaerobacterium.zip    9.63MB 4.71MB/s\n"
     ]
    },
    {
     "name": "stderr",
     "output_type": "stream",
     "text": [
      "\u001b[1A\u001b[2K\u001b[1A\u001b[2KCollecting 5  records [================================================] 100% 5/5\n",
      "Downloading: thermoanaerobacterium.zip    9.63MB 4.71MB/s\n",
      "\u001b[1A\u001b[2K\u001b[1A\u001b[2KCollecting 5  records [================================================] 100% 5/5\n",
      "Downloading: thermoanaerobacterium.zip    9.63MB 4.71MB/s\n",
      "\u001b[1A\u001b[2K\u001b[1A\u001b[2KCollecting 5  records [================================================] 100% 5/5\n",
      "Downloading: thermoanaerobacterium.zip    9.63MB 4.71MB/s\n",
      "\u001b[1A\u001b[2K\u001b[1A\u001b[2KCollecting 5  records [================================================] 100% 5/5\n",
      "Downloading: thermoanaerobacterium.zip    9.63MB 4.71MB/s\n",
      "\u001b[1A\u001b[2K\u001b[1A\u001b[2KCollecting 5  records [================================================] 100% 5/5\n",
      "Downloading: thermoanaerobacterium.zip    9.63MB 4.71MB/s\n",
      "\u001b[1A\u001b[2K\u001b[1A\u001b[2KCollecting 5  records [================================================] 100% 5/5\n",
      "Downloading: thermoanaerobacterium.zip    9.63MB 4.71MB/s\n",
      "\u001b[1A\u001b[2K\u001b[1A\u001b[2KCollecting 5  records [================================================] 100% 5/5\n",
      "Downloading: thermoanaerobacterium.zip    9.63MB 4.71MB/s\n",
      "\u001b[1A\u001b[2K\u001b[1A\u001b[2KCollecting 5  records [================================================] 100% 5/5\n",
      "Downloading: thermoanaerobacterium.zip    9.63MB 4.71MB/s\n",
      "\u001b[1A\u001b[2K\u001b[1A\u001b[2KCollecting 5  records [================================================] 100% 5/5\n",
      "Downloading: thermoanaerobacterium.zip    9.63MB 4.71MB/s\n",
      "\u001b[1A\u001b[2K\u001b[1A\u001b[2KCollecting 5  records [================================================] 100% 5/5\n",
      "Downloading: thermoanaerobacterium.zip    9.63MB 4.71MB/s\n",
      "\u001b[1A\u001b[2K\u001b[1A\u001b[2KCollecting 5  records [================================================] 100% 5/5\n",
      "Downloading: thermoanaerobacterium.zip    9.63MB 4.71MB/s\n",
      "\u001b[1A\u001b[2K\u001b[1A\u001b[2KCollecting 5  records [================================================] 100% 5/5\n",
      "Downloading: thermoanaerobacterium.zip    9.63MB 4.71MB/s\n",
      "\u001b[1A\u001b[2K\u001b[1A\u001b[2KCollecting 5  records [================================================] 100% 5/5\n",
      "Downloading: thermoanaerobacterium.zip    9.63MB 4.71MB/s\n",
      "\u001b[1A\u001b[2K\u001b[1A\u001b[2KCollecting 5  records [================================================] 100% 5/5\n",
      "Downloading: thermoanaerobacterium.zip    9.63MB 4.71MB/s\n",
      "\u001b[1A\u001b[2K\u001b[1A\u001b[2KCollecting 5  records [================================================] 100% 5/5\n",
      "Downloading: thermoanaerobacterium.zip    9.63MB 4.71MB/s\n",
      "\u001b[1A\u001b[2K\u001b[1A\u001b[2KCollecting 5  records [================================================] 100% 5/5\n",
      "Downloading: thermoanaerobacterium.zip    9.63MB 4.71MB/s\n",
      "\u001b[1A\u001b[2K\u001b[1A\u001b[2KCollecting 5  records [================================================] 100% 5/5\n",
      "Downloading: thermoanaerobacterium.zip    9.63MB 4.71MB/s\n",
      "\u001b[1A\u001b[2K\u001b[1A\u001b[2KCollecting 5  records [================================================] 100% 5/5\n",
      "Downloading: thermoanaerobacterium.zip    9.63MB 4.71MB/s\n",
      "\u001b[1A\u001b[2K\u001b[1A\u001b[2KCollecting 5  records [================================================] 100% 5/5\n",
      "Downloading: thermoanaerobacterium.zip    9.63MB 4.71MB/s\n",
      "\u001b[1A\u001b[2K\u001b[1A\u001b[2KCollecting 5  records [================================================] 100% 5/5\n",
      "Downloading: thermoanaerobacterium.zip    9.63MB 4.71MB/s\n"
     ]
    },
    {
     "name": "stderr",
     "output_type": "stream",
     "text": [
      "\u001b[1A\u001b[2K\u001b[1A\u001b[2KCollecting 5  records [================================================] 100% 5/5\n",
      "Downloading: thermoanaerobacterium.zip    9.63MB 4.71MB/s\n",
      "\u001b[1A\u001b[2K\u001b[1A\u001b[2KCollecting 5  records [================================================] 100% 5/5\n",
      "Downloading: thermoanaerobacterium.zip    9.63MB 4.71MB/s\n",
      "\u001b[1A\u001b[2K\u001b[1A\u001b[2KCollecting 5  records [================================================] 100% 5/5\n",
      "Downloading: thermoanaerobacterium.zip    9.63MB 4.71MB/s\n",
      "\u001b[1A\u001b[2K\u001b[1A\u001b[2KCollecting 5  records [================================================] 100% 5/5\n",
      "Downloading: thermoanaerobacterium.zip    9.63MB 4.71MB/s\n",
      "\u001b[1A\u001b[2K\u001b[1A\u001b[2KCollecting 5  records [================================================] 100% 5/5\n",
      "Downloading: thermoanaerobacterium.zip    9.63MB 4.71MB/s\n",
      "\u001b[1A\u001b[2K\u001b[1A\u001b[2KCollecting 5  records [================================================] 100% 5/5\n",
      "Downloading: thermoanaerobacterium.zip    9.63MB 4.71MB/s\n",
      "\u001b[1A\u001b[2K\u001b[1A\u001b[2KCollecting 5  records [================================================] 100% 5/5\n",
      "Downloading: thermoanaerobacterium.zip    9.63MB 4.71MB/s\n",
      "\u001b[1A\u001b[2K\u001b[1A\u001b[2KCollecting 5  records [================================================] 100% 5/5\n",
      "Downloading: thermoanaerobacterium.zip    9.63MB 4.71MB/s\n",
      "\u001b[1A\u001b[2K\u001b[1A\u001b[2KCollecting 5  records [================================================] 100% 5/5\n",
      "Downloading: thermoanaerobacterium.zip    9.63MB 4.71MB/s\n",
      "\u001b[1A\u001b[2K\u001b[1A\u001b[2KCollecting 5  records [================================================] 100% 5/5\n",
      "Downloading: thermoanaerobacterium.zip    9.63MB 4.71MB/s\n",
      "\u001b[1A\u001b[2K\u001b[1A\u001b[2KCollecting 5  records [================================================] 100% 5/5\n",
      "Downloading: thermoanaerobacterium.zip    9.63MB 4.71MB/s\n",
      "\u001b[1A\u001b[2K\u001b[1A\u001b[2KCollecting 5  records [================================================] 100% 5/5\n",
      "Downloading: thermoanaerobacterium.zip    9.63MB 4.71MB/s\n",
      "\u001b[1A\u001b[2K\u001b[1A\u001b[2KCollecting 5  records [================================================] 100% 5/5\n",
      "Downloading: thermoanaerobacterium.zip    9.63MB 4.71MB/s\n",
      "\u001b[1A\u001b[2K\u001b[1A\u001b[2KCollecting 5  records [================================================] 100% 5/5\n",
      "Downloading: thermoanaerobacterium.zip    9.63MB 4.71MB/s\n",
      "\u001b[1A\u001b[2K\u001b[1A\u001b[2KCollecting 5  records [================================================] 100% 5/5\n",
      "Downloading: thermoanaerobacterium.zip    9.63MB 4.71MB/s\n",
      "\u001b[1A\u001b[2K\u001b[1A\u001b[2KCollecting 5  records [================================================] 100% 5/5\n",
      "Downloading: thermoanaerobacterium.zip    9.63MB 4.71MB/s\n",
      "\u001b[1A\u001b[2K\u001b[1A\u001b[2KCollecting 5  records [================================================] 100% 5/5\n",
      "Downloading: thermoanaerobacterium.zip    9.63MB 4.71MB/s\n",
      "\u001b[1A\u001b[2K\u001b[1A\u001b[2KCollecting 5  records [================================================] 100% 5/5\n",
      "Downloading: thermoanaerobacterium.zip    9.63MB 4.71MB/s\n",
      "\u001b[1A\u001b[2K\u001b[1A\u001b[2KCollecting 5  records [================================================] 100% 5/5\n",
      "Downloading: thermoanaerobacterium.zip    9.63MB 4.71MB/s\n",
      "\u001b[1A\u001b[2K\u001b[1A\u001b[2KCollecting 5  records [================================================] 100% 5/5\n",
      "Downloading: thermoanaerobacterium.zip    9.63MB 4.71MB/s\n"
     ]
    },
    {
     "name": "stderr",
     "output_type": "stream",
     "text": [
      "\u001b[1A\u001b[2K\u001b[1A\u001b[2KCollecting 5  records [================================================] 100% 5/5\n",
      "Downloading: thermoanaerobacterium.zip    9.63MB 4.71MB/s\n",
      "\u001b[1A\u001b[2K\u001b[1A\u001b[2KCollecting 5  records [================================================] 100% 5/5\n",
      "Downloading: thermoanaerobacterium.zip    9.63MB 4.71MB/s\n",
      "\u001b[1A\u001b[2K\u001b[1A\u001b[2KCollecting 5  records [================================================] 100% 5/5\n",
      "Downloading: thermoanaerobacterium.zip    9.63MB 4.71MB/s\n",
      "\u001b[1A\u001b[2K\u001b[1A\u001b[2KCollecting 5  records [================================================] 100% 5/5\n",
      "Downloading: thermoanaerobacterium.zip    9.63MB 4.71MB/s\n",
      "\u001b[1A\u001b[2K\u001b[1A\u001b[2KCollecting 5  records [================================================] 100% 5/5\n",
      "Downloading: thermoanaerobacterium.zip    9.63MB 4.71MB/s\n",
      "\u001b[1A\u001b[2K\u001b[1A\u001b[2KCollecting 5  records [================================================] 100% 5/5\n",
      "Downloading: thermoanaerobacterium.zip    9.63MB 4.71MB/s\n",
      "\u001b[1A\u001b[2K\u001b[1A\u001b[2KCollecting 5  records [================================================] 100% 5/5\n",
      "Downloading: thermoanaerobacterium.zip    9.63MB 4.71MB/s\n",
      "\u001b[1A\u001b[2K\u001b[1A\u001b[2KCollecting 5  records [================================================] 100% 5/5\n",
      "Downloading: thermoanaerobacterium.zip    9.63MB 4.71MB/s\n",
      "\u001b[1A\u001b[2K\u001b[1A\u001b[2KCollecting 5  records [================================================] 100% 5/5\n",
      "Downloading: thermoanaerobacterium.zip    9.63MB 4.71MB/s\n",
      "\u001b[1A\u001b[2K\u001b[1A\u001b[2KCollecting 5  records [================================================] 100% 5/5\n",
      "Downloading: thermoanaerobacterium.zip    9.63MB 4.71MB/s\n",
      "\u001b[1A\u001b[2K\u001b[1A\u001b[2KCollecting 5  records [================================================] 100% 5/5\n",
      "Downloading: thermoanaerobacterium.zip    9.63MB 4.71MB/s\n",
      "\u001b[1A\u001b[2K\u001b[1A\u001b[2KCollecting 5  records [================================================] 100% 5/5\n",
      "Downloading: thermoanaerobacterium.zip    9.63MB 4.71MB/s\n",
      "\u001b[1A\u001b[2K\u001b[1A\u001b[2KCollecting 5  records [================================================] 100% 5/5\n",
      "Downloading: thermoanaerobacterium.zip    9.63MB 4.71MB/s\n",
      "\u001b[1A\u001b[2K\u001b[1A\u001b[2KCollecting 5  records [================================================] 100% 5/5\n",
      "Downloading: thermoanaerobacterium.zip    9.63MB 4.71MB/s\n",
      "\u001b[1A\u001b[2K\u001b[1A\u001b[2KCollecting 5  records [================================================] 100% 5/5\n",
      "Downloading: thermoanaerobacterium.zip    9.63MB 4.71MB/s\n",
      "\u001b[1A\u001b[2K\u001b[1A\u001b[2KCollecting 5  records [================================================] 100% 5/5\n",
      "Downloading: thermoanaerobacterium.zip    9.63MB 4.71MB/s\n",
      "\u001b[1A\u001b[2K\u001b[1A\u001b[2KCollecting 5  records [================================================] 100% 5/5\n",
      "Downloading: thermoanaerobacterium.zip    9.63MB 4.71MB/s\n",
      "\u001b[1A\u001b[2K\u001b[1A\u001b[2KCollecting 5  records [================================================] 100% 5/5\n",
      "Downloading: thermoanaerobacterium.zip    9.63MB 4.71MB/s\n",
      "\u001b[1A\u001b[2K\u001b[1A\u001b[2KCollecting 5  records [================================================] 100% 5/5\n",
      "Downloading: thermoanaerobacterium.zip    9.63MB 4.71MB/s\n",
      "\u001b[1A\u001b[2K\u001b[1A\u001b[2KCollecting 5  records [================================================] 100% 5/5\n",
      "Downloading: thermoanaerobacterium.zip    9.63MB 4.71MB/s\n"
     ]
    },
    {
     "name": "stderr",
     "output_type": "stream",
     "text": [
      "\u001b[1A\u001b[2K\u001b[1A\u001b[2KCollecting 5  records [================================================] 100% 5/5\n",
      "Downloading: thermoanaerobacterium.zip    9.63MB 4.71MB/s\n",
      "\u001b[1A\u001b[2K\u001b[1A\u001b[2KCollecting 5  records [================================================] 100% 5/5\n",
      "Downloading: thermoanaerobacterium.zip    9.63MB 4.71MB/s\n",
      "\u001b[1A\u001b[2K\u001b[1A\u001b[2KCollecting 5  records [================================================] 100% 5/5\n",
      "Downloading: thermoanaerobacterium.zip    9.63MB 4.71MB/s\n",
      "\u001b[1A\u001b[2K\u001b[1A\u001b[2KCollecting 5  records [================================================] 100% 5/5\n",
      "Downloading: thermoanaerobacterium.zip    9.63MB 4.71MB/s\n",
      "\u001b[1A\u001b[2K\u001b[1A\u001b[2KCollecting 5  records [================================================] 100% 5/5\n",
      "Downloading: thermoanaerobacterium.zip    9.63MB 4.71MB/s\n",
      "\u001b[1A\u001b[2K\u001b[1A\u001b[2KCollecting 5  records [================================================] 100% 5/5\n",
      "Downloading: thermoanaerobacterium.zip    9.63MB 4.71MB/s\n",
      "\u001b[1A\u001b[2K\u001b[1A\u001b[2KCollecting 5  records [================================================] 100% 5/5\n",
      "Downloading: thermoanaerobacterium.zip    9.63MB 4.71MB/s\n",
      "\u001b[1A\u001b[2K\u001b[1A\u001b[2KCollecting 5  records [================================================] 100% 5/5\n",
      "Downloading: thermoanaerobacterium.zip    9.63MB 4.71MB/s\n",
      "\u001b[1A\u001b[2K\u001b[1A\u001b[2KCollecting 5  records [================================================] 100% 5/5\n",
      "Downloading: thermoanaerobacterium.zip    9.63MB 4.71MB/s\n",
      "\u001b[1A\u001b[2K\u001b[1A\u001b[2KCollecting 5  records [================================================] 100% 5/5\n",
      "Downloading: thermoanaerobacterium.zip    9.63MB 4.71MB/s\n",
      "\u001b[1A\u001b[2K\u001b[1A\u001b[2KCollecting 5  records [================================================] 100% 5/5\n",
      "Downloading: thermoanaerobacterium.zip    9.63MB 4.71MB/s\n",
      "\u001b[1A\u001b[2K\u001b[1A\u001b[2KCollecting 5  records [================================================] 100% 5/5\n",
      "Downloading: thermoanaerobacterium.zip    9.63MB 4.71MB/s\n",
      "\u001b[1A\u001b[2K\u001b[1A\u001b[2KCollecting 5  records [================================================] 100% 5/5\n",
      "Downloading: thermoanaerobacterium.zip    9.63MB 4.71MB/s\n",
      "\u001b[1A\u001b[2K\u001b[1A\u001b[2KCollecting 5  records [================================================] 100% 5/5\n",
      "Downloading: thermoanaerobacterium.zip    9.63MB 4.71MB/s\n",
      "\u001b[1A\u001b[2K\u001b[1A\u001b[2KCollecting 5  records [================================================] 100% 5/5\n",
      "Downloading: thermoanaerobacterium.zip    9.63MB 4.71MB/s\n",
      "\u001b[1A\u001b[2K\u001b[1A\u001b[2KCollecting 5  records [================================================] 100% 5/5\n",
      "Downloading: thermoanaerobacterium.zip    9.63MB 4.71MB/s\n",
      "\u001b[1A\u001b[2K\u001b[1A\u001b[2KCollecting 5  records [================================================] 100% 5/5\n",
      "Downloading: thermoanaerobacterium.zip    9.63MB 4.71MB/s\n",
      "\u001b[1A\u001b[2K\u001b[1A\u001b[2KCollecting 5  records [================================================] 100% 5/5\n",
      "Downloading: thermoanaerobacterium.zip    9.63MB 4.71MB/s\n",
      "\u001b[1A\u001b[2K\u001b[1A\u001b[2KCollecting 5  records [================================================] 100% 5/5\n",
      "Downloading: thermoanaerobacterium.zip    9.63MB 4.71MB/s\n",
      "\u001b[1A\u001b[2K\u001b[1A\u001b[2KCollecting 5  records [================================================] 100% 5/5\n",
      "Downloading: thermoanaerobacterium.zip    9.63MB 4.71MB/s\n"
     ]
    },
    {
     "name": "stderr",
     "output_type": "stream",
     "text": [
      "\u001b[1A\u001b[2K\u001b[1A\u001b[2KCollecting 5  records [================================================] 100% 5/5\n",
      "Downloading: thermoanaerobacterium.zip    9.63MB 4.71MB/s\n",
      "\u001b[1A\u001b[2K\u001b[1A\u001b[2KCollecting 5  records [================================================] 100% 5/5\n",
      "Downloading: thermoanaerobacterium.zip    9.63MB 4.71MB/s\n",
      "\u001b[1A\u001b[2K\u001b[1A\u001b[2KCollecting 5  records [================================================] 100% 5/5\n",
      "Downloading: thermoanaerobacterium.zip    9.63MB 4.71MB/s\n",
      "\u001b[1A\u001b[2K\u001b[1A\u001b[2KCollecting 5  records [================================================] 100% 5/5\n",
      "Downloading: thermoanaerobacterium.zip    9.63MB 4.71MB/s\n",
      "\u001b[1A\u001b[2K\u001b[1A\u001b[2KCollecting 5  records [================================================] 100% 5/5\n",
      "Downloading: thermoanaerobacterium.zip    9.63MB 4.71MB/s\n",
      "\u001b[1A\u001b[2K\u001b[1A\u001b[2KCollecting 5  records [================================================] 100% 5/5\n",
      "Downloading: thermoanaerobacterium.zip    9.63MB 4.71MB/s\n",
      "\u001b[1A\u001b[2K\u001b[1A\u001b[2KCollecting 5  records [================================================] 100% 5/5\n",
      "Downloading: thermoanaerobacterium.zip    9.63MB 4.71MB/s\n",
      "\u001b[1A\u001b[2K\u001b[1A\u001b[2KCollecting 5  records [================================================] 100% 5/5\n",
      "Downloading: thermoanaerobacterium.zip    9.63MB 4.71MB/s\n",
      "\u001b[1A\u001b[2K\u001b[1A\u001b[2KCollecting 5  records [================================================] 100% 5/5\n",
      "Downloading: thermoanaerobacterium.zip    9.67MB 2.57MB/s\n",
      "\u001b[1A\u001b[2K\u001b[1A\u001b[2KCollecting 5  records [================================================] 100% 5/5\n",
      "Downloading: thermoanaerobacterium.zip    9.67MB 2.57MB/s\n",
      "\u001b[1A\u001b[2K\u001b[1A\u001b[2KCollecting 5  records [================================================] 100% 5/5\n",
      "Downloading: thermoanaerobacterium.zip    9.67MB 2.57MB/s\n",
      "\u001b[1A\u001b[2K\u001b[1A\u001b[2KCollecting 5  records [================================================] 100% 5/5\n",
      "Downloading: thermoanaerobacterium.zip    9.67MB 2.57MB/s\n",
      "\u001b[1A\u001b[2K\u001b[1A\u001b[2KCollecting 5  records [================================================] 100% 5/5\n",
      "Downloading: thermoanaerobacterium.zip    9.67MB 2.57MB/s\n",
      "\u001b[1A\u001b[2K\u001b[1A\u001b[2KCollecting 5  records [================================================] 100% 5/5\n",
      "Downloading: thermoanaerobacterium.zip    9.67MB 2.57MB/s\n",
      "\u001b[1A\u001b[2K\u001b[1A\u001b[2KCollecting 5  records [================================================] 100% 5/5\n",
      "Downloading: thermoanaerobacterium.zip    9.67MB 2.57MB/s\n",
      "\u001b[1A\u001b[2K\u001b[1A\u001b[2KCollecting 5  records [================================================] 100% 5/5\n",
      "Downloading: thermoanaerobacterium.zip    9.67MB 2.57MB/s\n",
      "\u001b[1A\u001b[2K\u001b[1A\u001b[2KCollecting 5  records [================================================] 100% 5/5\n",
      "Downloading: thermoanaerobacterium.zip    9.67MB 2.57MB/s\n",
      "\u001b[1A\u001b[2K\u001b[1A\u001b[2KCollecting 5  records [================================================] 100% 5/5\n",
      "Downloading: thermoanaerobacterium.zip    9.67MB 2.57MB/s\n",
      "\u001b[1A\u001b[2K\u001b[1A\u001b[2KCollecting 5  records [================================================] 100% 5/5\n",
      "Downloading: thermoanaerobacterium.zip    9.67MB 2.57MB/s\n",
      "\u001b[1A\u001b[2K\u001b[1A\u001b[2KCollecting 5  records [================================================] 100% 5/5\n",
      "Downloading: thermoanaerobacterium.zip    9.67MB 2.57MB/s\n"
     ]
    },
    {
     "name": "stderr",
     "output_type": "stream",
     "text": [
      "\u001b[1A\u001b[2K\u001b[1A\u001b[2KCollecting 5  records [================================================] 100% 5/5\n",
      "Downloading: thermoanaerobacterium.zip    9.67MB 2.57MB/s\n",
      "\u001b[1A\u001b[2K\u001b[1A\u001b[2KCollecting 5  records [================================================] 100% 5/5\n",
      "Downloading: thermoanaerobacterium.zip    9.67MB 2.57MB/s\n",
      "\u001b[1A\u001b[2K\u001b[1A\u001b[2KCollecting 5  records [================================================] 100% 5/5\n",
      "Downloading: thermoanaerobacterium.zip    9.67MB 2.57MB/s\n",
      "\u001b[1A\u001b[2K\u001b[1A\u001b[2KCollecting 5  records [================================================] 100% 5/5\n",
      "Downloading: thermoanaerobacterium.zip    9.67MB 2.57MB/s\n",
      "\u001b[1A\u001b[2K\u001b[1A\u001b[2KCollecting 5  records [================================================] 100% 5/5\n",
      "Downloading: thermoanaerobacterium.zip    9.67MB 2.57MB/s\n",
      "\u001b[1A\u001b[2K\u001b[1A\u001b[2KCollecting 5  records [================================================] 100% 5/5\n",
      "Downloading: thermoanaerobacterium.zip    9.67MB 2.57MB/s\n",
      "\u001b[1A\u001b[2K\u001b[1A\u001b[2KCollecting 5  records [================================================] 100% 5/5\n",
      "Downloading: thermoanaerobacterium.zip    9.67MB 2.57MB/s\n",
      "\u001b[1A\u001b[2K\u001b[1A\u001b[2KCollecting 5  records [================================================] 100% 5/5\n",
      "Downloading: thermoanaerobacterium.zip    9.67MB 2.57MB/s\n",
      "\u001b[1A\u001b[2K\u001b[1A\u001b[2KCollecting 5  records [================================================] 100% 5/5\n",
      "Downloading: thermoanaerobacterium.zip    9.7MB 2.44MB/s\n",
      "\u001b[1A\u001b[2K\u001b[1A\u001b[2KCollecting 5  records [================================================] 100% 5/5\n",
      "Downloading: thermoanaerobacterium.zip    9.7MB 2.44MB/s\n",
      "\u001b[1A\u001b[2K\u001b[1A\u001b[2KCollecting 5  records [================================================] 100% 5/5\n",
      "Downloading: thermoanaerobacterium.zip    9.7MB 2.44MB/s\n",
      "\u001b[1A\u001b[2K\u001b[1A\u001b[2KCollecting 5  records [================================================] 100% 5/5\n",
      "Downloading: thermoanaerobacterium.zip    9.7MB 2.44MB/s\n",
      "\u001b[1A\u001b[2K\u001b[1A\u001b[2KCollecting 5  records [================================================] 100% 5/5\n",
      "Downloading: thermoanaerobacterium.zip    9.7MB 2.44MB/s\n",
      "\u001b[1A\u001b[2K\u001b[1A\u001b[2KCollecting 5  records [================================================] 100% 5/5\n",
      "Downloading: thermoanaerobacterium.zip    9.7MB 2.44MB/s\n",
      "\u001b[1A\u001b[2K\u001b[1A\u001b[2KCollecting 5  records [================================================] 100% 5/5\n",
      "Downloading: thermoanaerobacterium.zip    9.7MB 2.44MB/s\n",
      "\u001b[1A\u001b[2K\u001b[1A\u001b[2KCollecting 5  records [================================================] 100% 5/5\n",
      "Downloading: thermoanaerobacterium.zip    9.7MB 2.44MB/s\n",
      "\u001b[1A\u001b[2K\u001b[1A\u001b[2KCollecting 5  records [================================================] 100% 5/5\n",
      "Downloading: thermoanaerobacterium.zip    9.7MB 2.44MB/s\n",
      "\u001b[1A\u001b[2K\u001b[1A\u001b[2KCollecting 5  records [================================================] 100% 5/5\n",
      "Downloading: thermoanaerobacterium.zip    9.7MB 2.44MB/s\n",
      "\u001b[1A\u001b[2K\u001b[1A\u001b[2KCollecting 5  records [================================================] 100% 5/5\n",
      "Downloading: thermoanaerobacterium.zip    9.7MB 2.44MB/s\n",
      "\u001b[1A\u001b[2K\u001b[1A\u001b[2KCollecting 5  records [================================================] 100% 5/5\n",
      "Downloading: thermoanaerobacterium.zip    9.7MB 2.44MB/s\n"
     ]
    },
    {
     "name": "stderr",
     "output_type": "stream",
     "text": [
      "\u001b[1A\u001b[2K\u001b[1A\u001b[2KCollecting 5  records [================================================] 100% 5/5\n",
      "Downloading: thermoanaerobacterium.zip    9.7MB 2.44MB/s\n",
      "\u001b[1A\u001b[2K\u001b[1A\u001b[2KCollecting 5  records [================================================] 100% 5/5\n",
      "Downloading: thermoanaerobacterium.zip    9.7MB 2.44MB/s\n",
      "\u001b[1A\u001b[2K\u001b[1A\u001b[2KCollecting 5  records [================================================] 100% 5/5\n",
      "Downloading: thermoanaerobacterium.zip    9.7MB 2.44MB/s\n",
      "\u001b[1A\u001b[2K\u001b[1A\u001b[2KCollecting 5  records [================================================] 100% 5/5\n",
      "Downloading: thermoanaerobacterium.zip    9.7MB 2.44MB/s\n",
      "\u001b[1A\u001b[2K\u001b[1A\u001b[2KCollecting 5  records [================================================] 100% 5/5\n",
      "Downloading: thermoanaerobacterium.zip    9.7MB 2.44MB/s\n",
      "\u001b[1A\u001b[2K\u001b[1A\u001b[2KCollecting 5  records [================================================] 100% 5/5\n",
      "Downloading: thermoanaerobacterium.zip    9.7MB 2.44MB/s\n",
      "\u001b[1A\u001b[2K\u001b[1A\u001b[2KCollecting 5  records [================================================] 100% 5/5\n",
      "Downloading: thermoanaerobacterium.zip    9.7MB 2.44MB/s\n",
      "\u001b[1A\u001b[2K\u001b[1A\u001b[2KCollecting 5  records [================================================] 100% 5/5\n",
      "Downloading: thermoanaerobacterium.zip    9.7MB 2.44MB/s\n",
      "\u001b[1A\u001b[2K\u001b[1A\u001b[2KCollecting 5  records [================================================] 100% 5/5\n",
      "Downloading: thermoanaerobacterium.zip    9.76MB 2.34MB/s\n",
      "\u001b[1A\u001b[2K\u001b[1A\u001b[2KCollecting 5  records [================================================] 100% 5/5\n",
      "Downloading: thermoanaerobacterium.zip    9.76MB 2.34MB/s\n",
      "\u001b[1A\u001b[2K\u001b[1A\u001b[2KCollecting 5  records [================================================] 100% 5/5\n",
      "Downloading: thermoanaerobacterium.zip    9.76MB 2.34MB/s\n",
      "\u001b[1A\u001b[2K\u001b[1A\u001b[2KCollecting 5  records [================================================] 100% 5/5\n",
      "Downloading: thermoanaerobacterium.zip    9.76MB 2.34MB/s\n",
      "\u001b[1A\u001b[2K\u001b[1A\u001b[2KCollecting 5  records [================================================] 100% 5/5\n",
      "Downloading: thermoanaerobacterium.zip    9.76MB 2.34MB/s\n",
      "\u001b[1A\u001b[2K\u001b[1A\u001b[2KCollecting 5  records [================================================] 100% 5/5\n",
      "Downloading: thermoanaerobacterium.zip    9.76MB 2.34MB/s\n",
      "\u001b[1A\u001b[2K\u001b[1A\u001b[2KCollecting 5  records [================================================] 100% 5/5\n",
      "Downloading: thermoanaerobacterium.zip    9.76MB 2.34MB/s\n",
      "\u001b[1A\u001b[2K\u001b[1A\u001b[2KCollecting 5  records [================================================] 100% 5/5\n",
      "Downloading: thermoanaerobacterium.zip    9.76MB 2.34MB/s\n",
      "\u001b[1A\u001b[2K\u001b[1A\u001b[2KCollecting 5  records [================================================] 100% 5/5\n",
      "Downloading: thermoanaerobacterium.zip    9.76MB 2.34MB/s\n",
      "\u001b[1A\u001b[2K\u001b[1A\u001b[2KCollecting 5  records [================================================] 100% 5/5\n",
      "Downloading: thermoanaerobacterium.zip    9.76MB 2.34MB/s\n",
      "\u001b[1A\u001b[2K\u001b[1A\u001b[2KCollecting 5  records [================================================] 100% 5/5\n",
      "Downloading: thermoanaerobacterium.zip    9.76MB 2.34MB/s\n",
      "\u001b[1A\u001b[2K\u001b[1A\u001b[2KCollecting 5  records [================================================] 100% 5/5\n",
      "Downloading: thermoanaerobacterium.zip    9.76MB 2.34MB/s\n"
     ]
    },
    {
     "name": "stderr",
     "output_type": "stream",
     "text": [
      "\u001b[1A\u001b[2K\u001b[1A\u001b[2KCollecting 5  records [================================================] 100% 5/5\n",
      "Downloading: thermoanaerobacterium.zip    9.76MB 2.34MB/s\n",
      "\u001b[1A\u001b[2K\u001b[1A\u001b[2KCollecting 5  records [================================================] 100% 5/5\n",
      "Downloading: thermoanaerobacterium.zip    9.86MB 2.28MB/s\n",
      "\u001b[1A\u001b[2K\u001b[1A\u001b[2KCollecting 5  records [================================================] 100% 5/5\n",
      "Downloading: thermoanaerobacterium.zip    9.9MB 2.29MB/s\n",
      "\u001b[1A\u001b[2K\u001b[1A\u001b[2KCollecting 5  records [================================================] 100% 5/5\n",
      "Downloading: thermoanaerobacterium.zip    9.9MB 2.29MB/s\n",
      "\u001b[1A\u001b[2K\u001b[1A\u001b[2KCollecting 5  records [================================================] 100% 5/5\n",
      "Downloading: thermoanaerobacterium.zip    9.9MB 2.29MB/s\n",
      "\u001b[1A\u001b[2K\u001b[1A\u001b[2KCollecting 5  records [================================================] 100% 5/5\n",
      "Downloading: thermoanaerobacterium.zip    9.9MB 2.29MB/s\n",
      "\u001b[1A\u001b[2K\u001b[1A\u001b[2KCollecting 5  records [================================================] 100% 5/5\n",
      "Downloading: thermoanaerobacterium.zip    9.9MB 2.29MB/s\n",
      "\u001b[1A\u001b[2K\u001b[1A\u001b[2KCollecting 5  records [================================================] 100% 5/5\n",
      "Downloading: thermoanaerobacterium.zip    9.9MB 2.29MB/s\n",
      "\u001b[1A\u001b[2K\u001b[1A\u001b[2KCollecting 5  records [================================================] 100% 5/5\n",
      "Downloading: thermoanaerobacterium.zip    9.9MB 2.29MB/s\n",
      "\u001b[1A\u001b[2K\u001b[1A\u001b[2KCollecting 5  records [================================================] 100% 5/5\n",
      "Downloading: thermoanaerobacterium.zip    9.9MB 2.29MB/s\n",
      "\u001b[1A\u001b[2K\u001b[1A\u001b[2KCollecting 5  records [================================================] 100% 5/5\n",
      "Downloading: thermoanaerobacterium.zip    9.9MB 2.29MB/s\n",
      "\u001b[1A\u001b[2K\u001b[1A\u001b[2KCollecting 5  records [================================================] 100% 5/5\n",
      "Downloading: thermoanaerobacterium.zip    9.9MB 2.29MB/s\n",
      "\u001b[1A\u001b[2K\u001b[1A\u001b[2KCollecting 5  records [================================================] 100% 5/5\n",
      "Downloading: thermoanaerobacterium.zip    9.9MB 2.29MB/s\n",
      "\u001b[1A\u001b[2K\u001b[1A\u001b[2KCollecting 5  records [================================================] 100% 5/5\n",
      "Downloading: thermoanaerobacterium.zip    9.9MB 2.29MB/s\n",
      "\u001b[1A\u001b[2K\u001b[1A\u001b[2KCollecting 5  records [================================================] 100% 5/5\n",
      "Downloading: thermoanaerobacterium.zip    9.9MB 2.29MB/s\n",
      "\u001b[1A\u001b[2K\u001b[1A\u001b[2KCollecting 5  records [================================================] 100% 5/5\n",
      "Downloading: thermoanaerobacterium.zip    9.9MB 2.29MB/s\n",
      "\u001b[1A\u001b[2K\u001b[1A\u001b[2KCollecting 5  records [================================================] 100% 5/5\n",
      "Downloading: thermoanaerobacterium.zip    9.9MB 2.29MB/s\n",
      "\u001b[1A\u001b[2K\u001b[1A\u001b[2KCollecting 5  records [================================================] 100% 5/5\n",
      "Downloading: thermoanaerobacterium.zip    9.9MB 2.29MB/s\n",
      "\u001b[1A\u001b[2K\u001b[1A\u001b[2KCollecting 5  records [================================================] 100% 5/5\n",
      "Downloading: thermoanaerobacterium.zip    10.1MB 2.25MB/s\n",
      "\u001b[1A\u001b[2K\u001b[1A\u001b[2KCollecting 5  records [================================================] 100% 5/5\n",
      "Downloading: thermoanaerobacterium.zip    10.2MB done\n"
     ]
    },
    {
     "data": {
      "text/plain": [
       "CompletedProcess(args='ncbi-datasets download genome accession --include gbff --inputfile accession_list.txt --filename thermoanaerobacterium.zip', returncode=0)"
      ]
     },
     "execution_count": 8,
     "metadata": {},
     "output_type": "execute_result"
    }
   ],
   "source": [
    "subprocess.run(f\"ncbi-datasets download genome accession --include gbff --inputfile accession_list.txt --filename {taxon_file}.zip\", shell=True)"
   ]
  },
  {
   "cell_type": "code",
   "execution_count": 9,
   "id": "c20c7e4d",
   "metadata": {
    "execution": {
     "iopub.execute_input": "2023-04-04T13:07:12.107821Z",
     "iopub.status.busy": "2023-04-04T13:07:12.106341Z",
     "iopub.status.idle": "2023-04-04T13:07:12.449105Z",
     "shell.execute_reply": "2023-04-04T13:07:12.448395Z"
    },
    "papermill": {
     "duration": 0.360324,
     "end_time": "2023-04-04T13:07:12.450626",
     "exception": false,
     "start_time": "2023-04-04T13:07:12.090302",
     "status": "completed"
    },
    "tags": []
   },
   "outputs": [
    {
     "name": "stdout",
     "output_type": "stream",
     "text": [
      "Archive:  thermoanaerobacterium.zip\n",
      "  inflating: README.md               \n",
      "  inflating: ncbi_dataset/data/assembly_data_report.jsonl  \n",
      "  inflating: ncbi_dataset/data/GCA_000145615.1/genomic.gbff  \n",
      "  inflating: ncbi_dataset/data/GCA_000189775.3/genomic.gbff  \n",
      "  inflating: ncbi_dataset/data/GCA_000307585.2/genomic.gbff  \n",
      "  inflating: ncbi_dataset/data/GCA_000328545.1/genomic.gbff  "
     ]
    },
    {
     "name": "stdout",
     "output_type": "stream",
     "text": [
      "\n",
      "  inflating: ncbi_dataset/data/GCA_002250075.1/genomic.gbff  \n",
      "  inflating: ncbi_dataset/data/dataset_catalog.json  \n"
     ]
    },
    {
     "data": {
      "text/plain": [
       "CompletedProcess(args='rm thermoanaerobacterium.zip', returncode=0)"
      ]
     },
     "execution_count": 9,
     "metadata": {},
     "output_type": "execute_result"
    }
   ],
   "source": [
    "subprocess.run(f\"unzip {taxon_file}.zip\", shell=True)\n",
    "subprocess.run(f\"rm {taxon_file}.zip\"\"\", shell=True)"
   ]
  },
  {
   "cell_type": "code",
   "execution_count": 10,
   "id": "cf88561e",
   "metadata": {
    "execution": {
     "iopub.execute_input": "2023-04-04T13:07:12.463768Z",
     "iopub.status.busy": "2023-04-04T13:07:12.462959Z",
     "iopub.status.idle": "2023-04-04T13:07:12.474773Z",
     "shell.execute_reply": "2023-04-04T13:07:12.474164Z"
    },
    "papermill": {
     "duration": 0.019839,
     "end_time": "2023-04-04T13:07:12.476219",
     "exception": false,
     "start_time": "2023-04-04T13:07:12.456380",
     "status": "completed"
    },
    "tags": []
   },
   "outputs": [],
   "source": [
    "df = pd.read_table(\"info_table.tsv\", header=None)\n",
    "df.columns = ['Genome', 'Strain', 'Taxonomy Id', 'Sequence length', \"GC Percent (%)\", \"ContigN50\", \"Gene count\"]\n",
    "df.set_index(\"Genome\", inplace = True)\n",
    "df[\"rRNA\"]=np.nan\n",
    "df[\"tRNA\"]=np.nan"
   ]
  },
  {
   "cell_type": "code",
   "execution_count": 11,
   "id": "42ef1762",
   "metadata": {
    "execution": {
     "iopub.execute_input": "2023-04-04T13:07:12.488728Z",
     "iopub.status.busy": "2023-04-04T13:07:12.488522Z",
     "iopub.status.idle": "2023-04-04T13:07:12.644549Z",
     "shell.execute_reply": "2023-04-04T13:07:12.642821Z"
    },
    "papermill": {
     "duration": 0.166399,
     "end_time": "2023-04-04T13:07:12.648331",
     "exception": false,
     "start_time": "2023-04-04T13:07:12.481932",
     "status": "completed"
    },
    "tags": []
   },
   "outputs": [],
   "source": [
    "for i, row in df.iterrows():\n",
    "    os.chdir(pwd + f\"/ncbi_dataset/data/{i}\")\n",
    "    subprocess.run(f\"\"\"mv genomic.gbff {i}.gbff\"\"\", shell=True)\n",
    "    subprocess.run(f\"\"\"mv {i}.gbff {pwd}/annotated_genomes\"\"\", shell=True)\n",
    "os.chdir(pwd)\n",
    "!rm -r ncbi_dataset\n",
    "os.chdir(pwd + \"/annotated_genomes\")"
   ]
  },
  {
   "cell_type": "code",
   "execution_count": 12,
   "id": "5f664354",
   "metadata": {
    "execution": {
     "iopub.execute_input": "2023-04-04T13:07:12.678461Z",
     "iopub.status.busy": "2023-04-04T13:07:12.678018Z",
     "iopub.status.idle": "2023-04-04T13:07:17.539362Z",
     "shell.execute_reply": "2023-04-04T13:07:17.538724Z"
    },
    "papermill": {
     "duration": 4.877585,
     "end_time": "2023-04-04T13:07:17.540805",
     "exception": false,
     "start_time": "2023-04-04T13:07:12.663220",
     "status": "completed"
    },
    "tags": []
   },
   "outputs": [
    {
     "name": "stdout",
     "output_type": "stream",
     "text": [
      "  adding: GCA_000145615.1.gbff"
     ]
    },
    {
     "name": "stdout",
     "output_type": "stream",
     "text": [
      " (deflated 71%)\n",
      "  adding: GCA_000189775.3.gbff"
     ]
    },
    {
     "name": "stdout",
     "output_type": "stream",
     "text": [
      " (deflated 71%)\n",
      "  adding: GCA_000307585.2.gbff"
     ]
    },
    {
     "name": "stdout",
     "output_type": "stream",
     "text": [
      " (deflated 71%)\n",
      "  adding: GCA_000328545.1.gbff"
     ]
    },
    {
     "name": "stdout",
     "output_type": "stream",
     "text": [
      " (deflated 71%)\n",
      "  adding: GCA_002250075.1.gbff"
     ]
    },
    {
     "name": "stdout",
     "output_type": "stream",
     "text": [
      " (deflated 69%)\n"
     ]
    },
    {
     "data": {
      "text/plain": [
       "CompletedProcess(args='zip ../thermoanaerobacterium.zip *.gbff', returncode=0)"
      ]
     },
     "execution_count": 12,
     "metadata": {},
     "output_type": "execute_result"
    }
   ],
   "source": [
    "subprocess.run(f\"\"\"zip ../{taxon_file}.zip *.gbff\"\"\", shell=True)"
   ]
  },
  {
   "cell_type": "code",
   "execution_count": 13,
   "id": "695e6d75",
   "metadata": {
    "execution": {
     "iopub.execute_input": "2023-04-04T13:07:17.558621Z",
     "iopub.status.busy": "2023-04-04T13:07:17.558381Z",
     "iopub.status.idle": "2023-04-04T13:07:17.647082Z",
     "shell.execute_reply": "2023-04-04T13:07:17.646386Z"
    },
    "papermill": {
     "duration": 0.101013,
     "end_time": "2023-04-04T13:07:17.648446",
     "exception": false,
     "start_time": "2023-04-04T13:07:17.547433",
     "status": "completed"
    },
    "tags": []
   },
   "outputs": [],
   "source": [
    "for i, row in df.iterrows():\n",
    "    p = subprocess.Popen(\"\"\"cat %s.gbff | grep rRNAs | head -1 | awk -F\":: \" '{ print $2}'\"\"\" %i, stdout=subprocess.PIPE, shell=True)\n",
    "    rRNA = p.stdout.read().decode('ascii').strip()\n",
    "    p = subprocess.Popen(\"\"\"cat %s.gbff | grep tRNAs | head -1 | awk -F\":: \" '{ print $2}'\"\"\" %i, stdout=subprocess.PIPE, shell=True)\n",
    "    tRNA = p.stdout.read().decode('ascii').strip()\n",
    "    df.at[i, \"rRNA\"] = rRNA\n",
    "    df.at[i, \"tRNA\"] = tRNA\n",
    "    df.Strain = df.Strain.astype(str)\n",
    "os.chdir(pwd)"
   ]
  },
  {
   "cell_type": "code",
   "execution_count": 14,
   "id": "f55f518c",
   "metadata": {
    "execution": {
     "iopub.execute_input": "2023-04-04T13:07:17.663690Z",
     "iopub.status.busy": "2023-04-04T13:07:17.663335Z",
     "iopub.status.idle": "2023-04-04T13:07:17.675658Z",
     "shell.execute_reply": "2023-04-04T13:07:17.674918Z"
    },
    "papermill": {
     "duration": 0.022482,
     "end_time": "2023-04-04T13:07:17.677099",
     "exception": false,
     "start_time": "2023-04-04T13:07:17.654617",
     "status": "completed"
    },
    "tags": []
   },
   "outputs": [
    {
     "data": {
      "text/html": [
       "<div>\n",
       "<style scoped>\n",
       "    .dataframe tbody tr th:only-of-type {\n",
       "        vertical-align: middle;\n",
       "    }\n",
       "\n",
       "    .dataframe tbody tr th {\n",
       "        vertical-align: top;\n",
       "    }\n",
       "\n",
       "    .dataframe thead th {\n",
       "        text-align: right;\n",
       "    }\n",
       "</style>\n",
       "<table border=\"1\" class=\"dataframe\">\n",
       "  <thead>\n",
       "    <tr style=\"text-align: right;\">\n",
       "      <th></th>\n",
       "      <th>Strain</th>\n",
       "      <th>Taxonomy Id</th>\n",
       "      <th>Sequence length</th>\n",
       "      <th>GC Percent (%)</th>\n",
       "      <th>ContigN50</th>\n",
       "      <th>Gene count</th>\n",
       "      <th>rRNA</th>\n",
       "      <th>tRNA</th>\n",
       "    </tr>\n",
       "    <tr>\n",
       "      <th>Genome</th>\n",
       "      <th></th>\n",
       "      <th></th>\n",
       "      <th></th>\n",
       "      <th></th>\n",
       "      <th></th>\n",
       "      <th></th>\n",
       "      <th></th>\n",
       "      <th></th>\n",
       "    </tr>\n",
       "  </thead>\n",
       "  <tbody>\n",
       "    <tr>\n",
       "      <th>GCA_000307585.2</th>\n",
       "      <td>JW/SL-YS485</td>\n",
       "      <td>1094508</td>\n",
       "      <td>2837411</td>\n",
       "      <td>994235</td>\n",
       "      <td>2726530</td>\n",
       "      <td>2931</td>\n",
       "      <td></td>\n",
       "      <td></td>\n",
       "    </tr>\n",
       "    <tr>\n",
       "      <th>GCA_002250075.1</th>\n",
       "      <td>TG57</td>\n",
       "      <td>1517</td>\n",
       "      <td>2895726</td>\n",
       "      <td>987683</td>\n",
       "      <td>2895726</td>\n",
       "      <td>3042</td>\n",
       "      <td></td>\n",
       "      <td></td>\n",
       "    </tr>\n",
       "    <tr>\n",
       "      <th>GCA_000145615.1</th>\n",
       "      <td>DSM 571</td>\n",
       "      <td>580327</td>\n",
       "      <td>2785752</td>\n",
       "      <td>950290</td>\n",
       "      <td>2785752</td>\n",
       "      <td>2831</td>\n",
       "      <td></td>\n",
       "      <td></td>\n",
       "    </tr>\n",
       "    <tr>\n",
       "      <th>GCA_000328545.1</th>\n",
       "      <td>M0795</td>\n",
       "      <td>698948</td>\n",
       "      <td>2894276</td>\n",
       "      <td>975752</td>\n",
       "      <td>2783395</td>\n",
       "      <td>2919</td>\n",
       "      <td></td>\n",
       "      <td></td>\n",
       "    </tr>\n",
       "    <tr>\n",
       "      <th>GCA_000189775.3</th>\n",
       "      <td>LX-11</td>\n",
       "      <td>858215</td>\n",
       "      <td>2534358</td>\n",
       "      <td>886413</td>\n",
       "      <td>2534358</td>\n",
       "      <td>2492</td>\n",
       "      <td></td>\n",
       "      <td></td>\n",
       "    </tr>\n",
       "  </tbody>\n",
       "</table>\n",
       "</div>"
      ],
      "text/plain": [
       "                      Strain  Taxonomy Id  Sequence length  GC Percent (%)  \\\n",
       "Genome                                                                       \n",
       "GCA_000307585.2  JW/SL-YS485      1094508          2837411          994235   \n",
       "GCA_002250075.1         TG57         1517          2895726          987683   \n",
       "GCA_000145615.1      DSM 571       580327          2785752          950290   \n",
       "GCA_000328545.1        M0795       698948          2894276          975752   \n",
       "GCA_000189775.3        LX-11       858215          2534358          886413   \n",
       "\n",
       "                 ContigN50  Gene count rRNA tRNA  \n",
       "Genome                                            \n",
       "GCA_000307585.2    2726530        2931            \n",
       "GCA_002250075.1    2895726        3042            \n",
       "GCA_000145615.1    2785752        2831            \n",
       "GCA_000328545.1    2783395        2919            \n",
       "GCA_000189775.3    2534358        2492            "
      ]
     },
     "execution_count": 14,
     "metadata": {},
     "output_type": "execute_result"
    }
   ],
   "source": [
    "df"
   ]
  },
  {
   "cell_type": "code",
   "execution_count": 15,
   "id": "05f03976",
   "metadata": {
    "execution": {
     "iopub.execute_input": "2023-04-04T13:07:17.694092Z",
     "iopub.status.busy": "2023-04-04T13:07:17.693841Z",
     "iopub.status.idle": "2023-04-04T13:07:22.333801Z",
     "shell.execute_reply": "2023-04-04T13:07:22.332784Z"
    },
    "papermill": {
     "duration": 4.649903,
     "end_time": "2023-04-04T13:07:22.335694",
     "exception": false,
     "start_time": "2023-04-04T13:07:17.685791",
     "status": "completed"
    },
    "tags": []
   },
   "outputs": [
    {
     "name": "stderr",
     "output_type": "stream",
     "text": [
      "/home/infosebi/.local/lib/python3.10/site-packages/pyspark/sql/pandas/conversion.py:474: FutureWarning: iteritems is deprecated and will be removed in a future version. Use .items instead.\n",
      "  for column, series in pdf.iteritems():\n",
      "/home/infosebi/.local/lib/python3.10/site-packages/pyspark/sql/pandas/conversion.py:486: FutureWarning: iteritems is deprecated and will be removed in a future version. Use .items instead.\n",
      "  for column, series in pdf.iteritems():\n"
     ]
    },
    {
     "name": "stderr",
     "output_type": "stream",
     "text": [
      "\r",
      "[Stage 0:>                                                          (0 + 1) / 1]\r"
     ]
    },
    {
     "name": "stderr",
     "output_type": "stream",
     "text": [
      "\r",
      "                                                                                \r"
     ]
    },
    {
     "name": "stdout",
     "output_type": "stream",
     "text": [
      "+---------------+-----------+-----------+---------------+--------------+---------+----------+----+----+\n",
      "|         Genome|     Strain|Taxonomy Id|Sequence length|GC Percent (%)|ContigN50|Gene count|rRNA|tRNA|\n",
      "+---------------+-----------+-----------+---------------+--------------+---------+----------+----+----+\n",
      "|GCA_000307585.2|JW/SL-YS485|    1094508|        2837411|        994235|  2726530|      2931|    |    |\n",
      "|GCA_002250075.1|       TG57|       1517|        2895726|        987683|  2895726|      3042|    |    |\n",
      "|GCA_000145615.1|    DSM 571|     580327|        2785752|        950290|  2785752|      2831|    |    |\n",
      "|GCA_000328545.1|      M0795|     698948|        2894276|        975752|  2783395|      2919|    |    |\n",
      "|GCA_000189775.3|      LX-11|     858215|        2534358|        886413|  2534358|      2492|    |    |\n",
      "+---------------+-----------+-----------+---------------+--------------+---------+----------+----+----+\n",
      "\n"
     ]
    }
   ],
   "source": [
    "df.reset_index(drop=False,inplace=True)\n",
    "sparkDF_info=spark.createDataFrame(df) \n",
    "sparkDF_info.show()"
   ]
  },
  {
   "cell_type": "code",
   "execution_count": 16,
   "id": "2239508b",
   "metadata": {
    "execution": {
     "iopub.execute_input": "2023-04-04T13:07:22.355370Z",
     "iopub.status.busy": "2023-04-04T13:07:22.354659Z",
     "iopub.status.idle": "2023-04-04T13:07:26.186069Z",
     "shell.execute_reply": "2023-04-04T13:07:26.184682Z"
    },
    "papermill": {
     "duration": 3.844735,
     "end_time": "2023-04-04T13:07:26.189281",
     "exception": false,
     "start_time": "2023-04-04T13:07:22.344546",
     "status": "completed"
    },
    "tags": []
   },
   "outputs": [
    {
     "name": "stdout",
     "output_type": "stream",
     "text": [
      "+----+------+---------+--------------------+----------+\n",
      "|Name|Length|Start Pos|          Annotation|Complement|\n",
      "+----+------+---------+--------------------+----------+\n",
      "|   -|   669|      109|metal dependent p...|   forward|\n",
      "|   -|  1191|      884|S-adenosylmethion...|   reverse|\n",
      "|   -|   504|     2380|        Rubrerythrin|   reverse|\n",
      "|   -|   501|     2903|alkyl hydroperoxi...|   reverse|\n",
      "|   -|  2370|     4208|hypothetical protein|   forward|\n",
      "|   -|   666|     6599|hypothetical protein|   reverse|\n",
      "|   -|   546|     7341|sporulation prote...|   forward|\n",
      "|   -|  1455|     7891|Spore germination...|   reverse|\n",
      "|   -|  1395|     9427|integral membrane...|   reverse|\n",
      "|   -|   678|    10831|two component tra...|   reverse|\n",
      "|   -|  1143|    11608|N-acetylglucosami...|   forward|\n",
      "|   -|  1011|    12760|transcriptional r...|   reverse|\n",
      "|   -|   135|    13900|hypothetical protein|   reverse|\n",
      "|   -|   822|    14097|  Cof-like hydrolase|   reverse|\n",
      "|   -|   672|    15121|protein of unknow...|   forward|\n",
      "|   -|   384|    15801|hypothetical protein|   forward|\n",
      "|   -|  1170|    16218|hypothetical protein|   reverse|\n",
      "|   -|   579|    17483|metal dependent p...|   reverse|\n",
      "|   -|   423|    18145|protein of unknow...|   reverse|\n",
      "|   -|   429|    18569|DNA polymerase be...|   reverse|\n",
      "+----+------+---------+--------------------+----------+\n",
      "only showing top 20 rows\n",
      "\n"
     ]
    },
    {
     "name": "stdout",
     "output_type": "stream",
     "text": [
      "(13470, 5)\n"
     ]
    }
   ],
   "source": [
    "columns = StructType([StructField('Name', StringType(), False),\n",
    "                       StructField('Length', IntegerType(), False),\n",
    "                       StructField('Start Pos', IntegerType(), False),\n",
    "                       StructField('Annotation', StringType(), False),\n",
    "                       StructField('Complement', StringType(), False),])\n",
    "\n",
    "\n",
    "added_row=[]\n",
    "for row_iterator in sparkDF_info.collect():\n",
    "    file_path = pwd + f\"/annotated_genomes/{row_iterator['Genome']}.gbff\"\n",
    "    for gb_obj in SeqIO.parse(file_path,'genbank'):\n",
    "        all_cds = []\n",
    "        for feature in gb_obj.features:\n",
    "            if feature.type == \"CDS\":\n",
    "                all_cds.append(feature)\n",
    "        for cds in all_cds:\n",
    "            if 'gene' in cds.qualifiers:\n",
    "                gene = cds.qualifiers['gene'][0]\n",
    "            else:\n",
    "                gene = \"-\"\n",
    "            if 'product' in cds.qualifiers:\n",
    "                product = cds.qualifiers['product'][0]\n",
    "            else:\n",
    "                product = \"-\"\n",
    "            complement = \"forward\"\n",
    "            if cds.location.strand < 1:\n",
    "                complement = \"reverse\"\n",
    "            added_row.append([gene, cds.location.end-cds.location.start, int(cds.location.start) ,product, complement])\n",
    "sparkDF_cds = spark.createDataFrame(added_row, columns)\n",
    "sparkDF_cds.show()\n",
    "print((sparkDF_cds.count(), len(sparkDF_cds.columns)))\n",
    "#ec number, strain, species, go id, cog id, cazy, pfams, kegg pathway\n",
    "#java jar cluster zip"
   ]
  },
  {
   "cell_type": "code",
   "execution_count": 17,
   "id": "39b9b81e",
   "metadata": {
    "execution": {
     "iopub.execute_input": "2023-04-04T13:07:26.233418Z",
     "iopub.status.busy": "2023-04-04T13:07:26.231485Z",
     "iopub.status.idle": "2023-04-04T13:07:26.238135Z",
     "shell.execute_reply": "2023-04-04T13:07:26.237363Z"
    },
    "papermill": {
     "duration": 0.029317,
     "end_time": "2023-04-04T13:07:26.240118",
     "exception": false,
     "start_time": "2023-04-04T13:07:26.210801",
     "status": "completed"
    },
    "tags": []
   },
   "outputs": [],
   "source": [
    "#file_path = pwd + f\"/ncbi_dataset/GCA_000597845.1.gbff\"\n",
    "#gb_obj = SeqIO.read(file_path,'genbank')\n",
    "#all_cds=[]\n",
    "#for feature in gb_obj.features:\n",
    "#    if feature.type=='CDS':\n",
    "#        all_cds.append(feature)\n",
    "#os.chdir(pwd + \"/seq_files\")\n",
    "#\n",
    "#records = []\n",
    "#\n",
    "#for i in range(len(all_cds)):\n",
    "#    extracted_seq = all_cds[i].extract(gb_obj)\n",
    "#    records.append(extracted_seq)\n",
    "#\n",
    "#with open(\"proteins.fasta\", \"w\") as output:\n",
    "#    SeqIO.write(records,output,format=\"fasta\")\n",
    "\n",
    "\n",
    "#os.chdir(pwd)"
   ]
  },
  {
   "cell_type": "code",
   "execution_count": 18,
   "id": "12d49a1d",
   "metadata": {
    "execution": {
     "iopub.execute_input": "2023-04-04T13:07:26.261428Z",
     "iopub.status.busy": "2023-04-04T13:07:26.260617Z",
     "iopub.status.idle": "2023-04-04T13:07:50.287905Z",
     "shell.execute_reply": "2023-04-04T13:07:50.286468Z"
    },
    "papermill": {
     "duration": 24.039646,
     "end_time": "2023-04-04T13:07:50.290535",
     "exception": false,
     "start_time": "2023-04-04T13:07:26.250889",
     "status": "completed"
    },
    "scrolled": true,
    "tags": []
   },
   "outputs": [
    {
     "name": "stdout",
     "output_type": "stream",
     "text": [
      "# Input: .//GCA_000189775.3.gbff\r\n"
     ]
    },
    {
     "name": "stdout",
     "output_type": "stream",
     "text": [
      "# working on region:CP002739, Thermoanaerobacterium xylanolyticum LX-11, Thermoanaerobacterium xylanolyticum LX-11, complete genome., 31-DEC-2013\r\n"
     ]
    },
    {
     "name": "stdout",
     "output_type": "stream",
     "text": [
      "# GFF3 saved to ../gff_files/GCA_000189775.3.gbff.gff\r\n",
      "# Input: .//GCA_000307585.2.gbff\r\n"
     ]
    },
    {
     "name": "stdout",
     "output_type": "stream",
     "text": [
      "# working on region:CP003184, Thermoanaerobacterium saccharolyticum JW/SL-YS485, Thermoanaerobacterium saccharolyticum JW/SL-YS485, complete genome., 27-AUG-2014\r\n"
     ]
    },
    {
     "name": "stdout",
     "output_type": "stream",
     "text": [
      "# working on region:CP003185, Thermoanaerobacterium saccharolyticum JW/SL-YS485, Thermoanaerobacterium saccharolyticum JW/SL-YS485 plasmid pMU3262, complete genome., 26-JUL-2016\r\n"
     ]
    },
    {
     "name": "stdout",
     "output_type": "stream",
     "text": [
      "# working on region:CP003186, Thermoanaerobacterium phage THSA-485A, Thermoanaerobacterium phage THSA-485A, complete genome., 27-AUG-2014\r\n"
     ]
    },
    {
     "name": "stdout",
     "output_type": "stream",
     "text": [
      "# GFF3 saved to ../gff_files/GCA_000307585.2.gbff.gff\r\n"
     ]
    },
    {
     "name": "stdout",
     "output_type": "stream",
     "text": [
      "# Input: .//GCA_000328545.1.gbff\r\n"
     ]
    },
    {
     "name": "stdout",
     "output_type": "stream",
     "text": [
      "# working on region:CP003066, Thermoanaerobacterium thermosaccharolyticum M0795, Thermoanaerobacterium thermosaccharolyticum M0795, complete genome., 22-JUL-2013\r\n"
     ]
    },
    {
     "name": "stdout",
     "output_type": "stream",
     "text": [
      "# working on region:CP003067, Thermoanaerobacterium thermosaccharolyticum M0795, Thermoanaerobacterium thermosaccharolyticum M0795 plasmid pTHETHE01, complete sequence., 26-JUL-2016\r\n"
     ]
    },
    {
     "name": "stdout",
     "output_type": "stream",
     "text": [
      "# GFF3 saved to ../gff_files/GCA_000328545.1.gbff.gff\r\n"
     ]
    },
    {
     "name": "stdout",
     "output_type": "stream",
     "text": [
      "# Input: .//GCA_000145615.1.gbff\r\n"
     ]
    },
    {
     "name": "stdout",
     "output_type": "stream",
     "text": [
      "# working on region:CP002171, Thermoanaerobacterium thermosaccharolyticum DSM 571, Thermoanaerobacterium thermosaccharolyticum DSM 571, complete genome., 02-JAN-2014\r\n"
     ]
    },
    {
     "name": "stdout",
     "output_type": "stream",
     "text": [
      "# GFF3 saved to ../gff_files/GCA_000145615.1.gbff.gff\r\n"
     ]
    },
    {
     "name": "stdout",
     "output_type": "stream",
     "text": [
      "# Input: .//GCA_002250075.1.gbff\r\n"
     ]
    },
    {
     "name": "stdout",
     "output_type": "stream",
     "text": [
      "# working on region:CP016893, Thermoanaerobacterium thermosaccharolyticum, Thermoanaerobacterium thermosaccharolyticum strain TG57 chromosome, complete genome., 23-MAR-2022\r\n"
     ]
    },
    {
     "name": "stdout",
     "output_type": "stream",
     "text": [
      "# GFF3 saved to ../gff_files/GCA_002250075.1.gbff.gff\r\n"
     ]
    }
   ],
   "source": [
    "os.chdir(pwd + \"/annotated_genomes\")\n",
    "!bp_genbank2gff3 --dir ./ --outdir ../gff_files\n",
    "os.chdir(pwd + \"/gff_files\")\n",
    "!for a in *.gbff.gff; do mv -- \"$a\" \"${a%.gbff.gff}.gff\"; done\n",
    "os.chdir(pwd)"
   ]
  },
  {
   "cell_type": "code",
   "execution_count": 19,
   "id": "9c1dfc58",
   "metadata": {
    "execution": {
     "iopub.execute_input": "2023-04-04T13:07:50.307840Z",
     "iopub.status.busy": "2023-04-04T13:07:50.307600Z",
     "iopub.status.idle": "2023-04-04T13:22:44.943297Z",
     "shell.execute_reply": "2023-04-04T13:22:44.942090Z"
    },
    "papermill": {
     "duration": 894.646856,
     "end_time": "2023-04-04T13:22:44.946082",
     "exception": false,
     "start_time": "2023-04-04T13:07:50.299226",
     "status": "completed"
    },
    "tags": []
   },
   "outputs": [
    {
     "name": "stdout",
     "output_type": "stream",
     "text": [
      "Use of uninitialized value in require at /home/infosebi/.conda/envs/roary/lib/perl5/5.22.0/x86_64-linux-thread-multi/Encode.pm line 59.\r\n"
     ]
    },
    {
     "name": "stdout",
     "output_type": "stream",
     "text": [
      "\r\n",
      "Please cite Roary if you use any of the results it produces:\r\n",
      "    Andrew J. Page, Carla A. Cummins, Martin Hunt, Vanessa K. Wong, Sandra Reuter, Matthew T. G. Holden, Maria Fookes, Daniel Falush, Jacqueline A. Keane, Julian Parkhill,\r\n",
      "\t\"Roary: Rapid large-scale prokaryote pan genome analysis\", Bioinformatics, 2015 Nov 15;31(22):3691-3693\r\n",
      "    doi: http://doi.org/10.1093/bioinformatics/btv421\r\n",
      "\tPubmed: 26198102\r\n",
      "\r\n",
      "2023/04/04 13:07:51 Output directory created: gff_files/roary\r\n",
      "2023/04/04 13:07:51 Fixing input GFF files\r\n"
     ]
    },
    {
     "name": "stdout",
     "output_type": "stream",
     "text": [
      "2023/04/04 13:07:52 Input file contains duplicate gene IDs, attempting to fix by adding a unique suffix, new GFF in the fixed_input_files directory: /home/infosebi/Documents/Programmieren/MastersProject/thermoanaerobacterium/gff_files/GCA_000145615.1.gff \r\n",
      "2023/04/04 13:07:52 Renamed GFF file from: /home/infosebi/Documents/Programmieren/MastersProject/thermoanaerobacterium/gff_files/GCA_000145615.1.gff -> fixed_input_files/GCA_000145615.1.gff\r\n",
      "2023/04/04 13:07:52 Locus tag used is 'ad4372dd6c0e02f4056d5abcc058849f' for file: /home/infosebi/Documents/Programmieren/MastersProject/thermoanaerobacterium/gff_files/GCA_000145615.1.gff\r\n"
     ]
    },
    {
     "name": "stdout",
     "output_type": "stream",
     "text": [
      "2023/04/04 13:07:53 Input file contains duplicate gene IDs, attempting to fix by adding a unique suffix, new GFF in the fixed_input_files directory: /home/infosebi/Documents/Programmieren/MastersProject/thermoanaerobacterium/gff_files/GCA_000189775.3.gff \r\n",
      "2023/04/04 13:07:53 Renamed GFF file from: /home/infosebi/Documents/Programmieren/MastersProject/thermoanaerobacterium/gff_files/GCA_000189775.3.gff -> fixed_input_files/GCA_000189775.3.gff\r\n",
      "2023/04/04 13:07:53 Locus tag used is 'af9d275dc4cc622cb84d6cc9ce503ea4' for file: /home/infosebi/Documents/Programmieren/MastersProject/thermoanaerobacterium/gff_files/GCA_000189775.3.gff\r\n"
     ]
    },
    {
     "name": "stdout",
     "output_type": "stream",
     "text": [
      "2023/04/04 13:07:56 Input file contains duplicate gene IDs, attempting to fix by adding a unique suffix, new GFF in the fixed_input_files directory: /home/infosebi/Documents/Programmieren/MastersProject/thermoanaerobacterium/gff_files/GCA_000328545.1.gff \r\n",
      "2023/04/04 13:07:56 Renamed GFF file from: /home/infosebi/Documents/Programmieren/MastersProject/thermoanaerobacterium/gff_files/GCA_000328545.1.gff -> fixed_input_files/GCA_000328545.1.gff\r\n",
      "2023/04/04 13:07:56 Locus tag used is '5840733bfae2da7714a13ada5e214277' for file: /home/infosebi/Documents/Programmieren/MastersProject/thermoanaerobacterium/gff_files/GCA_000328545.1.gff\r\n"
     ]
    },
    {
     "name": "stdout",
     "output_type": "stream",
     "text": [
      "2023/04/04 13:07:57 Extracting proteins from GFF files\r\n",
      "Extracting proteins from fixed_input_files/GCA_000145615.1.gff\r\n",
      "Extracting proteins from fixed_input_files/GCA_000189775.3.gff\r\n",
      "Extracting proteins from /home/infosebi/Documents/Programmieren/MastersProject/thermoanaerobacterium/gff_files/GCA_000307585.2.gff\r\n",
      "Extracting proteins from fixed_input_files/GCA_000328545.1.gff\r\n",
      "Extracting proteins from /home/infosebi/Documents/Programmieren/MastersProject/thermoanaerobacterium/gff_files/GCA_002250075.1.gff\r\n"
     ]
    },
    {
     "name": "stdout",
     "output_type": "stream",
     "text": [
      "Academic tradition requires you to cite works you base your article on.\r\n",
      "If you use programs that use GNU Parallel to process data for an article in a\r\n",
      "scientific publication, please cite:\r\n",
      "\r\n",
      "  Tange, O. (2023, January 22). GNU Parallel 20230122 ('Bolsonaristas').\r\n",
      "  Zenodo. https://doi.org/10.5281/zenodo.7558957\r\n",
      "\r\n",
      "This helps funding further development; AND IT WON'T COST YOU A CENT.\r\n",
      "If you pay 10000 EUR you should feel free to use GNU Parallel without citing.\r\n",
      "\r\n",
      "More about funding GNU Parallel and the citation notice:\r\n",
      "https://www.gnu.org/software/parallel/parallel_design.html#citation-notice\r\n",
      "\r\n",
      "To silence this citation notice: run 'parallel --citation' once.\r\n",
      "\r\n",
      "Come on: You have run parallel 106 times. Isn't it about time \r\n",
      "you run 'parallel --citation' once to silence the citation notice?\r\n",
      "\r\n"
     ]
    },
    {
     "name": "stdout",
     "output_type": "stream",
     "text": [
      "Combine proteins into a single file\r\n"
     ]
    },
    {
     "name": "stdout",
     "output_type": "stream",
     "text": [
      "Iteratively run cd-hit\r\n"
     ]
    },
    {
     "name": "stdout",
     "output_type": "stream",
     "text": [
      "Academic tradition requires you to cite works you base your article on.\r\n",
      "If you use programs that use GNU Parallel to process data for an article in a\r\n",
      "scientific publication, please cite:\r\n",
      "\r\n",
      "  Tange, O. (2023, January 22). GNU Parallel 20230122 ('Bolsonaristas').\r\n",
      "  Zenodo. https://doi.org/10.5281/zenodo.7558957\r\n",
      "\r\n",
      "This helps funding further development; AND IT WON'T COST YOU A CENT.\r\n",
      "If you pay 10000 EUR you should feel free to use GNU Parallel without citing.\r\n",
      "\r\n",
      "More about funding GNU Parallel and the citation notice:\r\n",
      "https://www.gnu.org/software/parallel/parallel_design.html#citation-notice\r\n",
      "\r\n",
      "To silence this citation notice: run 'parallel --citation' once.\r\n",
      "\r\n",
      "Come on: You have run parallel 107 times. Isn't it about time \r\n",
      "you run 'parallel --citation' once to silence the citation notice?\r\n",
      "\r\n"
     ]
    },
    {
     "name": "stdout",
     "output_type": "stream",
     "text": [
      "Parallel all against all blast\r\n"
     ]
    },
    {
     "name": "stdout",
     "output_type": "stream",
     "text": [
      "Academic tradition requires you to cite works you base your article on.\r\n",
      "If you use programs that use GNU Parallel to process data for an article in a\r\n",
      "scientific publication, please cite:\r\n",
      "\r\n",
      "  Tange, O. (2023, January 22). GNU Parallel 20230122 ('Bolsonaristas').\r\n",
      "  Zenodo. https://doi.org/10.5281/zenodo.7558957\r\n",
      "\r\n",
      "This helps funding further development; AND IT WON'T COST YOU A CENT.\r\n",
      "If you pay 10000 EUR you should feel free to use GNU Parallel without citing.\r\n",
      "\r\n",
      "More about funding GNU Parallel and the citation notice:\r\n",
      "https://www.gnu.org/software/parallel/parallel_design.html#citation-notice\r\n",
      "\r\n",
      "To silence this citation notice: run 'parallel --citation' once.\r\n",
      "\r\n",
      "Come on: You have run parallel 108 times. Isn't it about time \r\n",
      "you run 'parallel --citation' once to silence the citation notice?\r\n",
      "\r\n"
     ]
    },
    {
     "name": "stdout",
     "output_type": "stream",
     "text": [
      "Academic tradition requires you to cite works you base your article on.\r\n",
      "If you use programs that use GNU Parallel to process data for an article in a\r\n",
      "scientific publication, please cite:\r\n",
      "\r\n",
      "  Tange, O. (2023, January 22). GNU Parallel 20230122 ('Bolsonaristas').\r\n",
      "  Zenodo. https://doi.org/10.5281/zenodo.7558957\r\n",
      "\r\n",
      "This helps funding further development; AND IT WON'T COST YOU A CENT.\r\n",
      "If you pay 10000 EUR you should feel free to use GNU Parallel without citing.\r\n",
      "\r\n",
      "More about funding GNU Parallel and the citation notice:\r\n",
      "https://www.gnu.org/software/parallel/parallel_design.html#citation-notice\r\n",
      "\r\n",
      "To silence this citation notice: run 'parallel --citation' once.\r\n",
      "\r\n",
      "Come on: You have run parallel 109 times. Isn't it about time \r\n",
      "you run 'parallel --citation' once to silence the citation notice?\r\n",
      "\r\n"
     ]
    },
    {
     "name": "stdout",
     "output_type": "stream",
     "text": [
      "Cluster with MCL\r\n"
     ]
    },
    {
     "name": "stdout",
     "output_type": "stream",
     "text": [
      "Academic tradition requires you to cite works you base your article on.\r\n",
      "If you use programs that use GNU Parallel to process data for an article in a\r\n",
      "scientific publication, please cite:\r\n",
      "\r\n",
      "  Tange, O. (2023, January 22). GNU Parallel 20230122 ('Bolsonaristas').\r\n",
      "  Zenodo. https://doi.org/10.5281/zenodo.7558957\r\n",
      "\r\n",
      "This helps funding further development; AND IT WON'T COST YOU A CENT.\r\n",
      "If you pay 10000 EUR you should feel free to use GNU Parallel without citing.\r\n",
      "\r\n",
      "More about funding GNU Parallel and the citation notice:\r\n",
      "https://www.gnu.org/software/parallel/parallel_design.html#citation-notice\r\n",
      "\r\n",
      "To silence this citation notice: run 'parallel --citation' once.\r\n",
      "\r\n",
      "Come on: You have run parallel 110 times. Isn't it about time \r\n",
      "you run 'parallel --citation' once to silence the citation notice?\r\n",
      "\r\n"
     ]
    },
    {
     "name": "stdout",
     "output_type": "stream",
     "text": [
      "2023/04/04 13:20:59 Running command: pan_genome_post_analysis -o clustered_proteins -p pan_genome.fa -s gene_presence_absence.csv -c _clustered.clstr --output_multifasta_files -i /home/infosebi/Documents/Programmieren/MastersProject/thermoanaerobacterium/gff_files/roary/rjbL33b52i//_gff_files -f /home/infosebi/Documents/Programmieren/MastersProject/thermoanaerobacterium/gff_files/roary/rjbL33b52i//_fasta_files -t 11  --dont_create_rplots   -v --mafft  -j Local --processors 8 --group_limit 50000 -cd 99\r\n"
     ]
    },
    {
     "name": "stdout",
     "output_type": "stream",
     "text": [
      "2023/04/04 13:21:00 Reinflate clusters\r\n"
     ]
    },
    {
     "name": "stdout",
     "output_type": "stream",
     "text": [
      "2023/04/04 13:21:00 Split groups with paralogs\r\n"
     ]
    },
    {
     "name": "stdout",
     "output_type": "stream",
     "text": [
      "2023/04/04 13:21:01 Labelling the groups\r\n",
      "2023/04/04 13:21:01 Transfering the annotation to the groups\r\n"
     ]
    },
    {
     "name": "stdout",
     "output_type": "stream",
     "text": [
      "2023/04/04 13:21:11 Creating accessory binary gene presence and absence fasta\r\n"
     ]
    },
    {
     "name": "stdout",
     "output_type": "stream",
     "text": [
      "2023/04/04 13:21:11 Creating accessory binary gene presence and absence tree\r\n",
      "2023/04/04 13:21:11 Running command: /home/infosebi/.conda/envs/roary/bin/FastTree -fastest -nt accessory_binary_genes.fa > accessory_binary_genes.fa.newick \r\n"
     ]
    },
    {
     "name": "stdout",
     "output_type": "stream",
     "text": [
      "FastTree Version 2.1.11 Double precision (No SSE3)\r\n",
      "Alignment: accessory_binary_genes.fa\r\n",
      "Nucleotide distances: Jukes-Cantor Joins: balanced Support: SH-like 1000\r\n",
      "Search: Fastest+2nd +NNI +SPR (2 rounds range 10) +ML-NNI opt-each=1\r\n",
      "TopHits: 1.00*sqrtN close=default refresh=0.50\r\n",
      "ML Model: Jukes-Cantor, CAT approximation with 20 rate categories\r\n",
      "Initial topology in 0.00 seconds\r\n",
      "Refining topology: 9 rounds ME-NNIs, 2 rounds ME-SPRs, 5 rounds ML-NNIs\r\n",
      "Total branch-length 3.238 after 0.02 sec\r\n"
     ]
    },
    {
     "name": "stdout",
     "output_type": "stream",
     "text": [
      "ML-NNI round 1: LogLk = -13680.844 NNIs 0 max delta 0.00 Time 0.05\r\n",
      "Switched to using 20 rate categories (CAT approximation)\r\n",
      "Rate categories were divided by 0.713 so that average rate = 1.0\r\n",
      "CAT-based log-likelihoods may not be comparable across runs\r\n",
      "Use -gamma for approximate but comparable Gamma(20) log-likelihoods\r\n",
      "ML-NNI round 2: LogLk = -13284.905 NNIs 0 max delta 0.00 Time 0.06\r\n",
      "Turning off heuristics for final round of ML NNIs (converged)\r\n",
      "ML-NNI round 3: LogLk = -13284.722 NNIs 0 max delta 0.00 Time 0.09 (final)\r\n",
      "Optimize all lengths: LogLk = -13284.722 Time 0.09\r\n"
     ]
    },
    {
     "name": "stdout",
     "output_type": "stream",
     "text": [
      "Total time: 0.15 seconds Unique: 5/5 Bad splits: 0/2\r\n"
     ]
    },
    {
     "name": "stdout",
     "output_type": "stream",
     "text": [
      "Aligning each cluster\r\n",
      "Use of uninitialized value in require at (eval 27670) line 1.\r\n",
      "2023/04/04 13:21:28 Running command: protein_alignment_from_nucleotides  -v  --mafft pan_genome_sequences/Tsac_R0016.fa\r\n",
      "2023/04/04 13:21:28 Running command: protein_alignment_from_nucleotides  -v  --mafft pan_genome_sequences/Tsac_1230.fa\r\n",
      "2023/04/04 13:21:28 Running command: protein_alignment_from_nucleotides  -v  --mafft pan_genome_sequences/Tthe_1299.fa\r\n",
      "2023/04/04 13:21:28 Running command: protein_alignment_from_nucleotides  -v  --mafft pan_genome_sequences/Thexy_2406.fa\r\n",
      "2023/04/04 13:21:28 Running command: protein_alignment_from_nucleotides  -v  --mafft pan_genome_sequences/Tthe_0361.fa\r\n",
      "2023/04/04 13:21:28 Running command: protein_alignment_from_nucleotides  -v  --mafft pan_genome_sequences/Thethe_02590.fa\r\n",
      "2023/04/04 13:21:28 Running command: protein_alignment_from_nucleotides  -v  --mafft pan_genome_sequences/Thexy_2320.fa\r\n",
      "2023/04/04 13:21:28 Running command: protein_alignment_from_nucleotides  -v  --mafft pan_genome_sequences/Thexy_R0027.fa\r\n",
      "2023/04/04 13:21:28 Running command: protein_alignment_from_nucleotides  -v  --mafft pan_genome_sequences/Tsac_0744.fa\r\n",
      "2023/04/04 13:21:28 Running command: protein_alignment_from_nucleotides  -v  --mafft pan_genome_sequences/Thert_00434.fa\r\n",
      "2023/04/04 13:21:28 Running command: protein_alignment_from_nucleotides  -v  --mafft pan_genome_sequences/Tthe_0460.fa\r\n",
      "2023/04/04 13:21:28 Running command: protein_alignment_from_nucleotides  -v  --mafft pan_genome_sequences/Tthe_R0029.fa\r\n",
      "2023/04/04 13:21:28 Running command: protein_alignment_from_nucleotides  -v  --mafft pan_genome_sequences/Thethe_00287.fa\r\n",
      "2023/04/04 13:21:28 Running command: protein_alignment_from_nucleotides  -v  --mafft pan_genome_sequences/Thert_03032.fa\r\n",
      "2023/04/04 13:21:28 Running command: protein_alignment_from_nucleotides  -v  --mafft pan_genome_sequences/Tsac_2122.fa\r\n",
      "2023/04/04 13:21:28 Running command: protein_alignment_from_nucleotides  -v  --mafft pan_genome_sequences/Thert_00935.fa\r\n",
      "2023/04/04 13:21:28 Running command: protein_alignment_from_nucleotides  -v  --mafft pan_genome_sequences/Thert_02164.fa\r\n",
      "2023/04/04 13:21:28 Running command: protein_alignment_from_nucleotides  -v  --mafft pan_genome_sequences/Thethe_01321.fa\r\n",
      "2023/04/04 13:21:28 Running command: protein_alignment_from_nucleotides  -v  --mafft pan_genome_sequences/Thexy_2183.fa\r\n",
      "2023/04/04 13:21:28 Running command: protein_alignment_from_nucleotides  -v  --mafft pan_genome_sequences/Thexy_0899.fa\r\n",
      "2023/04/04 13:21:28 Running command: protein_alignment_from_nucleotides  -v  --mafft pan_genome_sequences/Thethe_02655.fa\r\n",
      "2023/04/04 13:21:28 Running command: protein_alignment_from_nucleotides  -v  --mafft pan_genome_sequences/Tthe_0617.fa\r\n",
      "2023/04/04 13:21:28 Running command: protein_alignment_from_nucleotides  -v  --mafft pan_genome_sequences/Thethe_01758.fa\r\n",
      "2023/04/04 13:21:28 Running command: protein_alignment_from_nucleotides  -v  --mafft pan_genome_sequences/Tthe_0468.fa\r\n",
      "2023/04/04 13:21:28 Running command: protein_alignment_from_nucleotides  -v  --mafft pan_genome_sequences/Tsac_1548.fa\r\n",
      "2023/04/04 13:21:28 Running command: protein_alignment_from_nucleotides  -v  --mafft pan_genome_sequences/Thethe_00392.fa\r\n",
      "2023/04/04 13:21:28 Running command: protein_alignment_from_nucleotides  -v  --mafft pan_genome_sequences/Thexy_2162.fa\r\n",
      "2023/04/04 13:21:28 Running command: protein_alignment_from_nucleotides  -v  --mafft pan_genome_sequences/Thethe_00661.fa\r\n",
      "2023/04/04 13:21:28 Running command: protein_alignment_from_nucleotides  -v  --mafft pan_genome_sequences/Tsac_1474.fa\r\n",
      "2023/04/04 13:21:28 Running command: protein_alignment_from_nucleotides  -v  --mafft pan_genome_sequences/Thert_02682.fa\r\n",
      "2023/04/04 13:21:28 Running command: protein_alignment_from_nucleotides  -v  --mafft pan_genome_sequences/Tsac_1758.fa\r\n",
      "2023/04/04 13:21:28 Running command: protein_alignment_from_nucleotides  -v  --mafft pan_genome_sequences/Thexy_R0075.fa\r\n",
      "2023/04/04 13:21:28 Running command: protein_alignment_from_nucleotides  -v  --mafft pan_genome_sequences/Thethe_00400.fa\r\n",
      "2023/04/04 13:21:28 Running command: protein_alignment_from_nucleotides  -v  --mafft pan_genome_sequences/Tthe_2118.fa\r\n",
      "2023/04/04 13:21:28 Running command: protein_alignment_from_nucleotides  -v  --mafft pan_genome_sequences/Tsac_2031.fa\r\n",
      "2023/04/04 13:21:28 Running command: protein_alignment_from_nucleotides  -v  --mafft pan_genome_sequences/Thethe_00838.fa\r\n",
      "2023/04/04 13:21:28 Running command: protein_alignment_from_nucleotides  -v  --mafft pan_genome_sequences/Thethe_00190.fa\r\n",
      "2023/04/04 13:21:28 Running command: protein_alignment_from_nucleotides  -v  --mafft pan_genome_sequences/Tsac_1754.fa\r\n",
      "2023/04/04 13:21:28 Running command: protein_alignment_from_nucleotides  -v  --mafft pan_genome_sequences/Tsac_2364.fa\r\n",
      "2023/04/04 13:21:28 Running command: protein_alignment_from_nucleotides  -v  --mafft pan_genome_sequences/Thethe_00114.fa\r\n",
      "2023/04/04 13:21:28 Running command: protein_alignment_from_nucleotides  -v  --mafft pan_genome_sequences/Tthe_0001.fa\r\n",
      "2023/04/04 13:21:28 Running command: protein_alignment_from_nucleotides  -v  --mafft pan_genome_sequences/Thert_03171.fa\r\n",
      "2023/04/04 13:21:28 Running command: protein_alignment_from_nucleotides  -v  --mafft pan_genome_sequences/Tthe_R0015.fa\r\n",
      "2023/04/04 13:21:28 Running command: protein_alignment_from_nucleotides  -v  --mafft pan_genome_sequences/Tthe_0459.fa\r\n",
      "2023/04/04 13:21:28 Running command: protein_alignment_from_nucleotides  -v  --mafft pan_genome_sequences/Thexy_2123.fa\r\n",
      "2023/04/04 13:21:28 Running command: protein_alignment_from_nucleotides  -v  --mafft pan_genome_sequences/Tsac_2457.fa\r\n",
      "2023/04/04 13:21:28 Running command: protein_alignment_from_nucleotides  -v  --mafft pan_genome_sequences/Thexy_0012.fa\r\n",
      "2023/04/04 13:21:28 Running command: protein_alignment_from_nucleotides  -v  --mafft pan_genome_sequences/Tsac_1003.fa\r\n",
      "2023/04/04 13:21:28 Running command: protein_alignment_from_nucleotides  -v  --mafft pan_genome_sequences/Thert_02928.fa\r\n",
      "2023/04/04 13:21:28 Running command: protein_alignment_from_nucleotides  -v  --mafft pan_genome_sequences/Tthe_0242.fa\r\n",
      "2023/04/04 13:21:28 Running command: protein_alignment_from_nucleotides  -v  --mafft pan_genome_sequences/Tthe_0089.fa\r\n",
      "2023/04/04 13:21:28 Running command: protein_alignment_from_nucleotides  -v  --mafft pan_genome_sequences/Tthe_0889.fa\r\n",
      "2023/04/04 13:21:28 Running command: protein_alignment_from_nucleotides  -v  --mafft pan_genome_sequences/Tthe_1472.fa\r\n",
      "2023/04/04 13:21:28 Running command: protein_alignment_from_nucleotides  -v  --mafft pan_genome_sequences/Tsac_0328.fa\r\n",
      "2023/04/04 13:21:28 Running command: protein_alignment_from_nucleotides  -v  --mafft pan_genome_sequences/Tsac_2355.fa\r\n",
      "2023/04/04 13:21:28 Running command: protein_alignment_from_nucleotides  -v  --mafft pan_genome_sequences/Tthe_R0031.fa\r\n",
      "2023/04/04 13:21:28 Running command: protein_alignment_from_nucleotides  -v  --mafft pan_genome_sequences/Thexy_1972.fa\r\n",
      "2023/04/04 13:21:28 Running command: protein_alignment_from_nucleotides  -v  --mafft pan_genome_sequences/Tthe_2094.fa\r\n",
      "2023/04/04 13:21:28 Running command: protein_alignment_from_nucleotides  -v  --mafft pan_genome_sequences/Thert_02445.fa\r\n",
      "2023/04/04 13:21:28 Running command: protein_alignment_from_nucleotides  -v  --mafft pan_genome_sequences/Tthe_1808.fa\r\n",
      "2023/04/04 13:21:28 Running command: protein_alignment_from_nucleotides  -v  --mafft pan_genome_sequences/Tthe_0400.fa\r\n",
      "2023/04/04 13:21:28 Running command: protein_alignment_from_nucleotides  -v  --mafft pan_genome_sequences/Thexy_0342.fa\r\n",
      "2023/04/04 13:21:28 Running command: protein_alignment_from_nucleotides  -v  --mafft pan_genome_sequences/Thert_03309.fa\r\n",
      "2023/04/04 13:21:28 Running command: protein_alignment_from_nucleotides  -v  --mafft pan_genome_sequences/Thexy_0363.fa\r\n",
      "2023/04/04 13:21:28 Running command: protein_alignment_from_nucleotides  -v  --mafft pan_genome_sequences/Tsac_1345.fa\r\n",
      "2023/04/04 13:21:28 Running command: protein_alignment_from_nucleotides  -v  --mafft pan_genome_sequences/Tsac_1196.fa\r\n",
      "2023/04/04 13:21:28 Running command: protein_alignment_from_nucleotides  -v  --mafft pan_genome_sequences/Thert_01911.fa\r\n",
      "2023/04/04 13:21:28 Running command: protein_alignment_from_nucleotides  -v  --mafft pan_genome_sequences/Tthe_0457.fa\r\n",
      "2023/04/04 13:21:28 Running command: protein_alignment_from_nucleotides  -v  --mafft pan_genome_sequences/Thethe_00650.fa\r\n",
      "2023/04/04 13:21:28 Running command: protein_alignment_from_nucleotides  -v  --mafft pan_genome_sequences/Thexy_0047.fa\r\n",
      "2023/04/04 13:21:28 Running command: protein_alignment_from_nucleotides  -v  --mafft pan_genome_sequences/Thexy_0834.fa\r\n",
      "2023/04/04 13:21:28 Running command: protein_alignment_from_nucleotides  -v  --mafft pan_genome_sequences/Tthe_0666.fa\r\n",
      "2023/04/04 13:21:28 Running command: protein_alignment_from_nucleotides  -v  --mafft pan_genome_sequences/Tsac_0956.fa\r\n",
      "2023/04/04 13:21:28 Running command: protein_alignment_from_nucleotides  -v  --mafft pan_genome_sequences/Thert_01840.fa\r\n",
      "2023/04/04 13:21:28 Running command: protein_alignment_from_nucleotides  -v  --mafft pan_genome_sequences/Thert_01392.fa\r\n",
      "2023/04/04 13:21:28 Running command: protein_alignment_from_nucleotides  -v  --mafft pan_genome_sequences/Thexy_0377.fa\r\n",
      "2023/04/04 13:21:28 Running command: protein_alignment_from_nucleotides  -v  --mafft pan_genome_sequences/Tthe_0971.fa\r\n",
      "2023/04/04 13:21:28 Running command: protein_alignment_from_nucleotides  -v  --mafft pan_genome_sequences/Thexy_0346.fa\r\n",
      "2023/04/04 13:21:28 Running command: protein_alignment_from_nucleotides  -v  --mafft pan_genome_sequences/Thethe_00530.fa\r\n",
      "2023/04/04 13:21:28 Running command: protein_alignment_from_nucleotides  -v  --mafft pan_genome_sequences/Thert_01046.fa\r\n",
      "2023/04/04 13:21:28 Running command: protein_alignment_from_nucleotides  -v  --mafft pan_genome_sequences/Thexy_1506.fa\r\n",
      "2023/04/04 13:21:28 Running command: protein_alignment_from_nucleotides  -v  --mafft pan_genome_sequences/Thexy_0369.fa\r\n",
      "2023/04/04 13:21:28 Running command: protein_alignment_from_nucleotides  -v  --mafft pan_genome_sequences/Thexy_0630.fa\r\n",
      "2023/04/04 13:21:28 Running command: protein_alignment_from_nucleotides  -v  --mafft pan_genome_sequences/Thexy_1302.fa\r\n",
      "2023/04/04 13:21:28 Running command: protein_alignment_from_nucleotides  -v  --mafft pan_genome_sequences/Tsac_2656.fa\r\n",
      "2023/04/04 13:21:28 Running command: protein_alignment_from_nucleotides  -v  --mafft pan_genome_sequences/Thert_01899.fa\r\n",
      "2023/04/04 13:21:28 Running command: protein_alignment_from_nucleotides  -v  --mafft pan_genome_sequences/Tthe_1611.fa\r\n",
      "2023/04/04 13:21:28 Running command: protein_alignment_from_nucleotides  -v  --mafft pan_genome_sequences/Thethe_02581.fa\r\n",
      "2023/04/04 13:21:28 Running command: protein_alignment_from_nucleotides  -v  --mafft pan_genome_sequences/Tsac_2069.fa\r\n",
      "2023/04/04 13:21:28 Running command: protein_alignment_from_nucleotides  -v  --mafft pan_genome_sequences/Thert_01928.fa\r\n",
      "2023/04/04 13:21:28 Running command: protein_alignment_from_nucleotides  -v  --mafft pan_genome_sequences/Thert_01907.fa\r\n",
      "2023/04/04 13:21:28 Running command: protein_alignment_from_nucleotides  -v  --mafft pan_genome_sequences/Tthe_2646.fa\r\n",
      "2023/04/04 13:21:28 Running command: protein_alignment_from_nucleotides  -v  --mafft pan_genome_sequences/Thexy_0557.fa\r\n",
      "2023/04/04 13:21:28 Running command: protein_alignment_from_nucleotides  -v  --mafft pan_genome_sequences/Thexy_0706.fa\r\n",
      "2023/04/04 13:21:28 Running command: protein_alignment_from_nucleotides  -v  --mafft pan_genome_sequences/Tsac_1244.fa\r\n",
      "2023/04/04 13:21:28 Running command: protein_alignment_from_nucleotides  -v  --mafft pan_genome_sequences/Thert_03318.fa\r\n",
      "2023/04/04 13:21:28 Running command: protein_alignment_from_nucleotides  -v  --mafft pan_genome_sequences/Tthe_1577.fa\r\n",
      "2023/04/04 13:21:28 Running command: protein_alignment_from_nucleotides  -v  --mafft pan_genome_sequences/Thert_00258.fa\r\n",
      "2023/04/04 13:21:28 Running command: protein_alignment_from_nucleotides  -v  --mafft pan_genome_sequences/Thethe_00357.fa\r\n",
      "2023/04/04 13:21:28 Running command: protein_alignment_from_nucleotides  -v  --mafft pan_genome_sequences/Tsac_2050.fa\r\n",
      "2023/04/04 13:21:28 Running command: protein_alignment_from_nucleotides  -v  --mafft pan_genome_sequences/Thert_00117.fa\r\n",
      "2023/04/04 13:21:28 Running command: protein_alignment_from_nucleotides  -v  --mafft pan_genome_sequences/Tthe_2203.fa\r\n",
      "2023/04/04 13:21:28 Running command: protein_alignment_from_nucleotides  -v  --mafft pan_genome_sequences/Thert_02941.fa\r\n",
      "2023/04/04 13:21:28 Running command: protein_alignment_from_nucleotides  -v  --mafft pan_genome_sequences/Thexy_1846.fa\r\n",
      "2023/04/04 13:21:28 Running command: protein_alignment_from_nucleotides  -v  --mafft pan_genome_sequences/Thexy_2190.fa\r\n",
      "2023/04/04 13:21:28 Running command: protein_alignment_from_nucleotides  -v  --mafft pan_genome_sequences/Tsac_1434.fa\r\n",
      "2023/04/04 13:21:28 Running command: protein_alignment_from_nucleotides  -v  --mafft pan_genome_sequences/Tsac_0436.fa\r\n",
      "2023/04/04 13:21:28 Running command: protein_alignment_from_nucleotides  -v  --mafft pan_genome_sequences/Tsac_1824.fa\r\n",
      "2023/04/04 13:21:28 Running command: protein_alignment_from_nucleotides  -v  --mafft pan_genome_sequences/Thethe_00379.fa\r\n",
      "2023/04/04 13:21:28 Running command: protein_alignment_from_nucleotides  -v  --mafft pan_genome_sequences/Tthe_0429.fa\r\n",
      "2023/04/04 13:21:28 Running command: protein_alignment_from_nucleotides  -v  --mafft pan_genome_sequences/Thethe_02147.fa\r\n",
      "2023/04/04 13:21:28 Running command: protein_alignment_from_nucleotides  -v  --mafft pan_genome_sequences/Thexy_1582.fa\r\n",
      "2023/04/04 13:21:28 Running command: protein_alignment_from_nucleotides  -v  --mafft pan_genome_sequences/Thert_01593.fa\r\n",
      "2023/04/04 13:21:28 Running command: protein_alignment_from_nucleotides  -v  --mafft pan_genome_sequences/Thethe_02547.fa\r\n",
      "2023/04/04 13:21:28 Running command: protein_alignment_from_nucleotides  -v  --mafft pan_genome_sequences/Thexy_1070.fa\r\n",
      "2023/04/04 13:21:28 Running command: protein_alignment_from_nucleotides  -v  --mafft pan_genome_sequences/Tsac_0298.fa\r\n",
      "2023/04/04 13:21:28 Running command: protein_alignment_from_nucleotides  -v  --mafft pan_genome_sequences/Thexy_2292.fa\r\n",
      "2023/04/04 13:21:28 Running command: protein_alignment_from_nucleotides  -v  --mafft pan_genome_sequences/Thethe_01993.fa\r\n",
      "2023/04/04 13:21:28 Running command: protein_alignment_from_nucleotides  -v  --mafft pan_genome_sequences/Tsac_0028.fa\r\n",
      "2023/04/04 13:21:28 Running command: protein_alignment_from_nucleotides  -v  --mafft pan_genome_sequences/Tthe_1789.fa\r\n",
      "2023/04/04 13:21:28 Running command: protein_alignment_from_nucleotides  -v  --mafft pan_genome_sequences/Thert_00032.fa\r\n",
      "2023/04/04 13:21:28 Running command: protein_alignment_from_nucleotides  -v  --mafft pan_genome_sequences/Tsac_R0030.fa\r\n",
      "2023/04/04 13:21:28 Running command: protein_alignment_from_nucleotides  -v  --mafft pan_genome_sequences/Thert_02869.fa\r\n",
      "2023/04/04 13:21:28 Running command: protein_alignment_from_nucleotides  -v  --mafft pan_genome_sequences/Thethe_01952.fa\r\n",
      "2023/04/04 13:21:28 Running command: protein_alignment_from_nucleotides  -v  --mafft pan_genome_sequences/Tthe_2083.fa\r\n",
      "2023/04/04 13:21:28 Running command: protein_alignment_from_nucleotides  -v  --mafft pan_genome_sequences/Tsac_0277.fa\r\n",
      "2023/04/04 13:21:28 Running command: protein_alignment_from_nucleotides  -v  --mafft pan_genome_sequences/Thexy_2112.fa\r\n",
      "2023/04/04 13:21:28 Running command: protein_alignment_from_nucleotides  -v  --mafft pan_genome_sequences/Thethe_00079.fa\r\n",
      "2023/04/04 13:21:28 Running command: protein_alignment_from_nucleotides  -v  --mafft pan_genome_sequences/Thert_03152.fa\r\n",
      "2023/04/04 13:21:28 Running command: protein_alignment_from_nucleotides  -v  --mafft pan_genome_sequences/Tthe_1120.fa\r\n",
      "2023/04/04 13:21:28 Running command: protein_alignment_from_nucleotides  -v  --mafft pan_genome_sequences/Thexy_R0019.fa\r\n",
      "2023/04/04 13:21:28 Running command: protein_alignment_from_nucleotides  -v  --mafft pan_genome_sequences/Thert_03416.fa\r\n",
      "2023/04/04 13:21:28 Running command: protein_alignment_from_nucleotides  -v  --mafft pan_genome_sequences/Thethe_02560.fa\r\n",
      "2023/04/04 13:21:28 Running command: protein_alignment_from_nucleotides  -v  --mafft pan_genome_sequences/Thethe_02735.fa\r\n",
      "2023/04/04 13:21:28 Running command: protein_alignment_from_nucleotides  -v  --mafft pan_genome_sequences/Thexy_2336.fa\r\n",
      "2023/04/04 13:21:28 Running command: protein_alignment_from_nucleotides  -v  --mafft pan_genome_sequences/Thethe_00375.fa\r\n",
      "2023/04/04 13:21:28 Running command: protein_alignment_from_nucleotides  -v  --mafft pan_genome_sequences/Thethe_01309.fa\r\n",
      "2023/04/04 13:21:28 Running command: protein_alignment_from_nucleotides  -v  --mafft pan_genome_sequences/Tsac_1782.fa\r\n",
      "2023/04/04 13:21:28 Running command: protein_alignment_from_nucleotides  -v  --mafft pan_genome_sequences/Thexy_1338.fa\r\n",
      "2023/04/04 13:21:28 Running command: protein_alignment_from_nucleotides  -v  --mafft pan_genome_sequences/Tthe_2306.fa\r\n",
      "2023/04/04 13:21:28 Running command: protein_alignment_from_nucleotides  -v  --mafft pan_genome_sequences/Tthe_0423.fa\r\n",
      "2023/04/04 13:21:28 Running command: protein_alignment_from_nucleotides  -v  --mafft pan_genome_sequences/Thexy_0008.fa\r\n",
      "2023/04/04 13:21:28 Running command: protein_alignment_from_nucleotides  -v  --mafft pan_genome_sequences/Thexy_0818.fa\r\n",
      "2023/04/04 13:21:28 Running command: protein_alignment_from_nucleotides  -v  --mafft pan_genome_sequences/Thert_02760.fa\r\n",
      "2023/04/04 13:21:28 Running command: protein_alignment_from_nucleotides  -v  --mafft pan_genome_sequences/Thethe_00648.fa\r\n",
      "2023/04/04 13:21:28 Running command: protein_alignment_from_nucleotides  -v  --mafft pan_genome_sequences/Thexy_0300.fa\r\n",
      "2023/04/04 13:21:28 Running command: protein_alignment_from_nucleotides  -v  --mafft pan_genome_sequences/Tsac_1438.fa\r\n",
      "2023/04/04 13:21:28 Running command: protein_alignment_from_nucleotides  -v  --mafft pan_genome_sequences/Tthe_2429.fa\r\n",
      "2023/04/04 13:21:28 Running command: protein_alignment_from_nucleotides  -v  --mafft pan_genome_sequences/Tthe_1424.fa\r\n",
      "2023/04/04 13:21:28 Running command: protein_alignment_from_nucleotides  -v  --mafft pan_genome_sequences/Thert_02226.fa\r\n",
      "2023/04/04 13:21:28 Running command: protein_alignment_from_nucleotides  -v  --mafft pan_genome_sequences/Thert_01349.fa\r\n",
      "2023/04/04 13:21:28 Running command: protein_alignment_from_nucleotides  -v  --mafft pan_genome_sequences/Thethe_01625.fa\r\n",
      "2023/04/04 13:21:28 Running command: protein_alignment_from_nucleotides  -v  --mafft pan_genome_sequences/Tthe_R0050.fa\r\n",
      "2023/04/04 13:21:28 Running command: protein_alignment_from_nucleotides  -v  --mafft pan_genome_sequences/Tthe_0649.fa\r\n",
      "2023/04/04 13:21:28 Running command: protein_alignment_from_nucleotides  -v  --mafft pan_genome_sequences/Thexy_0728.fa\r\n",
      "2023/04/04 13:21:28 Running command: protein_alignment_from_nucleotides  -v  --mafft pan_genome_sequences/Tthe_2082.fa\r\n",
      "2023/04/04 13:21:28 Running command: protein_alignment_from_nucleotides  -v  --mafft pan_genome_sequences/Thexy_0986.fa\r\n",
      "2023/04/04 13:21:28 Running command: protein_alignment_from_nucleotides  -v  --mafft pan_genome_sequences/Thexy_2203.fa\r\n",
      "2023/04/04 13:21:28 Running command: protein_alignment_from_nucleotides  -v  --mafft pan_genome_sequences/Tthe_0771.fa\r\n",
      "2023/04/04 13:21:28 Running command: protein_alignment_from_nucleotides  -v  --mafft pan_genome_sequences/Tsac_0029.fa\r\n",
      "2023/04/04 13:21:28 Running command: protein_alignment_from_nucleotides  -v  --mafft pan_genome_sequences/Thexy_0729.fa\r\n",
      "2023/04/04 13:21:28 Running command: protein_alignment_from_nucleotides  -v  --mafft pan_genome_sequences/Thexy_R0018.fa\r\n",
      "2023/04/04 13:21:28 Running command: protein_alignment_from_nucleotides  -v  --mafft pan_genome_sequences/Thert_02318.fa\r\n",
      "2023/04/04 13:21:28 Running command: protein_alignment_from_nucleotides  -v  --mafft pan_genome_sequences/Tthe_1403.fa\r\n",
      "2023/04/04 13:21:28 Running command: protein_alignment_from_nucleotides  -v  --mafft pan_genome_sequences/Thethe_02494.fa\r\n",
      "2023/04/04 13:21:28 Running command: protein_alignment_from_nucleotides  -v  --mafft pan_genome_sequences/Thert_01343.fa\r\n",
      "2023/04/04 13:21:28 Running command: protein_alignment_from_nucleotides  -v  --mafft pan_genome_sequences/Tthe_1108.fa\r\n",
      "2023/04/04 13:21:28 Running command: protein_alignment_from_nucleotides  -v  --mafft pan_genome_sequences/Thert_01920.fa\r\n",
      "2023/04/04 13:21:28 Running command: protein_alignment_from_nucleotides  -v  --mafft pan_genome_sequences/Tthe_R0070.fa\r\n",
      "2023/04/04 13:21:28 Running command: protein_alignment_from_nucleotides  -v  --mafft pan_genome_sequences/Thexy_0532.fa\r\n",
      "2023/04/04 13:21:28 Running command: protein_alignment_from_nucleotides  -v  --mafft pan_genome_sequences/Tthe_0419.fa\r\n",
      "2023/04/04 13:21:28 Running command: protein_alignment_from_nucleotides  -v  --mafft pan_genome_sequences/Tthe_0997.fa\r\n",
      "2023/04/04 13:21:28 Running command: protein_alignment_from_nucleotides  -v  --mafft pan_genome_sequences/Thethe_01349.fa\r\n",
      "2023/04/04 13:21:28 Running command: protein_alignment_from_nucleotides  -v  --mafft pan_genome_sequences/Thethe_01261.fa\r\n",
      "2023/04/04 13:21:28 Running command: protein_alignment_from_nucleotides  -v  --mafft pan_genome_sequences/Tthe_1805.fa\r\n",
      "2023/04/04 13:21:28 Running command: protein_alignment_from_nucleotides  -v  --mafft pan_genome_sequences/Tthe_2015.fa\r\n",
      "2023/04/04 13:21:28 Running command: protein_alignment_from_nucleotides  -v  --mafft pan_genome_sequences/Thexy_1433.fa\r\n",
      "2023/04/04 13:21:28 Running command: protein_alignment_from_nucleotides  -v  --mafft pan_genome_sequences/Tsac_1010.fa\r\n",
      "2023/04/04 13:21:28 Running command: protein_alignment_from_nucleotides  -v  --mafft pan_genome_sequences/Tsac_1014.fa\r\n",
      "2023/04/04 13:21:28 Running command: protein_alignment_from_nucleotides  -v  --mafft pan_genome_sequences/Tsac_0982.fa\r\n",
      "2023/04/04 13:21:28 Running command: protein_alignment_from_nucleotides  -v  --mafft pan_genome_sequences/Thexy_R0065.fa\r\n",
      "2023/04/04 13:21:28 Running command: protein_alignment_from_nucleotides  -v  --mafft pan_genome_sequences/Thethe_02643.fa\r\n",
      "2023/04/04 13:21:28 Running command: protein_alignment_from_nucleotides  -v  --mafft pan_genome_sequences/Thexy_0358.fa\r\n",
      "2023/04/04 13:21:28 Running command: protein_alignment_from_nucleotides  -v  --mafft pan_genome_sequences/Tsac_1747.fa\r\n",
      "2023/04/04 13:21:28 Running command: protein_alignment_from_nucleotides  -v  --mafft pan_genome_sequences/Tthe_0705.fa\r\n",
      "2023/04/04 13:21:28 Running command: protein_alignment_from_nucleotides  -v  --mafft pan_genome_sequences/Thert_01451.fa\r\n",
      "2023/04/04 13:21:28 Running command: protein_alignment_from_nucleotides  -v  --mafft pan_genome_sequences/Tsac_0734.fa\r\n",
      "2023/04/04 13:21:28 Running command: protein_alignment_from_nucleotides  -v  --mafft pan_genome_sequences/Tsac_0936.fa\r\n",
      "2023/04/04 13:21:28 Running command: protein_alignment_from_nucleotides  -v  --mafft pan_genome_sequences/Thexy_R0022.fa\r\n",
      "2023/04/04 13:21:28 Running command: protein_alignment_from_nucleotides  -v  --mafft pan_genome_sequences/Thethe_00393.fa\r\n",
      "2023/04/04 13:21:28 Running command: protein_alignment_from_nucleotides  -v  --mafft pan_genome_sequences/Tsac_0166.fa\r\n",
      "2023/04/04 13:21:28 Running command: protein_alignment_from_nucleotides  -v  --mafft pan_genome_sequences/Thethe_02628.fa\r\n",
      "2023/04/04 13:21:28 Running command: protein_alignment_from_nucleotides  -v  --mafft pan_genome_sequences/Thethe_01992.fa\r\n",
      "2023/04/04 13:21:28 Running command: protein_alignment_from_nucleotides  -v  --mafft pan_genome_sequences/Thert_r016.fa\r\n",
      "2023/04/04 13:21:28 Running command: protein_alignment_from_nucleotides  -v  --mafft pan_genome_sequences/Tthe_0437.fa\r\n",
      "2023/04/04 13:21:28 Running command: protein_alignment_from_nucleotides  -v  --mafft pan_genome_sequences/Tthe_1293.fa\r\n",
      "2023/04/04 13:21:28 Running command: protein_alignment_from_nucleotides  -v  --mafft pan_genome_sequences/Tsac_R0055.fa\r\n",
      "2023/04/04 13:21:28 Running command: protein_alignment_from_nucleotides  -v  --mafft pan_genome_sequences/Tthe_0083.fa\r\n",
      "2023/04/04 13:21:28 Running command: protein_alignment_from_nucleotides  -v  --mafft pan_genome_sequences/Tsac_1762.fa\r\n",
      "2023/04/04 13:21:28 Running command: protein_alignment_from_nucleotides  -v  --mafft pan_genome_sequences/Thethe_02048.fa\r\n",
      "2023/04/04 13:21:28 Running command: protein_alignment_from_nucleotides  -v  --mafft pan_genome_sequences/Tthe_1353.fa\r\n",
      "2023/04/04 13:21:28 Running command: protein_alignment_from_nucleotides  -v  --mafft pan_genome_sequences/Tthe_0438.fa\r\n",
      "2023/04/04 13:21:28 Running command: protein_alignment_from_nucleotides  -v  --mafft pan_genome_sequences/Thethe_01369.fa\r\n",
      "2023/04/04 13:21:28 Running command: protein_alignment_from_nucleotides  -v  --mafft pan_genome_sequences/Tsac_1287.fa\r\n",
      "2023/04/04 13:21:28 Running command: protein_alignment_from_nucleotides  -v  --mafft pan_genome_sequences/Tthe_0882.fa\r\n",
      "2023/04/04 13:21:28 Running command: protein_alignment_from_nucleotides  -v  --mafft pan_genome_sequences/Tthe_1221.fa\r\n",
      "2023/04/04 13:21:28 Running command: protein_alignment_from_nucleotides  -v  --mafft pan_genome_sequences/Tthe_1423.fa\r\n",
      "2023/04/04 13:21:28 Running command: protein_alignment_from_nucleotides  -v  --mafft pan_genome_sequences/Thethe_00481.fa\r\n",
      "2023/04/04 13:21:28 Running command: protein_alignment_from_nucleotides  -v  --mafft pan_genome_sequences/Thexy_1581.fa\r\n",
      "2023/04/04 13:21:28 Running command: protein_alignment_from_nucleotides  -v  --mafft pan_genome_sequences/Thexy_0183.fa\r\n",
      "2023/04/04 13:21:28 Running command: protein_alignment_from_nucleotides  -v  --mafft pan_genome_sequences/Tsac_2022.fa\r\n",
      "2023/04/04 13:21:28 Running command: protein_alignment_from_nucleotides  -v  --mafft pan_genome_sequences/Thexy_0118.fa\r\n",
      "2023/04/04 13:21:28 Running command: protein_alignment_from_nucleotides  -v  --mafft pan_genome_sequences/Thexy_2317.fa\r\n",
      "2023/04/04 13:21:28 Running command: protein_alignment_from_nucleotides  -v  --mafft pan_genome_sequences/Tsac_0012.fa\r\n",
      "2023/04/04 13:21:28 Running command: protein_alignment_from_nucleotides  -v  --mafft pan_genome_sequences/Thexy_R0053.fa\r\n",
      "2023/04/04 13:21:28 Running command: protein_alignment_from_nucleotides  -v  --mafft pan_genome_sequences/Tsac_R0051.fa\r\n",
      "2023/04/04 13:21:28 Running command: protein_alignment_from_nucleotides  -v  --mafft pan_genome_sequences/Tthe_2121.fa\r\n",
      "2023/04/04 13:21:28 Running command: protein_alignment_from_nucleotides  -v  --mafft pan_genome_sequences/Tthe_2236.fa\r\n",
      "2023/04/04 13:21:28 Running command: protein_alignment_from_nucleotides  -v  --mafft pan_genome_sequences/Thethe_02173.fa\r\n",
      "2023/04/04 13:21:28 Running command: protein_alignment_from_nucleotides  -v  --mafft pan_genome_sequences/Tsac_0198.fa\r\n",
      "2023/04/04 13:21:28 Running command: protein_alignment_from_nucleotides  -v  --mafft pan_genome_sequences/Thert_00668.fa\r\n",
      "2023/04/04 13:21:28 Running command: protein_alignment_from_nucleotides  -v  --mafft pan_genome_sequences/Tsac_1323.fa\r\n",
      "2023/04/04 13:21:28 Running command: protein_alignment_from_nucleotides  -v  --mafft pan_genome_sequences/Tthe_1473.fa\r\n",
      "2023/04/04 13:21:28 Running command: protein_alignment_from_nucleotides  -v  --mafft pan_genome_sequences/Thexy_0324.fa\r\n",
      "2023/04/04 13:21:28 Running command: protein_alignment_from_nucleotides  -v  --mafft pan_genome_sequences/Tthe_0743.fa\r\n",
      "2023/04/04 13:21:28 Running command: protein_alignment_from_nucleotides  -v  --mafft pan_genome_sequences/Thethe_01260.fa\r\n",
      "2023/04/04 13:21:28 Running command: protein_alignment_from_nucleotides  -v  --mafft pan_genome_sequences/Thert_03481.fa\r\n",
      "2023/04/04 13:21:28 Running command: protein_alignment_from_nucleotides  -v  --mafft pan_genome_sequences/Tthe_1267.fa\r\n",
      "2023/04/04 13:21:28 Running command: protein_alignment_from_nucleotides  -v  --mafft pan_genome_sequences/Tthe_2175.fa\r\n",
      "2023/04/04 13:21:28 Running command: protein_alignment_from_nucleotides  -v  --mafft pan_genome_sequences/Tsac_2038.fa\r\n",
      "2023/04/04 13:21:28 Running command: protein_alignment_from_nucleotides  -v  --mafft pan_genome_sequences/Thexy_0360.fa\r\n",
      "2023/04/04 13:21:28 Running command: protein_alignment_from_nucleotides  -v  --mafft pan_genome_sequences/Tthe_1767.fa\r\n",
      "2023/04/04 13:21:28 Running command: protein_alignment_from_nucleotides  -v  --mafft pan_genome_sequences/Tsac_0736.fa\r\n",
      "2023/04/04 13:21:28 Running command: protein_alignment_from_nucleotides  -v  --mafft pan_genome_sequences/Thexy_0157.fa\r\n",
      "2023/04/04 13:21:28 Running command: protein_alignment_from_nucleotides  -v  --mafft pan_genome_sequences/Thethe_00480.fa\r\n",
      "2023/04/04 13:21:28 Running command: protein_alignment_from_nucleotides  -v  --mafft pan_genome_sequences/Thethe_00065.fa\r\n",
      "2023/04/04 13:21:28 Running command: protein_alignment_from_nucleotides  -v  --mafft pan_genome_sequences/Thert_02763.fa\r\n",
      "2023/04/04 13:21:28 Running command: protein_alignment_from_nucleotides  -v  --mafft pan_genome_sequences/Tsac_1778.fa\r\n",
      "2023/04/04 13:21:28 Running command: protein_alignment_from_nucleotides  -v  --mafft pan_genome_sequences/Tthe_0349.fa\r\n",
      "2023/04/04 13:21:28 Running command: protein_alignment_from_nucleotides  -v  --mafft pan_genome_sequences/Thethe_02040.fa\r\n",
      "2023/04/04 13:21:28 Running command: protein_alignment_from_nucleotides  -v  --mafft pan_genome_sequences/Thert_r013.fa\r\n",
      "2023/04/04 13:21:28 Running command: protein_alignment_from_nucleotides  -v  --mafft pan_genome_sequences/Tsac_0731.fa\r\n",
      "2023/04/04 13:21:28 Running command: protein_alignment_from_nucleotides  -v  --mafft pan_genome_sequences/Tsac_0752.fa\r\n",
      "2023/04/04 13:21:28 Running command: protein_alignment_from_nucleotides  -v  --mafft pan_genome_sequences/Tthe_0027.fa\r\n",
      "2023/04/04 13:21:28 Running command: protein_alignment_from_nucleotides  -v  --mafft pan_genome_sequences/Tthe_1803.fa\r\n",
      "2023/04/04 13:21:28 Running command: protein_alignment_from_nucleotides  -v  --mafft pan_genome_sequences/Tthe_1186.fa\r\n",
      "2023/04/04 13:21:28 Running command: protein_alignment_from_nucleotides  -v  --mafft pan_genome_sequences/Thert_01353.fa\r\n",
      "2023/04/04 13:21:28 Running command: protein_alignment_from_nucleotides  -v  --mafft pan_genome_sequences/Thert_00909.fa\r\n",
      "2023/04/04 13:21:28 Running command: protein_alignment_from_nucleotides  -v  --mafft pan_genome_sequences/Thert_01674.fa\r\n",
      "2023/04/04 13:21:28 Running command: protein_alignment_from_nucleotides  -v  --mafft pan_genome_sequences/Thert_02176.fa\r\n",
      "2023/04/04 13:21:28 Running command: protein_alignment_from_nucleotides  -v  --mafft pan_genome_sequences/Thert_00424.fa\r\n",
      "2023/04/04 13:21:28 Running command: protein_alignment_from_nucleotides  -v  --mafft pan_genome_sequences/Tthe_2305.fa\r\n",
      "2023/04/04 13:21:28 Running command: protein_alignment_from_nucleotides  -v  --mafft pan_genome_sequences/Thethe_01498.fa\r\n",
      "2023/04/04 13:21:28 Running command: protein_alignment_from_nucleotides  -v  --mafft pan_genome_sequences/Thert_r037.fa\r\n",
      "2023/04/04 13:21:28 Running command: protein_alignment_from_nucleotides  -v  --mafft pan_genome_sequences/Thexy_0988.fa\r\n",
      "2023/04/04 13:21:28 Running command: protein_alignment_from_nucleotides  -v  --mafft pan_genome_sequences/gluF.fa\r\n",
      "2023/04/04 13:21:28 Running command: protein_alignment_from_nucleotides  -v  --mafft pan_genome_sequences/Tthe_0427.fa\r\n",
      "2023/04/04 13:21:28 Running command: protein_alignment_from_nucleotides  -v  --mafft pan_genome_sequences/Thert_01501.fa\r\n",
      "2023/04/04 13:21:28 Running command: protein_alignment_from_nucleotides  -v  --mafft pan_genome_sequences/Thethe_01286.fa\r\n",
      "2023/04/04 13:21:28 Running command: protein_alignment_from_nucleotides  -v  --mafft pan_genome_sequences/Tsac_2632.fa\r\n",
      "2023/04/04 13:21:28 Running command: protein_alignment_from_nucleotides  -v  --mafft pan_genome_sequences/Thexy_1571.fa\r\n",
      "2023/04/04 13:21:28 Running command: protein_alignment_from_nucleotides  -v  --mafft pan_genome_sequences/Tsac_1527.fa\r\n",
      "2023/04/04 13:21:28 Running command: protein_alignment_from_nucleotides  -v  --mafft pan_genome_sequences/Thexy_2295.fa\r\n",
      "2023/04/04 13:21:28 Running command: protein_alignment_from_nucleotides  -v  --mafft pan_genome_sequences/Thethe_01329.fa\r\n",
      "2023/04/04 13:21:28 Running command: protein_alignment_from_nucleotides  -v  --mafft pan_genome_sequences/Tsac_0954.fa\r\n",
      "2023/04/04 13:21:28 Running command: protein_alignment_from_nucleotides  -v  --mafft pan_genome_sequences/Thethe_02165.fa\r\n",
      "2023/04/04 13:21:28 Running command: protein_alignment_from_nucleotides  -v  --mafft pan_genome_sequences/Thert_02670.fa\r\n",
      "2023/04/04 13:21:28 Running command: protein_alignment_from_nucleotides  -v  --mafft pan_genome_sequences/Thert_00605.fa\r\n",
      "2023/04/04 13:21:28 Running command: protein_alignment_from_nucleotides  -v  --mafft pan_genome_sequences/Tsac_1794.fa\r\n",
      "2023/04/04 13:21:28 Running command: protein_alignment_from_nucleotides  -v  --mafft pan_genome_sequences/Thexy_0516.fa\r\n",
      "2023/04/04 13:21:28 Running command: protein_alignment_from_nucleotides  -v  --mafft pan_genome_sequences/Tthe_1757.fa\r\n",
      "2023/04/04 13:21:28 Running command: protein_alignment_from_nucleotides  -v  --mafft pan_genome_sequences/Thexy_1656.fa\r\n",
      "2023/04/04 13:21:28 Running command: protein_alignment_from_nucleotides  -v  --mafft pan_genome_sequences/Thethe_01474.fa\r\n",
      "2023/04/04 13:21:28 Running command: protein_alignment_from_nucleotides  -v  --mafft pan_genome_sequences/Tthe_0970.fa\r\n",
      "2023/04/04 13:21:28 Running command: protein_alignment_from_nucleotides  -v  --mafft pan_genome_sequences/Tsac_2116.fa\r\n",
      "2023/04/04 13:21:28 Running command: protein_alignment_from_nucleotides  -v  --mafft pan_genome_sequences/Thert_02265.fa\r\n",
      "2023/04/04 13:21:28 Running command: protein_alignment_from_nucleotides  -v  --mafft pan_genome_sequences/Thert_01340.fa\r\n",
      "2023/04/04 13:21:28 Running command: protein_alignment_from_nucleotides  -v  --mafft pan_genome_sequences/Thethe_01347.fa\r\n",
      "2023/04/04 13:21:28 Running command: protein_alignment_from_nucleotides  -v  --mafft pan_genome_sequences/Thexy_2269.fa\r\n",
      "2023/04/04 13:21:28 Running command: protein_alignment_from_nucleotides  -v  --mafft pan_genome_sequences/Thexy_1502.fa\r\n",
      "2023/04/04 13:21:28 Running command: protein_alignment_from_nucleotides  -v  --mafft pan_genome_sequences/Tsac_R0049.fa\r\n",
      "2023/04/04 13:21:28 Running command: protein_alignment_from_nucleotides  -v  --mafft pan_genome_sequences/Thexy_0348.fa\r\n",
      "2023/04/04 13:21:28 Running command: protein_alignment_from_nucleotides  -v  --mafft pan_genome_sequences/Thethe_00829.fa\r\n",
      "2023/04/04 13:21:28 Running command: protein_alignment_from_nucleotides  -v  --mafft pan_genome_sequences/Tsac_2062.fa\r\n",
      "2023/04/04 13:21:28 Running command: protein_alignment_from_nucleotides  -v  --mafft pan_genome_sequences/Thexy_1943.fa\r\n",
      "2023/04/04 13:21:28 Running command: protein_alignment_from_nucleotides  -v  --mafft pan_genome_sequences/Tthe_0646.fa\r\n",
      "2023/04/04 13:21:28 Running command: protein_alignment_from_nucleotides  -v  --mafft pan_genome_sequences/Tsac_1866.fa\r\n",
      "2023/04/04 13:21:28 Running command: protein_alignment_from_nucleotides  -v  --mafft pan_genome_sequences/Thethe_02151.fa\r\n",
      "2023/04/04 13:21:28 Running command: protein_alignment_from_nucleotides  -v  --mafft pan_genome_sequences/Thexy_0161.fa\r\n",
      "2023/04/04 13:21:28 Running command: protein_alignment_from_nucleotides  -v  --mafft pan_genome_sequences/Tthe_2586.fa\r\n",
      "2023/04/04 13:21:28 Running command: protein_alignment_from_nucleotides  -v  --mafft pan_genome_sequences/Thexy_0803.fa\r\n",
      "2023/04/04 13:21:28 Running command: protein_alignment_from_nucleotides  -v  --mafft pan_genome_sequences/Thert_01887.fa\r\n",
      "2023/04/04 13:21:28 Running command: protein_alignment_from_nucleotides  -v  --mafft pan_genome_sequences/Thert_00039.fa\r\n",
      "2023/04/04 13:21:28 Running command: protein_alignment_from_nucleotides  -v  --mafft pan_genome_sequences/Thexy_0707.fa\r\n",
      "2023/04/04 13:21:28 Running command: protein_alignment_from_nucleotides  -v  --mafft pan_genome_sequences/Thert_02758.fa\r\n",
      "2023/04/04 13:21:28 Running command: protein_alignment_from_nucleotides  -v  --mafft pan_genome_sequences/Thethe_01282.fa\r\n",
      "2023/04/04 13:21:28 Running command: protein_alignment_from_nucleotides  -v  --mafft pan_genome_sequences/Thexy_0317.fa\r\n",
      "2023/04/04 13:21:28 Running command: protein_alignment_from_nucleotides  -v  --mafft pan_genome_sequences/Thethe_00328.fa\r\n",
      "2023/04/04 13:21:28 Running command: protein_alignment_from_nucleotides  -v  --mafft pan_genome_sequences/Tthe_0770.fa\r\n",
      "2023/04/04 13:21:28 Running command: protein_alignment_from_nucleotides  -v  --mafft pan_genome_sequences/Thethe_01232.fa\r\n",
      "2023/04/04 13:21:28 Running command: protein_alignment_from_nucleotides  -v  --mafft pan_genome_sequences/Tthe_0647.fa\r\n",
      "2023/04/04 13:21:28 Running command: protein_alignment_from_nucleotides  -v  --mafft pan_genome_sequences/Thethe_00390.fa\r\n",
      "2023/04/04 13:21:28 Running command: protein_alignment_from_nucleotides  -v  --mafft pan_genome_sequences/Tthe_2057.fa\r\n",
      "2023/04/04 13:21:28 Running command: protein_alignment_from_nucleotides  -v  --mafft pan_genome_sequences/Thexy_2200.fa\r\n",
      "2023/04/04 13:21:28 Running command: protein_alignment_from_nucleotides  -v  --mafft pan_genome_sequences/Tsac_1425.fa\r\n",
      "2023/04/04 13:21:28 Running command: protein_alignment_from_nucleotides  -v  --mafft pan_genome_sequences/Tsac_1687.fa\r\n",
      "2023/04/04 13:21:28 Running command: protein_alignment_from_nucleotides  -v  --mafft pan_genome_sequences/Tthe_1422.fa\r\n",
      "2023/04/04 13:21:28 Running command: protein_alignment_from_nucleotides  -v  --mafft pan_genome_sequences/Tthe_0260.fa\r\n",
      "2023/04/04 13:21:28 Running command: protein_alignment_from_nucleotides  -v  --mafft pan_genome_sequences/Tthe_1876.fa\r\n",
      "2023/04/04 13:21:28 Running command: protein_alignment_from_nucleotides  -v  --mafft pan_genome_sequences/Thethe_00402.fa\r\n",
      "2023/04/04 13:21:28 Running command: protein_alignment_from_nucleotides  -v  --mafft pan_genome_sequences/Thethe_00948.fa\r\n",
      "2023/04/04 13:21:28 Running command: protein_alignment_from_nucleotides  -v  --mafft pan_genome_sequences/Thert_01231.fa\r\n",
      "2023/04/04 13:21:28 Running command: protein_alignment_from_nucleotides  -v  --mafft pan_genome_sequences/Thert_01889.fa\r\n",
      "2023/04/04 13:21:28 Running command: protein_alignment_from_nucleotides  -v  --mafft pan_genome_sequences/Thexy_0541.fa\r\n"
     ]
    },
    {
     "name": "stdout",
     "output_type": "stream",
     "text": [
      "Academic tradition requires you to cite works you base your article on.\r\n",
      "If you use programs that use GNU Parallel to process data for an article in a\r\n",
      "scientific publication, please cite:\r\n",
      "\r\n",
      "  Tange, O. (2023, January 22). GNU Parallel 20230122 ('Bolsonaristas').\r\n",
      "  Zenodo. https://doi.org/10.5281/zenodo.7558957\r\n",
      "\r\n",
      "This helps funding further development; AND IT WON'T COST YOU A CENT.\r\n",
      "If you pay 10000 EUR you should feel free to use GNU Parallel without citing.\r\n",
      "\r\n",
      "More about funding GNU Parallel and the citation notice:\r\n",
      "https://www.gnu.org/software/parallel/parallel_design.html#citation-notice\r\n",
      "\r\n",
      "To silence this citation notice: run 'parallel --citation' once.\r\n",
      "\r\n",
      "Come on: You have run parallel 111 times. Isn't it about time \r\n",
      "you run 'parallel --citation' once to silence the citation notice?\r\n",
      "\r\n"
     ]
    },
    {
     "name": "stdout",
     "output_type": "stream",
     "text": [
      "2023/04/04 13:21:28 Running command: mafft --auto --quiet pan_genome_sequences/Thexy_2320.fa > pan_genome_sequences/Thexy_2320.fa.aln\r\n"
     ]
    },
    {
     "name": "stdout",
     "output_type": "stream",
     "text": [
      "2023/04/04 13:21:28 Running command: mafft --auto --quiet pan_genome_sequences/Tthe_1299.fa > pan_genome_sequences/Tthe_1299.fa.aln\r\n"
     ]
    },
    {
     "name": "stdout",
     "output_type": "stream",
     "text": [
      "2023/04/04 13:21:28 Running command: mafft --auto --quiet pan_genome_sequences/Thethe_02590.fa > pan_genome_sequences/Thethe_02590.fa.aln\r\n"
     ]
    },
    {
     "name": "stdout",
     "output_type": "stream",
     "text": [
      "2023/04/04 13:21:28 Running command: mafft --auto --quiet pan_genome_sequences/Thexy_2406.fa > pan_genome_sequences/Thexy_2406.fa.aln\r\n"
     ]
    },
    {
     "name": "stdout",
     "output_type": "stream",
     "text": [
      "2023/04/04 13:21:28 Running command: mafft --auto --quiet pan_genome_sequences/Tsac_1230.fa > pan_genome_sequences/Tsac_1230.fa.aln\r\n"
     ]
    },
    {
     "name": "stdout",
     "output_type": "stream",
     "text": [
      "2023/04/04 13:21:29 Running command: mafft --auto --quiet pan_genome_sequences/Tsac_0744.fa > pan_genome_sequences/Tsac_0744.fa.aln\r\n"
     ]
    },
    {
     "name": "stdout",
     "output_type": "stream",
     "text": [
      "2023/04/04 13:21:29 Running command: mafft --auto --quiet pan_genome_sequences/Thethe_00287.fa > pan_genome_sequences/Thethe_00287.fa.aln\r\n",
      "2023/04/04 13:21:29 Running command: mafft --auto --quiet pan_genome_sequences/Tthe_0460.fa > pan_genome_sequences/Tthe_0460.fa.aln\r\n",
      "2023/04/04 13:21:29 Running command: mafft --auto --quiet pan_genome_sequences/Tthe_R0029.fa > pan_genome_sequences/Tthe_R0029.fa.aln\r\n"
     ]
    },
    {
     "name": "stdout",
     "output_type": "stream",
     "text": [
      "2023/04/04 13:21:29 Running command: mafft --auto --quiet pan_genome_sequences/Thert_00434.fa > pan_genome_sequences/Thert_00434.fa.aln\r\n"
     ]
    },
    {
     "name": "stdout",
     "output_type": "stream",
     "text": [
      "2023/04/04 13:21:28 Running command: mafft --auto --quiet pan_genome_sequences/Tthe_0361.fa > pan_genome_sequences/Tthe_0361.fa.aln\r\n"
     ]
    },
    {
     "name": "stdout",
     "output_type": "stream",
     "text": [
      "2023/04/04 13:21:30 Running command: mafft --auto --quiet pan_genome_sequences/Thert_03032.fa > pan_genome_sequences/Thert_03032.fa.aln\r\n"
     ]
    },
    {
     "name": "stdout",
     "output_type": "stream",
     "text": [
      "2023/04/04 13:21:30 Running command: mafft --auto --quiet pan_genome_sequences/Tsac_2122.fa > pan_genome_sequences/Tsac_2122.fa.aln\r\n",
      "2023/04/04 13:21:31 Running command: mafft --auto --quiet pan_genome_sequences/Thexy_2183.fa > pan_genome_sequences/Thexy_2183.fa.aln\r\n",
      "2023/04/04 13:21:31 Running command: mafft --auto --quiet pan_genome_sequences/Thert_02164.fa > pan_genome_sequences/Thert_02164.fa.aln\r\n"
     ]
    },
    {
     "name": "stdout",
     "output_type": "stream",
     "text": [
      "2023/04/04 13:21:31 Running command: mafft --auto --quiet pan_genome_sequences/Thethe_02655.fa > pan_genome_sequences/Thethe_02655.fa.aln\r\n",
      "2023/04/04 13:21:31 Running command: mafft --auto --quiet pan_genome_sequences/Thethe_01321.fa > pan_genome_sequences/Thethe_01321.fa.aln\r\n"
     ]
    },
    {
     "name": "stdout",
     "output_type": "stream",
     "text": [
      "2023/04/04 13:21:30 Running command: mafft --auto --quiet pan_genome_sequences/Thert_00935.fa > pan_genome_sequences/Thert_00935.fa.aln\r\n"
     ]
    },
    {
     "name": "stdout",
     "output_type": "stream",
     "text": [
      "2023/04/04 13:21:31 Running command: mafft --auto --quiet pan_genome_sequences/Thexy_0899.fa > pan_genome_sequences/Thexy_0899.fa.aln\r\n"
     ]
    },
    {
     "name": "stdout",
     "output_type": "stream",
     "text": [
      "2023/04/04 13:21:32 Running command: mafft --auto --quiet pan_genome_sequences/Tsac_1548.fa > pan_genome_sequences/Tsac_1548.fa.aln\r\n",
      "2023/04/04 13:21:32 Running command: mafft --auto --quiet pan_genome_sequences/Tthe_0468.fa > pan_genome_sequences/Tthe_0468.fa.aln\r\n"
     ]
    },
    {
     "name": "stdout",
     "output_type": "stream",
     "text": [
      "2023/04/04 13:21:32 Running command: mafft --auto --quiet pan_genome_sequences/Thethe_01758.fa > pan_genome_sequences/Thethe_01758.fa.aln\r\n"
     ]
    },
    {
     "name": "stdout",
     "output_type": "stream",
     "text": [
      "2023/04/04 13:21:32 Running command: mafft --auto --quiet pan_genome_sequences/Thexy_2162.fa > pan_genome_sequences/Thexy_2162.fa.aln\r\n",
      "2023/04/04 13:21:32 Running command: mafft --auto --quiet pan_genome_sequences/Thethe_00392.fa > pan_genome_sequences/Thethe_00392.fa.aln\r\n",
      "2023/04/04 13:21:31 Running command: mafft --auto --quiet pan_genome_sequences/Tthe_0617.fa > pan_genome_sequences/Tthe_0617.fa.aln\r\n"
     ]
    },
    {
     "name": "stdout",
     "output_type": "stream",
     "text": [
      "2023/04/04 13:21:33 Running command: mafft --auto --quiet pan_genome_sequences/Tsac_1758.fa > pan_genome_sequences/Tsac_1758.fa.aln\r\n"
     ]
    },
    {
     "name": "stdout",
     "output_type": "stream",
     "text": [
      "2023/04/04 13:21:33 Running command: mafft --auto --quiet pan_genome_sequences/Tthe_2118.fa > pan_genome_sequences/Tthe_2118.fa.aln\r\n"
     ]
    },
    {
     "name": "stdout",
     "output_type": "stream",
     "text": [
      "2023/04/04 13:21:33 Running command: mafft --auto --quiet pan_genome_sequences/Thethe_00400.fa > pan_genome_sequences/Thethe_00400.fa.aln\r\n",
      "2023/04/04 13:21:33 Running command: mafft --auto --quiet pan_genome_sequences/Thert_02682.fa > pan_genome_sequences/Thert_02682.fa.aln\r\n"
     ]
    },
    {
     "name": "stdout",
     "output_type": "stream",
     "text": [
      "2023/04/04 13:21:32 Running command: mafft --auto --quiet pan_genome_sequences/Thethe_00661.fa > pan_genome_sequences/Thethe_00661.fa.aln\r\n"
     ]
    },
    {
     "name": "stdout",
     "output_type": "stream",
     "text": [
      "2023/04/04 13:21:33 Running command: mafft --auto --quiet pan_genome_sequences/Tsac_1474.fa > pan_genome_sequences/Tsac_1474.fa.aln\r\n"
     ]
    },
    {
     "name": "stdout",
     "output_type": "stream",
     "text": [
      "2023/04/04 13:21:34 Running command: mafft --auto --quiet pan_genome_sequences/Thethe_00838.fa > pan_genome_sequences/Thethe_00838.fa.aln\r\n"
     ]
    },
    {
     "name": "stdout",
     "output_type": "stream",
     "text": [
      "2023/04/04 13:21:34 Running command: mafft --auto --quiet pan_genome_sequences/Thethe_00190.fa > pan_genome_sequences/Thethe_00190.fa.aln\r\n"
     ]
    },
    {
     "name": "stdout",
     "output_type": "stream",
     "text": [
      "2023/04/04 13:21:34 Running command: mafft --auto --quiet pan_genome_sequences/Tsac_1754.fa > pan_genome_sequences/Tsac_1754.fa.aln\r\n"
     ]
    },
    {
     "name": "stdout",
     "output_type": "stream",
     "text": [
      "2023/04/04 13:21:35 Running command: mafft --auto --quiet pan_genome_sequences/Thethe_00114.fa > pan_genome_sequences/Thethe_00114.fa.aln\r\n",
      "2023/04/04 13:21:35 Running command: mafft --auto --quiet pan_genome_sequences/Thert_03171.fa > pan_genome_sequences/Thert_03171.fa.aln\r\n"
     ]
    },
    {
     "name": "stdout",
     "output_type": "stream",
     "text": [
      "2023/04/04 13:21:35 Running command: mafft --auto --quiet pan_genome_sequences/Tsac_2364.fa > pan_genome_sequences/Tsac_2364.fa.aln\r\n"
     ]
    },
    {
     "name": "stdout",
     "output_type": "stream",
     "text": [
      "2023/04/04 13:21:33 Running command: mafft --auto --quiet pan_genome_sequences/Tsac_2031.fa > pan_genome_sequences/Tsac_2031.fa.aln\r\n"
     ]
    },
    {
     "name": "stdout",
     "output_type": "stream",
     "text": [
      "2023/04/04 13:21:35 Running command: mafft --auto --quiet pan_genome_sequences/Tthe_0001.fa > pan_genome_sequences/Tthe_0001.fa.aln\r\n"
     ]
    },
    {
     "name": "stdout",
     "output_type": "stream",
     "text": [
      "2023/04/04 13:21:36 Running command: mafft --auto --quiet pan_genome_sequences/Tthe_0459.fa > pan_genome_sequences/Tthe_0459.fa.aln\r\n"
     ]
    },
    {
     "name": "stdout",
     "output_type": "stream",
     "text": [
      "2023/04/04 13:21:36 Running command: mafft --auto --quiet pan_genome_sequences/Thexy_2123.fa > pan_genome_sequences/Thexy_2123.fa.aln\r\n"
     ]
    },
    {
     "name": "stdout",
     "output_type": "stream",
     "text": [
      "2023/04/04 13:21:36 Running command: mafft --auto --quiet pan_genome_sequences/Tsac_2457.fa > pan_genome_sequences/Tsac_2457.fa.aln\r\n"
     ]
    },
    {
     "name": "stdout",
     "output_type": "stream",
     "text": [
      "2023/04/04 13:21:36 Running command: mafft --auto --quiet pan_genome_sequences/Thexy_0012.fa > pan_genome_sequences/Thexy_0012.fa.aln\r\n"
     ]
    },
    {
     "name": "stdout",
     "output_type": "stream",
     "text": [
      "2023/04/04 13:21:36 Running command: mafft --auto --quiet pan_genome_sequences/Thert_02928.fa > pan_genome_sequences/Thert_02928.fa.aln\r\n"
     ]
    },
    {
     "name": "stdout",
     "output_type": "stream",
     "text": [
      "2023/04/04 13:21:36 Running command: mafft --auto --quiet pan_genome_sequences/Tsac_1003.fa > pan_genome_sequences/Tsac_1003.fa.aln\r\n"
     ]
    },
    {
     "name": "stdout",
     "output_type": "stream",
     "text": [
      "2023/04/04 13:21:36 Running command: mafft --auto --quiet pan_genome_sequences/Tthe_0242.fa > pan_genome_sequences/Tthe_0242.fa.aln\r\n",
      "2023/04/04 13:21:37 Running command: mafft --auto --quiet pan_genome_sequences/Tthe_0089.fa > pan_genome_sequences/Tthe_0089.fa.aln\r\n"
     ]
    },
    {
     "name": "stdout",
     "output_type": "stream",
     "text": [
      "2023/04/04 13:21:37 Running command: mafft --auto --quiet pan_genome_sequences/Tthe_1472.fa > pan_genome_sequences/Tthe_1472.fa.aln\r\n"
     ]
    },
    {
     "name": "stdout",
     "output_type": "stream",
     "text": [
      "2023/04/04 13:21:37 Running command: mafft --auto --quiet pan_genome_sequences/Tthe_0889.fa > pan_genome_sequences/Tthe_0889.fa.aln\r\n"
     ]
    },
    {
     "name": "stdout",
     "output_type": "stream",
     "text": [
      "2023/04/04 13:21:37 Running command: mafft --auto --quiet pan_genome_sequences/Tsac_2355.fa > pan_genome_sequences/Tsac_2355.fa.aln\r\n"
     ]
    },
    {
     "name": "stdout",
     "output_type": "stream",
     "text": [
      "2023/04/04 13:21:37 Running command: mafft --auto --quiet pan_genome_sequences/Tsac_0328.fa > pan_genome_sequences/Tsac_0328.fa.aln\r\n"
     ]
    },
    {
     "name": "stdout",
     "output_type": "stream",
     "text": [
      "2023/04/04 13:21:38 Running command: mafft --auto --quiet pan_genome_sequences/Thexy_1972.fa > pan_genome_sequences/Thexy_1972.fa.aln\r\n"
     ]
    },
    {
     "name": "stdout",
     "output_type": "stream",
     "text": [
      "2023/04/04 13:21:38 Running command: mafft --auto --quiet pan_genome_sequences/Thexy_0342.fa > pan_genome_sequences/Thexy_0342.fa.aln\r\n"
     ]
    },
    {
     "name": "stdout",
     "output_type": "stream",
     "text": [
      "2023/04/04 13:21:38 Running command: mafft --auto --quiet pan_genome_sequences/Thert_02445.fa > pan_genome_sequences/Thert_02445.fa.aln\r\n"
     ]
    },
    {
     "name": "stdout",
     "output_type": "stream",
     "text": [
      "2023/04/04 13:21:38 Running command: mafft --auto --quiet pan_genome_sequences/Tthe_2094.fa > pan_genome_sequences/Tthe_2094.fa.aln\r\n"
     ]
    },
    {
     "name": "stdout",
     "output_type": "stream",
     "text": [
      "2023/04/04 13:21:39 Running command: mafft --auto --quiet pan_genome_sequences/Thert_03309.fa > pan_genome_sequences/Thert_03309.fa.aln\r\n"
     ]
    },
    {
     "name": "stdout",
     "output_type": "stream",
     "text": [
      "2023/04/04 13:21:39 Running command: mafft --auto --quiet pan_genome_sequences/Thexy_0363.fa > pan_genome_sequences/Thexy_0363.fa.aln\r\n"
     ]
    },
    {
     "name": "stdout",
     "output_type": "stream",
     "text": [
      "2023/04/04 13:21:40 Running command: mafft --auto --quiet pan_genome_sequences/Tsac_1196.fa > pan_genome_sequences/Tsac_1196.fa.aln\r\n"
     ]
    },
    {
     "name": "stdout",
     "output_type": "stream",
     "text": [
      "2023/04/04 13:21:39 Running command: mafft --auto --quiet pan_genome_sequences/Tsac_1345.fa > pan_genome_sequences/Tsac_1345.fa.aln\r\n"
     ]
    },
    {
     "name": "stdout",
     "output_type": "stream",
     "text": [
      "2023/04/04 13:21:40 Running command: mafft --auto --quiet pan_genome_sequences/Thert_01911.fa > pan_genome_sequences/Thert_01911.fa.aln\r\n"
     ]
    },
    {
     "name": "stdout",
     "output_type": "stream",
     "text": [
      "2023/04/04 13:21:38 Running command: mafft --auto --quiet pan_genome_sequences/Tthe_1808.fa > pan_genome_sequences/Tthe_1808.fa.aln\r\n"
     ]
    },
    {
     "name": "stdout",
     "output_type": "stream",
     "text": [
      "2023/04/04 13:21:40 Running command: mafft --auto --quiet pan_genome_sequences/Tthe_0457.fa > pan_genome_sequences/Tthe_0457.fa.aln\r\n"
     ]
    },
    {
     "name": "stdout",
     "output_type": "stream",
     "text": [
      "2023/04/04 13:21:41 Running command: mafft --auto --quiet pan_genome_sequences/Thexy_0047.fa > pan_genome_sequences/Thexy_0047.fa.aln\r\n"
     ]
    },
    {
     "name": "stdout",
     "output_type": "stream",
     "text": [
      "2023/04/04 13:21:38 Running command: mafft --auto --quiet pan_genome_sequences/Tthe_0400.fa > pan_genome_sequences/Tthe_0400.fa.aln\r\n"
     ]
    },
    {
     "name": "stdout",
     "output_type": "stream",
     "text": [
      "2023/04/04 13:21:41 Running command: mafft --auto --quiet pan_genome_sequences/Thexy_0834.fa > pan_genome_sequences/Thexy_0834.fa.aln\r\n"
     ]
    },
    {
     "name": "stdout",
     "output_type": "stream",
     "text": [
      "2023/04/04 13:21:41 Running command: mafft --auto --quiet pan_genome_sequences/Thethe_00650.fa > pan_genome_sequences/Thethe_00650.fa.aln\r\n"
     ]
    },
    {
     "name": "stdout",
     "output_type": "stream",
     "text": [
      "2023/04/04 13:21:41 Running command: mafft --auto --quiet pan_genome_sequences/Thert_01840.fa > pan_genome_sequences/Thert_01840.fa.aln\r\n"
     ]
    },
    {
     "name": "stdout",
     "output_type": "stream",
     "text": [
      "2023/04/04 13:21:41 Running command: mafft --auto --quiet pan_genome_sequences/Tthe_0666.fa > pan_genome_sequences/Tthe_0666.fa.aln\r\n",
      "2023/04/04 13:21:42 Running command: mafft --auto --quiet pan_genome_sequences/Thert_01392.fa > pan_genome_sequences/Thert_01392.fa.aln\r\n"
     ]
    },
    {
     "name": "stdout",
     "output_type": "stream",
     "text": [
      "2023/04/04 13:21:41 Running command: mafft --auto --quiet pan_genome_sequences/Tsac_0956.fa > pan_genome_sequences/Tsac_0956.fa.aln\r\n"
     ]
    },
    {
     "name": "stdout",
     "output_type": "stream",
     "text": [
      "2023/04/04 13:21:43 Running command: mafft --auto --quiet pan_genome_sequences/Thexy_0346.fa > pan_genome_sequences/Thexy_0346.fa.aln\r\n"
     ]
    },
    {
     "name": "stdout",
     "output_type": "stream",
     "text": [
      "2023/04/04 13:21:43 Running command: mafft --auto --quiet pan_genome_sequences/Thethe_00530.fa > pan_genome_sequences/Thethe_00530.fa.aln\r\n"
     ]
    },
    {
     "name": "stdout",
     "output_type": "stream",
     "text": [
      "2023/04/04 13:21:43 Running command: mafft --auto --quiet pan_genome_sequences/Thert_01046.fa > pan_genome_sequences/Thert_01046.fa.aln\r\n",
      "2023/04/04 13:21:42 Running command: mafft --auto --quiet pan_genome_sequences/Thexy_0377.fa > pan_genome_sequences/Thexy_0377.fa.aln\r\n"
     ]
    },
    {
     "name": "stdout",
     "output_type": "stream",
     "text": [
      "2023/04/04 13:21:43 Running command: mafft --auto --quiet pan_genome_sequences/Tthe_0971.fa > pan_genome_sequences/Tthe_0971.fa.aln\r\n",
      "2023/04/04 13:21:44 Running command: mafft --auto --quiet pan_genome_sequences/Thexy_1506.fa > pan_genome_sequences/Thexy_1506.fa.aln\r\n"
     ]
    },
    {
     "name": "stdout",
     "output_type": "stream",
     "text": [
      "2023/04/04 13:21:44 Running command: mafft --auto --quiet pan_genome_sequences/Thexy_0630.fa > pan_genome_sequences/Thexy_0630.fa.aln\r\n",
      "2023/04/04 13:21:44 Running command: mafft --auto --quiet pan_genome_sequences/Thexy_0369.fa > pan_genome_sequences/Thexy_0369.fa.aln\r\n"
     ]
    },
    {
     "name": "stdout",
     "output_type": "stream",
     "text": [
      "2023/04/04 13:21:44 Running command: mafft --auto --quiet pan_genome_sequences/Tsac_2656.fa > pan_genome_sequences/Tsac_2656.fa.aln\r\n"
     ]
    },
    {
     "name": "stdout",
     "output_type": "stream",
     "text": [
      "2023/04/04 13:21:44 Running command: mafft --auto --quiet pan_genome_sequences/Thert_01899.fa > pan_genome_sequences/Thert_01899.fa.aln\r\n"
     ]
    },
    {
     "name": "stdout",
     "output_type": "stream",
     "text": [
      "2023/04/04 13:21:44 Running command: mafft --auto --quiet pan_genome_sequences/Thexy_1302.fa > pan_genome_sequences/Thexy_1302.fa.aln\r\n"
     ]
    },
    {
     "name": "stdout",
     "output_type": "stream",
     "text": [
      "2023/04/04 13:21:45 Running command: mafft --auto --quiet pan_genome_sequences/Tsac_2069.fa > pan_genome_sequences/Tsac_2069.fa.aln\r\n"
     ]
    },
    {
     "name": "stdout",
     "output_type": "stream",
     "text": [
      "2023/04/04 13:21:45 Running command: mafft --auto --quiet pan_genome_sequences/Thethe_02581.fa > pan_genome_sequences/Thethe_02581.fa.aln\r\n"
     ]
    },
    {
     "name": "stdout",
     "output_type": "stream",
     "text": [
      "2023/04/04 13:21:45 Running command: mafft --auto --quiet pan_genome_sequences/Thert_01907.fa > pan_genome_sequences/Thert_01907.fa.aln\r\n"
     ]
    },
    {
     "name": "stdout",
     "output_type": "stream",
     "text": [
      "2023/04/04 13:21:44 Running command: mafft --auto --quiet pan_genome_sequences/Tthe_1611.fa > pan_genome_sequences/Tthe_1611.fa.aln\r\n"
     ]
    },
    {
     "name": "stdout",
     "output_type": "stream",
     "text": [
      "2023/04/04 13:21:45 Running command: mafft --auto --quiet pan_genome_sequences/Thert_01928.fa > pan_genome_sequences/Thert_01928.fa.aln\r\n"
     ]
    },
    {
     "name": "stdout",
     "output_type": "stream",
     "text": [
      "2023/04/04 13:21:46 Running command: mafft --auto --quiet pan_genome_sequences/Tthe_1577.fa > pan_genome_sequences/Tthe_1577.fa.aln\r\n"
     ]
    },
    {
     "name": "stdout",
     "output_type": "stream",
     "text": [
      "2023/04/04 13:21:46 Running command: mafft --auto --quiet pan_genome_sequences/Thexy_0706.fa > pan_genome_sequences/Thexy_0706.fa.aln\r\n"
     ]
    },
    {
     "name": "stdout",
     "output_type": "stream",
     "text": [
      "2023/04/04 13:21:46 Running command: mafft --auto --quiet pan_genome_sequences/Thexy_0557.fa > pan_genome_sequences/Thexy_0557.fa.aln\r\n"
     ]
    },
    {
     "name": "stdout",
     "output_type": "stream",
     "text": [
      "2023/04/04 13:21:46 Running command: mafft --auto --quiet pan_genome_sequences/Thert_03318.fa > pan_genome_sequences/Thert_03318.fa.aln\r\n"
     ]
    },
    {
     "name": "stdout",
     "output_type": "stream",
     "text": [
      "2023/04/04 13:21:47 Running command: mafft --auto --quiet pan_genome_sequences/Thethe_00357.fa > pan_genome_sequences/Thethe_00357.fa.aln\r\n"
     ]
    },
    {
     "name": "stdout",
     "output_type": "stream",
     "text": [
      "2023/04/04 13:21:47 Running command: mafft --auto --quiet pan_genome_sequences/Thert_00258.fa > pan_genome_sequences/Thert_00258.fa.aln\r\n"
     ]
    },
    {
     "name": "stdout",
     "output_type": "stream",
     "text": [
      "2023/04/04 13:21:48 Running command: mafft --auto --quiet pan_genome_sequences/Tsac_2050.fa > pan_genome_sequences/Tsac_2050.fa.aln\r\n"
     ]
    },
    {
     "name": "stdout",
     "output_type": "stream",
     "text": [
      "2023/04/04 13:21:48 Running command: mafft --auto --quiet pan_genome_sequences/Thert_00117.fa > pan_genome_sequences/Thert_00117.fa.aln\r\n"
     ]
    },
    {
     "name": "stdout",
     "output_type": "stream",
     "text": [
      "2023/04/04 13:21:48 Running command: mafft --auto --quiet pan_genome_sequences/Thert_02941.fa > pan_genome_sequences/Thert_02941.fa.aln\r\n"
     ]
    },
    {
     "name": "stdout",
     "output_type": "stream",
     "text": [
      "2023/04/04 13:21:45 Running command: mafft --auto --quiet pan_genome_sequences/Tthe_2646.fa > pan_genome_sequences/Tthe_2646.fa.aln\r\n"
     ]
    },
    {
     "name": "stdout",
     "output_type": "stream",
     "text": [
      "2023/04/04 13:21:48 Running command: mafft --auto --quiet pan_genome_sequences/Tthe_2203.fa > pan_genome_sequences/Tthe_2203.fa.aln\r\n"
     ]
    },
    {
     "name": "stdout",
     "output_type": "stream",
     "text": [
      "2023/04/04 13:21:49 Running command: mafft --auto --quiet pan_genome_sequences/Thexy_2190.fa > pan_genome_sequences/Thexy_2190.fa.aln\r\n"
     ]
    },
    {
     "name": "stdout",
     "output_type": "stream",
     "text": [
      "2023/04/04 13:21:48 Running command: mafft --auto --quiet pan_genome_sequences/Thexy_1846.fa > pan_genome_sequences/Thexy_1846.fa.aln\r\n"
     ]
    },
    {
     "name": "stdout",
     "output_type": "stream",
     "text": [
      "2023/04/04 13:21:50 Running command: mafft --auto --quiet pan_genome_sequences/Tsac_0436.fa > pan_genome_sequences/Tsac_0436.fa.aln\r\n"
     ]
    },
    {
     "name": "stdout",
     "output_type": "stream",
     "text": [
      "2023/04/04 13:21:49 Running command: mafft --auto --quiet pan_genome_sequences/Tsac_1434.fa > pan_genome_sequences/Tsac_1434.fa.aln\r\n"
     ]
    },
    {
     "name": "stdout",
     "output_type": "stream",
     "text": [
      "2023/04/04 13:21:46 Running command: mafft --auto --quiet pan_genome_sequences/Tsac_1244.fa > pan_genome_sequences/Tsac_1244.fa.aln\r\n"
     ]
    },
    {
     "name": "stdout",
     "output_type": "stream",
     "text": [
      "2023/04/04 13:21:50 Running command: mafft --auto --quiet pan_genome_sequences/Thethe_00379.fa > pan_genome_sequences/Thethe_00379.fa.aln\r\n"
     ]
    },
    {
     "name": "stdout",
     "output_type": "stream",
     "text": [
      "2023/04/04 13:21:50 Running command: mafft --auto --quiet pan_genome_sequences/Tsac_1824.fa > pan_genome_sequences/Tsac_1824.fa.aln\r\n"
     ]
    },
    {
     "name": "stdout",
     "output_type": "stream",
     "text": [
      "2023/04/04 13:21:51 Running command: mafft --auto --quiet pan_genome_sequences/Thexy_1582.fa > pan_genome_sequences/Thexy_1582.fa.aln\r\n"
     ]
    },
    {
     "name": "stdout",
     "output_type": "stream",
     "text": [
      "2023/04/04 13:21:51 Running command: mafft --auto --quiet pan_genome_sequences/Thert_01593.fa > pan_genome_sequences/Thert_01593.fa.aln\r\n"
     ]
    },
    {
     "name": "stdout",
     "output_type": "stream",
     "text": [
      "2023/04/04 13:21:51 Running command: mafft --auto --quiet pan_genome_sequences/Tsac_0298.fa > pan_genome_sequences/Tsac_0298.fa.aln\r\n"
     ]
    },
    {
     "name": "stdout",
     "output_type": "stream",
     "text": [
      "2023/04/04 13:21:52 Running command: mafft --auto --quiet pan_genome_sequences/Thexy_2292.fa > pan_genome_sequences/Thexy_2292.fa.aln\r\n",
      "2023/04/04 13:21:51 Running command: mafft --auto --quiet pan_genome_sequences/Thethe_02547.fa > pan_genome_sequences/Thethe_02547.fa.aln\r\n"
     ]
    },
    {
     "name": "stdout",
     "output_type": "stream",
     "text": [
      "2023/04/04 13:21:51 Running command: mafft --auto --quiet pan_genome_sequences/Thexy_1070.fa > pan_genome_sequences/Thexy_1070.fa.aln\r\n"
     ]
    },
    {
     "name": "stdout",
     "output_type": "stream",
     "text": [
      "2023/04/04 13:21:50 Running command: mafft --auto --quiet pan_genome_sequences/Tthe_0429.fa > pan_genome_sequences/Tthe_0429.fa.aln\r\n"
     ]
    },
    {
     "name": "stdout",
     "output_type": "stream",
     "text": [
      "2023/04/04 13:21:52 Running command: mafft --auto --quiet pan_genome_sequences/Tthe_1789.fa > pan_genome_sequences/Tthe_1789.fa.aln\r\n"
     ]
    },
    {
     "name": "stdout",
     "output_type": "stream",
     "text": [
      "2023/04/04 13:21:53 Running command: mafft --auto --quiet pan_genome_sequences/Thert_00032.fa > pan_genome_sequences/Thert_00032.fa.aln\r\n"
     ]
    },
    {
     "name": "stdout",
     "output_type": "stream",
     "text": [
      "2023/04/04 13:21:53 Running command: mafft --auto --quiet pan_genome_sequences/Thert_02869.fa > pan_genome_sequences/Thert_02869.fa.aln\r\n"
     ]
    },
    {
     "name": "stdout",
     "output_type": "stream",
     "text": [
      "2023/04/04 13:21:52 Running command: mafft --auto --quiet pan_genome_sequences/Tsac_0028.fa > pan_genome_sequences/Tsac_0028.fa.aln\r\n"
     ]
    },
    {
     "name": "stdout",
     "output_type": "stream",
     "text": [
      "2023/04/04 13:21:54 Running command: mafft --auto --quiet pan_genome_sequences/Thexy_2112.fa > pan_genome_sequences/Thexy_2112.fa.aln\r\n",
      "2023/04/04 13:21:53 Running command: mafft --auto --quiet pan_genome_sequences/Tthe_2083.fa > pan_genome_sequences/Tthe_2083.fa.aln\r\n"
     ]
    },
    {
     "name": "stdout",
     "output_type": "stream",
     "text": [
      "2023/04/04 13:21:54 Running command: mafft --auto --quiet pan_genome_sequences/Thethe_00079.fa > pan_genome_sequences/Thethe_00079.fa.aln\r\n"
     ]
    },
    {
     "name": "stdout",
     "output_type": "stream",
     "text": [
      "2023/04/04 13:21:54 Running command: mafft --auto --quiet pan_genome_sequences/Thert_03152.fa > pan_genome_sequences/Thert_03152.fa.aln\r\n"
     ]
    },
    {
     "name": "stdout",
     "output_type": "stream",
     "text": [
      "2023/04/04 13:21:54 Running command: mafft --auto --quiet pan_genome_sequences/Tsac_0277.fa > pan_genome_sequences/Tsac_0277.fa.aln\r\n"
     ]
    },
    {
     "name": "stdout",
     "output_type": "stream",
     "text": [
      "2023/04/04 13:21:56 Running command: mafft --auto --quiet pan_genome_sequences/Thethe_02735.fa > pan_genome_sequences/Thethe_02735.fa.aln\r\n"
     ]
    },
    {
     "name": "stdout",
     "output_type": "stream",
     "text": [
      "2023/04/04 13:21:56 Running command: mafft --auto --quiet pan_genome_sequences/Thert_03416.fa > pan_genome_sequences/Thert_03416.fa.aln\r\n"
     ]
    },
    {
     "name": "stdout",
     "output_type": "stream",
     "text": [
      "2023/04/04 13:21:53 Running command: mafft --auto --quiet pan_genome_sequences/Thethe_01952.fa > pan_genome_sequences/Thethe_01952.fa.aln\r\n"
     ]
    },
    {
     "name": "stdout",
     "output_type": "stream",
     "text": [
      "2023/04/04 13:21:56 Running command: mafft --auto --quiet pan_genome_sequences/Thethe_02560.fa > pan_genome_sequences/Thethe_02560.fa.aln\r\n"
     ]
    },
    {
     "name": "stdout",
     "output_type": "stream",
     "text": [
      "2023/04/04 13:21:55 Running command: mafft --auto --quiet pan_genome_sequences/Tthe_1120.fa > pan_genome_sequences/Tthe_1120.fa.aln\r\n"
     ]
    },
    {
     "name": "stdout",
     "output_type": "stream",
     "text": [
      "2023/04/04 13:21:56 Running command: mafft --auto --quiet pan_genome_sequences/Thexy_2336.fa > pan_genome_sequences/Thexy_2336.fa.aln\r\n"
     ]
    },
    {
     "name": "stdout",
     "output_type": "stream",
     "text": [
      "2023/04/04 13:21:56 Running command: mafft --auto --quiet pan_genome_sequences/Thethe_01309.fa > pan_genome_sequences/Thethe_01309.fa.aln\r\n"
     ]
    },
    {
     "name": "stdout",
     "output_type": "stream",
     "text": [
      "2023/04/04 13:21:56 Running command: mafft --auto --quiet pan_genome_sequences/Thethe_00375.fa > pan_genome_sequences/Thethe_00375.fa.aln\r\n"
     ]
    },
    {
     "name": "stdout",
     "output_type": "stream",
     "text": [
      "2023/04/04 13:21:57 Running command: mafft --auto --quiet pan_genome_sequences/Thexy_1338.fa > pan_genome_sequences/Thexy_1338.fa.aln\r\n"
     ]
    },
    {
     "name": "stdout",
     "output_type": "stream",
     "text": [
      "2023/04/04 13:21:57 Running command: mafft --auto --quiet pan_genome_sequences/Tthe_2306.fa > pan_genome_sequences/Tthe_2306.fa.aln\r\n"
     ]
    },
    {
     "name": "stdout",
     "output_type": "stream",
     "text": [
      "2023/04/04 13:21:57 Running command: mafft --auto --quiet pan_genome_sequences/Tsac_1782.fa > pan_genome_sequences/Tsac_1782.fa.aln\r\n",
      "2023/04/04 13:21:57 Running command: mafft --auto --quiet pan_genome_sequences/Tthe_0423.fa > pan_genome_sequences/Tthe_0423.fa.aln\r\n"
     ]
    },
    {
     "name": "stdout",
     "output_type": "stream",
     "text": [
      "2023/04/04 13:21:58 Running command: mafft --auto --quiet pan_genome_sequences/Thert_02760.fa > pan_genome_sequences/Thert_02760.fa.aln\r\n"
     ]
    },
    {
     "name": "stdout",
     "output_type": "stream",
     "text": [
      "2023/04/04 13:21:58 Running command: mafft --auto --quiet pan_genome_sequences/Thethe_00648.fa > pan_genome_sequences/Thethe_00648.fa.aln\r\n"
     ]
    },
    {
     "name": "stdout",
     "output_type": "stream",
     "text": [
      "2023/04/04 13:21:58 Running command: mafft --auto --quiet pan_genome_sequences/Thexy_0300.fa > pan_genome_sequences/Thexy_0300.fa.aln\r\n"
     ]
    },
    {
     "name": "stdout",
     "output_type": "stream",
     "text": [
      "2023/04/04 13:21:59 Running command: mafft --auto --quiet pan_genome_sequences/Tsac_1438.fa > pan_genome_sequences/Tsac_1438.fa.aln\r\n"
     ]
    },
    {
     "name": "stdout",
     "output_type": "stream",
     "text": [
      "2023/04/04 13:21:58 Running command: mafft --auto --quiet pan_genome_sequences/Thexy_0818.fa > pan_genome_sequences/Thexy_0818.fa.aln\r\n"
     ]
    },
    {
     "name": "stdout",
     "output_type": "stream",
     "text": [
      "2023/04/04 13:21:59 Running command: mafft --auto --quiet pan_genome_sequences/Tthe_2429.fa > pan_genome_sequences/Tthe_2429.fa.aln\r\n"
     ]
    },
    {
     "name": "stdout",
     "output_type": "stream",
     "text": [
      "2023/04/04 13:21:59 Running command: mafft --auto --quiet pan_genome_sequences/Tthe_1424.fa > pan_genome_sequences/Tthe_1424.fa.aln\r\n"
     ]
    },
    {
     "name": "stdout",
     "output_type": "stream",
     "text": [
      "2023/04/04 13:21:58 Running command: mafft --auto --quiet pan_genome_sequences/Thexy_0008.fa > pan_genome_sequences/Thexy_0008.fa.aln\r\n"
     ]
    },
    {
     "name": "stdout",
     "output_type": "stream",
     "text": [
      "2023/04/04 13:22:00 Running command: mafft --auto --quiet pan_genome_sequences/Thert_01349.fa > pan_genome_sequences/Thert_01349.fa.aln\r\n"
     ]
    },
    {
     "name": "stdout",
     "output_type": "stream",
     "text": [
      "2023/04/04 13:22:00 Running command: mafft --auto --quiet pan_genome_sequences/Tthe_0649.fa > pan_genome_sequences/Tthe_0649.fa.aln\r\n",
      "2023/04/04 13:22:00 Running command: mafft --auto --quiet pan_genome_sequences/Thethe_01625.fa > pan_genome_sequences/Thethe_01625.fa.aln\r\n"
     ]
    },
    {
     "name": "stdout",
     "output_type": "stream",
     "text": [
      "2023/04/04 13:22:00 Running command: mafft --auto --quiet pan_genome_sequences/Thexy_0728.fa > pan_genome_sequences/Thexy_0728.fa.aln\r\n"
     ]
    },
    {
     "name": "stdout",
     "output_type": "stream",
     "text": [
      "2023/04/04 13:22:00 Running command: mafft --auto --quiet pan_genome_sequences/Thert_02226.fa > pan_genome_sequences/Thert_02226.fa.aln\r\n"
     ]
    },
    {
     "name": "stdout",
     "output_type": "stream",
     "text": [
      "2023/04/04 13:22:00 Running command: mafft --auto --quiet pan_genome_sequences/Tthe_2082.fa > pan_genome_sequences/Tthe_2082.fa.aln\r\n"
     ]
    },
    {
     "name": "stdout",
     "output_type": "stream",
     "text": [
      "2023/04/04 13:22:01 Running command: mafft --auto --quiet pan_genome_sequences/Thexy_2203.fa > pan_genome_sequences/Thexy_2203.fa.aln\r\n",
      "2023/04/04 13:22:01 Running command: mafft --auto --quiet pan_genome_sequences/Thexy_0986.fa > pan_genome_sequences/Thexy_0986.fa.aln\r\n"
     ]
    },
    {
     "name": "stdout",
     "output_type": "stream",
     "text": [
      "2023/04/04 13:22:01 Running command: mafft --auto --quiet pan_genome_sequences/Thexy_0729.fa > pan_genome_sequences/Thexy_0729.fa.aln\r\n"
     ]
    },
    {
     "name": "stdout",
     "output_type": "stream",
     "text": [
      "2023/04/04 13:22:02 Running command: mafft --auto --quiet pan_genome_sequences/Thexy_R0018.fa > pan_genome_sequences/Thexy_R0018.fa.aln\r\n"
     ]
    },
    {
     "name": "stdout",
     "output_type": "stream",
     "text": [
      "2023/04/04 13:22:02 Running command: mafft --auto --quiet pan_genome_sequences/Tsac_0029.fa > pan_genome_sequences/Tsac_0029.fa.aln\r\n"
     ]
    },
    {
     "name": "stdout",
     "output_type": "stream",
     "text": [
      "2023/04/04 13:22:02 Running command: mafft --auto --quiet pan_genome_sequences/Thert_02318.fa > pan_genome_sequences/Thert_02318.fa.aln\r\n"
     ]
    },
    {
     "name": "stdout",
     "output_type": "stream",
     "text": [
      "2023/04/04 13:22:01 Running command: mafft --auto --quiet pan_genome_sequences/Tthe_0771.fa > pan_genome_sequences/Tthe_0771.fa.aln\r\n"
     ]
    },
    {
     "name": "stdout",
     "output_type": "stream",
     "text": [
      "2023/04/04 13:22:03 Running command: mafft --auto --quiet pan_genome_sequences/Thert_01920.fa > pan_genome_sequences/Thert_01920.fa.aln\r\n"
     ]
    },
    {
     "name": "stdout",
     "output_type": "stream",
     "text": [
      "2023/04/04 13:22:03 Running command: mafft --auto --quiet pan_genome_sequences/Thethe_02494.fa > pan_genome_sequences/Thethe_02494.fa.aln\r\n"
     ]
    },
    {
     "name": "stdout",
     "output_type": "stream",
     "text": [
      "2023/04/04 13:22:03 Running command: mafft --auto --quiet pan_genome_sequences/Thert_01343.fa > pan_genome_sequences/Thert_01343.fa.aln\r\n"
     ]
    },
    {
     "name": "stdout",
     "output_type": "stream",
     "text": [
      "2023/04/04 13:22:04 Running command: mafft --auto --quiet pan_genome_sequences/Tthe_0419.fa > pan_genome_sequences/Tthe_0419.fa.aln\r\n"
     ]
    },
    {
     "name": "stdout",
     "output_type": "stream",
     "text": [
      "2023/04/04 13:22:04 Running command: mafft --auto --quiet pan_genome_sequences/Thexy_0532.fa > pan_genome_sequences/Thexy_0532.fa.aln\r\n"
     ]
    },
    {
     "name": "stdout",
     "output_type": "stream",
     "text": [
      "2023/04/04 13:22:02 Running command: mafft --auto --quiet pan_genome_sequences/Tthe_1403.fa > pan_genome_sequences/Tthe_1403.fa.aln\r\n",
      "2023/04/04 13:22:05 Running command: mafft --auto --quiet pan_genome_sequences/Thethe_01261.fa > pan_genome_sequences/Thethe_01261.fa.aln\r\n"
     ]
    },
    {
     "name": "stdout",
     "output_type": "stream",
     "text": [
      "2023/04/04 13:22:03 Running command: mafft --auto --quiet pan_genome_sequences/Tthe_1108.fa > pan_genome_sequences/Tthe_1108.fa.aln\r\n",
      "2023/04/04 13:22:05 Running command: mafft --auto --quiet pan_genome_sequences/Tthe_0997.fa > pan_genome_sequences/Tthe_0997.fa.aln\r\n"
     ]
    },
    {
     "name": "stdout",
     "output_type": "stream",
     "text": [
      "2023/04/04 13:22:05 Running command: mafft --auto --quiet pan_genome_sequences/Tthe_1805.fa > pan_genome_sequences/Tthe_1805.fa.aln\r\n"
     ]
    },
    {
     "name": "stdout",
     "output_type": "stream",
     "text": [
      "2023/04/04 13:22:05 Running command: mafft --auto --quiet pan_genome_sequences/Thethe_01349.fa > pan_genome_sequences/Thethe_01349.fa.aln\r\n"
     ]
    },
    {
     "name": "stdout",
     "output_type": "stream",
     "text": [
      "2023/04/04 13:22:06 Running command: mafft --auto --quiet pan_genome_sequences/Tthe_2015.fa > pan_genome_sequences/Tthe_2015.fa.aln\r\n"
     ]
    },
    {
     "name": "stdout",
     "output_type": "stream",
     "text": [
      "2023/04/04 13:22:07 Running command: mafft --auto --quiet pan_genome_sequences/Tsac_1010.fa > pan_genome_sequences/Tsac_1010.fa.aln\r\n"
     ]
    },
    {
     "name": "stdout",
     "output_type": "stream",
     "text": [
      "2023/04/04 13:22:07 Running command: mafft --auto --quiet pan_genome_sequences/Tsac_0982.fa > pan_genome_sequences/Tsac_0982.fa.aln\r\n"
     ]
    },
    {
     "name": "stdout",
     "output_type": "stream",
     "text": [
      "2023/04/04 13:22:07 Running command: mafft --auto --quiet pan_genome_sequences/Thexy_R0065.fa > pan_genome_sequences/Thexy_R0065.fa.aln\r\n"
     ]
    },
    {
     "name": "stdout",
     "output_type": "stream",
     "text": [
      "2023/04/04 13:22:07 Running command: mafft --auto --quiet pan_genome_sequences/Tsac_1014.fa > pan_genome_sequences/Tsac_1014.fa.aln\r\n",
      "2023/04/04 13:22:06 Running command: mafft --auto --quiet pan_genome_sequences/Thexy_1433.fa > pan_genome_sequences/Thexy_1433.fa.aln\r\n"
     ]
    },
    {
     "name": "stdout",
     "output_type": "stream",
     "text": [
      "2023/04/04 13:22:08 Running command: mafft --auto --quiet pan_genome_sequences/Thexy_0358.fa > pan_genome_sequences/Thexy_0358.fa.aln\r\n"
     ]
    },
    {
     "name": "stdout",
     "output_type": "stream",
     "text": [
      "2023/04/04 13:22:08 Running command: mafft --auto --quiet pan_genome_sequences/Tsac_1747.fa > pan_genome_sequences/Tsac_1747.fa.aln\r\n"
     ]
    },
    {
     "name": "stdout",
     "output_type": "stream",
     "text": [
      "2023/04/04 13:22:07 Running command: mafft --auto --quiet pan_genome_sequences/Thethe_02643.fa > pan_genome_sequences/Thethe_02643.fa.aln\r\n"
     ]
    },
    {
     "name": "stdout",
     "output_type": "stream",
     "text": [
      "2023/04/04 13:22:08 Running command: mafft --auto --quiet pan_genome_sequences/Thert_01451.fa > pan_genome_sequences/Thert_01451.fa.aln\r\n"
     ]
    },
    {
     "name": "stdout",
     "output_type": "stream",
     "text": [
      "2023/04/04 13:22:08 Running command: mafft --auto --quiet pan_genome_sequences/Tsac_0734.fa > pan_genome_sequences/Tsac_0734.fa.aln\r\n"
     ]
    },
    {
     "name": "stdout",
     "output_type": "stream",
     "text": [
      "2023/04/04 13:22:08 Running command: mafft --auto --quiet pan_genome_sequences/Tthe_0705.fa > pan_genome_sequences/Tthe_0705.fa.aln\r\n"
     ]
    },
    {
     "name": "stdout",
     "output_type": "stream",
     "text": [
      "2023/04/04 13:22:09 Running command: mafft --auto --quiet pan_genome_sequences/Tsac_0936.fa > pan_genome_sequences/Tsac_0936.fa.aln\r\n"
     ]
    },
    {
     "name": "stdout",
     "output_type": "stream",
     "text": [
      "2023/04/04 13:22:09 Running command: mafft --auto --quiet pan_genome_sequences/Thethe_00393.fa > pan_genome_sequences/Thethe_00393.fa.aln\r\n"
     ]
    },
    {
     "name": "stdout",
     "output_type": "stream",
     "text": [
      "2023/04/04 13:22:09 Running command: mafft --auto --quiet pan_genome_sequences/Tsac_0166.fa > pan_genome_sequences/Tsac_0166.fa.aln\r\n"
     ]
    },
    {
     "name": "stdout",
     "output_type": "stream",
     "text": [
      "2023/04/04 13:22:10 Running command: mafft --auto --quiet pan_genome_sequences/Tthe_0437.fa > pan_genome_sequences/Tthe_0437.fa.aln\r\n"
     ]
    },
    {
     "name": "stdout",
     "output_type": "stream",
     "text": [
      "2023/04/04 13:22:10 Running command: mafft --auto --quiet pan_genome_sequences/Tthe_1293.fa > pan_genome_sequences/Tthe_1293.fa.aln\r\n"
     ]
    },
    {
     "name": "stdout",
     "output_type": "stream",
     "text": [
      "2023/04/04 13:22:10 Running command: mafft --auto --quiet pan_genome_sequences/Thethe_02628.fa > pan_genome_sequences/Thethe_02628.fa.aln\r\n",
      "2023/04/04 13:22:11 Running command: mafft --auto --quiet pan_genome_sequences/Thethe_02048.fa > pan_genome_sequences/Thethe_02048.fa.aln\r\n"
     ]
    },
    {
     "name": "stdout",
     "output_type": "stream",
     "text": [
      "2023/04/04 13:22:11 Running command: mafft --auto --quiet pan_genome_sequences/Tthe_1353.fa > pan_genome_sequences/Tthe_1353.fa.aln\r\n"
     ]
    },
    {
     "name": "stdout",
     "output_type": "stream",
     "text": [
      "2023/04/04 13:22:11 Running command: mafft --auto --quiet pan_genome_sequences/Tthe_0083.fa > pan_genome_sequences/Tthe_0083.fa.aln\r\n"
     ]
    },
    {
     "name": "stdout",
     "output_type": "stream",
     "text": [
      "2023/04/04 13:22:11 Running command: mafft --auto --quiet pan_genome_sequences/Tthe_0438.fa > pan_genome_sequences/Tthe_0438.fa.aln\r\n"
     ]
    },
    {
     "name": "stdout",
     "output_type": "stream",
     "text": [
      "2023/04/04 13:22:12 Running command: mafft --auto --quiet pan_genome_sequences/Thethe_01369.fa > pan_genome_sequences/Thethe_01369.fa.aln\r\n"
     ]
    },
    {
     "name": "stdout",
     "output_type": "stream",
     "text": [
      "2023/04/04 13:22:11 Running command: mafft --auto --quiet pan_genome_sequences/Tsac_1762.fa > pan_genome_sequences/Tsac_1762.fa.aln\r\n"
     ]
    },
    {
     "name": "stdout",
     "output_type": "stream",
     "text": [
      "2023/04/04 13:22:13 Running command: mafft --auto --quiet pan_genome_sequences/Tthe_1221.fa > pan_genome_sequences/Tthe_1221.fa.aln\r\n"
     ]
    },
    {
     "name": "stdout",
     "output_type": "stream",
     "text": [
      "2023/04/04 13:22:12 Running command: mafft --auto --quiet pan_genome_sequences/Tsac_1287.fa > pan_genome_sequences/Tsac_1287.fa.aln\r\n"
     ]
    },
    {
     "name": "stdout",
     "output_type": "stream",
     "text": [
      "2023/04/04 13:22:13 Running command: mafft --auto --quiet pan_genome_sequences/Tthe_0882.fa > pan_genome_sequences/Tthe_0882.fa.aln\r\n"
     ]
    },
    {
     "name": "stdout",
     "output_type": "stream",
     "text": [
      "2023/04/04 13:22:13 Running command: mafft --auto --quiet pan_genome_sequences/Thethe_00481.fa > pan_genome_sequences/Thethe_00481.fa.aln\r\n",
      "2023/04/04 13:22:13 Running command: mafft --auto --quiet pan_genome_sequences/Tthe_1423.fa > pan_genome_sequences/Tthe_1423.fa.aln\r\n"
     ]
    },
    {
     "name": "stdout",
     "output_type": "stream",
     "text": [
      "2023/04/04 13:22:13 Running command: mafft --auto --quiet pan_genome_sequences/Tsac_2022.fa > pan_genome_sequences/Tsac_2022.fa.aln\r\n"
     ]
    },
    {
     "name": "stdout",
     "output_type": "stream",
     "text": [
      "2023/04/04 13:22:13 Running command: mafft --auto --quiet pan_genome_sequences/Thexy_0183.fa > pan_genome_sequences/Thexy_0183.fa.aln\r\n"
     ]
    },
    {
     "name": "stdout",
     "output_type": "stream",
     "text": [
      "2023/04/04 13:22:14 Running command: mafft --auto --quiet pan_genome_sequences/Thexy_0118.fa > pan_genome_sequences/Thexy_0118.fa.aln\r\n"
     ]
    },
    {
     "name": "stdout",
     "output_type": "stream",
     "text": [
      "2023/04/04 13:22:14 Running command: mafft --auto --quiet pan_genome_sequences/Tsac_0012.fa > pan_genome_sequences/Tsac_0012.fa.aln\r\n"
     ]
    },
    {
     "name": "stdout",
     "output_type": "stream",
     "text": [
      "2023/04/04 13:22:13 Running command: mafft --auto --quiet pan_genome_sequences/Thexy_1581.fa > pan_genome_sequences/Thexy_1581.fa.aln\r\n"
     ]
    },
    {
     "name": "stdout",
     "output_type": "stream",
     "text": [
      "2023/04/04 13:22:15 Running command: mafft --auto --quiet pan_genome_sequences/Tthe_2121.fa > pan_genome_sequences/Tthe_2121.fa.aln\r\n"
     ]
    },
    {
     "name": "stdout",
     "output_type": "stream",
     "text": [
      "2023/04/04 13:22:16 Running command: mafft --auto --quiet pan_genome_sequences/Thethe_02173.fa > pan_genome_sequences/Thethe_02173.fa.aln\r\n"
     ]
    },
    {
     "name": "stdout",
     "output_type": "stream",
     "text": [
      "2023/04/04 13:22:15 Running command: mafft --auto --quiet pan_genome_sequences/Tthe_2236.fa > pan_genome_sequences/Tthe_2236.fa.aln\r\n"
     ]
    },
    {
     "name": "stdout",
     "output_type": "stream",
     "text": [
      "2023/04/04 13:22:14 Running command: mafft --auto --quiet pan_genome_sequences/Thexy_2317.fa > pan_genome_sequences/Thexy_2317.fa.aln\r\n"
     ]
    },
    {
     "name": "stdout",
     "output_type": "stream",
     "text": [
      "2023/04/04 13:22:16 Running command: mafft --auto --quiet pan_genome_sequences/Tsac_0198.fa > pan_genome_sequences/Tsac_0198.fa.aln\r\n"
     ]
    },
    {
     "name": "stdout",
     "output_type": "stream",
     "text": [
      "2023/04/04 13:22:16 Running command: mafft --auto --quiet pan_genome_sequences/Thert_00668.fa > pan_genome_sequences/Thert_00668.fa.aln\r\n"
     ]
    },
    {
     "name": "stdout",
     "output_type": "stream",
     "text": [
      "2023/04/04 13:22:17 Running command: mafft --auto --quiet pan_genome_sequences/Tthe_1473.fa > pan_genome_sequences/Tthe_1473.fa.aln\r\n"
     ]
    },
    {
     "name": "stdout",
     "output_type": "stream",
     "text": [
      "2023/04/04 13:22:17 Running command: mafft --auto --quiet pan_genome_sequences/Thexy_0324.fa > pan_genome_sequences/Thexy_0324.fa.aln\r\n"
     ]
    },
    {
     "name": "stdout",
     "output_type": "stream",
     "text": [
      "2023/04/04 13:22:17 Running command: mafft --auto --quiet pan_genome_sequences/Tthe_0743.fa > pan_genome_sequences/Tthe_0743.fa.aln\r\n"
     ]
    },
    {
     "name": "stdout",
     "output_type": "stream",
     "text": [
      "2023/04/04 13:22:17 Running command: mafft --auto --quiet pan_genome_sequences/Tsac_1323.fa > pan_genome_sequences/Tsac_1323.fa.aln\r\n",
      "2023/04/04 13:22:17 Running command: mafft --auto --quiet pan_genome_sequences/Thethe_01260.fa > pan_genome_sequences/Thethe_01260.fa.aln\r\n"
     ]
    },
    {
     "name": "stdout",
     "output_type": "stream",
     "text": [
      "2023/04/04 13:22:18 Running command: mafft --auto --quiet pan_genome_sequences/Thert_03481.fa > pan_genome_sequences/Thert_03481.fa.aln\r\n"
     ]
    },
    {
     "name": "stdout",
     "output_type": "stream",
     "text": [
      "2023/04/04 13:22:18 Running command: mafft --auto --quiet pan_genome_sequences/Tthe_2175.fa > pan_genome_sequences/Tthe_2175.fa.aln\r\n"
     ]
    },
    {
     "name": "stdout",
     "output_type": "stream",
     "text": [
      "2023/04/04 13:22:18 Running command: mafft --auto --quiet pan_genome_sequences/Thexy_0360.fa > pan_genome_sequences/Thexy_0360.fa.aln\r\n"
     ]
    },
    {
     "name": "stdout",
     "output_type": "stream",
     "text": [
      "2023/04/04 13:22:19 Running command: mafft --auto --quiet pan_genome_sequences/Thexy_0157.fa > pan_genome_sequences/Thexy_0157.fa.aln\r\n"
     ]
    },
    {
     "name": "stdout",
     "output_type": "stream",
     "text": [
      "2023/04/04 13:22:19 Running command: mafft --auto --quiet pan_genome_sequences/Thethe_00480.fa > pan_genome_sequences/Thethe_00480.fa.aln\r\n"
     ]
    },
    {
     "name": "stdout",
     "output_type": "stream",
     "text": [
      "2023/04/04 13:22:18 Running command: mafft --auto --quiet pan_genome_sequences/Tthe_1267.fa > pan_genome_sequences/Tthe_1267.fa.aln\r\n"
     ]
    },
    {
     "name": "stdout",
     "output_type": "stream",
     "text": [
      "2023/04/04 13:22:19 Running command: mafft --auto --quiet pan_genome_sequences/Tsac_0736.fa > pan_genome_sequences/Tsac_0736.fa.aln\r\n",
      "2023/04/04 13:22:19 Running command: mafft --auto --quiet pan_genome_sequences/Tthe_1767.fa > pan_genome_sequences/Tthe_1767.fa.aln\r\n"
     ]
    },
    {
     "name": "stdout",
     "output_type": "stream",
     "text": [
      "2023/04/04 13:22:20 Running command: mafft --auto --quiet pan_genome_sequences/Thethe_00065.fa > pan_genome_sequences/Thethe_00065.fa.aln\r\n"
     ]
    },
    {
     "name": "stdout",
     "output_type": "stream",
     "text": [
      "2023/04/04 13:22:20 Running command: mafft --auto --quiet pan_genome_sequences/Thert_02763.fa > pan_genome_sequences/Thert_02763.fa.aln\r\n"
     ]
    },
    {
     "name": "stdout",
     "output_type": "stream",
     "text": [
      "2023/04/04 13:22:21 Running command: mafft --auto --quiet pan_genome_sequences/Tsac_1778.fa > pan_genome_sequences/Tsac_1778.fa.aln\r\n"
     ]
    },
    {
     "name": "stdout",
     "output_type": "stream",
     "text": [
      "2023/04/04 13:22:21 Running command: mafft --auto --quiet pan_genome_sequences/Tthe_0349.fa > pan_genome_sequences/Tthe_0349.fa.aln\r\n"
     ]
    },
    {
     "name": "stdout",
     "output_type": "stream",
     "text": [
      "2023/04/04 13:22:18 Running command: mafft --auto --quiet pan_genome_sequences/Tsac_2038.fa > pan_genome_sequences/Tsac_2038.fa.aln\r\n",
      "2023/04/04 13:22:21 Running command: mafft --auto --quiet pan_genome_sequences/Tsac_0731.fa > pan_genome_sequences/Tsac_0731.fa.aln\r\n"
     ]
    },
    {
     "name": "stdout",
     "output_type": "stream",
     "text": [
      "2023/04/04 13:22:21 Running command: mafft --auto --quiet pan_genome_sequences/Thethe_02040.fa > pan_genome_sequences/Thethe_02040.fa.aln\r\n"
     ]
    },
    {
     "name": "stdout",
     "output_type": "stream",
     "text": [
      "2023/04/04 13:22:23 Running command: mafft --auto --quiet pan_genome_sequences/Tthe_1803.fa > pan_genome_sequences/Tthe_1803.fa.aln\r\n"
     ]
    },
    {
     "name": "stdout",
     "output_type": "stream",
     "text": [
      "2023/04/04 13:22:22 Running command: mafft --auto --quiet pan_genome_sequences/Tthe_0027.fa > pan_genome_sequences/Tthe_0027.fa.aln\r\n"
     ]
    },
    {
     "name": "stdout",
     "output_type": "stream",
     "text": [
      "2023/04/04 13:22:24 Running command: mafft --auto --quiet pan_genome_sequences/Thert_01353.fa > pan_genome_sequences/Thert_01353.fa.aln\r\n"
     ]
    },
    {
     "name": "stdout",
     "output_type": "stream",
     "text": [
      "2023/04/04 13:22:24 Running command: mafft --auto --quiet pan_genome_sequences/Thert_00909.fa > pan_genome_sequences/Thert_00909.fa.aln\r\n"
     ]
    },
    {
     "name": "stdout",
     "output_type": "stream",
     "text": [
      "2023/04/04 13:22:22 Running command: mafft --auto --quiet pan_genome_sequences/Tsac_0752.fa > pan_genome_sequences/Tsac_0752.fa.aln\r\n"
     ]
    },
    {
     "name": "stdout",
     "output_type": "stream",
     "text": [
      "2023/04/04 13:22:24 Running command: mafft --auto --quiet pan_genome_sequences/Thert_01674.fa > pan_genome_sequences/Thert_01674.fa.aln\r\n"
     ]
    },
    {
     "name": "stdout",
     "output_type": "stream",
     "text": [
      "2023/04/04 13:22:24 Running command: mafft --auto --quiet pan_genome_sequences/Thert_02176.fa > pan_genome_sequences/Thert_02176.fa.aln\r\n"
     ]
    },
    {
     "name": "stdout",
     "output_type": "stream",
     "text": [
      "2023/04/04 13:22:23 Running command: mafft --auto --quiet pan_genome_sequences/Tthe_1186.fa > pan_genome_sequences/Tthe_1186.fa.aln\r\n"
     ]
    },
    {
     "name": "stdout",
     "output_type": "stream",
     "text": [
      "2023/04/04 13:22:25 Running command: mafft --auto --quiet pan_genome_sequences/Thethe_01498.fa > pan_genome_sequences/Thethe_01498.fa.aln\r\n",
      "2023/04/04 13:22:24 Running command: mafft --auto --quiet pan_genome_sequences/Thert_00424.fa > pan_genome_sequences/Thert_00424.fa.aln\r\n"
     ]
    },
    {
     "name": "stdout",
     "output_type": "stream",
     "text": [
      "2023/04/04 13:22:25 Running command: mafft --auto --quiet pan_genome_sequences/Tthe_2305.fa > pan_genome_sequences/Tthe_2305.fa.aln\r\n"
     ]
    },
    {
     "name": "stdout",
     "output_type": "stream",
     "text": [
      "2023/04/04 13:22:25 Running command: mafft --auto --quiet pan_genome_sequences/Thexy_0988.fa > pan_genome_sequences/Thexy_0988.fa.aln\r\n"
     ]
    },
    {
     "name": "stdout",
     "output_type": "stream",
     "text": [
      "2023/04/04 13:22:26 Running command: mafft --auto --quiet pan_genome_sequences/Tthe_0427.fa > pan_genome_sequences/Tthe_0427.fa.aln\r\n"
     ]
    },
    {
     "name": "stdout",
     "output_type": "stream",
     "text": [
      "2023/04/04 13:22:26 Running command: mafft --auto --quiet pan_genome_sequences/gluF.fa > pan_genome_sequences/gluF.fa.aln\r\n"
     ]
    },
    {
     "name": "stdout",
     "output_type": "stream",
     "text": [
      "2023/04/04 13:22:27 Running command: mafft --auto --quiet pan_genome_sequences/Thexy_1571.fa > pan_genome_sequences/Thexy_1571.fa.aln\r\n"
     ]
    },
    {
     "name": "stdout",
     "output_type": "stream",
     "text": [
      "2023/04/04 13:22:26 Running command: mafft --auto --quiet pan_genome_sequences/Thethe_01286.fa > pan_genome_sequences/Thethe_01286.fa.aln\r\n"
     ]
    },
    {
     "name": "stdout",
     "output_type": "stream",
     "text": [
      "2023/04/04 13:22:27 Running command: mafft --auto --quiet pan_genome_sequences/Thethe_01329.fa > pan_genome_sequences/Thethe_01329.fa.aln\r\n"
     ]
    },
    {
     "name": "stdout",
     "output_type": "stream",
     "text": [
      "2023/04/04 13:22:27 Running command: mafft --auto --quiet pan_genome_sequences/Tsac_1527.fa > pan_genome_sequences/Tsac_1527.fa.aln\r\n"
     ]
    },
    {
     "name": "stdout",
     "output_type": "stream",
     "text": [
      "2023/04/04 13:22:26 Running command: mafft --auto --quiet pan_genome_sequences/Thert_01501.fa > pan_genome_sequences/Thert_01501.fa.aln\r\n"
     ]
    },
    {
     "name": "stdout",
     "output_type": "stream",
     "text": [
      "2023/04/04 13:22:27 Running command: mafft --auto --quiet pan_genome_sequences/Thexy_2295.fa > pan_genome_sequences/Thexy_2295.fa.aln\r\n"
     ]
    },
    {
     "name": "stdout",
     "output_type": "stream",
     "text": [
      "2023/04/04 13:22:28 Running command: mafft --auto --quiet pan_genome_sequences/Tsac_0954.fa > pan_genome_sequences/Tsac_0954.fa.aln\r\n"
     ]
    },
    {
     "name": "stdout",
     "output_type": "stream",
     "text": [
      "2023/04/04 13:22:30 Running command: mafft --auto --quiet pan_genome_sequences/Tsac_1794.fa > pan_genome_sequences/Tsac_1794.fa.aln\r\n"
     ]
    },
    {
     "name": "stdout",
     "output_type": "stream",
     "text": [
      "2023/04/04 13:22:29 Running command: mafft --auto --quiet pan_genome_sequences/Thethe_02165.fa > pan_genome_sequences/Thethe_02165.fa.aln\r\n"
     ]
    },
    {
     "name": "stdout",
     "output_type": "stream",
     "text": [
      "2023/04/04 13:22:30 Running command: mafft --auto --quiet pan_genome_sequences/Thexy_0516.fa > pan_genome_sequences/Thexy_0516.fa.aln\r\n"
     ]
    },
    {
     "name": "stdout",
     "output_type": "stream",
     "text": [
      "2023/04/04 13:22:29 Running command: mafft --auto --quiet pan_genome_sequences/Thert_02670.fa > pan_genome_sequences/Thert_02670.fa.aln\r\n"
     ]
    },
    {
     "name": "stdout",
     "output_type": "stream",
     "text": [
      "2023/04/04 13:22:30 Running command: mafft --auto --quiet pan_genome_sequences/Tthe_1757.fa > pan_genome_sequences/Tthe_1757.fa.aln\r\n"
     ]
    },
    {
     "name": "stdout",
     "output_type": "stream",
     "text": [
      "2023/04/04 13:22:29 Running command: mafft --auto --quiet pan_genome_sequences/Thert_00605.fa > pan_genome_sequences/Thert_00605.fa.aln\r\n"
     ]
    },
    {
     "name": "stdout",
     "output_type": "stream",
     "text": [
      "2023/04/04 13:22:27 Running command: mafft --auto --quiet pan_genome_sequences/Tsac_2632.fa > pan_genome_sequences/Tsac_2632.fa.aln\r\n"
     ]
    },
    {
     "name": "stdout",
     "output_type": "stream",
     "text": [
      "2023/04/04 13:22:31 Running command: mafft --auto --quiet pan_genome_sequences/Thexy_1656.fa > pan_genome_sequences/Thexy_1656.fa.aln\r\n"
     ]
    },
    {
     "name": "stdout",
     "output_type": "stream",
     "text": [
      "2023/04/04 13:22:32 Running command: mafft --auto --quiet pan_genome_sequences/Thethe_01474.fa > pan_genome_sequences/Thethe_01474.fa.aln\r\n"
     ]
    },
    {
     "name": "stdout",
     "output_type": "stream",
     "text": [
      "2023/04/04 13:22:32 Running command: mafft --auto --quiet pan_genome_sequences/Tthe_0970.fa > pan_genome_sequences/Tthe_0970.fa.aln\r\n"
     ]
    },
    {
     "name": "stdout",
     "output_type": "stream",
     "text": [
      "2023/04/04 13:22:32 Running command: mafft --auto --quiet pan_genome_sequences/Tsac_2116.fa > pan_genome_sequences/Tsac_2116.fa.aln\r\n"
     ]
    },
    {
     "name": "stdout",
     "output_type": "stream",
     "text": [
      "2023/04/04 13:22:32 Running command: mafft --auto --quiet pan_genome_sequences/Thethe_01347.fa > pan_genome_sequences/Thethe_01347.fa.aln\r\n"
     ]
    },
    {
     "name": "stdout",
     "output_type": "stream",
     "text": [
      "2023/04/04 13:22:32 Running command: mafft --auto --quiet pan_genome_sequences/Thert_01340.fa > pan_genome_sequences/Thert_01340.fa.aln\r\n"
     ]
    },
    {
     "name": "stdout",
     "output_type": "stream",
     "text": [
      "2023/04/04 13:22:33 Running command: mafft --auto --quiet pan_genome_sequences/Thexy_0348.fa > pan_genome_sequences/Thexy_0348.fa.aln\r\n"
     ]
    },
    {
     "name": "stdout",
     "output_type": "stream",
     "text": [
      "2023/04/04 13:22:33 Running command: mafft --auto --quiet pan_genome_sequences/Thexy_1502.fa > pan_genome_sequences/Thexy_1502.fa.aln\r\n"
     ]
    },
    {
     "name": "stdout",
     "output_type": "stream",
     "text": [
      "2023/04/04 13:22:32 Running command: mafft --auto --quiet pan_genome_sequences/Thert_02265.fa > pan_genome_sequences/Thert_02265.fa.aln\r\n"
     ]
    },
    {
     "name": "stdout",
     "output_type": "stream",
     "text": [
      "2023/04/04 13:22:33 Running command: mafft --auto --quiet pan_genome_sequences/Thethe_00829.fa > pan_genome_sequences/Thethe_00829.fa.aln\r\n"
     ]
    },
    {
     "name": "stdout",
     "output_type": "stream",
     "text": [
      "2023/04/04 13:22:33 Running command: mafft --auto --quiet pan_genome_sequences/Thexy_2269.fa > pan_genome_sequences/Thexy_2269.fa.aln\r\n"
     ]
    },
    {
     "name": "stdout",
     "output_type": "stream",
     "text": [
      "2023/04/04 13:22:34 Running command: mafft --auto --quiet pan_genome_sequences/Thexy_1943.fa > pan_genome_sequences/Thexy_1943.fa.aln\r\n",
      "2023/04/04 13:22:35 Running command: mafft --auto --quiet pan_genome_sequences/Tsac_1866.fa > pan_genome_sequences/Tsac_1866.fa.aln\r\n"
     ]
    },
    {
     "name": "stdout",
     "output_type": "stream",
     "text": [
      "2023/04/04 13:22:34 Running command: mafft --auto --quiet pan_genome_sequences/Tsac_2062.fa > pan_genome_sequences/Tsac_2062.fa.aln\r\n"
     ]
    },
    {
     "name": "stdout",
     "output_type": "stream",
     "text": [
      "2023/04/04 13:22:36 Running command: mafft --auto --quiet pan_genome_sequences/Tthe_2586.fa > pan_genome_sequences/Tthe_2586.fa.aln\r\n"
     ]
    },
    {
     "name": "stdout",
     "output_type": "stream",
     "text": [
      "2023/04/04 13:22:36 Running command: mafft --auto --quiet pan_genome_sequences/Thexy_0161.fa > pan_genome_sequences/Thexy_0161.fa.aln\r\n"
     ]
    },
    {
     "name": "stdout",
     "output_type": "stream",
     "text": [
      "2023/04/04 13:22:36 Running command: mafft --auto --quiet pan_genome_sequences/Thexy_0803.fa > pan_genome_sequences/Thexy_0803.fa.aln\r\n"
     ]
    },
    {
     "name": "stdout",
     "output_type": "stream",
     "text": [
      "2023/04/04 13:22:36 Running command: mafft --auto --quiet pan_genome_sequences/Thert_01887.fa > pan_genome_sequences/Thert_01887.fa.aln\r\n"
     ]
    },
    {
     "name": "stdout",
     "output_type": "stream",
     "text": [
      "2023/04/04 13:22:36 Running command: mafft --auto --quiet pan_genome_sequences/Thert_00039.fa > pan_genome_sequences/Thert_00039.fa.aln\r\n"
     ]
    },
    {
     "name": "stdout",
     "output_type": "stream",
     "text": [
      "2023/04/04 13:22:37 Running command: mafft --auto --quiet pan_genome_sequences/Thert_02758.fa > pan_genome_sequences/Thert_02758.fa.aln\r\n"
     ]
    },
    {
     "name": "stdout",
     "output_type": "stream",
     "text": [
      "2023/04/04 13:22:38 Running command: mafft --auto --quiet pan_genome_sequences/Thethe_01282.fa > pan_genome_sequences/Thethe_01282.fa.aln\r\n"
     ]
    },
    {
     "name": "stdout",
     "output_type": "stream",
     "text": [
      "2023/04/04 13:22:37 Running command: mafft --auto --quiet pan_genome_sequences/Thexy_0707.fa > pan_genome_sequences/Thexy_0707.fa.aln\r\n"
     ]
    },
    {
     "name": "stdout",
     "output_type": "stream",
     "text": [
      "2023/04/04 13:22:38 Running command: mafft --auto --quiet pan_genome_sequences/Thexy_0317.fa > pan_genome_sequences/Thexy_0317.fa.aln\r\n"
     ]
    },
    {
     "name": "stdout",
     "output_type": "stream",
     "text": [
      "2023/04/04 13:22:38 Running command: mafft --auto --quiet pan_genome_sequences/Thethe_00328.fa > pan_genome_sequences/Thethe_00328.fa.aln\r\n"
     ]
    },
    {
     "name": "stdout",
     "output_type": "stream",
     "text": [
      "2023/04/04 13:22:38 Running command: mafft --auto --quiet pan_genome_sequences/Thethe_01232.fa > pan_genome_sequences/Thethe_01232.fa.aln\r\n"
     ]
    },
    {
     "name": "stdout",
     "output_type": "stream",
     "text": [
      "2023/04/04 13:22:38 Running command: mafft --auto --quiet pan_genome_sequences/Tthe_0770.fa > pan_genome_sequences/Tthe_0770.fa.aln\r\n"
     ]
    },
    {
     "name": "stdout",
     "output_type": "stream",
     "text": [
      "2023/04/04 13:22:39 Running command: mafft --auto --quiet pan_genome_sequences/Tthe_0647.fa > pan_genome_sequences/Tthe_0647.fa.aln\r\n"
     ]
    },
    {
     "name": "stdout",
     "output_type": "stream",
     "text": [
      "2023/04/04 13:22:35 Running command: mafft --auto --quiet pan_genome_sequences/Tthe_0646.fa > pan_genome_sequences/Tthe_0646.fa.aln\r\n"
     ]
    },
    {
     "name": "stdout",
     "output_type": "stream",
     "text": [
      "2023/04/04 13:22:39 Running command: mafft --auto --quiet pan_genome_sequences/Thethe_00390.fa > pan_genome_sequences/Thethe_00390.fa.aln\r\n"
     ]
    },
    {
     "name": "stdout",
     "output_type": "stream",
     "text": [
      "2023/04/04 13:22:40 Running command: mafft --auto --quiet pan_genome_sequences/Tthe_2057.fa > pan_genome_sequences/Tthe_2057.fa.aln\r\n"
     ]
    },
    {
     "name": "stdout",
     "output_type": "stream",
     "text": [
      "2023/04/04 13:22:40 Running command: mafft --auto --quiet pan_genome_sequences/Thexy_2200.fa > pan_genome_sequences/Thexy_2200.fa.aln\r\n"
     ]
    },
    {
     "name": "stdout",
     "output_type": "stream",
     "text": [
      "2023/04/04 13:22:40 Running command: mafft --auto --quiet pan_genome_sequences/Tsac_1687.fa > pan_genome_sequences/Tsac_1687.fa.aln\r\n"
     ]
    },
    {
     "name": "stdout",
     "output_type": "stream",
     "text": [
      "2023/04/04 13:22:40 Running command: mafft --auto --quiet pan_genome_sequences/Tthe_1422.fa > pan_genome_sequences/Tthe_1422.fa.aln\r\n"
     ]
    },
    {
     "name": "stdout",
     "output_type": "stream",
     "text": [
      "2023/04/04 13:22:40 Running command: mafft --auto --quiet pan_genome_sequences/Tthe_0260.fa > pan_genome_sequences/Tthe_0260.fa.aln\r\n"
     ]
    },
    {
     "name": "stdout",
     "output_type": "stream",
     "text": [
      "2023/04/04 13:22:40 Running command: mafft --auto --quiet pan_genome_sequences/Tsac_1425.fa > pan_genome_sequences/Tsac_1425.fa.aln\r\n"
     ]
    },
    {
     "name": "stdout",
     "output_type": "stream",
     "text": [
      "2023/04/04 13:22:41 Running command: mafft --auto --quiet pan_genome_sequences/Tthe_1876.fa > pan_genome_sequences/Tthe_1876.fa.aln\r\n"
     ]
    },
    {
     "name": "stdout",
     "output_type": "stream",
     "text": [
      "2023/04/04 13:22:41 Running command: mafft --auto --quiet pan_genome_sequences/Thethe_00402.fa > pan_genome_sequences/Thethe_00402.fa.aln\r\n"
     ]
    },
    {
     "name": "stdout",
     "output_type": "stream",
     "text": [
      "2023/04/04 13:22:41 Running command: mafft --auto --quiet pan_genome_sequences/Thert_01231.fa > pan_genome_sequences/Thert_01231.fa.aln\r\n"
     ]
    },
    {
     "name": "stdout",
     "output_type": "stream",
     "text": [
      "2023/04/04 13:22:41 Running command: mafft --auto --quiet pan_genome_sequences/Thethe_00948.fa > pan_genome_sequences/Thethe_00948.fa.aln\r\n"
     ]
    },
    {
     "name": "stdout",
     "output_type": "stream",
     "text": [
      "2023/04/04 13:22:41 Running command: mafft --auto --quiet pan_genome_sequences/Thert_01889.fa > pan_genome_sequences/Thert_01889.fa.aln\r\n"
     ]
    },
    {
     "name": "stdout",
     "output_type": "stream",
     "text": [
      "2023/04/04 13:22:42 Running command: mafft --auto --quiet pan_genome_sequences/Thexy_0541.fa > pan_genome_sequences/Thexy_0541.fa.aln\r\n"
     ]
    }
   ],
   "source": [
    "!roary -f gff_files/roary -p 8 -e -n -v gff_files/*.gff "
   ]
  },
  {
   "cell_type": "code",
   "execution_count": 20,
   "id": "39691575",
   "metadata": {
    "execution": {
     "iopub.execute_input": "2023-04-04T13:22:44.994168Z",
     "iopub.status.busy": "2023-04-04T13:22:44.993922Z",
     "iopub.status.idle": "2023-04-04T13:22:55.114343Z",
     "shell.execute_reply": "2023-04-04T13:22:55.112776Z"
    },
    "papermill": {
     "duration": 10.149718,
     "end_time": "2023-04-04T13:22:55.117274",
     "exception": false,
     "start_time": "2023-04-04T13:22:44.967556",
     "status": "completed"
    },
    "tags": []
   },
   "outputs": [
    {
     "name": "stdout",
     "output_type": "stream",
     "text": [
      "0.00% \r",
      "20.00% \r",
      "40.00% \r",
      "100.00% \r"
     ]
    },
    {
     "name": "stdout",
     "output_type": "stream",
     "text": [
      "/home/infosebi/Documents/Programmieren/MastersProject/thermoanaerobacterium/gff_files/roary/../../../roary_plots.py:131: MatplotlibDeprecationWarning: Auto-removal of overlapping axes is deprecated since 3.6 and will be removed two minor releases later; explicitly call ax.remove() as needed.\r\n",
      "  ax=plt.subplot2grid((1,40), (0, 0), colspan=10, facecolor='white')\r\n"
     ]
    }
   ],
   "source": [
    "os.chdir(pwd + \"/gff_files/roary\")\n",
    "!bioconvert fasta2clustal core_gene_alignment.aln allignment_clustal.aln\n",
    "!bioconvert clustal2stockholm allignment_clustal.aln allignment_stockholm.sth\n",
    "!rapidnj allignment_stockholm.sth > tree.nwk\n",
    "!python ../../../roary_plots.py tree.nwk gene_presence_absence.csv"
   ]
  },
  {
   "cell_type": "code",
   "execution_count": 21,
   "id": "77f5a688",
   "metadata": {
    "execution": {
     "iopub.execute_input": "2023-04-04T13:22:55.175727Z",
     "iopub.status.busy": "2023-04-04T13:22:55.175494Z",
     "iopub.status.idle": "2023-04-04T13:22:55.190826Z",
     "shell.execute_reply": "2023-04-04T13:22:55.190130Z"
    },
    "papermill": {
     "duration": 0.041181,
     "end_time": "2023-04-04T13:22:55.192867",
     "exception": false,
     "start_time": "2023-04-04T13:22:55.151686",
     "status": "completed"
    },
    "tags": []
   },
   "outputs": [
    {
     "data": {
      "image/png": "[encoded data removed]",
      "text/plain": [
       "<IPython.core.display.Image object>"
      ]
     },
     "metadata": {},
     "output_type": "display_data"
    },
    {
     "name": "stdout",
     "output_type": "stream",
     "text": [
      "pangenome_matrix.png\n"
     ]
    },
    {
     "data": {
      "image/png": "[encoded data removed]",
      "text/plain": [
       "<IPython.core.display.Image object>"
      ]
     },
     "metadata": {},
     "output_type": "display_data"
    },
    {
     "name": "stdout",
     "output_type": "stream",
     "text": [
      "pangenome_frequency.png\n"
     ]
    },
    {
     "data": {
      "image/png": "[encoded data removed]",
      "text/plain": [
       "<IPython.core.display.Image object>"
      ]
     },
     "metadata": {},
     "output_type": "display_data"
    },
    {
     "name": "stdout",
     "output_type": "stream",
     "text": [
      "pangenome_pie.png\n"
     ]
    }
   ],
   "source": [
    "os.chdir(pwd + \"/gff_files/roary\")\n",
    "for imageName in glob('*.png'):\n",
    "    display(Image(filename=imageName))\n",
    "    print(imageName)\n",
    "os.chdir(pwd)"
   ]
  },
  {
   "cell_type": "code",
   "execution_count": 22,
   "id": "0b4e3fd8",
   "metadata": {
    "execution": {
     "iopub.execute_input": "2023-04-04T13:22:55.255581Z",
     "iopub.status.busy": "2023-04-04T13:22:55.255295Z",
     "iopub.status.idle": "2023-04-04T13:22:55.626895Z",
     "shell.execute_reply": "2023-04-04T13:22:55.625361Z"
    },
    "papermill": {
     "duration": 0.408257,
     "end_time": "2023-04-04T13:22:55.629729",
     "exception": false,
     "start_time": "2023-04-04T13:22:55.221472",
     "status": "completed"
    },
    "tags": []
   },
   "outputs": [],
   "source": [
    "subprocess.run(f\"rm {taxon_file}.json\"\"\", shell=True)\n",
    "!rm accession_list.txt\n",
    "!rm -r info_table.tsv\n",
    "#!rm -r gff_files/*\n",
    "#!rm annotated_genomes/*\n",
    "subprocess.run(f\"rm {taxon_file}.zip\"\"\", shell=True)\n",
    "!rm README.md"
   ]
  },
  {
   "cell_type": "code",
   "execution_count": 23,
   "id": "4e4b43ef",
   "metadata": {
    "execution": {
     "iopub.execute_input": "2023-04-04T13:22:55.684397Z",
     "iopub.status.busy": "2023-04-04T13:22:55.684022Z",
     "iopub.status.idle": "2023-04-04T13:22:55.688120Z",
     "shell.execute_reply": "2023-04-04T13:22:55.687409Z"
    },
    "papermill": {
     "duration": 0.034944,
     "end_time": "2023-04-04T13:22:55.689616",
     "exception": false,
     "start_time": "2023-04-04T13:22:55.654672",
     "status": "completed"
    },
    "tags": []
   },
   "outputs": [],
   "source": [
    "#criteria for genome selection to strict (assembly-source genbank)? draft sequence -> we do annotation right?\n",
    "#GenomeDiagramm library\n",
    "#conda the best way?\n",
    "#voila\n",
    "\n",
    "#is it possible to have interaction in jupyter notebook\n",
    "#circos (input-data?)\n",
    "# download blast - read up on algorithm\n",
    "#antismash\n",
    "\n",
    "\n",
    "#1.upload own genome data\n",
    "#if empty -> trna-scan, barrnap, prodigal (pcap includes them all)\n",
    "#anvio"
   ]
  }
 ],
 "metadata": {
  "celltoolbar": "Tags",
  "kernelspec": {
   "display_name": " roary",
   "language": "python",
   "name": "roary"
  },
  "language_info": {
   "codemirror_mode": {
    "name": "ipython",
    "version": 3
   },
   "file_extension": ".py",
   "mimetype": "text/x-python",
   "name": "python",
   "nbconvert_exporter": "python",
   "pygments_lexer": "ipython3",
   "version": "3.10.8"
  },
  "papermill": {
   "default_parameters": {},
   "duration": 959.116558,
   "end_time": "2023-04-04T13:22:58.340219",
   "environment_variables": {},
   "exception": null,
   "input_path": "/home/infosebi/Documents/Programmieren/MastersProject/MastersProject.ipynb",
   "output_path": "/home/infosebi/Documents/Programmieren/MastersProject/thermoanaerobacterium/thermoanaerobacterium_project.ipynb",
   "parameters": {
    "number_of_genomes": 5,
    "pwd": "/home/infosebi/Documents/Programmieren/MastersProject/thermoanaerobacterium",
    "taxon": "'Thermoanaerobacterium'"
   },
   "start_time": "2023-04-04T13:06:59.223661",
   "version": "2.4.0"
  }
 },
 "nbformat": 4,
 "nbformat_minor": 5
}