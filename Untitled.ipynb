{
 "cells": [
  {
   "cell_type": "code",
   "execution_count": 3,
   "id": "4d198cc3",
   "metadata": {},
   "outputs": [],
   "source": [
    "import param\n",
    "import panel as pn\n",
    "import pandas as pd\n",
    "import os\n",
    "from glob import glob\n",
    "#subprocess mess\n",
    "from pathlib import Path\n",
    "import numpy as np\n",
    "\n",
    "pn.extension()\n",
    "#pn.config.theme = 'dark'\n",
    "pipeline = pn.pipeline.Pipeline(debug=True)\n",
    "\n",
    "\n",
    "class Intro_stats(param.Parameterized):\n",
    "    def view(self):\n",
    "        return pn.Row()\n",
    "    def panel(self):\n",
    "        return self.view()\n",
    "    \n",
    "class Tree_viewer(param.Parameterized):\n",
    "    def view(self):\n",
    "        gspec = pn.GridSpec()\n",
    "\n",
    "        helper_df = pd.DataFrame.from_dict({'Name': ['Alice', 'Bob'],\n",
    "        'Age': [25, 30],\n",
    "        'City': ['New York', 'San Francisco']}, orient='index')\n",
    "        menu_df = pn.widgets.DataFrame(helper_df)\n",
    "        \n",
    "        str_tree_explanation = pn.pane.Str(\n",
    "            'Please select a cluster in the table \\non the left and click the \"Draw Tree\" \\nbutton to display the tree. \\nThe clusters are ordered in descending \\norder by their size',\n",
    "            styles={'font-size': '12pt'}\n",
    "        )\n",
    "        \n",
    "        gspec[:,   0  ]= menu_df\n",
    "\n",
    "        return pn.Row(menu_df) \n",
    "\n",
    "    def panel(self):\n",
    "        return self.view()\n",
    "    \n",
    "pipeline.add_stage('Introductionary Statistics', Intro_stats)\n",
    "pipeline.add_stage('Phyolgenetic Tree Viewer', Tree_viewer)\n",
    "\n",
    "pipeline.servable();"
   ]
  }
 ],
 "metadata": {
  "kernelspec": {
   "display_name": " roary",
   "language": "python",
   "name": "roary"
  },
  "language_info": {
   "codemirror_mode": {
    "name": "ipython",
    "version": 3
   },
   "file_extension": ".py",
   "mimetype": "text/x-python",
   "name": "python",
   "nbconvert_exporter": "python",
   "pygments_lexer": "ipython3",
   "version": "3.10.8"
  }
 },
 "nbformat": 4,
 "nbformat_minor": 5
}
