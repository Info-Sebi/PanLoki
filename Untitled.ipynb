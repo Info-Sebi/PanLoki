{
 "cells": [
  {
   "cell_type": "code",
   "execution_count": 28,
   "id": "2b92b646-f31b-4a14-9f9d-1bf01ee44758",
   "metadata": {},
   "outputs": [],
   "source": [
    "import param\n",
    "import panel as pn\n",
    "import subprocess\n",
    "import pandas as pd\n",
    "from Bio import SeqIO\n",
    "from io import StringIO\n",
    "import ray\n",
    "from subprocess import Popen, PIPE, run\n",
    "import os\n",
    "from Bio.Seq import Seq\n",
    "from Bio.SeqRecord import SeqRecord\n",
    "from Bio.SeqUtils import gc_fraction\n",
    "from glob import glob\n",
    "import matplotlib.pyplot as plt\n",
    "import collections\n",
    "#subprocess mess\n",
    "from pathlib import Path\n",
    "import numpy as np\n",
    "import shutil"
   ]
  },
  {
   "cell_type": "code",
   "execution_count": 32,
   "id": "011e5102-925b-46d3-924d-683134df00d3",
   "metadata": {},
   "outputs": [
    {
     "ename": "SyntaxError",
     "evalue": "unmatched ')' (983339496.py, line 116)",
     "output_type": "error",
     "traceback": [
      "\u001b[0;36m  Cell \u001b[0;32mIn[32], line 116\u001b[0;36m\u001b[0m\n\u001b[0;31m    floatpanel = pn.layout.FloatPanel( pn.Row(open_proj_name, open_proj_button)), name='Welcome', margin=20, config=config)\u001b[0m\n\u001b[0m                                                                                                                          ^\u001b[0m\n\u001b[0;31mSyntaxError\u001b[0m\u001b[0;31m:\u001b[0m unmatched ')'\n"
     ]
    }
   ],
   "source": [
    "pn.extension('floatpanel')\n",
    "\n",
    "\n",
    "def open_proj(event):\n",
    "    if os.path.exists(open_proj_name.value) and os.path.isdir(open_proj_name.value):\n",
    "        global project_folder\n",
    "        project_folder = open_proj_name.value\n",
    "        os.chdir(project_folder)\n",
    "        project_structure()\n",
    "        floatpanel.visible = False\n",
    "        sequence_df.value = pd.read_csv('sequence_stats.csv', index_col=0)\n",
    "        print(sequence_df.value)\n",
    "\n",
    "\n",
    "def project_structure():\n",
    "    mafft_folder=f\"{project_folder}/aligned\"\n",
    "    tree_folder=f\"{project_folder}/trees\"\n",
    "    if os.path.exists(mafft_folder) == False:\n",
    "        os.mkdir(os.path.join(project_folder, \"aligned\"))\n",
    "    if os.path.exists(tree_folder) == False:\n",
    "        os.mkdir(os.path.join(project_folder, \"trees\"))\n",
    "        \n",
    "open_proj_name = pn.widgets.TextInput(name='Project Path', placeholder='Enter path to existing project...')\n",
    "open_proj_button  = pn.widgets.Button(name='Open existing project', button_type='primary')\n",
    "\n",
    "open_proj_button.on_click(open_proj)\n",
    "\n",
    "config = {\"headerControls\": {\"close\": \"remove\", \"maximize\": \"remove\", \"normalize\": \"remove\", \"minimize\": \"remove\", \"smallify\": \"remove\"}}\n",
    "floatpanel = pn.layout.FloatPanel( pn.Row(open_proj_name, open_proj_button), name='Welcome', margin=20, config=config)\n",
    "\n",
    "sequence_df = pn.widgets.DataFrame(height=700, width=800)\n",
    "\n",
    "\n",
    "\n",
    "\n",
    "genome_interface = pn.Row(  pn.Column( pn.Row(sequence_df)))\n",
    "\n",
    "loading = pn.indicators.LoadingSpinner(value=False, name='', visible = False)\n",
    "\n",
    "gspec_spinner = pn.GridSpec()\n",
    "gspec_spinner[2,0:2] = loading\n",
    "\n",
    "gspec_genome = pn.GridSpec(height = 600)\n",
    "gspec_genome[0:2,   0:4  ] = genome_interface\n",
    "gspec_genome[4,   4] = gspec_spinner\n",
    "\n",
    "\n",
    "\n",
    "pn.Column(floatpanel, gspec_genome).servable()"
   ]
  },
  {
   "cell_type": "code",
   "execution_count": null,
   "id": "62426da5-ef5c-466c-81fa-b881a57ee04b",
   "metadata": {},
   "outputs": [],
   "source": []
  }
 ],
 "metadata": {
  "kernelspec": {
   "display_name": "Python 3 (ipykernel)",
   "language": "python",
   "name": "python3"
  },
  "language_info": {
   "codemirror_mode": {
    "name": "ipython",
    "version": 3
   },
   "file_extension": ".py",
   "mimetype": "text/x-python",
   "name": "python",
   "nbconvert_exporter": "python",
   "pygments_lexer": "ipython3",
   "version": "3.11.7"
  }
 },
 "nbformat": 4,
 "nbformat_minor": 5
}
